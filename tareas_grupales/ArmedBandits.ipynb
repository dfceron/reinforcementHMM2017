{
 "cells": [
  {
   "cell_type": "markdown",
   "metadata": {},
   "source": [
    "# Simple Action Selection vs Upper Confidence Bound Action Selection"
   ]
  },
  {
   "cell_type": "code",
   "execution_count": null,
   "metadata": {
    "collapsed": true
   },
   "outputs": [],
   "source": [
    "using Distributions\n",
    "using Gadfly\n",
    "using DataFrames\n"
   ]
  },
  {
   "cell_type": "markdown",
   "metadata": {},
   "source": [
    "Simple Action Selection:\n",
    "\n",
    "With probability $1 - \\varepsilon$:\n",
    "\n",
    "$$A_t ={arg\\,max}_{a} \\left[Q_t(a)\\right]$$\n",
    "\n",
    "Upper Confidence Bound Action Selection:\n",
    "\n",
    "$$A_t ={arg\\,max}_{a} \\left[Q_t(a) + c\\sqrt{\\frac{\\log{t}}{N_t(a)}} \\right]$$"
   ]
  },
  {
   "cell_type": "code",
   "execution_count": null,
   "metadata": {
    "collapsed": false
   },
   "outputs": [],
   "source": [
    "seed = 20"
   ]
  },
  {
   "cell_type": "code",
   "execution_count": null,
   "metadata": {
    "collapsed": false
   },
   "outputs": [],
   "source": [
    "n = 1000\n",
    "plot(\n",
    "    layer(x=1:n, y=8 * sqrt(log(1:n) / 1000), Geom.line, Theme(default_color=colorant\"red\")),\n",
    "    layer(x=1:n, y=16 * sqrt(log(1:n) / 1000), Geom.line, Theme(default_color=colorant\"green\")),\n",
    "    layer(x=1:n, y=32 * sqrt(log(1:n) / 1000), Geom.line, Theme(default_color=colorant\"blue\")),\n",
    ")\n",
    "  "
   ]
  },
  {
   "cell_type": "code",
   "execution_count": null,
   "metadata": {
    "collapsed": false
   },
   "outputs": [],
   "source": [
    "n = 1000\n",
    "plot(\n",
    "    layer(x=1:n, y=16 * sqrt(log(1:n) / 100), Geom.line, Theme(default_color=colorant\"red\")),\n",
    "    layer(x=1:n, y=16 * sqrt(log(1:n) / 1000), Geom.line, Theme(default_color=colorant\"green\")),\n",
    "    layer(x=1:n, y=16 * sqrt(log(1:n) / 10000), Geom.line, Theme(default_color=colorant\"blue\")),\n",
    ")"
   ]
  },
  {
   "cell_type": "code",
   "execution_count": null,
   "metadata": {
    "collapsed": false
   },
   "outputs": [],
   "source": [
    "n = 1000\n",
    "plot(\n",
    "    layer(x=1:n, y=8 * sqrt(log(1:n) / 100), Geom.line, Theme(default_color=colorant\"red\")),\n",
    "    layer(x=1:n, y=16 * sqrt(log(1:n) / 1000), Geom.line, Theme(default_color=colorant\"green\")),\n",
    "    layer(x=1:n, y=32 * sqrt(log(1:n) / 10000), Geom.line, Theme(default_color=colorant\"blue\")),\n",
    ")"
   ]
  },
  {
   "cell_type": "code",
   "execution_count": null,
   "metadata": {
    "collapsed": false
   },
   "outputs": [],
   "source": [
    "# Creates a random bandit.\n",
    "function create_bandit(mean, std)\n",
    "    f() = rand(Normal(mean, std))\n",
    "end\n",
    "# Returns an array containing the given number of random bandits\n",
    "function init_bandits(bandit_number)\n",
    "    buckets = []\n",
    "    for i = 1:bandit_number\n",
    "        push!(buckets, create_bandit(rand(10:100), rand(1:5)))\n",
    "    end\n",
    "    buckets\n",
    "end\n",
    "# Returns an array containing the indexes with the max value in the given array.\n",
    "function arg_max(array)\n",
    "    max = maximum(array)\n",
    "    indexes = []\n",
    "    for i = 1:length(array)\n",
    "        if max == array[i]\n",
    "            push!(indexes, i)\n",
    "        end\n",
    "    end\n",
    "    return indexes\n",
    "end\n",
    "# Returns an array containing the potential of each action using the Upper Confidence Bound Action Selection formula.\n",
    "function get_action_potential(Q, N, t, c=1)\n",
    "    size = length(Q)\n",
    "    potential = zeros(Float32, size)\n",
    "    for i = 1:size\n",
    "        if t > 0\n",
    "            if N[i] > 0\n",
    "                potential[i] = Q[i] + c * sqrt(log(t) / N[i])\n",
    "            else\n",
    "                potential[i] = Inf\n",
    "            end\n",
    "        end\n",
    "    end\n",
    "    return potential\n",
    "end\n",
    "# Returns a random element from the array.\n",
    "function get_random(array)\n",
    "   array[rand(1:length(array))] \n",
    "end\n",
    "# Returns a simple selection function with the given epsilon cut.\n",
    "function simple_selection_factory(epsilon)\n",
    "    f(Q, N, i) = if (rand() > epsilon) get_random(arg_max(Q)) else rand(1:length(Q)) end\n",
    "end\n",
    "# Returns a ucb selection function with the given exploration factor.\n",
    "function ucb_selection_factory(exploration)\n",
    "    f(Q, N, i) = get_random(arg_max(get_action_potential(Q, N, i, exploration)))\n",
    "end\n",
    "# This function runs the multi-armed bandits algorithm with the given selection function.\n",
    "function generic_bandits_algorithm(bandits, simulations, selection)\n",
    "    bandits_number = length(bandits)\n",
    "    N = zeros(Int, bandits_number)\n",
    "    Q = zeros(Float32, bandits_number)\n",
    "    reward_average = zeros(Float32, simulations)\n",
    "    for i = 1:simulations\n",
    "        A = selection(Q, N, i)\n",
    "        R = bandits[A]()\n",
    "        N[A] += 1\n",
    "        Q[A] = Q[A] + (R - Q[A]) / N[A]\n",
    "        if i > 1\n",
    "            reward_average[i] = reward_average[i - 1] + (R - reward_average[i - 1]) / i\n",
    "        else\n",
    "            reward_average[i] = R\n",
    "        end\n",
    "    end\n",
    "    return reward_average\n",
    "end\n",
    "# Decorator for the Simple Bandit Selection algoritm implementation.\n",
    "function simple_bandit_algorithm(bandits, simulations, epsilon)\n",
    "    return generic_bandits_algorithm(bandits, simulations, simple_selection_factory(epsilon))\n",
    "end\n",
    "# Decorator for the Upper Confidence Bound Action Selection algoritm implementation.\n",
    "function ucba_selection_algorithm(bandits, simulations, exploration)\n",
    "    return generic_bandits_algorithm(bandits, simulations, ucb_selection_factory(exploration))\n",
    "end"
   ]
  },
  {
   "cell_type": "code",
   "execution_count": null,
   "metadata": {
    "collapsed": false
   },
   "outputs": [],
   "source": [
    "srand(seed)\n",
    "simulations = 10 # try [10,100,1000,10000]\n",
    "number_of_bandits = 10\n",
    "bandits = init_bandits(number_of_bandits)\n",
    "\n",
    "x = 1:simulations\n",
    "df1 = DataFrame(x=x, y=simple_bandit_algorithm(bandits, simulations, 0.1), label=\"epsilon=0.1\")\n",
    "df2 = DataFrame(x=x, y=simple_bandit_algorithm(bandits, simulations, 0.01), label=\"epsilon=0.01\")\n",
    "df3 = DataFrame(x=x, y=simple_bandit_algorithm(bandits, simulations, 0), label=\"epsilon=0\")\n",
    "df4 = DataFrame(x=x, y=ucba_selection_algorithm(bandits, simulations, 3), label=\"c=3\")\n",
    "\n",
    "df = vcat(df1, df2, df3, df4)\n",
    "\n",
    "p = plot(df, x=\"x\", y=\"y\", color=\"label\", Geom.line,\n",
    "         Scale.color_discrete_manual(\"blue\",\"red\", \"black\", \"green\"))\n",
    "\n"
   ]
  },
  {
   "cell_type": "code",
   "execution_count": null,
   "metadata": {
    "collapsed": false
   },
   "outputs": [],
   "source": [
    "srand(seed)\n",
    "simulations = 10 # try [10,100,1000,10000]\n",
    "range = []\n",
    "for i = -6:5\n",
    "    push!(range, 2.0^i)\n",
    "end\n",
    "simple = []\n",
    "ucb = []\n",
    "for i=1:length(range)\n",
    "    if(range[i] < 1)\n",
    "        push!(simple, simple_bandit_algorithm(bandits, simulations, range[i])[simulations])\n",
    "    end\n",
    "end\n",
    "for i=1:length(range)\n",
    "    if(range[i] > 1)\n",
    "        push!(ucb, ucba_selection_algorithm(bandits, simulations, range[i])[simulations])\n",
    "    end\n",
    "end\n",
    "simple_df = DataFrame(x=range[1:length(simple)], y=simple, label=\"simple bandit\")\n",
    "ucb_df = DataFrame(x=range[length(range)-length(ucb):length(range)-1], y=ucb, label=\"ucba selection\")\n",
    "df = vcat(simple_df, ucb_df)\n",
    "p = plot(df, x=\"x\", y=\"y\", color=\"label\", Geom.line,Scale.x_log2(minvalue=5))"
   ]
  },
  {
   "cell_type": "code",
   "execution_count": null,
   "metadata": {
    "collapsed": true
   },
   "outputs": [],
   "source": []
  }
 ],
 "metadata": {
  "kernelspec": {
   "display_name": "Julia 0.5.0",
   "language": "julia",
   "name": "julia-0.5"
  },
  "language_info": {
   "file_extension": ".jl",
   "mimetype": "application/julia",
   "name": "julia",
   "version": "0.5.0"
  }
 },
 "nbformat": 4,
 "nbformat_minor": 1
}
