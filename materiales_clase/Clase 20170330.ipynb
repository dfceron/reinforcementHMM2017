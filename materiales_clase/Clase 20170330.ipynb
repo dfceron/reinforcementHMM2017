{
 "cells": [
  {
   "cell_type": "code",
   "execution_count": 13,
   "metadata": {
    "collapsed": true
   },
   "outputs": [],
   "source": [
    "workspace()\n",
    "include(\"PixelArts/PixelArts.jl\")\n",
    "include(\"RL/RL.jl\")\n",
    "using RL\n",
    "using PixelArts"
   ]
  },
  {
   "cell_type": "code",
   "execution_count": 14,
   "metadata": {
    "collapsed": false
   },
   "outputs": [
    {
     "data": {
      "text/plain": [
       "(RL.RLEnv(Array{Int64,1}[[1, 1], [1, 2], [1, 3], [1, 4], [1, 5], [1, 6], [1, 7], [1, 8], [1, 9], [1, 10]  …  [18, 8], [18, 9], [18, 10], [18, 11], [18, 12], [18, 13], [18, 14], [18, 15], [18, 16], [18, 17]], RL.actions, RL.step, RL.task_end), String[\"green\" \"green\" … \"green\" \"green\"; \"green\" \"green\" … \"green\" \"green\"; … ; \"green\" \"green\" … \"green\" \"green\"; \"green\" \"green\" … \"green\" \"green\"])"
      ]
     },
     "execution_count": 14,
     "metadata": {},
     "output_type": "execute_result"
    }
   ],
   "source": [
    "right_turn, colour_array = get_env(\"right_turn\")"
   ]
  },
  {
   "cell_type": "code",
   "execution_count": 15,
   "metadata": {
    "collapsed": false
   },
   "outputs": [
    {
     "name": "stdout",
     "output_type": "stream",
     "text": [
      "Symbol[:states, :actions, :step, :task_end]\n",
      "Symbol[:policy, :state]\n"
     ]
    }
   ],
   "source": [
    "println(fieldnames(RLEnv))\n",
    "println(fieldnames(RLAgent))"
   ]
  },
  {
   "cell_type": "code",
   "execution_count": 16,
   "metadata": {
    "collapsed": false
   },
   "outputs": [
    {
     "name": "stdout",
     "output_type": "stream",
     "text": [
      "States Array{Int64,1}[[1, 1], [1, 2], [1, 3], [1, 4], [1, 5], [1, 6], [1, 7], [1, 8], [1, 9], [1, 10], [1, 11], [1, 12], [1, 13], [1, 14], [1, 15], [1, 16], [1, 17], [2, 1], [2, 2], [2, 3], [2, 4], [2, 5], [2, 6], [2, 7], [2, 8], [2, 9], [2, 10], [2, 11], [2, 12], [2, 13], [2, 14], [2, 15], [2, 16], [2, 17], [3, 1], [3, 2], [3, 3], [3, 4], [3, 5], [3, 6], [3, 7], [3, 8], [3, 9], [3, 10], [3, 11], [3, 12], [3, 13], [3, 14], [3, 15], [3, 16], [3, 17], [4, 1], [4, 2], [4, 3], [4, 4], [4, 5], [4, 6], [4, 7], [4, 8], [4, 9], [4, 10], [4, 11], [4, 12], [4, 13], [4, 14], [4, 15], [4, 16], [4, 17], [5, 1], [5, 2], [5, 3], [5, 4], [5, 5], [5, 6], [5, 7], [5, 8], [5, 9], [5, 10], [5, 11], [5, 12], [5, 13], [5, 14], [5, 15], [5, 16], [5, 17], [6, 1], [6, 2], [6, 3], [6, 4], [6, 5], [6, 6], [6, 7], [6, 8], [6, 9], [6, 10], [6, 11], [6, 12], [6, 13], [6, 14], [6, 15], [6, 16], [6, 17], [7, 1], [7, 2], [7, 3], [7, 4], [7, 5], [7, 6], [7, 7], [7, 8], [7, 9], [7, 10], [7, 11], [7, 12], [7, 13], [7, 14], [7, 15], [7, 16], [7, 17], [8, 1], [8, 2], [8, 3], [8, 4], [8, 5], [8, 6], [8, 7], [8, 8], [8, 9], [8, 10], [8, 11], [8, 12], [8, 13], [8, 14], [8, 15], [8, 16], [8, 17], [9, 1], [9, 2], [9, 3], [9, 4], [9, 5], [9, 6], [9, 7], [9, 8], [9, 9], [9, 10], [9, 11], [9, 12], [9, 13], [9, 14], [9, 15], [9, 16], [9, 17], [10, 1], [10, 2], [10, 3], [10, 4], [10, 5], [10, 6], [10, 7], [10, 8], [10, 9], [10, 10], [10, 11], [10, 12], [10, 13], [10, 14], [10, 15], [10, 16], [10, 17], [11, 1], [11, 2], [11, 3], [11, 4], [11, 5], [11, 6], [11, 7], [11, 8], [11, 9], [11, 10], [11, 11], [11, 12], [11, 13], [11, 14], [11, 15], [11, 16], [11, 17], [12, 1], [12, 2], [12, 3], [12, 4], [12, 5], [12, 6], [12, 7], [12, 8], [12, 9], [12, 10], [12, 11], [12, 12], [12, 13], [12, 14], [12, 15], [12, 16], [12, 17], [13, 1], [13, 2], [13, 3], [13, 4], [13, 5], [13, 6], [13, 7], [13, 8], [13, 9], [13, 10], [13, 11], [13, 12], [13, 13], [13, 14], [13, 15], [13, 16], [13, 17], [14, 1], [14, 2], [14, 3], [14, 4], [14, 5], [14, 6], [14, 7], [14, 8], [14, 9], [14, 10], [14, 11], [14, 12], [14, 13], [14, 14], [14, 15], [14, 16], [14, 17], [15, 1], [15, 2], [15, 3], [15, 4], [15, 5], [15, 6], [15, 7], [15, 8], [15, 9], [15, 10], [15, 11], [15, 12], [15, 13], [15, 14], [15, 15], [15, 16], [15, 17], [16, 1], [16, 2], [16, 3], [16, 4], [16, 5], [16, 6], [16, 7], [16, 8], [16, 9], [16, 10], [16, 11], [16, 12], [16, 13], [16, 14], [16, 15], [16, 16], [16, 17], [17, 1], [17, 2], [17, 3], [17, 4], [17, 5], [17, 6], [17, 7], [17, 8], [17, 9], [17, 10], [17, 11], [17, 12], [17, 13], [17, 14], [17, 15], [17, 16], [17, 17], [18, 1], [18, 2], [18, 3], [18, 4], [18, 5], [18, 6], [18, 7], [18, 8], [18, 9], [18, 10], [18, 11], [18, 12], [18, 13], [18, 14], [18, 15], [18, 16], [18, 17]]\n",
      "Actions String[\"up\", \"down\", \"left\", \"right\"]\n",
      "step ([1, 2], -10)\n",
      "task_end false\n"
     ]
    }
   ],
   "source": [
    "println(\"States \", right_turn.states)\n",
    "println(\"Actions \", right_turn.actions([1,1]))\n",
    "println(\"step \", right_turn.step([1,1], \"right\"))\n",
    "println(\"task_end \", right_turn.task_end([1,1]))"
   ]
  },
  {
   "cell_type": "code",
   "execution_count": 17,
   "metadata": {
    "collapsed": false
   },
   "outputs": [
    {
     "data": {
      "text/html": [
       "<div class=\"usersvg\">\n",
       "<svg id='canvas1Bm' width='400' height='400' viewbox='0 0 17 18'></svg>\n",
       "</div>\n",
       "<script> \n",
       "requirejs.config({paths: {d3: \"https://d3js.org/d3.v3.min.js?noext\"}});  \n",
       "</script>\n"
      ]
     },
     "metadata": {},
     "output_type": "display_data"
    },
    {
     "data": {
      "application/javascript": [
       "var svg=document.getElementById('canvas1Bm');var newElement;newElement = document.createElementNS(\"http://www.w3.org/2000/svg\", 'rect'); \n",
       "newElement.setAttribute('width','1'); \n",
       "newElement.setAttribute('height','1'); \n",
       "newElement.setAttribute('x','0'); \n",
       "newElement.setAttribute('y','0'); \n",
       "newElement.style.fill = 'green'; \n",
       "svg.appendChild(newElement);\n",
       "newElement = document.createElementNS(\"http://www.w3.org/2000/svg\", 'rect'); \n",
       "newElement.setAttribute('width','1'); \n",
       "newElement.setAttribute('height','1'); \n",
       "newElement.setAttribute('x','1'); \n",
       "newElement.setAttribute('y','0'); \n",
       "newElement.style.fill = 'green'; \n",
       "svg.appendChild(newElement);\n",
       "newElement = document.createElementNS(\"http://www.w3.org/2000/svg\", 'rect'); \n",
       "newElement.setAttribute('width','1'); \n",
       "newElement.setAttribute('height','1'); \n",
       "newElement.setAttribute('x','2'); \n",
       "newElement.setAttribute('y','0'); \n",
       "newElement.style.fill = 'green'; \n",
       "svg.appendChild(newElement);\n",
       "newElement = document.createElementNS(\"http://www.w3.org/2000/svg\", 'rect'); \n",
       "newElement.setAttribute('width','1'); \n",
       "newElement.setAttribute('height','1'); \n",
       "newElement.setAttribute('x','3'); \n",
       "newElement.setAttribute('y','0'); \n",
       "newElement.style.fill = 'green'; \n",
       "svg.appendChild(newElement);\n",
       "newElement = document.createElementNS(\"http://www.w3.org/2000/svg\", 'rect'); \n",
       "newElement.setAttribute('width','1'); \n",
       "newElement.setAttribute('height','1'); \n",
       "newElement.setAttribute('x','4'); \n",
       "newElement.setAttribute('y','0'); \n",
       "newElement.style.fill = 'green'; \n",
       "svg.appendChild(newElement);\n",
       "newElement = document.createElementNS(\"http://www.w3.org/2000/svg\", 'rect'); \n",
       "newElement.setAttribute('width','1'); \n",
       "newElement.setAttribute('height','1'); \n",
       "newElement.setAttribute('x','5'); \n",
       "newElement.setAttribute('y','0'); \n",
       "newElement.style.fill = 'green'; \n",
       "svg.appendChild(newElement);\n",
       "newElement = document.createElementNS(\"http://www.w3.org/2000/svg\", 'rect'); \n",
       "newElement.setAttribute('width','1'); \n",
       "newElement.setAttribute('height','1'); \n",
       "newElement.setAttribute('x','6'); \n",
       "newElement.setAttribute('y','0'); \n",
       "newElement.style.fill = 'green'; \n",
       "svg.appendChild(newElement);\n",
       "newElement = document.createElementNS(\"http://www.w3.org/2000/svg\", 'rect'); \n",
       "newElement.setAttribute('width','1'); \n",
       "newElement.setAttribute('height','1'); \n",
       "newElement.setAttribute('x','7'); \n",
       "newElement.setAttribute('y','0'); \n",
       "newElement.style.fill = 'green'; \n",
       "svg.appendChild(newElement);\n",
       "newElement = document.createElementNS(\"http://www.w3.org/2000/svg\", 'rect'); \n",
       "newElement.setAttribute('width','1'); \n",
       "newElement.setAttribute('height','1'); \n",
       "newElement.setAttribute('x','8'); \n",
       "newElement.setAttribute('y','0'); \n",
       "newElement.style.fill = 'green'; \n",
       "svg.appendChild(newElement);\n",
       "newElement = document.createElementNS(\"http://www.w3.org/2000/svg\", 'rect'); \n",
       "newElement.setAttribute('width','1'); \n",
       "newElement.setAttribute('height','1'); \n",
       "newElement.setAttribute('x','9'); \n",
       "newElement.setAttribute('y','0'); \n",
       "newElement.style.fill = 'green'; \n",
       "svg.appendChild(newElement);\n",
       "newElement = document.createElementNS(\"http://www.w3.org/2000/svg\", 'rect'); \n",
       "newElement.setAttribute('width','1'); \n",
       "newElement.setAttribute('height','1'); \n",
       "newElement.setAttribute('x','10'); \n",
       "newElement.setAttribute('y','0'); \n",
       "newElement.style.fill = 'green'; \n",
       "svg.appendChild(newElement);\n",
       "newElement = document.createElementNS(\"http://www.w3.org/2000/svg\", 'rect'); \n",
       "newElement.setAttribute('width','1'); \n",
       "newElement.setAttribute('height','1'); \n",
       "newElement.setAttribute('x','11'); \n",
       "newElement.setAttribute('y','0'); \n",
       "newElement.style.fill = 'red'; \n",
       "svg.appendChild(newElement);\n",
       "newElement = document.createElementNS(\"http://www.w3.org/2000/svg\", 'rect'); \n",
       "newElement.setAttribute('width','1'); \n",
       "newElement.setAttribute('height','1'); \n",
       "newElement.setAttribute('x','12'); \n",
       "newElement.setAttribute('y','0'); \n",
       "newElement.style.fill = 'red'; \n",
       "svg.appendChild(newElement);\n",
       "newElement = document.createElementNS(\"http://www.w3.org/2000/svg\", 'rect'); \n",
       "newElement.setAttribute('width','1'); \n",
       "newElement.setAttribute('height','1'); \n",
       "newElement.setAttribute('x','13'); \n",
       "newElement.setAttribute('y','0'); \n",
       "newElement.style.fill = 'red'; \n",
       "svg.appendChild(newElement);\n",
       "newElement = document.createElementNS(\"http://www.w3.org/2000/svg\", 'rect'); \n",
       "newElement.setAttribute('width','1'); \n",
       "newElement.setAttribute('height','1'); \n",
       "newElement.setAttribute('x','14'); \n",
       "newElement.setAttribute('y','0'); \n",
       "newElement.style.fill = 'red'; \n",
       "svg.appendChild(newElement);\n",
       "newElement = document.createElementNS(\"http://www.w3.org/2000/svg\", 'rect'); \n",
       "newElement.setAttribute('width','1'); \n",
       "newElement.setAttribute('height','1'); \n",
       "newElement.setAttribute('x','15'); \n",
       "newElement.setAttribute('y','0'); \n",
       "newElement.style.fill = 'green'; \n",
       "svg.appendChild(newElement);\n",
       "newElement = document.createElementNS(\"http://www.w3.org/2000/svg\", 'rect'); \n",
       "newElement.setAttribute('width','1'); \n",
       "newElement.setAttribute('height','1'); \n",
       "newElement.setAttribute('x','16'); \n",
       "newElement.setAttribute('y','0'); \n",
       "newElement.style.fill = 'green'; \n",
       "svg.appendChild(newElement);\n",
       "newElement = document.createElementNS(\"http://www.w3.org/2000/svg\", 'rect'); \n",
       "newElement.setAttribute('width','1'); \n",
       "newElement.setAttribute('height','1'); \n",
       "newElement.setAttribute('x','0'); \n",
       "newElement.setAttribute('y','1'); \n",
       "newElement.style.fill = 'green'; \n",
       "svg.appendChild(newElement);\n",
       "newElement = document.createElementNS(\"http://www.w3.org/2000/svg\", 'rect'); \n",
       "newElement.setAttribute('width','1'); \n",
       "newElement.setAttribute('height','1'); \n",
       "newElement.setAttribute('x','1'); \n",
       "newElement.setAttribute('y','1'); \n",
       "newElement.style.fill = 'green'; \n",
       "svg.appendChild(newElement);\n",
       "newElement = document.createElementNS(\"http://www.w3.org/2000/svg\", 'rect'); \n",
       "newElement.setAttribute('width','1'); \n",
       "newElement.setAttribute('height','1'); \n",
       "newElement.setAttribute('x','2'); \n",
       "newElement.setAttribute('y','1'); \n",
       "newElement.style.fill = 'green'; \n",
       "svg.appendChild(newElement);\n",
       "newElement = document.createElementNS(\"http://www.w3.org/2000/svg\", 'rect'); \n",
       "newElement.setAttribute('width','1'); \n",
       "newElement.setAttribute('height','1'); \n",
       "newElement.setAttribute('x','3'); \n",
       "newElement.setAttribute('y','1'); \n",
       "newElement.style.fill = 'green'; \n",
       "svg.appendChild(newElement);\n",
       "newElement = document.createElementNS(\"http://www.w3.org/2000/svg\", 'rect'); \n",
       "newElement.setAttribute('width','1'); \n",
       "newElement.setAttribute('height','1'); \n",
       "newElement.setAttribute('x','4'); \n",
       "newElement.setAttribute('y','1'); \n",
       "newElement.style.fill = 'green'; \n",
       "svg.appendChild(newElement);\n",
       "newElement = document.createElementNS(\"http://www.w3.org/2000/svg\", 'rect'); \n",
       "newElement.setAttribute('width','1'); \n",
       "newElement.setAttribute('height','1'); \n",
       "newElement.setAttribute('x','5'); \n",
       "newElement.setAttribute('y','1'); \n",
       "newElement.style.fill = 'green'; \n",
       "svg.appendChild(newElement);\n",
       "newElement = document.createElementNS(\"http://www.w3.org/2000/svg\", 'rect'); \n",
       "newElement.setAttribute('width','1'); \n",
       "newElement.setAttribute('height','1'); \n",
       "newElement.setAttribute('x','6'); \n",
       "newElement.setAttribute('y','1'); \n",
       "newElement.style.fill = 'green'; \n",
       "svg.appendChild(newElement);\n",
       "newElement = document.createElementNS(\"http://www.w3.org/2000/svg\", 'rect'); \n",
       "newElement.setAttribute('width','1'); \n",
       "newElement.setAttribute('height','1'); \n",
       "newElement.setAttribute('x','7'); \n",
       "newElement.setAttribute('y','1'); \n",
       "newElement.style.fill = 'green'; \n",
       "svg.appendChild(newElement);\n",
       "newElement = document.createElementNS(\"http://www.w3.org/2000/svg\", 'rect'); \n",
       "newElement.setAttribute('width','1'); \n",
       "newElement.setAttribute('height','1'); \n",
       "newElement.setAttribute('x','8'); \n",
       "newElement.setAttribute('y','1'); \n",
       "newElement.style.fill = 'green'; \n",
       "svg.appendChild(newElement);\n",
       "newElement = document.createElementNS(\"http://www.w3.org/2000/svg\", 'rect'); \n",
       "newElement.setAttribute('width','1'); \n",
       "newElement.setAttribute('height','1'); \n",
       "newElement.setAttribute('x','9'); \n",
       "newElement.setAttribute('y','1'); \n",
       "newElement.style.fill = 'green'; \n",
       "svg.appendChild(newElement);\n",
       "newElement = document.createElementNS(\"http://www.w3.org/2000/svg\", 'rect'); \n",
       "newElement.setAttribute('width','1'); \n",
       "newElement.setAttribute('height','1'); \n",
       "newElement.setAttribute('x','10'); \n",
       "newElement.setAttribute('y','1'); \n",
       "newElement.style.fill = 'brown'; \n",
       "svg.appendChild(newElement);\n",
       "newElement = document.createElementNS(\"http://www.w3.org/2000/svg\", 'rect'); \n",
       "newElement.setAttribute('width','1'); \n",
       "newElement.setAttribute('height','1'); \n",
       "newElement.setAttribute('x','11'); \n",
       "newElement.setAttribute('y','1'); \n",
       "newElement.style.fill = 'brown'; \n",
       "svg.appendChild(newElement);\n",
       "newElement = document.createElementNS(\"http://www.w3.org/2000/svg\", 'rect'); \n",
       "newElement.setAttribute('width','1'); \n",
       "newElement.setAttribute('height','1'); \n",
       "newElement.setAttribute('x','12'); \n",
       "newElement.setAttribute('y','1'); \n",
       "newElement.style.fill = 'brown'; \n",
       "svg.appendChild(newElement);\n",
       "newElement = document.createElementNS(\"http://www.w3.org/2000/svg\", 'rect'); \n",
       "newElement.setAttribute('width','1'); \n",
       "newElement.setAttribute('height','1'); \n",
       "newElement.setAttribute('x','13'); \n",
       "newElement.setAttribute('y','1'); \n",
       "newElement.style.fill = 'brown'; \n",
       "svg.appendChild(newElement);\n",
       "newElement = document.createElementNS(\"http://www.w3.org/2000/svg\", 'rect'); \n",
       "newElement.setAttribute('width','1'); \n",
       "newElement.setAttribute('height','1'); \n",
       "newElement.setAttribute('x','14'); \n",
       "newElement.setAttribute('y','1'); \n",
       "newElement.style.fill = 'brown'; \n",
       "svg.appendChild(newElement);\n",
       "newElement = document.createElementNS(\"http://www.w3.org/2000/svg\", 'rect'); \n",
       "newElement.setAttribute('width','1'); \n",
       "newElement.setAttribute('height','1'); \n",
       "newElement.setAttribute('x','15'); \n",
       "newElement.setAttribute('y','1'); \n",
       "newElement.style.fill = 'green'; \n",
       "svg.appendChild(newElement);\n",
       "newElement = document.createElementNS(\"http://www.w3.org/2000/svg\", 'rect'); \n",
       "newElement.setAttribute('width','1'); \n",
       "newElement.setAttribute('height','1'); \n",
       "newElement.setAttribute('x','16'); \n",
       "newElement.setAttribute('y','1'); \n",
       "newElement.style.fill = 'green'; \n",
       "svg.appendChild(newElement);\n",
       "newElement = document.createElementNS(\"http://www.w3.org/2000/svg\", 'rect'); \n",
       "newElement.setAttribute('width','1'); \n",
       "newElement.setAttribute('height','1'); \n",
       "newElement.setAttribute('x','0'); \n",
       "newElement.setAttribute('y','2'); \n",
       "newElement.style.fill = 'green'; \n",
       "svg.appendChild(newElement);\n",
       "newElement = document.createElementNS(\"http://www.w3.org/2000/svg\", 'rect'); \n",
       "newElement.setAttribute('width','1'); \n",
       "newElement.setAttribute('height','1'); \n",
       "newElement.setAttribute('x','1'); \n",
       "newElement.setAttribute('y','2'); \n",
       "newElement.style.fill = 'green'; \n",
       "svg.appendChild(newElement);\n",
       "newElement = document.createElementNS(\"http://www.w3.org/2000/svg\", 'rect'); \n",
       "newElement.setAttribute('width','1'); \n",
       "newElement.setAttribute('height','1'); \n",
       "newElement.setAttribute('x','2'); \n",
       "newElement.setAttribute('y','2'); \n",
       "newElement.style.fill = 'green'; \n",
       "svg.appendChild(newElement);\n",
       "newElement = document.createElementNS(\"http://www.w3.org/2000/svg\", 'rect'); \n",
       "newElement.setAttribute('width','1'); \n",
       "newElement.setAttribute('height','1'); \n",
       "newElement.setAttribute('x','3'); \n",
       "newElement.setAttribute('y','2'); \n",
       "newElement.style.fill = 'green'; \n",
       "svg.appendChild(newElement);\n",
       "newElement = document.createElementNS(\"http://www.w3.org/2000/svg\", 'rect'); \n",
       "newElement.setAttribute('width','1'); \n",
       "newElement.setAttribute('height','1'); \n",
       "newElement.setAttribute('x','4'); \n",
       "newElement.setAttribute('y','2'); \n",
       "newElement.style.fill = 'green'; \n",
       "svg.appendChild(newElement);\n",
       "newElement = document.createElementNS(\"http://www.w3.org/2000/svg\", 'rect'); \n",
       "newElement.setAttribute('width','1'); \n",
       "newElement.setAttribute('height','1'); \n",
       "newElement.setAttribute('x','5'); \n",
       "newElement.setAttribute('y','2'); \n",
       "newElement.style.fill = 'green'; \n",
       "svg.appendChild(newElement);\n",
       "newElement = document.createElementNS(\"http://www.w3.org/2000/svg\", 'rect'); \n",
       "newElement.setAttribute('width','1'); \n",
       "newElement.setAttribute('height','1'); \n",
       "newElement.setAttribute('x','6'); \n",
       "newElement.setAttribute('y','2'); \n",
       "newElement.style.fill = 'green'; \n",
       "svg.appendChild(newElement);\n",
       "newElement = document.createElementNS(\"http://www.w3.org/2000/svg\", 'rect'); \n",
       "newElement.setAttribute('width','1'); \n",
       "newElement.setAttribute('height','1'); \n",
       "newElement.setAttribute('x','7'); \n",
       "newElement.setAttribute('y','2'); \n",
       "newElement.style.fill = 'green'; \n",
       "svg.appendChild(newElement);\n",
       "newElement = document.createElementNS(\"http://www.w3.org/2000/svg\", 'rect'); \n",
       "newElement.setAttribute('width','1'); \n",
       "newElement.setAttribute('height','1'); \n",
       "newElement.setAttribute('x','8'); \n",
       "newElement.setAttribute('y','2'); \n",
       "newElement.style.fill = 'green'; \n",
       "svg.appendChild(newElement);\n",
       "newElement = document.createElementNS(\"http://www.w3.org/2000/svg\", 'rect'); \n",
       "newElement.setAttribute('width','1'); \n",
       "newElement.setAttribute('height','1'); \n",
       "newElement.setAttribute('x','9'); \n",
       "newElement.setAttribute('y','2'); \n",
       "newElement.style.fill = 'brown'; \n",
       "svg.appendChild(newElement);\n",
       "newElement = document.createElementNS(\"http://www.w3.org/2000/svg\", 'rect'); \n",
       "newElement.setAttribute('width','1'); \n",
       "newElement.setAttribute('height','1'); \n",
       "newElement.setAttribute('x','10'); \n",
       "newElement.setAttribute('y','2'); \n",
       "newElement.style.fill = 'brown'; \n",
       "svg.appendChild(newElement);\n",
       "newElement = document.createElementNS(\"http://www.w3.org/2000/svg\", 'rect'); \n",
       "newElement.setAttribute('width','1'); \n",
       "newElement.setAttribute('height','1'); \n",
       "newElement.setAttribute('x','11'); \n",
       "newElement.setAttribute('y','2'); \n",
       "newElement.style.fill = 'brown'; \n",
       "svg.appendChild(newElement);\n",
       "newElement = document.createElementNS(\"http://www.w3.org/2000/svg\", 'rect'); \n",
       "newElement.setAttribute('width','1'); \n",
       "newElement.setAttribute('height','1'); \n",
       "newElement.setAttribute('x','12'); \n",
       "newElement.setAttribute('y','2'); \n",
       "newElement.style.fill = 'brown'; \n",
       "svg.appendChild(newElement);\n",
       "newElement = document.createElementNS(\"http://www.w3.org/2000/svg\", 'rect'); \n",
       "newElement.setAttribute('width','1'); \n",
       "newElement.setAttribute('height','1'); \n",
       "newElement.setAttribute('x','13'); \n",
       "newElement.setAttribute('y','2'); \n",
       "newElement.style.fill = 'brown'; \n",
       "svg.appendChild(newElement);\n",
       "newElement = document.createElementNS(\"http://www.w3.org/2000/svg\", 'rect'); \n",
       "newElement.setAttribute('width','1'); \n",
       "newElement.setAttribute('height','1'); \n",
       "newElement.setAttribute('x','14'); \n",
       "newElement.setAttribute('y','2'); \n",
       "newElement.style.fill = 'green'; \n",
       "svg.appendChild(newElement);\n",
       "newElement = document.createElementNS(\"http://www.w3.org/2000/svg\", 'rect'); \n",
       "newElement.setAttribute('width','1'); \n",
       "newElement.setAttribute('height','1'); \n",
       "newElement.setAttribute('x','15'); \n",
       "newElement.setAttribute('y','2'); \n",
       "newElement.style.fill = 'green'; \n",
       "svg.appendChild(newElement);\n",
       "newElement = document.createElementNS(\"http://www.w3.org/2000/svg\", 'rect'); \n",
       "newElement.setAttribute('width','1'); \n",
       "newElement.setAttribute('height','1'); \n",
       "newElement.setAttribute('x','16'); \n",
       "newElement.setAttribute('y','2'); \n",
       "newElement.style.fill = 'green'; \n",
       "svg.appendChild(newElement);\n",
       "newElement = document.createElementNS(\"http://www.w3.org/2000/svg\", 'rect'); \n",
       "newElement.setAttribute('width','1'); \n",
       "newElement.setAttribute('height','1'); \n",
       "newElement.setAttribute('x','0'); \n",
       "newElement.setAttribute('y','3'); \n",
       "newElement.style.fill = 'green'; \n",
       "svg.appendChild(newElement);\n",
       "newElement = document.createElementNS(\"http://www.w3.org/2000/svg\", 'rect'); \n",
       "newElement.setAttribute('width','1'); \n",
       "newElement.setAttribute('height','1'); \n",
       "newElement.setAttribute('x','1'); \n",
       "newElement.setAttribute('y','3'); \n",
       "newElement.style.fill = 'green'; \n",
       "svg.appendChild(newElement);\n",
       "newElement = document.createElementNS(\"http://www.w3.org/2000/svg\", 'rect'); \n",
       "newElement.setAttribute('width','1'); \n",
       "newElement.setAttribute('height','1'); \n",
       "newElement.setAttribute('x','2'); \n",
       "newElement.setAttribute('y','3'); \n",
       "newElement.style.fill = 'green'; \n",
       "svg.appendChild(newElement);\n",
       "newElement = document.createElementNS(\"http://www.w3.org/2000/svg\", 'rect'); \n",
       "newElement.setAttribute('width','1'); \n",
       "newElement.setAttribute('height','1'); \n",
       "newElement.setAttribute('x','3'); \n",
       "newElement.setAttribute('y','3'); \n",
       "newElement.style.fill = 'green'; \n",
       "svg.appendChild(newElement);\n",
       "newElement = document.createElementNS(\"http://www.w3.org/2000/svg\", 'rect'); \n",
       "newElement.setAttribute('width','1'); \n",
       "newElement.setAttribute('height','1'); \n",
       "newElement.setAttribute('x','4'); \n",
       "newElement.setAttribute('y','3'); \n",
       "newElement.style.fill = 'green'; \n",
       "svg.appendChild(newElement);\n",
       "newElement = document.createElementNS(\"http://www.w3.org/2000/svg\", 'rect'); \n",
       "newElement.setAttribute('width','1'); \n",
       "newElement.setAttribute('height','1'); \n",
       "newElement.setAttribute('x','5'); \n",
       "newElement.setAttribute('y','3'); \n",
       "newElement.style.fill = 'green'; \n",
       "svg.appendChild(newElement);\n",
       "newElement = document.createElementNS(\"http://www.w3.org/2000/svg\", 'rect'); \n",
       "newElement.setAttribute('width','1'); \n",
       "newElement.setAttribute('height','1'); \n",
       "newElement.setAttribute('x','6'); \n",
       "newElement.setAttribute('y','3'); \n",
       "newElement.style.fill = 'green'; \n",
       "svg.appendChild(newElement);\n",
       "newElement = document.createElementNS(\"http://www.w3.org/2000/svg\", 'rect'); \n",
       "newElement.setAttribute('width','1'); \n",
       "newElement.setAttribute('height','1'); \n",
       "newElement.setAttribute('x','7'); \n",
       "newElement.setAttribute('y','3'); \n",
       "newElement.style.fill = 'brown'; \n",
       "svg.appendChild(newElement);\n",
       "newElement = document.createElementNS(\"http://www.w3.org/2000/svg\", 'rect'); \n",
       "newElement.setAttribute('width','1'); \n",
       "newElement.setAttribute('height','1'); \n",
       "newElement.setAttribute('x','8'); \n",
       "newElement.setAttribute('y','3'); \n",
       "newElement.style.fill = 'brown'; \n",
       "svg.appendChild(newElement);\n",
       "newElement = document.createElementNS(\"http://www.w3.org/2000/svg\", 'rect'); \n",
       "newElement.setAttribute('width','1'); \n",
       "newElement.setAttribute('height','1'); \n",
       "newElement.setAttribute('x','9'); \n",
       "newElement.setAttribute('y','3'); \n",
       "newElement.style.fill = 'brown'; \n",
       "svg.appendChild(newElement);\n",
       "newElement = document.createElementNS(\"http://www.w3.org/2000/svg\", 'rect'); \n",
       "newElement.setAttribute('width','1'); \n",
       "newElement.setAttribute('height','1'); \n",
       "newElement.setAttribute('x','10'); \n",
       "newElement.setAttribute('y','3'); \n",
       "newElement.style.fill = 'brown'; \n",
       "svg.appendChild(newElement);\n",
       "newElement = document.createElementNS(\"http://www.w3.org/2000/svg\", 'rect'); \n",
       "newElement.setAttribute('width','1'); \n",
       "newElement.setAttribute('height','1'); \n",
       "newElement.setAttribute('x','11'); \n",
       "newElement.setAttribute('y','3'); \n",
       "newElement.style.fill = 'brown'; \n",
       "svg.appendChild(newElement);\n",
       "newElement = document.createElementNS(\"http://www.w3.org/2000/svg\", 'rect'); \n",
       "newElement.setAttribute('width','1'); \n",
       "newElement.setAttribute('height','1'); \n",
       "newElement.setAttribute('x','12'); \n",
       "newElement.setAttribute('y','3'); \n",
       "newElement.style.fill = 'brown'; \n",
       "svg.appendChild(newElement);\n",
       "newElement = document.createElementNS(\"http://www.w3.org/2000/svg\", 'rect'); \n",
       "newElement.setAttribute('width','1'); \n",
       "newElement.setAttribute('height','1'); \n",
       "newElement.setAttribute('x','13'); \n",
       "newElement.setAttribute('y','3'); \n",
       "newElement.style.fill = 'green'; \n",
       "svg.appendChild(newElement);\n",
       "newElement = document.createElementNS(\"http://www.w3.org/2000/svg\", 'rect'); \n",
       "newElement.setAttribute('width','1'); \n",
       "newElement.setAttribute('height','1'); \n",
       "newElement.setAttribute('x','14'); \n",
       "newElement.setAttribute('y','3'); \n",
       "newElement.style.fill = 'green'; \n",
       "svg.appendChild(newElement);\n",
       "newElement = document.createElementNS(\"http://www.w3.org/2000/svg\", 'rect'); \n",
       "newElement.setAttribute('width','1'); \n",
       "newElement.setAttribute('height','1'); \n",
       "newElement.setAttribute('x','15'); \n",
       "newElement.setAttribute('y','3'); \n",
       "newElement.style.fill = 'green'; \n",
       "svg.appendChild(newElement);\n",
       "newElement = document.createElementNS(\"http://www.w3.org/2000/svg\", 'rect'); \n",
       "newElement.setAttribute('width','1'); \n",
       "newElement.setAttribute('height','1'); \n",
       "newElement.setAttribute('x','16'); \n",
       "newElement.setAttribute('y','3'); \n",
       "newElement.style.fill = 'green'; \n",
       "svg.appendChild(newElement);\n",
       "newElement = document.createElementNS(\"http://www.w3.org/2000/svg\", 'rect'); \n",
       "newElement.setAttribute('width','1'); \n",
       "newElement.setAttribute('height','1'); \n",
       "newElement.setAttribute('x','0'); \n",
       "newElement.setAttribute('y','4'); \n",
       "newElement.style.fill = 'green'; \n",
       "svg.appendChild(newElement);\n",
       "newElement = document.createElementNS(\"http://www.w3.org/2000/svg\", 'rect'); \n",
       "newElement.setAttribute('width','1'); \n",
       "newElement.setAttribute('height','1'); \n",
       "newElement.setAttribute('x','1'); \n",
       "newElement.setAttribute('y','4'); \n",
       "newElement.style.fill = 'green'; \n",
       "svg.appendChild(newElement);\n",
       "newElement = document.createElementNS(\"http://www.w3.org/2000/svg\", 'rect'); \n",
       "newElement.setAttribute('width','1'); \n",
       "newElement.setAttribute('height','1'); \n",
       "newElement.setAttribute('x','2'); \n",
       "newElement.setAttribute('y','4'); \n",
       "newElement.style.fill = 'green'; \n",
       "svg.appendChild(newElement);\n",
       "newElement = document.createElementNS(\"http://www.w3.org/2000/svg\", 'rect'); \n",
       "newElement.setAttribute('width','1'); \n",
       "newElement.setAttribute('height','1'); \n",
       "newElement.setAttribute('x','3'); \n",
       "newElement.setAttribute('y','4'); \n",
       "newElement.style.fill = 'green'; \n",
       "svg.appendChild(newElement);\n",
       "newElement = document.createElementNS(\"http://www.w3.org/2000/svg\", 'rect'); \n",
       "newElement.setAttribute('width','1'); \n",
       "newElement.setAttribute('height','1'); \n",
       "newElement.setAttribute('x','4'); \n",
       "newElement.setAttribute('y','4'); \n",
       "newElement.style.fill = 'green'; \n",
       "svg.appendChild(newElement);\n",
       "newElement = document.createElementNS(\"http://www.w3.org/2000/svg\", 'rect'); \n",
       "newElement.setAttribute('width','1'); \n",
       "newElement.setAttribute('height','1'); \n",
       "newElement.setAttribute('x','5'); \n",
       "newElement.setAttribute('y','4'); \n",
       "newElement.style.fill = 'green'; \n",
       "svg.appendChild(newElement);\n",
       "newElement = document.createElementNS(\"http://www.w3.org/2000/svg\", 'rect'); \n",
       "newElement.setAttribute('width','1'); \n",
       "newElement.setAttribute('height','1'); \n",
       "newElement.setAttribute('x','6'); \n",
       "newElement.setAttribute('y','4'); \n",
       "newElement.style.fill = 'brown'; \n",
       "svg.appendChild(newElement);\n",
       "newElement = document.createElementNS(\"http://www.w3.org/2000/svg\", 'rect'); \n",
       "newElement.setAttribute('width','1'); \n",
       "newElement.setAttribute('height','1'); \n",
       "newElement.setAttribute('x','7'); \n",
       "newElement.setAttribute('y','4'); \n",
       "newElement.style.fill = 'brown'; \n",
       "svg.appendChild(newElement);\n",
       "newElement = document.createElementNS(\"http://www.w3.org/2000/svg\", 'rect'); \n",
       "newElement.setAttribute('width','1'); \n",
       "newElement.setAttribute('height','1'); \n",
       "newElement.setAttribute('x','8'); \n",
       "newElement.setAttribute('y','4'); \n",
       "newElement.style.fill = 'brown'; \n",
       "svg.appendChild(newElement);\n",
       "newElement = document.createElementNS(\"http://www.w3.org/2000/svg\", 'rect'); \n",
       "newElement.setAttribute('width','1'); \n",
       "newElement.setAttribute('height','1'); \n",
       "newElement.setAttribute('x','9'); \n",
       "newElement.setAttribute('y','4'); \n",
       "newElement.style.fill = 'brown'; \n",
       "svg.appendChild(newElement);\n",
       "newElement = document.createElementNS(\"http://www.w3.org/2000/svg\", 'rect'); \n",
       "newElement.setAttribute('width','1'); \n",
       "newElement.setAttribute('height','1'); \n",
       "newElement.setAttribute('x','10'); \n",
       "newElement.setAttribute('y','4'); \n",
       "newElement.style.fill = 'brown'; \n",
       "svg.appendChild(newElement);\n",
       "newElement = document.createElementNS(\"http://www.w3.org/2000/svg\", 'rect'); \n",
       "newElement.setAttribute('width','1'); \n",
       "newElement.setAttribute('height','1'); \n",
       "newElement.setAttribute('x','11'); \n",
       "newElement.setAttribute('y','4'); \n",
       "newElement.style.fill = 'brown'; \n",
       "svg.appendChild(newElement);\n",
       "newElement = document.createElementNS(\"http://www.w3.org/2000/svg\", 'rect'); \n",
       "newElement.setAttribute('width','1'); \n",
       "newElement.setAttribute('height','1'); \n",
       "newElement.setAttribute('x','12'); \n",
       "newElement.setAttribute('y','4'); \n",
       "newElement.style.fill = 'green'; \n",
       "svg.appendChild(newElement);\n",
       "newElement = document.createElementNS(\"http://www.w3.org/2000/svg\", 'rect'); \n",
       "newElement.setAttribute('width','1'); \n",
       "newElement.setAttribute('height','1'); \n",
       "newElement.setAttribute('x','13'); \n",
       "newElement.setAttribute('y','4'); \n",
       "newElement.style.fill = 'green'; \n",
       "svg.appendChild(newElement);\n",
       "newElement = document.createElementNS(\"http://www.w3.org/2000/svg\", 'rect'); \n",
       "newElement.setAttribute('width','1'); \n",
       "newElement.setAttribute('height','1'); \n",
       "newElement.setAttribute('x','14'); \n",
       "newElement.setAttribute('y','4'); \n",
       "newElement.style.fill = 'green'; \n",
       "svg.appendChild(newElement);\n",
       "newElement = document.createElementNS(\"http://www.w3.org/2000/svg\", 'rect'); \n",
       "newElement.setAttribute('width','1'); \n",
       "newElement.setAttribute('height','1'); \n",
       "newElement.setAttribute('x','15'); \n",
       "newElement.setAttribute('y','4'); \n",
       "newElement.style.fill = 'green'; \n",
       "svg.appendChild(newElement);\n",
       "newElement = document.createElementNS(\"http://www.w3.org/2000/svg\", 'rect'); \n",
       "newElement.setAttribute('width','1'); \n",
       "newElement.setAttribute('height','1'); \n",
       "newElement.setAttribute('x','16'); \n",
       "newElement.setAttribute('y','4'); \n",
       "newElement.style.fill = 'green'; \n",
       "svg.appendChild(newElement);\n",
       "newElement = document.createElementNS(\"http://www.w3.org/2000/svg\", 'rect'); \n",
       "newElement.setAttribute('width','1'); \n",
       "newElement.setAttribute('height','1'); \n",
       "newElement.setAttribute('x','0'); \n",
       "newElement.setAttribute('y','5'); \n",
       "newElement.style.fill = 'green'; \n",
       "svg.appendChild(newElement);\n",
       "newElement = document.createElementNS(\"http://www.w3.org/2000/svg\", 'rect'); \n",
       "newElement.setAttribute('width','1'); \n",
       "newElement.setAttribute('height','1'); \n",
       "newElement.setAttribute('x','1'); \n",
       "newElement.setAttribute('y','5'); \n",
       "newElement.style.fill = 'green'; \n",
       "svg.appendChild(newElement);\n",
       "newElement = document.createElementNS(\"http://www.w3.org/2000/svg\", 'rect'); \n",
       "newElement.setAttribute('width','1'); \n",
       "newElement.setAttribute('height','1'); \n",
       "newElement.setAttribute('x','2'); \n",
       "newElement.setAttribute('y','5'); \n",
       "newElement.style.fill = 'green'; \n",
       "svg.appendChild(newElement);\n",
       "newElement = document.createElementNS(\"http://www.w3.org/2000/svg\", 'rect'); \n",
       "newElement.setAttribute('width','1'); \n",
       "newElement.setAttribute('height','1'); \n",
       "newElement.setAttribute('x','3'); \n",
       "newElement.setAttribute('y','5'); \n",
       "newElement.style.fill = 'green'; \n",
       "svg.appendChild(newElement);\n",
       "newElement = document.createElementNS(\"http://www.w3.org/2000/svg\", 'rect'); \n",
       "newElement.setAttribute('width','1'); \n",
       "newElement.setAttribute('height','1'); \n",
       "newElement.setAttribute('x','4'); \n",
       "newElement.setAttribute('y','5'); \n",
       "newElement.style.fill = 'green'; \n",
       "svg.appendChild(newElement);\n",
       "newElement = document.createElementNS(\"http://www.w3.org/2000/svg\", 'rect'); \n",
       "newElement.setAttribute('width','1'); \n",
       "newElement.setAttribute('height','1'); \n",
       "newElement.setAttribute('x','5'); \n",
       "newElement.setAttribute('y','5'); \n",
       "newElement.style.fill = 'brown'; \n",
       "svg.appendChild(newElement);\n",
       "newElement = document.createElementNS(\"http://www.w3.org/2000/svg\", 'rect'); \n",
       "newElement.setAttribute('width','1'); \n",
       "newElement.setAttribute('height','1'); \n",
       "newElement.setAttribute('x','6'); \n",
       "newElement.setAttribute('y','5'); \n",
       "newElement.style.fill = 'brown'; \n",
       "svg.appendChild(newElement);\n",
       "newElement = document.createElementNS(\"http://www.w3.org/2000/svg\", 'rect'); \n",
       "newElement.setAttribute('width','1'); \n",
       "newElement.setAttribute('height','1'); \n",
       "newElement.setAttribute('x','7'); \n",
       "newElement.setAttribute('y','5'); \n",
       "newElement.style.fill = 'brown'; \n",
       "svg.appendChild(newElement);\n",
       "newElement = document.createElementNS(\"http://www.w3.org/2000/svg\", 'rect'); \n",
       "newElement.setAttribute('width','1'); \n",
       "newElement.setAttribute('height','1'); \n",
       "newElement.setAttribute('x','8'); \n",
       "newElement.setAttribute('y','5'); \n",
       "newElement.style.fill = 'brown'; \n",
       "svg.appendChild(newElement);\n",
       "newElement = document.createElementNS(\"http://www.w3.org/2000/svg\", 'rect'); \n",
       "newElement.setAttribute('width','1'); \n",
       "newElement.setAttribute('height','1'); \n",
       "newElement.setAttribute('x','9'); \n",
       "newElement.setAttribute('y','5'); \n",
       "newElement.style.fill = 'brown'; \n",
       "svg.appendChild(newElement);\n",
       "newElement = document.createElementNS(\"http://www.w3.org/2000/svg\", 'rect'); \n",
       "newElement.setAttribute('width','1'); \n",
       "newElement.setAttribute('height','1'); \n",
       "newElement.setAttribute('x','10'); \n",
       "newElement.setAttribute('y','5'); \n",
       "newElement.style.fill = 'green'; \n",
       "svg.appendChild(newElement);\n",
       "newElement = document.createElementNS(\"http://www.w3.org/2000/svg\", 'rect'); \n",
       "newElement.setAttribute('width','1'); \n",
       "newElement.setAttribute('height','1'); \n",
       "newElement.setAttribute('x','11'); \n",
       "newElement.setAttribute('y','5'); \n",
       "newElement.style.fill = 'green'; \n",
       "svg.appendChild(newElement);\n",
       "newElement = document.createElementNS(\"http://www.w3.org/2000/svg\", 'rect'); \n",
       "newElement.setAttribute('width','1'); \n",
       "newElement.setAttribute('height','1'); \n",
       "newElement.setAttribute('x','12'); \n",
       "newElement.setAttribute('y','5'); \n",
       "newElement.style.fill = 'green'; \n",
       "svg.appendChild(newElement);\n",
       "newElement = document.createElementNS(\"http://www.w3.org/2000/svg\", 'rect'); \n",
       "newElement.setAttribute('width','1'); \n",
       "newElement.setAttribute('height','1'); \n",
       "newElement.setAttribute('x','13'); \n",
       "newElement.setAttribute('y','5'); \n",
       "newElement.style.fill = 'green'; \n",
       "svg.appendChild(newElement);\n",
       "newElement = document.createElementNS(\"http://www.w3.org/2000/svg\", 'rect'); \n",
       "newElement.setAttribute('width','1'); \n",
       "newElement.setAttribute('height','1'); \n",
       "newElement.setAttribute('x','14'); \n",
       "newElement.setAttribute('y','5'); \n",
       "newElement.style.fill = 'green'; \n",
       "svg.appendChild(newElement);\n",
       "newElement = document.createElementNS(\"http://www.w3.org/2000/svg\", 'rect'); \n",
       "newElement.setAttribute('width','1'); \n",
       "newElement.setAttribute('height','1'); \n",
       "newElement.setAttribute('x','15'); \n",
       "newElement.setAttribute('y','5'); \n",
       "newElement.style.fill = 'green'; \n",
       "svg.appendChild(newElement);\n",
       "newElement = document.createElementNS(\"http://www.w3.org/2000/svg\", 'rect'); \n",
       "newElement.setAttribute('width','1'); \n",
       "newElement.setAttribute('height','1'); \n",
       "newElement.setAttribute('x','16'); \n",
       "newElement.setAttribute('y','5'); \n",
       "newElement.style.fill = 'green'; \n",
       "svg.appendChild(newElement);\n",
       "newElement = document.createElementNS(\"http://www.w3.org/2000/svg\", 'rect'); \n",
       "newElement.setAttribute('width','1'); \n",
       "newElement.setAttribute('height','1'); \n",
       "newElement.setAttribute('x','0'); \n",
       "newElement.setAttribute('y','6'); \n",
       "newElement.style.fill = 'green'; \n",
       "svg.appendChild(newElement);\n",
       "newElement = document.createElementNS(\"http://www.w3.org/2000/svg\", 'rect'); \n",
       "newElement.setAttribute('width','1'); \n",
       "newElement.setAttribute('height','1'); \n",
       "newElement.setAttribute('x','1'); \n",
       "newElement.setAttribute('y','6'); \n",
       "newElement.style.fill = 'green'; \n",
       "svg.appendChild(newElement);\n",
       "newElement = document.createElementNS(\"http://www.w3.org/2000/svg\", 'rect'); \n",
       "newElement.setAttribute('width','1'); \n",
       "newElement.setAttribute('height','1'); \n",
       "newElement.setAttribute('x','2'); \n",
       "newElement.setAttribute('y','6'); \n",
       "newElement.style.fill = 'green'; \n",
       "svg.appendChild(newElement);\n",
       "newElement = document.createElementNS(\"http://www.w3.org/2000/svg\", 'rect'); \n",
       "newElement.setAttribute('width','1'); \n",
       "newElement.setAttribute('height','1'); \n",
       "newElement.setAttribute('x','3'); \n",
       "newElement.setAttribute('y','6'); \n",
       "newElement.style.fill = 'green'; \n",
       "svg.appendChild(newElement);\n",
       "newElement = document.createElementNS(\"http://www.w3.org/2000/svg\", 'rect'); \n",
       "newElement.setAttribute('width','1'); \n",
       "newElement.setAttribute('height','1'); \n",
       "newElement.setAttribute('x','4'); \n",
       "newElement.setAttribute('y','6'); \n",
       "newElement.style.fill = 'brown'; \n",
       "svg.appendChild(newElement);\n",
       "newElement = document.createElementNS(\"http://www.w3.org/2000/svg\", 'rect'); \n",
       "newElement.setAttribute('width','1'); \n",
       "newElement.setAttribute('height','1'); \n",
       "newElement.setAttribute('x','5'); \n",
       "newElement.setAttribute('y','6'); \n",
       "newElement.style.fill = 'brown'; \n",
       "svg.appendChild(newElement);\n",
       "newElement = document.createElementNS(\"http://www.w3.org/2000/svg\", 'rect'); \n",
       "newElement.setAttribute('width','1'); \n",
       "newElement.setAttribute('height','1'); \n",
       "newElement.setAttribute('x','6'); \n",
       "newElement.setAttribute('y','6'); \n",
       "newElement.style.fill = 'brown'; \n",
       "svg.appendChild(newElement);\n",
       "newElement = document.createElementNS(\"http://www.w3.org/2000/svg\", 'rect'); \n",
       "newElement.setAttribute('width','1'); \n",
       "newElement.setAttribute('height','1'); \n",
       "newElement.setAttribute('x','7'); \n",
       "newElement.setAttribute('y','6'); \n",
       "newElement.style.fill = 'brown'; \n",
       "svg.appendChild(newElement);\n",
       "newElement = document.createElementNS(\"http://www.w3.org/2000/svg\", 'rect'); \n",
       "newElement.setAttribute('width','1'); \n",
       "newElement.setAttribute('height','1'); \n",
       "newElement.setAttribute('x','8'); \n",
       "newElement.setAttribute('y','6'); \n",
       "newElement.style.fill = 'brown'; \n",
       "svg.appendChild(newElement);\n",
       "newElement = document.createElementNS(\"http://www.w3.org/2000/svg\", 'rect'); \n",
       "newElement.setAttribute('width','1'); \n",
       "newElement.setAttribute('height','1'); \n",
       "newElement.setAttribute('x','9'); \n",
       "newElement.setAttribute('y','6'); \n",
       "newElement.style.fill = 'green'; \n",
       "svg.appendChild(newElement);\n",
       "newElement = document.createElementNS(\"http://www.w3.org/2000/svg\", 'rect'); \n",
       "newElement.setAttribute('width','1'); \n",
       "newElement.setAttribute('height','1'); \n",
       "newElement.setAttribute('x','10'); \n",
       "newElement.setAttribute('y','6'); \n",
       "newElement.style.fill = 'green'; \n",
       "svg.appendChild(newElement);\n",
       "newElement = document.createElementNS(\"http://www.w3.org/2000/svg\", 'rect'); \n",
       "newElement.setAttribute('width','1'); \n",
       "newElement.setAttribute('height','1'); \n",
       "newElement.setAttribute('x','11'); \n",
       "newElement.setAttribute('y','6'); \n",
       "newElement.style.fill = 'green'; \n",
       "svg.appendChild(newElement);\n",
       "newElement = document.createElementNS(\"http://www.w3.org/2000/svg\", 'rect'); \n",
       "newElement.setAttribute('width','1'); \n",
       "newElement.setAttribute('height','1'); \n",
       "newElement.setAttribute('x','12'); \n",
       "newElement.setAttribute('y','6'); \n",
       "newElement.style.fill = 'green'; \n",
       "svg.appendChild(newElement);\n",
       "newElement = document.createElementNS(\"http://www.w3.org/2000/svg\", 'rect'); \n",
       "newElement.setAttribute('width','1'); \n",
       "newElement.setAttribute('height','1'); \n",
       "newElement.setAttribute('x','13'); \n",
       "newElement.setAttribute('y','6'); \n",
       "newElement.style.fill = 'green'; \n",
       "svg.appendChild(newElement);\n",
       "newElement = document.createElementNS(\"http://www.w3.org/2000/svg\", 'rect'); \n",
       "newElement.setAttribute('width','1'); \n",
       "newElement.setAttribute('height','1'); \n",
       "newElement.setAttribute('x','14'); \n",
       "newElement.setAttribute('y','6'); \n",
       "newElement.style.fill = 'green'; \n",
       "svg.appendChild(newElement);\n",
       "newElement = document.createElementNS(\"http://www.w3.org/2000/svg\", 'rect'); \n",
       "newElement.setAttribute('width','1'); \n",
       "newElement.setAttribute('height','1'); \n",
       "newElement.setAttribute('x','15'); \n",
       "newElement.setAttribute('y','6'); \n",
       "newElement.style.fill = 'green'; \n",
       "svg.appendChild(newElement);\n",
       "newElement = document.createElementNS(\"http://www.w3.org/2000/svg\", 'rect'); \n",
       "newElement.setAttribute('width','1'); \n",
       "newElement.setAttribute('height','1'); \n",
       "newElement.setAttribute('x','16'); \n",
       "newElement.setAttribute('y','6'); \n",
       "newElement.style.fill = 'green'; \n",
       "svg.appendChild(newElement);\n",
       "newElement = document.createElementNS(\"http://www.w3.org/2000/svg\", 'rect'); \n",
       "newElement.setAttribute('width','1'); \n",
       "newElement.setAttribute('height','1'); \n",
       "newElement.setAttribute('x','0'); \n",
       "newElement.setAttribute('y','7'); \n",
       "newElement.style.fill = 'green'; \n",
       "svg.appendChild(newElement);\n",
       "newElement = document.createElementNS(\"http://www.w3.org/2000/svg\", 'rect'); \n",
       "newElement.setAttribute('width','1'); \n",
       "newElement.setAttribute('height','1'); \n",
       "newElement.setAttribute('x','1'); \n",
       "newElement.setAttribute('y','7'); \n",
       "newElement.style.fill = 'green'; \n",
       "svg.appendChild(newElement);\n",
       "newElement = document.createElementNS(\"http://www.w3.org/2000/svg\", 'rect'); \n",
       "newElement.setAttribute('width','1'); \n",
       "newElement.setAttribute('height','1'); \n",
       "newElement.setAttribute('x','2'); \n",
       "newElement.setAttribute('y','7'); \n",
       "newElement.style.fill = 'green'; \n",
       "svg.appendChild(newElement);\n",
       "newElement = document.createElementNS(\"http://www.w3.org/2000/svg\", 'rect'); \n",
       "newElement.setAttribute('width','1'); \n",
       "newElement.setAttribute('height','1'); \n",
       "newElement.setAttribute('x','3'); \n",
       "newElement.setAttribute('y','7'); \n",
       "newElement.style.fill = 'brown'; \n",
       "svg.appendChild(newElement);\n",
       "newElement = document.createElementNS(\"http://www.w3.org/2000/svg\", 'rect'); \n",
       "newElement.setAttribute('width','1'); \n",
       "newElement.setAttribute('height','1'); \n",
       "newElement.setAttribute('x','4'); \n",
       "newElement.setAttribute('y','7'); \n",
       "newElement.style.fill = 'brown'; \n",
       "svg.appendChild(newElement);\n",
       "newElement = document.createElementNS(\"http://www.w3.org/2000/svg\", 'rect'); \n",
       "newElement.setAttribute('width','1'); \n",
       "newElement.setAttribute('height','1'); \n",
       "newElement.setAttribute('x','5'); \n",
       "newElement.setAttribute('y','7'); \n",
       "newElement.style.fill = 'brown'; \n",
       "svg.appendChild(newElement);\n",
       "newElement = document.createElementNS(\"http://www.w3.org/2000/svg\", 'rect'); \n",
       "newElement.setAttribute('width','1'); \n",
       "newElement.setAttribute('height','1'); \n",
       "newElement.setAttribute('x','6'); \n",
       "newElement.setAttribute('y','7'); \n",
       "newElement.style.fill = 'brown'; \n",
       "svg.appendChild(newElement);\n",
       "newElement = document.createElementNS(\"http://www.w3.org/2000/svg\", 'rect'); \n",
       "newElement.setAttribute('width','1'); \n",
       "newElement.setAttribute('height','1'); \n",
       "newElement.setAttribute('x','7'); \n",
       "newElement.setAttribute('y','7'); \n",
       "newElement.style.fill = 'brown'; \n",
       "svg.appendChild(newElement);\n",
       "newElement = document.createElementNS(\"http://www.w3.org/2000/svg\", 'rect'); \n",
       "newElement.setAttribute('width','1'); \n",
       "newElement.setAttribute('height','1'); \n",
       "newElement.setAttribute('x','8'); \n",
       "newElement.setAttribute('y','7'); \n",
       "newElement.style.fill = 'green'; \n",
       "svg.appendChild(newElement);\n",
       "newElement = document.createElementNS(\"http://www.w3.org/2000/svg\", 'rect'); \n",
       "newElement.setAttribute('width','1'); \n",
       "newElement.setAttribute('height','1'); \n",
       "newElement.setAttribute('x','9'); \n",
       "newElement.setAttribute('y','7'); \n",
       "newElement.style.fill = 'green'; \n",
       "svg.appendChild(newElement);\n",
       "newElement = document.createElementNS(\"http://www.w3.org/2000/svg\", 'rect'); \n",
       "newElement.setAttribute('width','1'); \n",
       "newElement.setAttribute('height','1'); \n",
       "newElement.setAttribute('x','10'); \n",
       "newElement.setAttribute('y','7'); \n",
       "newElement.style.fill = 'green'; \n",
       "svg.appendChild(newElement);\n",
       "newElement = document.createElementNS(\"http://www.w3.org/2000/svg\", 'rect'); \n",
       "newElement.setAttribute('width','1'); \n",
       "newElement.setAttribute('height','1'); \n",
       "newElement.setAttribute('x','11'); \n",
       "newElement.setAttribute('y','7'); \n",
       "newElement.style.fill = 'green'; \n",
       "svg.appendChild(newElement);\n",
       "newElement = document.createElementNS(\"http://www.w3.org/2000/svg\", 'rect'); \n",
       "newElement.setAttribute('width','1'); \n",
       "newElement.setAttribute('height','1'); \n",
       "newElement.setAttribute('x','12'); \n",
       "newElement.setAttribute('y','7'); \n",
       "newElement.style.fill = 'green'; \n",
       "svg.appendChild(newElement);\n",
       "newElement = document.createElementNS(\"http://www.w3.org/2000/svg\", 'rect'); \n",
       "newElement.setAttribute('width','1'); \n",
       "newElement.setAttribute('height','1'); \n",
       "newElement.setAttribute('x','13'); \n",
       "newElement.setAttribute('y','7'); \n",
       "newElement.style.fill = 'green'; \n",
       "svg.appendChild(newElement);\n",
       "newElement = document.createElementNS(\"http://www.w3.org/2000/svg\", 'rect'); \n",
       "newElement.setAttribute('width','1'); \n",
       "newElement.setAttribute('height','1'); \n",
       "newElement.setAttribute('x','14'); \n",
       "newElement.setAttribute('y','7'); \n",
       "newElement.style.fill = 'green'; \n",
       "svg.appendChild(newElement);\n",
       "newElement = document.createElementNS(\"http://www.w3.org/2000/svg\", 'rect'); \n",
       "newElement.setAttribute('width','1'); \n",
       "newElement.setAttribute('height','1'); \n",
       "newElement.setAttribute('x','15'); \n",
       "newElement.setAttribute('y','7'); \n",
       "newElement.style.fill = 'green'; \n",
       "svg.appendChild(newElement);\n",
       "newElement = document.createElementNS(\"http://www.w3.org/2000/svg\", 'rect'); \n",
       "newElement.setAttribute('width','1'); \n",
       "newElement.setAttribute('height','1'); \n",
       "newElement.setAttribute('x','16'); \n",
       "newElement.setAttribute('y','7'); \n",
       "newElement.style.fill = 'green'; \n",
       "svg.appendChild(newElement);\n",
       "newElement = document.createElementNS(\"http://www.w3.org/2000/svg\", 'rect'); \n",
       "newElement.setAttribute('width','1'); \n",
       "newElement.setAttribute('height','1'); \n",
       "newElement.setAttribute('x','0'); \n",
       "newElement.setAttribute('y','8'); \n",
       "newElement.style.fill = 'green'; \n",
       "svg.appendChild(newElement);\n",
       "newElement = document.createElementNS(\"http://www.w3.org/2000/svg\", 'rect'); \n",
       "newElement.setAttribute('width','1'); \n",
       "newElement.setAttribute('height','1'); \n",
       "newElement.setAttribute('x','1'); \n",
       "newElement.setAttribute('y','8'); \n",
       "newElement.style.fill = 'green'; \n",
       "svg.appendChild(newElement);\n",
       "newElement = document.createElementNS(\"http://www.w3.org/2000/svg\", 'rect'); \n",
       "newElement.setAttribute('width','1'); \n",
       "newElement.setAttribute('height','1'); \n",
       "newElement.setAttribute('x','2'); \n",
       "newElement.setAttribute('y','8'); \n",
       "newElement.style.fill = 'brown'; \n",
       "svg.appendChild(newElement);\n",
       "newElement = document.createElementNS(\"http://www.w3.org/2000/svg\", 'rect'); \n",
       "newElement.setAttribute('width','1'); \n",
       "newElement.setAttribute('height','1'); \n",
       "newElement.setAttribute('x','3'); \n",
       "newElement.setAttribute('y','8'); \n",
       "newElement.style.fill = 'brown'; \n",
       "svg.appendChild(newElement);\n",
       "newElement = document.createElementNS(\"http://www.w3.org/2000/svg\", 'rect'); \n",
       "newElement.setAttribute('width','1'); \n",
       "newElement.setAttribute('height','1'); \n",
       "newElement.setAttribute('x','4'); \n",
       "newElement.setAttribute('y','8'); \n",
       "newElement.style.fill = 'brown'; \n",
       "svg.appendChild(newElement);\n",
       "newElement = document.createElementNS(\"http://www.w3.org/2000/svg\", 'rect'); \n",
       "newElement.setAttribute('width','1'); \n",
       "newElement.setAttribute('height','1'); \n",
       "newElement.setAttribute('x','5'); \n",
       "newElement.setAttribute('y','8'); \n",
       "newElement.style.fill = 'brown'; \n",
       "svg.appendChild(newElement);\n",
       "newElement = document.createElementNS(\"http://www.w3.org/2000/svg\", 'rect'); \n",
       "newElement.setAttribute('width','1'); \n",
       "newElement.setAttribute('height','1'); \n",
       "newElement.setAttribute('x','6'); \n",
       "newElement.setAttribute('y','8'); \n",
       "newElement.style.fill = 'brown'; \n",
       "svg.appendChild(newElement);\n",
       "newElement = document.createElementNS(\"http://www.w3.org/2000/svg\", 'rect'); \n",
       "newElement.setAttribute('width','1'); \n",
       "newElement.setAttribute('height','1'); \n",
       "newElement.setAttribute('x','7'); \n",
       "newElement.setAttribute('y','8'); \n",
       "newElement.style.fill = 'green'; \n",
       "svg.appendChild(newElement);\n",
       "newElement = document.createElementNS(\"http://www.w3.org/2000/svg\", 'rect'); \n",
       "newElement.setAttribute('width','1'); \n",
       "newElement.setAttribute('height','1'); \n",
       "newElement.setAttribute('x','8'); \n",
       "newElement.setAttribute('y','8'); \n",
       "newElement.style.fill = 'green'; \n",
       "svg.appendChild(newElement);\n",
       "newElement = document.createElementNS(\"http://www.w3.org/2000/svg\", 'rect'); \n",
       "newElement.setAttribute('width','1'); \n",
       "newElement.setAttribute('height','1'); \n",
       "newElement.setAttribute('x','9'); \n",
       "newElement.setAttribute('y','8'); \n",
       "newElement.style.fill = 'green'; \n",
       "svg.appendChild(newElement);\n",
       "newElement = document.createElementNS(\"http://www.w3.org/2000/svg\", 'rect'); \n",
       "newElement.setAttribute('width','1'); \n",
       "newElement.setAttribute('height','1'); \n",
       "newElement.setAttribute('x','10'); \n",
       "newElement.setAttribute('y','8'); \n",
       "newElement.style.fill = 'green'; \n",
       "svg.appendChild(newElement);\n",
       "newElement = document.createElementNS(\"http://www.w3.org/2000/svg\", 'rect'); \n",
       "newElement.setAttribute('width','1'); \n",
       "newElement.setAttribute('height','1'); \n",
       "newElement.setAttribute('x','11'); \n",
       "newElement.setAttribute('y','8'); \n",
       "newElement.style.fill = 'green'; \n",
       "svg.appendChild(newElement);\n",
       "newElement = document.createElementNS(\"http://www.w3.org/2000/svg\", 'rect'); \n",
       "newElement.setAttribute('width','1'); \n",
       "newElement.setAttribute('height','1'); \n",
       "newElement.setAttribute('x','12'); \n",
       "newElement.setAttribute('y','8'); \n",
       "newElement.style.fill = 'green'; \n",
       "svg.appendChild(newElement);\n",
       "newElement = document.createElementNS(\"http://www.w3.org/2000/svg\", 'rect'); \n",
       "newElement.setAttribute('width','1'); \n",
       "newElement.setAttribute('height','1'); \n",
       "newElement.setAttribute('x','13'); \n",
       "newElement.setAttribute('y','8'); \n",
       "newElement.style.fill = 'green'; \n",
       "svg.appendChild(newElement);\n",
       "newElement = document.createElementNS(\"http://www.w3.org/2000/svg\", 'rect'); \n",
       "newElement.setAttribute('width','1'); \n",
       "newElement.setAttribute('height','1'); \n",
       "newElement.setAttribute('x','14'); \n",
       "newElement.setAttribute('y','8'); \n",
       "newElement.style.fill = 'green'; \n",
       "svg.appendChild(newElement);\n",
       "newElement = document.createElementNS(\"http://www.w3.org/2000/svg\", 'rect'); \n",
       "newElement.setAttribute('width','1'); \n",
       "newElement.setAttribute('height','1'); \n",
       "newElement.setAttribute('x','15'); \n",
       "newElement.setAttribute('y','8'); \n",
       "newElement.style.fill = 'green'; \n",
       "svg.appendChild(newElement);\n",
       "newElement = document.createElementNS(\"http://www.w3.org/2000/svg\", 'rect'); \n",
       "newElement.setAttribute('width','1'); \n",
       "newElement.setAttribute('height','1'); \n",
       "newElement.setAttribute('x','16'); \n",
       "newElement.setAttribute('y','8'); \n",
       "newElement.style.fill = 'green'; \n",
       "svg.appendChild(newElement);\n",
       "newElement = document.createElementNS(\"http://www.w3.org/2000/svg\", 'rect'); \n",
       "newElement.setAttribute('width','1'); \n",
       "newElement.setAttribute('height','1'); \n",
       "newElement.setAttribute('x','0'); \n",
       "newElement.setAttribute('y','9'); \n",
       "newElement.style.fill = 'green'; \n",
       "svg.appendChild(newElement);\n",
       "newElement = document.createElementNS(\"http://www.w3.org/2000/svg\", 'rect'); \n",
       "newElement.setAttribute('width','1'); \n",
       "newElement.setAttribute('height','1'); \n",
       "newElement.setAttribute('x','1'); \n",
       "newElement.setAttribute('y','9'); \n",
       "newElement.style.fill = 'green'; \n",
       "svg.appendChild(newElement);\n",
       "newElement = document.createElementNS(\"http://www.w3.org/2000/svg\", 'rect'); \n",
       "newElement.setAttribute('width','1'); \n",
       "newElement.setAttribute('height','1'); \n",
       "newElement.setAttribute('x','2'); \n",
       "newElement.setAttribute('y','9'); \n",
       "newElement.style.fill = 'brown'; \n",
       "svg.appendChild(newElement);\n",
       "newElement = document.createElementNS(\"http://www.w3.org/2000/svg\", 'rect'); \n",
       "newElement.setAttribute('width','1'); \n",
       "newElement.setAttribute('height','1'); \n",
       "newElement.setAttribute('x','3'); \n",
       "newElement.setAttribute('y','9'); \n",
       "newElement.style.fill = 'brown'; \n",
       "svg.appendChild(newElement);\n",
       "newElement = document.createElementNS(\"http://www.w3.org/2000/svg\", 'rect'); \n",
       "newElement.setAttribute('width','1'); \n",
       "newElement.setAttribute('height','1'); \n",
       "newElement.setAttribute('x','4'); \n",
       "newElement.setAttribute('y','9'); \n",
       "newElement.style.fill = 'brown'; \n",
       "svg.appendChild(newElement);\n",
       "newElement = document.createElementNS(\"http://www.w3.org/2000/svg\", 'rect'); \n",
       "newElement.setAttribute('width','1'); \n",
       "newElement.setAttribute('height','1'); \n",
       "newElement.setAttribute('x','5'); \n",
       "newElement.setAttribute('y','9'); \n",
       "newElement.style.fill = 'brown'; \n",
       "svg.appendChild(newElement);\n",
       "newElement = document.createElementNS(\"http://www.w3.org/2000/svg\", 'rect'); \n",
       "newElement.setAttribute('width','1'); \n",
       "newElement.setAttribute('height','1'); \n",
       "newElement.setAttribute('x','6'); \n",
       "newElement.setAttribute('y','9'); \n",
       "newElement.style.fill = 'brown'; \n",
       "svg.appendChild(newElement);\n",
       "newElement = document.createElementNS(\"http://www.w3.org/2000/svg\", 'rect'); \n",
       "newElement.setAttribute('width','1'); \n",
       "newElement.setAttribute('height','1'); \n",
       "newElement.setAttribute('x','7'); \n",
       "newElement.setAttribute('y','9'); \n",
       "newElement.style.fill = 'green'; \n",
       "svg.appendChild(newElement);\n",
       "newElement = document.createElementNS(\"http://www.w3.org/2000/svg\", 'rect'); \n",
       "newElement.setAttribute('width','1'); \n",
       "newElement.setAttribute('height','1'); \n",
       "newElement.setAttribute('x','8'); \n",
       "newElement.setAttribute('y','9'); \n",
       "newElement.style.fill = 'green'; \n",
       "svg.appendChild(newElement);\n",
       "newElement = document.createElementNS(\"http://www.w3.org/2000/svg\", 'rect'); \n",
       "newElement.setAttribute('width','1'); \n",
       "newElement.setAttribute('height','1'); \n",
       "newElement.setAttribute('x','9'); \n",
       "newElement.setAttribute('y','9'); \n",
       "newElement.style.fill = 'green'; \n",
       "svg.appendChild(newElement);\n",
       "newElement = document.createElementNS(\"http://www.w3.org/2000/svg\", 'rect'); \n",
       "newElement.setAttribute('width','1'); \n",
       "newElement.setAttribute('height','1'); \n",
       "newElement.setAttribute('x','10'); \n",
       "newElement.setAttribute('y','9'); \n",
       "newElement.style.fill = 'green'; \n",
       "svg.appendChild(newElement);\n",
       "newElement = document.createElementNS(\"http://www.w3.org/2000/svg\", 'rect'); \n",
       "newElement.setAttribute('width','1'); \n",
       "newElement.setAttribute('height','1'); \n",
       "newElement.setAttribute('x','11'); \n",
       "newElement.setAttribute('y','9'); \n",
       "newElement.style.fill = 'green'; \n",
       "svg.appendChild(newElement);\n",
       "newElement = document.createElementNS(\"http://www.w3.org/2000/svg\", 'rect'); \n",
       "newElement.setAttribute('width','1'); \n",
       "newElement.setAttribute('height','1'); \n",
       "newElement.setAttribute('x','12'); \n",
       "newElement.setAttribute('y','9'); \n",
       "newElement.style.fill = 'green'; \n",
       "svg.appendChild(newElement);\n",
       "newElement = document.createElementNS(\"http://www.w3.org/2000/svg\", 'rect'); \n",
       "newElement.setAttribute('width','1'); \n",
       "newElement.setAttribute('height','1'); \n",
       "newElement.setAttribute('x','13'); \n",
       "newElement.setAttribute('y','9'); \n",
       "newElement.style.fill = 'green'; \n",
       "svg.appendChild(newElement);\n",
       "newElement = document.createElementNS(\"http://www.w3.org/2000/svg\", 'rect'); \n",
       "newElement.setAttribute('width','1'); \n",
       "newElement.setAttribute('height','1'); \n",
       "newElement.setAttribute('x','14'); \n",
       "newElement.setAttribute('y','9'); \n",
       "newElement.style.fill = 'green'; \n",
       "svg.appendChild(newElement);\n",
       "newElement = document.createElementNS(\"http://www.w3.org/2000/svg\", 'rect'); \n",
       "newElement.setAttribute('width','1'); \n",
       "newElement.setAttribute('height','1'); \n",
       "newElement.setAttribute('x','15'); \n",
       "newElement.setAttribute('y','9'); \n",
       "newElement.style.fill = 'green'; \n",
       "svg.appendChild(newElement);\n",
       "newElement = document.createElementNS(\"http://www.w3.org/2000/svg\", 'rect'); \n",
       "newElement.setAttribute('width','1'); \n",
       "newElement.setAttribute('height','1'); \n",
       "newElement.setAttribute('x','16'); \n",
       "newElement.setAttribute('y','9'); \n",
       "newElement.style.fill = 'green'; \n",
       "svg.appendChild(newElement);\n",
       "newElement = document.createElementNS(\"http://www.w3.org/2000/svg\", 'rect'); \n",
       "newElement.setAttribute('width','1'); \n",
       "newElement.setAttribute('height','1'); \n",
       "newElement.setAttribute('x','0'); \n",
       "newElement.setAttribute('y','10'); \n",
       "newElement.style.fill = 'green'; \n",
       "svg.appendChild(newElement);\n",
       "newElement = document.createElementNS(\"http://www.w3.org/2000/svg\", 'rect'); \n",
       "newElement.setAttribute('width','1'); \n",
       "newElement.setAttribute('height','1'); \n",
       "newElement.setAttribute('x','1'); \n",
       "newElement.setAttribute('y','10'); \n",
       "newElement.style.fill = 'green'; \n",
       "svg.appendChild(newElement);\n",
       "newElement = document.createElementNS(\"http://www.w3.org/2000/svg\", 'rect'); \n",
       "newElement.setAttribute('width','1'); \n",
       "newElement.setAttribute('height','1'); \n",
       "newElement.setAttribute('x','2'); \n",
       "newElement.setAttribute('y','10'); \n",
       "newElement.style.fill = 'brown'; \n",
       "svg.appendChild(newElement);\n",
       "newElement = document.createElementNS(\"http://www.w3.org/2000/svg\", 'rect'); \n",
       "newElement.setAttribute('width','1'); \n",
       "newElement.setAttribute('height','1'); \n",
       "newElement.setAttribute('x','3'); \n",
       "newElement.setAttribute('y','10'); \n",
       "newElement.style.fill = 'brown'; \n",
       "svg.appendChild(newElement);\n",
       "newElement = document.createElementNS(\"http://www.w3.org/2000/svg\", 'rect'); \n",
       "newElement.setAttribute('width','1'); \n",
       "newElement.setAttribute('height','1'); \n",
       "newElement.setAttribute('x','4'); \n",
       "newElement.setAttribute('y','10'); \n",
       "newElement.style.fill = 'brown'; \n",
       "svg.appendChild(newElement);\n",
       "newElement = document.createElementNS(\"http://www.w3.org/2000/svg\", 'rect'); \n",
       "newElement.setAttribute('width','1'); \n",
       "newElement.setAttribute('height','1'); \n",
       "newElement.setAttribute('x','5'); \n",
       "newElement.setAttribute('y','10'); \n",
       "newElement.style.fill = 'brown'; \n",
       "svg.appendChild(newElement);\n",
       "newElement = document.createElementNS(\"http://www.w3.org/2000/svg\", 'rect'); \n",
       "newElement.setAttribute('width','1'); \n",
       "newElement.setAttribute('height','1'); \n",
       "newElement.setAttribute('x','6'); \n",
       "newElement.setAttribute('y','10'); \n",
       "newElement.style.fill = 'green'; \n",
       "svg.appendChild(newElement);\n",
       "newElement = document.createElementNS(\"http://www.w3.org/2000/svg\", 'rect'); \n",
       "newElement.setAttribute('width','1'); \n",
       "newElement.setAttribute('height','1'); \n",
       "newElement.setAttribute('x','7'); \n",
       "newElement.setAttribute('y','10'); \n",
       "newElement.style.fill = 'green'; \n",
       "svg.appendChild(newElement);\n",
       "newElement = document.createElementNS(\"http://www.w3.org/2000/svg\", 'rect'); \n",
       "newElement.setAttribute('width','1'); \n",
       "newElement.setAttribute('height','1'); \n",
       "newElement.setAttribute('x','8'); \n",
       "newElement.setAttribute('y','10'); \n",
       "newElement.style.fill = 'green'; \n",
       "svg.appendChild(newElement);\n",
       "newElement = document.createElementNS(\"http://www.w3.org/2000/svg\", 'rect'); \n",
       "newElement.setAttribute('width','1'); \n",
       "newElement.setAttribute('height','1'); \n",
       "newElement.setAttribute('x','9'); \n",
       "newElement.setAttribute('y','10'); \n",
       "newElement.style.fill = 'green'; \n",
       "svg.appendChild(newElement);\n",
       "newElement = document.createElementNS(\"http://www.w3.org/2000/svg\", 'rect'); \n",
       "newElement.setAttribute('width','1'); \n",
       "newElement.setAttribute('height','1'); \n",
       "newElement.setAttribute('x','10'); \n",
       "newElement.setAttribute('y','10'); \n",
       "newElement.style.fill = 'green'; \n",
       "svg.appendChild(newElement);\n",
       "newElement = document.createElementNS(\"http://www.w3.org/2000/svg\", 'rect'); \n",
       "newElement.setAttribute('width','1'); \n",
       "newElement.setAttribute('height','1'); \n",
       "newElement.setAttribute('x','11'); \n",
       "newElement.setAttribute('y','10'); \n",
       "newElement.style.fill = 'green'; \n",
       "svg.appendChild(newElement);\n",
       "newElement = document.createElementNS(\"http://www.w3.org/2000/svg\", 'rect'); \n",
       "newElement.setAttribute('width','1'); \n",
       "newElement.setAttribute('height','1'); \n",
       "newElement.setAttribute('x','12'); \n",
       "newElement.setAttribute('y','10'); \n",
       "newElement.style.fill = 'green'; \n",
       "svg.appendChild(newElement);\n",
       "newElement = document.createElementNS(\"http://www.w3.org/2000/svg\", 'rect'); \n",
       "newElement.setAttribute('width','1'); \n",
       "newElement.setAttribute('height','1'); \n",
       "newElement.setAttribute('x','13'); \n",
       "newElement.setAttribute('y','10'); \n",
       "newElement.style.fill = 'green'; \n",
       "svg.appendChild(newElement);\n",
       "newElement = document.createElementNS(\"http://www.w3.org/2000/svg\", 'rect'); \n",
       "newElement.setAttribute('width','1'); \n",
       "newElement.setAttribute('height','1'); \n",
       "newElement.setAttribute('x','14'); \n",
       "newElement.setAttribute('y','10'); \n",
       "newElement.style.fill = 'green'; \n",
       "svg.appendChild(newElement);\n",
       "newElement = document.createElementNS(\"http://www.w3.org/2000/svg\", 'rect'); \n",
       "newElement.setAttribute('width','1'); \n",
       "newElement.setAttribute('height','1'); \n",
       "newElement.setAttribute('x','15'); \n",
       "newElement.setAttribute('y','10'); \n",
       "newElement.style.fill = 'green'; \n",
       "svg.appendChild(newElement);\n",
       "newElement = document.createElementNS(\"http://www.w3.org/2000/svg\", 'rect'); \n",
       "newElement.setAttribute('width','1'); \n",
       "newElement.setAttribute('height','1'); \n",
       "newElement.setAttribute('x','16'); \n",
       "newElement.setAttribute('y','10'); \n",
       "newElement.style.fill = 'green'; \n",
       "svg.appendChild(newElement);\n",
       "newElement = document.createElementNS(\"http://www.w3.org/2000/svg\", 'rect'); \n",
       "newElement.setAttribute('width','1'); \n",
       "newElement.setAttribute('height','1'); \n",
       "newElement.setAttribute('x','0'); \n",
       "newElement.setAttribute('y','11'); \n",
       "newElement.style.fill = 'green'; \n",
       "svg.appendChild(newElement);\n",
       "newElement = document.createElementNS(\"http://www.w3.org/2000/svg\", 'rect'); \n",
       "newElement.setAttribute('width','1'); \n",
       "newElement.setAttribute('height','1'); \n",
       "newElement.setAttribute('x','1'); \n",
       "newElement.setAttribute('y','11'); \n",
       "newElement.style.fill = 'green'; \n",
       "svg.appendChild(newElement);\n",
       "newElement = document.createElementNS(\"http://www.w3.org/2000/svg\", 'rect'); \n",
       "newElement.setAttribute('width','1'); \n",
       "newElement.setAttribute('height','1'); \n",
       "newElement.setAttribute('x','2'); \n",
       "newElement.setAttribute('y','11'); \n",
       "newElement.style.fill = 'brown'; \n",
       "svg.appendChild(newElement);\n",
       "newElement = document.createElementNS(\"http://www.w3.org/2000/svg\", 'rect'); \n",
       "newElement.setAttribute('width','1'); \n",
       "newElement.setAttribute('height','1'); \n",
       "newElement.setAttribute('x','3'); \n",
       "newElement.setAttribute('y','11'); \n",
       "newElement.style.fill = 'brown'; \n",
       "svg.appendChild(newElement);\n",
       "newElement = document.createElementNS(\"http://www.w3.org/2000/svg\", 'rect'); \n",
       "newElement.setAttribute('width','1'); \n",
       "newElement.setAttribute('height','1'); \n",
       "newElement.setAttribute('x','4'); \n",
       "newElement.setAttribute('y','11'); \n",
       "newElement.style.fill = 'brown'; \n",
       "svg.appendChild(newElement);\n",
       "newElement = document.createElementNS(\"http://www.w3.org/2000/svg\", 'rect'); \n",
       "newElement.setAttribute('width','1'); \n",
       "newElement.setAttribute('height','1'); \n",
       "newElement.setAttribute('x','5'); \n",
       "newElement.setAttribute('y','11'); \n",
       "newElement.style.fill = 'brown'; \n",
       "svg.appendChild(newElement);\n",
       "newElement = document.createElementNS(\"http://www.w3.org/2000/svg\", 'rect'); \n",
       "newElement.setAttribute('width','1'); \n",
       "newElement.setAttribute('height','1'); \n",
       "newElement.setAttribute('x','6'); \n",
       "newElement.setAttribute('y','11'); \n",
       "newElement.style.fill = 'green'; \n",
       "svg.appendChild(newElement);\n",
       "newElement = document.createElementNS(\"http://www.w3.org/2000/svg\", 'rect'); \n",
       "newElement.setAttribute('width','1'); \n",
       "newElement.setAttribute('height','1'); \n",
       "newElement.setAttribute('x','7'); \n",
       "newElement.setAttribute('y','11'); \n",
       "newElement.style.fill = 'green'; \n",
       "svg.appendChild(newElement);\n",
       "newElement = document.createElementNS(\"http://www.w3.org/2000/svg\", 'rect'); \n",
       "newElement.setAttribute('width','1'); \n",
       "newElement.setAttribute('height','1'); \n",
       "newElement.setAttribute('x','8'); \n",
       "newElement.setAttribute('y','11'); \n",
       "newElement.style.fill = 'green'; \n",
       "svg.appendChild(newElement);\n",
       "newElement = document.createElementNS(\"http://www.w3.org/2000/svg\", 'rect'); \n",
       "newElement.setAttribute('width','1'); \n",
       "newElement.setAttribute('height','1'); \n",
       "newElement.setAttribute('x','9'); \n",
       "newElement.setAttribute('y','11'); \n",
       "newElement.style.fill = 'green'; \n",
       "svg.appendChild(newElement);\n",
       "newElement = document.createElementNS(\"http://www.w3.org/2000/svg\", 'rect'); \n",
       "newElement.setAttribute('width','1'); \n",
       "newElement.setAttribute('height','1'); \n",
       "newElement.setAttribute('x','10'); \n",
       "newElement.setAttribute('y','11'); \n",
       "newElement.style.fill = 'green'; \n",
       "svg.appendChild(newElement);\n",
       "newElement = document.createElementNS(\"http://www.w3.org/2000/svg\", 'rect'); \n",
       "newElement.setAttribute('width','1'); \n",
       "newElement.setAttribute('height','1'); \n",
       "newElement.setAttribute('x','11'); \n",
       "newElement.setAttribute('y','11'); \n",
       "newElement.style.fill = 'green'; \n",
       "svg.appendChild(newElement);\n",
       "newElement = document.createElementNS(\"http://www.w3.org/2000/svg\", 'rect'); \n",
       "newElement.setAttribute('width','1'); \n",
       "newElement.setAttribute('height','1'); \n",
       "newElement.setAttribute('x','12'); \n",
       "newElement.setAttribute('y','11'); \n",
       "newElement.style.fill = 'green'; \n",
       "svg.appendChild(newElement);\n",
       "newElement = document.createElementNS(\"http://www.w3.org/2000/svg\", 'rect'); \n",
       "newElement.setAttribute('width','1'); \n",
       "newElement.setAttribute('height','1'); \n",
       "newElement.setAttribute('x','13'); \n",
       "newElement.setAttribute('y','11'); \n",
       "newElement.style.fill = 'green'; \n",
       "svg.appendChild(newElement);\n",
       "newElement = document.createElementNS(\"http://www.w3.org/2000/svg\", 'rect'); \n",
       "newElement.setAttribute('width','1'); \n",
       "newElement.setAttribute('height','1'); \n",
       "newElement.setAttribute('x','14'); \n",
       "newElement.setAttribute('y','11'); \n",
       "newElement.style.fill = 'green'; \n",
       "svg.appendChild(newElement);\n",
       "newElement = document.createElementNS(\"http://www.w3.org/2000/svg\", 'rect'); \n",
       "newElement.setAttribute('width','1'); \n",
       "newElement.setAttribute('height','1'); \n",
       "newElement.setAttribute('x','15'); \n",
       "newElement.setAttribute('y','11'); \n",
       "newElement.style.fill = 'green'; \n",
       "svg.appendChild(newElement);\n",
       "newElement = document.createElementNS(\"http://www.w3.org/2000/svg\", 'rect'); \n",
       "newElement.setAttribute('width','1'); \n",
       "newElement.setAttribute('height','1'); \n",
       "newElement.setAttribute('x','16'); \n",
       "newElement.setAttribute('y','11'); \n",
       "newElement.style.fill = 'green'; \n",
       "svg.appendChild(newElement);\n",
       "newElement = document.createElementNS(\"http://www.w3.org/2000/svg\", 'rect'); \n",
       "newElement.setAttribute('width','1'); \n",
       "newElement.setAttribute('height','1'); \n",
       "newElement.setAttribute('x','0'); \n",
       "newElement.setAttribute('y','12'); \n",
       "newElement.style.fill = 'green'; \n",
       "svg.appendChild(newElement);\n",
       "newElement = document.createElementNS(\"http://www.w3.org/2000/svg\", 'rect'); \n",
       "newElement.setAttribute('width','1'); \n",
       "newElement.setAttribute('height','1'); \n",
       "newElement.setAttribute('x','1'); \n",
       "newElement.setAttribute('y','12'); \n",
       "newElement.style.fill = 'green'; \n",
       "svg.appendChild(newElement);\n",
       "newElement = document.createElementNS(\"http://www.w3.org/2000/svg\", 'rect'); \n",
       "newElement.setAttribute('width','1'); \n",
       "newElement.setAttribute('height','1'); \n",
       "newElement.setAttribute('x','2'); \n",
       "newElement.setAttribute('y','12'); \n",
       "newElement.style.fill = 'brown'; \n",
       "svg.appendChild(newElement);\n",
       "newElement = document.createElementNS(\"http://www.w3.org/2000/svg\", 'rect'); \n",
       "newElement.setAttribute('width','1'); \n",
       "newElement.setAttribute('height','1'); \n",
       "newElement.setAttribute('x','3'); \n",
       "newElement.setAttribute('y','12'); \n",
       "newElement.style.fill = 'brown'; \n",
       "svg.appendChild(newElement);\n",
       "newElement = document.createElementNS(\"http://www.w3.org/2000/svg\", 'rect'); \n",
       "newElement.setAttribute('width','1'); \n",
       "newElement.setAttribute('height','1'); \n",
       "newElement.setAttribute('x','4'); \n",
       "newElement.setAttribute('y','12'); \n",
       "newElement.style.fill = 'brown'; \n",
       "svg.appendChild(newElement);\n",
       "newElement = document.createElementNS(\"http://www.w3.org/2000/svg\", 'rect'); \n",
       "newElement.setAttribute('width','1'); \n",
       "newElement.setAttribute('height','1'); \n",
       "newElement.setAttribute('x','5'); \n",
       "newElement.setAttribute('y','12'); \n",
       "newElement.style.fill = 'brown'; \n",
       "svg.appendChild(newElement);\n",
       "newElement = document.createElementNS(\"http://www.w3.org/2000/svg\", 'rect'); \n",
       "newElement.setAttribute('width','1'); \n",
       "newElement.setAttribute('height','1'); \n",
       "newElement.setAttribute('x','6'); \n",
       "newElement.setAttribute('y','12'); \n",
       "newElement.style.fill = 'green'; \n",
       "svg.appendChild(newElement);\n",
       "newElement = document.createElementNS(\"http://www.w3.org/2000/svg\", 'rect'); \n",
       "newElement.setAttribute('width','1'); \n",
       "newElement.setAttribute('height','1'); \n",
       "newElement.setAttribute('x','7'); \n",
       "newElement.setAttribute('y','12'); \n",
       "newElement.style.fill = 'green'; \n",
       "svg.appendChild(newElement);\n",
       "newElement = document.createElementNS(\"http://www.w3.org/2000/svg\", 'rect'); \n",
       "newElement.setAttribute('width','1'); \n",
       "newElement.setAttribute('height','1'); \n",
       "newElement.setAttribute('x','8'); \n",
       "newElement.setAttribute('y','12'); \n",
       "newElement.style.fill = 'green'; \n",
       "svg.appendChild(newElement);\n",
       "newElement = document.createElementNS(\"http://www.w3.org/2000/svg\", 'rect'); \n",
       "newElement.setAttribute('width','1'); \n",
       "newElement.setAttribute('height','1'); \n",
       "newElement.setAttribute('x','9'); \n",
       "newElement.setAttribute('y','12'); \n",
       "newElement.style.fill = 'green'; \n",
       "svg.appendChild(newElement);\n",
       "newElement = document.createElementNS(\"http://www.w3.org/2000/svg\", 'rect'); \n",
       "newElement.setAttribute('width','1'); \n",
       "newElement.setAttribute('height','1'); \n",
       "newElement.setAttribute('x','10'); \n",
       "newElement.setAttribute('y','12'); \n",
       "newElement.style.fill = 'green'; \n",
       "svg.appendChild(newElement);\n",
       "newElement = document.createElementNS(\"http://www.w3.org/2000/svg\", 'rect'); \n",
       "newElement.setAttribute('width','1'); \n",
       "newElement.setAttribute('height','1'); \n",
       "newElement.setAttribute('x','11'); \n",
       "newElement.setAttribute('y','12'); \n",
       "newElement.style.fill = 'green'; \n",
       "svg.appendChild(newElement);\n",
       "newElement = document.createElementNS(\"http://www.w3.org/2000/svg\", 'rect'); \n",
       "newElement.setAttribute('width','1'); \n",
       "newElement.setAttribute('height','1'); \n",
       "newElement.setAttribute('x','12'); \n",
       "newElement.setAttribute('y','12'); \n",
       "newElement.style.fill = 'green'; \n",
       "svg.appendChild(newElement);\n",
       "newElement = document.createElementNS(\"http://www.w3.org/2000/svg\", 'rect'); \n",
       "newElement.setAttribute('width','1'); \n",
       "newElement.setAttribute('height','1'); \n",
       "newElement.setAttribute('x','13'); \n",
       "newElement.setAttribute('y','12'); \n",
       "newElement.style.fill = 'green'; \n",
       "svg.appendChild(newElement);\n",
       "newElement = document.createElementNS(\"http://www.w3.org/2000/svg\", 'rect'); \n",
       "newElement.setAttribute('width','1'); \n",
       "newElement.setAttribute('height','1'); \n",
       "newElement.setAttribute('x','14'); \n",
       "newElement.setAttribute('y','12'); \n",
       "newElement.style.fill = 'green'; \n",
       "svg.appendChild(newElement);\n",
       "newElement = document.createElementNS(\"http://www.w3.org/2000/svg\", 'rect'); \n",
       "newElement.setAttribute('width','1'); \n",
       "newElement.setAttribute('height','1'); \n",
       "newElement.setAttribute('x','15'); \n",
       "newElement.setAttribute('y','12'); \n",
       "newElement.style.fill = 'green'; \n",
       "svg.appendChild(newElement);\n",
       "newElement = document.createElementNS(\"http://www.w3.org/2000/svg\", 'rect'); \n",
       "newElement.setAttribute('width','1'); \n",
       "newElement.setAttribute('height','1'); \n",
       "newElement.setAttribute('x','16'); \n",
       "newElement.setAttribute('y','12'); \n",
       "newElement.style.fill = 'green'; \n",
       "svg.appendChild(newElement);\n",
       "newElement = document.createElementNS(\"http://www.w3.org/2000/svg\", 'rect'); \n",
       "newElement.setAttribute('width','1'); \n",
       "newElement.setAttribute('height','1'); \n",
       "newElement.setAttribute('x','0'); \n",
       "newElement.setAttribute('y','13'); \n",
       "newElement.style.fill = 'green'; \n",
       "svg.appendChild(newElement);\n",
       "newElement = document.createElementNS(\"http://www.w3.org/2000/svg\", 'rect'); \n",
       "newElement.setAttribute('width','1'); \n",
       "newElement.setAttribute('height','1'); \n",
       "newElement.setAttribute('x','1'); \n",
       "newElement.setAttribute('y','13'); \n",
       "newElement.style.fill = 'green'; \n",
       "svg.appendChild(newElement);\n",
       "newElement = document.createElementNS(\"http://www.w3.org/2000/svg\", 'rect'); \n",
       "newElement.setAttribute('width','1'); \n",
       "newElement.setAttribute('height','1'); \n",
       "newElement.setAttribute('x','2'); \n",
       "newElement.setAttribute('y','13'); \n",
       "newElement.style.fill = 'brown'; \n",
       "svg.appendChild(newElement);\n",
       "newElement = document.createElementNS(\"http://www.w3.org/2000/svg\", 'rect'); \n",
       "newElement.setAttribute('width','1'); \n",
       "newElement.setAttribute('height','1'); \n",
       "newElement.setAttribute('x','3'); \n",
       "newElement.setAttribute('y','13'); \n",
       "newElement.style.fill = 'brown'; \n",
       "svg.appendChild(newElement);\n",
       "newElement = document.createElementNS(\"http://www.w3.org/2000/svg\", 'rect'); \n",
       "newElement.setAttribute('width','1'); \n",
       "newElement.setAttribute('height','1'); \n",
       "newElement.setAttribute('x','4'); \n",
       "newElement.setAttribute('y','13'); \n",
       "newElement.style.fill = 'brown'; \n",
       "svg.appendChild(newElement);\n",
       "newElement = document.createElementNS(\"http://www.w3.org/2000/svg\", 'rect'); \n",
       "newElement.setAttribute('width','1'); \n",
       "newElement.setAttribute('height','1'); \n",
       "newElement.setAttribute('x','5'); \n",
       "newElement.setAttribute('y','13'); \n",
       "newElement.style.fill = 'brown'; \n",
       "svg.appendChild(newElement);\n",
       "newElement = document.createElementNS(\"http://www.w3.org/2000/svg\", 'rect'); \n",
       "newElement.setAttribute('width','1'); \n",
       "newElement.setAttribute('height','1'); \n",
       "newElement.setAttribute('x','6'); \n",
       "newElement.setAttribute('y','13'); \n",
       "newElement.style.fill = 'green'; \n",
       "svg.appendChild(newElement);\n",
       "newElement = document.createElementNS(\"http://www.w3.org/2000/svg\", 'rect'); \n",
       "newElement.setAttribute('width','1'); \n",
       "newElement.setAttribute('height','1'); \n",
       "newElement.setAttribute('x','7'); \n",
       "newElement.setAttribute('y','13'); \n",
       "newElement.style.fill = 'green'; \n",
       "svg.appendChild(newElement);\n",
       "newElement = document.createElementNS(\"http://www.w3.org/2000/svg\", 'rect'); \n",
       "newElement.setAttribute('width','1'); \n",
       "newElement.setAttribute('height','1'); \n",
       "newElement.setAttribute('x','8'); \n",
       "newElement.setAttribute('y','13'); \n",
       "newElement.style.fill = 'green'; \n",
       "svg.appendChild(newElement);\n",
       "newElement = document.createElementNS(\"http://www.w3.org/2000/svg\", 'rect'); \n",
       "newElement.setAttribute('width','1'); \n",
       "newElement.setAttribute('height','1'); \n",
       "newElement.setAttribute('x','9'); \n",
       "newElement.setAttribute('y','13'); \n",
       "newElement.style.fill = 'green'; \n",
       "svg.appendChild(newElement);\n",
       "newElement = document.createElementNS(\"http://www.w3.org/2000/svg\", 'rect'); \n",
       "newElement.setAttribute('width','1'); \n",
       "newElement.setAttribute('height','1'); \n",
       "newElement.setAttribute('x','10'); \n",
       "newElement.setAttribute('y','13'); \n",
       "newElement.style.fill = 'green'; \n",
       "svg.appendChild(newElement);\n",
       "newElement = document.createElementNS(\"http://www.w3.org/2000/svg\", 'rect'); \n",
       "newElement.setAttribute('width','1'); \n",
       "newElement.setAttribute('height','1'); \n",
       "newElement.setAttribute('x','11'); \n",
       "newElement.setAttribute('y','13'); \n",
       "newElement.style.fill = 'green'; \n",
       "svg.appendChild(newElement);\n",
       "newElement = document.createElementNS(\"http://www.w3.org/2000/svg\", 'rect'); \n",
       "newElement.setAttribute('width','1'); \n",
       "newElement.setAttribute('height','1'); \n",
       "newElement.setAttribute('x','12'); \n",
       "newElement.setAttribute('y','13'); \n",
       "newElement.style.fill = 'green'; \n",
       "svg.appendChild(newElement);\n",
       "newElement = document.createElementNS(\"http://www.w3.org/2000/svg\", 'rect'); \n",
       "newElement.setAttribute('width','1'); \n",
       "newElement.setAttribute('height','1'); \n",
       "newElement.setAttribute('x','13'); \n",
       "newElement.setAttribute('y','13'); \n",
       "newElement.style.fill = 'green'; \n",
       "svg.appendChild(newElement);\n",
       "newElement = document.createElementNS(\"http://www.w3.org/2000/svg\", 'rect'); \n",
       "newElement.setAttribute('width','1'); \n",
       "newElement.setAttribute('height','1'); \n",
       "newElement.setAttribute('x','14'); \n",
       "newElement.setAttribute('y','13'); \n",
       "newElement.style.fill = 'green'; \n",
       "svg.appendChild(newElement);\n",
       "newElement = document.createElementNS(\"http://www.w3.org/2000/svg\", 'rect'); \n",
       "newElement.setAttribute('width','1'); \n",
       "newElement.setAttribute('height','1'); \n",
       "newElement.setAttribute('x','15'); \n",
       "newElement.setAttribute('y','13'); \n",
       "newElement.style.fill = 'green'; \n",
       "svg.appendChild(newElement);\n",
       "newElement = document.createElementNS(\"http://www.w3.org/2000/svg\", 'rect'); \n",
       "newElement.setAttribute('width','1'); \n",
       "newElement.setAttribute('height','1'); \n",
       "newElement.setAttribute('x','16'); \n",
       "newElement.setAttribute('y','13'); \n",
       "newElement.style.fill = 'green'; \n",
       "svg.appendChild(newElement);\n",
       "newElement = document.createElementNS(\"http://www.w3.org/2000/svg\", 'rect'); \n",
       "newElement.setAttribute('width','1'); \n",
       "newElement.setAttribute('height','1'); \n",
       "newElement.setAttribute('x','0'); \n",
       "newElement.setAttribute('y','14'); \n",
       "newElement.style.fill = 'green'; \n",
       "svg.appendChild(newElement);\n",
       "newElement = document.createElementNS(\"http://www.w3.org/2000/svg\", 'rect'); \n",
       "newElement.setAttribute('width','1'); \n",
       "newElement.setAttribute('height','1'); \n",
       "newElement.setAttribute('x','1'); \n",
       "newElement.setAttribute('y','14'); \n",
       "newElement.style.fill = 'green'; \n",
       "svg.appendChild(newElement);\n",
       "newElement = document.createElementNS(\"http://www.w3.org/2000/svg\", 'rect'); \n",
       "newElement.setAttribute('width','1'); \n",
       "newElement.setAttribute('height','1'); \n",
       "newElement.setAttribute('x','2'); \n",
       "newElement.setAttribute('y','14'); \n",
       "newElement.style.fill = 'brown'; \n",
       "svg.appendChild(newElement);\n",
       "newElement = document.createElementNS(\"http://www.w3.org/2000/svg\", 'rect'); \n",
       "newElement.setAttribute('width','1'); \n",
       "newElement.setAttribute('height','1'); \n",
       "newElement.setAttribute('x','3'); \n",
       "newElement.setAttribute('y','14'); \n",
       "newElement.style.fill = 'brown'; \n",
       "svg.appendChild(newElement);\n",
       "newElement = document.createElementNS(\"http://www.w3.org/2000/svg\", 'rect'); \n",
       "newElement.setAttribute('width','1'); \n",
       "newElement.setAttribute('height','1'); \n",
       "newElement.setAttribute('x','4'); \n",
       "newElement.setAttribute('y','14'); \n",
       "newElement.style.fill = 'brown'; \n",
       "svg.appendChild(newElement);\n",
       "newElement = document.createElementNS(\"http://www.w3.org/2000/svg\", 'rect'); \n",
       "newElement.setAttribute('width','1'); \n",
       "newElement.setAttribute('height','1'); \n",
       "newElement.setAttribute('x','5'); \n",
       "newElement.setAttribute('y','14'); \n",
       "newElement.style.fill = 'brown'; \n",
       "svg.appendChild(newElement);\n",
       "newElement = document.createElementNS(\"http://www.w3.org/2000/svg\", 'rect'); \n",
       "newElement.setAttribute('width','1'); \n",
       "newElement.setAttribute('height','1'); \n",
       "newElement.setAttribute('x','6'); \n",
       "newElement.setAttribute('y','14'); \n",
       "newElement.style.fill = 'green'; \n",
       "svg.appendChild(newElement);\n",
       "newElement = document.createElementNS(\"http://www.w3.org/2000/svg\", 'rect'); \n",
       "newElement.setAttribute('width','1'); \n",
       "newElement.setAttribute('height','1'); \n",
       "newElement.setAttribute('x','7'); \n",
       "newElement.setAttribute('y','14'); \n",
       "newElement.style.fill = 'green'; \n",
       "svg.appendChild(newElement);\n",
       "newElement = document.createElementNS(\"http://www.w3.org/2000/svg\", 'rect'); \n",
       "newElement.setAttribute('width','1'); \n",
       "newElement.setAttribute('height','1'); \n",
       "newElement.setAttribute('x','8'); \n",
       "newElement.setAttribute('y','14'); \n",
       "newElement.style.fill = 'green'; \n",
       "svg.appendChild(newElement);\n",
       "newElement = document.createElementNS(\"http://www.w3.org/2000/svg\", 'rect'); \n",
       "newElement.setAttribute('width','1'); \n",
       "newElement.setAttribute('height','1'); \n",
       "newElement.setAttribute('x','9'); \n",
       "newElement.setAttribute('y','14'); \n",
       "newElement.style.fill = 'green'; \n",
       "svg.appendChild(newElement);\n",
       "newElement = document.createElementNS(\"http://www.w3.org/2000/svg\", 'rect'); \n",
       "newElement.setAttribute('width','1'); \n",
       "newElement.setAttribute('height','1'); \n",
       "newElement.setAttribute('x','10'); \n",
       "newElement.setAttribute('y','14'); \n",
       "newElement.style.fill = 'green'; \n",
       "svg.appendChild(newElement);\n",
       "newElement = document.createElementNS(\"http://www.w3.org/2000/svg\", 'rect'); \n",
       "newElement.setAttribute('width','1'); \n",
       "newElement.setAttribute('height','1'); \n",
       "newElement.setAttribute('x','11'); \n",
       "newElement.setAttribute('y','14'); \n",
       "newElement.style.fill = 'green'; \n",
       "svg.appendChild(newElement);\n",
       "newElement = document.createElementNS(\"http://www.w3.org/2000/svg\", 'rect'); \n",
       "newElement.setAttribute('width','1'); \n",
       "newElement.setAttribute('height','1'); \n",
       "newElement.setAttribute('x','12'); \n",
       "newElement.setAttribute('y','14'); \n",
       "newElement.style.fill = 'green'; \n",
       "svg.appendChild(newElement);\n",
       "newElement = document.createElementNS(\"http://www.w3.org/2000/svg\", 'rect'); \n",
       "newElement.setAttribute('width','1'); \n",
       "newElement.setAttribute('height','1'); \n",
       "newElement.setAttribute('x','13'); \n",
       "newElement.setAttribute('y','14'); \n",
       "newElement.style.fill = 'green'; \n",
       "svg.appendChild(newElement);\n",
       "newElement = document.createElementNS(\"http://www.w3.org/2000/svg\", 'rect'); \n",
       "newElement.setAttribute('width','1'); \n",
       "newElement.setAttribute('height','1'); \n",
       "newElement.setAttribute('x','14'); \n",
       "newElement.setAttribute('y','14'); \n",
       "newElement.style.fill = 'green'; \n",
       "svg.appendChild(newElement);\n",
       "newElement = document.createElementNS(\"http://www.w3.org/2000/svg\", 'rect'); \n",
       "newElement.setAttribute('width','1'); \n",
       "newElement.setAttribute('height','1'); \n",
       "newElement.setAttribute('x','15'); \n",
       "newElement.setAttribute('y','14'); \n",
       "newElement.style.fill = 'green'; \n",
       "svg.appendChild(newElement);\n",
       "newElement = document.createElementNS(\"http://www.w3.org/2000/svg\", 'rect'); \n",
       "newElement.setAttribute('width','1'); \n",
       "newElement.setAttribute('height','1'); \n",
       "newElement.setAttribute('x','16'); \n",
       "newElement.setAttribute('y','14'); \n",
       "newElement.style.fill = 'green'; \n",
       "svg.appendChild(newElement);\n",
       "newElement = document.createElementNS(\"http://www.w3.org/2000/svg\", 'rect'); \n",
       "newElement.setAttribute('width','1'); \n",
       "newElement.setAttribute('height','1'); \n",
       "newElement.setAttribute('x','0'); \n",
       "newElement.setAttribute('y','15'); \n",
       "newElement.style.fill = 'green'; \n",
       "svg.appendChild(newElement);\n",
       "newElement = document.createElementNS(\"http://www.w3.org/2000/svg\", 'rect'); \n",
       "newElement.setAttribute('width','1'); \n",
       "newElement.setAttribute('height','1'); \n",
       "newElement.setAttribute('x','1'); \n",
       "newElement.setAttribute('y','15'); \n",
       "newElement.style.fill = 'green'; \n",
       "svg.appendChild(newElement);\n",
       "newElement = document.createElementNS(\"http://www.w3.org/2000/svg\", 'rect'); \n",
       "newElement.setAttribute('width','1'); \n",
       "newElement.setAttribute('height','1'); \n",
       "newElement.setAttribute('x','2'); \n",
       "newElement.setAttribute('y','15'); \n",
       "newElement.style.fill = 'brown'; \n",
       "svg.appendChild(newElement);\n",
       "newElement = document.createElementNS(\"http://www.w3.org/2000/svg\", 'rect'); \n",
       "newElement.setAttribute('width','1'); \n",
       "newElement.setAttribute('height','1'); \n",
       "newElement.setAttribute('x','3'); \n",
       "newElement.setAttribute('y','15'); \n",
       "newElement.style.fill = 'brown'; \n",
       "svg.appendChild(newElement);\n",
       "newElement = document.createElementNS(\"http://www.w3.org/2000/svg\", 'rect'); \n",
       "newElement.setAttribute('width','1'); \n",
       "newElement.setAttribute('height','1'); \n",
       "newElement.setAttribute('x','4'); \n",
       "newElement.setAttribute('y','15'); \n",
       "newElement.style.fill = 'brown'; \n",
       "svg.appendChild(newElement);\n",
       "newElement = document.createElementNS(\"http://www.w3.org/2000/svg\", 'rect'); \n",
       "newElement.setAttribute('width','1'); \n",
       "newElement.setAttribute('height','1'); \n",
       "newElement.setAttribute('x','5'); \n",
       "newElement.setAttribute('y','15'); \n",
       "newElement.style.fill = 'brown'; \n",
       "svg.appendChild(newElement);\n",
       "newElement = document.createElementNS(\"http://www.w3.org/2000/svg\", 'rect'); \n",
       "newElement.setAttribute('width','1'); \n",
       "newElement.setAttribute('height','1'); \n",
       "newElement.setAttribute('x','6'); \n",
       "newElement.setAttribute('y','15'); \n",
       "newElement.style.fill = 'green'; \n",
       "svg.appendChild(newElement);\n",
       "newElement = document.createElementNS(\"http://www.w3.org/2000/svg\", 'rect'); \n",
       "newElement.setAttribute('width','1'); \n",
       "newElement.setAttribute('height','1'); \n",
       "newElement.setAttribute('x','7'); \n",
       "newElement.setAttribute('y','15'); \n",
       "newElement.style.fill = 'green'; \n",
       "svg.appendChild(newElement);\n",
       "newElement = document.createElementNS(\"http://www.w3.org/2000/svg\", 'rect'); \n",
       "newElement.setAttribute('width','1'); \n",
       "newElement.setAttribute('height','1'); \n",
       "newElement.setAttribute('x','8'); \n",
       "newElement.setAttribute('y','15'); \n",
       "newElement.style.fill = 'green'; \n",
       "svg.appendChild(newElement);\n",
       "newElement = document.createElementNS(\"http://www.w3.org/2000/svg\", 'rect'); \n",
       "newElement.setAttribute('width','1'); \n",
       "newElement.setAttribute('height','1'); \n",
       "newElement.setAttribute('x','9'); \n",
       "newElement.setAttribute('y','15'); \n",
       "newElement.style.fill = 'green'; \n",
       "svg.appendChild(newElement);\n",
       "newElement = document.createElementNS(\"http://www.w3.org/2000/svg\", 'rect'); \n",
       "newElement.setAttribute('width','1'); \n",
       "newElement.setAttribute('height','1'); \n",
       "newElement.setAttribute('x','10'); \n",
       "newElement.setAttribute('y','15'); \n",
       "newElement.style.fill = 'green'; \n",
       "svg.appendChild(newElement);\n",
       "newElement = document.createElementNS(\"http://www.w3.org/2000/svg\", 'rect'); \n",
       "newElement.setAttribute('width','1'); \n",
       "newElement.setAttribute('height','1'); \n",
       "newElement.setAttribute('x','11'); \n",
       "newElement.setAttribute('y','15'); \n",
       "newElement.style.fill = 'green'; \n",
       "svg.appendChild(newElement);\n",
       "newElement = document.createElementNS(\"http://www.w3.org/2000/svg\", 'rect'); \n",
       "newElement.setAttribute('width','1'); \n",
       "newElement.setAttribute('height','1'); \n",
       "newElement.setAttribute('x','12'); \n",
       "newElement.setAttribute('y','15'); \n",
       "newElement.style.fill = 'green'; \n",
       "svg.appendChild(newElement);\n",
       "newElement = document.createElementNS(\"http://www.w3.org/2000/svg\", 'rect'); \n",
       "newElement.setAttribute('width','1'); \n",
       "newElement.setAttribute('height','1'); \n",
       "newElement.setAttribute('x','13'); \n",
       "newElement.setAttribute('y','15'); \n",
       "newElement.style.fill = 'green'; \n",
       "svg.appendChild(newElement);\n",
       "newElement = document.createElementNS(\"http://www.w3.org/2000/svg\", 'rect'); \n",
       "newElement.setAttribute('width','1'); \n",
       "newElement.setAttribute('height','1'); \n",
       "newElement.setAttribute('x','14'); \n",
       "newElement.setAttribute('y','15'); \n",
       "newElement.style.fill = 'green'; \n",
       "svg.appendChild(newElement);\n",
       "newElement = document.createElementNS(\"http://www.w3.org/2000/svg\", 'rect'); \n",
       "newElement.setAttribute('width','1'); \n",
       "newElement.setAttribute('height','1'); \n",
       "newElement.setAttribute('x','15'); \n",
       "newElement.setAttribute('y','15'); \n",
       "newElement.style.fill = 'green'; \n",
       "svg.appendChild(newElement);\n",
       "newElement = document.createElementNS(\"http://www.w3.org/2000/svg\", 'rect'); \n",
       "newElement.setAttribute('width','1'); \n",
       "newElement.setAttribute('height','1'); \n",
       "newElement.setAttribute('x','16'); \n",
       "newElement.setAttribute('y','15'); \n",
       "newElement.style.fill = 'green'; \n",
       "svg.appendChild(newElement);\n",
       "newElement = document.createElementNS(\"http://www.w3.org/2000/svg\", 'rect'); \n",
       "newElement.setAttribute('width','1'); \n",
       "newElement.setAttribute('height','1'); \n",
       "newElement.setAttribute('x','0'); \n",
       "newElement.setAttribute('y','16'); \n",
       "newElement.style.fill = 'green'; \n",
       "svg.appendChild(newElement);\n",
       "newElement = document.createElementNS(\"http://www.w3.org/2000/svg\", 'rect'); \n",
       "newElement.setAttribute('width','1'); \n",
       "newElement.setAttribute('height','1'); \n",
       "newElement.setAttribute('x','1'); \n",
       "newElement.setAttribute('y','16'); \n",
       "newElement.style.fill = 'green'; \n",
       "svg.appendChild(newElement);\n",
       "newElement = document.createElementNS(\"http://www.w3.org/2000/svg\", 'rect'); \n",
       "newElement.setAttribute('width','1'); \n",
       "newElement.setAttribute('height','1'); \n",
       "newElement.setAttribute('x','2'); \n",
       "newElement.setAttribute('y','16'); \n",
       "newElement.style.fill = 'brown'; \n",
       "svg.appendChild(newElement);\n",
       "newElement = document.createElementNS(\"http://www.w3.org/2000/svg\", 'rect'); \n",
       "newElement.setAttribute('width','1'); \n",
       "newElement.setAttribute('height','1'); \n",
       "newElement.setAttribute('x','3'); \n",
       "newElement.setAttribute('y','16'); \n",
       "newElement.style.fill = 'brown'; \n",
       "svg.appendChild(newElement);\n",
       "newElement = document.createElementNS(\"http://www.w3.org/2000/svg\", 'rect'); \n",
       "newElement.setAttribute('width','1'); \n",
       "newElement.setAttribute('height','1'); \n",
       "newElement.setAttribute('x','4'); \n",
       "newElement.setAttribute('y','16'); \n",
       "newElement.style.fill = 'brown'; \n",
       "svg.appendChild(newElement);\n",
       "newElement = document.createElementNS(\"http://www.w3.org/2000/svg\", 'rect'); \n",
       "newElement.setAttribute('width','1'); \n",
       "newElement.setAttribute('height','1'); \n",
       "newElement.setAttribute('x','5'); \n",
       "newElement.setAttribute('y','16'); \n",
       "newElement.style.fill = 'brown'; \n",
       "svg.appendChild(newElement);\n",
       "newElement = document.createElementNS(\"http://www.w3.org/2000/svg\", 'rect'); \n",
       "newElement.setAttribute('width','1'); \n",
       "newElement.setAttribute('height','1'); \n",
       "newElement.setAttribute('x','6'); \n",
       "newElement.setAttribute('y','16'); \n",
       "newElement.style.fill = 'green'; \n",
       "svg.appendChild(newElement);\n",
       "newElement = document.createElementNS(\"http://www.w3.org/2000/svg\", 'rect'); \n",
       "newElement.setAttribute('width','1'); \n",
       "newElement.setAttribute('height','1'); \n",
       "newElement.setAttribute('x','7'); \n",
       "newElement.setAttribute('y','16'); \n",
       "newElement.style.fill = 'green'; \n",
       "svg.appendChild(newElement);\n",
       "newElement = document.createElementNS(\"http://www.w3.org/2000/svg\", 'rect'); \n",
       "newElement.setAttribute('width','1'); \n",
       "newElement.setAttribute('height','1'); \n",
       "newElement.setAttribute('x','8'); \n",
       "newElement.setAttribute('y','16'); \n",
       "newElement.style.fill = 'green'; \n",
       "svg.appendChild(newElement);\n",
       "newElement = document.createElementNS(\"http://www.w3.org/2000/svg\", 'rect'); \n",
       "newElement.setAttribute('width','1'); \n",
       "newElement.setAttribute('height','1'); \n",
       "newElement.setAttribute('x','9'); \n",
       "newElement.setAttribute('y','16'); \n",
       "newElement.style.fill = 'green'; \n",
       "svg.appendChild(newElement);\n",
       "newElement = document.createElementNS(\"http://www.w3.org/2000/svg\", 'rect'); \n",
       "newElement.setAttribute('width','1'); \n",
       "newElement.setAttribute('height','1'); \n",
       "newElement.setAttribute('x','10'); \n",
       "newElement.setAttribute('y','16'); \n",
       "newElement.style.fill = 'green'; \n",
       "svg.appendChild(newElement);\n",
       "newElement = document.createElementNS(\"http://www.w3.org/2000/svg\", 'rect'); \n",
       "newElement.setAttribute('width','1'); \n",
       "newElement.setAttribute('height','1'); \n",
       "newElement.setAttribute('x','11'); \n",
       "newElement.setAttribute('y','16'); \n",
       "newElement.style.fill = 'green'; \n",
       "svg.appendChild(newElement);\n",
       "newElement = document.createElementNS(\"http://www.w3.org/2000/svg\", 'rect'); \n",
       "newElement.setAttribute('width','1'); \n",
       "newElement.setAttribute('height','1'); \n",
       "newElement.setAttribute('x','12'); \n",
       "newElement.setAttribute('y','16'); \n",
       "newElement.style.fill = 'green'; \n",
       "svg.appendChild(newElement);\n",
       "newElement = document.createElementNS(\"http://www.w3.org/2000/svg\", 'rect'); \n",
       "newElement.setAttribute('width','1'); \n",
       "newElement.setAttribute('height','1'); \n",
       "newElement.setAttribute('x','13'); \n",
       "newElement.setAttribute('y','16'); \n",
       "newElement.style.fill = 'green'; \n",
       "svg.appendChild(newElement);\n",
       "newElement = document.createElementNS(\"http://www.w3.org/2000/svg\", 'rect'); \n",
       "newElement.setAttribute('width','1'); \n",
       "newElement.setAttribute('height','1'); \n",
       "newElement.setAttribute('x','14'); \n",
       "newElement.setAttribute('y','16'); \n",
       "newElement.style.fill = 'green'; \n",
       "svg.appendChild(newElement);\n",
       "newElement = document.createElementNS(\"http://www.w3.org/2000/svg\", 'rect'); \n",
       "newElement.setAttribute('width','1'); \n",
       "newElement.setAttribute('height','1'); \n",
       "newElement.setAttribute('x','15'); \n",
       "newElement.setAttribute('y','16'); \n",
       "newElement.style.fill = 'green'; \n",
       "svg.appendChild(newElement);\n",
       "newElement = document.createElementNS(\"http://www.w3.org/2000/svg\", 'rect'); \n",
       "newElement.setAttribute('width','1'); \n",
       "newElement.setAttribute('height','1'); \n",
       "newElement.setAttribute('x','16'); \n",
       "newElement.setAttribute('y','16'); \n",
       "newElement.style.fill = 'green'; \n",
       "svg.appendChild(newElement);\n",
       "newElement = document.createElementNS(\"http://www.w3.org/2000/svg\", 'rect'); \n",
       "newElement.setAttribute('width','1'); \n",
       "newElement.setAttribute('height','1'); \n",
       "newElement.setAttribute('x','0'); \n",
       "newElement.setAttribute('y','17'); \n",
       "newElement.style.fill = 'green'; \n",
       "svg.appendChild(newElement);\n",
       "newElement = document.createElementNS(\"http://www.w3.org/2000/svg\", 'rect'); \n",
       "newElement.setAttribute('width','1'); \n",
       "newElement.setAttribute('height','1'); \n",
       "newElement.setAttribute('x','1'); \n",
       "newElement.setAttribute('y','17'); \n",
       "newElement.style.fill = 'green'; \n",
       "svg.appendChild(newElement);\n",
       "newElement = document.createElementNS(\"http://www.w3.org/2000/svg\", 'rect'); \n",
       "newElement.setAttribute('width','1'); \n",
       "newElement.setAttribute('height','1'); \n",
       "newElement.setAttribute('x','2'); \n",
       "newElement.setAttribute('y','17'); \n",
       "newElement.style.fill = 'brown'; \n",
       "svg.appendChild(newElement);\n",
       "newElement = document.createElementNS(\"http://www.w3.org/2000/svg\", 'rect'); \n",
       "newElement.setAttribute('width','1'); \n",
       "newElement.setAttribute('height','1'); \n",
       "newElement.setAttribute('x','3'); \n",
       "newElement.setAttribute('y','17'); \n",
       "newElement.style.fill = 'brown'; \n",
       "svg.appendChild(newElement);\n",
       "newElement = document.createElementNS(\"http://www.w3.org/2000/svg\", 'rect'); \n",
       "newElement.setAttribute('width','1'); \n",
       "newElement.setAttribute('height','1'); \n",
       "newElement.setAttribute('x','4'); \n",
       "newElement.setAttribute('y','17'); \n",
       "newElement.style.fill = 'brown'; \n",
       "svg.appendChild(newElement);\n",
       "newElement = document.createElementNS(\"http://www.w3.org/2000/svg\", 'rect'); \n",
       "newElement.setAttribute('width','1'); \n",
       "newElement.setAttribute('height','1'); \n",
       "newElement.setAttribute('x','5'); \n",
       "newElement.setAttribute('y','17'); \n",
       "newElement.style.fill = 'brown'; \n",
       "svg.appendChild(newElement);\n",
       "newElement = document.createElementNS(\"http://www.w3.org/2000/svg\", 'rect'); \n",
       "newElement.setAttribute('width','1'); \n",
       "newElement.setAttribute('height','1'); \n",
       "newElement.setAttribute('x','6'); \n",
       "newElement.setAttribute('y','17'); \n",
       "newElement.style.fill = 'green'; \n",
       "svg.appendChild(newElement);\n",
       "newElement = document.createElementNS(\"http://www.w3.org/2000/svg\", 'rect'); \n",
       "newElement.setAttribute('width','1'); \n",
       "newElement.setAttribute('height','1'); \n",
       "newElement.setAttribute('x','7'); \n",
       "newElement.setAttribute('y','17'); \n",
       "newElement.style.fill = 'green'; \n",
       "svg.appendChild(newElement);\n",
       "newElement = document.createElementNS(\"http://www.w3.org/2000/svg\", 'rect'); \n",
       "newElement.setAttribute('width','1'); \n",
       "newElement.setAttribute('height','1'); \n",
       "newElement.setAttribute('x','8'); \n",
       "newElement.setAttribute('y','17'); \n",
       "newElement.style.fill = 'green'; \n",
       "svg.appendChild(newElement);\n",
       "newElement = document.createElementNS(\"http://www.w3.org/2000/svg\", 'rect'); \n",
       "newElement.setAttribute('width','1'); \n",
       "newElement.setAttribute('height','1'); \n",
       "newElement.setAttribute('x','9'); \n",
       "newElement.setAttribute('y','17'); \n",
       "newElement.style.fill = 'green'; \n",
       "svg.appendChild(newElement);\n",
       "newElement = document.createElementNS(\"http://www.w3.org/2000/svg\", 'rect'); \n",
       "newElement.setAttribute('width','1'); \n",
       "newElement.setAttribute('height','1'); \n",
       "newElement.setAttribute('x','10'); \n",
       "newElement.setAttribute('y','17'); \n",
       "newElement.style.fill = 'green'; \n",
       "svg.appendChild(newElement);\n",
       "newElement = document.createElementNS(\"http://www.w3.org/2000/svg\", 'rect'); \n",
       "newElement.setAttribute('width','1'); \n",
       "newElement.setAttribute('height','1'); \n",
       "newElement.setAttribute('x','11'); \n",
       "newElement.setAttribute('y','17'); \n",
       "newElement.style.fill = 'green'; \n",
       "svg.appendChild(newElement);\n",
       "newElement = document.createElementNS(\"http://www.w3.org/2000/svg\", 'rect'); \n",
       "newElement.setAttribute('width','1'); \n",
       "newElement.setAttribute('height','1'); \n",
       "newElement.setAttribute('x','12'); \n",
       "newElement.setAttribute('y','17'); \n",
       "newElement.style.fill = 'green'; \n",
       "svg.appendChild(newElement);\n",
       "newElement = document.createElementNS(\"http://www.w3.org/2000/svg\", 'rect'); \n",
       "newElement.setAttribute('width','1'); \n",
       "newElement.setAttribute('height','1'); \n",
       "newElement.setAttribute('x','13'); \n",
       "newElement.setAttribute('y','17'); \n",
       "newElement.style.fill = 'green'; \n",
       "svg.appendChild(newElement);\n",
       "newElement = document.createElementNS(\"http://www.w3.org/2000/svg\", 'rect'); \n",
       "newElement.setAttribute('width','1'); \n",
       "newElement.setAttribute('height','1'); \n",
       "newElement.setAttribute('x','14'); \n",
       "newElement.setAttribute('y','17'); \n",
       "newElement.style.fill = 'green'; \n",
       "svg.appendChild(newElement);\n",
       "newElement = document.createElementNS(\"http://www.w3.org/2000/svg\", 'rect'); \n",
       "newElement.setAttribute('width','1'); \n",
       "newElement.setAttribute('height','1'); \n",
       "newElement.setAttribute('x','15'); \n",
       "newElement.setAttribute('y','17'); \n",
       "newElement.style.fill = 'green'; \n",
       "svg.appendChild(newElement);\n",
       "newElement = document.createElementNS(\"http://www.w3.org/2000/svg\", 'rect'); \n",
       "newElement.setAttribute('width','1'); \n",
       "newElement.setAttribute('height','1'); \n",
       "newElement.setAttribute('x','16'); \n",
       "newElement.setAttribute('y','17'); \n",
       "newElement.style.fill = 'green'; \n",
       "svg.appendChild(newElement);\n"
      ]
     },
     "metadata": {},
     "output_type": "display_data"
    }
   ],
   "source": [
    "rtcanvas = create_canvas(size(colour_array)..., 400, 400)\n",
    "add_pixels(rtcanvas, colour_array)"
   ]
  },
  {
   "cell_type": "code",
   "execution_count": 18,
   "metadata": {
    "collapsed": false
   },
   "outputs": [
    {
     "data": {
      "text/plain": [
       "RL.RLAgent(policy, [18, 3])"
      ]
     },
     "execution_count": 18,
     "metadata": {},
     "output_type": "execute_result"
    }
   ],
   "source": [
    "policy(state) = rand(right_turn.actions(state))\n",
    "init_state = [18, 3]\n",
    "agent = RLAgent(policy, init_state)"
   ]
  },
  {
   "cell_type": "code",
   "execution_count": 19,
   "metadata": {
    "collapsed": false
   },
   "outputs": [
    {
     "name": "stdout",
     "output_type": "stream",
     "text": [
      "step: 0, choosing left, moving to state [18, 2], obtaining reward -10\n",
      "step: 1, choosing down, moving to state [18, 2], obtaining reward -10\n",
      "step: 2, choosing up, moving to state [17, 2], obtaining reward -10\n",
      "step: 3, choosing up, moving to state [16, 2], obtaining reward -10\n",
      "step: 4, choosing right, moving to state [16, 3], obtaining reward -1\n",
      "step: 5, choosing down, moving to state [17, 3], obtaining reward -1\n",
      "step: 6, choosing left, moving to state [17, 2], obtaining reward -10\n",
      "step: 7, choosing left, moving to state [17, 1], obtaining reward -10\n",
      "step: 8, choosing down, moving to state [18, 1], obtaining reward -10\n",
      "step: 9, choosing up, moving to state [17, 1], obtaining reward -10\n",
      "step: 10, choosing right, moving to state [17, 2], obtaining reward -10\n",
      "step: 11, choosing up, moving to state [16, 2], obtaining reward -10\n",
      "step: 12, choosing down, moving to state [17, 2], obtaining reward -10\n",
      "step: 13, choosing left, moving to state [17, 1], obtaining reward -10\n",
      "step: 14, choosing right, moving to state [17, 2], obtaining reward -10\n",
      "step: 15, choosing right, moving to state [17, 3], obtaining reward -1\n",
      "step: 16, choosing up, moving to state [16, 3], obtaining reward -1\n",
      "step: 17, choosing right, moving to state [16, 4], obtaining reward -1\n",
      "step: 18, choosing left, moving to state [16, 3], obtaining reward -1\n",
      "step: 19, choosing up, moving to state [15, 3], obtaining reward -1\n",
      "step: 20, choosing up, moving to state [14, 3], obtaining reward -1\n",
      "step: 21, choosing up, moving to state [13, 3], obtaining reward -1\n",
      "step: 22, choosing up, moving to state [12, 3], obtaining reward -1\n",
      "step: 23, choosing right, moving to state [12, 4], obtaining reward -1\n",
      "step: 24, choosing left, moving to state [12, 3], obtaining reward -1\n",
      "step: 25, choosing down, moving to state [13, 3], obtaining reward -1\n",
      "step: 26, choosing right, moving to state [13, 4], obtaining reward -1\n",
      "step: 27, choosing up, moving to state [12, 4], obtaining reward -1\n",
      "step: 28, choosing down, moving to state [13, 4], obtaining reward -1\n",
      "step: 29, choosing up, moving to state [12, 4], obtaining reward -1\n",
      "step: 30, choosing down, moving to state [13, 4], obtaining reward -1\n",
      "step: 31, choosing up, moving to state [12, 4], obtaining reward -1\n",
      "step: 32, choosing right, moving to state [12, 5], obtaining reward -1\n",
      "step: 33, choosing down, moving to state [13, 5], obtaining reward -1\n",
      "step: 34, choosing down, moving to state [14, 5], obtaining reward -1\n",
      "step: 35, choosing left, moving to state [14, 4], obtaining reward -1\n",
      "step: 36, choosing down, moving to state [15, 4], obtaining reward -1\n",
      "step: 37, choosing right, moving to state [15, 5], obtaining reward -1\n",
      "step: 38, choosing up, moving to state [14, 5], obtaining reward -1\n",
      "step: 39, choosing down, moving to state [15, 5], obtaining reward -1\n",
      "step: 40, choosing left, moving to state [15, 4], obtaining reward -1\n",
      "step: 41, choosing down, moving to state [16, 4], obtaining reward -1\n",
      "step: 42, choosing right, moving to state [16, 5], obtaining reward -1\n",
      "step: 43, choosing down, moving to state [17, 5], obtaining reward -1\n",
      "step: 44, choosing down, moving to state [18, 5], obtaining reward -1\n",
      "step: 45, choosing down, moving to state [18, 5], obtaining reward -1\n",
      "step: 46, choosing up, moving to state [17, 5], obtaining reward -1\n",
      "step: 47, choosing right, moving to state [17, 6], obtaining reward -1\n",
      "step: 48, choosing up, moving to state [16, 6], obtaining reward -1\n",
      "step: 49, choosing up, moving to state [15, 6], obtaining reward -1\n",
      "step: 50, choosing up, moving to state [14, 6], obtaining reward -1\n",
      "step: 51, choosing right, moving to state [14, 7], obtaining reward -10\n",
      "step: 52, choosing up, moving to state [13, 7], obtaining reward -10\n",
      "step: 53, choosing down, moving to state [14, 7], obtaining reward -10\n",
      "step: 54, choosing left, moving to state [14, 6], obtaining reward -1\n",
      "step: 55, choosing up, moving to state [13, 6], obtaining reward -1\n",
      "step: 56, choosing left, moving to state [13, 5], obtaining reward -1\n",
      "step: 57, choosing down, moving to state [14, 5], obtaining reward -1\n",
      "step: 58, choosing right, moving to state [14, 6], obtaining reward -1\n",
      "step: 59, choosing up, moving to state [13, 6], obtaining reward -1\n",
      "step: 60, choosing down, moving to state [14, 6], obtaining reward -1\n",
      "step: 61, choosing down, moving to state [15, 6], obtaining reward -1\n",
      "step: 62, choosing up, moving to state [14, 6], obtaining reward -1\n",
      "step: 63, choosing right, moving to state [14, 7], obtaining reward -10\n",
      "step: 64, choosing down, moving to state [15, 7], obtaining reward -10\n",
      "step: 65, choosing right, moving to state [15, 8], obtaining reward -10\n",
      "step: 66, choosing down, moving to state [16, 8], obtaining reward -10\n",
      "step: 67, choosing down, moving to state [17, 8], obtaining reward -10\n",
      "step: 68, choosing left, moving to state [17, 7], obtaining reward -10\n",
      "step: 69, choosing right, moving to state [17, 8], obtaining reward -10\n",
      "step: 70, choosing right, moving to state [17, 9], obtaining reward -10\n",
      "step: 71, choosing right, moving to state [17, 10], obtaining reward -10\n",
      "step: 72, choosing down, moving to state [18, 10], obtaining reward -10\n",
      "step: 73, choosing left, moving to state [18, 9], obtaining reward -10\n",
      "step: 74, choosing left, moving to state [18, 8], obtaining reward -10\n",
      "step: 75, choosing up, moving to state [17, 8], obtaining reward -10\n",
      "step: 76, choosing down, moving to state [18, 8], obtaining reward -10\n",
      "step: 77, choosing down, moving to state [18, 8], obtaining reward -10\n",
      "step: 78, choosing down, moving to state [18, 8], obtaining reward -10\n",
      "step: 79, choosing left, moving to state [18, 7], obtaining reward -10\n",
      "step: 80, choosing right, moving to state [18, 8], obtaining reward -10\n",
      "step: 81, choosing down, moving to state [18, 8], obtaining reward -10\n",
      "step: 82, choosing right, moving to state [18, 9], obtaining reward -10\n",
      "step: 83, choosing left, moving to state [18, 8], obtaining reward -10\n",
      "step: 84, choosing down, moving to state [18, 8], obtaining reward -10\n",
      "step: 85, choosing down, moving to state [18, 8], obtaining reward -10\n",
      "step: 86, choosing down, moving to state [18, 8], obtaining reward -10\n",
      "step: 87, choosing left, moving to state [18, 7], obtaining reward -10\n",
      "step: 88, choosing up, moving to state [17, 7], obtaining reward -10\n",
      "step: 89, choosing down, moving to state [18, 7], obtaining reward -10\n",
      "step: 90, choosing left, moving to state [18, 6], obtaining reward -1\n",
      "step: 91, choosing up, moving to state [17, 6], obtaining reward -1\n",
      "step: 92, choosing left, moving to state [17, 5], obtaining reward -1\n",
      "step: 93, choosing right, moving to state [17, 6], obtaining reward -1\n",
      "step: 94, choosing right, moving to state [17, 7], obtaining reward -10\n",
      "step: 95, choosing right, moving to state [17, 8], obtaining reward -10\n",
      "step: 96, choosing down, moving to state [18, 8], obtaining reward -10\n",
      "step: 97, choosing up, moving to state [17, 8], obtaining reward -10\n",
      "step: 98, choosing up, moving to state [16, 8], obtaining reward -10\n",
      "step: 99, choosing down, moving to state [17, 8], obtaining reward -10\n",
      "step: 100, choosing right, moving to state [17, 9], obtaining reward -10\n",
      "step: 101, choosing up, moving to state [16, 9], obtaining reward -10\n",
      "step: 102, choosing up, moving to state [15, 9], obtaining reward -10\n",
      "step: 103, choosing left, moving to state [15, 8], obtaining reward -10\n",
      "step: 104, choosing right, moving to state [15, 9], obtaining reward -10\n",
      "step: 105, choosing up, moving to state [14, 9], obtaining reward -10\n",
      "step: 106, choosing up, moving to state [13, 9], obtaining reward -10\n",
      "step: 107, choosing down, moving to state [14, 9], obtaining reward -10\n",
      "step: 108, choosing down, moving to state [15, 9], obtaining reward -10\n",
      "step: 109, choosing up, moving to state [14, 9], obtaining reward -10\n",
      "step: 110, choosing up, moving to state [13, 9], obtaining reward -10\n",
      "step: 111, choosing down, moving to state [14, 9], obtaining reward -10\n",
      "step: 112, choosing left, moving to state [14, 8], obtaining reward -10\n",
      "step: 113, choosing down, moving to state [15, 8], obtaining reward -10\n",
      "step: 114, choosing left, moving to state [15, 7], obtaining reward -10\n",
      "step: 115, choosing up, moving to state [14, 7], obtaining reward -10\n",
      "step: 116, choosing up, moving to state [13, 7], obtaining reward -10\n",
      "step: 117, choosing right, moving to state [13, 8], obtaining reward -10\n",
      "step: 118, choosing down, moving to state [14, 8], obtaining reward -10\n",
      "step: 119, choosing left, moving to state [14, 7], obtaining reward -10\n",
      "step: 120, choosing right, moving to state [14, 8], obtaining reward -10\n",
      "step: 121, choosing right, moving to state [14, 9], obtaining reward -10\n",
      "step: 122, choosing left, moving to state [14, 8], obtaining reward -10\n",
      "step: 123, choosing up, moving to state [13, 8], obtaining reward -10\n",
      "step: 124, choosing left, moving to state [13, 7], obtaining reward -10\n",
      "step: 125, choosing up, moving to state [12, 7], obtaining reward -10\n",
      "step: 126, choosing down, moving to state [13, 7], obtaining reward -10\n",
      "step: 127, choosing up, moving to state [12, 7], obtaining reward -10\n",
      "step: 128, choosing left, moving to state [12, 6], obtaining reward -1\n",
      "step: 129, choosing up, moving to state [11, 6], obtaining reward -1\n",
      "step: 130, choosing left, moving to state [11, 5], obtaining reward -1\n",
      "step: 131, choosing left, moving to state [11, 4], obtaining reward -1\n",
      "step: 132, choosing up, moving to state [10, 4], obtaining reward -1\n",
      "step: 133, choosing left, moving to state [10, 3], obtaining reward -1\n",
      "step: 134, choosing up, moving to state [9, 3], obtaining reward -1\n",
      "step: 135, choosing left, moving to state [9, 2], obtaining reward -10\n",
      "step: 136, choosing left, moving to state [9, 1], obtaining reward -10\n",
      "step: 137, choosing left, moving to state [9, 1], obtaining reward -10\n",
      "step: 138, choosing left, moving to state [9, 1], obtaining reward -10\n",
      "step: 139, choosing up, moving to state [8, 1], obtaining reward -10\n",
      "step: 140, choosing right, moving to state [8, 2], obtaining reward -10\n",
      "step: 141, choosing up, moving to state [7, 2], obtaining reward -10\n",
      "step: 142, choosing up, moving to state [6, 2], obtaining reward -10\n",
      "step: 143, choosing left, moving to state [6, 1], obtaining reward -10\n",
      "step: 144, choosing right, moving to state [6, 2], obtaining reward -10\n",
      "step: 145, choosing up, moving to state [5, 2], obtaining reward -10\n",
      "step: 146, choosing down, moving to state [6, 2], obtaining reward -10\n",
      "step: 147, choosing left, moving to state [6, 1], obtaining reward -10\n",
      "step: 148, choosing up, moving to state [5, 1], obtaining reward -10\n",
      "step: 149, choosing left, moving to state [5, 1], obtaining reward -10\n",
      "step: 150, choosing up, moving to state [4, 1], obtaining reward -10\n",
      "step: 151, choosing right, moving to state [4, 2], obtaining reward -10\n",
      "step: 152, choosing right, moving to state [4, 3], obtaining reward -10\n",
      "step: 153, choosing left, moving to state [4, 2], obtaining reward -10\n",
      "step: 154, choosing right, moving to state [4, 3], obtaining reward -10\n",
      "step: 155, choosing left, moving to state [4, 2], obtaining reward -10\n",
      "step: 156, choosing right, moving to state [4, 3], obtaining reward -10\n",
      "step: 157, choosing down, moving to state [5, 3], obtaining reward -10\n",
      "step: 158, choosing right, moving to state [5, 4], obtaining reward -10\n",
      "step: 159, choosing up, moving to state [4, 4], obtaining reward -10\n",
      "step: 160, choosing down, moving to state [5, 4], obtaining reward -10\n",
      "step: 161, choosing left, moving to state [5, 3], obtaining reward -10\n",
      "step: 162, choosing up, moving to state [4, 3], obtaining reward -10\n",
      "step: 163, choosing right, moving to state [4, 4], obtaining reward -10\n",
      "step: 164, choosing left, moving to state [4, 3], obtaining reward -10\n",
      "step: 165, choosing left, moving to state [4, 2], obtaining reward -10\n",
      "step: 166, choosing left, moving to state [4, 1], obtaining reward -10\n",
      "step: 167, choosing left, moving to state [4, 1], obtaining reward -10\n",
      "step: 168, choosing left, moving to state [4, 1], obtaining reward -10\n",
      "step: 169, choosing up, moving to state [3, 1], obtaining reward -10\n",
      "step: 170, choosing left, moving to state [3, 1], obtaining reward -10\n",
      "step: 171, choosing left, moving to state [3, 1], obtaining reward -10\n",
      "step: 172, choosing up, moving to state [2, 1], obtaining reward -10\n",
      "step: 173, choosing up, moving to state [1, 1], obtaining reward -10\n",
      "step: 174, choosing down, moving to state [2, 1], obtaining reward -10\n",
      "step: 175, choosing left, moving to state [2, 1], obtaining reward -10\n",
      "step: 176, choosing right, moving to state [2, 2], obtaining reward -10\n",
      "step: 177, choosing left, moving to state [2, 1], obtaining reward -10\n",
      "step: 178, choosing up, moving to state [1, 1], obtaining reward -10\n",
      "step: 179, choosing up, moving to state [1, 1], obtaining reward -10\n",
      "step: 180, choosing down, moving to state [2, 1], obtaining reward -10\n",
      "step: 181, choosing down, moving to state [3, 1], obtaining reward -10\n",
      "step: 182, choosing right, moving to state [3, 2], obtaining reward -10\n",
      "step: 183, choosing right, moving to state [3, 3], obtaining reward -10\n",
      "step: 184, choosing down, moving to state [4, 3], obtaining reward -10\n",
      "step: 185, choosing left, moving to state [4, 2], obtaining reward -10\n",
      "step: 186, choosing right, moving to state [4, 3], obtaining reward -10\n",
      "step: 187, choosing up, moving to state [3, 3], obtaining reward -10\n",
      "step: 188, choosing down, moving to state [4, 3], obtaining reward -10\n",
      "step: 189, choosing up, moving to state [3, 3], obtaining reward -10\n",
      "step: 190, choosing left, moving to state [3, 2], obtaining reward -10\n",
      "step: 191, choosing up, moving to state [2, 2], obtaining reward -10\n",
      "step: 192, choosing up, moving to state [1, 2], obtaining reward -10\n",
      "step: 193, choosing left, moving to state [1, 1], obtaining reward -10\n",
      "step: 194, choosing left, moving to state [1, 1], obtaining reward -10\n",
      "step: 195, choosing up, moving to state [1, 1], obtaining reward -10\n",
      "step: 196, choosing up, moving to state [1, 1], obtaining reward -10\n",
      "step: 197, choosing down, moving to state [2, 1], obtaining reward -10\n",
      "step: 198, choosing left, moving to state [2, 1], obtaining reward -10\n",
      "step: 199, choosing left, moving to state [2, 1], obtaining reward -10\n",
      "step: 200, choosing down, moving to state [3, 1], obtaining reward -10\n",
      "step: 201, choosing up, moving to state [2, 1], obtaining reward -10\n",
      "step: 202, choosing left, moving to state [2, 1], obtaining reward -10\n",
      "step: 203, choosing right, moving to state [2, 2], obtaining reward -10\n",
      "step: 204, choosing right, moving to state [2, 3], obtaining reward -10\n",
      "step: 205, choosing right, moving to state [2, 4], obtaining reward -10\n",
      "step: 206, choosing left, moving to state [2, 3], obtaining reward -10\n",
      "step: 207, choosing left, moving to state [2, 2], obtaining reward -10\n",
      "step: 208, choosing up, moving to state [1, 2], obtaining reward -10\n",
      "step: 209, choosing up, moving to state [1, 2], obtaining reward -10\n",
      "step: 210, choosing left, moving to state [1, 1], obtaining reward -10\n",
      "step: 211, choosing up, moving to state [1, 1], obtaining reward -10\n",
      "step: 212, choosing left, moving to state [1, 1], obtaining reward -10\n",
      "step: 213, choosing down, moving to state [2, 1], obtaining reward -10\n",
      "step: 214, choosing right, moving to state [2, 2], obtaining reward -10\n",
      "step: 215, choosing up, moving to state [1, 2], obtaining reward -10\n",
      "step: 216, choosing left, moving to state [1, 1], obtaining reward -10\n",
      "step: 217, choosing left, moving to state [1, 1], obtaining reward -10\n",
      "step: 218, choosing down, moving to state [2, 1], obtaining reward -10\n",
      "step: 219, choosing left, moving to state [2, 1], obtaining reward -10\n",
      "step: 220, choosing right, moving to state [2, 2], obtaining reward -10\n",
      "step: 221, choosing down, moving to state [3, 2], obtaining reward -10\n",
      "step: 222, choosing left, moving to state [3, 1], obtaining reward -10\n",
      "step: 223, choosing left, moving to state [3, 1], obtaining reward -10\n",
      "step: 224, choosing right, moving to state [3, 2], obtaining reward -10\n",
      "step: 225, choosing right, moving to state [3, 3], obtaining reward -10\n",
      "step: 226, choosing left, moving to state [3, 2], obtaining reward -10\n",
      "step: 227, choosing down, moving to state [4, 2], obtaining reward -10\n",
      "step: 228, choosing left, moving to state [4, 1], obtaining reward -10\n",
      "step: 229, choosing right, moving to state [4, 2], obtaining reward -10\n",
      "step: 230, choosing right, moving to state [4, 3], obtaining reward -10\n",
      "step: 231, choosing left, moving to state [4, 2], obtaining reward -10\n",
      "step: 232, choosing down, moving to state [5, 2], obtaining reward -10\n",
      "step: 233, choosing right, moving to state [5, 3], obtaining reward -10\n",
      "step: 234, choosing down, moving to state [6, 3], obtaining reward -10\n",
      "step: 235, choosing down, moving to state [7, 3], obtaining reward -10\n",
      "step: 236, choosing left, moving to state [7, 2], obtaining reward -10\n",
      "step: 237, choosing left, moving to state [7, 1], obtaining reward -10\n",
      "step: 238, choosing up, moving to state [6, 1], obtaining reward -10\n",
      "step: 239, choosing down, moving to state [7, 1], obtaining reward -10\n",
      "step: 240, choosing down, moving to state [8, 1], obtaining reward -10\n",
      "step: 241, choosing down, moving to state [9, 1], obtaining reward -10\n",
      "step: 242, choosing left, moving to state [9, 1], obtaining reward -10\n",
      "step: 243, choosing right, moving to state [9, 2], obtaining reward -10\n",
      "step: 244, choosing up, moving to state [8, 2], obtaining reward -10\n",
      "step: 245, choosing right, moving to state [8, 3], obtaining reward -10\n",
      "step: 246, choosing left, moving to state [8, 2], obtaining reward -10\n",
      "step: 247, choosing left, moving to state [8, 1], obtaining reward -10\n",
      "step: 248, choosing left, moving to state [8, 1], obtaining reward -10\n",
      "step: 249, choosing right, moving to state [8, 2], obtaining reward -10\n",
      "step: 250, choosing right, moving to state [8, 3], obtaining reward -10\n",
      "step: 251, choosing left, moving to state [8, 2], obtaining reward -10\n",
      "step: 252, choosing down, moving to state [9, 2], obtaining reward -10\n",
      "step: 253, choosing left, moving to state [9, 1], obtaining reward -10\n",
      "step: 254, choosing down, moving to state [10, 1], obtaining reward -10\n",
      "step: 255, choosing down, moving to state [11, 1], obtaining reward -10\n",
      "step: 256, choosing up, moving to state [10, 1], obtaining reward -10\n",
      "step: 257, choosing up, moving to state [9, 1], obtaining reward -10\n",
      "step: 258, choosing left, moving to state [9, 1], obtaining reward -10\n",
      "step: 259, choosing left, moving to state [9, 1], obtaining reward -10\n",
      "step: 260, choosing left, moving to state [9, 1], obtaining reward -10\n",
      "step: 261, choosing left, moving to state [9, 1], obtaining reward -10\n",
      "step: 262, choosing down, moving to state [10, 1], obtaining reward -10\n",
      "step: 263, choosing up, moving to state [9, 1], obtaining reward -10\n",
      "step: 264, choosing up, moving to state [8, 1], obtaining reward -10\n",
      "step: 265, choosing right, moving to state [8, 2], obtaining reward -10\n",
      "step: 266, choosing up, moving to state [7, 2], obtaining reward -10\n",
      "step: 267, choosing left, moving to state [7, 1], obtaining reward -10\n",
      "step: 268, choosing right, moving to state [7, 2], obtaining reward -10\n",
      "step: 269, choosing left, moving to state [7, 1], obtaining reward -10\n",
      "step: 270, choosing down, moving to state [8, 1], obtaining reward -10\n",
      "step: 271, choosing down, moving to state [9, 1], obtaining reward -10\n",
      "step: 272, choosing down, moving to state [10, 1], obtaining reward -10\n",
      "step: 273, choosing down, moving to state [11, 1], obtaining reward -10\n",
      "step: 274, choosing up, moving to state [10, 1], obtaining reward -10\n",
      "step: 275, choosing left, moving to state [10, 1], obtaining reward -10\n",
      "step: 276, choosing down, moving to state [11, 1], obtaining reward -10\n",
      "step: 277, choosing right, moving to state [11, 2], obtaining reward -10\n",
      "step: 278, choosing left, moving to state [11, 1], obtaining reward -10\n",
      "step: 279, choosing up, moving to state [10, 1], obtaining reward -10\n",
      "step: 280, choosing up, moving to state [9, 1], obtaining reward -10\n",
      "step: 281, choosing left, moving to state [9, 1], obtaining reward -10\n",
      "step: 282, choosing down, moving to state [10, 1], obtaining reward -10\n",
      "step: 283, choosing right, moving to state [10, 2], obtaining reward -10\n",
      "step: 284, choosing right, moving to state [10, 3], obtaining reward -1\n",
      "step: 285, choosing left, moving to state [10, 2], obtaining reward -10\n",
      "step: 286, choosing left, moving to state [10, 1], obtaining reward -10\n",
      "step: 287, choosing left, moving to state [10, 1], obtaining reward -10\n",
      "step: 288, choosing down, moving to state [11, 1], obtaining reward -10\n",
      "step: 289, choosing right, moving to state [11, 2], obtaining reward -10\n",
      "step: 290, choosing up, moving to state [10, 2], obtaining reward -10\n",
      "step: 291, choosing up, moving to state [9, 2], obtaining reward -10\n",
      "step: 292, choosing left, moving to state [9, 1], obtaining reward -10\n",
      "step: 293, choosing down, moving to state [10, 1], obtaining reward -10\n",
      "step: 294, choosing right, moving to state [10, 2], obtaining reward -10\n",
      "step: 295, choosing left, moving to state [10, 1], obtaining reward -10\n",
      "step: 296, choosing right, moving to state [10, 2], obtaining reward -10\n",
      "step: 297, choosing down, moving to state [11, 2], obtaining reward -10\n",
      "step: 298, choosing down, moving to state [12, 2], obtaining reward -10\n",
      "step: 299, choosing up, moving to state [11, 2], obtaining reward -10\n",
      "step: 300, choosing left, moving to state [11, 1], obtaining reward -10\n",
      "step: 301, choosing left, moving to state [11, 1], obtaining reward -10\n",
      "step: 302, choosing up, moving to state [10, 1], obtaining reward -10\n",
      "step: 303, choosing right, moving to state [10, 2], obtaining reward -10\n",
      "step: 304, choosing up, moving to state [9, 2], obtaining reward -10\n",
      "step: 305, choosing left, moving to state [9, 1], obtaining reward -10\n",
      "step: 306, choosing left, moving to state [9, 1], obtaining reward -10\n",
      "step: 307, choosing left, moving to state [9, 1], obtaining reward -10\n",
      "step: 308, choosing right, moving to state [9, 2], obtaining reward -10\n",
      "step: 309, choosing left, moving to state [9, 1], obtaining reward -10\n",
      "step: 310, choosing right, moving to state [9, 2], obtaining reward -10\n",
      "step: 311, choosing up, moving to state [8, 2], obtaining reward -10\n",
      "step: 312, choosing right, moving to state [8, 3], obtaining reward -10\n",
      "step: 313, choosing up, moving to state [7, 3], obtaining reward -10\n",
      "step: 314, choosing down, moving to state [8, 3], obtaining reward -10\n",
      "step: 315, choosing down, moving to state [9, 3], obtaining reward -1\n",
      "step: 316, choosing down, moving to state [10, 3], obtaining reward -1\n",
      "step: 317, choosing right, moving to state [10, 4], obtaining reward -1\n",
      "step: 318, choosing down, moving to state [11, 4], obtaining reward -1\n",
      "step: 319, choosing up, moving to state [10, 4], obtaining reward -1\n",
      "step: 320, choosing down, moving to state [11, 4], obtaining reward -1\n",
      "step: 321, choosing left, moving to state [11, 3], obtaining reward -1\n",
      "step: 322, choosing down, moving to state [12, 3], obtaining reward -1\n",
      "step: 323, choosing up, moving to state [11, 3], obtaining reward -1\n",
      "step: 324, choosing right, moving to state [11, 4], obtaining reward -1\n",
      "step: 325, choosing right, moving to state [11, 5], obtaining reward -1\n",
      "step: 326, choosing up, moving to state [10, 5], obtaining reward -1\n",
      "step: 327, choosing right, moving to state [10, 6], obtaining reward -1\n",
      "step: 328, choosing down, moving to state [11, 6], obtaining reward -1\n",
      "step: 329, choosing up, moving to state [10, 6], obtaining reward -1\n",
      "step: 330, choosing down, moving to state [11, 6], obtaining reward -1\n",
      "step: 331, choosing left, moving to state [11, 5], obtaining reward -1\n",
      "step: 332, choosing up, moving to state [10, 5], obtaining reward -1\n",
      "step: 333, choosing down, moving to state [11, 5], obtaining reward -1\n",
      "step: 334, choosing up, moving to state [10, 5], obtaining reward -1\n",
      "step: 335, choosing left, moving to state [10, 4], obtaining reward -1\n",
      "step: 336, choosing left, moving to state [10, 3], obtaining reward -1\n",
      "step: 337, choosing up, moving to state [9, 3], obtaining reward -1\n",
      "step: 338, choosing right, moving to state [9, 4], obtaining reward -1\n",
      "step: 339, choosing left, moving to state [9, 3], obtaining reward -1\n",
      "step: 340, choosing left, moving to state [9, 2], obtaining reward -10\n",
      "step: 341, choosing left, moving to state [9, 1], obtaining reward -10\n",
      "step: 342, choosing left, moving to state [9, 1], obtaining reward -10\n",
      "step: 343, choosing left, moving to state [9, 1], obtaining reward -10\n",
      "step: 344, choosing right, moving to state [9, 2], obtaining reward -10\n",
      "step: 345, choosing up, moving to state [8, 2], obtaining reward -10\n",
      "step: 346, choosing right, moving to state [8, 3], obtaining reward -10\n",
      "step: 347, choosing up, moving to state [7, 3], obtaining reward -10\n",
      "step: 348, choosing down, moving to state [8, 3], obtaining reward -10\n",
      "step: 349, choosing left, moving to state [8, 2], obtaining reward -10\n",
      "step: 350, choosing down, moving to state [9, 2], obtaining reward -10\n",
      "step: 351, choosing right, moving to state [9, 3], obtaining reward -1\n",
      "step: 352, choosing down, moving to state [10, 3], obtaining reward -1\n",
      "step: 353, choosing left, moving to state [10, 2], obtaining reward -10\n",
      "step: 354, choosing up, moving to state [9, 2], obtaining reward -10\n",
      "step: 355, choosing left, moving to state [9, 1], obtaining reward -10\n",
      "step: 356, choosing down, moving to state [10, 1], obtaining reward -10\n",
      "step: 357, choosing up, moving to state [9, 1], obtaining reward -10\n",
      "step: 358, choosing left, moving to state [9, 1], obtaining reward -10\n",
      "step: 359, choosing down, moving to state [10, 1], obtaining reward -10\n",
      "step: 360, choosing right, moving to state [10, 2], obtaining reward -10\n",
      "step: 361, choosing up, moving to state [9, 2], obtaining reward -10\n",
      "step: 362, choosing left, moving to state [9, 1], obtaining reward -10\n",
      "step: 363, choosing down, moving to state [10, 1], obtaining reward -10\n",
      "step: 364, choosing up, moving to state [9, 1], obtaining reward -10\n",
      "step: 365, choosing right, moving to state [9, 2], obtaining reward -10\n",
      "step: 366, choosing right, moving to state [9, 3], obtaining reward -1\n",
      "step: 367, choosing right, moving to state [9, 4], obtaining reward -1\n",
      "step: 368, choosing down, moving to state [10, 4], obtaining reward -1\n",
      "step: 369, choosing up, moving to state [9, 4], obtaining reward -1\n",
      "step: 370, choosing down, moving to state [10, 4], obtaining reward -1\n",
      "step: 371, choosing down, moving to state [11, 4], obtaining reward -1\n",
      "step: 372, choosing down, moving to state [12, 4], obtaining reward -1\n",
      "step: 373, choosing left, moving to state [12, 3], obtaining reward -1\n",
      "step: 374, choosing left, moving to state [12, 2], obtaining reward -10\n",
      "step: 375, choosing right, moving to state [12, 3], obtaining reward -1\n",
      "step: 376, choosing up, moving to state [11, 3], obtaining reward -1\n",
      "step: 377, choosing right, moving to state [11, 4], obtaining reward -1\n",
      "step: 378, choosing left, moving to state [11, 3], obtaining reward -1\n",
      "step: 379, choosing up, moving to state [10, 3], obtaining reward -1\n",
      "step: 380, choosing up, moving to state [9, 3], obtaining reward -1\n",
      "step: 381, choosing up, moving to state [8, 3], obtaining reward -10\n",
      "step: 382, choosing down, moving to state [9, 3], obtaining reward -1\n",
      "step: 383, choosing left, moving to state [9, 2], obtaining reward -10\n",
      "step: 384, choosing left, moving to state [9, 1], obtaining reward -10\n",
      "step: 385, choosing up, moving to state [8, 1], obtaining reward -10\n",
      "step: 386, choosing down, moving to state [9, 1], obtaining reward -10\n",
      "step: 387, choosing left, moving to state [9, 1], obtaining reward -10\n",
      "step: 388, choosing down, moving to state [10, 1], obtaining reward -10\n",
      "step: 389, choosing left, moving to state [10, 1], obtaining reward -10\n",
      "step: 390, choosing right, moving to state [10, 2], obtaining reward -10\n",
      "step: 391, choosing down, moving to state [11, 2], obtaining reward -10\n",
      "step: 392, choosing right, moving to state [11, 3], obtaining reward -1\n",
      "step: 393, choosing down, moving to state [12, 3], obtaining reward -1\n",
      "step: 394, choosing down, moving to state [13, 3], obtaining reward -1\n",
      "step: 395, choosing down, moving to state [14, 3], obtaining reward -1\n",
      "step: 396, choosing left, moving to state [14, 2], obtaining reward -10\n",
      "step: 397, choosing up, moving to state [13, 2], obtaining reward -10\n",
      "step: 398, choosing down, moving to state [14, 2], obtaining reward -10\n",
      "step: 399, choosing right, moving to state [14, 3], obtaining reward -1\n",
      "step: 400, choosing right, moving to state [14, 4], obtaining reward -1\n",
      "step: 401, choosing left, moving to state [14, 3], obtaining reward -1\n",
      "step: 402, choosing right, moving to state [14, 4], obtaining reward -1\n",
      "step: 403, choosing right, moving to state [14, 5], obtaining reward -1\n",
      "step: 404, choosing down, moving to state [15, 5], obtaining reward -1\n",
      "step: 405, choosing right, moving to state [15, 6], obtaining reward -1\n",
      "step: 406, choosing left, moving to state [15, 5], obtaining reward -1\n",
      "step: 407, choosing left, moving to state [15, 4], obtaining reward -1\n",
      "step: 408, choosing up, moving to state [14, 4], obtaining reward -1\n",
      "step: 409, choosing down, moving to state [15, 4], obtaining reward -1\n",
      "step: 410, choosing right, moving to state [15, 5], obtaining reward -1\n",
      "step: 411, choosing down, moving to state [16, 5], obtaining reward -1\n",
      "step: 412, choosing down, moving to state [17, 5], obtaining reward -1\n",
      "step: 413, choosing right, moving to state [17, 6], obtaining reward -1\n",
      "step: 414, choosing down, moving to state [18, 6], obtaining reward -1\n",
      "step: 415, choosing down, moving to state [18, 6], obtaining reward -1\n",
      "step: 416, choosing right, moving to state [18, 7], obtaining reward -10\n",
      "step: 417, choosing down, moving to state [18, 7], obtaining reward -10\n",
      "step: 418, choosing right, moving to state [18, 8], obtaining reward -10\n",
      "step: 419, choosing left, moving to state [18, 7], obtaining reward -10\n",
      "step: 420, choosing down, moving to state [18, 7], obtaining reward -10\n",
      "step: 421, choosing up, moving to state [17, 7], obtaining reward -10\n",
      "step: 422, choosing left, moving to state [17, 6], obtaining reward -1\n",
      "step: 423, choosing left, moving to state [17, 5], obtaining reward -1\n",
      "step: 424, choosing up, moving to state [16, 5], obtaining reward -1\n",
      "step: 425, choosing down, moving to state [17, 5], obtaining reward -1\n",
      "step: 426, choosing left, moving to state [17, 4], obtaining reward -1\n",
      "step: 427, choosing down, moving to state [18, 4], obtaining reward -1\n",
      "step: 428, choosing down, moving to state [18, 4], obtaining reward -1\n",
      "step: 429, choosing left, moving to state [18, 3], obtaining reward -1\n",
      "step: 430, choosing left, moving to state [18, 2], obtaining reward -10\n",
      "step: 431, choosing left, moving to state [18, 1], obtaining reward -10\n",
      "step: 432, choosing right, moving to state [18, 2], obtaining reward -10\n",
      "step: 433, choosing right, moving to state [18, 3], obtaining reward -1\n",
      "step: 434, choosing down, moving to state [18, 3], obtaining reward -1\n",
      "step: 435, choosing down, moving to state [18, 3], obtaining reward -1\n",
      "step: 436, choosing left, moving to state [18, 2], obtaining reward -10\n",
      "step: 437, choosing left, moving to state [18, 1], obtaining reward -10\n",
      "step: 438, choosing left, moving to state [18, 1], obtaining reward -10\n",
      "step: 439, choosing left, moving to state [18, 1], obtaining reward -10\n",
      "step: 440, choosing up, moving to state [17, 1], obtaining reward -10\n",
      "step: 441, choosing down, moving to state [18, 1], obtaining reward -10\n",
      "step: 442, choosing left, moving to state [18, 1], obtaining reward -10\n",
      "step: 443, choosing left, moving to state [18, 1], obtaining reward -10\n",
      "step: 444, choosing up, moving to state [17, 1], obtaining reward -10\n",
      "step: 445, choosing left, moving to state [17, 1], obtaining reward -10\n",
      "step: 446, choosing right, moving to state [17, 2], obtaining reward -10\n",
      "step: 447, choosing right, moving to state [17, 3], obtaining reward -1\n",
      "step: 448, choosing down, moving to state [18, 3], obtaining reward -1\n",
      "step: 449, choosing down, moving to state [18, 3], obtaining reward -1\n",
      "step: 450, choosing down, moving to state [18, 3], obtaining reward -1\n",
      "step: 451, choosing down, moving to state [18, 3], obtaining reward -1\n",
      "step: 452, choosing up, moving to state [17, 3], obtaining reward -1\n",
      "step: 453, choosing left, moving to state [17, 2], obtaining reward -10\n",
      "step: 454, choosing right, moving to state [17, 3], obtaining reward -1\n",
      "step: 455, choosing up, moving to state [16, 3], obtaining reward -1\n",
      "step: 456, choosing left, moving to state [16, 2], obtaining reward -10\n",
      "step: 457, choosing right, moving to state [16, 3], obtaining reward -1\n",
      "step: 458, choosing up, moving to state [15, 3], obtaining reward -1\n",
      "step: 459, choosing right, moving to state [15, 4], obtaining reward -1\n",
      "step: 460, choosing down, moving to state [16, 4], obtaining reward -1\n",
      "step: 461, choosing up, moving to state [15, 4], obtaining reward -1\n",
      "step: 462, choosing right, moving to state [15, 5], obtaining reward -1\n",
      "step: 463, choosing up, moving to state [14, 5], obtaining reward -1\n",
      "step: 464, choosing right, moving to state [14, 6], obtaining reward -1\n",
      "step: 465, choosing right, moving to state [14, 7], obtaining reward -10\n",
      "step: 466, choosing right, moving to state [14, 8], obtaining reward -10\n",
      "step: 467, choosing down, moving to state [15, 8], obtaining reward -10\n",
      "step: 468, choosing left, moving to state [15, 7], obtaining reward -10\n",
      "step: 469, choosing left, moving to state [15, 6], obtaining reward -1\n",
      "step: 470, choosing down, moving to state [16, 6], obtaining reward -1\n",
      "step: 471, choosing left, moving to state [16, 5], obtaining reward -1\n",
      "step: 472, choosing left, moving to state [16, 4], obtaining reward -1\n",
      "step: 473, choosing down, moving to state [17, 4], obtaining reward -1\n",
      "step: 474, choosing right, moving to state [17, 5], obtaining reward -1\n",
      "step: 475, choosing up, moving to state [16, 5], obtaining reward -1\n",
      "step: 476, choosing left, moving to state [16, 4], obtaining reward -1\n",
      "step: 477, choosing down, moving to state [17, 4], obtaining reward -1\n",
      "step: 478, choosing right, moving to state [17, 5], obtaining reward -1\n",
      "step: 479, choosing left, moving to state [17, 4], obtaining reward -1\n",
      "step: 480, choosing down, moving to state [18, 4], obtaining reward -1\n",
      "step: 481, choosing left, moving to state [18, 3], obtaining reward -1\n",
      "step: 482, choosing left, moving to state [18, 2], obtaining reward -10\n",
      "step: 483, choosing left, moving to state [18, 1], obtaining reward -10\n",
      "step: 484, choosing right, moving to state [18, 2], obtaining reward -10\n",
      "step: 485, choosing right, moving to state [18, 3], obtaining reward -1\n",
      "step: 486, choosing right, moving to state [18, 4], obtaining reward -1\n",
      "step: 487, choosing right, moving to state [18, 5], obtaining reward -1\n",
      "step: 488, choosing right, moving to state [18, 6], obtaining reward -1\n",
      "step: 489, choosing right, moving to state [18, 7], obtaining reward -10\n",
      "step: 490, choosing down, moving to state [18, 7], obtaining reward -10\n",
      "step: 491, choosing down, moving to state [18, 7], obtaining reward -10\n",
      "step: 492, choosing down, moving to state [18, 7], obtaining reward -10\n",
      "step: 493, choosing down, moving to state [18, 7], obtaining reward -10\n",
      "step: 494, choosing right, moving to state [18, 8], obtaining reward -10\n",
      "step: 495, choosing down, moving to state [18, 8], obtaining reward -10\n",
      "step: 496, choosing right, moving to state [18, 9], obtaining reward -10\n",
      "step: 497, choosing left, moving to state [18, 8], obtaining reward -10\n",
      "step: 498, choosing right, moving to state [18, 9], obtaining reward -10\n",
      "step: 499, choosing right, moving to state [18, 10], obtaining reward -10\n",
      "step: 500, choosing up, moving to state [17, 10], obtaining reward -10\n",
      "step: 501, choosing right, moving to state [17, 11], obtaining reward -10\n",
      "step: 502, choosing right, moving to state [17, 12], obtaining reward -10\n",
      "step: 503, choosing left, moving to state [17, 11], obtaining reward -10\n",
      "step: 504, choosing left, moving to state [17, 10], obtaining reward -10\n",
      "step: 505, choosing down, moving to state [18, 10], obtaining reward -10\n",
      "step: 506, choosing right, moving to state [18, 11], obtaining reward -10\n",
      "step: 507, choosing up, moving to state [17, 11], obtaining reward -10\n",
      "step: 508, choosing left, moving to state [17, 10], obtaining reward -10\n",
      "step: 509, choosing down, moving to state [18, 10], obtaining reward -10\n",
      "step: 510, choosing left, moving to state [18, 9], obtaining reward -10\n",
      "step: 511, choosing left, moving to state [18, 8], obtaining reward -10\n",
      "step: 512, choosing left, moving to state [18, 7], obtaining reward -10\n",
      "step: 513, choosing down, moving to state [18, 7], obtaining reward -10\n",
      "step: 514, choosing up, moving to state [17, 7], obtaining reward -10\n",
      "step: 515, choosing right, moving to state [17, 8], obtaining reward -10\n",
      "step: 516, choosing up, moving to state [16, 8], obtaining reward -10\n",
      "step: 517, choosing down, moving to state [17, 8], obtaining reward -10\n",
      "step: 518, choosing down, moving to state [18, 8], obtaining reward -10\n",
      "step: 519, choosing left, moving to state [18, 7], obtaining reward -10\n",
      "step: 520, choosing left, moving to state [18, 6], obtaining reward -1\n",
      "step: 521, choosing down, moving to state [18, 6], obtaining reward -1\n",
      "step: 522, choosing up, moving to state [17, 6], obtaining reward -1\n",
      "step: 523, choosing left, moving to state [17, 5], obtaining reward -1\n",
      "step: 524, choosing down, moving to state [18, 5], obtaining reward -1\n",
      "step: 525, choosing right, moving to state [18, 6], obtaining reward -1\n",
      "step: 526, choosing up, moving to state [17, 6], obtaining reward -1\n",
      "step: 527, choosing up, moving to state [16, 6], obtaining reward -1\n",
      "step: 528, choosing down, moving to state [17, 6], obtaining reward -1\n",
      "step: 529, choosing down, moving to state [18, 6], obtaining reward -1\n",
      "step: 530, choosing left, moving to state [18, 5], obtaining reward -1\n",
      "step: 531, choosing right, moving to state [18, 6], obtaining reward -1\n",
      "step: 532, choosing left, moving to state [18, 5], obtaining reward -1\n",
      "step: 533, choosing up, moving to state [17, 5], obtaining reward -1\n",
      "step: 534, choosing up, moving to state [16, 5], obtaining reward -1\n",
      "step: 535, choosing up, moving to state [15, 5], obtaining reward -1\n",
      "step: 536, choosing right, moving to state [15, 6], obtaining reward -1\n",
      "step: 537, choosing up, moving to state [14, 6], obtaining reward -1\n",
      "step: 538, choosing right, moving to state [14, 7], obtaining reward -10\n",
      "step: 539, choosing right, moving to state [14, 8], obtaining reward -10\n",
      "step: 540, choosing left, moving to state [14, 7], obtaining reward -10\n",
      "step: 541, choosing up, moving to state [13, 7], obtaining reward -10\n",
      "step: 542, choosing down, moving to state [14, 7], obtaining reward -10\n",
      "step: 543, choosing down, moving to state [15, 7], obtaining reward -10\n",
      "step: 544, choosing left, moving to state [15, 6], obtaining reward -1\n",
      "step: 545, choosing left, moving to state [15, 5], obtaining reward -1\n",
      "step: 546, choosing down, moving to state [16, 5], obtaining reward -1\n",
      "step: 547, choosing down, moving to state [17, 5], obtaining reward -1\n",
      "step: 548, choosing left, moving to state [17, 4], obtaining reward -1\n",
      "step: 549, choosing up, moving to state [16, 4], obtaining reward -1\n",
      "step: 550, choosing left, moving to state [16, 3], obtaining reward -1\n",
      "step: 551, choosing left, moving to state [16, 2], obtaining reward -10\n",
      "step: 552, choosing up, moving to state [15, 2], obtaining reward -10\n",
      "step: 553, choosing down, moving to state [16, 2], obtaining reward -10\n",
      "step: 554, choosing down, moving to state [17, 2], obtaining reward -10\n",
      "step: 555, choosing down, moving to state [18, 2], obtaining reward -10\n",
      "step: 556, choosing down, moving to state [18, 2], obtaining reward -10\n",
      "step: 557, choosing left, moving to state [18, 1], obtaining reward -10\n",
      "step: 558, choosing up, moving to state [17, 1], obtaining reward -10\n",
      "step: 559, choosing left, moving to state [17, 1], obtaining reward -10\n",
      "step: 560, choosing up, moving to state [16, 1], obtaining reward -10\n",
      "step: 561, choosing down, moving to state [17, 1], obtaining reward -10\n",
      "step: 562, choosing down, moving to state [18, 1], obtaining reward -10\n",
      "step: 563, choosing right, moving to state [18, 2], obtaining reward -10\n",
      "step: 564, choosing up, moving to state [17, 2], obtaining reward -10\n",
      "step: 565, choosing up, moving to state [16, 2], obtaining reward -10\n",
      "step: 566, choosing left, moving to state [16, 1], obtaining reward -10\n",
      "step: 567, choosing down, moving to state [17, 1], obtaining reward -10\n",
      "step: 568, choosing right, moving to state [17, 2], obtaining reward -10\n",
      "step: 569, choosing right, moving to state [17, 3], obtaining reward -1\n",
      "step: 570, choosing right, moving to state [17, 4], obtaining reward -1\n",
      "step: 571, choosing down, moving to state [18, 4], obtaining reward -1\n",
      "step: 572, choosing right, moving to state [18, 5], obtaining reward -1\n",
      "step: 573, choosing up, moving to state [17, 5], obtaining reward -1\n",
      "step: 574, choosing right, moving to state [17, 6], obtaining reward -1\n",
      "step: 575, choosing down, moving to state [18, 6], obtaining reward -1\n",
      "step: 576, choosing right, moving to state [18, 7], obtaining reward -10\n",
      "step: 577, choosing left, moving to state [18, 6], obtaining reward -1\n",
      "step: 578, choosing right, moving to state [18, 7], obtaining reward -10\n",
      "step: 579, choosing left, moving to state [18, 6], obtaining reward -1\n",
      "step: 580, choosing up, moving to state [17, 6], obtaining reward -1\n",
      "step: 581, choosing right, moving to state [17, 7], obtaining reward -10\n",
      "step: 582, choosing left, moving to state [17, 6], obtaining reward -1\n",
      "step: 583, choosing left, moving to state [17, 5], obtaining reward -1\n",
      "step: 584, choosing right, moving to state [17, 6], obtaining reward -1\n",
      "step: 585, choosing left, moving to state [17, 5], obtaining reward -1\n",
      "step: 586, choosing left, moving to state [17, 4], obtaining reward -1\n",
      "step: 587, choosing right, moving to state [17, 5], obtaining reward -1\n",
      "step: 588, choosing right, moving to state [17, 6], obtaining reward -1\n",
      "step: 589, choosing down, moving to state [18, 6], obtaining reward -1\n",
      "step: 590, choosing down, moving to state [18, 6], obtaining reward -1\n",
      "step: 591, choosing right, moving to state [18, 7], obtaining reward -10\n",
      "step: 592, choosing down, moving to state [18, 7], obtaining reward -10\n",
      "step: 593, choosing up, moving to state [17, 7], obtaining reward -10\n",
      "step: 594, choosing up, moving to state [16, 7], obtaining reward -10\n",
      "step: 595, choosing left, moving to state [16, 6], obtaining reward -1\n",
      "step: 596, choosing up, moving to state [15, 6], obtaining reward -1\n",
      "step: 597, choosing right, moving to state [15, 7], obtaining reward -10\n",
      "step: 598, choosing down, moving to state [16, 7], obtaining reward -10\n",
      "step: 599, choosing down, moving to state [17, 7], obtaining reward -10\n",
      "step: 600, choosing down, moving to state [18, 7], obtaining reward -10\n",
      "step: 601, choosing right, moving to state [18, 8], obtaining reward -10\n",
      "step: 602, choosing right, moving to state [18, 9], obtaining reward -10\n",
      "step: 603, choosing up, moving to state [17, 9], obtaining reward -10\n",
      "step: 604, choosing left, moving to state [17, 8], obtaining reward -10\n",
      "step: 605, choosing right, moving to state [17, 9], obtaining reward -10\n",
      "step: 606, choosing left, moving to state [17, 8], obtaining reward -10\n",
      "step: 607, choosing down, moving to state [18, 8], obtaining reward -10\n",
      "step: 608, choosing up, moving to state [17, 8], obtaining reward -10\n",
      "step: 609, choosing down, moving to state [18, 8], obtaining reward -10\n",
      "step: 610, choosing up, moving to state [17, 8], obtaining reward -10\n",
      "step: 611, choosing down, moving to state [18, 8], obtaining reward -10\n",
      "step: 612, choosing right, moving to state [18, 9], obtaining reward -10\n",
      "step: 613, choosing right, moving to state [18, 10], obtaining reward -10\n",
      "step: 614, choosing left, moving to state [18, 9], obtaining reward -10\n",
      "step: 615, choosing right, moving to state [18, 10], obtaining reward -10\n",
      "step: 616, choosing right, moving to state [18, 11], obtaining reward -10\n",
      "step: 617, choosing left, moving to state [18, 10], obtaining reward -10\n",
      "step: 618, choosing up, moving to state [17, 10], obtaining reward -10\n",
      "step: 619, choosing right, moving to state [17, 11], obtaining reward -10\n",
      "step: 620, choosing left, moving to state [17, 10], obtaining reward -10\n",
      "step: 621, choosing left, moving to state [17, 9], obtaining reward -10\n",
      "step: 622, choosing down, moving to state [18, 9], obtaining reward -10\n",
      "step: 623, choosing up, moving to state [17, 9], obtaining reward -10\n",
      "step: 624, choosing right, moving to state [17, 10], obtaining reward -10\n",
      "step: 625, choosing left, moving to state [17, 9], obtaining reward -10\n",
      "step: 626, choosing right, moving to state [17, 10], obtaining reward -10\n",
      "step: 627, choosing down, moving to state [18, 10], obtaining reward -10\n",
      "step: 628, choosing up, moving to state [17, 10], obtaining reward -10\n",
      "step: 629, choosing left, moving to state [17, 9], obtaining reward -10\n",
      "step: 630, choosing right, moving to state [17, 10], obtaining reward -10\n",
      "step: 631, choosing right, moving to state [17, 11], obtaining reward -10\n",
      "step: 632, choosing down, moving to state [18, 11], obtaining reward -10\n",
      "step: 633, choosing right, moving to state [18, 12], obtaining reward -10\n",
      "step: 634, choosing up, moving to state [17, 12], obtaining reward -10\n",
      "step: 635, choosing down, moving to state [18, 12], obtaining reward -10\n",
      "step: 636, choosing left, moving to state [18, 11], obtaining reward -10\n",
      "step: 637, choosing up, moving to state [17, 11], obtaining reward -10\n",
      "step: 638, choosing left, moving to state [17, 10], obtaining reward -10\n",
      "step: 639, choosing down, moving to state [18, 10], obtaining reward -10\n",
      "step: 640, choosing right, moving to state [18, 11], obtaining reward -10\n",
      "step: 641, choosing up, moving to state [17, 11], obtaining reward -10\n",
      "step: 642, choosing up, moving to state [16, 11], obtaining reward -10\n",
      "step: 643, choosing down, moving to state [17, 11], obtaining reward -10\n",
      "step: 644, choosing up, moving to state [16, 11], obtaining reward -10\n",
      "step: 645, choosing right, moving to state [16, 12], obtaining reward -10\n",
      "step: 646, choosing left, moving to state [16, 11], obtaining reward -10\n",
      "step: 647, choosing left, moving to state [16, 10], obtaining reward -10\n",
      "step: 648, choosing up, moving to state [15, 10], obtaining reward -10\n",
      "step: 649, choosing up, moving to state [14, 10], obtaining reward -10\n",
      "step: 650, choosing down, moving to state [15, 10], obtaining reward -10\n",
      "step: 651, choosing right, moving to state [15, 11], obtaining reward -10\n",
      "step: 652, choosing down, moving to state [16, 11], obtaining reward -10\n",
      "step: 653, choosing down, moving to state [17, 11], obtaining reward -10\n",
      "step: 654, choosing right, moving to state [17, 12], obtaining reward -10\n",
      "step: 655, choosing right, moving to state [17, 13], obtaining reward -10\n",
      "step: 656, choosing right, moving to state [17, 14], obtaining reward -10\n",
      "step: 657, choosing right, moving to state [17, 15], obtaining reward -10\n",
      "step: 658, choosing left, moving to state [17, 14], obtaining reward -10\n",
      "step: 659, choosing down, moving to state [18, 14], obtaining reward -10\n",
      "step: 660, choosing left, moving to state [18, 13], obtaining reward -10\n",
      "step: 661, choosing up, moving to state [17, 13], obtaining reward -10\n",
      "step: 662, choosing up, moving to state [16, 13], obtaining reward -10\n",
      "step: 663, choosing up, moving to state [15, 13], obtaining reward -10\n",
      "step: 664, choosing right, moving to state [15, 14], obtaining reward -10\n",
      "step: 665, choosing up, moving to state [14, 14], obtaining reward -10\n",
      "step: 666, choosing left, moving to state [14, 13], obtaining reward -10\n",
      "step: 667, choosing left, moving to state [14, 12], obtaining reward -10\n",
      "step: 668, choosing right, moving to state [14, 13], obtaining reward -10\n",
      "step: 669, choosing up, moving to state [13, 13], obtaining reward -10\n",
      "step: 670, choosing down, moving to state [14, 13], obtaining reward -10\n",
      "step: 671, choosing up, moving to state [13, 13], obtaining reward -10\n",
      "step: 672, choosing up, moving to state [12, 13], obtaining reward -10\n",
      "step: 673, choosing left, moving to state [12, 12], obtaining reward -10\n",
      "step: 674, choosing down, moving to state [13, 12], obtaining reward -10\n",
      "step: 675, choosing right, moving to state [13, 13], obtaining reward -10\n",
      "step: 676, choosing left, moving to state [13, 12], obtaining reward -10\n",
      "step: 677, choosing right, moving to state [13, 13], obtaining reward -10\n",
      "step: 678, choosing right, moving to state [13, 14], obtaining reward -10\n",
      "step: 679, choosing left, moving to state [13, 13], obtaining reward -10\n",
      "step: 680, choosing up, moving to state [12, 13], obtaining reward -10\n",
      "step: 681, choosing up, moving to state [11, 13], obtaining reward -10\n",
      "step: 682, choosing down, moving to state [12, 13], obtaining reward -10\n",
      "step: 683, choosing up, moving to state [11, 13], obtaining reward -10\n",
      "step: 684, choosing down, moving to state [12, 13], obtaining reward -10\n",
      "step: 685, choosing up, moving to state [11, 13], obtaining reward -10\n",
      "step: 686, choosing left, moving to state [11, 12], obtaining reward -10\n",
      "step: 687, choosing up, moving to state [10, 12], obtaining reward -10\n",
      "step: 688, choosing right, moving to state [10, 13], obtaining reward -10\n",
      "step: 689, choosing right, moving to state [10, 14], obtaining reward -10\n",
      "step: 690, choosing down, moving to state [11, 14], obtaining reward -10\n",
      "step: 691, choosing right, moving to state [11, 15], obtaining reward -10\n",
      "step: 692, choosing left, moving to state [11, 14], obtaining reward -10\n",
      "step: 693, choosing down, moving to state [12, 14], obtaining reward -10\n",
      "step: 694, choosing left, moving to state [12, 13], obtaining reward -10\n",
      "step: 695, choosing down, moving to state [13, 13], obtaining reward -10\n",
      "step: 696, choosing up, moving to state [12, 13], obtaining reward -10\n",
      "step: 697, choosing up, moving to state [11, 13], obtaining reward -10\n",
      "step: 698, choosing up, moving to state [10, 13], obtaining reward -10\n",
      "step: 699, choosing up, moving to state [9, 13], obtaining reward -10\n",
      "step: 700, choosing up, moving to state [8, 13], obtaining reward -10\n",
      "step: 701, choosing right, moving to state [8, 14], obtaining reward -10\n",
      "step: 702, choosing right, moving to state [8, 15], obtaining reward -10\n",
      "step: 703, choosing down, moving to state [9, 15], obtaining reward -10\n",
      "step: 704, choosing down, moving to state [10, 15], obtaining reward -10\n",
      "step: 705, choosing down, moving to state [11, 15], obtaining reward -10\n",
      "step: 706, choosing right, moving to state [11, 16], obtaining reward -10\n",
      "step: 707, choosing up, moving to state [10, 16], obtaining reward -10\n",
      "step: 708, choosing down, moving to state [11, 16], obtaining reward -10\n",
      "step: 709, choosing right, moving to state [11, 17], obtaining reward -10\n",
      "step: 710, choosing down, moving to state [12, 17], obtaining reward -10\n",
      "step: 711, choosing down, moving to state [13, 17], obtaining reward -10\n",
      "step: 712, choosing up, moving to state [12, 17], obtaining reward -10\n",
      "step: 713, choosing left, moving to state [12, 16], obtaining reward -10\n",
      "step: 714, choosing down, moving to state [13, 16], obtaining reward -10\n",
      "step: 715, choosing left, moving to state [13, 15], obtaining reward -10\n",
      "step: 716, choosing left, moving to state [13, 14], obtaining reward -10\n",
      "step: 717, choosing right, moving to state [13, 15], obtaining reward -10\n",
      "step: 718, choosing down, moving to state [14, 15], obtaining reward -10\n",
      "step: 719, choosing up, moving to state [13, 15], obtaining reward -10\n",
      "step: 720, choosing right, moving to state [13, 16], obtaining reward -10\n",
      "step: 721, choosing right, moving to state [13, 17], obtaining reward -10\n",
      "step: 722, choosing up, moving to state [12, 17], obtaining reward -10\n",
      "step: 723, choosing right, moving to state [12, 17], obtaining reward -10\n",
      "step: 724, choosing right, moving to state [12, 17], obtaining reward -10\n",
      "step: 725, choosing right, moving to state [12, 17], obtaining reward -10\n",
      "step: 726, choosing right, moving to state [12, 17], obtaining reward -10\n",
      "step: 727, choosing up, moving to state [11, 17], obtaining reward -10\n",
      "step: 728, choosing left, moving to state [11, 16], obtaining reward -10\n",
      "step: 729, choosing up, moving to state [10, 16], obtaining reward -10\n",
      "step: 730, choosing down, moving to state [11, 16], obtaining reward -10\n",
      "step: 731, choosing left, moving to state [11, 15], obtaining reward -10\n",
      "step: 732, choosing left, moving to state [11, 14], obtaining reward -10\n",
      "step: 733, choosing down, moving to state [12, 14], obtaining reward -10\n",
      "step: 734, choosing down, moving to state [13, 14], obtaining reward -10\n",
      "step: 735, choosing left, moving to state [13, 13], obtaining reward -10\n",
      "step: 736, choosing up, moving to state [12, 13], obtaining reward -10\n",
      "step: 737, choosing up, moving to state [11, 13], obtaining reward -10\n",
      "step: 738, choosing right, moving to state [11, 14], obtaining reward -10\n",
      "step: 739, choosing down, moving to state [12, 14], obtaining reward -10\n",
      "step: 740, choosing up, moving to state [11, 14], obtaining reward -10\n",
      "step: 741, choosing right, moving to state [11, 15], obtaining reward -10\n",
      "step: 742, choosing up, moving to state [10, 15], obtaining reward -10\n",
      "step: 743, choosing up, moving to state [9, 15], obtaining reward -10\n",
      "step: 744, choosing down, moving to state [10, 15], obtaining reward -10\n",
      "step: 745, choosing down, moving to state [11, 15], obtaining reward -10\n",
      "step: 746, choosing right, moving to state [11, 16], obtaining reward -10\n",
      "step: 747, choosing up, moving to state [10, 16], obtaining reward -10\n",
      "step: 748, choosing up, moving to state [9, 16], obtaining reward -10\n",
      "step: 749, choosing right, moving to state [9, 17], obtaining reward -10\n",
      "step: 750, choosing down, moving to state [10, 17], obtaining reward -10\n",
      "step: 751, choosing left, moving to state [10, 16], obtaining reward -10\n",
      "step: 752, choosing left, moving to state [10, 15], obtaining reward -10\n",
      "step: 753, choosing down, moving to state [11, 15], obtaining reward -10\n",
      "step: 754, choosing left, moving to state [11, 14], obtaining reward -10\n",
      "step: 755, choosing right, moving to state [11, 15], obtaining reward -10\n",
      "step: 756, choosing right, moving to state [11, 16], obtaining reward -10\n",
      "step: 757, choosing up, moving to state [10, 16], obtaining reward -10\n",
      "step: 758, choosing down, moving to state [11, 16], obtaining reward -10\n",
      "step: 759, choosing up, moving to state [10, 16], obtaining reward -10\n",
      "step: 760, choosing up, moving to state [9, 16], obtaining reward -10\n",
      "step: 761, choosing down, moving to state [10, 16], obtaining reward -10\n",
      "step: 762, choosing down, moving to state [11, 16], obtaining reward -10\n",
      "step: 763, choosing down, moving to state [12, 16], obtaining reward -10\n",
      "step: 764, choosing up, moving to state [11, 16], obtaining reward -10\n",
      "step: 765, choosing down, moving to state [12, 16], obtaining reward -10\n",
      "step: 766, choosing up, moving to state [11, 16], obtaining reward -10\n",
      "step: 767, choosing right, moving to state [11, 17], obtaining reward -10\n",
      "step: 768, choosing left, moving to state [11, 16], obtaining reward -10\n",
      "step: 769, choosing up, moving to state [10, 16], obtaining reward -10\n",
      "step: 770, choosing left, moving to state [10, 15], obtaining reward -10\n",
      "step: 771, choosing left, moving to state [10, 14], obtaining reward -10\n",
      "step: 772, choosing left, moving to state [10, 13], obtaining reward -10\n",
      "step: 773, choosing right, moving to state [10, 14], obtaining reward -10\n",
      "step: 774, choosing right, moving to state [10, 15], obtaining reward -10\n",
      "step: 775, choosing right, moving to state [10, 16], obtaining reward -10\n",
      "step: 776, choosing left, moving to state [10, 15], obtaining reward -10\n",
      "step: 777, choosing right, moving to state [10, 16], obtaining reward -10\n",
      "step: 778, choosing up, moving to state [9, 16], obtaining reward -10\n",
      "step: 779, choosing left, moving to state [9, 15], obtaining reward -10\n",
      "step: 780, choosing right, moving to state [9, 16], obtaining reward -10\n",
      "step: 781, choosing right, moving to state [9, 17], obtaining reward -10\n",
      "step: 782, choosing right, moving to state [9, 17], obtaining reward -10\n",
      "step: 783, choosing right, moving to state [9, 17], obtaining reward -10\n",
      "step: 784, choosing down, moving to state [10, 17], obtaining reward -10\n",
      "step: 785, choosing up, moving to state [9, 17], obtaining reward -10\n",
      "step: 786, choosing left, moving to state [9, 16], obtaining reward -10\n",
      "step: 787, choosing right, moving to state [9, 17], obtaining reward -10\n",
      "step: 788, choosing down, moving to state [10, 17], obtaining reward -10\n",
      "step: 789, choosing right, moving to state [10, 17], obtaining reward -10\n",
      "step: 790, choosing up, moving to state [9, 17], obtaining reward -10\n",
      "step: 791, choosing right, moving to state [9, 17], obtaining reward -10\n",
      "step: 792, choosing left, moving to state [9, 16], obtaining reward -10\n",
      "step: 793, choosing left, moving to state [9, 15], obtaining reward -10\n",
      "step: 794, choosing right, moving to state [9, 16], obtaining reward -10\n",
      "step: 795, choosing left, moving to state [9, 15], obtaining reward -10\n",
      "step: 796, choosing right, moving to state [9, 16], obtaining reward -10\n",
      "step: 797, choosing left, moving to state [9, 15], obtaining reward -10\n",
      "step: 798, choosing down, moving to state [10, 15], obtaining reward -10\n",
      "step: 799, choosing right, moving to state [10, 16], obtaining reward -10\n",
      "step: 800, choosing left, moving to state [10, 15], obtaining reward -10\n",
      "step: 801, choosing down, moving to state [11, 15], obtaining reward -10\n",
      "step: 802, choosing up, moving to state [10, 15], obtaining reward -10\n",
      "step: 803, choosing left, moving to state [10, 14], obtaining reward -10\n",
      "step: 804, choosing left, moving to state [10, 13], obtaining reward -10\n",
      "step: 805, choosing up, moving to state [9, 13], obtaining reward -10\n",
      "step: 806, choosing down, moving to state [10, 13], obtaining reward -10\n",
      "step: 807, choosing right, moving to state [10, 14], obtaining reward -10\n",
      "step: 808, choosing up, moving to state [9, 14], obtaining reward -10\n",
      "step: 809, choosing down, moving to state [10, 14], obtaining reward -10\n",
      "step: 810, choosing left, moving to state [10, 13], obtaining reward -10\n",
      "step: 811, choosing right, moving to state [10, 14], obtaining reward -10\n",
      "step: 812, choosing right, moving to state [10, 15], obtaining reward -10\n",
      "step: 813, choosing down, moving to state [11, 15], obtaining reward -10\n",
      "step: 814, choosing right, moving to state [11, 16], obtaining reward -10\n",
      "step: 815, choosing down, moving to state [12, 16], obtaining reward -10\n",
      "step: 816, choosing right, moving to state [12, 17], obtaining reward -10\n",
      "step: 817, choosing left, moving to state [12, 16], obtaining reward -10\n",
      "step: 818, choosing down, moving to state [13, 16], obtaining reward -10\n",
      "step: 819, choosing down, moving to state [14, 16], obtaining reward -10\n",
      "step: 820, choosing up, moving to state [13, 16], obtaining reward -10\n",
      "step: 821, choosing up, moving to state [12, 16], obtaining reward -10\n",
      "step: 822, choosing right, moving to state [12, 17], obtaining reward -10\n",
      "step: 823, choosing left, moving to state [12, 16], obtaining reward -10\n",
      "step: 824, choosing left, moving to state [12, 15], obtaining reward -10\n",
      "step: 825, choosing up, moving to state [11, 15], obtaining reward -10\n",
      "step: 826, choosing right, moving to state [11, 16], obtaining reward -10\n",
      "step: 827, choosing down, moving to state [12, 16], obtaining reward -10\n",
      "step: 828, choosing down, moving to state [13, 16], obtaining reward -10\n",
      "step: 829, choosing right, moving to state [13, 17], obtaining reward -10\n",
      "step: 830, choosing left, moving to state [13, 16], obtaining reward -10\n",
      "step: 831, choosing up, moving to state [12, 16], obtaining reward -10\n",
      "step: 832, choosing right, moving to state [12, 17], obtaining reward -10\n",
      "step: 833, choosing left, moving to state [12, 16], obtaining reward -10\n",
      "step: 834, choosing down, moving to state [13, 16], obtaining reward -10\n",
      "step: 835, choosing down, moving to state [14, 16], obtaining reward -10\n",
      "step: 836, choosing down, moving to state [15, 16], obtaining reward -10\n",
      "step: 837, choosing left, moving to state [15, 15], obtaining reward -10\n",
      "step: 838, choosing left, moving to state [15, 14], obtaining reward -10\n",
      "step: 839, choosing up, moving to state [14, 14], obtaining reward -10\n",
      "step: 840, choosing left, moving to state [14, 13], obtaining reward -10\n",
      "step: 841, choosing left, moving to state [14, 12], obtaining reward -10\n",
      "step: 842, choosing left, moving to state [14, 11], obtaining reward -10\n",
      "step: 843, choosing up, moving to state [13, 11], obtaining reward -10\n",
      "step: 844, choosing right, moving to state [13, 12], obtaining reward -10\n",
      "step: 845, choosing left, moving to state [13, 11], obtaining reward -10\n",
      "step: 846, choosing left, moving to state [13, 10], obtaining reward -10\n",
      "step: 847, choosing left, moving to state [13, 9], obtaining reward -10\n",
      "step: 848, choosing down, moving to state [14, 9], obtaining reward -10\n",
      "step: 849, choosing up, moving to state [13, 9], obtaining reward -10\n",
      "step: 850, choosing down, moving to state [14, 9], obtaining reward -10\n",
      "step: 851, choosing down, moving to state [15, 9], obtaining reward -10\n",
      "step: 852, choosing up, moving to state [14, 9], obtaining reward -10\n",
      "step: 853, choosing left, moving to state [14, 8], obtaining reward -10\n",
      "step: 854, choosing up, moving to state [13, 8], obtaining reward -10\n",
      "step: 855, choosing down, moving to state [14, 8], obtaining reward -10\n",
      "step: 856, choosing right, moving to state [14, 9], obtaining reward -10\n",
      "step: 857, choosing up, moving to state [13, 9], obtaining reward -10\n",
      "step: 858, choosing down, moving to state [14, 9], obtaining reward -10\n",
      "step: 859, choosing up, moving to state [13, 9], obtaining reward -10\n",
      "step: 860, choosing left, moving to state [13, 8], obtaining reward -10\n",
      "step: 861, choosing up, moving to state [12, 8], obtaining reward -10\n",
      "step: 862, choosing right, moving to state [12, 9], obtaining reward -10\n",
      "step: 863, choosing down, moving to state [13, 9], obtaining reward -10\n",
      "step: 864, choosing down, moving to state [14, 9], obtaining reward -10\n",
      "step: 865, choosing right, moving to state [14, 10], obtaining reward -10\n",
      "step: 866, choosing right, moving to state [14, 11], obtaining reward -10\n",
      "step: 867, choosing up, moving to state [13, 11], obtaining reward -10\n",
      "step: 868, choosing down, moving to state [14, 11], obtaining reward -10\n",
      "step: 869, choosing up, moving to state [13, 11], obtaining reward -10\n",
      "step: 870, choosing left, moving to state [13, 10], obtaining reward -10\n",
      "step: 871, choosing right, moving to state [13, 11], obtaining reward -10\n",
      "step: 872, choosing right, moving to state [13, 12], obtaining reward -10\n",
      "step: 873, choosing left, moving to state [13, 11], obtaining reward -10\n",
      "step: 874, choosing down, moving to state [14, 11], obtaining reward -10\n",
      "step: 875, choosing down, moving to state [15, 11], obtaining reward -10\n",
      "step: 876, choosing right, moving to state [15, 12], obtaining reward -10\n",
      "step: 877, choosing left, moving to state [15, 11], obtaining reward -10\n",
      "step: 878, choosing down, moving to state [16, 11], obtaining reward -10\n",
      "step: 879, choosing right, moving to state [16, 12], obtaining reward -10\n",
      "step: 880, choosing down, moving to state [17, 12], obtaining reward -10\n",
      "step: 881, choosing left, moving to state [17, 11], obtaining reward -10\n",
      "step: 882, choosing down, moving to state [18, 11], obtaining reward -10\n",
      "step: 883, choosing left, moving to state [18, 10], obtaining reward -10\n",
      "step: 884, choosing up, moving to state [17, 10], obtaining reward -10\n",
      "step: 885, choosing left, moving to state [17, 9], obtaining reward -10\n",
      "step: 886, choosing up, moving to state [16, 9], obtaining reward -10\n",
      "step: 887, choosing left, moving to state [16, 8], obtaining reward -10\n",
      "step: 888, choosing right, moving to state [16, 9], obtaining reward -10\n",
      "step: 889, choosing left, moving to state [16, 8], obtaining reward -10\n",
      "step: 890, choosing up, moving to state [15, 8], obtaining reward -10\n",
      "step: 891, choosing right, moving to state [15, 9], obtaining reward -10\n",
      "step: 892, choosing right, moving to state [15, 10], obtaining reward -10\n",
      "step: 893, choosing left, moving to state [15, 9], obtaining reward -10\n",
      "step: 894, choosing left, moving to state [15, 8], obtaining reward -10\n",
      "step: 895, choosing up, moving to state [14, 8], obtaining reward -10\n",
      "step: 896, choosing up, moving to state [13, 8], obtaining reward -10\n",
      "step: 897, choosing left, moving to state [13, 7], obtaining reward -10\n",
      "step: 898, choosing up, moving to state [12, 7], obtaining reward -10\n",
      "step: 899, choosing left, moving to state [12, 6], obtaining reward -1\n",
      "step: 900, choosing up, moving to state [11, 6], obtaining reward -1\n",
      "step: 901, choosing down, moving to state [12, 6], obtaining reward -1\n",
      "step: 902, choosing up, moving to state [11, 6], obtaining reward -1\n",
      "step: 903, choosing left, moving to state [11, 5], obtaining reward -1\n",
      "step: 904, choosing up, moving to state [10, 5], obtaining reward -1\n",
      "step: 905, choosing right, moving to state [10, 6], obtaining reward -1\n",
      "step: 906, choosing up, moving to state [9, 6], obtaining reward -1\n",
      "step: 907, choosing left, moving to state [9, 5], obtaining reward -1\n",
      "step: 908, choosing down, moving to state [10, 5], obtaining reward -1\n",
      "step: 909, choosing down, moving to state [11, 5], obtaining reward -1\n",
      "step: 910, choosing down, moving to state [12, 5], obtaining reward -1\n",
      "step: 911, choosing left, moving to state [12, 4], obtaining reward -1\n",
      "step: 912, choosing down, moving to state [13, 4], obtaining reward -1\n",
      "step: 913, choosing down, moving to state [14, 4], obtaining reward -1\n",
      "step: 914, choosing right, moving to state [14, 5], obtaining reward -1\n",
      "step: 915, choosing right, moving to state [14, 6], obtaining reward -1\n",
      "step: 916, choosing down, moving to state [15, 6], obtaining reward -1\n",
      "step: 917, choosing down, moving to state [16, 6], obtaining reward -1\n",
      "step: 918, choosing left, moving to state [16, 5], obtaining reward -1\n",
      "step: 919, choosing up, moving to state [15, 5], obtaining reward -1\n",
      "step: 920, choosing up, moving to state [14, 5], obtaining reward -1\n",
      "step: 921, choosing up, moving to state [13, 5], obtaining reward -1\n",
      "step: 922, choosing right, moving to state [13, 6], obtaining reward -1\n",
      "step: 923, choosing up, moving to state [12, 6], obtaining reward -1\n",
      "step: 924, choosing up, moving to state [11, 6], obtaining reward -1\n",
      "step: 925, choosing up, moving to state [10, 6], obtaining reward -1\n",
      "step: 926, choosing up, moving to state [9, 6], obtaining reward -1\n",
      "step: 927, choosing right, moving to state [9, 7], obtaining reward -1\n",
      "step: 928, choosing down, moving to state [10, 7], obtaining reward -1\n",
      "step: 929, choosing down, moving to state [11, 7], obtaining reward -10\n",
      "step: 930, choosing down, moving to state [12, 7], obtaining reward -10\n",
      "step: 931, choosing up, moving to state [11, 7], obtaining reward -10\n",
      "step: 932, choosing down, moving to state [12, 7], obtaining reward -10\n",
      "step: 933, choosing up, moving to state [11, 7], obtaining reward -10\n",
      "step: 934, choosing right, moving to state [11, 8], obtaining reward -10\n",
      "step: 935, choosing up, moving to state [10, 8], obtaining reward -10\n",
      "step: 936, choosing down, moving to state [11, 8], obtaining reward -10\n",
      "step: 937, choosing right, moving to state [11, 9], obtaining reward -10\n",
      "step: 938, choosing up, moving to state [10, 9], obtaining reward -10\n",
      "step: 939, choosing down, moving to state [11, 9], obtaining reward -10\n",
      "step: 940, choosing right, moving to state [11, 10], obtaining reward -10\n",
      "step: 941, choosing right, moving to state [11, 11], obtaining reward -10\n",
      "step: 942, choosing up, moving to state [10, 11], obtaining reward -10\n",
      "step: 943, choosing left, moving to state [10, 10], obtaining reward -10\n",
      "step: 944, choosing down, moving to state [11, 10], obtaining reward -10\n",
      "step: 945, choosing down, moving to state [12, 10], obtaining reward -10\n",
      "step: 946, choosing left, moving to state [12, 9], obtaining reward -10\n",
      "step: 947, choosing up, moving to state [11, 9], obtaining reward -10\n",
      "step: 948, choosing left, moving to state [11, 8], obtaining reward -10\n",
      "step: 949, choosing down, moving to state [12, 8], obtaining reward -10\n",
      "step: 950, choosing down, moving to state [13, 8], obtaining reward -10\n",
      "step: 951, choosing left, moving to state [13, 7], obtaining reward -10\n",
      "step: 952, choosing up, moving to state [12, 7], obtaining reward -10\n",
      "step: 953, choosing left, moving to state [12, 6], obtaining reward -1\n",
      "step: 954, choosing left, moving to state [12, 5], obtaining reward -1\n",
      "step: 955, choosing up, moving to state [11, 5], obtaining reward -1\n",
      "step: 956, choosing right, moving to state [11, 6], obtaining reward -1\n",
      "step: 957, choosing up, moving to state [10, 6], obtaining reward -1\n",
      "step: 958, choosing up, moving to state [9, 6], obtaining reward -1\n",
      "step: 959, choosing up, moving to state [8, 6], obtaining reward -1\n",
      "step: 960, choosing up, moving to state [7, 6], obtaining reward -1\n",
      "step: 961, choosing left, moving to state [7, 5], obtaining reward -1\n",
      "step: 962, choosing up, moving to state [6, 5], obtaining reward -10\n",
      "step: 963, choosing down, moving to state [7, 5], obtaining reward -1\n",
      "step: 964, choosing up, moving to state [6, 5], obtaining reward -10\n",
      "step: 965, choosing right, moving to state [6, 6], obtaining reward -1\n",
      "step: 966, choosing right, moving to state [6, 7], obtaining reward -1\n",
      "step: 967, choosing down, moving to state [7, 7], obtaining reward -1\n",
      "step: 968, choosing right, moving to state [7, 8], obtaining reward -1\n",
      "step: 969, choosing down, moving to state [8, 8], obtaining reward -1\n",
      "step: 970, choosing left, moving to state [8, 7], obtaining reward -1\n",
      "step: 971, choosing down, moving to state [9, 7], obtaining reward -1\n",
      "step: 972, choosing left, moving to state [9, 6], obtaining reward -1\n",
      "step: 973, choosing left, moving to state [9, 5], obtaining reward -1\n",
      "step: 974, choosing left, moving to state [9, 4], obtaining reward -1\n",
      "step: 975, choosing right, moving to state [9, 5], obtaining reward -1\n",
      "step: 976, choosing up, moving to state [8, 5], obtaining reward -1\n",
      "step: 977, choosing down, moving to state [9, 5], obtaining reward -1\n",
      "step: 978, choosing right, moving to state [9, 6], obtaining reward -1\n",
      "step: 979, choosing left, moving to state [9, 5], obtaining reward -1\n",
      "step: 980, choosing right, moving to state [9, 6], obtaining reward -1\n",
      "step: 981, choosing right, moving to state [9, 7], obtaining reward -1\n",
      "step: 982, choosing down, moving to state [10, 7], obtaining reward -1\n",
      "step: 983, choosing left, moving to state [10, 6], obtaining reward -1\n",
      "step: 984, choosing up, moving to state [9, 6], obtaining reward -1\n",
      "step: 985, choosing down, moving to state [10, 6], obtaining reward -1\n",
      "step: 986, choosing left, moving to state [10, 5], obtaining reward -1\n",
      "step: 987, choosing right, moving to state [10, 6], obtaining reward -1\n",
      "step: 988, choosing down, moving to state [11, 6], obtaining reward -1\n",
      "step: 989, choosing right, moving to state [11, 7], obtaining reward -10\n",
      "step: 990, choosing down, moving to state [12, 7], obtaining reward -10\n",
      "step: 991, choosing up, moving to state [11, 7], obtaining reward -10\n",
      "step: 992, choosing right, moving to state [11, 8], obtaining reward -10\n",
      "step: 993, choosing up, moving to state [10, 8], obtaining reward -10\n",
      "step: 994, choosing down, moving to state [11, 8], obtaining reward -10\n",
      "step: 995, choosing down, moving to state [12, 8], obtaining reward -10\n",
      "step: 996, choosing down, moving to state [13, 8], obtaining reward -10\n",
      "step: 997, choosing down, moving to state [14, 8], obtaining reward -10\n",
      "step: 998, choosing right, moving to state [14, 9], obtaining reward -10\n",
      "step: 999, choosing up, moving to state [13, 9], obtaining reward -10\n",
      "step: 1000, choosing left, moving to state [13, 8], obtaining reward -10\n",
      "step: 1001, choosing up, moving to state [12, 8], obtaining reward -10\n",
      "step: 1002, choosing up, moving to state [11, 8], obtaining reward -10\n",
      "step: 1003, choosing down, moving to state [12, 8], obtaining reward -10\n",
      "step: 1004, choosing up, moving to state [11, 8], obtaining reward -10\n",
      "step: 1005, choosing left, moving to state [11, 7], obtaining reward -10\n",
      "step: 1006, choosing up, moving to state [10, 7], obtaining reward -1\n",
      "step: 1007, choosing left, moving to state [10, 6], obtaining reward -1\n",
      "step: 1008, choosing right, moving to state [10, 7], obtaining reward -1\n",
      "step: 1009, choosing left, moving to state [10, 6], obtaining reward -1\n",
      "step: 1010, choosing down, moving to state [11, 6], obtaining reward -1\n",
      "step: 1011, choosing down, moving to state [12, 6], obtaining reward -1\n",
      "step: 1012, choosing down, moving to state [13, 6], obtaining reward -1\n",
      "step: 1013, choosing right, moving to state [13, 7], obtaining reward -10\n",
      "step: 1014, choosing down, moving to state [14, 7], obtaining reward -10\n",
      "step: 1015, choosing left, moving to state [14, 6], obtaining reward -1\n",
      "step: 1016, choosing down, moving to state [15, 6], obtaining reward -1\n",
      "step: 1017, choosing right, moving to state [15, 7], obtaining reward -10\n",
      "step: 1018, choosing down, moving to state [16, 7], obtaining reward -10\n",
      "step: 1019, choosing down, moving to state [17, 7], obtaining reward -10\n",
      "step: 1020, choosing down, moving to state [18, 7], obtaining reward -10\n",
      "step: 1021, choosing down, moving to state [18, 7], obtaining reward -10\n",
      "step: 1022, choosing down, moving to state [18, 7], obtaining reward -10\n",
      "step: 1023, choosing up, moving to state [17, 7], obtaining reward -10\n",
      "step: 1024, choosing down, moving to state [18, 7], obtaining reward -10\n",
      "step: 1025, choosing right, moving to state [18, 8], obtaining reward -10\n",
      "step: 1026, choosing right, moving to state [18, 9], obtaining reward -10\n",
      "step: 1027, choosing left, moving to state [18, 8], obtaining reward -10\n",
      "step: 1028, choosing right, moving to state [18, 9], obtaining reward -10\n",
      "step: 1029, choosing left, moving to state [18, 8], obtaining reward -10\n",
      "step: 1030, choosing down, moving to state [18, 8], obtaining reward -10\n",
      "step: 1031, choosing left, moving to state [18, 7], obtaining reward -10\n",
      "step: 1032, choosing right, moving to state [18, 8], obtaining reward -10\n",
      "step: 1033, choosing down, moving to state [18, 8], obtaining reward -10\n",
      "step: 1034, choosing up, moving to state [17, 8], obtaining reward -10\n",
      "step: 1035, choosing left, moving to state [17, 7], obtaining reward -10\n",
      "step: 1036, choosing up, moving to state [16, 7], obtaining reward -10\n",
      "step: 1037, choosing down, moving to state [17, 7], obtaining reward -10\n",
      "step: 1038, choosing left, moving to state [17, 6], obtaining reward -1\n",
      "step: 1039, choosing down, moving to state [18, 6], obtaining reward -1\n",
      "step: 1040, choosing right, moving to state [18, 7], obtaining reward -10\n",
      "step: 1041, choosing up, moving to state [17, 7], obtaining reward -10\n",
      "step: 1042, choosing right, moving to state [17, 8], obtaining reward -10\n",
      "step: 1043, choosing down, moving to state [18, 8], obtaining reward -10\n",
      "step: 1044, choosing left, moving to state [18, 7], obtaining reward -10\n",
      "step: 1045, choosing down, moving to state [18, 7], obtaining reward -10\n",
      "step: 1046, choosing up, moving to state [17, 7], obtaining reward -10\n",
      "step: 1047, choosing up, moving to state [16, 7], obtaining reward -10\n",
      "step: 1048, choosing right, moving to state [16, 8], obtaining reward -10\n",
      "step: 1049, choosing left, moving to state [16, 7], obtaining reward -10\n",
      "step: 1050, choosing down, moving to state [17, 7], obtaining reward -10\n",
      "step: 1051, choosing right, moving to state [17, 8], obtaining reward -10\n",
      "step: 1052, choosing up, moving to state [16, 8], obtaining reward -10\n",
      "step: 1053, choosing up, moving to state [15, 8], obtaining reward -10\n",
      "step: 1054, choosing down, moving to state [16, 8], obtaining reward -10\n",
      "step: 1055, choosing down, moving to state [17, 8], obtaining reward -10\n",
      "step: 1056, choosing right, moving to state [17, 9], obtaining reward -10\n",
      "step: 1057, choosing right, moving to state [17, 10], obtaining reward -10\n",
      "step: 1058, choosing left, moving to state [17, 9], obtaining reward -10\n",
      "step: 1059, choosing down, moving to state [18, 9], obtaining reward -10\n",
      "step: 1060, choosing down, moving to state [18, 9], obtaining reward -10\n",
      "step: 1061, choosing left, moving to state [18, 8], obtaining reward -10\n",
      "step: 1062, choosing up, moving to state [17, 8], obtaining reward -10\n",
      "step: 1063, choosing left, moving to state [17, 7], obtaining reward -10\n",
      "step: 1064, choosing down, moving to state [18, 7], obtaining reward -10\n",
      "step: 1065, choosing up, moving to state [17, 7], obtaining reward -10\n",
      "step: 1066, choosing right, moving to state [17, 8], obtaining reward -10\n",
      "step: 1067, choosing down, moving to state [18, 8], obtaining reward -10\n",
      "step: 1068, choosing down, moving to state [18, 8], obtaining reward -10\n",
      "step: 1069, choosing down, moving to state [18, 8], obtaining reward -10\n",
      "step: 1070, choosing left, moving to state [18, 7], obtaining reward -10\n",
      "step: 1071, choosing right, moving to state [18, 8], obtaining reward -10\n",
      "step: 1072, choosing left, moving to state [18, 7], obtaining reward -10\n",
      "step: 1073, choosing left, moving to state [18, 6], obtaining reward -1\n",
      "step: 1074, choosing right, moving to state [18, 7], obtaining reward -10\n",
      "step: 1075, choosing right, moving to state [18, 8], obtaining reward -10\n",
      "step: 1076, choosing left, moving to state [18, 7], obtaining reward -10\n",
      "step: 1077, choosing left, moving to state [18, 6], obtaining reward -1\n",
      "step: 1078, choosing left, moving to state [18, 5], obtaining reward -1\n",
      "step: 1079, choosing down, moving to state [18, 5], obtaining reward -1\n",
      "step: 1080, choosing left, moving to state [18, 4], obtaining reward -1\n",
      "step: 1081, choosing down, moving to state [18, 4], obtaining reward -1\n",
      "step: 1082, choosing left, moving to state [18, 3], obtaining reward -1\n",
      "step: 1083, choosing down, moving to state [18, 3], obtaining reward -1\n",
      "step: 1084, choosing right, moving to state [18, 4], obtaining reward -1\n",
      "step: 1085, choosing down, moving to state [18, 4], obtaining reward -1\n",
      "step: 1086, choosing up, moving to state [17, 4], obtaining reward -1\n",
      "step: 1087, choosing down, moving to state [18, 4], obtaining reward -1\n",
      "step: 1088, choosing left, moving to state [18, 3], obtaining reward -1\n",
      "step: 1089, choosing up, moving to state [17, 3], obtaining reward -1\n",
      "step: 1090, choosing down, moving to state [18, 3], obtaining reward -1\n",
      "step: 1091, choosing right, moving to state [18, 4], obtaining reward -1\n",
      "step: 1092, choosing right, moving to state [18, 5], obtaining reward -1\n",
      "step: 1093, choosing up, moving to state [17, 5], obtaining reward -1\n",
      "step: 1094, choosing left, moving to state [17, 4], obtaining reward -1\n",
      "step: 1095, choosing left, moving to state [17, 3], obtaining reward -1\n",
      "step: 1096, choosing left, moving to state [17, 2], obtaining reward -10\n",
      "step: 1097, choosing right, moving to state [17, 3], obtaining reward -1\n",
      "step: 1098, choosing left, moving to state [17, 2], obtaining reward -10\n",
      "step: 1099, choosing down, moving to state [18, 2], obtaining reward -10\n",
      "step: 1100, choosing up, moving to state [17, 2], obtaining reward -10\n",
      "step: 1101, choosing up, moving to state [16, 2], obtaining reward -10\n",
      "step: 1102, choosing right, moving to state [16, 3], obtaining reward -1\n",
      "step: 1103, choosing left, moving to state [16, 2], obtaining reward -10\n",
      "step: 1104, choosing up, moving to state [15, 2], obtaining reward -10\n",
      "step: 1105, choosing up, moving to state [14, 2], obtaining reward -10\n",
      "step: 1106, choosing up, moving to state [13, 2], obtaining reward -10\n",
      "step: 1107, choosing up, moving to state [12, 2], obtaining reward -10\n",
      "step: 1108, choosing right, moving to state [12, 3], obtaining reward -1\n",
      "step: 1109, choosing left, moving to state [12, 2], obtaining reward -10\n",
      "step: 1110, choosing down, moving to state [13, 2], obtaining reward -10\n",
      "step: 1111, choosing up, moving to state [12, 2], obtaining reward -10\n",
      "step: 1112, choosing up, moving to state [11, 2], obtaining reward -10\n",
      "step: 1113, choosing down, moving to state [12, 2], obtaining reward -10\n",
      "step: 1114, choosing right, moving to state [12, 3], obtaining reward -1\n",
      "step: 1115, choosing right, moving to state [12, 4], obtaining reward -1\n",
      "step: 1116, choosing down, moving to state [13, 4], obtaining reward -1\n",
      "step: 1117, choosing right, moving to state [13, 5], obtaining reward -1\n",
      "step: 1118, choosing left, moving to state [13, 4], obtaining reward -1\n",
      "step: 1119, choosing down, moving to state [14, 4], obtaining reward -1\n",
      "step: 1120, choosing up, moving to state [13, 4], obtaining reward -1\n",
      "step: 1121, choosing up, moving to state [12, 4], obtaining reward -1\n",
      "step: 1122, choosing right, moving to state [12, 5], obtaining reward -1\n",
      "step: 1123, choosing up, moving to state [11, 5], obtaining reward -1\n",
      "step: 1124, choosing up, moving to state [10, 5], obtaining reward -1\n",
      "step: 1125, choosing right, moving to state [10, 6], obtaining reward -1\n",
      "step: 1126, choosing right, moving to state [10, 7], obtaining reward -1\n",
      "step: 1127, choosing up, moving to state [9, 7], obtaining reward -1\n",
      "step: 1128, choosing left, moving to state [9, 6], obtaining reward -1\n",
      "step: 1129, choosing left, moving to state [9, 5], obtaining reward -1\n",
      "step: 1130, choosing up, moving to state [8, 5], obtaining reward -1\n",
      "step: 1131, choosing up, moving to state [7, 5], obtaining reward -1\n",
      "step: 1132, choosing left, moving to state [7, 4], obtaining reward -10\n",
      "step: 1133, choosing right, moving to state [7, 5], obtaining reward -1\n",
      "step: 1134, choosing up, moving to state [6, 5], obtaining reward -10\n",
      "step: 1135, choosing down, moving to state [7, 5], obtaining reward -1\n",
      "step: 1136, choosing down, moving to state [8, 5], obtaining reward -1\n",
      "step: 1137, choosing down, moving to state [9, 5], obtaining reward -1\n",
      "step: 1138, choosing right, moving to state [9, 6], obtaining reward -1\n",
      "step: 1139, choosing right, moving to state [9, 7], obtaining reward -1\n",
      "step: 1140, choosing up, moving to state [8, 7], obtaining reward -1\n",
      "step: 1141, choosing up, moving to state [7, 7], obtaining reward -1\n",
      "step: 1142, choosing left, moving to state [7, 6], obtaining reward -1\n",
      "step: 1143, choosing down, moving to state [8, 6], obtaining reward -1\n",
      "step: 1144, choosing left, moving to state [8, 5], obtaining reward -1\n",
      "step: 1145, choosing left, moving to state [8, 4], obtaining reward -1\n",
      "step: 1146, choosing up, moving to state [7, 4], obtaining reward -10\n",
      "step: 1147, choosing left, moving to state [7, 3], obtaining reward -10\n",
      "step: 1148, choosing right, moving to state [7, 4], obtaining reward -10\n",
      "step: 1149, choosing left, moving to state [7, 3], obtaining reward -10\n",
      "step: 1150, choosing down, moving to state [8, 3], obtaining reward -10\n",
      "step: 1151, choosing right, moving to state [8, 4], obtaining reward -1\n",
      "step: 1152, choosing down, moving to state [9, 4], obtaining reward -1\n",
      "step: 1153, choosing right, moving to state [9, 5], obtaining reward -1\n",
      "step: 1154, choosing up, moving to state [8, 5], obtaining reward -1\n",
      "step: 1155, choosing up, moving to state [7, 5], obtaining reward -1\n",
      "step: 1156, choosing up, moving to state [6, 5], obtaining reward -10\n",
      "step: 1157, choosing right, moving to state [6, 6], obtaining reward -1\n",
      "step: 1158, choosing left, moving to state [6, 5], obtaining reward -10\n",
      "step: 1159, choosing down, moving to state [7, 5], obtaining reward -1\n",
      "step: 1160, choosing right, moving to state [7, 6], obtaining reward -1\n",
      "step: 1161, choosing left, moving to state [7, 5], obtaining reward -1\n",
      "step: 1162, choosing up, moving to state [6, 5], obtaining reward -10\n",
      "step: 1163, choosing up, moving to state [5, 5], obtaining reward -10\n",
      "step: 1164, choosing up, moving to state [4, 5], obtaining reward -10\n",
      "step: 1165, choosing up, moving to state [3, 5], obtaining reward -10\n",
      "step: 1166, choosing up, moving to state [2, 5], obtaining reward -10\n",
      "step: 1167, choosing down, moving to state [3, 5], obtaining reward -10\n",
      "step: 1168, choosing left, moving to state [3, 4], obtaining reward -10\n",
      "step: 1169, choosing up, moving to state [2, 4], obtaining reward -10\n",
      "step: 1170, choosing up, moving to state [1, 4], obtaining reward -10\n",
      "step: 1171, choosing right, moving to state [1, 5], obtaining reward -10\n",
      "step: 1172, choosing right, moving to state [1, 6], obtaining reward -10\n",
      "step: 1173, choosing left, moving to state [1, 5], obtaining reward -10\n",
      "step: 1174, choosing up, moving to state [1, 5], obtaining reward -10\n",
      "step: 1175, choosing right, moving to state [1, 6], obtaining reward -10\n",
      "step: 1176, choosing right, moving to state [1, 7], obtaining reward -10\n",
      "step: 1177, choosing down, moving to state [2, 7], obtaining reward -10\n",
      "step: 1178, choosing down, moving to state [3, 7], obtaining reward -10\n",
      "step: 1179, choosing down, moving to state [4, 7], obtaining reward -10\n",
      "step: 1180, choosing up, moving to state [3, 7], obtaining reward -10\n",
      "step: 1181, choosing up, moving to state [2, 7], obtaining reward -10\n",
      "step: 1182, choosing down, moving to state [3, 7], obtaining reward -10\n",
      "step: 1183, choosing left, moving to state [3, 6], obtaining reward -10\n",
      "step: 1184, choosing up, moving to state [2, 6], obtaining reward -10\n",
      "step: 1185, choosing down, moving to state [3, 6], obtaining reward -10\n",
      "step: 1186, choosing left, moving to state [3, 5], obtaining reward -10\n",
      "step: 1187, choosing left, moving to state [3, 4], obtaining reward -10\n",
      "step: 1188, choosing left, moving to state [3, 3], obtaining reward -10\n",
      "step: 1189, choosing up, moving to state [2, 3], obtaining reward -10\n",
      "step: 1190, choosing down, moving to state [3, 3], obtaining reward -10\n",
      "step: 1191, choosing up, moving to state [2, 3], obtaining reward -10\n",
      "step: 1192, choosing down, moving to state [3, 3], obtaining reward -10\n",
      "step: 1193, choosing down, moving to state [4, 3], obtaining reward -10\n",
      "step: 1194, choosing up, moving to state [3, 3], obtaining reward -10\n",
      "step: 1195, choosing right, moving to state [3, 4], obtaining reward -10\n",
      "step: 1196, choosing up, moving to state [2, 4], obtaining reward -10\n",
      "step: 1197, choosing down, moving to state [3, 4], obtaining reward -10\n",
      "step: 1198, choosing left, moving to state [3, 3], obtaining reward -10\n",
      "step: 1199, choosing left, moving to state [3, 2], obtaining reward -10\n",
      "step: 1200, choosing right, moving to state [3, 3], obtaining reward -10\n",
      "step: 1201, choosing right, moving to state [3, 4], obtaining reward -10\n",
      "step: 1202, choosing right, moving to state [3, 5], obtaining reward -10\n",
      "step: 1203, choosing down, moving to state [4, 5], obtaining reward -10\n",
      "step: 1204, choosing up, moving to state [3, 5], obtaining reward -10\n",
      "step: 1205, choosing up, moving to state [2, 5], obtaining reward -10\n",
      "step: 1206, choosing down, moving to state [3, 5], obtaining reward -10\n",
      "step: 1207, choosing left, moving to state [3, 4], obtaining reward -10\n",
      "step: 1208, choosing up, moving to state [2, 4], obtaining reward -10\n",
      "step: 1209, choosing down, moving to state [3, 4], obtaining reward -10\n",
      "step: 1210, choosing down, moving to state [4, 4], obtaining reward -10\n",
      "step: 1211, choosing right, moving to state [4, 5], obtaining reward -10\n",
      "step: 1212, choosing down, moving to state [5, 5], obtaining reward -10\n",
      "step: 1213, choosing down, moving to state [6, 5], obtaining reward -10\n",
      "step: 1214, choosing right, moving to state [6, 6], obtaining reward -1\n",
      "step: 1215, choosing left, moving to state [6, 5], obtaining reward -10\n",
      "step: 1216, choosing up, moving to state [5, 5], obtaining reward -10\n",
      "step: 1217, choosing right, moving to state [5, 6], obtaining reward -10\n",
      "step: 1218, choosing up, moving to state [4, 6], obtaining reward -10\n",
      "step: 1219, choosing up, moving to state [3, 6], obtaining reward -10\n",
      "step: 1220, choosing up, moving to state [2, 6], obtaining reward -10\n",
      "step: 1221, choosing up, moving to state [1, 6], obtaining reward -10\n",
      "step: 1222, choosing down, moving to state [2, 6], obtaining reward -10\n",
      "step: 1223, choosing left, moving to state [2, 5], obtaining reward -10\n",
      "step: 1224, choosing left, moving to state [2, 4], obtaining reward -10\n",
      "step: 1225, choosing up, moving to state [1, 4], obtaining reward -10\n",
      "step: 1226, choosing down, moving to state [2, 4], obtaining reward -10\n",
      "step: 1227, choosing left, moving to state [2, 3], obtaining reward -10\n",
      "step: 1228, choosing right, moving to state [2, 4], obtaining reward -10\n",
      "step: 1229, choosing down, moving to state [3, 4], obtaining reward -10\n",
      "step: 1230, choosing up, moving to state [2, 4], obtaining reward -10\n",
      "step: 1231, choosing right, moving to state [2, 5], obtaining reward -10\n",
      "step: 1232, choosing right, moving to state [2, 6], obtaining reward -10\n",
      "step: 1233, choosing down, moving to state [3, 6], obtaining reward -10\n",
      "step: 1234, choosing up, moving to state [2, 6], obtaining reward -10\n",
      "step: 1235, choosing up, moving to state [1, 6], obtaining reward -10\n",
      "step: 1236, choosing up, moving to state [1, 6], obtaining reward -10\n",
      "step: 1237, choosing left, moving to state [1, 5], obtaining reward -10\n",
      "step: 1238, choosing left, moving to state [1, 4], obtaining reward -10\n",
      "step: 1239, choosing left, moving to state [1, 3], obtaining reward -10\n",
      "step: 1240, choosing up, moving to state [1, 3], obtaining reward -10\n",
      "step: 1241, choosing left, moving to state [1, 2], obtaining reward -10\n",
      "step: 1242, choosing up, moving to state [1, 2], obtaining reward -10\n",
      "step: 1243, choosing up, moving to state [1, 2], obtaining reward -10\n",
      "step: 1244, choosing left, moving to state [1, 1], obtaining reward -10\n",
      "step: 1245, choosing up, moving to state [1, 1], obtaining reward -10\n",
      "step: 1246, choosing down, moving to state [2, 1], obtaining reward -10\n",
      "step: 1247, choosing right, moving to state [2, 2], obtaining reward -10\n",
      "step: 1248, choosing right, moving to state [2, 3], obtaining reward -10\n",
      "step: 1249, choosing up, moving to state [1, 3], obtaining reward -10\n",
      "step: 1250, choosing down, moving to state [2, 3], obtaining reward -10\n",
      "step: 1251, choosing right, moving to state [2, 4], obtaining reward -10\n",
      "step: 1252, choosing up, moving to state [1, 4], obtaining reward -10\n",
      "step: 1253, choosing up, moving to state [1, 4], obtaining reward -10\n",
      "step: 1254, choosing down, moving to state [2, 4], obtaining reward -10\n",
      "step: 1255, choosing down, moving to state [3, 4], obtaining reward -10\n",
      "step: 1256, choosing right, moving to state [3, 5], obtaining reward -10\n",
      "step: 1257, choosing up, moving to state [2, 5], obtaining reward -10\n",
      "step: 1258, choosing up, moving to state [1, 5], obtaining reward -10\n",
      "step: 1259, choosing left, moving to state [1, 4], obtaining reward -10\n",
      "step: 1260, choosing up, moving to state [1, 4], obtaining reward -10\n",
      "step: 1261, choosing right, moving to state [1, 5], obtaining reward -10\n",
      "step: 1262, choosing down, moving to state [2, 5], obtaining reward -10\n",
      "step: 1263, choosing down, moving to state [3, 5], obtaining reward -10\n",
      "step: 1264, choosing right, moving to state [3, 6], obtaining reward -10\n",
      "step: 1265, choosing left, moving to state [3, 5], obtaining reward -10\n",
      "step: 1266, choosing right, moving to state [3, 6], obtaining reward -10\n",
      "step: 1267, choosing down, moving to state [4, 6], obtaining reward -10\n",
      "step: 1268, choosing up, moving to state [3, 6], obtaining reward -10\n",
      "step: 1269, choosing right, moving to state [3, 7], obtaining reward -10\n",
      "step: 1270, choosing up, moving to state [2, 7], obtaining reward -10\n",
      "step: 1271, choosing left, moving to state [2, 6], obtaining reward -10\n",
      "step: 1272, choosing up, moving to state [1, 6], obtaining reward -10\n",
      "step: 1273, choosing right, moving to state [1, 7], obtaining reward -10\n",
      "step: 1274, choosing left, moving to state [1, 6], obtaining reward -10\n",
      "step: 1275, choosing up, moving to state [1, 6], obtaining reward -10\n",
      "step: 1276, choosing left, moving to state [1, 5], obtaining reward -10\n",
      "step: 1277, choosing left, moving to state [1, 4], obtaining reward -10\n",
      "step: 1278, choosing down, moving to state [2, 4], obtaining reward -10\n",
      "step: 1279, choosing down, moving to state [3, 4], obtaining reward -10\n",
      "step: 1280, choosing left, moving to state [3, 3], obtaining reward -10\n",
      "step: 1281, choosing up, moving to state [2, 3], obtaining reward -10\n",
      "step: 1282, choosing up, moving to state [1, 3], obtaining reward -10\n",
      "step: 1283, choosing down, moving to state [2, 3], obtaining reward -10\n",
      "step: 1284, choosing down, moving to state [3, 3], obtaining reward -10\n",
      "step: 1285, choosing left, moving to state [3, 2], obtaining reward -10\n",
      "step: 1286, choosing right, moving to state [3, 3], obtaining reward -10\n",
      "step: 1287, choosing up, moving to state [2, 3], obtaining reward -10\n",
      "step: 1288, choosing down, moving to state [3, 3], obtaining reward -10\n",
      "step: 1289, choosing down, moving to state [4, 3], obtaining reward -10\n",
      "step: 1290, choosing right, moving to state [4, 4], obtaining reward -10\n",
      "step: 1291, choosing left, moving to state [4, 3], obtaining reward -10\n",
      "step: 1292, choosing down, moving to state [5, 3], obtaining reward -10\n",
      "step: 1293, choosing up, moving to state [4, 3], obtaining reward -10\n",
      "step: 1294, choosing up, moving to state [3, 3], obtaining reward -10\n",
      "step: 1295, choosing left, moving to state [3, 2], obtaining reward -10\n",
      "step: 1296, choosing left, moving to state [3, 1], obtaining reward -10\n",
      "step: 1297, choosing down, moving to state [4, 1], obtaining reward -10\n",
      "step: 1298, choosing down, moving to state [5, 1], obtaining reward -10\n",
      "step: 1299, choosing up, moving to state [4, 1], obtaining reward -10\n",
      "step: 1300, choosing right, moving to state [4, 2], obtaining reward -10\n",
      "step: 1301, choosing right, moving to state [4, 3], obtaining reward -10\n",
      "step: 1302, choosing down, moving to state [5, 3], obtaining reward -10\n",
      "step: 1303, choosing up, moving to state [4, 3], obtaining reward -10\n",
      "step: 1304, choosing left, moving to state [4, 2], obtaining reward -10\n",
      "step: 1305, choosing up, moving to state [3, 2], obtaining reward -10\n",
      "step: 1306, choosing left, moving to state [3, 1], obtaining reward -10\n",
      "step: 1307, choosing left, moving to state [3, 1], obtaining reward -10\n",
      "step: 1308, choosing left, moving to state [3, 1], obtaining reward -10\n",
      "step: 1309, choosing up, moving to state [2, 1], obtaining reward -10\n",
      "step: 1310, choosing up, moving to state [1, 1], obtaining reward -10\n",
      "step: 1311, choosing right, moving to state [1, 2], obtaining reward -10\n",
      "step: 1312, choosing right, moving to state [1, 3], obtaining reward -10\n",
      "step: 1313, choosing up, moving to state [1, 3], obtaining reward -10\n",
      "step: 1314, choosing down, moving to state [2, 3], obtaining reward -10\n",
      "step: 1315, choosing down, moving to state [3, 3], obtaining reward -10\n",
      "step: 1316, choosing left, moving to state [3, 2], obtaining reward -10\n",
      "step: 1317, choosing left, moving to state [3, 1], obtaining reward -10\n",
      "step: 1318, choosing left, moving to state [3, 1], obtaining reward -10\n",
      "step: 1319, choosing up, moving to state [2, 1], obtaining reward -10\n",
      "step: 1320, choosing up, moving to state [1, 1], obtaining reward -10\n",
      "step: 1321, choosing left, moving to state [1, 1], obtaining reward -10\n",
      "step: 1322, choosing down, moving to state [2, 1], obtaining reward -10\n",
      "step: 1323, choosing left, moving to state [2, 1], obtaining reward -10\n",
      "step: 1324, choosing up, moving to state [1, 1], obtaining reward -10\n",
      "step: 1325, choosing down, moving to state [2, 1], obtaining reward -10\n",
      "step: 1326, choosing right, moving to state [2, 2], obtaining reward -10\n",
      "step: 1327, choosing up, moving to state [1, 2], obtaining reward -10\n",
      "step: 1328, choosing right, moving to state [1, 3], obtaining reward -10\n",
      "step: 1329, choosing up, moving to state [1, 3], obtaining reward -10\n",
      "step: 1330, choosing down, moving to state [2, 3], obtaining reward -10\n",
      "step: 1331, choosing right, moving to state [2, 4], obtaining reward -10\n",
      "step: 1332, choosing up, moving to state [1, 4], obtaining reward -10\n",
      "step: 1333, choosing up, moving to state [1, 4], obtaining reward -10\n",
      "step: 1334, choosing down, moving to state [2, 4], obtaining reward -10\n",
      "step: 1335, choosing up, moving to state [1, 4], obtaining reward -10\n",
      "step: 1336, choosing left, moving to state [1, 3], obtaining reward -10\n",
      "step: 1337, choosing left, moving to state [1, 2], obtaining reward -10\n",
      "step: 1338, choosing right, moving to state [1, 3], obtaining reward -10\n",
      "step: 1339, choosing left, moving to state [1, 2], obtaining reward -10\n",
      "step: 1340, choosing up, moving to state [1, 2], obtaining reward -10\n",
      "step: 1341, choosing right, moving to state [1, 3], obtaining reward -10\n",
      "step: 1342, choosing up, moving to state [1, 3], obtaining reward -10\n",
      "step: 1343, choosing up, moving to state [1, 3], obtaining reward -10\n",
      "step: 1344, choosing right, moving to state [1, 4], obtaining reward -10\n",
      "step: 1345, choosing up, moving to state [1, 4], obtaining reward -10\n",
      "step: 1346, choosing down, moving to state [2, 4], obtaining reward -10\n",
      "step: 1347, choosing right, moving to state [2, 5], obtaining reward -10\n",
      "step: 1348, choosing right, moving to state [2, 6], obtaining reward -10\n",
      "step: 1349, choosing right, moving to state [2, 7], obtaining reward -10\n",
      "step: 1350, choosing down, moving to state [3, 7], obtaining reward -10\n",
      "step: 1351, choosing up, moving to state [2, 7], obtaining reward -10\n",
      "step: 1352, choosing down, moving to state [3, 7], obtaining reward -10\n",
      "step: 1353, choosing down, moving to state [4, 7], obtaining reward -10\n",
      "step: 1354, choosing left, moving to state [4, 6], obtaining reward -10\n",
      "step: 1355, choosing right, moving to state [4, 7], obtaining reward -10\n",
      "step: 1356, choosing left, moving to state [4, 6], obtaining reward -10\n",
      "step: 1357, choosing right, moving to state [4, 7], obtaining reward -10\n",
      "step: 1358, choosing up, moving to state [3, 7], obtaining reward -10\n",
      "step: 1359, choosing up, moving to state [2, 7], obtaining reward -10\n",
      "step: 1360, choosing up, moving to state [1, 7], obtaining reward -10\n",
      "step: 1361, choosing down, moving to state [2, 7], obtaining reward -10\n",
      "step: 1362, choosing left, moving to state [2, 6], obtaining reward -10\n",
      "step: 1363, choosing right, moving to state [2, 7], obtaining reward -10\n",
      "step: 1364, choosing right, moving to state [2, 8], obtaining reward -10\n",
      "step: 1365, choosing left, moving to state [2, 7], obtaining reward -10\n",
      "step: 1366, choosing left, moving to state [2, 6], obtaining reward -10\n",
      "step: 1367, choosing up, moving to state [1, 6], obtaining reward -10\n",
      "step: 1368, choosing right, moving to state [1, 7], obtaining reward -10\n",
      "step: 1369, choosing right, moving to state [1, 8], obtaining reward -10\n",
      "step: 1370, choosing right, moving to state [1, 9], obtaining reward -10\n",
      "step: 1371, choosing down, moving to state [2, 9], obtaining reward -10\n",
      "step: 1372, choosing up, moving to state [1, 9], obtaining reward -10\n",
      "step: 1373, choosing up, moving to state [1, 9], obtaining reward -10\n",
      "step: 1374, choosing up, moving to state [1, 9], obtaining reward -10\n",
      "step: 1375, choosing left, moving to state [1, 8], obtaining reward -10\n",
      "step: 1376, choosing down, moving to state [2, 8], obtaining reward -10\n",
      "step: 1377, choosing up, moving to state [1, 8], obtaining reward -10\n",
      "step: 1378, choosing right, moving to state [1, 9], obtaining reward -10\n",
      "step: 1379, choosing up, moving to state [1, 9], obtaining reward -10\n",
      "step: 1380, choosing up, moving to state [1, 9], obtaining reward -10\n",
      "step: 1381, choosing right, moving to state [1, 10], obtaining reward -10\n",
      "step: 1382, choosing down, moving to state [2, 10], obtaining reward -10\n",
      "step: 1383, choosing down, moving to state [3, 10], obtaining reward -1\n",
      "step: 1384, choosing right, moving to state [3, 11], obtaining reward -1\n",
      "step: 1385, choosing down, moving to state [4, 11], obtaining reward -1\n",
      "step: 1386, choosing up, moving to state [3, 11], obtaining reward -1\n",
      "step: 1387, choosing up, moving to state [2, 11], obtaining reward -1\n",
      "step: 1388, choosing right, moving to state [2, 12], obtaining reward -1\n",
      "step: 1389, choosing left, moving to state [2, 11], obtaining reward -1\n",
      "step: 1390, choosing left, moving to state [2, 10], obtaining reward -10\n",
      "step: 1391, choosing right, moving to state [2, 11], obtaining reward -1\n",
      "step: 1392, choosing right, moving to state [2, 12], obtaining reward -1\n",
      "step: 1393, choosing left, moving to state [2, 11], obtaining reward -1\n",
      "step: 1394, choosing down, moving to state [3, 11], obtaining reward -1\n",
      "step: 1395, choosing right, moving to state [3, 12], obtaining reward -1\n",
      "step: 1396, choosing up, moving to state [2, 12], obtaining reward -1\n",
      "step: 1397, choosing right, moving to state [2, 13], obtaining reward -1\n",
      "step: 1398, choosing left, moving to state [2, 12], obtaining reward -1\n",
      "step: 1399, choosing up, moving to state [1, 12], obtaining reward 0\n"
     ]
    },
    {
     "data": {
      "text/plain": [
       "(Array{Int64,1}[[18, 3], [18, 2], [18, 2], [17, 2], [16, 2], [16, 3], [17, 3], [17, 2], [17, 1], [18, 1]  …  [2, 10], [2, 11], [2, 12], [2, 11], [3, 11], [3, 12], [2, 12], [2, 13], [2, 12], [1, 12]], Any[-10, -10, -10, -10, -1, -1, -10, -10, -10, -10  …  -10, -1, -1, -1, -1, -1, -1, -1, -1, 0], Any[\"left\", \"down\", \"up\", \"up\", \"right\", \"down\", \"left\", \"left\", \"down\", \"up\"  …  \"left\", \"right\", \"right\", \"left\", \"down\", \"right\", \"up\", \"right\", \"left\", \"up\"])"
      ]
     },
     "execution_count": 19,
     "metadata": {},
     "output_type": "execute_result"
    }
   ],
   "source": [
    "s, r, a = episode!(agent, right_turn, verbose = true)"
   ]
  },
  {
   "cell_type": "code",
   "execution_count": 20,
   "metadata": {
    "collapsed": false
   },
   "outputs": [
    {
     "data": {
      "text/html": [
       "<script>require([\"d3\"], function(d3) {d3.select(\".usersvg #canvas1Bm\").append(\"path\").attr(\"id\", \"pixel_crossoHG\").attr(\"transform\", \"translate(16 3)\").attr(\"transform\", \"translate(3 16)\").attr(\"d\", \"M0.5 0 L0.5 1 M0 0.5 L1 0.5\").attr(\"stroke-width\", \"0.2\").attr(\"stroke\", \"blue\");});</script>"
      ]
     },
     "metadata": {},
     "output_type": "display_data"
    },
    {
     "data": {
      "text/html": [
       "<script>\n",
       "require([\"d3\"], function(d3) {\n",
       "    d3.select(\".usersvg #pixel_crossoHG\").attr(\"transform\", \"translate(2 17)\");\n",
       "});\n",
       "</script>\n"
      ]
     },
     "metadata": {},
     "output_type": "display_data"
    },
    {
     "data": {
      "text/html": [
       "<script>\n",
       "require([\"d3\"], function(d3) {\n",
       "    d3.select(\".usersvg #pixel_crossoHG\").attr(\"transform\", \"translate(1 17)\");\n",
       "});\n",
       "</script>\n"
      ]
     },
     "metadata": {},
     "output_type": "display_data"
    },
    {
     "data": {
      "text/html": [
       "<script>\n",
       "require([\"d3\"], function(d3) {\n",
       "    d3.select(\".usersvg #pixel_crossoHG\").attr(\"transform\", \"translate(1 17)\");\n",
       "});\n",
       "</script>\n"
      ]
     },
     "metadata": {},
     "output_type": "display_data"
    },
    {
     "data": {
      "text/html": [
       "<script>\n",
       "require([\"d3\"], function(d3) {\n",
       "    d3.select(\".usersvg #pixel_crossoHG\").attr(\"transform\", \"translate(1 16)\");\n",
       "});\n",
       "</script>\n"
      ]
     },
     "metadata": {},
     "output_type": "display_data"
    },
    {
     "data": {
      "text/html": [
       "<script>\n",
       "require([\"d3\"], function(d3) {\n",
       "    d3.select(\".usersvg #pixel_crossoHG\").attr(\"transform\", \"translate(1 15)\");\n",
       "});\n",
       "</script>\n"
      ]
     },
     "metadata": {},
     "output_type": "display_data"
    },
    {
     "data": {
      "text/html": [
       "<script>\n",
       "require([\"d3\"], function(d3) {\n",
       "    d3.select(\".usersvg #pixel_crossoHG\").attr(\"transform\", \"translate(2 15)\");\n",
       "});\n",
       "</script>\n"
      ]
     },
     "metadata": {},
     "output_type": "display_data"
    },
    {
     "data": {
      "text/html": [
       "<script>\n",
       "require([\"d3\"], function(d3) {\n",
       "    d3.select(\".usersvg #pixel_crossoHG\").attr(\"transform\", \"translate(2 16)\");\n",
       "});\n",
       "</script>\n"
      ]
     },
     "metadata": {},
     "output_type": "display_data"
    },
    {
     "data": {
      "text/html": [
       "<script>\n",
       "require([\"d3\"], function(d3) {\n",
       "    d3.select(\".usersvg #pixel_crossoHG\").attr(\"transform\", \"translate(1 16)\");\n",
       "});\n",
       "</script>\n"
      ]
     },
     "metadata": {},
     "output_type": "display_data"
    },
    {
     "data": {
      "text/html": [
       "<script>\n",
       "require([\"d3\"], function(d3) {\n",
       "    d3.select(\".usersvg #pixel_crossoHG\").attr(\"transform\", \"translate(0 16)\");\n",
       "});\n",
       "</script>\n"
      ]
     },
     "metadata": {},
     "output_type": "display_data"
    },
    {
     "data": {
      "text/html": [
       "<script>\n",
       "require([\"d3\"], function(d3) {\n",
       "    d3.select(\".usersvg #pixel_crossoHG\").attr(\"transform\", \"translate(0 17)\");\n",
       "});\n",
       "</script>\n"
      ]
     },
     "metadata": {},
     "output_type": "display_data"
    },
    {
     "data": {
      "text/html": [
       "<script>\n",
       "require([\"d3\"], function(d3) {\n",
       "    d3.select(\".usersvg #pixel_crossoHG\").attr(\"transform\", \"translate(0 16)\");\n",
       "});\n",
       "</script>\n"
      ]
     },
     "metadata": {},
     "output_type": "display_data"
    },
    {
     "data": {
      "text/html": [
       "<script>\n",
       "require([\"d3\"], function(d3) {\n",
       "    d3.select(\".usersvg #pixel_crossoHG\").attr(\"transform\", \"translate(1 16)\");\n",
       "});\n",
       "</script>\n"
      ]
     },
     "metadata": {},
     "output_type": "display_data"
    },
    {
     "data": {
      "text/html": [
       "<script>\n",
       "require([\"d3\"], function(d3) {\n",
       "    d3.select(\".usersvg #pixel_crossoHG\").attr(\"transform\", \"translate(1 15)\");\n",
       "});\n",
       "</script>\n"
      ]
     },
     "metadata": {},
     "output_type": "display_data"
    },
    {
     "data": {
      "text/html": [
       "<script>\n",
       "require([\"d3\"], function(d3) {\n",
       "    d3.select(\".usersvg #pixel_crossoHG\").attr(\"transform\", \"translate(1 16)\");\n",
       "});\n",
       "</script>\n"
      ]
     },
     "metadata": {},
     "output_type": "display_data"
    },
    {
     "data": {
      "text/html": [
       "<script>\n",
       "require([\"d3\"], function(d3) {\n",
       "    d3.select(\".usersvg #pixel_crossoHG\").attr(\"transform\", \"translate(0 16)\");\n",
       "});\n",
       "</script>\n"
      ]
     },
     "metadata": {},
     "output_type": "display_data"
    },
    {
     "data": {
      "text/html": [
       "<script>\n",
       "require([\"d3\"], function(d3) {\n",
       "    d3.select(\".usersvg #pixel_crossoHG\").attr(\"transform\", \"translate(1 16)\");\n",
       "});\n",
       "</script>\n"
      ]
     },
     "metadata": {},
     "output_type": "display_data"
    },
    {
     "data": {
      "text/html": [
       "<script>\n",
       "require([\"d3\"], function(d3) {\n",
       "    d3.select(\".usersvg #pixel_crossoHG\").attr(\"transform\", \"translate(2 16)\");\n",
       "});\n",
       "</script>\n"
      ]
     },
     "metadata": {},
     "output_type": "display_data"
    },
    {
     "data": {
      "text/html": [
       "<script>\n",
       "require([\"d3\"], function(d3) {\n",
       "    d3.select(\".usersvg #pixel_crossoHG\").attr(\"transform\", \"translate(2 15)\");\n",
       "});\n",
       "</script>\n"
      ]
     },
     "metadata": {},
     "output_type": "display_data"
    },
    {
     "data": {
      "text/html": [
       "<script>\n",
       "require([\"d3\"], function(d3) {\n",
       "    d3.select(\".usersvg #pixel_crossoHG\").attr(\"transform\", \"translate(3 15)\");\n",
       "});\n",
       "</script>\n"
      ]
     },
     "metadata": {},
     "output_type": "display_data"
    },
    {
     "data": {
      "text/html": [
       "<script>\n",
       "require([\"d3\"], function(d3) {\n",
       "    d3.select(\".usersvg #pixel_crossoHG\").attr(\"transform\", \"translate(2 15)\");\n",
       "});\n",
       "</script>\n"
      ]
     },
     "metadata": {},
     "output_type": "display_data"
    },
    {
     "data": {
      "text/html": [
       "<script>\n",
       "require([\"d3\"], function(d3) {\n",
       "    d3.select(\".usersvg #pixel_crossoHG\").attr(\"transform\", \"translate(2 14)\");\n",
       "});\n",
       "</script>\n"
      ]
     },
     "metadata": {},
     "output_type": "display_data"
    },
    {
     "data": {
      "text/html": [
       "<script>\n",
       "require([\"d3\"], function(d3) {\n",
       "    d3.select(\".usersvg #pixel_crossoHG\").attr(\"transform\", \"translate(2 13)\");\n",
       "});\n",
       "</script>\n"
      ]
     },
     "metadata": {},
     "output_type": "display_data"
    },
    {
     "data": {
      "text/html": [
       "<script>\n",
       "require([\"d3\"], function(d3) {\n",
       "    d3.select(\".usersvg #pixel_crossoHG\").attr(\"transform\", \"translate(2 12)\");\n",
       "});\n",
       "</script>\n"
      ]
     },
     "metadata": {},
     "output_type": "display_data"
    },
    {
     "data": {
      "text/html": [
       "<script>\n",
       "require([\"d3\"], function(d3) {\n",
       "    d3.select(\".usersvg #pixel_crossoHG\").attr(\"transform\", \"translate(2 11)\");\n",
       "});\n",
       "</script>\n"
      ]
     },
     "metadata": {},
     "output_type": "display_data"
    },
    {
     "data": {
      "text/html": [
       "<script>\n",
       "require([\"d3\"], function(d3) {\n",
       "    d3.select(\".usersvg #pixel_crossoHG\").attr(\"transform\", \"translate(3 11)\");\n",
       "});\n",
       "</script>\n"
      ]
     },
     "metadata": {},
     "output_type": "display_data"
    },
    {
     "data": {
      "text/html": [
       "<script>\n",
       "require([\"d3\"], function(d3) {\n",
       "    d3.select(\".usersvg #pixel_crossoHG\").attr(\"transform\", \"translate(2 11)\");\n",
       "});\n",
       "</script>\n"
      ]
     },
     "metadata": {},
     "output_type": "display_data"
    },
    {
     "data": {
      "text/html": [
       "<script>\n",
       "require([\"d3\"], function(d3) {\n",
       "    d3.select(\".usersvg #pixel_crossoHG\").attr(\"transform\", \"translate(2 12)\");\n",
       "});\n",
       "</script>\n"
      ]
     },
     "metadata": {},
     "output_type": "display_data"
    },
    {
     "data": {
      "text/html": [
       "<script>\n",
       "require([\"d3\"], function(d3) {\n",
       "    d3.select(\".usersvg #pixel_crossoHG\").attr(\"transform\", \"translate(3 12)\");\n",
       "});\n",
       "</script>\n"
      ]
     },
     "metadata": {},
     "output_type": "display_data"
    },
    {
     "data": {
      "text/html": [
       "<script>\n",
       "require([\"d3\"], function(d3) {\n",
       "    d3.select(\".usersvg #pixel_crossoHG\").attr(\"transform\", \"translate(3 11)\");\n",
       "});\n",
       "</script>\n"
      ]
     },
     "metadata": {},
     "output_type": "display_data"
    },
    {
     "data": {
      "text/html": [
       "<script>\n",
       "require([\"d3\"], function(d3) {\n",
       "    d3.select(\".usersvg #pixel_crossoHG\").attr(\"transform\", \"translate(3 12)\");\n",
       "});\n",
       "</script>\n"
      ]
     },
     "metadata": {},
     "output_type": "display_data"
    },
    {
     "data": {
      "text/html": [
       "<script>\n",
       "require([\"d3\"], function(d3) {\n",
       "    d3.select(\".usersvg #pixel_crossoHG\").attr(\"transform\", \"translate(3 11)\");\n",
       "});\n",
       "</script>\n"
      ]
     },
     "metadata": {},
     "output_type": "display_data"
    },
    {
     "data": {
      "text/html": [
       "<script>\n",
       "require([\"d3\"], function(d3) {\n",
       "    d3.select(\".usersvg #pixel_crossoHG\").attr(\"transform\", \"translate(3 12)\");\n",
       "});\n",
       "</script>\n"
      ]
     },
     "metadata": {},
     "output_type": "display_data"
    },
    {
     "data": {
      "text/html": [
       "<script>\n",
       "require([\"d3\"], function(d3) {\n",
       "    d3.select(\".usersvg #pixel_crossoHG\").attr(\"transform\", \"translate(3 11)\");\n",
       "});\n",
       "</script>\n"
      ]
     },
     "metadata": {},
     "output_type": "display_data"
    },
    {
     "data": {
      "text/html": [
       "<script>\n",
       "require([\"d3\"], function(d3) {\n",
       "    d3.select(\".usersvg #pixel_crossoHG\").attr(\"transform\", \"translate(4 11)\");\n",
       "});\n",
       "</script>\n"
      ]
     },
     "metadata": {},
     "output_type": "display_data"
    },
    {
     "data": {
      "text/html": [
       "<script>\n",
       "require([\"d3\"], function(d3) {\n",
       "    d3.select(\".usersvg #pixel_crossoHG\").attr(\"transform\", \"translate(4 12)\");\n",
       "});\n",
       "</script>\n"
      ]
     },
     "metadata": {},
     "output_type": "display_data"
    },
    {
     "data": {
      "text/html": [
       "<script>\n",
       "require([\"d3\"], function(d3) {\n",
       "    d3.select(\".usersvg #pixel_crossoHG\").attr(\"transform\", \"translate(4 13)\");\n",
       "});\n",
       "</script>\n"
      ]
     },
     "metadata": {},
     "output_type": "display_data"
    },
    {
     "data": {
      "text/html": [
       "<script>\n",
       "require([\"d3\"], function(d3) {\n",
       "    d3.select(\".usersvg #pixel_crossoHG\").attr(\"transform\", \"translate(3 13)\");\n",
       "});\n",
       "</script>\n"
      ]
     },
     "metadata": {},
     "output_type": "display_data"
    },
    {
     "data": {
      "text/html": [
       "<script>\n",
       "require([\"d3\"], function(d3) {\n",
       "    d3.select(\".usersvg #pixel_crossoHG\").attr(\"transform\", \"translate(3 14)\");\n",
       "});\n",
       "</script>\n"
      ]
     },
     "metadata": {},
     "output_type": "display_data"
    },
    {
     "data": {
      "text/html": [
       "<script>\n",
       "require([\"d3\"], function(d3) {\n",
       "    d3.select(\".usersvg #pixel_crossoHG\").attr(\"transform\", \"translate(4 14)\");\n",
       "});\n",
       "</script>\n"
      ]
     },
     "metadata": {},
     "output_type": "display_data"
    },
    {
     "data": {
      "text/html": [
       "<script>\n",
       "require([\"d3\"], function(d3) {\n",
       "    d3.select(\".usersvg #pixel_crossoHG\").attr(\"transform\", \"translate(4 13)\");\n",
       "});\n",
       "</script>\n"
      ]
     },
     "metadata": {},
     "output_type": "display_data"
    },
    {
     "data": {
      "text/html": [
       "<script>\n",
       "require([\"d3\"], function(d3) {\n",
       "    d3.select(\".usersvg #pixel_crossoHG\").attr(\"transform\", \"translate(4 14)\");\n",
       "});\n",
       "</script>\n"
      ]
     },
     "metadata": {},
     "output_type": "display_data"
    },
    {
     "data": {
      "text/html": [
       "<script>\n",
       "require([\"d3\"], function(d3) {\n",
       "    d3.select(\".usersvg #pixel_crossoHG\").attr(\"transform\", \"translate(3 14)\");\n",
       "});\n",
       "</script>\n"
      ]
     },
     "metadata": {},
     "output_type": "display_data"
    },
    {
     "data": {
      "text/html": [
       "<script>\n",
       "require([\"d3\"], function(d3) {\n",
       "    d3.select(\".usersvg #pixel_crossoHG\").attr(\"transform\", \"translate(3 15)\");\n",
       "});\n",
       "</script>\n"
      ]
     },
     "metadata": {},
     "output_type": "display_data"
    },
    {
     "data": {
      "text/html": [
       "<script>\n",
       "require([\"d3\"], function(d3) {\n",
       "    d3.select(\".usersvg #pixel_crossoHG\").attr(\"transform\", \"translate(4 15)\");\n",
       "});\n",
       "</script>\n"
      ]
     },
     "metadata": {},
     "output_type": "display_data"
    },
    {
     "data": {
      "text/html": [
       "<script>\n",
       "require([\"d3\"], function(d3) {\n",
       "    d3.select(\".usersvg #pixel_crossoHG\").attr(\"transform\", \"translate(4 16)\");\n",
       "});\n",
       "</script>\n"
      ]
     },
     "metadata": {},
     "output_type": "display_data"
    },
    {
     "data": {
      "text/html": [
       "<script>\n",
       "require([\"d3\"], function(d3) {\n",
       "    d3.select(\".usersvg #pixel_crossoHG\").attr(\"transform\", \"translate(4 17)\");\n",
       "});\n",
       "</script>\n"
      ]
     },
     "metadata": {},
     "output_type": "display_data"
    },
    {
     "data": {
      "text/html": [
       "<script>\n",
       "require([\"d3\"], function(d3) {\n",
       "    d3.select(\".usersvg #pixel_crossoHG\").attr(\"transform\", \"translate(4 17)\");\n",
       "});\n",
       "</script>\n"
      ]
     },
     "metadata": {},
     "output_type": "display_data"
    },
    {
     "data": {
      "text/html": [
       "<script>\n",
       "require([\"d3\"], function(d3) {\n",
       "    d3.select(\".usersvg #pixel_crossoHG\").attr(\"transform\", \"translate(4 16)\");\n",
       "});\n",
       "</script>\n"
      ]
     },
     "metadata": {},
     "output_type": "display_data"
    },
    {
     "data": {
      "text/html": [
       "<script>\n",
       "require([\"d3\"], function(d3) {\n",
       "    d3.select(\".usersvg #pixel_crossoHG\").attr(\"transform\", \"translate(5 16)\");\n",
       "});\n",
       "</script>\n"
      ]
     },
     "metadata": {},
     "output_type": "display_data"
    },
    {
     "data": {
      "text/html": [
       "<script>\n",
       "require([\"d3\"], function(d3) {\n",
       "    d3.select(\".usersvg #pixel_crossoHG\").attr(\"transform\", \"translate(5 15)\");\n",
       "});\n",
       "</script>\n"
      ]
     },
     "metadata": {},
     "output_type": "display_data"
    },
    {
     "data": {
      "text/html": [
       "<script>\n",
       "require([\"d3\"], function(d3) {\n",
       "    d3.select(\".usersvg #pixel_crossoHG\").attr(\"transform\", \"translate(5 14)\");\n",
       "});\n",
       "</script>\n"
      ]
     },
     "metadata": {},
     "output_type": "display_data"
    },
    {
     "data": {
      "text/html": [
       "<script>\n",
       "require([\"d3\"], function(d3) {\n",
       "    d3.select(\".usersvg #pixel_crossoHG\").attr(\"transform\", \"translate(5 13)\");\n",
       "});\n",
       "</script>\n"
      ]
     },
     "metadata": {},
     "output_type": "display_data"
    },
    {
     "data": {
      "text/html": [
       "<script>\n",
       "require([\"d3\"], function(d3) {\n",
       "    d3.select(\".usersvg #pixel_crossoHG\").attr(\"transform\", \"translate(6 13)\");\n",
       "});\n",
       "</script>\n"
      ]
     },
     "metadata": {},
     "output_type": "display_data"
    },
    {
     "data": {
      "text/html": [
       "<script>\n",
       "require([\"d3\"], function(d3) {\n",
       "    d3.select(\".usersvg #pixel_crossoHG\").attr(\"transform\", \"translate(6 12)\");\n",
       "});\n",
       "</script>\n"
      ]
     },
     "metadata": {},
     "output_type": "display_data"
    },
    {
     "data": {
      "text/html": [
       "<script>\n",
       "require([\"d3\"], function(d3) {\n",
       "    d3.select(\".usersvg #pixel_crossoHG\").attr(\"transform\", \"translate(6 13)\");\n",
       "});\n",
       "</script>\n"
      ]
     },
     "metadata": {},
     "output_type": "display_data"
    },
    {
     "data": {
      "text/html": [
       "<script>\n",
       "require([\"d3\"], function(d3) {\n",
       "    d3.select(\".usersvg #pixel_crossoHG\").attr(\"transform\", \"translate(5 13)\");\n",
       "});\n",
       "</script>\n"
      ]
     },
     "metadata": {},
     "output_type": "display_data"
    },
    {
     "data": {
      "text/html": [
       "<script>\n",
       "require([\"d3\"], function(d3) {\n",
       "    d3.select(\".usersvg #pixel_crossoHG\").attr(\"transform\", \"translate(5 12)\");\n",
       "});\n",
       "</script>\n"
      ]
     },
     "metadata": {},
     "output_type": "display_data"
    },
    {
     "data": {
      "text/html": [
       "<script>\n",
       "require([\"d3\"], function(d3) {\n",
       "    d3.select(\".usersvg #pixel_crossoHG\").attr(\"transform\", \"translate(4 12)\");\n",
       "});\n",
       "</script>\n"
      ]
     },
     "metadata": {},
     "output_type": "display_data"
    },
    {
     "data": {
      "text/html": [
       "<script>\n",
       "require([\"d3\"], function(d3) {\n",
       "    d3.select(\".usersvg #pixel_crossoHG\").attr(\"transform\", \"translate(4 13)\");\n",
       "});\n",
       "</script>\n"
      ]
     },
     "metadata": {},
     "output_type": "display_data"
    },
    {
     "data": {
      "text/html": [
       "<script>\n",
       "require([\"d3\"], function(d3) {\n",
       "    d3.select(\".usersvg #pixel_crossoHG\").attr(\"transform\", \"translate(5 13)\");\n",
       "});\n",
       "</script>\n"
      ]
     },
     "metadata": {},
     "output_type": "display_data"
    },
    {
     "data": {
      "text/html": [
       "<script>\n",
       "require([\"d3\"], function(d3) {\n",
       "    d3.select(\".usersvg #pixel_crossoHG\").attr(\"transform\", \"translate(5 12)\");\n",
       "});\n",
       "</script>\n"
      ]
     },
     "metadata": {},
     "output_type": "display_data"
    },
    {
     "data": {
      "text/html": [
       "<script>\n",
       "require([\"d3\"], function(d3) {\n",
       "    d3.select(\".usersvg #pixel_crossoHG\").attr(\"transform\", \"translate(5 13)\");\n",
       "});\n",
       "</script>\n"
      ]
     },
     "metadata": {},
     "output_type": "display_data"
    },
    {
     "data": {
      "text/html": [
       "<script>\n",
       "require([\"d3\"], function(d3) {\n",
       "    d3.select(\".usersvg #pixel_crossoHG\").attr(\"transform\", \"translate(5 14)\");\n",
       "});\n",
       "</script>\n"
      ]
     },
     "metadata": {},
     "output_type": "display_data"
    },
    {
     "data": {
      "text/html": [
       "<script>\n",
       "require([\"d3\"], function(d3) {\n",
       "    d3.select(\".usersvg #pixel_crossoHG\").attr(\"transform\", \"translate(5 13)\");\n",
       "});\n",
       "</script>\n"
      ]
     },
     "metadata": {},
     "output_type": "display_data"
    },
    {
     "data": {
      "text/html": [
       "<script>\n",
       "require([\"d3\"], function(d3) {\n",
       "    d3.select(\".usersvg #pixel_crossoHG\").attr(\"transform\", \"translate(6 13)\");\n",
       "});\n",
       "</script>\n"
      ]
     },
     "metadata": {},
     "output_type": "display_data"
    },
    {
     "data": {
      "text/html": [
       "<script>\n",
       "require([\"d3\"], function(d3) {\n",
       "    d3.select(\".usersvg #pixel_crossoHG\").attr(\"transform\", \"translate(6 14)\");\n",
       "});\n",
       "</script>\n"
      ]
     },
     "metadata": {},
     "output_type": "display_data"
    },
    {
     "data": {
      "text/html": [
       "<script>\n",
       "require([\"d3\"], function(d3) {\n",
       "    d3.select(\".usersvg #pixel_crossoHG\").attr(\"transform\", \"translate(7 14)\");\n",
       "});\n",
       "</script>\n"
      ]
     },
     "metadata": {},
     "output_type": "display_data"
    },
    {
     "data": {
      "text/html": [
       "<script>\n",
       "require([\"d3\"], function(d3) {\n",
       "    d3.select(\".usersvg #pixel_crossoHG\").attr(\"transform\", \"translate(7 15)\");\n",
       "});\n",
       "</script>\n"
      ]
     },
     "metadata": {},
     "output_type": "display_data"
    },
    {
     "data": {
      "text/html": [
       "<script>\n",
       "require([\"d3\"], function(d3) {\n",
       "    d3.select(\".usersvg #pixel_crossoHG\").attr(\"transform\", \"translate(7 16)\");\n",
       "});\n",
       "</script>\n"
      ]
     },
     "metadata": {},
     "output_type": "display_data"
    },
    {
     "data": {
      "text/html": [
       "<script>\n",
       "require([\"d3\"], function(d3) {\n",
       "    d3.select(\".usersvg #pixel_crossoHG\").attr(\"transform\", \"translate(6 16)\");\n",
       "});\n",
       "</script>\n"
      ]
     },
     "metadata": {},
     "output_type": "display_data"
    },
    {
     "data": {
      "text/html": [
       "<script>\n",
       "require([\"d3\"], function(d3) {\n",
       "    d3.select(\".usersvg #pixel_crossoHG\").attr(\"transform\", \"translate(7 16)\");\n",
       "});\n",
       "</script>\n"
      ]
     },
     "metadata": {},
     "output_type": "display_data"
    },
    {
     "data": {
      "text/html": [
       "<script>\n",
       "require([\"d3\"], function(d3) {\n",
       "    d3.select(\".usersvg #pixel_crossoHG\").attr(\"transform\", \"translate(8 16)\");\n",
       "});\n",
       "</script>\n"
      ]
     },
     "metadata": {},
     "output_type": "display_data"
    },
    {
     "data": {
      "text/html": [
       "<script>\n",
       "require([\"d3\"], function(d3) {\n",
       "    d3.select(\".usersvg #pixel_crossoHG\").attr(\"transform\", \"translate(9 16)\");\n",
       "});\n",
       "</script>\n"
      ]
     },
     "metadata": {},
     "output_type": "display_data"
    },
    {
     "data": {
      "text/html": [
       "<script>\n",
       "require([\"d3\"], function(d3) {\n",
       "    d3.select(\".usersvg #pixel_crossoHG\").attr(\"transform\", \"translate(9 17)\");\n",
       "});\n",
       "</script>\n"
      ]
     },
     "metadata": {},
     "output_type": "display_data"
    },
    {
     "data": {
      "text/html": [
       "<script>\n",
       "require([\"d3\"], function(d3) {\n",
       "    d3.select(\".usersvg #pixel_crossoHG\").attr(\"transform\", \"translate(8 17)\");\n",
       "});\n",
       "</script>\n"
      ]
     },
     "metadata": {},
     "output_type": "display_data"
    },
    {
     "data": {
      "text/html": [
       "<script>\n",
       "require([\"d3\"], function(d3) {\n",
       "    d3.select(\".usersvg #pixel_crossoHG\").attr(\"transform\", \"translate(7 17)\");\n",
       "});\n",
       "</script>\n"
      ]
     },
     "metadata": {},
     "output_type": "display_data"
    },
    {
     "data": {
      "text/html": [
       "<script>\n",
       "require([\"d3\"], function(d3) {\n",
       "    d3.select(\".usersvg #pixel_crossoHG\").attr(\"transform\", \"translate(7 16)\");\n",
       "});\n",
       "</script>\n"
      ]
     },
     "metadata": {},
     "output_type": "display_data"
    },
    {
     "data": {
      "text/html": [
       "<script>\n",
       "require([\"d3\"], function(d3) {\n",
       "    d3.select(\".usersvg #pixel_crossoHG\").attr(\"transform\", \"translate(7 17)\");\n",
       "});\n",
       "</script>\n"
      ]
     },
     "metadata": {},
     "output_type": "display_data"
    },
    {
     "data": {
      "text/html": [
       "<script>\n",
       "require([\"d3\"], function(d3) {\n",
       "    d3.select(\".usersvg #pixel_crossoHG\").attr(\"transform\", \"translate(7 17)\");\n",
       "});\n",
       "</script>\n"
      ]
     },
     "metadata": {},
     "output_type": "display_data"
    },
    {
     "data": {
      "text/html": [
       "<script>\n",
       "require([\"d3\"], function(d3) {\n",
       "    d3.select(\".usersvg #pixel_crossoHG\").attr(\"transform\", \"translate(7 17)\");\n",
       "});\n",
       "</script>\n"
      ]
     },
     "metadata": {},
     "output_type": "display_data"
    },
    {
     "data": {
      "text/html": [
       "<script>\n",
       "require([\"d3\"], function(d3) {\n",
       "    d3.select(\".usersvg #pixel_crossoHG\").attr(\"transform\", \"translate(6 17)\");\n",
       "});\n",
       "</script>\n"
      ]
     },
     "metadata": {},
     "output_type": "display_data"
    },
    {
     "data": {
      "text/html": [
       "<script>\n",
       "require([\"d3\"], function(d3) {\n",
       "    d3.select(\".usersvg #pixel_crossoHG\").attr(\"transform\", \"translate(7 17)\");\n",
       "});\n",
       "</script>\n"
      ]
     },
     "metadata": {},
     "output_type": "display_data"
    },
    {
     "data": {
      "text/html": [
       "<script>\n",
       "require([\"d3\"], function(d3) {\n",
       "    d3.select(\".usersvg #pixel_crossoHG\").attr(\"transform\", \"translate(7 17)\");\n",
       "});\n",
       "</script>\n"
      ]
     },
     "metadata": {},
     "output_type": "display_data"
    },
    {
     "data": {
      "text/html": [
       "<script>\n",
       "require([\"d3\"], function(d3) {\n",
       "    d3.select(\".usersvg #pixel_crossoHG\").attr(\"transform\", \"translate(8 17)\");\n",
       "});\n",
       "</script>\n"
      ]
     },
     "metadata": {},
     "output_type": "display_data"
    },
    {
     "data": {
      "text/html": [
       "<script>\n",
       "require([\"d3\"], function(d3) {\n",
       "    d3.select(\".usersvg #pixel_crossoHG\").attr(\"transform\", \"translate(7 17)\");\n",
       "});\n",
       "</script>\n"
      ]
     },
     "metadata": {},
     "output_type": "display_data"
    },
    {
     "data": {
      "text/html": [
       "<script>\n",
       "require([\"d3\"], function(d3) {\n",
       "    d3.select(\".usersvg #pixel_crossoHG\").attr(\"transform\", \"translate(7 17)\");\n",
       "});\n",
       "</script>\n"
      ]
     },
     "metadata": {},
     "output_type": "display_data"
    },
    {
     "data": {
      "text/html": [
       "<script>\n",
       "require([\"d3\"], function(d3) {\n",
       "    d3.select(\".usersvg #pixel_crossoHG\").attr(\"transform\", \"translate(7 17)\");\n",
       "});\n",
       "</script>\n"
      ]
     },
     "metadata": {},
     "output_type": "display_data"
    },
    {
     "data": {
      "text/html": [
       "<script>\n",
       "require([\"d3\"], function(d3) {\n",
       "    d3.select(\".usersvg #pixel_crossoHG\").attr(\"transform\", \"translate(7 17)\");\n",
       "});\n",
       "</script>\n"
      ]
     },
     "metadata": {},
     "output_type": "display_data"
    },
    {
     "data": {
      "text/html": [
       "<script>\n",
       "require([\"d3\"], function(d3) {\n",
       "    d3.select(\".usersvg #pixel_crossoHG\").attr(\"transform\", \"translate(6 17)\");\n",
       "});\n",
       "</script>\n"
      ]
     },
     "metadata": {},
     "output_type": "display_data"
    },
    {
     "data": {
      "text/html": [
       "<script>\n",
       "require([\"d3\"], function(d3) {\n",
       "    d3.select(\".usersvg #pixel_crossoHG\").attr(\"transform\", \"translate(6 16)\");\n",
       "});\n",
       "</script>\n"
      ]
     },
     "metadata": {},
     "output_type": "display_data"
    },
    {
     "data": {
      "text/html": [
       "<script>\n",
       "require([\"d3\"], function(d3) {\n",
       "    d3.select(\".usersvg #pixel_crossoHG\").attr(\"transform\", \"translate(6 17)\");\n",
       "});\n",
       "</script>\n"
      ]
     },
     "metadata": {},
     "output_type": "display_data"
    },
    {
     "data": {
      "text/html": [
       "<script>\n",
       "require([\"d3\"], function(d3) {\n",
       "    d3.select(\".usersvg #pixel_crossoHG\").attr(\"transform\", \"translate(5 17)\");\n",
       "});\n",
       "</script>\n"
      ]
     },
     "metadata": {},
     "output_type": "display_data"
    },
    {
     "data": {
      "text/html": [
       "<script>\n",
       "require([\"d3\"], function(d3) {\n",
       "    d3.select(\".usersvg #pixel_crossoHG\").attr(\"transform\", \"translate(5 16)\");\n",
       "});\n",
       "</script>\n"
      ]
     },
     "metadata": {},
     "output_type": "display_data"
    },
    {
     "data": {
      "text/html": [
       "<script>\n",
       "require([\"d3\"], function(d3) {\n",
       "    d3.select(\".usersvg #pixel_crossoHG\").attr(\"transform\", \"translate(4 16)\");\n",
       "});\n",
       "</script>\n"
      ]
     },
     "metadata": {},
     "output_type": "display_data"
    },
    {
     "data": {
      "text/html": [
       "<script>\n",
       "require([\"d3\"], function(d3) {\n",
       "    d3.select(\".usersvg #pixel_crossoHG\").attr(\"transform\", \"translate(5 16)\");\n",
       "});\n",
       "</script>\n"
      ]
     },
     "metadata": {},
     "output_type": "display_data"
    },
    {
     "data": {
      "text/html": [
       "<script>\n",
       "require([\"d3\"], function(d3) {\n",
       "    d3.select(\".usersvg #pixel_crossoHG\").attr(\"transform\", \"translate(6 16)\");\n",
       "});\n",
       "</script>\n"
      ]
     },
     "metadata": {},
     "output_type": "display_data"
    },
    {
     "data": {
      "text/html": [
       "<script>\n",
       "require([\"d3\"], function(d3) {\n",
       "    d3.select(\".usersvg #pixel_crossoHG\").attr(\"transform\", \"translate(7 16)\");\n",
       "});\n",
       "</script>\n"
      ]
     },
     "metadata": {},
     "output_type": "display_data"
    },
    {
     "data": {
      "text/html": [
       "<script>\n",
       "require([\"d3\"], function(d3) {\n",
       "    d3.select(\".usersvg #pixel_crossoHG\").attr(\"transform\", \"translate(7 17)\");\n",
       "});\n",
       "</script>\n"
      ]
     },
     "metadata": {},
     "output_type": "display_data"
    },
    {
     "data": {
      "text/html": [
       "<script>\n",
       "require([\"d3\"], function(d3) {\n",
       "    d3.select(\".usersvg #pixel_crossoHG\").attr(\"transform\", \"translate(7 16)\");\n",
       "});\n",
       "</script>\n"
      ]
     },
     "metadata": {},
     "output_type": "display_data"
    },
    {
     "data": {
      "text/html": [
       "<script>\n",
       "require([\"d3\"], function(d3) {\n",
       "    d3.select(\".usersvg #pixel_crossoHG\").attr(\"transform\", \"translate(7 15)\");\n",
       "});\n",
       "</script>\n"
      ]
     },
     "metadata": {},
     "output_type": "display_data"
    },
    {
     "data": {
      "text/html": [
       "<script>\n",
       "require([\"d3\"], function(d3) {\n",
       "    d3.select(\".usersvg #pixel_crossoHG\").attr(\"transform\", \"translate(7 16)\");\n",
       "});\n",
       "</script>\n"
      ]
     },
     "metadata": {},
     "output_type": "display_data"
    },
    {
     "data": {
      "text/html": [
       "<script>\n",
       "require([\"d3\"], function(d3) {\n",
       "    d3.select(\".usersvg #pixel_crossoHG\").attr(\"transform\", \"translate(8 16)\");\n",
       "});\n",
       "</script>\n"
      ]
     },
     "metadata": {},
     "output_type": "display_data"
    },
    {
     "data": {
      "text/html": [
       "<script>\n",
       "require([\"d3\"], function(d3) {\n",
       "    d3.select(\".usersvg #pixel_crossoHG\").attr(\"transform\", \"translate(8 15)\");\n",
       "});\n",
       "</script>\n"
      ]
     },
     "metadata": {},
     "output_type": "display_data"
    },
    {
     "data": {
      "text/html": [
       "<script>\n",
       "require([\"d3\"], function(d3) {\n",
       "    d3.select(\".usersvg #pixel_crossoHG\").attr(\"transform\", \"translate(8 14)\");\n",
       "});\n",
       "</script>\n"
      ]
     },
     "metadata": {},
     "output_type": "display_data"
    },
    {
     "data": {
      "text/html": [
       "<script>\n",
       "require([\"d3\"], function(d3) {\n",
       "    d3.select(\".usersvg #pixel_crossoHG\").attr(\"transform\", \"translate(7 14)\");\n",
       "});\n",
       "</script>\n"
      ]
     },
     "metadata": {},
     "output_type": "display_data"
    },
    {
     "data": {
      "text/html": [
       "<script>\n",
       "require([\"d3\"], function(d3) {\n",
       "    d3.select(\".usersvg #pixel_crossoHG\").attr(\"transform\", \"translate(8 14)\");\n",
       "});\n",
       "</script>\n"
      ]
     },
     "metadata": {},
     "output_type": "display_data"
    },
    {
     "data": {
      "text/html": [
       "<script>\n",
       "require([\"d3\"], function(d3) {\n",
       "    d3.select(\".usersvg #pixel_crossoHG\").attr(\"transform\", \"translate(8 13)\");\n",
       "});\n",
       "</script>\n"
      ]
     },
     "metadata": {},
     "output_type": "display_data"
    },
    {
     "data": {
      "text/html": [
       "<script>\n",
       "require([\"d3\"], function(d3) {\n",
       "    d3.select(\".usersvg #pixel_crossoHG\").attr(\"transform\", \"translate(8 12)\");\n",
       "});\n",
       "</script>\n"
      ]
     },
     "metadata": {},
     "output_type": "display_data"
    },
    {
     "data": {
      "text/html": [
       "<script>\n",
       "require([\"d3\"], function(d3) {\n",
       "    d3.select(\".usersvg #pixel_crossoHG\").attr(\"transform\", \"translate(8 13)\");\n",
       "});\n",
       "</script>\n"
      ]
     },
     "metadata": {},
     "output_type": "display_data"
    },
    {
     "data": {
      "text/html": [
       "<script>\n",
       "require([\"d3\"], function(d3) {\n",
       "    d3.select(\".usersvg #pixel_crossoHG\").attr(\"transform\", \"translate(8 14)\");\n",
       "});\n",
       "</script>\n"
      ]
     },
     "metadata": {},
     "output_type": "display_data"
    },
    {
     "data": {
      "text/html": [
       "<script>\n",
       "require([\"d3\"], function(d3) {\n",
       "    d3.select(\".usersvg #pixel_crossoHG\").attr(\"transform\", \"translate(8 13)\");\n",
       "});\n",
       "</script>\n"
      ]
     },
     "metadata": {},
     "output_type": "display_data"
    },
    {
     "data": {
      "text/html": [
       "<script>\n",
       "require([\"d3\"], function(d3) {\n",
       "    d3.select(\".usersvg #pixel_crossoHG\").attr(\"transform\", \"translate(8 12)\");\n",
       "});\n",
       "</script>\n"
      ]
     },
     "metadata": {},
     "output_type": "display_data"
    },
    {
     "data": {
      "text/html": [
       "<script>\n",
       "require([\"d3\"], function(d3) {\n",
       "    d3.select(\".usersvg #pixel_crossoHG\").attr(\"transform\", \"translate(8 13)\");\n",
       "});\n",
       "</script>\n"
      ]
     },
     "metadata": {},
     "output_type": "display_data"
    },
    {
     "data": {
      "text/html": [
       "<script>\n",
       "require([\"d3\"], function(d3) {\n",
       "    d3.select(\".usersvg #pixel_crossoHG\").attr(\"transform\", \"translate(7 13)\");\n",
       "});\n",
       "</script>\n"
      ]
     },
     "metadata": {},
     "output_type": "display_data"
    },
    {
     "data": {
      "text/html": [
       "<script>\n",
       "require([\"d3\"], function(d3) {\n",
       "    d3.select(\".usersvg #pixel_crossoHG\").attr(\"transform\", \"translate(7 14)\");\n",
       "});\n",
       "</script>\n"
      ]
     },
     "metadata": {},
     "output_type": "display_data"
    },
    {
     "data": {
      "text/html": [
       "<script>\n",
       "require([\"d3\"], function(d3) {\n",
       "    d3.select(\".usersvg #pixel_crossoHG\").attr(\"transform\", \"translate(6 14)\");\n",
       "});\n",
       "</script>\n"
      ]
     },
     "metadata": {},
     "output_type": "display_data"
    },
    {
     "data": {
      "text/html": [
       "<script>\n",
       "require([\"d3\"], function(d3) {\n",
       "    d3.select(\".usersvg #pixel_crossoHG\").attr(\"transform\", \"translate(6 13)\");\n",
       "});\n",
       "</script>\n"
      ]
     },
     "metadata": {},
     "output_type": "display_data"
    },
    {
     "data": {
      "text/html": [
       "<script>\n",
       "require([\"d3\"], function(d3) {\n",
       "    d3.select(\".usersvg #pixel_crossoHG\").attr(\"transform\", \"translate(6 12)\");\n",
       "});\n",
       "</script>\n"
      ]
     },
     "metadata": {},
     "output_type": "display_data"
    },
    {
     "data": {
      "text/html": [
       "<script>\n",
       "require([\"d3\"], function(d3) {\n",
       "    d3.select(\".usersvg #pixel_crossoHG\").attr(\"transform\", \"translate(7 12)\");\n",
       "});\n",
       "</script>\n"
      ]
     },
     "metadata": {},
     "output_type": "display_data"
    },
    {
     "data": {
      "text/html": [
       "<script>\n",
       "require([\"d3\"], function(d3) {\n",
       "    d3.select(\".usersvg #pixel_crossoHG\").attr(\"transform\", \"translate(7 13)\");\n",
       "});\n",
       "</script>\n"
      ]
     },
     "metadata": {},
     "output_type": "display_data"
    },
    {
     "data": {
      "text/html": [
       "<script>\n",
       "require([\"d3\"], function(d3) {\n",
       "    d3.select(\".usersvg #pixel_crossoHG\").attr(\"transform\", \"translate(6 13)\");\n",
       "});\n",
       "</script>\n"
      ]
     },
     "metadata": {},
     "output_type": "display_data"
    },
    {
     "data": {
      "text/html": [
       "<script>\n",
       "require([\"d3\"], function(d3) {\n",
       "    d3.select(\".usersvg #pixel_crossoHG\").attr(\"transform\", \"translate(7 13)\");\n",
       "});\n",
       "</script>\n"
      ]
     },
     "metadata": {},
     "output_type": "display_data"
    },
    {
     "data": {
      "text/html": [
       "<script>\n",
       "require([\"d3\"], function(d3) {\n",
       "    d3.select(\".usersvg #pixel_crossoHG\").attr(\"transform\", \"translate(8 13)\");\n",
       "});\n",
       "</script>\n"
      ]
     },
     "metadata": {},
     "output_type": "display_data"
    },
    {
     "data": {
      "text/html": [
       "<script>\n",
       "require([\"d3\"], function(d3) {\n",
       "    d3.select(\".usersvg #pixel_crossoHG\").attr(\"transform\", \"translate(7 13)\");\n",
       "});\n",
       "</script>\n"
      ]
     },
     "metadata": {},
     "output_type": "display_data"
    },
    {
     "data": {
      "text/html": [
       "<script>\n",
       "require([\"d3\"], function(d3) {\n",
       "    d3.select(\".usersvg #pixel_crossoHG\").attr(\"transform\", \"translate(7 12)\");\n",
       "});\n",
       "</script>\n"
      ]
     },
     "metadata": {},
     "output_type": "display_data"
    },
    {
     "data": {
      "text/html": [
       "<script>\n",
       "require([\"d3\"], function(d3) {\n",
       "    d3.select(\".usersvg #pixel_crossoHG\").attr(\"transform\", \"translate(6 12)\");\n",
       "});\n",
       "</script>\n"
      ]
     },
     "metadata": {},
     "output_type": "display_data"
    },
    {
     "data": {
      "text/html": [
       "<script>\n",
       "require([\"d3\"], function(d3) {\n",
       "    d3.select(\".usersvg #pixel_crossoHG\").attr(\"transform\", \"translate(6 11)\");\n",
       "});\n",
       "</script>\n"
      ]
     },
     "metadata": {},
     "output_type": "display_data"
    },
    {
     "data": {
      "text/html": [
       "<script>\n",
       "require([\"d3\"], function(d3) {\n",
       "    d3.select(\".usersvg #pixel_crossoHG\").attr(\"transform\", \"translate(6 12)\");\n",
       "});\n",
       "</script>\n"
      ]
     },
     "metadata": {},
     "output_type": "display_data"
    },
    {
     "data": {
      "text/html": [
       "<script>\n",
       "require([\"d3\"], function(d3) {\n",
       "    d3.select(\".usersvg #pixel_crossoHG\").attr(\"transform\", \"translate(6 11)\");\n",
       "});\n",
       "</script>\n"
      ]
     },
     "metadata": {},
     "output_type": "display_data"
    },
    {
     "data": {
      "text/html": [
       "<script>\n",
       "require([\"d3\"], function(d3) {\n",
       "    d3.select(\".usersvg #pixel_crossoHG\").attr(\"transform\", \"translate(5 11)\");\n",
       "});\n",
       "</script>\n"
      ]
     },
     "metadata": {},
     "output_type": "display_data"
    },
    {
     "data": {
      "text/html": [
       "<script>\n",
       "require([\"d3\"], function(d3) {\n",
       "    d3.select(\".usersvg #pixel_crossoHG\").attr(\"transform\", \"translate(5 10)\");\n",
       "});\n",
       "</script>\n"
      ]
     },
     "metadata": {},
     "output_type": "display_data"
    },
    {
     "data": {
      "text/html": [
       "<script>\n",
       "require([\"d3\"], function(d3) {\n",
       "    d3.select(\".usersvg #pixel_crossoHG\").attr(\"transform\", \"translate(4 10)\");\n",
       "});\n",
       "</script>\n"
      ]
     },
     "metadata": {},
     "output_type": "display_data"
    },
    {
     "data": {
      "text/html": [
       "<script>\n",
       "require([\"d3\"], function(d3) {\n",
       "    d3.select(\".usersvg #pixel_crossoHG\").attr(\"transform\", \"translate(3 10)\");\n",
       "});\n",
       "</script>\n"
      ]
     },
     "metadata": {},
     "output_type": "display_data"
    },
    {
     "data": {
      "text/html": [
       "<script>\n",
       "require([\"d3\"], function(d3) {\n",
       "    d3.select(\".usersvg #pixel_crossoHG\").attr(\"transform\", \"translate(3 9)\");\n",
       "});\n",
       "</script>\n"
      ]
     },
     "metadata": {},
     "output_type": "display_data"
    },
    {
     "data": {
      "text/html": [
       "<script>\n",
       "require([\"d3\"], function(d3) {\n",
       "    d3.select(\".usersvg #pixel_crossoHG\").attr(\"transform\", \"translate(2 9)\");\n",
       "});\n",
       "</script>\n"
      ]
     },
     "metadata": {},
     "output_type": "display_data"
    },
    {
     "data": {
      "text/html": [
       "<script>\n",
       "require([\"d3\"], function(d3) {\n",
       "    d3.select(\".usersvg #pixel_crossoHG\").attr(\"transform\", \"translate(2 8)\");\n",
       "});\n",
       "</script>\n"
      ]
     },
     "metadata": {},
     "output_type": "display_data"
    },
    {
     "data": {
      "text/html": [
       "<script>\n",
       "require([\"d3\"], function(d3) {\n",
       "    d3.select(\".usersvg #pixel_crossoHG\").attr(\"transform\", \"translate(1 8)\");\n",
       "});\n",
       "</script>\n"
      ]
     },
     "metadata": {},
     "output_type": "display_data"
    },
    {
     "data": {
      "text/html": [
       "<script>\n",
       "require([\"d3\"], function(d3) {\n",
       "    d3.select(\".usersvg #pixel_crossoHG\").attr(\"transform\", \"translate(0 8)\");\n",
       "});\n",
       "</script>\n"
      ]
     },
     "metadata": {},
     "output_type": "display_data"
    },
    {
     "data": {
      "text/html": [
       "<script>\n",
       "require([\"d3\"], function(d3) {\n",
       "    d3.select(\".usersvg #pixel_crossoHG\").attr(\"transform\", \"translate(0 8)\");\n",
       "});\n",
       "</script>\n"
      ]
     },
     "metadata": {},
     "output_type": "display_data"
    },
    {
     "data": {
      "text/html": [
       "<script>\n",
       "require([\"d3\"], function(d3) {\n",
       "    d3.select(\".usersvg #pixel_crossoHG\").attr(\"transform\", \"translate(0 8)\");\n",
       "});\n",
       "</script>\n"
      ]
     },
     "metadata": {},
     "output_type": "display_data"
    },
    {
     "data": {
      "text/html": [
       "<script>\n",
       "require([\"d3\"], function(d3) {\n",
       "    d3.select(\".usersvg #pixel_crossoHG\").attr(\"transform\", \"translate(0 7)\");\n",
       "});\n",
       "</script>\n"
      ]
     },
     "metadata": {},
     "output_type": "display_data"
    },
    {
     "data": {
      "text/html": [
       "<script>\n",
       "require([\"d3\"], function(d3) {\n",
       "    d3.select(\".usersvg #pixel_crossoHG\").attr(\"transform\", \"translate(1 7)\");\n",
       "});\n",
       "</script>\n"
      ]
     },
     "metadata": {},
     "output_type": "display_data"
    },
    {
     "data": {
      "text/html": [
       "<script>\n",
       "require([\"d3\"], function(d3) {\n",
       "    d3.select(\".usersvg #pixel_crossoHG\").attr(\"transform\", \"translate(1 6)\");\n",
       "});\n",
       "</script>\n"
      ]
     },
     "metadata": {},
     "output_type": "display_data"
    },
    {
     "data": {
      "text/html": [
       "<script>\n",
       "require([\"d3\"], function(d3) {\n",
       "    d3.select(\".usersvg #pixel_crossoHG\").attr(\"transform\", \"translate(1 5)\");\n",
       "});\n",
       "</script>\n"
      ]
     },
     "metadata": {},
     "output_type": "display_data"
    },
    {
     "data": {
      "text/html": [
       "<script>\n",
       "require([\"d3\"], function(d3) {\n",
       "    d3.select(\".usersvg #pixel_crossoHG\").attr(\"transform\", \"translate(0 5)\");\n",
       "});\n",
       "</script>\n"
      ]
     },
     "metadata": {},
     "output_type": "display_data"
    },
    {
     "data": {
      "text/html": [
       "<script>\n",
       "require([\"d3\"], function(d3) {\n",
       "    d3.select(\".usersvg #pixel_crossoHG\").attr(\"transform\", \"translate(1 5)\");\n",
       "});\n",
       "</script>\n"
      ]
     },
     "metadata": {},
     "output_type": "display_data"
    },
    {
     "data": {
      "text/html": [
       "<script>\n",
       "require([\"d3\"], function(d3) {\n",
       "    d3.select(\".usersvg #pixel_crossoHG\").attr(\"transform\", \"translate(1 4)\");\n",
       "});\n",
       "</script>\n"
      ]
     },
     "metadata": {},
     "output_type": "display_data"
    },
    {
     "data": {
      "text/html": [
       "<script>\n",
       "require([\"d3\"], function(d3) {\n",
       "    d3.select(\".usersvg #pixel_crossoHG\").attr(\"transform\", \"translate(1 5)\");\n",
       "});\n",
       "</script>\n"
      ]
     },
     "metadata": {},
     "output_type": "display_data"
    },
    {
     "data": {
      "text/html": [
       "<script>\n",
       "require([\"d3\"], function(d3) {\n",
       "    d3.select(\".usersvg #pixel_crossoHG\").attr(\"transform\", \"translate(0 5)\");\n",
       "});\n",
       "</script>\n"
      ]
     },
     "metadata": {},
     "output_type": "display_data"
    },
    {
     "data": {
      "text/html": [
       "<script>\n",
       "require([\"d3\"], function(d3) {\n",
       "    d3.select(\".usersvg #pixel_crossoHG\").attr(\"transform\", \"translate(0 4)\");\n",
       "});\n",
       "</script>\n"
      ]
     },
     "metadata": {},
     "output_type": "display_data"
    },
    {
     "data": {
      "text/html": [
       "<script>\n",
       "require([\"d3\"], function(d3) {\n",
       "    d3.select(\".usersvg #pixel_crossoHG\").attr(\"transform\", \"translate(0 4)\");\n",
       "});\n",
       "</script>\n"
      ]
     },
     "metadata": {},
     "output_type": "display_data"
    },
    {
     "data": {
      "text/html": [
       "<script>\n",
       "require([\"d3\"], function(d3) {\n",
       "    d3.select(\".usersvg #pixel_crossoHG\").attr(\"transform\", \"translate(0 3)\");\n",
       "});\n",
       "</script>\n"
      ]
     },
     "metadata": {},
     "output_type": "display_data"
    },
    {
     "data": {
      "text/html": [
       "<script>\n",
       "require([\"d3\"], function(d3) {\n",
       "    d3.select(\".usersvg #pixel_crossoHG\").attr(\"transform\", \"translate(1 3)\");\n",
       "});\n",
       "</script>\n"
      ]
     },
     "metadata": {},
     "output_type": "display_data"
    },
    {
     "data": {
      "text/html": [
       "<script>\n",
       "require([\"d3\"], function(d3) {\n",
       "    d3.select(\".usersvg #pixel_crossoHG\").attr(\"transform\", \"translate(2 3)\");\n",
       "});\n",
       "</script>\n"
      ]
     },
     "metadata": {},
     "output_type": "display_data"
    },
    {
     "data": {
      "text/html": [
       "<script>\n",
       "require([\"d3\"], function(d3) {\n",
       "    d3.select(\".usersvg #pixel_crossoHG\").attr(\"transform\", \"translate(1 3)\");\n",
       "});\n",
       "</script>\n"
      ]
     },
     "metadata": {},
     "output_type": "display_data"
    },
    {
     "data": {
      "text/html": [
       "<script>\n",
       "require([\"d3\"], function(d3) {\n",
       "    d3.select(\".usersvg #pixel_crossoHG\").attr(\"transform\", \"translate(2 3)\");\n",
       "});\n",
       "</script>\n"
      ]
     },
     "metadata": {},
     "output_type": "display_data"
    },
    {
     "data": {
      "text/html": [
       "<script>\n",
       "require([\"d3\"], function(d3) {\n",
       "    d3.select(\".usersvg #pixel_crossoHG\").attr(\"transform\", \"translate(1 3)\");\n",
       "});\n",
       "</script>\n"
      ]
     },
     "metadata": {},
     "output_type": "display_data"
    },
    {
     "data": {
      "text/html": [
       "<script>\n",
       "require([\"d3\"], function(d3) {\n",
       "    d3.select(\".usersvg #pixel_crossoHG\").attr(\"transform\", \"translate(2 3)\");\n",
       "});\n",
       "</script>\n"
      ]
     },
     "metadata": {},
     "output_type": "display_data"
    },
    {
     "data": {
      "text/html": [
       "<script>\n",
       "require([\"d3\"], function(d3) {\n",
       "    d3.select(\".usersvg #pixel_crossoHG\").attr(\"transform\", \"translate(2 4)\");\n",
       "});\n",
       "</script>\n"
      ]
     },
     "metadata": {},
     "output_type": "display_data"
    },
    {
     "data": {
      "text/html": [
       "<script>\n",
       "require([\"d3\"], function(d3) {\n",
       "    d3.select(\".usersvg #pixel_crossoHG\").attr(\"transform\", \"translate(3 4)\");\n",
       "});\n",
       "</script>\n"
      ]
     },
     "metadata": {},
     "output_type": "display_data"
    },
    {
     "data": {
      "text/html": [
       "<script>\n",
       "require([\"d3\"], function(d3) {\n",
       "    d3.select(\".usersvg #pixel_crossoHG\").attr(\"transform\", \"translate(3 3)\");\n",
       "});\n",
       "</script>\n"
      ]
     },
     "metadata": {},
     "output_type": "display_data"
    },
    {
     "data": {
      "text/html": [
       "<script>\n",
       "require([\"d3\"], function(d3) {\n",
       "    d3.select(\".usersvg #pixel_crossoHG\").attr(\"transform\", \"translate(3 4)\");\n",
       "});\n",
       "</script>\n"
      ]
     },
     "metadata": {},
     "output_type": "display_data"
    },
    {
     "data": {
      "text/html": [
       "<script>\n",
       "require([\"d3\"], function(d3) {\n",
       "    d3.select(\".usersvg #pixel_crossoHG\").attr(\"transform\", \"translate(2 4)\");\n",
       "});\n",
       "</script>\n"
      ]
     },
     "metadata": {},
     "output_type": "display_data"
    },
    {
     "data": {
      "text/html": [
       "<script>\n",
       "require([\"d3\"], function(d3) {\n",
       "    d3.select(\".usersvg #pixel_crossoHG\").attr(\"transform\", \"translate(2 3)\");\n",
       "});\n",
       "</script>\n"
      ]
     },
     "metadata": {},
     "output_type": "display_data"
    },
    {
     "data": {
      "text/html": [
       "<script>\n",
       "require([\"d3\"], function(d3) {\n",
       "    d3.select(\".usersvg #pixel_crossoHG\").attr(\"transform\", \"translate(3 3)\");\n",
       "});\n",
       "</script>\n"
      ]
     },
     "metadata": {},
     "output_type": "display_data"
    },
    {
     "data": {
      "text/html": [
       "<script>\n",
       "require([\"d3\"], function(d3) {\n",
       "    d3.select(\".usersvg #pixel_crossoHG\").attr(\"transform\", \"translate(2 3)\");\n",
       "});\n",
       "</script>\n"
      ]
     },
     "metadata": {},
     "output_type": "display_data"
    },
    {
     "data": {
      "text/html": [
       "<script>\n",
       "require([\"d3\"], function(d3) {\n",
       "    d3.select(\".usersvg #pixel_crossoHG\").attr(\"transform\", \"translate(1 3)\");\n",
       "});\n",
       "</script>\n"
      ]
     },
     "metadata": {},
     "output_type": "display_data"
    },
    {
     "data": {
      "text/html": [
       "<script>\n",
       "require([\"d3\"], function(d3) {\n",
       "    d3.select(\".usersvg #pixel_crossoHG\").attr(\"transform\", \"translate(0 3)\");\n",
       "});\n",
       "</script>\n"
      ]
     },
     "metadata": {},
     "output_type": "display_data"
    },
    {
     "data": {
      "text/html": [
       "<script>\n",
       "require([\"d3\"], function(d3) {\n",
       "    d3.select(\".usersvg #pixel_crossoHG\").attr(\"transform\", \"translate(0 3)\");\n",
       "});\n",
       "</script>\n"
      ]
     },
     "metadata": {},
     "output_type": "display_data"
    },
    {
     "data": {
      "text/html": [
       "<script>\n",
       "require([\"d3\"], function(d3) {\n",
       "    d3.select(\".usersvg #pixel_crossoHG\").attr(\"transform\", \"translate(0 3)\");\n",
       "});\n",
       "</script>\n"
      ]
     },
     "metadata": {},
     "output_type": "display_data"
    },
    {
     "data": {
      "text/html": [
       "<script>\n",
       "require([\"d3\"], function(d3) {\n",
       "    d3.select(\".usersvg #pixel_crossoHG\").attr(\"transform\", \"translate(0 2)\");\n",
       "});\n",
       "</script>\n"
      ]
     },
     "metadata": {},
     "output_type": "display_data"
    },
    {
     "data": {
      "text/html": [
       "<script>\n",
       "require([\"d3\"], function(d3) {\n",
       "    d3.select(\".usersvg #pixel_crossoHG\").attr(\"transform\", \"translate(0 2)\");\n",
       "});\n",
       "</script>\n"
      ]
     },
     "metadata": {},
     "output_type": "display_data"
    },
    {
     "data": {
      "text/html": [
       "<script>\n",
       "require([\"d3\"], function(d3) {\n",
       "    d3.select(\".usersvg #pixel_crossoHG\").attr(\"transform\", \"translate(0 2)\");\n",
       "});\n",
       "</script>\n"
      ]
     },
     "metadata": {},
     "output_type": "display_data"
    },
    {
     "data": {
      "text/html": [
       "<script>\n",
       "require([\"d3\"], function(d3) {\n",
       "    d3.select(\".usersvg #pixel_crossoHG\").attr(\"transform\", \"translate(0 1)\");\n",
       "});\n",
       "</script>\n"
      ]
     },
     "metadata": {},
     "output_type": "display_data"
    },
    {
     "data": {
      "text/html": [
       "<script>\n",
       "require([\"d3\"], function(d3) {\n",
       "    d3.select(\".usersvg #pixel_crossoHG\").attr(\"transform\", \"translate(0 0)\");\n",
       "});\n",
       "</script>\n"
      ]
     },
     "metadata": {},
     "output_type": "display_data"
    },
    {
     "data": {
      "text/html": [
       "<script>\n",
       "require([\"d3\"], function(d3) {\n",
       "    d3.select(\".usersvg #pixel_crossoHG\").attr(\"transform\", \"translate(0 1)\");\n",
       "});\n",
       "</script>\n"
      ]
     },
     "metadata": {},
     "output_type": "display_data"
    },
    {
     "data": {
      "text/html": [
       "<script>\n",
       "require([\"d3\"], function(d3) {\n",
       "    d3.select(\".usersvg #pixel_crossoHG\").attr(\"transform\", \"translate(0 1)\");\n",
       "});\n",
       "</script>\n"
      ]
     },
     "metadata": {},
     "output_type": "display_data"
    },
    {
     "data": {
      "text/html": [
       "<script>\n",
       "require([\"d3\"], function(d3) {\n",
       "    d3.select(\".usersvg #pixel_crossoHG\").attr(\"transform\", \"translate(1 1)\");\n",
       "});\n",
       "</script>\n"
      ]
     },
     "metadata": {},
     "output_type": "display_data"
    },
    {
     "data": {
      "text/html": [
       "<script>\n",
       "require([\"d3\"], function(d3) {\n",
       "    d3.select(\".usersvg #pixel_crossoHG\").attr(\"transform\", \"translate(0 1)\");\n",
       "});\n",
       "</script>\n"
      ]
     },
     "metadata": {},
     "output_type": "display_data"
    },
    {
     "data": {
      "text/html": [
       "<script>\n",
       "require([\"d3\"], function(d3) {\n",
       "    d3.select(\".usersvg #pixel_crossoHG\").attr(\"transform\", \"translate(0 0)\");\n",
       "});\n",
       "</script>\n"
      ]
     },
     "metadata": {},
     "output_type": "display_data"
    },
    {
     "data": {
      "text/html": [
       "<script>\n",
       "require([\"d3\"], function(d3) {\n",
       "    d3.select(\".usersvg #pixel_crossoHG\").attr(\"transform\", \"translate(0 0)\");\n",
       "});\n",
       "</script>\n"
      ]
     },
     "metadata": {},
     "output_type": "display_data"
    },
    {
     "data": {
      "text/html": [
       "<script>\n",
       "require([\"d3\"], function(d3) {\n",
       "    d3.select(\".usersvg #pixel_crossoHG\").attr(\"transform\", \"translate(0 1)\");\n",
       "});\n",
       "</script>\n"
      ]
     },
     "metadata": {},
     "output_type": "display_data"
    },
    {
     "data": {
      "text/html": [
       "<script>\n",
       "require([\"d3\"], function(d3) {\n",
       "    d3.select(\".usersvg #pixel_crossoHG\").attr(\"transform\", \"translate(0 2)\");\n",
       "});\n",
       "</script>\n"
      ]
     },
     "metadata": {},
     "output_type": "display_data"
    },
    {
     "data": {
      "text/html": [
       "<script>\n",
       "require([\"d3\"], function(d3) {\n",
       "    d3.select(\".usersvg #pixel_crossoHG\").attr(\"transform\", \"translate(1 2)\");\n",
       "});\n",
       "</script>\n"
      ]
     },
     "metadata": {},
     "output_type": "display_data"
    },
    {
     "data": {
      "text/html": [
       "<script>\n",
       "require([\"d3\"], function(d3) {\n",
       "    d3.select(\".usersvg #pixel_crossoHG\").attr(\"transform\", \"translate(2 2)\");\n",
       "});\n",
       "</script>\n"
      ]
     },
     "metadata": {},
     "output_type": "display_data"
    },
    {
     "data": {
      "text/html": [
       "<script>\n",
       "require([\"d3\"], function(d3) {\n",
       "    d3.select(\".usersvg #pixel_crossoHG\").attr(\"transform\", \"translate(2 3)\");\n",
       "});\n",
       "</script>\n"
      ]
     },
     "metadata": {},
     "output_type": "display_data"
    },
    {
     "data": {
      "text/html": [
       "<script>\n",
       "require([\"d3\"], function(d3) {\n",
       "    d3.select(\".usersvg #pixel_crossoHG\").attr(\"transform\", \"translate(1 3)\");\n",
       "});\n",
       "</script>\n"
      ]
     },
     "metadata": {},
     "output_type": "display_data"
    },
    {
     "data": {
      "text/html": [
       "<script>\n",
       "require([\"d3\"], function(d3) {\n",
       "    d3.select(\".usersvg #pixel_crossoHG\").attr(\"transform\", \"translate(2 3)\");\n",
       "});\n",
       "</script>\n"
      ]
     },
     "metadata": {},
     "output_type": "display_data"
    },
    {
     "data": {
      "text/html": [
       "<script>\n",
       "require([\"d3\"], function(d3) {\n",
       "    d3.select(\".usersvg #pixel_crossoHG\").attr(\"transform\", \"translate(2 2)\");\n",
       "});\n",
       "</script>\n"
      ]
     },
     "metadata": {},
     "output_type": "display_data"
    },
    {
     "data": {
      "text/html": [
       "<script>\n",
       "require([\"d3\"], function(d3) {\n",
       "    d3.select(\".usersvg #pixel_crossoHG\").attr(\"transform\", \"translate(2 3)\");\n",
       "});\n",
       "</script>\n"
      ]
     },
     "metadata": {},
     "output_type": "display_data"
    },
    {
     "data": {
      "text/html": [
       "<script>\n",
       "require([\"d3\"], function(d3) {\n",
       "    d3.select(\".usersvg #pixel_crossoHG\").attr(\"transform\", \"translate(2 2)\");\n",
       "});\n",
       "</script>\n"
      ]
     },
     "metadata": {},
     "output_type": "display_data"
    },
    {
     "data": {
      "text/html": [
       "<script>\n",
       "require([\"d3\"], function(d3) {\n",
       "    d3.select(\".usersvg #pixel_crossoHG\").attr(\"transform\", \"translate(1 2)\");\n",
       "});\n",
       "</script>\n"
      ]
     },
     "metadata": {},
     "output_type": "display_data"
    },
    {
     "data": {
      "text/html": [
       "<script>\n",
       "require([\"d3\"], function(d3) {\n",
       "    d3.select(\".usersvg #pixel_crossoHG\").attr(\"transform\", \"translate(1 1)\");\n",
       "});\n",
       "</script>\n"
      ]
     },
     "metadata": {},
     "output_type": "display_data"
    },
    {
     "data": {
      "text/html": [
       "<script>\n",
       "require([\"d3\"], function(d3) {\n",
       "    d3.select(\".usersvg #pixel_crossoHG\").attr(\"transform\", \"translate(1 0)\");\n",
       "});\n",
       "</script>\n"
      ]
     },
     "metadata": {},
     "output_type": "display_data"
    },
    {
     "data": {
      "text/html": [
       "<script>\n",
       "require([\"d3\"], function(d3) {\n",
       "    d3.select(\".usersvg #pixel_crossoHG\").attr(\"transform\", \"translate(0 0)\");\n",
       "});\n",
       "</script>\n"
      ]
     },
     "metadata": {},
     "output_type": "display_data"
    },
    {
     "data": {
      "text/html": [
       "<script>\n",
       "require([\"d3\"], function(d3) {\n",
       "    d3.select(\".usersvg #pixel_crossoHG\").attr(\"transform\", \"translate(0 0)\");\n",
       "});\n",
       "</script>\n"
      ]
     },
     "metadata": {},
     "output_type": "display_data"
    },
    {
     "data": {
      "text/html": [
       "<script>\n",
       "require([\"d3\"], function(d3) {\n",
       "    d3.select(\".usersvg #pixel_crossoHG\").attr(\"transform\", \"translate(0 0)\");\n",
       "});\n",
       "</script>\n"
      ]
     },
     "metadata": {},
     "output_type": "display_data"
    },
    {
     "data": {
      "text/html": [
       "<script>\n",
       "require([\"d3\"], function(d3) {\n",
       "    d3.select(\".usersvg #pixel_crossoHG\").attr(\"transform\", \"translate(0 0)\");\n",
       "});\n",
       "</script>\n"
      ]
     },
     "metadata": {},
     "output_type": "display_data"
    },
    {
     "data": {
      "text/html": [
       "<script>\n",
       "require([\"d3\"], function(d3) {\n",
       "    d3.select(\".usersvg #pixel_crossoHG\").attr(\"transform\", \"translate(0 1)\");\n",
       "});\n",
       "</script>\n"
      ]
     },
     "metadata": {},
     "output_type": "display_data"
    },
    {
     "data": {
      "text/html": [
       "<script>\n",
       "require([\"d3\"], function(d3) {\n",
       "    d3.select(\".usersvg #pixel_crossoHG\").attr(\"transform\", \"translate(0 1)\");\n",
       "});\n",
       "</script>\n"
      ]
     },
     "metadata": {},
     "output_type": "display_data"
    },
    {
     "data": {
      "text/html": [
       "<script>\n",
       "require([\"d3\"], function(d3) {\n",
       "    d3.select(\".usersvg #pixel_crossoHG\").attr(\"transform\", \"translate(0 1)\");\n",
       "});\n",
       "</script>\n"
      ]
     },
     "metadata": {},
     "output_type": "display_data"
    },
    {
     "data": {
      "text/html": [
       "<script>\n",
       "require([\"d3\"], function(d3) {\n",
       "    d3.select(\".usersvg #pixel_crossoHG\").attr(\"transform\", \"translate(0 2)\");\n",
       "});\n",
       "</script>\n"
      ]
     },
     "metadata": {},
     "output_type": "display_data"
    },
    {
     "data": {
      "text/html": [
       "<script>\n",
       "require([\"d3\"], function(d3) {\n",
       "    d3.select(\".usersvg #pixel_crossoHG\").attr(\"transform\", \"translate(0 1)\");\n",
       "});\n",
       "</script>\n"
      ]
     },
     "metadata": {},
     "output_type": "display_data"
    },
    {
     "data": {
      "text/html": [
       "<script>\n",
       "require([\"d3\"], function(d3) {\n",
       "    d3.select(\".usersvg #pixel_crossoHG\").attr(\"transform\", \"translate(0 1)\");\n",
       "});\n",
       "</script>\n"
      ]
     },
     "metadata": {},
     "output_type": "display_data"
    },
    {
     "data": {
      "text/html": [
       "<script>\n",
       "require([\"d3\"], function(d3) {\n",
       "    d3.select(\".usersvg #pixel_crossoHG\").attr(\"transform\", \"translate(1 1)\");\n",
       "});\n",
       "</script>\n"
      ]
     },
     "metadata": {},
     "output_type": "display_data"
    },
    {
     "data": {
      "text/html": [
       "<script>\n",
       "require([\"d3\"], function(d3) {\n",
       "    d3.select(\".usersvg #pixel_crossoHG\").attr(\"transform\", \"translate(2 1)\");\n",
       "});\n",
       "</script>\n"
      ]
     },
     "metadata": {},
     "output_type": "display_data"
    },
    {
     "data": {
      "text/html": [
       "<script>\n",
       "require([\"d3\"], function(d3) {\n",
       "    d3.select(\".usersvg #pixel_crossoHG\").attr(\"transform\", \"translate(3 1)\");\n",
       "});\n",
       "</script>\n"
      ]
     },
     "metadata": {},
     "output_type": "display_data"
    },
    {
     "data": {
      "text/html": [
       "<script>\n",
       "require([\"d3\"], function(d3) {\n",
       "    d3.select(\".usersvg #pixel_crossoHG\").attr(\"transform\", \"translate(2 1)\");\n",
       "});\n",
       "</script>\n"
      ]
     },
     "metadata": {},
     "output_type": "display_data"
    },
    {
     "data": {
      "text/html": [
       "<script>\n",
       "require([\"d3\"], function(d3) {\n",
       "    d3.select(\".usersvg #pixel_crossoHG\").attr(\"transform\", \"translate(1 1)\");\n",
       "});\n",
       "</script>\n"
      ]
     },
     "metadata": {},
     "output_type": "display_data"
    },
    {
     "data": {
      "text/html": [
       "<script>\n",
       "require([\"d3\"], function(d3) {\n",
       "    d3.select(\".usersvg #pixel_crossoHG\").attr(\"transform\", \"translate(1 0)\");\n",
       "});\n",
       "</script>\n"
      ]
     },
     "metadata": {},
     "output_type": "display_data"
    },
    {
     "data": {
      "text/html": [
       "<script>\n",
       "require([\"d3\"], function(d3) {\n",
       "    d3.select(\".usersvg #pixel_crossoHG\").attr(\"transform\", \"translate(1 0)\");\n",
       "});\n",
       "</script>\n"
      ]
     },
     "metadata": {},
     "output_type": "display_data"
    },
    {
     "data": {
      "text/html": [
       "<script>\n",
       "require([\"d3\"], function(d3) {\n",
       "    d3.select(\".usersvg #pixel_crossoHG\").attr(\"transform\", \"translate(0 0)\");\n",
       "});\n",
       "</script>\n"
      ]
     },
     "metadata": {},
     "output_type": "display_data"
    },
    {
     "data": {
      "text/html": [
       "<script>\n",
       "require([\"d3\"], function(d3) {\n",
       "    d3.select(\".usersvg #pixel_crossoHG\").attr(\"transform\", \"translate(0 0)\");\n",
       "});\n",
       "</script>\n"
      ]
     },
     "metadata": {},
     "output_type": "display_data"
    },
    {
     "data": {
      "text/html": [
       "<script>\n",
       "require([\"d3\"], function(d3) {\n",
       "    d3.select(\".usersvg #pixel_crossoHG\").attr(\"transform\", \"translate(0 0)\");\n",
       "});\n",
       "</script>\n"
      ]
     },
     "metadata": {},
     "output_type": "display_data"
    },
    {
     "data": {
      "text/html": [
       "<script>\n",
       "require([\"d3\"], function(d3) {\n",
       "    d3.select(\".usersvg #pixel_crossoHG\").attr(\"transform\", \"translate(0 1)\");\n",
       "});\n",
       "</script>\n"
      ]
     },
     "metadata": {},
     "output_type": "display_data"
    },
    {
     "data": {
      "text/html": [
       "<script>\n",
       "require([\"d3\"], function(d3) {\n",
       "    d3.select(\".usersvg #pixel_crossoHG\").attr(\"transform\", \"translate(1 1)\");\n",
       "});\n",
       "</script>\n"
      ]
     },
     "metadata": {},
     "output_type": "display_data"
    },
    {
     "data": {
      "text/html": [
       "<script>\n",
       "require([\"d3\"], function(d3) {\n",
       "    d3.select(\".usersvg #pixel_crossoHG\").attr(\"transform\", \"translate(1 0)\");\n",
       "});\n",
       "</script>\n"
      ]
     },
     "metadata": {},
     "output_type": "display_data"
    },
    {
     "data": {
      "text/html": [
       "<script>\n",
       "require([\"d3\"], function(d3) {\n",
       "    d3.select(\".usersvg #pixel_crossoHG\").attr(\"transform\", \"translate(0 0)\");\n",
       "});\n",
       "</script>\n"
      ]
     },
     "metadata": {},
     "output_type": "display_data"
    },
    {
     "data": {
      "text/html": [
       "<script>\n",
       "require([\"d3\"], function(d3) {\n",
       "    d3.select(\".usersvg #pixel_crossoHG\").attr(\"transform\", \"translate(0 0)\");\n",
       "});\n",
       "</script>\n"
      ]
     },
     "metadata": {},
     "output_type": "display_data"
    },
    {
     "data": {
      "text/html": [
       "<script>\n",
       "require([\"d3\"], function(d3) {\n",
       "    d3.select(\".usersvg #pixel_crossoHG\").attr(\"transform\", \"translate(0 1)\");\n",
       "});\n",
       "</script>\n"
      ]
     },
     "metadata": {},
     "output_type": "display_data"
    },
    {
     "data": {
      "text/html": [
       "<script>\n",
       "require([\"d3\"], function(d3) {\n",
       "    d3.select(\".usersvg #pixel_crossoHG\").attr(\"transform\", \"translate(0 1)\");\n",
       "});\n",
       "</script>\n"
      ]
     },
     "metadata": {},
     "output_type": "display_data"
    },
    {
     "data": {
      "text/html": [
       "<script>\n",
       "require([\"d3\"], function(d3) {\n",
       "    d3.select(\".usersvg #pixel_crossoHG\").attr(\"transform\", \"translate(1 1)\");\n",
       "});\n",
       "</script>\n"
      ]
     },
     "metadata": {},
     "output_type": "display_data"
    },
    {
     "data": {
      "text/html": [
       "<script>\n",
       "require([\"d3\"], function(d3) {\n",
       "    d3.select(\".usersvg #pixel_crossoHG\").attr(\"transform\", \"translate(1 2)\");\n",
       "});\n",
       "</script>\n"
      ]
     },
     "metadata": {},
     "output_type": "display_data"
    },
    {
     "data": {
      "text/html": [
       "<script>\n",
       "require([\"d3\"], function(d3) {\n",
       "    d3.select(\".usersvg #pixel_crossoHG\").attr(\"transform\", \"translate(0 2)\");\n",
       "});\n",
       "</script>\n"
      ]
     },
     "metadata": {},
     "output_type": "display_data"
    },
    {
     "data": {
      "text/html": [
       "<script>\n",
       "require([\"d3\"], function(d3) {\n",
       "    d3.select(\".usersvg #pixel_crossoHG\").attr(\"transform\", \"translate(0 2)\");\n",
       "});\n",
       "</script>\n"
      ]
     },
     "metadata": {},
     "output_type": "display_data"
    },
    {
     "data": {
      "text/html": [
       "<script>\n",
       "require([\"d3\"], function(d3) {\n",
       "    d3.select(\".usersvg #pixel_crossoHG\").attr(\"transform\", \"translate(1 2)\");\n",
       "});\n",
       "</script>\n"
      ]
     },
     "metadata": {},
     "output_type": "display_data"
    },
    {
     "data": {
      "text/html": [
       "<script>\n",
       "require([\"d3\"], function(d3) {\n",
       "    d3.select(\".usersvg #pixel_crossoHG\").attr(\"transform\", \"translate(2 2)\");\n",
       "});\n",
       "</script>\n"
      ]
     },
     "metadata": {},
     "output_type": "display_data"
    },
    {
     "data": {
      "text/html": [
       "<script>\n",
       "require([\"d3\"], function(d3) {\n",
       "    d3.select(\".usersvg #pixel_crossoHG\").attr(\"transform\", \"translate(1 2)\");\n",
       "});\n",
       "</script>\n"
      ]
     },
     "metadata": {},
     "output_type": "display_data"
    },
    {
     "data": {
      "text/html": [
       "<script>\n",
       "require([\"d3\"], function(d3) {\n",
       "    d3.select(\".usersvg #pixel_crossoHG\").attr(\"transform\", \"translate(1 3)\");\n",
       "});\n",
       "</script>\n"
      ]
     },
     "metadata": {},
     "output_type": "display_data"
    },
    {
     "data": {
      "text/html": [
       "<script>\n",
       "require([\"d3\"], function(d3) {\n",
       "    d3.select(\".usersvg #pixel_crossoHG\").attr(\"transform\", \"translate(0 3)\");\n",
       "});\n",
       "</script>\n"
      ]
     },
     "metadata": {},
     "output_type": "display_data"
    },
    {
     "data": {
      "text/html": [
       "<script>\n",
       "require([\"d3\"], function(d3) {\n",
       "    d3.select(\".usersvg #pixel_crossoHG\").attr(\"transform\", \"translate(1 3)\");\n",
       "});\n",
       "</script>\n"
      ]
     },
     "metadata": {},
     "output_type": "display_data"
    },
    {
     "data": {
      "text/html": [
       "<script>\n",
       "require([\"d3\"], function(d3) {\n",
       "    d3.select(\".usersvg #pixel_crossoHG\").attr(\"transform\", \"translate(2 3)\");\n",
       "});\n",
       "</script>\n"
      ]
     },
     "metadata": {},
     "output_type": "display_data"
    },
    {
     "data": {
      "text/html": [
       "<script>\n",
       "require([\"d3\"], function(d3) {\n",
       "    d3.select(\".usersvg #pixel_crossoHG\").attr(\"transform\", \"translate(1 3)\");\n",
       "});\n",
       "</script>\n"
      ]
     },
     "metadata": {},
     "output_type": "display_data"
    },
    {
     "data": {
      "text/html": [
       "<script>\n",
       "require([\"d3\"], function(d3) {\n",
       "    d3.select(\".usersvg #pixel_crossoHG\").attr(\"transform\", \"translate(1 4)\");\n",
       "});\n",
       "</script>\n"
      ]
     },
     "metadata": {},
     "output_type": "display_data"
    },
    {
     "data": {
      "text/html": [
       "<script>\n",
       "require([\"d3\"], function(d3) {\n",
       "    d3.select(\".usersvg #pixel_crossoHG\").attr(\"transform\", \"translate(2 4)\");\n",
       "});\n",
       "</script>\n"
      ]
     },
     "metadata": {},
     "output_type": "display_data"
    },
    {
     "data": {
      "text/html": [
       "<script>\n",
       "require([\"d3\"], function(d3) {\n",
       "    d3.select(\".usersvg #pixel_crossoHG\").attr(\"transform\", \"translate(2 5)\");\n",
       "});\n",
       "</script>\n"
      ]
     },
     "metadata": {},
     "output_type": "display_data"
    },
    {
     "data": {
      "text/html": [
       "<script>\n",
       "require([\"d3\"], function(d3) {\n",
       "    d3.select(\".usersvg #pixel_crossoHG\").attr(\"transform\", \"translate(2 6)\");\n",
       "});\n",
       "</script>\n"
      ]
     },
     "metadata": {},
     "output_type": "display_data"
    },
    {
     "data": {
      "text/html": [
       "<script>\n",
       "require([\"d3\"], function(d3) {\n",
       "    d3.select(\".usersvg #pixel_crossoHG\").attr(\"transform\", \"translate(1 6)\");\n",
       "});\n",
       "</script>\n"
      ]
     },
     "metadata": {},
     "output_type": "display_data"
    },
    {
     "data": {
      "text/html": [
       "<script>\n",
       "require([\"d3\"], function(d3) {\n",
       "    d3.select(\".usersvg #pixel_crossoHG\").attr(\"transform\", \"translate(0 6)\");\n",
       "});\n",
       "</script>\n"
      ]
     },
     "metadata": {},
     "output_type": "display_data"
    },
    {
     "data": {
      "text/html": [
       "<script>\n",
       "require([\"d3\"], function(d3) {\n",
       "    d3.select(\".usersvg #pixel_crossoHG\").attr(\"transform\", \"translate(0 5)\");\n",
       "});\n",
       "</script>\n"
      ]
     },
     "metadata": {},
     "output_type": "display_data"
    },
    {
     "data": {
      "text/html": [
       "<script>\n",
       "require([\"d3\"], function(d3) {\n",
       "    d3.select(\".usersvg #pixel_crossoHG\").attr(\"transform\", \"translate(0 6)\");\n",
       "});\n",
       "</script>\n"
      ]
     },
     "metadata": {},
     "output_type": "display_data"
    },
    {
     "data": {
      "text/html": [
       "<script>\n",
       "require([\"d3\"], function(d3) {\n",
       "    d3.select(\".usersvg #pixel_crossoHG\").attr(\"transform\", \"translate(0 7)\");\n",
       "});\n",
       "</script>\n"
      ]
     },
     "metadata": {},
     "output_type": "display_data"
    },
    {
     "data": {
      "text/html": [
       "<script>\n",
       "require([\"d3\"], function(d3) {\n",
       "    d3.select(\".usersvg #pixel_crossoHG\").attr(\"transform\", \"translate(0 8)\");\n",
       "});\n",
       "</script>\n"
      ]
     },
     "metadata": {},
     "output_type": "display_data"
    },
    {
     "data": {
      "text/html": [
       "<script>\n",
       "require([\"d3\"], function(d3) {\n",
       "    d3.select(\".usersvg #pixel_crossoHG\").attr(\"transform\", \"translate(0 8)\");\n",
       "});\n",
       "</script>\n"
      ]
     },
     "metadata": {},
     "output_type": "display_data"
    },
    {
     "data": {
      "text/html": [
       "<script>\n",
       "require([\"d3\"], function(d3) {\n",
       "    d3.select(\".usersvg #pixel_crossoHG\").attr(\"transform\", \"translate(1 8)\");\n",
       "});\n",
       "</script>\n"
      ]
     },
     "metadata": {},
     "output_type": "display_data"
    },
    {
     "data": {
      "text/html": [
       "<script>\n",
       "require([\"d3\"], function(d3) {\n",
       "    d3.select(\".usersvg #pixel_crossoHG\").attr(\"transform\", \"translate(1 7)\");\n",
       "});\n",
       "</script>\n"
      ]
     },
     "metadata": {},
     "output_type": "display_data"
    },
    {
     "data": {
      "text/html": [
       "<script>\n",
       "require([\"d3\"], function(d3) {\n",
       "    d3.select(\".usersvg #pixel_crossoHG\").attr(\"transform\", \"translate(2 7)\");\n",
       "});\n",
       "</script>\n"
      ]
     },
     "metadata": {},
     "output_type": "display_data"
    },
    {
     "data": {
      "text/html": [
       "<script>\n",
       "require([\"d3\"], function(d3) {\n",
       "    d3.select(\".usersvg #pixel_crossoHG\").attr(\"transform\", \"translate(1 7)\");\n",
       "});\n",
       "</script>\n"
      ]
     },
     "metadata": {},
     "output_type": "display_data"
    },
    {
     "data": {
      "text/html": [
       "<script>\n",
       "require([\"d3\"], function(d3) {\n",
       "    d3.select(\".usersvg #pixel_crossoHG\").attr(\"transform\", \"translate(0 7)\");\n",
       "});\n",
       "</script>\n"
      ]
     },
     "metadata": {},
     "output_type": "display_data"
    },
    {
     "data": {
      "text/html": [
       "<script>\n",
       "require([\"d3\"], function(d3) {\n",
       "    d3.select(\".usersvg #pixel_crossoHG\").attr(\"transform\", \"translate(0 7)\");\n",
       "});\n",
       "</script>\n"
      ]
     },
     "metadata": {},
     "output_type": "display_data"
    },
    {
     "data": {
      "text/html": [
       "<script>\n",
       "require([\"d3\"], function(d3) {\n",
       "    d3.select(\".usersvg #pixel_crossoHG\").attr(\"transform\", \"translate(1 7)\");\n",
       "});\n",
       "</script>\n"
      ]
     },
     "metadata": {},
     "output_type": "display_data"
    },
    {
     "data": {
      "text/html": [
       "<script>\n",
       "require([\"d3\"], function(d3) {\n",
       "    d3.select(\".usersvg #pixel_crossoHG\").attr(\"transform\", \"translate(2 7)\");\n",
       "});\n",
       "</script>\n"
      ]
     },
     "metadata": {},
     "output_type": "display_data"
    },
    {
     "data": {
      "text/html": [
       "<script>\n",
       "require([\"d3\"], function(d3) {\n",
       "    d3.select(\".usersvg #pixel_crossoHG\").attr(\"transform\", \"translate(1 7)\");\n",
       "});\n",
       "</script>\n"
      ]
     },
     "metadata": {},
     "output_type": "display_data"
    },
    {
     "data": {
      "text/html": [
       "<script>\n",
       "require([\"d3\"], function(d3) {\n",
       "    d3.select(\".usersvg #pixel_crossoHG\").attr(\"transform\", \"translate(1 8)\");\n",
       "});\n",
       "</script>\n"
      ]
     },
     "metadata": {},
     "output_type": "display_data"
    },
    {
     "data": {
      "text/html": [
       "<script>\n",
       "require([\"d3\"], function(d3) {\n",
       "    d3.select(\".usersvg #pixel_crossoHG\").attr(\"transform\", \"translate(0 8)\");\n",
       "});\n",
       "</script>\n"
      ]
     },
     "metadata": {},
     "output_type": "display_data"
    },
    {
     "data": {
      "text/html": [
       "<script>\n",
       "require([\"d3\"], function(d3) {\n",
       "    d3.select(\".usersvg #pixel_crossoHG\").attr(\"transform\", \"translate(0 9)\");\n",
       "});\n",
       "</script>\n"
      ]
     },
     "metadata": {},
     "output_type": "display_data"
    },
    {
     "data": {
      "text/html": [
       "<script>\n",
       "require([\"d3\"], function(d3) {\n",
       "    d3.select(\".usersvg #pixel_crossoHG\").attr(\"transform\", \"translate(0 10)\");\n",
       "});\n",
       "</script>\n"
      ]
     },
     "metadata": {},
     "output_type": "display_data"
    },
    {
     "data": {
      "text/html": [
       "<script>\n",
       "require([\"d3\"], function(d3) {\n",
       "    d3.select(\".usersvg #pixel_crossoHG\").attr(\"transform\", \"translate(0 9)\");\n",
       "});\n",
       "</script>\n"
      ]
     },
     "metadata": {},
     "output_type": "display_data"
    },
    {
     "data": {
      "text/html": [
       "<script>\n",
       "require([\"d3\"], function(d3) {\n",
       "    d3.select(\".usersvg #pixel_crossoHG\").attr(\"transform\", \"translate(0 8)\");\n",
       "});\n",
       "</script>\n"
      ]
     },
     "metadata": {},
     "output_type": "display_data"
    },
    {
     "data": {
      "text/html": [
       "<script>\n",
       "require([\"d3\"], function(d3) {\n",
       "    d3.select(\".usersvg #pixel_crossoHG\").attr(\"transform\", \"translate(0 8)\");\n",
       "});\n",
       "</script>\n"
      ]
     },
     "metadata": {},
     "output_type": "display_data"
    },
    {
     "data": {
      "text/html": [
       "<script>\n",
       "require([\"d3\"], function(d3) {\n",
       "    d3.select(\".usersvg #pixel_crossoHG\").attr(\"transform\", \"translate(0 8)\");\n",
       "});\n",
       "</script>\n"
      ]
     },
     "metadata": {},
     "output_type": "display_data"
    },
    {
     "data": {
      "text/html": [
       "<script>\n",
       "require([\"d3\"], function(d3) {\n",
       "    d3.select(\".usersvg #pixel_crossoHG\").attr(\"transform\", \"translate(0 8)\");\n",
       "});\n",
       "</script>\n"
      ]
     },
     "metadata": {},
     "output_type": "display_data"
    },
    {
     "data": {
      "text/html": [
       "<script>\n",
       "require([\"d3\"], function(d3) {\n",
       "    d3.select(\".usersvg #pixel_crossoHG\").attr(\"transform\", \"translate(0 8)\");\n",
       "});\n",
       "</script>\n"
      ]
     },
     "metadata": {},
     "output_type": "display_data"
    },
    {
     "data": {
      "text/html": [
       "<script>\n",
       "require([\"d3\"], function(d3) {\n",
       "    d3.select(\".usersvg #pixel_crossoHG\").attr(\"transform\", \"translate(0 9)\");\n",
       "});\n",
       "</script>\n"
      ]
     },
     "metadata": {},
     "output_type": "display_data"
    },
    {
     "data": {
      "text/html": [
       "<script>\n",
       "require([\"d3\"], function(d3) {\n",
       "    d3.select(\".usersvg #pixel_crossoHG\").attr(\"transform\", \"translate(0 8)\");\n",
       "});\n",
       "</script>\n"
      ]
     },
     "metadata": {},
     "output_type": "display_data"
    },
    {
     "data": {
      "text/html": [
       "<script>\n",
       "require([\"d3\"], function(d3) {\n",
       "    d3.select(\".usersvg #pixel_crossoHG\").attr(\"transform\", \"translate(0 7)\");\n",
       "});\n",
       "</script>\n"
      ]
     },
     "metadata": {},
     "output_type": "display_data"
    },
    {
     "data": {
      "text/html": [
       "<script>\n",
       "require([\"d3\"], function(d3) {\n",
       "    d3.select(\".usersvg #pixel_crossoHG\").attr(\"transform\", \"translate(1 7)\");\n",
       "});\n",
       "</script>\n"
      ]
     },
     "metadata": {},
     "output_type": "display_data"
    },
    {
     "data": {
      "text/html": [
       "<script>\n",
       "require([\"d3\"], function(d3) {\n",
       "    d3.select(\".usersvg #pixel_crossoHG\").attr(\"transform\", \"translate(1 6)\");\n",
       "});\n",
       "</script>\n"
      ]
     },
     "metadata": {},
     "output_type": "display_data"
    },
    {
     "data": {
      "text/html": [
       "<script>\n",
       "require([\"d3\"], function(d3) {\n",
       "    d3.select(\".usersvg #pixel_crossoHG\").attr(\"transform\", \"translate(0 6)\");\n",
       "});\n",
       "</script>\n"
      ]
     },
     "metadata": {},
     "output_type": "display_data"
    },
    {
     "data": {
      "text/html": [
       "<script>\n",
       "require([\"d3\"], function(d3) {\n",
       "    d3.select(\".usersvg #pixel_crossoHG\").attr(\"transform\", \"translate(1 6)\");\n",
       "});\n",
       "</script>\n"
      ]
     },
     "metadata": {},
     "output_type": "display_data"
    },
    {
     "data": {
      "text/html": [
       "<script>\n",
       "require([\"d3\"], function(d3) {\n",
       "    d3.select(\".usersvg #pixel_crossoHG\").attr(\"transform\", \"translate(0 6)\");\n",
       "});\n",
       "</script>\n"
      ]
     },
     "metadata": {},
     "output_type": "display_data"
    },
    {
     "data": {
      "text/html": [
       "<script>\n",
       "require([\"d3\"], function(d3) {\n",
       "    d3.select(\".usersvg #pixel_crossoHG\").attr(\"transform\", \"translate(0 7)\");\n",
       "});\n",
       "</script>\n"
      ]
     },
     "metadata": {},
     "output_type": "display_data"
    },
    {
     "data": {
      "text/html": [
       "<script>\n",
       "require([\"d3\"], function(d3) {\n",
       "    d3.select(\".usersvg #pixel_crossoHG\").attr(\"transform\", \"translate(0 8)\");\n",
       "});\n",
       "</script>\n"
      ]
     },
     "metadata": {},
     "output_type": "display_data"
    },
    {
     "data": {
      "text/html": [
       "<script>\n",
       "require([\"d3\"], function(d3) {\n",
       "    d3.select(\".usersvg #pixel_crossoHG\").attr(\"transform\", \"translate(0 9)\");\n",
       "});\n",
       "</script>\n"
      ]
     },
     "metadata": {},
     "output_type": "display_data"
    },
    {
     "data": {
      "text/html": [
       "<script>\n",
       "require([\"d3\"], function(d3) {\n",
       "    d3.select(\".usersvg #pixel_crossoHG\").attr(\"transform\", \"translate(0 10)\");\n",
       "});\n",
       "</script>\n"
      ]
     },
     "metadata": {},
     "output_type": "display_data"
    },
    {
     "data": {
      "text/html": [
       "<script>\n",
       "require([\"d3\"], function(d3) {\n",
       "    d3.select(\".usersvg #pixel_crossoHG\").attr(\"transform\", \"translate(0 9)\");\n",
       "});\n",
       "</script>\n"
      ]
     },
     "metadata": {},
     "output_type": "display_data"
    },
    {
     "data": {
      "text/html": [
       "<script>\n",
       "require([\"d3\"], function(d3) {\n",
       "    d3.select(\".usersvg #pixel_crossoHG\").attr(\"transform\", \"translate(0 9)\");\n",
       "});\n",
       "</script>\n"
      ]
     },
     "metadata": {},
     "output_type": "display_data"
    },
    {
     "data": {
      "text/html": [
       "<script>\n",
       "require([\"d3\"], function(d3) {\n",
       "    d3.select(\".usersvg #pixel_crossoHG\").attr(\"transform\", \"translate(0 10)\");\n",
       "});\n",
       "</script>\n"
      ]
     },
     "metadata": {},
     "output_type": "display_data"
    },
    {
     "data": {
      "text/html": [
       "<script>\n",
       "require([\"d3\"], function(d3) {\n",
       "    d3.select(\".usersvg #pixel_crossoHG\").attr(\"transform\", \"translate(1 10)\");\n",
       "});\n",
       "</script>\n"
      ]
     },
     "metadata": {},
     "output_type": "display_data"
    },
    {
     "data": {
      "text/html": [
       "<script>\n",
       "require([\"d3\"], function(d3) {\n",
       "    d3.select(\".usersvg #pixel_crossoHG\").attr(\"transform\", \"translate(0 10)\");\n",
       "});\n",
       "</script>\n"
      ]
     },
     "metadata": {},
     "output_type": "display_data"
    },
    {
     "data": {
      "text/html": [
       "<script>\n",
       "require([\"d3\"], function(d3) {\n",
       "    d3.select(\".usersvg #pixel_crossoHG\").attr(\"transform\", \"translate(0 9)\");\n",
       "});\n",
       "</script>\n"
      ]
     },
     "metadata": {},
     "output_type": "display_data"
    },
    {
     "data": {
      "text/html": [
       "<script>\n",
       "require([\"d3\"], function(d3) {\n",
       "    d3.select(\".usersvg #pixel_crossoHG\").attr(\"transform\", \"translate(0 8)\");\n",
       "});\n",
       "</script>\n"
      ]
     },
     "metadata": {},
     "output_type": "display_data"
    },
    {
     "data": {
      "text/html": [
       "<script>\n",
       "require([\"d3\"], function(d3) {\n",
       "    d3.select(\".usersvg #pixel_crossoHG\").attr(\"transform\", \"translate(0 8)\");\n",
       "});\n",
       "</script>\n"
      ]
     },
     "metadata": {},
     "output_type": "display_data"
    },
    {
     "data": {
      "text/html": [
       "<script>\n",
       "require([\"d3\"], function(d3) {\n",
       "    d3.select(\".usersvg #pixel_crossoHG\").attr(\"transform\", \"translate(0 9)\");\n",
       "});\n",
       "</script>\n"
      ]
     },
     "metadata": {},
     "output_type": "display_data"
    },
    {
     "data": {
      "text/html": [
       "<script>\n",
       "require([\"d3\"], function(d3) {\n",
       "    d3.select(\".usersvg #pixel_crossoHG\").attr(\"transform\", \"translate(1 9)\");\n",
       "});\n",
       "</script>\n"
      ]
     },
     "metadata": {},
     "output_type": "display_data"
    },
    {
     "data": {
      "text/html": [
       "<script>\n",
       "require([\"d3\"], function(d3) {\n",
       "    d3.select(\".usersvg #pixel_crossoHG\").attr(\"transform\", \"translate(2 9)\");\n",
       "});\n",
       "</script>\n"
      ]
     },
     "metadata": {},
     "output_type": "display_data"
    },
    {
     "data": {
      "text/html": [
       "<script>\n",
       "require([\"d3\"], function(d3) {\n",
       "    d3.select(\".usersvg #pixel_crossoHG\").attr(\"transform\", \"translate(1 9)\");\n",
       "});\n",
       "</script>\n"
      ]
     },
     "metadata": {},
     "output_type": "display_data"
    },
    {
     "data": {
      "text/html": [
       "<script>\n",
       "require([\"d3\"], function(d3) {\n",
       "    d3.select(\".usersvg #pixel_crossoHG\").attr(\"transform\", \"translate(0 9)\");\n",
       "});\n",
       "</script>\n"
      ]
     },
     "metadata": {},
     "output_type": "display_data"
    },
    {
     "data": {
      "text/html": [
       "<script>\n",
       "require([\"d3\"], function(d3) {\n",
       "    d3.select(\".usersvg #pixel_crossoHG\").attr(\"transform\", \"translate(0 9)\");\n",
       "});\n",
       "</script>\n"
      ]
     },
     "metadata": {},
     "output_type": "display_data"
    },
    {
     "data": {
      "text/html": [
       "<script>\n",
       "require([\"d3\"], function(d3) {\n",
       "    d3.select(\".usersvg #pixel_crossoHG\").attr(\"transform\", \"translate(0 10)\");\n",
       "});\n",
       "</script>\n"
      ]
     },
     "metadata": {},
     "output_type": "display_data"
    },
    {
     "data": {
      "text/html": [
       "<script>\n",
       "require([\"d3\"], function(d3) {\n",
       "    d3.select(\".usersvg #pixel_crossoHG\").attr(\"transform\", \"translate(1 10)\");\n",
       "});\n",
       "</script>\n"
      ]
     },
     "metadata": {},
     "output_type": "display_data"
    },
    {
     "data": {
      "text/html": [
       "<script>\n",
       "require([\"d3\"], function(d3) {\n",
       "    d3.select(\".usersvg #pixel_crossoHG\").attr(\"transform\", \"translate(1 9)\");\n",
       "});\n",
       "</script>\n"
      ]
     },
     "metadata": {},
     "output_type": "display_data"
    },
    {
     "data": {
      "text/html": [
       "<script>\n",
       "require([\"d3\"], function(d3) {\n",
       "    d3.select(\".usersvg #pixel_crossoHG\").attr(\"transform\", \"translate(1 8)\");\n",
       "});\n",
       "</script>\n"
      ]
     },
     "metadata": {},
     "output_type": "display_data"
    },
    {
     "data": {
      "text/html": [
       "<script>\n",
       "require([\"d3\"], function(d3) {\n",
       "    d3.select(\".usersvg #pixel_crossoHG\").attr(\"transform\", \"translate(0 8)\");\n",
       "});\n",
       "</script>\n"
      ]
     },
     "metadata": {},
     "output_type": "display_data"
    },
    {
     "data": {
      "text/html": [
       "<script>\n",
       "require([\"d3\"], function(d3) {\n",
       "    d3.select(\".usersvg #pixel_crossoHG\").attr(\"transform\", \"translate(0 9)\");\n",
       "});\n",
       "</script>\n"
      ]
     },
     "metadata": {},
     "output_type": "display_data"
    },
    {
     "data": {
      "text/html": [
       "<script>\n",
       "require([\"d3\"], function(d3) {\n",
       "    d3.select(\".usersvg #pixel_crossoHG\").attr(\"transform\", \"translate(1 9)\");\n",
       "});\n",
       "</script>\n"
      ]
     },
     "metadata": {},
     "output_type": "display_data"
    },
    {
     "data": {
      "text/html": [
       "<script>\n",
       "require([\"d3\"], function(d3) {\n",
       "    d3.select(\".usersvg #pixel_crossoHG\").attr(\"transform\", \"translate(0 9)\");\n",
       "});\n",
       "</script>\n"
      ]
     },
     "metadata": {},
     "output_type": "display_data"
    },
    {
     "data": {
      "text/html": [
       "<script>\n",
       "require([\"d3\"], function(d3) {\n",
       "    d3.select(\".usersvg #pixel_crossoHG\").attr(\"transform\", \"translate(1 9)\");\n",
       "});\n",
       "</script>\n"
      ]
     },
     "metadata": {},
     "output_type": "display_data"
    },
    {
     "data": {
      "text/html": [
       "<script>\n",
       "require([\"d3\"], function(d3) {\n",
       "    d3.select(\".usersvg #pixel_crossoHG\").attr(\"transform\", \"translate(1 10)\");\n",
       "});\n",
       "</script>\n"
      ]
     },
     "metadata": {},
     "output_type": "display_data"
    },
    {
     "data": {
      "text/html": [
       "<script>\n",
       "require([\"d3\"], function(d3) {\n",
       "    d3.select(\".usersvg #pixel_crossoHG\").attr(\"transform\", \"translate(1 11)\");\n",
       "});\n",
       "</script>\n"
      ]
     },
     "metadata": {},
     "output_type": "display_data"
    },
    {
     "data": {
      "text/html": [
       "<script>\n",
       "require([\"d3\"], function(d3) {\n",
       "    d3.select(\".usersvg #pixel_crossoHG\").attr(\"transform\", \"translate(1 10)\");\n",
       "});\n",
       "</script>\n"
      ]
     },
     "metadata": {},
     "output_type": "display_data"
    },
    {
     "data": {
      "text/html": [
       "<script>\n",
       "require([\"d3\"], function(d3) {\n",
       "    d3.select(\".usersvg #pixel_crossoHG\").attr(\"transform\", \"translate(0 10)\");\n",
       "});\n",
       "</script>\n"
      ]
     },
     "metadata": {},
     "output_type": "display_data"
    },
    {
     "data": {
      "text/html": [
       "<script>\n",
       "require([\"d3\"], function(d3) {\n",
       "    d3.select(\".usersvg #pixel_crossoHG\").attr(\"transform\", \"translate(0 10)\");\n",
       "});\n",
       "</script>\n"
      ]
     },
     "metadata": {},
     "output_type": "display_data"
    },
    {
     "data": {
      "text/html": [
       "<script>\n",
       "require([\"d3\"], function(d3) {\n",
       "    d3.select(\".usersvg #pixel_crossoHG\").attr(\"transform\", \"translate(0 9)\");\n",
       "});\n",
       "</script>\n"
      ]
     },
     "metadata": {},
     "output_type": "display_data"
    },
    {
     "data": {
      "text/html": [
       "<script>\n",
       "require([\"d3\"], function(d3) {\n",
       "    d3.select(\".usersvg #pixel_crossoHG\").attr(\"transform\", \"translate(1 9)\");\n",
       "});\n",
       "</script>\n"
      ]
     },
     "metadata": {},
     "output_type": "display_data"
    },
    {
     "data": {
      "text/html": [
       "<script>\n",
       "require([\"d3\"], function(d3) {\n",
       "    d3.select(\".usersvg #pixel_crossoHG\").attr(\"transform\", \"translate(1 8)\");\n",
       "});\n",
       "</script>\n"
      ]
     },
     "metadata": {},
     "output_type": "display_data"
    },
    {
     "data": {
      "text/html": [
       "<script>\n",
       "require([\"d3\"], function(d3) {\n",
       "    d3.select(\".usersvg #pixel_crossoHG\").attr(\"transform\", \"translate(0 8)\");\n",
       "});\n",
       "</script>\n"
      ]
     },
     "metadata": {},
     "output_type": "display_data"
    },
    {
     "data": {
      "text/html": [
       "<script>\n",
       "require([\"d3\"], function(d3) {\n",
       "    d3.select(\".usersvg #pixel_crossoHG\").attr(\"transform\", \"translate(0 8)\");\n",
       "});\n",
       "</script>\n"
      ]
     },
     "metadata": {},
     "output_type": "display_data"
    },
    {
     "data": {
      "text/html": [
       "<script>\n",
       "require([\"d3\"], function(d3) {\n",
       "    d3.select(\".usersvg #pixel_crossoHG\").attr(\"transform\", \"translate(0 8)\");\n",
       "});\n",
       "</script>\n"
      ]
     },
     "metadata": {},
     "output_type": "display_data"
    },
    {
     "data": {
      "text/html": [
       "<script>\n",
       "require([\"d3\"], function(d3) {\n",
       "    d3.select(\".usersvg #pixel_crossoHG\").attr(\"transform\", \"translate(1 8)\");\n",
       "});\n",
       "</script>\n"
      ]
     },
     "metadata": {},
     "output_type": "display_data"
    },
    {
     "data": {
      "text/html": [
       "<script>\n",
       "require([\"d3\"], function(d3) {\n",
       "    d3.select(\".usersvg #pixel_crossoHG\").attr(\"transform\", \"translate(0 8)\");\n",
       "});\n",
       "</script>\n"
      ]
     },
     "metadata": {},
     "output_type": "display_data"
    },
    {
     "data": {
      "text/html": [
       "<script>\n",
       "require([\"d3\"], function(d3) {\n",
       "    d3.select(\".usersvg #pixel_crossoHG\").attr(\"transform\", \"translate(1 8)\");\n",
       "});\n",
       "</script>\n"
      ]
     },
     "metadata": {},
     "output_type": "display_data"
    },
    {
     "data": {
      "text/html": [
       "<script>\n",
       "require([\"d3\"], function(d3) {\n",
       "    d3.select(\".usersvg #pixel_crossoHG\").attr(\"transform\", \"translate(1 7)\");\n",
       "});\n",
       "</script>\n"
      ]
     },
     "metadata": {},
     "output_type": "display_data"
    },
    {
     "data": {
      "text/html": [
       "<script>\n",
       "require([\"d3\"], function(d3) {\n",
       "    d3.select(\".usersvg #pixel_crossoHG\").attr(\"transform\", \"translate(2 7)\");\n",
       "});\n",
       "</script>\n"
      ]
     },
     "metadata": {},
     "output_type": "display_data"
    },
    {
     "data": {
      "text/html": [
       "<script>\n",
       "require([\"d3\"], function(d3) {\n",
       "    d3.select(\".usersvg #pixel_crossoHG\").attr(\"transform\", \"translate(2 6)\");\n",
       "});\n",
       "</script>\n"
      ]
     },
     "metadata": {},
     "output_type": "display_data"
    },
    {
     "data": {
      "text/html": [
       "<script>\n",
       "require([\"d3\"], function(d3) {\n",
       "    d3.select(\".usersvg #pixel_crossoHG\").attr(\"transform\", \"translate(2 7)\");\n",
       "});\n",
       "</script>\n"
      ]
     },
     "metadata": {},
     "output_type": "display_data"
    },
    {
     "data": {
      "text/html": [
       "<script>\n",
       "require([\"d3\"], function(d3) {\n",
       "    d3.select(\".usersvg #pixel_crossoHG\").attr(\"transform\", \"translate(2 8)\");\n",
       "});\n",
       "</script>\n"
      ]
     },
     "metadata": {},
     "output_type": "display_data"
    },
    {
     "data": {
      "text/html": [
       "<script>\n",
       "require([\"d3\"], function(d3) {\n",
       "    d3.select(\".usersvg #pixel_crossoHG\").attr(\"transform\", \"translate(2 9)\");\n",
       "});\n",
       "</script>\n"
      ]
     },
     "metadata": {},
     "output_type": "display_data"
    },
    {
     "data": {
      "text/html": [
       "<script>\n",
       "require([\"d3\"], function(d3) {\n",
       "    d3.select(\".usersvg #pixel_crossoHG\").attr(\"transform\", \"translate(3 9)\");\n",
       "});\n",
       "</script>\n"
      ]
     },
     "metadata": {},
     "output_type": "display_data"
    },
    {
     "data": {
      "text/html": [
       "<script>\n",
       "require([\"d3\"], function(d3) {\n",
       "    d3.select(\".usersvg #pixel_crossoHG\").attr(\"transform\", \"translate(3 10)\");\n",
       "});\n",
       "</script>\n"
      ]
     },
     "metadata": {},
     "output_type": "display_data"
    },
    {
     "data": {
      "text/html": [
       "<script>\n",
       "require([\"d3\"], function(d3) {\n",
       "    d3.select(\".usersvg #pixel_crossoHG\").attr(\"transform\", \"translate(3 9)\");\n",
       "});\n",
       "</script>\n"
      ]
     },
     "metadata": {},
     "output_type": "display_data"
    },
    {
     "data": {
      "text/html": [
       "<script>\n",
       "require([\"d3\"], function(d3) {\n",
       "    d3.select(\".usersvg #pixel_crossoHG\").attr(\"transform\", \"translate(3 10)\");\n",
       "});\n",
       "</script>\n"
      ]
     },
     "metadata": {},
     "output_type": "display_data"
    },
    {
     "data": {
      "text/html": [
       "<script>\n",
       "require([\"d3\"], function(d3) {\n",
       "    d3.select(\".usersvg #pixel_crossoHG\").attr(\"transform\", \"translate(2 10)\");\n",
       "});\n",
       "</script>\n"
      ]
     },
     "metadata": {},
     "output_type": "display_data"
    },
    {
     "data": {
      "text/html": [
       "<script>\n",
       "require([\"d3\"], function(d3) {\n",
       "    d3.select(\".usersvg #pixel_crossoHG\").attr(\"transform\", \"translate(2 11)\");\n",
       "});\n",
       "</script>\n"
      ]
     },
     "metadata": {},
     "output_type": "display_data"
    },
    {
     "data": {
      "text/html": [
       "<script>\n",
       "require([\"d3\"], function(d3) {\n",
       "    d3.select(\".usersvg #pixel_crossoHG\").attr(\"transform\", \"translate(2 10)\");\n",
       "});\n",
       "</script>\n"
      ]
     },
     "metadata": {},
     "output_type": "display_data"
    },
    {
     "data": {
      "text/html": [
       "<script>\n",
       "require([\"d3\"], function(d3) {\n",
       "    d3.select(\".usersvg #pixel_crossoHG\").attr(\"transform\", \"translate(3 10)\");\n",
       "});\n",
       "</script>\n"
      ]
     },
     "metadata": {},
     "output_type": "display_data"
    },
    {
     "data": {
      "text/html": [
       "<script>\n",
       "require([\"d3\"], function(d3) {\n",
       "    d3.select(\".usersvg #pixel_crossoHG\").attr(\"transform\", \"translate(4 10)\");\n",
       "});\n",
       "</script>\n"
      ]
     },
     "metadata": {},
     "output_type": "display_data"
    },
    {
     "data": {
      "text/html": [
       "<script>\n",
       "require([\"d3\"], function(d3) {\n",
       "    d3.select(\".usersvg #pixel_crossoHG\").attr(\"transform\", \"translate(4 9)\");\n",
       "});\n",
       "</script>\n"
      ]
     },
     "metadata": {},
     "output_type": "display_data"
    },
    {
     "data": {
      "text/html": [
       "<script>\n",
       "require([\"d3\"], function(d3) {\n",
       "    d3.select(\".usersvg #pixel_crossoHG\").attr(\"transform\", \"translate(5 9)\");\n",
       "});\n",
       "</script>\n"
      ]
     },
     "metadata": {},
     "output_type": "display_data"
    },
    {
     "data": {
      "text/html": [
       "<script>\n",
       "require([\"d3\"], function(d3) {\n",
       "    d3.select(\".usersvg #pixel_crossoHG\").attr(\"transform\", \"translate(5 10)\");\n",
       "});\n",
       "</script>\n"
      ]
     },
     "metadata": {},
     "output_type": "display_data"
    },
    {
     "data": {
      "text/html": [
       "<script>\n",
       "require([\"d3\"], function(d3) {\n",
       "    d3.select(\".usersvg #pixel_crossoHG\").attr(\"transform\", \"translate(5 9)\");\n",
       "});\n",
       "</script>\n"
      ]
     },
     "metadata": {},
     "output_type": "display_data"
    },
    {
     "data": {
      "text/html": [
       "<script>\n",
       "require([\"d3\"], function(d3) {\n",
       "    d3.select(\".usersvg #pixel_crossoHG\").attr(\"transform\", \"translate(5 10)\");\n",
       "});\n",
       "</script>\n"
      ]
     },
     "metadata": {},
     "output_type": "display_data"
    },
    {
     "data": {
      "text/html": [
       "<script>\n",
       "require([\"d3\"], function(d3) {\n",
       "    d3.select(\".usersvg #pixel_crossoHG\").attr(\"transform\", \"translate(4 10)\");\n",
       "});\n",
       "</script>\n"
      ]
     },
     "metadata": {},
     "output_type": "display_data"
    },
    {
     "data": {
      "text/html": [
       "<script>\n",
       "require([\"d3\"], function(d3) {\n",
       "    d3.select(\".usersvg #pixel_crossoHG\").attr(\"transform\", \"translate(4 9)\");\n",
       "});\n",
       "</script>\n"
      ]
     },
     "metadata": {},
     "output_type": "display_data"
    },
    {
     "data": {
      "text/html": [
       "<script>\n",
       "require([\"d3\"], function(d3) {\n",
       "    d3.select(\".usersvg #pixel_crossoHG\").attr(\"transform\", \"translate(4 10)\");\n",
       "});\n",
       "</script>\n"
      ]
     },
     "metadata": {},
     "output_type": "display_data"
    },
    {
     "data": {
      "text/html": [
       "<script>\n",
       "require([\"d3\"], function(d3) {\n",
       "    d3.select(\".usersvg #pixel_crossoHG\").attr(\"transform\", \"translate(4 9)\");\n",
       "});\n",
       "</script>\n"
      ]
     },
     "metadata": {},
     "output_type": "display_data"
    },
    {
     "data": {
      "text/html": [
       "<script>\n",
       "require([\"d3\"], function(d3) {\n",
       "    d3.select(\".usersvg #pixel_crossoHG\").attr(\"transform\", \"translate(3 9)\");\n",
       "});\n",
       "</script>\n"
      ]
     },
     "metadata": {},
     "output_type": "display_data"
    },
    {
     "data": {
      "text/html": [
       "<script>\n",
       "require([\"d3\"], function(d3) {\n",
       "    d3.select(\".usersvg #pixel_crossoHG\").attr(\"transform\", \"translate(2 9)\");\n",
       "});\n",
       "</script>\n"
      ]
     },
     "metadata": {},
     "output_type": "display_data"
    },
    {
     "data": {
      "text/html": [
       "<script>\n",
       "require([\"d3\"], function(d3) {\n",
       "    d3.select(\".usersvg #pixel_crossoHG\").attr(\"transform\", \"translate(2 8)\");\n",
       "});\n",
       "</script>\n"
      ]
     },
     "metadata": {},
     "output_type": "display_data"
    },
    {
     "data": {
      "text/html": [
       "<script>\n",
       "require([\"d3\"], function(d3) {\n",
       "    d3.select(\".usersvg #pixel_crossoHG\").attr(\"transform\", \"translate(3 8)\");\n",
       "});\n",
       "</script>\n"
      ]
     },
     "metadata": {},
     "output_type": "display_data"
    },
    {
     "data": {
      "text/html": [
       "<script>\n",
       "require([\"d3\"], function(d3) {\n",
       "    d3.select(\".usersvg #pixel_crossoHG\").attr(\"transform\", \"translate(2 8)\");\n",
       "});\n",
       "</script>\n"
      ]
     },
     "metadata": {},
     "output_type": "display_data"
    },
    {
     "data": {
      "text/html": [
       "<script>\n",
       "require([\"d3\"], function(d3) {\n",
       "    d3.select(\".usersvg #pixel_crossoHG\").attr(\"transform\", \"translate(1 8)\");\n",
       "});\n",
       "</script>\n"
      ]
     },
     "metadata": {},
     "output_type": "display_data"
    },
    {
     "data": {
      "text/html": [
       "<script>\n",
       "require([\"d3\"], function(d3) {\n",
       "    d3.select(\".usersvg #pixel_crossoHG\").attr(\"transform\", \"translate(0 8)\");\n",
       "});\n",
       "</script>\n"
      ]
     },
     "metadata": {},
     "output_type": "display_data"
    },
    {
     "data": {
      "text/html": [
       "<script>\n",
       "require([\"d3\"], function(d3) {\n",
       "    d3.select(\".usersvg #pixel_crossoHG\").attr(\"transform\", \"translate(0 8)\");\n",
       "});\n",
       "</script>\n"
      ]
     },
     "metadata": {},
     "output_type": "display_data"
    },
    {
     "data": {
      "text/html": [
       "<script>\n",
       "require([\"d3\"], function(d3) {\n",
       "    d3.select(\".usersvg #pixel_crossoHG\").attr(\"transform\", \"translate(0 8)\");\n",
       "});\n",
       "</script>\n"
      ]
     },
     "metadata": {},
     "output_type": "display_data"
    },
    {
     "data": {
      "text/html": [
       "<script>\n",
       "require([\"d3\"], function(d3) {\n",
       "    d3.select(\".usersvg #pixel_crossoHG\").attr(\"transform\", \"translate(1 8)\");\n",
       "});\n",
       "</script>\n"
      ]
     },
     "metadata": {},
     "output_type": "display_data"
    },
    {
     "data": {
      "text/html": [
       "<script>\n",
       "require([\"d3\"], function(d3) {\n",
       "    d3.select(\".usersvg #pixel_crossoHG\").attr(\"transform\", \"translate(1 7)\");\n",
       "});\n",
       "</script>\n"
      ]
     },
     "metadata": {},
     "output_type": "display_data"
    },
    {
     "data": {
      "text/html": [
       "<script>\n",
       "require([\"d3\"], function(d3) {\n",
       "    d3.select(\".usersvg #pixel_crossoHG\").attr(\"transform\", \"translate(2 7)\");\n",
       "});\n",
       "</script>\n"
      ]
     },
     "metadata": {},
     "output_type": "display_data"
    },
    {
     "data": {
      "text/html": [
       "<script>\n",
       "require([\"d3\"], function(d3) {\n",
       "    d3.select(\".usersvg #pixel_crossoHG\").attr(\"transform\", \"translate(2 6)\");\n",
       "});\n",
       "</script>\n"
      ]
     },
     "metadata": {},
     "output_type": "display_data"
    },
    {
     "data": {
      "text/html": [
       "<script>\n",
       "require([\"d3\"], function(d3) {\n",
       "    d3.select(\".usersvg #pixel_crossoHG\").attr(\"transform\", \"translate(2 7)\");\n",
       "});\n",
       "</script>\n"
      ]
     },
     "metadata": {},
     "output_type": "display_data"
    },
    {
     "data": {
      "text/html": [
       "<script>\n",
       "require([\"d3\"], function(d3) {\n",
       "    d3.select(\".usersvg #pixel_crossoHG\").attr(\"transform\", \"translate(1 7)\");\n",
       "});\n",
       "</script>\n"
      ]
     },
     "metadata": {},
     "output_type": "display_data"
    },
    {
     "data": {
      "text/html": [
       "<script>\n",
       "require([\"d3\"], function(d3) {\n",
       "    d3.select(\".usersvg #pixel_crossoHG\").attr(\"transform\", \"translate(1 8)\");\n",
       "});\n",
       "</script>\n"
      ]
     },
     "metadata": {},
     "output_type": "display_data"
    },
    {
     "data": {
      "text/html": [
       "<script>\n",
       "require([\"d3\"], function(d3) {\n",
       "    d3.select(\".usersvg #pixel_crossoHG\").attr(\"transform\", \"translate(2 8)\");\n",
       "});\n",
       "</script>\n"
      ]
     },
     "metadata": {},
     "output_type": "display_data"
    },
    {
     "data": {
      "text/html": [
       "<script>\n",
       "require([\"d3\"], function(d3) {\n",
       "    d3.select(\".usersvg #pixel_crossoHG\").attr(\"transform\", \"translate(2 9)\");\n",
       "});\n",
       "</script>\n"
      ]
     },
     "metadata": {},
     "output_type": "display_data"
    },
    {
     "data": {
      "text/html": [
       "<script>\n",
       "require([\"d3\"], function(d3) {\n",
       "    d3.select(\".usersvg #pixel_crossoHG\").attr(\"transform\", \"translate(1 9)\");\n",
       "});\n",
       "</script>\n"
      ]
     },
     "metadata": {},
     "output_type": "display_data"
    },
    {
     "data": {
      "text/html": [
       "<script>\n",
       "require([\"d3\"], function(d3) {\n",
       "    d3.select(\".usersvg #pixel_crossoHG\").attr(\"transform\", \"translate(1 8)\");\n",
       "});\n",
       "</script>\n"
      ]
     },
     "metadata": {},
     "output_type": "display_data"
    },
    {
     "data": {
      "text/html": [
       "<script>\n",
       "require([\"d3\"], function(d3) {\n",
       "    d3.select(\".usersvg #pixel_crossoHG\").attr(\"transform\", \"translate(0 8)\");\n",
       "});\n",
       "</script>\n"
      ]
     },
     "metadata": {},
     "output_type": "display_data"
    },
    {
     "data": {
      "text/html": [
       "<script>\n",
       "require([\"d3\"], function(d3) {\n",
       "    d3.select(\".usersvg #pixel_crossoHG\").attr(\"transform\", \"translate(0 9)\");\n",
       "});\n",
       "</script>\n"
      ]
     },
     "metadata": {},
     "output_type": "display_data"
    },
    {
     "data": {
      "text/html": [
       "<script>\n",
       "require([\"d3\"], function(d3) {\n",
       "    d3.select(\".usersvg #pixel_crossoHG\").attr(\"transform\", \"translate(0 8)\");\n",
       "});\n",
       "</script>\n"
      ]
     },
     "metadata": {},
     "output_type": "display_data"
    },
    {
     "data": {
      "text/html": [
       "<script>\n",
       "require([\"d3\"], function(d3) {\n",
       "    d3.select(\".usersvg #pixel_crossoHG\").attr(\"transform\", \"translate(0 8)\");\n",
       "});\n",
       "</script>\n"
      ]
     },
     "metadata": {},
     "output_type": "display_data"
    },
    {
     "data": {
      "text/html": [
       "<script>\n",
       "require([\"d3\"], function(d3) {\n",
       "    d3.select(\".usersvg #pixel_crossoHG\").attr(\"transform\", \"translate(0 9)\");\n",
       "});\n",
       "</script>\n"
      ]
     },
     "metadata": {},
     "output_type": "display_data"
    },
    {
     "data": {
      "text/html": [
       "<script>\n",
       "require([\"d3\"], function(d3) {\n",
       "    d3.select(\".usersvg #pixel_crossoHG\").attr(\"transform\", \"translate(1 9)\");\n",
       "});\n",
       "</script>\n"
      ]
     },
     "metadata": {},
     "output_type": "display_data"
    },
    {
     "data": {
      "text/html": [
       "<script>\n",
       "require([\"d3\"], function(d3) {\n",
       "    d3.select(\".usersvg #pixel_crossoHG\").attr(\"transform\", \"translate(1 8)\");\n",
       "});\n",
       "</script>\n"
      ]
     },
     "metadata": {},
     "output_type": "display_data"
    },
    {
     "data": {
      "text/html": [
       "<script>\n",
       "require([\"d3\"], function(d3) {\n",
       "    d3.select(\".usersvg #pixel_crossoHG\").attr(\"transform\", \"translate(0 8)\");\n",
       "});\n",
       "</script>\n"
      ]
     },
     "metadata": {},
     "output_type": "display_data"
    },
    {
     "data": {
      "text/html": [
       "<script>\n",
       "require([\"d3\"], function(d3) {\n",
       "    d3.select(\".usersvg #pixel_crossoHG\").attr(\"transform\", \"translate(0 9)\");\n",
       "});\n",
       "</script>\n"
      ]
     },
     "metadata": {},
     "output_type": "display_data"
    },
    {
     "data": {
      "text/html": [
       "<script>\n",
       "require([\"d3\"], function(d3) {\n",
       "    d3.select(\".usersvg #pixel_crossoHG\").attr(\"transform\", \"translate(0 8)\");\n",
       "});\n",
       "</script>\n"
      ]
     },
     "metadata": {},
     "output_type": "display_data"
    },
    {
     "data": {
      "text/html": [
       "<script>\n",
       "require([\"d3\"], function(d3) {\n",
       "    d3.select(\".usersvg #pixel_crossoHG\").attr(\"transform\", \"translate(1 8)\");\n",
       "});\n",
       "</script>\n"
      ]
     },
     "metadata": {},
     "output_type": "display_data"
    },
    {
     "data": {
      "text/html": [
       "<script>\n",
       "require([\"d3\"], function(d3) {\n",
       "    d3.select(\".usersvg #pixel_crossoHG\").attr(\"transform\", \"translate(2 8)\");\n",
       "});\n",
       "</script>\n"
      ]
     },
     "metadata": {},
     "output_type": "display_data"
    },
    {
     "data": {
      "text/html": [
       "<script>\n",
       "require([\"d3\"], function(d3) {\n",
       "    d3.select(\".usersvg #pixel_crossoHG\").attr(\"transform\", \"translate(3 8)\");\n",
       "});\n",
       "</script>\n"
      ]
     },
     "metadata": {},
     "output_type": "display_data"
    },
    {
     "data": {
      "text/html": [
       "<script>\n",
       "require([\"d3\"], function(d3) {\n",
       "    d3.select(\".usersvg #pixel_crossoHG\").attr(\"transform\", \"translate(3 9)\");\n",
       "});\n",
       "</script>\n"
      ]
     },
     "metadata": {},
     "output_type": "display_data"
    },
    {
     "data": {
      "text/html": [
       "<script>\n",
       "require([\"d3\"], function(d3) {\n",
       "    d3.select(\".usersvg #pixel_crossoHG\").attr(\"transform\", \"translate(3 8)\");\n",
       "});\n",
       "</script>\n"
      ]
     },
     "metadata": {},
     "output_type": "display_data"
    },
    {
     "data": {
      "text/html": [
       "<script>\n",
       "require([\"d3\"], function(d3) {\n",
       "    d3.select(\".usersvg #pixel_crossoHG\").attr(\"transform\", \"translate(3 9)\");\n",
       "});\n",
       "</script>\n"
      ]
     },
     "metadata": {},
     "output_type": "display_data"
    },
    {
     "data": {
      "text/html": [
       "<script>\n",
       "require([\"d3\"], function(d3) {\n",
       "    d3.select(\".usersvg #pixel_crossoHG\").attr(\"transform\", \"translate(3 10)\");\n",
       "});\n",
       "</script>\n"
      ]
     },
     "metadata": {},
     "output_type": "display_data"
    },
    {
     "data": {
      "text/html": [
       "<script>\n",
       "require([\"d3\"], function(d3) {\n",
       "    d3.select(\".usersvg #pixel_crossoHG\").attr(\"transform\", \"translate(3 11)\");\n",
       "});\n",
       "</script>\n"
      ]
     },
     "metadata": {},
     "output_type": "display_data"
    },
    {
     "data": {
      "text/html": [
       "<script>\n",
       "require([\"d3\"], function(d3) {\n",
       "    d3.select(\".usersvg #pixel_crossoHG\").attr(\"transform\", \"translate(2 11)\");\n",
       "});\n",
       "</script>\n"
      ]
     },
     "metadata": {},
     "output_type": "display_data"
    },
    {
     "data": {
      "text/html": [
       "<script>\n",
       "require([\"d3\"], function(d3) {\n",
       "    d3.select(\".usersvg #pixel_crossoHG\").attr(\"transform\", \"translate(1 11)\");\n",
       "});\n",
       "</script>\n"
      ]
     },
     "metadata": {},
     "output_type": "display_data"
    },
    {
     "data": {
      "text/html": [
       "<script>\n",
       "require([\"d3\"], function(d3) {\n",
       "    d3.select(\".usersvg #pixel_crossoHG\").attr(\"transform\", \"translate(2 11)\");\n",
       "});\n",
       "</script>\n"
      ]
     },
     "metadata": {},
     "output_type": "display_data"
    },
    {
     "data": {
      "text/html": [
       "<script>\n",
       "require([\"d3\"], function(d3) {\n",
       "    d3.select(\".usersvg #pixel_crossoHG\").attr(\"transform\", \"translate(2 10)\");\n",
       "});\n",
       "</script>\n"
      ]
     },
     "metadata": {},
     "output_type": "display_data"
    },
    {
     "data": {
      "text/html": [
       "<script>\n",
       "require([\"d3\"], function(d3) {\n",
       "    d3.select(\".usersvg #pixel_crossoHG\").attr(\"transform\", \"translate(3 10)\");\n",
       "});\n",
       "</script>\n"
      ]
     },
     "metadata": {},
     "output_type": "display_data"
    },
    {
     "data": {
      "text/html": [
       "<script>\n",
       "require([\"d3\"], function(d3) {\n",
       "    d3.select(\".usersvg #pixel_crossoHG\").attr(\"transform\", \"translate(2 10)\");\n",
       "});\n",
       "</script>\n"
      ]
     },
     "metadata": {},
     "output_type": "display_data"
    },
    {
     "data": {
      "text/html": [
       "<script>\n",
       "require([\"d3\"], function(d3) {\n",
       "    d3.select(\".usersvg #pixel_crossoHG\").attr(\"transform\", \"translate(2 9)\");\n",
       "});\n",
       "</script>\n"
      ]
     },
     "metadata": {},
     "output_type": "display_data"
    },
    {
     "data": {
      "text/html": [
       "<script>\n",
       "require([\"d3\"], function(d3) {\n",
       "    d3.select(\".usersvg #pixel_crossoHG\").attr(\"transform\", \"translate(2 8)\");\n",
       "});\n",
       "</script>\n"
      ]
     },
     "metadata": {},
     "output_type": "display_data"
    },
    {
     "data": {
      "text/html": [
       "<script>\n",
       "require([\"d3\"], function(d3) {\n",
       "    d3.select(\".usersvg #pixel_crossoHG\").attr(\"transform\", \"translate(2 7)\");\n",
       "});\n",
       "</script>\n"
      ]
     },
     "metadata": {},
     "output_type": "display_data"
    },
    {
     "data": {
      "text/html": [
       "<script>\n",
       "require([\"d3\"], function(d3) {\n",
       "    d3.select(\".usersvg #pixel_crossoHG\").attr(\"transform\", \"translate(2 8)\");\n",
       "});\n",
       "</script>\n"
      ]
     },
     "metadata": {},
     "output_type": "display_data"
    },
    {
     "data": {
      "text/html": [
       "<script>\n",
       "require([\"d3\"], function(d3) {\n",
       "    d3.select(\".usersvg #pixel_crossoHG\").attr(\"transform\", \"translate(1 8)\");\n",
       "});\n",
       "</script>\n"
      ]
     },
     "metadata": {},
     "output_type": "display_data"
    },
    {
     "data": {
      "text/html": [
       "<script>\n",
       "require([\"d3\"], function(d3) {\n",
       "    d3.select(\".usersvg #pixel_crossoHG\").attr(\"transform\", \"translate(0 8)\");\n",
       "});\n",
       "</script>\n"
      ]
     },
     "metadata": {},
     "output_type": "display_data"
    },
    {
     "data": {
      "text/html": [
       "<script>\n",
       "require([\"d3\"], function(d3) {\n",
       "    d3.select(\".usersvg #pixel_crossoHG\").attr(\"transform\", \"translate(0 7)\");\n",
       "});\n",
       "</script>\n"
      ]
     },
     "metadata": {},
     "output_type": "display_data"
    },
    {
     "data": {
      "text/html": [
       "<script>\n",
       "require([\"d3\"], function(d3) {\n",
       "    d3.select(\".usersvg #pixel_crossoHG\").attr(\"transform\", \"translate(0 8)\");\n",
       "});\n",
       "</script>\n"
      ]
     },
     "metadata": {},
     "output_type": "display_data"
    },
    {
     "data": {
      "text/html": [
       "<script>\n",
       "require([\"d3\"], function(d3) {\n",
       "    d3.select(\".usersvg #pixel_crossoHG\").attr(\"transform\", \"translate(0 8)\");\n",
       "});\n",
       "</script>\n"
      ]
     },
     "metadata": {},
     "output_type": "display_data"
    },
    {
     "data": {
      "text/html": [
       "<script>\n",
       "require([\"d3\"], function(d3) {\n",
       "    d3.select(\".usersvg #pixel_crossoHG\").attr(\"transform\", \"translate(0 9)\");\n",
       "});\n",
       "</script>\n"
      ]
     },
     "metadata": {},
     "output_type": "display_data"
    },
    {
     "data": {
      "text/html": [
       "<script>\n",
       "require([\"d3\"], function(d3) {\n",
       "    d3.select(\".usersvg #pixel_crossoHG\").attr(\"transform\", \"translate(0 9)\");\n",
       "});\n",
       "</script>\n"
      ]
     },
     "metadata": {},
     "output_type": "display_data"
    },
    {
     "data": {
      "text/html": [
       "<script>\n",
       "require([\"d3\"], function(d3) {\n",
       "    d3.select(\".usersvg #pixel_crossoHG\").attr(\"transform\", \"translate(1 9)\");\n",
       "});\n",
       "</script>\n"
      ]
     },
     "metadata": {},
     "output_type": "display_data"
    },
    {
     "data": {
      "text/html": [
       "<script>\n",
       "require([\"d3\"], function(d3) {\n",
       "    d3.select(\".usersvg #pixel_crossoHG\").attr(\"transform\", \"translate(1 10)\");\n",
       "});\n",
       "</script>\n"
      ]
     },
     "metadata": {},
     "output_type": "display_data"
    },
    {
     "data": {
      "text/html": [
       "<script>\n",
       "require([\"d3\"], function(d3) {\n",
       "    d3.select(\".usersvg #pixel_crossoHG\").attr(\"transform\", \"translate(2 10)\");\n",
       "});\n",
       "</script>\n"
      ]
     },
     "metadata": {},
     "output_type": "display_data"
    },
    {
     "data": {
      "text/html": [
       "<script>\n",
       "require([\"d3\"], function(d3) {\n",
       "    d3.select(\".usersvg #pixel_crossoHG\").attr(\"transform\", \"translate(2 11)\");\n",
       "});\n",
       "</script>\n"
      ]
     },
     "metadata": {},
     "output_type": "display_data"
    },
    {
     "data": {
      "text/html": [
       "<script>\n",
       "require([\"d3\"], function(d3) {\n",
       "    d3.select(\".usersvg #pixel_crossoHG\").attr(\"transform\", \"translate(2 12)\");\n",
       "});\n",
       "</script>\n"
      ]
     },
     "metadata": {},
     "output_type": "display_data"
    },
    {
     "data": {
      "text/html": [
       "<script>\n",
       "require([\"d3\"], function(d3) {\n",
       "    d3.select(\".usersvg #pixel_crossoHG\").attr(\"transform\", \"translate(2 13)\");\n",
       "});\n",
       "</script>\n"
      ]
     },
     "metadata": {},
     "output_type": "display_data"
    },
    {
     "data": {
      "text/html": [
       "<script>\n",
       "require([\"d3\"], function(d3) {\n",
       "    d3.select(\".usersvg #pixel_crossoHG\").attr(\"transform\", \"translate(1 13)\");\n",
       "});\n",
       "</script>\n"
      ]
     },
     "metadata": {},
     "output_type": "display_data"
    },
    {
     "data": {
      "text/html": [
       "<script>\n",
       "require([\"d3\"], function(d3) {\n",
       "    d3.select(\".usersvg #pixel_crossoHG\").attr(\"transform\", \"translate(1 12)\");\n",
       "});\n",
       "</script>\n"
      ]
     },
     "metadata": {},
     "output_type": "display_data"
    },
    {
     "data": {
      "text/html": [
       "<script>\n",
       "require([\"d3\"], function(d3) {\n",
       "    d3.select(\".usersvg #pixel_crossoHG\").attr(\"transform\", \"translate(1 13)\");\n",
       "});\n",
       "</script>\n"
      ]
     },
     "metadata": {},
     "output_type": "display_data"
    },
    {
     "data": {
      "text/html": [
       "<script>\n",
       "require([\"d3\"], function(d3) {\n",
       "    d3.select(\".usersvg #pixel_crossoHG\").attr(\"transform\", \"translate(2 13)\");\n",
       "});\n",
       "</script>\n"
      ]
     },
     "metadata": {},
     "output_type": "display_data"
    },
    {
     "data": {
      "text/html": [
       "<script>\n",
       "require([\"d3\"], function(d3) {\n",
       "    d3.select(\".usersvg #pixel_crossoHG\").attr(\"transform\", \"translate(3 13)\");\n",
       "});\n",
       "</script>\n"
      ]
     },
     "metadata": {},
     "output_type": "display_data"
    },
    {
     "data": {
      "text/html": [
       "<script>\n",
       "require([\"d3\"], function(d3) {\n",
       "    d3.select(\".usersvg #pixel_crossoHG\").attr(\"transform\", \"translate(2 13)\");\n",
       "});\n",
       "</script>\n"
      ]
     },
     "metadata": {},
     "output_type": "display_data"
    },
    {
     "data": {
      "text/html": [
       "<script>\n",
       "require([\"d3\"], function(d3) {\n",
       "    d3.select(\".usersvg #pixel_crossoHG\").attr(\"transform\", \"translate(3 13)\");\n",
       "});\n",
       "</script>\n"
      ]
     },
     "metadata": {},
     "output_type": "display_data"
    },
    {
     "data": {
      "text/html": [
       "<script>\n",
       "require([\"d3\"], function(d3) {\n",
       "    d3.select(\".usersvg #pixel_crossoHG\").attr(\"transform\", \"translate(4 13)\");\n",
       "});\n",
       "</script>\n"
      ]
     },
     "metadata": {},
     "output_type": "display_data"
    },
    {
     "data": {
      "text/html": [
       "<script>\n",
       "require([\"d3\"], function(d3) {\n",
       "    d3.select(\".usersvg #pixel_crossoHG\").attr(\"transform\", \"translate(4 14)\");\n",
       "});\n",
       "</script>\n"
      ]
     },
     "metadata": {},
     "output_type": "display_data"
    },
    {
     "data": {
      "text/html": [
       "<script>\n",
       "require([\"d3\"], function(d3) {\n",
       "    d3.select(\".usersvg #pixel_crossoHG\").attr(\"transform\", \"translate(5 14)\");\n",
       "});\n",
       "</script>\n"
      ]
     },
     "metadata": {},
     "output_type": "display_data"
    },
    {
     "data": {
      "text/html": [
       "<script>\n",
       "require([\"d3\"], function(d3) {\n",
       "    d3.select(\".usersvg #pixel_crossoHG\").attr(\"transform\", \"translate(4 14)\");\n",
       "});\n",
       "</script>\n"
      ]
     },
     "metadata": {},
     "output_type": "display_data"
    },
    {
     "data": {
      "text/html": [
       "<script>\n",
       "require([\"d3\"], function(d3) {\n",
       "    d3.select(\".usersvg #pixel_crossoHG\").attr(\"transform\", \"translate(3 14)\");\n",
       "});\n",
       "</script>\n"
      ]
     },
     "metadata": {},
     "output_type": "display_data"
    },
    {
     "data": {
      "text/html": [
       "<script>\n",
       "require([\"d3\"], function(d3) {\n",
       "    d3.select(\".usersvg #pixel_crossoHG\").attr(\"transform\", \"translate(3 13)\");\n",
       "});\n",
       "</script>\n"
      ]
     },
     "metadata": {},
     "output_type": "display_data"
    },
    {
     "data": {
      "text/html": [
       "<script>\n",
       "require([\"d3\"], function(d3) {\n",
       "    d3.select(\".usersvg #pixel_crossoHG\").attr(\"transform\", \"translate(3 14)\");\n",
       "});\n",
       "</script>\n"
      ]
     },
     "metadata": {},
     "output_type": "display_data"
    },
    {
     "data": {
      "text/html": [
       "<script>\n",
       "require([\"d3\"], function(d3) {\n",
       "    d3.select(\".usersvg #pixel_crossoHG\").attr(\"transform\", \"translate(4 14)\");\n",
       "});\n",
       "</script>\n"
      ]
     },
     "metadata": {},
     "output_type": "display_data"
    },
    {
     "data": {
      "text/html": [
       "<script>\n",
       "require([\"d3\"], function(d3) {\n",
       "    d3.select(\".usersvg #pixel_crossoHG\").attr(\"transform\", \"translate(4 15)\");\n",
       "});\n",
       "</script>\n"
      ]
     },
     "metadata": {},
     "output_type": "display_data"
    },
    {
     "data": {
      "text/html": [
       "<script>\n",
       "require([\"d3\"], function(d3) {\n",
       "    d3.select(\".usersvg #pixel_crossoHG\").attr(\"transform\", \"translate(4 16)\");\n",
       "});\n",
       "</script>\n"
      ]
     },
     "metadata": {},
     "output_type": "display_data"
    },
    {
     "data": {
      "text/html": [
       "<script>\n",
       "require([\"d3\"], function(d3) {\n",
       "    d3.select(\".usersvg #pixel_crossoHG\").attr(\"transform\", \"translate(5 16)\");\n",
       "});\n",
       "</script>\n"
      ]
     },
     "metadata": {},
     "output_type": "display_data"
    },
    {
     "data": {
      "text/html": [
       "<script>\n",
       "require([\"d3\"], function(d3) {\n",
       "    d3.select(\".usersvg #pixel_crossoHG\").attr(\"transform\", \"translate(5 17)\");\n",
       "});\n",
       "</script>\n"
      ]
     },
     "metadata": {},
     "output_type": "display_data"
    },
    {
     "data": {
      "text/html": [
       "<script>\n",
       "require([\"d3\"], function(d3) {\n",
       "    d3.select(\".usersvg #pixel_crossoHG\").attr(\"transform\", \"translate(5 17)\");\n",
       "});\n",
       "</script>\n"
      ]
     },
     "metadata": {},
     "output_type": "display_data"
    },
    {
     "data": {
      "text/html": [
       "<script>\n",
       "require([\"d3\"], function(d3) {\n",
       "    d3.select(\".usersvg #pixel_crossoHG\").attr(\"transform\", \"translate(6 17)\");\n",
       "});\n",
       "</script>\n"
      ]
     },
     "metadata": {},
     "output_type": "display_data"
    },
    {
     "data": {
      "text/html": [
       "<script>\n",
       "require([\"d3\"], function(d3) {\n",
       "    d3.select(\".usersvg #pixel_crossoHG\").attr(\"transform\", \"translate(6 17)\");\n",
       "});\n",
       "</script>\n"
      ]
     },
     "metadata": {},
     "output_type": "display_data"
    },
    {
     "data": {
      "text/html": [
       "<script>\n",
       "require([\"d3\"], function(d3) {\n",
       "    d3.select(\".usersvg #pixel_crossoHG\").attr(\"transform\", \"translate(7 17)\");\n",
       "});\n",
       "</script>\n"
      ]
     },
     "metadata": {},
     "output_type": "display_data"
    },
    {
     "data": {
      "text/html": [
       "<script>\n",
       "require([\"d3\"], function(d3) {\n",
       "    d3.select(\".usersvg #pixel_crossoHG\").attr(\"transform\", \"translate(6 17)\");\n",
       "});\n",
       "</script>\n"
      ]
     },
     "metadata": {},
     "output_type": "display_data"
    },
    {
     "data": {
      "text/html": [
       "<script>\n",
       "require([\"d3\"], function(d3) {\n",
       "    d3.select(\".usersvg #pixel_crossoHG\").attr(\"transform\", \"translate(6 17)\");\n",
       "});\n",
       "</script>\n"
      ]
     },
     "metadata": {},
     "output_type": "display_data"
    },
    {
     "data": {
      "text/html": [
       "<script>\n",
       "require([\"d3\"], function(d3) {\n",
       "    d3.select(\".usersvg #pixel_crossoHG\").attr(\"transform\", \"translate(6 16)\");\n",
       "});\n",
       "</script>\n"
      ]
     },
     "metadata": {},
     "output_type": "display_data"
    },
    {
     "data": {
      "text/html": [
       "<script>\n",
       "require([\"d3\"], function(d3) {\n",
       "    d3.select(\".usersvg #pixel_crossoHG\").attr(\"transform\", \"translate(5 16)\");\n",
       "});\n",
       "</script>\n"
      ]
     },
     "metadata": {},
     "output_type": "display_data"
    },
    {
     "data": {
      "text/html": [
       "<script>\n",
       "require([\"d3\"], function(d3) {\n",
       "    d3.select(\".usersvg #pixel_crossoHG\").attr(\"transform\", \"translate(4 16)\");\n",
       "});\n",
       "</script>\n"
      ]
     },
     "metadata": {},
     "output_type": "display_data"
    },
    {
     "data": {
      "text/html": [
       "<script>\n",
       "require([\"d3\"], function(d3) {\n",
       "    d3.select(\".usersvg #pixel_crossoHG\").attr(\"transform\", \"translate(4 15)\");\n",
       "});\n",
       "</script>\n"
      ]
     },
     "metadata": {},
     "output_type": "display_data"
    },
    {
     "data": {
      "text/html": [
       "<script>\n",
       "require([\"d3\"], function(d3) {\n",
       "    d3.select(\".usersvg #pixel_crossoHG\").attr(\"transform\", \"translate(4 16)\");\n",
       "});\n",
       "</script>\n"
      ]
     },
     "metadata": {},
     "output_type": "display_data"
    },
    {
     "data": {
      "text/html": [
       "<script>\n",
       "require([\"d3\"], function(d3) {\n",
       "    d3.select(\".usersvg #pixel_crossoHG\").attr(\"transform\", \"translate(3 16)\");\n",
       "});\n",
       "</script>\n"
      ]
     },
     "metadata": {},
     "output_type": "display_data"
    },
    {
     "data": {
      "text/html": [
       "<script>\n",
       "require([\"d3\"], function(d3) {\n",
       "    d3.select(\".usersvg #pixel_crossoHG\").attr(\"transform\", \"translate(3 17)\");\n",
       "});\n",
       "</script>\n"
      ]
     },
     "metadata": {},
     "output_type": "display_data"
    },
    {
     "data": {
      "text/html": [
       "<script>\n",
       "require([\"d3\"], function(d3) {\n",
       "    d3.select(\".usersvg #pixel_crossoHG\").attr(\"transform\", \"translate(3 17)\");\n",
       "});\n",
       "</script>\n"
      ]
     },
     "metadata": {},
     "output_type": "display_data"
    },
    {
     "data": {
      "text/html": [
       "<script>\n",
       "require([\"d3\"], function(d3) {\n",
       "    d3.select(\".usersvg #pixel_crossoHG\").attr(\"transform\", \"translate(2 17)\");\n",
       "});\n",
       "</script>\n"
      ]
     },
     "metadata": {},
     "output_type": "display_data"
    },
    {
     "data": {
      "text/html": [
       "<script>\n",
       "require([\"d3\"], function(d3) {\n",
       "    d3.select(\".usersvg #pixel_crossoHG\").attr(\"transform\", \"translate(1 17)\");\n",
       "});\n",
       "</script>\n"
      ]
     },
     "metadata": {},
     "output_type": "display_data"
    },
    {
     "data": {
      "text/html": [
       "<script>\n",
       "require([\"d3\"], function(d3) {\n",
       "    d3.select(\".usersvg #pixel_crossoHG\").attr(\"transform\", \"translate(0 17)\");\n",
       "});\n",
       "</script>\n"
      ]
     },
     "metadata": {},
     "output_type": "display_data"
    },
    {
     "data": {
      "text/html": [
       "<script>\n",
       "require([\"d3\"], function(d3) {\n",
       "    d3.select(\".usersvg #pixel_crossoHG\").attr(\"transform\", \"translate(1 17)\");\n",
       "});\n",
       "</script>\n"
      ]
     },
     "metadata": {},
     "output_type": "display_data"
    },
    {
     "data": {
      "text/html": [
       "<script>\n",
       "require([\"d3\"], function(d3) {\n",
       "    d3.select(\".usersvg #pixel_crossoHG\").attr(\"transform\", \"translate(2 17)\");\n",
       "});\n",
       "</script>\n"
      ]
     },
     "metadata": {},
     "output_type": "display_data"
    },
    {
     "data": {
      "text/html": [
       "<script>\n",
       "require([\"d3\"], function(d3) {\n",
       "    d3.select(\".usersvg #pixel_crossoHG\").attr(\"transform\", \"translate(2 17)\");\n",
       "});\n",
       "</script>\n"
      ]
     },
     "metadata": {},
     "output_type": "display_data"
    },
    {
     "data": {
      "text/html": [
       "<script>\n",
       "require([\"d3\"], function(d3) {\n",
       "    d3.select(\".usersvg #pixel_crossoHG\").attr(\"transform\", \"translate(2 17)\");\n",
       "});\n",
       "</script>\n"
      ]
     },
     "metadata": {},
     "output_type": "display_data"
    },
    {
     "data": {
      "text/html": [
       "<script>\n",
       "require([\"d3\"], function(d3) {\n",
       "    d3.select(\".usersvg #pixel_crossoHG\").attr(\"transform\", \"translate(1 17)\");\n",
       "});\n",
       "</script>\n"
      ]
     },
     "metadata": {},
     "output_type": "display_data"
    },
    {
     "data": {
      "text/html": [
       "<script>\n",
       "require([\"d3\"], function(d3) {\n",
       "    d3.select(\".usersvg #pixel_crossoHG\").attr(\"transform\", \"translate(0 17)\");\n",
       "});\n",
       "</script>\n"
      ]
     },
     "metadata": {},
     "output_type": "display_data"
    },
    {
     "data": {
      "text/html": [
       "<script>\n",
       "require([\"d3\"], function(d3) {\n",
       "    d3.select(\".usersvg #pixel_crossoHG\").attr(\"transform\", \"translate(0 17)\");\n",
       "});\n",
       "</script>\n"
      ]
     },
     "metadata": {},
     "output_type": "display_data"
    },
    {
     "data": {
      "text/html": [
       "<script>\n",
       "require([\"d3\"], function(d3) {\n",
       "    d3.select(\".usersvg #pixel_crossoHG\").attr(\"transform\", \"translate(0 17)\");\n",
       "});\n",
       "</script>\n"
      ]
     },
     "metadata": {},
     "output_type": "display_data"
    },
    {
     "data": {
      "text/html": [
       "<script>\n",
       "require([\"d3\"], function(d3) {\n",
       "    d3.select(\".usersvg #pixel_crossoHG\").attr(\"transform\", \"translate(0 16)\");\n",
       "});\n",
       "</script>\n"
      ]
     },
     "metadata": {},
     "output_type": "display_data"
    },
    {
     "data": {
      "text/html": [
       "<script>\n",
       "require([\"d3\"], function(d3) {\n",
       "    d3.select(\".usersvg #pixel_crossoHG\").attr(\"transform\", \"translate(0 17)\");\n",
       "});\n",
       "</script>\n"
      ]
     },
     "metadata": {},
     "output_type": "display_data"
    },
    {
     "data": {
      "text/html": [
       "<script>\n",
       "require([\"d3\"], function(d3) {\n",
       "    d3.select(\".usersvg #pixel_crossoHG\").attr(\"transform\", \"translate(0 17)\");\n",
       "});\n",
       "</script>\n"
      ]
     },
     "metadata": {},
     "output_type": "display_data"
    },
    {
     "data": {
      "text/html": [
       "<script>\n",
       "require([\"d3\"], function(d3) {\n",
       "    d3.select(\".usersvg #pixel_crossoHG\").attr(\"transform\", \"translate(0 17)\");\n",
       "});\n",
       "</script>\n"
      ]
     },
     "metadata": {},
     "output_type": "display_data"
    },
    {
     "data": {
      "text/html": [
       "<script>\n",
       "require([\"d3\"], function(d3) {\n",
       "    d3.select(\".usersvg #pixel_crossoHG\").attr(\"transform\", \"translate(0 16)\");\n",
       "});\n",
       "</script>\n"
      ]
     },
     "metadata": {},
     "output_type": "display_data"
    },
    {
     "data": {
      "text/html": [
       "<script>\n",
       "require([\"d3\"], function(d3) {\n",
       "    d3.select(\".usersvg #pixel_crossoHG\").attr(\"transform\", \"translate(0 16)\");\n",
       "});\n",
       "</script>\n"
      ]
     },
     "metadata": {},
     "output_type": "display_data"
    },
    {
     "data": {
      "text/html": [
       "<script>\n",
       "require([\"d3\"], function(d3) {\n",
       "    d3.select(\".usersvg #pixel_crossoHG\").attr(\"transform\", \"translate(1 16)\");\n",
       "});\n",
       "</script>\n"
      ]
     },
     "metadata": {},
     "output_type": "display_data"
    },
    {
     "data": {
      "text/html": [
       "<script>\n",
       "require([\"d3\"], function(d3) {\n",
       "    d3.select(\".usersvg #pixel_crossoHG\").attr(\"transform\", \"translate(2 16)\");\n",
       "});\n",
       "</script>\n"
      ]
     },
     "metadata": {},
     "output_type": "display_data"
    },
    {
     "data": {
      "text/html": [
       "<script>\n",
       "require([\"d3\"], function(d3) {\n",
       "    d3.select(\".usersvg #pixel_crossoHG\").attr(\"transform\", \"translate(2 17)\");\n",
       "});\n",
       "</script>\n"
      ]
     },
     "metadata": {},
     "output_type": "display_data"
    },
    {
     "data": {
      "text/html": [
       "<script>\n",
       "require([\"d3\"], function(d3) {\n",
       "    d3.select(\".usersvg #pixel_crossoHG\").attr(\"transform\", \"translate(2 17)\");\n",
       "});\n",
       "</script>\n"
      ]
     },
     "metadata": {},
     "output_type": "display_data"
    },
    {
     "data": {
      "text/html": [
       "<script>\n",
       "require([\"d3\"], function(d3) {\n",
       "    d3.select(\".usersvg #pixel_crossoHG\").attr(\"transform\", \"translate(2 17)\");\n",
       "});\n",
       "</script>\n"
      ]
     },
     "metadata": {},
     "output_type": "display_data"
    },
    {
     "data": {
      "text/html": [
       "<script>\n",
       "require([\"d3\"], function(d3) {\n",
       "    d3.select(\".usersvg #pixel_crossoHG\").attr(\"transform\", \"translate(2 17)\");\n",
       "});\n",
       "</script>\n"
      ]
     },
     "metadata": {},
     "output_type": "display_data"
    },
    {
     "data": {
      "text/html": [
       "<script>\n",
       "require([\"d3\"], function(d3) {\n",
       "    d3.select(\".usersvg #pixel_crossoHG\").attr(\"transform\", \"translate(2 16)\");\n",
       "});\n",
       "</script>\n"
      ]
     },
     "metadata": {},
     "output_type": "display_data"
    },
    {
     "data": {
      "text/html": [
       "<script>\n",
       "require([\"d3\"], function(d3) {\n",
       "    d3.select(\".usersvg #pixel_crossoHG\").attr(\"transform\", \"translate(1 16)\");\n",
       "});\n",
       "</script>\n"
      ]
     },
     "metadata": {},
     "output_type": "display_data"
    },
    {
     "data": {
      "text/html": [
       "<script>\n",
       "require([\"d3\"], function(d3) {\n",
       "    d3.select(\".usersvg #pixel_crossoHG\").attr(\"transform\", \"translate(2 16)\");\n",
       "});\n",
       "</script>\n"
      ]
     },
     "metadata": {},
     "output_type": "display_data"
    },
    {
     "data": {
      "text/html": [
       "<script>\n",
       "require([\"d3\"], function(d3) {\n",
       "    d3.select(\".usersvg #pixel_crossoHG\").attr(\"transform\", \"translate(2 15)\");\n",
       "});\n",
       "</script>\n"
      ]
     },
     "metadata": {},
     "output_type": "display_data"
    },
    {
     "data": {
      "text/html": [
       "<script>\n",
       "require([\"d3\"], function(d3) {\n",
       "    d3.select(\".usersvg #pixel_crossoHG\").attr(\"transform\", \"translate(1 15)\");\n",
       "});\n",
       "</script>\n"
      ]
     },
     "metadata": {},
     "output_type": "display_data"
    },
    {
     "data": {
      "text/html": [
       "<script>\n",
       "require([\"d3\"], function(d3) {\n",
       "    d3.select(\".usersvg #pixel_crossoHG\").attr(\"transform\", \"translate(2 15)\");\n",
       "});\n",
       "</script>\n"
      ]
     },
     "metadata": {},
     "output_type": "display_data"
    },
    {
     "data": {
      "text/html": [
       "<script>\n",
       "require([\"d3\"], function(d3) {\n",
       "    d3.select(\".usersvg #pixel_crossoHG\").attr(\"transform\", \"translate(2 14)\");\n",
       "});\n",
       "</script>\n"
      ]
     },
     "metadata": {},
     "output_type": "display_data"
    },
    {
     "data": {
      "text/html": [
       "<script>\n",
       "require([\"d3\"], function(d3) {\n",
       "    d3.select(\".usersvg #pixel_crossoHG\").attr(\"transform\", \"translate(3 14)\");\n",
       "});\n",
       "</script>\n"
      ]
     },
     "metadata": {},
     "output_type": "display_data"
    },
    {
     "data": {
      "text/html": [
       "<script>\n",
       "require([\"d3\"], function(d3) {\n",
       "    d3.select(\".usersvg #pixel_crossoHG\").attr(\"transform\", \"translate(3 15)\");\n",
       "});\n",
       "</script>\n"
      ]
     },
     "metadata": {},
     "output_type": "display_data"
    },
    {
     "data": {
      "text/html": [
       "<script>\n",
       "require([\"d3\"], function(d3) {\n",
       "    d3.select(\".usersvg #pixel_crossoHG\").attr(\"transform\", \"translate(3 14)\");\n",
       "});\n",
       "</script>\n"
      ]
     },
     "metadata": {},
     "output_type": "display_data"
    },
    {
     "data": {
      "text/html": [
       "<script>\n",
       "require([\"d3\"], function(d3) {\n",
       "    d3.select(\".usersvg #pixel_crossoHG\").attr(\"transform\", \"translate(4 14)\");\n",
       "});\n",
       "</script>\n"
      ]
     },
     "metadata": {},
     "output_type": "display_data"
    },
    {
     "data": {
      "text/html": [
       "<script>\n",
       "require([\"d3\"], function(d3) {\n",
       "    d3.select(\".usersvg #pixel_crossoHG\").attr(\"transform\", \"translate(4 13)\");\n",
       "});\n",
       "</script>\n"
      ]
     },
     "metadata": {},
     "output_type": "display_data"
    },
    {
     "data": {
      "text/html": [
       "<script>\n",
       "require([\"d3\"], function(d3) {\n",
       "    d3.select(\".usersvg #pixel_crossoHG\").attr(\"transform\", \"translate(5 13)\");\n",
       "});\n",
       "</script>\n"
      ]
     },
     "metadata": {},
     "output_type": "display_data"
    },
    {
     "data": {
      "text/html": [
       "<script>\n",
       "require([\"d3\"], function(d3) {\n",
       "    d3.select(\".usersvg #pixel_crossoHG\").attr(\"transform\", \"translate(6 13)\");\n",
       "});\n",
       "</script>\n"
      ]
     },
     "metadata": {},
     "output_type": "display_data"
    },
    {
     "data": {
      "text/html": [
       "<script>\n",
       "require([\"d3\"], function(d3) {\n",
       "    d3.select(\".usersvg #pixel_crossoHG\").attr(\"transform\", \"translate(7 13)\");\n",
       "});\n",
       "</script>\n"
      ]
     },
     "metadata": {},
     "output_type": "display_data"
    },
    {
     "data": {
      "text/html": [
       "<script>\n",
       "require([\"d3\"], function(d3) {\n",
       "    d3.select(\".usersvg #pixel_crossoHG\").attr(\"transform\", \"translate(7 14)\");\n",
       "});\n",
       "</script>\n"
      ]
     },
     "metadata": {},
     "output_type": "display_data"
    },
    {
     "data": {
      "text/html": [
       "<script>\n",
       "require([\"d3\"], function(d3) {\n",
       "    d3.select(\".usersvg #pixel_crossoHG\").attr(\"transform\", \"translate(6 14)\");\n",
       "});\n",
       "</script>\n"
      ]
     },
     "metadata": {},
     "output_type": "display_data"
    },
    {
     "data": {
      "text/html": [
       "<script>\n",
       "require([\"d3\"], function(d3) {\n",
       "    d3.select(\".usersvg #pixel_crossoHG\").attr(\"transform\", \"translate(5 14)\");\n",
       "});\n",
       "</script>\n"
      ]
     },
     "metadata": {},
     "output_type": "display_data"
    },
    {
     "data": {
      "text/html": [
       "<script>\n",
       "require([\"d3\"], function(d3) {\n",
       "    d3.select(\".usersvg #pixel_crossoHG\").attr(\"transform\", \"translate(5 15)\");\n",
       "});\n",
       "</script>\n"
      ]
     },
     "metadata": {},
     "output_type": "display_data"
    },
    {
     "data": {
      "text/html": [
       "<script>\n",
       "require([\"d3\"], function(d3) {\n",
       "    d3.select(\".usersvg #pixel_crossoHG\").attr(\"transform\", \"translate(4 15)\");\n",
       "});\n",
       "</script>\n"
      ]
     },
     "metadata": {},
     "output_type": "display_data"
    },
    {
     "data": {
      "text/html": [
       "<script>\n",
       "require([\"d3\"], function(d3) {\n",
       "    d3.select(\".usersvg #pixel_crossoHG\").attr(\"transform\", \"translate(3 15)\");\n",
       "});\n",
       "</script>\n"
      ]
     },
     "metadata": {},
     "output_type": "display_data"
    },
    {
     "data": {
      "text/html": [
       "<script>\n",
       "require([\"d3\"], function(d3) {\n",
       "    d3.select(\".usersvg #pixel_crossoHG\").attr(\"transform\", \"translate(3 16)\");\n",
       "});\n",
       "</script>\n"
      ]
     },
     "metadata": {},
     "output_type": "display_data"
    },
    {
     "data": {
      "text/html": [
       "<script>\n",
       "require([\"d3\"], function(d3) {\n",
       "    d3.select(\".usersvg #pixel_crossoHG\").attr(\"transform\", \"translate(4 16)\");\n",
       "});\n",
       "</script>\n"
      ]
     },
     "metadata": {},
     "output_type": "display_data"
    },
    {
     "data": {
      "text/html": [
       "<script>\n",
       "require([\"d3\"], function(d3) {\n",
       "    d3.select(\".usersvg #pixel_crossoHG\").attr(\"transform\", \"translate(4 15)\");\n",
       "});\n",
       "</script>\n"
      ]
     },
     "metadata": {},
     "output_type": "display_data"
    },
    {
     "data": {
      "text/html": [
       "<script>\n",
       "require([\"d3\"], function(d3) {\n",
       "    d3.select(\".usersvg #pixel_crossoHG\").attr(\"transform\", \"translate(3 15)\");\n",
       "});\n",
       "</script>\n"
      ]
     },
     "metadata": {},
     "output_type": "display_data"
    },
    {
     "data": {
      "text/html": [
       "<script>\n",
       "require([\"d3\"], function(d3) {\n",
       "    d3.select(\".usersvg #pixel_crossoHG\").attr(\"transform\", \"translate(3 16)\");\n",
       "});\n",
       "</script>\n"
      ]
     },
     "metadata": {},
     "output_type": "display_data"
    },
    {
     "data": {
      "text/html": [
       "<script>\n",
       "require([\"d3\"], function(d3) {\n",
       "    d3.select(\".usersvg #pixel_crossoHG\").attr(\"transform\", \"translate(4 16)\");\n",
       "});\n",
       "</script>\n"
      ]
     },
     "metadata": {},
     "output_type": "display_data"
    },
    {
     "data": {
      "text/html": [
       "<script>\n",
       "require([\"d3\"], function(d3) {\n",
       "    d3.select(\".usersvg #pixel_crossoHG\").attr(\"transform\", \"translate(3 16)\");\n",
       "});\n",
       "</script>\n"
      ]
     },
     "metadata": {},
     "output_type": "display_data"
    },
    {
     "data": {
      "text/html": [
       "<script>\n",
       "require([\"d3\"], function(d3) {\n",
       "    d3.select(\".usersvg #pixel_crossoHG\").attr(\"transform\", \"translate(3 17)\");\n",
       "});\n",
       "</script>\n"
      ]
     },
     "metadata": {},
     "output_type": "display_data"
    },
    {
     "data": {
      "text/html": [
       "<script>\n",
       "require([\"d3\"], function(d3) {\n",
       "    d3.select(\".usersvg #pixel_crossoHG\").attr(\"transform\", \"translate(2 17)\");\n",
       "});\n",
       "</script>\n"
      ]
     },
     "metadata": {},
     "output_type": "display_data"
    },
    {
     "data": {
      "text/html": [
       "<script>\n",
       "require([\"d3\"], function(d3) {\n",
       "    d3.select(\".usersvg #pixel_crossoHG\").attr(\"transform\", \"translate(1 17)\");\n",
       "});\n",
       "</script>\n"
      ]
     },
     "metadata": {},
     "output_type": "display_data"
    },
    {
     "data": {
      "text/html": [
       "<script>\n",
       "require([\"d3\"], function(d3) {\n",
       "    d3.select(\".usersvg #pixel_crossoHG\").attr(\"transform\", \"translate(0 17)\");\n",
       "});\n",
       "</script>\n"
      ]
     },
     "metadata": {},
     "output_type": "display_data"
    },
    {
     "data": {
      "text/html": [
       "<script>\n",
       "require([\"d3\"], function(d3) {\n",
       "    d3.select(\".usersvg #pixel_crossoHG\").attr(\"transform\", \"translate(1 17)\");\n",
       "});\n",
       "</script>\n"
      ]
     },
     "metadata": {},
     "output_type": "display_data"
    },
    {
     "data": {
      "text/html": [
       "<script>\n",
       "require([\"d3\"], function(d3) {\n",
       "    d3.select(\".usersvg #pixel_crossoHG\").attr(\"transform\", \"translate(2 17)\");\n",
       "});\n",
       "</script>\n"
      ]
     },
     "metadata": {},
     "output_type": "display_data"
    },
    {
     "data": {
      "text/html": [
       "<script>\n",
       "require([\"d3\"], function(d3) {\n",
       "    d3.select(\".usersvg #pixel_crossoHG\").attr(\"transform\", \"translate(3 17)\");\n",
       "});\n",
       "</script>\n"
      ]
     },
     "metadata": {},
     "output_type": "display_data"
    },
    {
     "data": {
      "text/html": [
       "<script>\n",
       "require([\"d3\"], function(d3) {\n",
       "    d3.select(\".usersvg #pixel_crossoHG\").attr(\"transform\", \"translate(4 17)\");\n",
       "});\n",
       "</script>\n"
      ]
     },
     "metadata": {},
     "output_type": "display_data"
    },
    {
     "data": {
      "text/html": [
       "<script>\n",
       "require([\"d3\"], function(d3) {\n",
       "    d3.select(\".usersvg #pixel_crossoHG\").attr(\"transform\", \"translate(5 17)\");\n",
       "});\n",
       "</script>\n"
      ]
     },
     "metadata": {},
     "output_type": "display_data"
    },
    {
     "data": {
      "text/html": [
       "<script>\n",
       "require([\"d3\"], function(d3) {\n",
       "    d3.select(\".usersvg #pixel_crossoHG\").attr(\"transform\", \"translate(6 17)\");\n",
       "});\n",
       "</script>\n"
      ]
     },
     "metadata": {},
     "output_type": "display_data"
    },
    {
     "data": {
      "text/html": [
       "<script>\n",
       "require([\"d3\"], function(d3) {\n",
       "    d3.select(\".usersvg #pixel_crossoHG\").attr(\"transform\", \"translate(6 17)\");\n",
       "});\n",
       "</script>\n"
      ]
     },
     "metadata": {},
     "output_type": "display_data"
    },
    {
     "data": {
      "text/html": [
       "<script>\n",
       "require([\"d3\"], function(d3) {\n",
       "    d3.select(\".usersvg #pixel_crossoHG\").attr(\"transform\", \"translate(6 17)\");\n",
       "});\n",
       "</script>\n"
      ]
     },
     "metadata": {},
     "output_type": "display_data"
    },
    {
     "data": {
      "text/html": [
       "<script>\n",
       "require([\"d3\"], function(d3) {\n",
       "    d3.select(\".usersvg #pixel_crossoHG\").attr(\"transform\", \"translate(6 17)\");\n",
       "});\n",
       "</script>\n"
      ]
     },
     "metadata": {},
     "output_type": "display_data"
    },
    {
     "data": {
      "text/html": [
       "<script>\n",
       "require([\"d3\"], function(d3) {\n",
       "    d3.select(\".usersvg #pixel_crossoHG\").attr(\"transform\", \"translate(6 17)\");\n",
       "});\n",
       "</script>\n"
      ]
     },
     "metadata": {},
     "output_type": "display_data"
    },
    {
     "data": {
      "text/html": [
       "<script>\n",
       "require([\"d3\"], function(d3) {\n",
       "    d3.select(\".usersvg #pixel_crossoHG\").attr(\"transform\", \"translate(7 17)\");\n",
       "});\n",
       "</script>\n"
      ]
     },
     "metadata": {},
     "output_type": "display_data"
    },
    {
     "data": {
      "text/html": [
       "<script>\n",
       "require([\"d3\"], function(d3) {\n",
       "    d3.select(\".usersvg #pixel_crossoHG\").attr(\"transform\", \"translate(7 17)\");\n",
       "});\n",
       "</script>\n"
      ]
     },
     "metadata": {},
     "output_type": "display_data"
    },
    {
     "data": {
      "text/html": [
       "<script>\n",
       "require([\"d3\"], function(d3) {\n",
       "    d3.select(\".usersvg #pixel_crossoHG\").attr(\"transform\", \"translate(8 17)\");\n",
       "});\n",
       "</script>\n"
      ]
     },
     "metadata": {},
     "output_type": "display_data"
    },
    {
     "data": {
      "text/html": [
       "<script>\n",
       "require([\"d3\"], function(d3) {\n",
       "    d3.select(\".usersvg #pixel_crossoHG\").attr(\"transform\", \"translate(7 17)\");\n",
       "});\n",
       "</script>\n"
      ]
     },
     "metadata": {},
     "output_type": "display_data"
    },
    {
     "data": {
      "text/html": [
       "<script>\n",
       "require([\"d3\"], function(d3) {\n",
       "    d3.select(\".usersvg #pixel_crossoHG\").attr(\"transform\", \"translate(8 17)\");\n",
       "});\n",
       "</script>\n"
      ]
     },
     "metadata": {},
     "output_type": "display_data"
    },
    {
     "data": {
      "text/html": [
       "<script>\n",
       "require([\"d3\"], function(d3) {\n",
       "    d3.select(\".usersvg #pixel_crossoHG\").attr(\"transform\", \"translate(9 17)\");\n",
       "});\n",
       "</script>\n"
      ]
     },
     "metadata": {},
     "output_type": "display_data"
    },
    {
     "data": {
      "text/html": [
       "<script>\n",
       "require([\"d3\"], function(d3) {\n",
       "    d3.select(\".usersvg #pixel_crossoHG\").attr(\"transform\", \"translate(9 16)\");\n",
       "});\n",
       "</script>\n"
      ]
     },
     "metadata": {},
     "output_type": "display_data"
    },
    {
     "data": {
      "text/html": [
       "<script>\n",
       "require([\"d3\"], function(d3) {\n",
       "    d3.select(\".usersvg #pixel_crossoHG\").attr(\"transform\", \"translate(10 16)\");\n",
       "});\n",
       "</script>\n"
      ]
     },
     "metadata": {},
     "output_type": "display_data"
    },
    {
     "data": {
      "text/html": [
       "<script>\n",
       "require([\"d3\"], function(d3) {\n",
       "    d3.select(\".usersvg #pixel_crossoHG\").attr(\"transform\", \"translate(11 16)\");\n",
       "});\n",
       "</script>\n"
      ]
     },
     "metadata": {},
     "output_type": "display_data"
    },
    {
     "data": {
      "text/html": [
       "<script>\n",
       "require([\"d3\"], function(d3) {\n",
       "    d3.select(\".usersvg #pixel_crossoHG\").attr(\"transform\", \"translate(10 16)\");\n",
       "});\n",
       "</script>\n"
      ]
     },
     "metadata": {},
     "output_type": "display_data"
    },
    {
     "data": {
      "text/html": [
       "<script>\n",
       "require([\"d3\"], function(d3) {\n",
       "    d3.select(\".usersvg #pixel_crossoHG\").attr(\"transform\", \"translate(9 16)\");\n",
       "});\n",
       "</script>\n"
      ]
     },
     "metadata": {},
     "output_type": "display_data"
    },
    {
     "data": {
      "text/html": [
       "<script>\n",
       "require([\"d3\"], function(d3) {\n",
       "    d3.select(\".usersvg #pixel_crossoHG\").attr(\"transform\", \"translate(9 17)\");\n",
       "});\n",
       "</script>\n"
      ]
     },
     "metadata": {},
     "output_type": "display_data"
    },
    {
     "data": {
      "text/html": [
       "<script>\n",
       "require([\"d3\"], function(d3) {\n",
       "    d3.select(\".usersvg #pixel_crossoHG\").attr(\"transform\", \"translate(10 17)\");\n",
       "});\n",
       "</script>\n"
      ]
     },
     "metadata": {},
     "output_type": "display_data"
    },
    {
     "data": {
      "text/html": [
       "<script>\n",
       "require([\"d3\"], function(d3) {\n",
       "    d3.select(\".usersvg #pixel_crossoHG\").attr(\"transform\", \"translate(10 16)\");\n",
       "});\n",
       "</script>\n"
      ]
     },
     "metadata": {},
     "output_type": "display_data"
    },
    {
     "data": {
      "text/html": [
       "<script>\n",
       "require([\"d3\"], function(d3) {\n",
       "    d3.select(\".usersvg #pixel_crossoHG\").attr(\"transform\", \"translate(9 16)\");\n",
       "});\n",
       "</script>\n"
      ]
     },
     "metadata": {},
     "output_type": "display_data"
    },
    {
     "data": {
      "text/html": [
       "<script>\n",
       "require([\"d3\"], function(d3) {\n",
       "    d3.select(\".usersvg #pixel_crossoHG\").attr(\"transform\", \"translate(9 17)\");\n",
       "});\n",
       "</script>\n"
      ]
     },
     "metadata": {},
     "output_type": "display_data"
    },
    {
     "data": {
      "text/html": [
       "<script>\n",
       "require([\"d3\"], function(d3) {\n",
       "    d3.select(\".usersvg #pixel_crossoHG\").attr(\"transform\", \"translate(8 17)\");\n",
       "});\n",
       "</script>\n"
      ]
     },
     "metadata": {},
     "output_type": "display_data"
    },
    {
     "data": {
      "text/html": [
       "<script>\n",
       "require([\"d3\"], function(d3) {\n",
       "    d3.select(\".usersvg #pixel_crossoHG\").attr(\"transform\", \"translate(7 17)\");\n",
       "});\n",
       "</script>\n"
      ]
     },
     "metadata": {},
     "output_type": "display_data"
    },
    {
     "data": {
      "text/html": [
       "<script>\n",
       "require([\"d3\"], function(d3) {\n",
       "    d3.select(\".usersvg #pixel_crossoHG\").attr(\"transform\", \"translate(6 17)\");\n",
       "});\n",
       "</script>\n"
      ]
     },
     "metadata": {},
     "output_type": "display_data"
    },
    {
     "data": {
      "text/html": [
       "<script>\n",
       "require([\"d3\"], function(d3) {\n",
       "    d3.select(\".usersvg #pixel_crossoHG\").attr(\"transform\", \"translate(6 17)\");\n",
       "});\n",
       "</script>\n"
      ]
     },
     "metadata": {},
     "output_type": "display_data"
    },
    {
     "data": {
      "text/html": [
       "<script>\n",
       "require([\"d3\"], function(d3) {\n",
       "    d3.select(\".usersvg #pixel_crossoHG\").attr(\"transform\", \"translate(6 16)\");\n",
       "});\n",
       "</script>\n"
      ]
     },
     "metadata": {},
     "output_type": "display_data"
    },
    {
     "data": {
      "text/html": [
       "<script>\n",
       "require([\"d3\"], function(d3) {\n",
       "    d3.select(\".usersvg #pixel_crossoHG\").attr(\"transform\", \"translate(7 16)\");\n",
       "});\n",
       "</script>\n"
      ]
     },
     "metadata": {},
     "output_type": "display_data"
    },
    {
     "data": {
      "text/html": [
       "<script>\n",
       "require([\"d3\"], function(d3) {\n",
       "    d3.select(\".usersvg #pixel_crossoHG\").attr(\"transform\", \"translate(7 15)\");\n",
       "});\n",
       "</script>\n"
      ]
     },
     "metadata": {},
     "output_type": "display_data"
    },
    {
     "data": {
      "text/html": [
       "<script>\n",
       "require([\"d3\"], function(d3) {\n",
       "    d3.select(\".usersvg #pixel_crossoHG\").attr(\"transform\", \"translate(7 16)\");\n",
       "});\n",
       "</script>\n"
      ]
     },
     "metadata": {},
     "output_type": "display_data"
    },
    {
     "data": {
      "text/html": [
       "<script>\n",
       "require([\"d3\"], function(d3) {\n",
       "    d3.select(\".usersvg #pixel_crossoHG\").attr(\"transform\", \"translate(7 17)\");\n",
       "});\n",
       "</script>\n"
      ]
     },
     "metadata": {},
     "output_type": "display_data"
    },
    {
     "data": {
      "text/html": [
       "<script>\n",
       "require([\"d3\"], function(d3) {\n",
       "    d3.select(\".usersvg #pixel_crossoHG\").attr(\"transform\", \"translate(6 17)\");\n",
       "});\n",
       "</script>\n"
      ]
     },
     "metadata": {},
     "output_type": "display_data"
    },
    {
     "data": {
      "text/html": [
       "<script>\n",
       "require([\"d3\"], function(d3) {\n",
       "    d3.select(\".usersvg #pixel_crossoHG\").attr(\"transform\", \"translate(5 17)\");\n",
       "});\n",
       "</script>\n"
      ]
     },
     "metadata": {},
     "output_type": "display_data"
    },
    {
     "data": {
      "text/html": [
       "<script>\n",
       "require([\"d3\"], function(d3) {\n",
       "    d3.select(\".usersvg #pixel_crossoHG\").attr(\"transform\", \"translate(5 17)\");\n",
       "});\n",
       "</script>\n"
      ]
     },
     "metadata": {},
     "output_type": "display_data"
    },
    {
     "data": {
      "text/html": [
       "<script>\n",
       "require([\"d3\"], function(d3) {\n",
       "    d3.select(\".usersvg #pixel_crossoHG\").attr(\"transform\", \"translate(5 16)\");\n",
       "});\n",
       "</script>\n"
      ]
     },
     "metadata": {},
     "output_type": "display_data"
    },
    {
     "data": {
      "text/html": [
       "<script>\n",
       "require([\"d3\"], function(d3) {\n",
       "    d3.select(\".usersvg #pixel_crossoHG\").attr(\"transform\", \"translate(4 16)\");\n",
       "});\n",
       "</script>\n"
      ]
     },
     "metadata": {},
     "output_type": "display_data"
    },
    {
     "data": {
      "text/html": [
       "<script>\n",
       "require([\"d3\"], function(d3) {\n",
       "    d3.select(\".usersvg #pixel_crossoHG\").attr(\"transform\", \"translate(4 17)\");\n",
       "});\n",
       "</script>\n"
      ]
     },
     "metadata": {},
     "output_type": "display_data"
    },
    {
     "data": {
      "text/html": [
       "<script>\n",
       "require([\"d3\"], function(d3) {\n",
       "    d3.select(\".usersvg #pixel_crossoHG\").attr(\"transform\", \"translate(5 17)\");\n",
       "});\n",
       "</script>\n"
      ]
     },
     "metadata": {},
     "output_type": "display_data"
    },
    {
     "data": {
      "text/html": [
       "<script>\n",
       "require([\"d3\"], function(d3) {\n",
       "    d3.select(\".usersvg #pixel_crossoHG\").attr(\"transform\", \"translate(5 16)\");\n",
       "});\n",
       "</script>\n"
      ]
     },
     "metadata": {},
     "output_type": "display_data"
    },
    {
     "data": {
      "text/html": [
       "<script>\n",
       "require([\"d3\"], function(d3) {\n",
       "    d3.select(\".usersvg #pixel_crossoHG\").attr(\"transform\", \"translate(5 15)\");\n",
       "});\n",
       "</script>\n"
      ]
     },
     "metadata": {},
     "output_type": "display_data"
    },
    {
     "data": {
      "text/html": [
       "<script>\n",
       "require([\"d3\"], function(d3) {\n",
       "    d3.select(\".usersvg #pixel_crossoHG\").attr(\"transform\", \"translate(5 16)\");\n",
       "});\n",
       "</script>\n"
      ]
     },
     "metadata": {},
     "output_type": "display_data"
    },
    {
     "data": {
      "text/html": [
       "<script>\n",
       "require([\"d3\"], function(d3) {\n",
       "    d3.select(\".usersvg #pixel_crossoHG\").attr(\"transform\", \"translate(5 17)\");\n",
       "});\n",
       "</script>\n"
      ]
     },
     "metadata": {},
     "output_type": "display_data"
    },
    {
     "data": {
      "text/html": [
       "<script>\n",
       "require([\"d3\"], function(d3) {\n",
       "    d3.select(\".usersvg #pixel_crossoHG\").attr(\"transform\", \"translate(4 17)\");\n",
       "});\n",
       "</script>\n"
      ]
     },
     "metadata": {},
     "output_type": "display_data"
    },
    {
     "data": {
      "text/html": [
       "<script>\n",
       "require([\"d3\"], function(d3) {\n",
       "    d3.select(\".usersvg #pixel_crossoHG\").attr(\"transform\", \"translate(5 17)\");\n",
       "});\n",
       "</script>\n"
      ]
     },
     "metadata": {},
     "output_type": "display_data"
    },
    {
     "data": {
      "text/html": [
       "<script>\n",
       "require([\"d3\"], function(d3) {\n",
       "    d3.select(\".usersvg #pixel_crossoHG\").attr(\"transform\", \"translate(4 17)\");\n",
       "});\n",
       "</script>\n"
      ]
     },
     "metadata": {},
     "output_type": "display_data"
    },
    {
     "data": {
      "text/html": [
       "<script>\n",
       "require([\"d3\"], function(d3) {\n",
       "    d3.select(\".usersvg #pixel_crossoHG\").attr(\"transform\", \"translate(4 16)\");\n",
       "});\n",
       "</script>\n"
      ]
     },
     "metadata": {},
     "output_type": "display_data"
    },
    {
     "data": {
      "text/html": [
       "<script>\n",
       "require([\"d3\"], function(d3) {\n",
       "    d3.select(\".usersvg #pixel_crossoHG\").attr(\"transform\", \"translate(4 15)\");\n",
       "});\n",
       "</script>\n"
      ]
     },
     "metadata": {},
     "output_type": "display_data"
    },
    {
     "data": {
      "text/html": [
       "<script>\n",
       "require([\"d3\"], function(d3) {\n",
       "    d3.select(\".usersvg #pixel_crossoHG\").attr(\"transform\", \"translate(4 14)\");\n",
       "});\n",
       "</script>\n"
      ]
     },
     "metadata": {},
     "output_type": "display_data"
    },
    {
     "data": {
      "text/html": [
       "<script>\n",
       "require([\"d3\"], function(d3) {\n",
       "    d3.select(\".usersvg #pixel_crossoHG\").attr(\"transform\", \"translate(5 14)\");\n",
       "});\n",
       "</script>\n"
      ]
     },
     "metadata": {},
     "output_type": "display_data"
    },
    {
     "data": {
      "text/html": [
       "<script>\n",
       "require([\"d3\"], function(d3) {\n",
       "    d3.select(\".usersvg #pixel_crossoHG\").attr(\"transform\", \"translate(5 13)\");\n",
       "});\n",
       "</script>\n"
      ]
     },
     "metadata": {},
     "output_type": "display_data"
    },
    {
     "data": {
      "text/html": [
       "<script>\n",
       "require([\"d3\"], function(d3) {\n",
       "    d3.select(\".usersvg #pixel_crossoHG\").attr(\"transform\", \"translate(6 13)\");\n",
       "});\n",
       "</script>\n"
      ]
     },
     "metadata": {},
     "output_type": "display_data"
    },
    {
     "data": {
      "text/html": [
       "<script>\n",
       "require([\"d3\"], function(d3) {\n",
       "    d3.select(\".usersvg #pixel_crossoHG\").attr(\"transform\", \"translate(7 13)\");\n",
       "});\n",
       "</script>\n"
      ]
     },
     "metadata": {},
     "output_type": "display_data"
    },
    {
     "data": {
      "text/html": [
       "<script>\n",
       "require([\"d3\"], function(d3) {\n",
       "    d3.select(\".usersvg #pixel_crossoHG\").attr(\"transform\", \"translate(6 13)\");\n",
       "});\n",
       "</script>\n"
      ]
     },
     "metadata": {},
     "output_type": "display_data"
    },
    {
     "data": {
      "text/html": [
       "<script>\n",
       "require([\"d3\"], function(d3) {\n",
       "    d3.select(\".usersvg #pixel_crossoHG\").attr(\"transform\", \"translate(6 12)\");\n",
       "});\n",
       "</script>\n"
      ]
     },
     "metadata": {},
     "output_type": "display_data"
    },
    {
     "data": {
      "text/html": [
       "<script>\n",
       "require([\"d3\"], function(d3) {\n",
       "    d3.select(\".usersvg #pixel_crossoHG\").attr(\"transform\", \"translate(6 13)\");\n",
       "});\n",
       "</script>\n"
      ]
     },
     "metadata": {},
     "output_type": "display_data"
    },
    {
     "data": {
      "text/html": [
       "<script>\n",
       "require([\"d3\"], function(d3) {\n",
       "    d3.select(\".usersvg #pixel_crossoHG\").attr(\"transform\", \"translate(6 14)\");\n",
       "});\n",
       "</script>\n"
      ]
     },
     "metadata": {},
     "output_type": "display_data"
    },
    {
     "data": {
      "text/html": [
       "<script>\n",
       "require([\"d3\"], function(d3) {\n",
       "    d3.select(\".usersvg #pixel_crossoHG\").attr(\"transform\", \"translate(5 14)\");\n",
       "});\n",
       "</script>\n"
      ]
     },
     "metadata": {},
     "output_type": "display_data"
    },
    {
     "data": {
      "text/html": [
       "<script>\n",
       "require([\"d3\"], function(d3) {\n",
       "    d3.select(\".usersvg #pixel_crossoHG\").attr(\"transform\", \"translate(4 14)\");\n",
       "});\n",
       "</script>\n"
      ]
     },
     "metadata": {},
     "output_type": "display_data"
    },
    {
     "data": {
      "text/html": [
       "<script>\n",
       "require([\"d3\"], function(d3) {\n",
       "    d3.select(\".usersvg #pixel_crossoHG\").attr(\"transform\", \"translate(4 15)\");\n",
       "});\n",
       "</script>\n"
      ]
     },
     "metadata": {},
     "output_type": "display_data"
    },
    {
     "data": {
      "text/html": [
       "<script>\n",
       "require([\"d3\"], function(d3) {\n",
       "    d3.select(\".usersvg #pixel_crossoHG\").attr(\"transform\", \"translate(4 16)\");\n",
       "});\n",
       "</script>\n"
      ]
     },
     "metadata": {},
     "output_type": "display_data"
    },
    {
     "data": {
      "text/html": [
       "<script>\n",
       "require([\"d3\"], function(d3) {\n",
       "    d3.select(\".usersvg #pixel_crossoHG\").attr(\"transform\", \"translate(3 16)\");\n",
       "});\n",
       "</script>\n"
      ]
     },
     "metadata": {},
     "output_type": "display_data"
    },
    {
     "data": {
      "text/html": [
       "<script>\n",
       "require([\"d3\"], function(d3) {\n",
       "    d3.select(\".usersvg #pixel_crossoHG\").attr(\"transform\", \"translate(3 15)\");\n",
       "});\n",
       "</script>\n"
      ]
     },
     "metadata": {},
     "output_type": "display_data"
    },
    {
     "data": {
      "text/html": [
       "<script>\n",
       "require([\"d3\"], function(d3) {\n",
       "    d3.select(\".usersvg #pixel_crossoHG\").attr(\"transform\", \"translate(2 15)\");\n",
       "});\n",
       "</script>\n"
      ]
     },
     "metadata": {},
     "output_type": "display_data"
    },
    {
     "data": {
      "text/html": [
       "<script>\n",
       "require([\"d3\"], function(d3) {\n",
       "    d3.select(\".usersvg #pixel_crossoHG\").attr(\"transform\", \"translate(1 15)\");\n",
       "});\n",
       "</script>\n"
      ]
     },
     "metadata": {},
     "output_type": "display_data"
    },
    {
     "data": {
      "text/html": [
       "<script>\n",
       "require([\"d3\"], function(d3) {\n",
       "    d3.select(\".usersvg #pixel_crossoHG\").attr(\"transform\", \"translate(1 14)\");\n",
       "});\n",
       "</script>\n"
      ]
     },
     "metadata": {},
     "output_type": "display_data"
    },
    {
     "data": {
      "text/html": [
       "<script>\n",
       "require([\"d3\"], function(d3) {\n",
       "    d3.select(\".usersvg #pixel_crossoHG\").attr(\"transform\", \"translate(1 15)\");\n",
       "});\n",
       "</script>\n"
      ]
     },
     "metadata": {},
     "output_type": "display_data"
    },
    {
     "data": {
      "text/html": [
       "<script>\n",
       "require([\"d3\"], function(d3) {\n",
       "    d3.select(\".usersvg #pixel_crossoHG\").attr(\"transform\", \"translate(1 16)\");\n",
       "});\n",
       "</script>\n"
      ]
     },
     "metadata": {},
     "output_type": "display_data"
    },
    {
     "data": {
      "text/html": [
       "<script>\n",
       "require([\"d3\"], function(d3) {\n",
       "    d3.select(\".usersvg #pixel_crossoHG\").attr(\"transform\", \"translate(1 17)\");\n",
       "});\n",
       "</script>\n"
      ]
     },
     "metadata": {},
     "output_type": "display_data"
    },
    {
     "data": {
      "text/html": [
       "<script>\n",
       "require([\"d3\"], function(d3) {\n",
       "    d3.select(\".usersvg #pixel_crossoHG\").attr(\"transform\", \"translate(1 17)\");\n",
       "});\n",
       "</script>\n"
      ]
     },
     "metadata": {},
     "output_type": "display_data"
    },
    {
     "data": {
      "text/html": [
       "<script>\n",
       "require([\"d3\"], function(d3) {\n",
       "    d3.select(\".usersvg #pixel_crossoHG\").attr(\"transform\", \"translate(0 17)\");\n",
       "});\n",
       "</script>\n"
      ]
     },
     "metadata": {},
     "output_type": "display_data"
    },
    {
     "data": {
      "text/html": [
       "<script>\n",
       "require([\"d3\"], function(d3) {\n",
       "    d3.select(\".usersvg #pixel_crossoHG\").attr(\"transform\", \"translate(0 16)\");\n",
       "});\n",
       "</script>\n"
      ]
     },
     "metadata": {},
     "output_type": "display_data"
    },
    {
     "data": {
      "text/html": [
       "<script>\n",
       "require([\"d3\"], function(d3) {\n",
       "    d3.select(\".usersvg #pixel_crossoHG\").attr(\"transform\", \"translate(0 16)\");\n",
       "});\n",
       "</script>\n"
      ]
     },
     "metadata": {},
     "output_type": "display_data"
    },
    {
     "data": {
      "text/html": [
       "<script>\n",
       "require([\"d3\"], function(d3) {\n",
       "    d3.select(\".usersvg #pixel_crossoHG\").attr(\"transform\", \"translate(0 15)\");\n",
       "});\n",
       "</script>\n"
      ]
     },
     "metadata": {},
     "output_type": "display_data"
    },
    {
     "data": {
      "text/html": [
       "<script>\n",
       "require([\"d3\"], function(d3) {\n",
       "    d3.select(\".usersvg #pixel_crossoHG\").attr(\"transform\", \"translate(0 16)\");\n",
       "});\n",
       "</script>\n"
      ]
     },
     "metadata": {},
     "output_type": "display_data"
    },
    {
     "data": {
      "text/html": [
       "<script>\n",
       "require([\"d3\"], function(d3) {\n",
       "    d3.select(\".usersvg #pixel_crossoHG\").attr(\"transform\", \"translate(0 17)\");\n",
       "});\n",
       "</script>\n"
      ]
     },
     "metadata": {},
     "output_type": "display_data"
    },
    {
     "data": {
      "text/html": [
       "<script>\n",
       "require([\"d3\"], function(d3) {\n",
       "    d3.select(\".usersvg #pixel_crossoHG\").attr(\"transform\", \"translate(1 17)\");\n",
       "});\n",
       "</script>\n"
      ]
     },
     "metadata": {},
     "output_type": "display_data"
    },
    {
     "data": {
      "text/html": [
       "<script>\n",
       "require([\"d3\"], function(d3) {\n",
       "    d3.select(\".usersvg #pixel_crossoHG\").attr(\"transform\", \"translate(1 16)\");\n",
       "});\n",
       "</script>\n"
      ]
     },
     "metadata": {},
     "output_type": "display_data"
    },
    {
     "data": {
      "text/html": [
       "<script>\n",
       "require([\"d3\"], function(d3) {\n",
       "    d3.select(\".usersvg #pixel_crossoHG\").attr(\"transform\", \"translate(1 15)\");\n",
       "});\n",
       "</script>\n"
      ]
     },
     "metadata": {},
     "output_type": "display_data"
    },
    {
     "data": {
      "text/html": [
       "<script>\n",
       "require([\"d3\"], function(d3) {\n",
       "    d3.select(\".usersvg #pixel_crossoHG\").attr(\"transform\", \"translate(0 15)\");\n",
       "});\n",
       "</script>\n"
      ]
     },
     "metadata": {},
     "output_type": "display_data"
    },
    {
     "data": {
      "text/html": [
       "<script>\n",
       "require([\"d3\"], function(d3) {\n",
       "    d3.select(\".usersvg #pixel_crossoHG\").attr(\"transform\", \"translate(0 16)\");\n",
       "});\n",
       "</script>\n"
      ]
     },
     "metadata": {},
     "output_type": "display_data"
    },
    {
     "data": {
      "text/html": [
       "<script>\n",
       "require([\"d3\"], function(d3) {\n",
       "    d3.select(\".usersvg #pixel_crossoHG\").attr(\"transform\", \"translate(1 16)\");\n",
       "});\n",
       "</script>\n"
      ]
     },
     "metadata": {},
     "output_type": "display_data"
    },
    {
     "data": {
      "text/html": [
       "<script>\n",
       "require([\"d3\"], function(d3) {\n",
       "    d3.select(\".usersvg #pixel_crossoHG\").attr(\"transform\", \"translate(2 16)\");\n",
       "});\n",
       "</script>\n"
      ]
     },
     "metadata": {},
     "output_type": "display_data"
    },
    {
     "data": {
      "text/html": [
       "<script>\n",
       "require([\"d3\"], function(d3) {\n",
       "    d3.select(\".usersvg #pixel_crossoHG\").attr(\"transform\", \"translate(3 16)\");\n",
       "});\n",
       "</script>\n"
      ]
     },
     "metadata": {},
     "output_type": "display_data"
    },
    {
     "data": {
      "text/html": [
       "<script>\n",
       "require([\"d3\"], function(d3) {\n",
       "    d3.select(\".usersvg #pixel_crossoHG\").attr(\"transform\", \"translate(3 17)\");\n",
       "});\n",
       "</script>\n"
      ]
     },
     "metadata": {},
     "output_type": "display_data"
    },
    {
     "data": {
      "text/html": [
       "<script>\n",
       "require([\"d3\"], function(d3) {\n",
       "    d3.select(\".usersvg #pixel_crossoHG\").attr(\"transform\", \"translate(4 17)\");\n",
       "});\n",
       "</script>\n"
      ]
     },
     "metadata": {},
     "output_type": "display_data"
    },
    {
     "data": {
      "text/html": [
       "<script>\n",
       "require([\"d3\"], function(d3) {\n",
       "    d3.select(\".usersvg #pixel_crossoHG\").attr(\"transform\", \"translate(4 16)\");\n",
       "});\n",
       "</script>\n"
      ]
     },
     "metadata": {},
     "output_type": "display_data"
    },
    {
     "data": {
      "text/html": [
       "<script>\n",
       "require([\"d3\"], function(d3) {\n",
       "    d3.select(\".usersvg #pixel_crossoHG\").attr(\"transform\", \"translate(5 16)\");\n",
       "});\n",
       "</script>\n"
      ]
     },
     "metadata": {},
     "output_type": "display_data"
    },
    {
     "data": {
      "text/html": [
       "<script>\n",
       "require([\"d3\"], function(d3) {\n",
       "    d3.select(\".usersvg #pixel_crossoHG\").attr(\"transform\", \"translate(5 17)\");\n",
       "});\n",
       "</script>\n"
      ]
     },
     "metadata": {},
     "output_type": "display_data"
    },
    {
     "data": {
      "text/html": [
       "<script>\n",
       "require([\"d3\"], function(d3) {\n",
       "    d3.select(\".usersvg #pixel_crossoHG\").attr(\"transform\", \"translate(6 17)\");\n",
       "});\n",
       "</script>\n"
      ]
     },
     "metadata": {},
     "output_type": "display_data"
    },
    {
     "data": {
      "text/html": [
       "<script>\n",
       "require([\"d3\"], function(d3) {\n",
       "    d3.select(\".usersvg #pixel_crossoHG\").attr(\"transform\", \"translate(5 17)\");\n",
       "});\n",
       "</script>\n"
      ]
     },
     "metadata": {},
     "output_type": "display_data"
    },
    {
     "data": {
      "text/html": [
       "<script>\n",
       "require([\"d3\"], function(d3) {\n",
       "    d3.select(\".usersvg #pixel_crossoHG\").attr(\"transform\", \"translate(6 17)\");\n",
       "});\n",
       "</script>\n"
      ]
     },
     "metadata": {},
     "output_type": "display_data"
    },
    {
     "data": {
      "text/html": [
       "<script>\n",
       "require([\"d3\"], function(d3) {\n",
       "    d3.select(\".usersvg #pixel_crossoHG\").attr(\"transform\", \"translate(5 17)\");\n",
       "});\n",
       "</script>\n"
      ]
     },
     "metadata": {},
     "output_type": "display_data"
    },
    {
     "data": {
      "text/html": [
       "<script>\n",
       "require([\"d3\"], function(d3) {\n",
       "    d3.select(\".usersvg #pixel_crossoHG\").attr(\"transform\", \"translate(5 16)\");\n",
       "});\n",
       "</script>\n"
      ]
     },
     "metadata": {},
     "output_type": "display_data"
    },
    {
     "data": {
      "text/html": [
       "<script>\n",
       "require([\"d3\"], function(d3) {\n",
       "    d3.select(\".usersvg #pixel_crossoHG\").attr(\"transform\", \"translate(6 16)\");\n",
       "});\n",
       "</script>\n"
      ]
     },
     "metadata": {},
     "output_type": "display_data"
    },
    {
     "data": {
      "text/html": [
       "<script>\n",
       "require([\"d3\"], function(d3) {\n",
       "    d3.select(\".usersvg #pixel_crossoHG\").attr(\"transform\", \"translate(5 16)\");\n",
       "});\n",
       "</script>\n"
      ]
     },
     "metadata": {},
     "output_type": "display_data"
    },
    {
     "data": {
      "text/html": [
       "<script>\n",
       "require([\"d3\"], function(d3) {\n",
       "    d3.select(\".usersvg #pixel_crossoHG\").attr(\"transform\", \"translate(4 16)\");\n",
       "});\n",
       "</script>\n"
      ]
     },
     "metadata": {},
     "output_type": "display_data"
    },
    {
     "data": {
      "text/html": [
       "<script>\n",
       "require([\"d3\"], function(d3) {\n",
       "    d3.select(\".usersvg #pixel_crossoHG\").attr(\"transform\", \"translate(5 16)\");\n",
       "});\n",
       "</script>\n"
      ]
     },
     "metadata": {},
     "output_type": "display_data"
    },
    {
     "data": {
      "text/html": [
       "<script>\n",
       "require([\"d3\"], function(d3) {\n",
       "    d3.select(\".usersvg #pixel_crossoHG\").attr(\"transform\", \"translate(4 16)\");\n",
       "});\n",
       "</script>\n"
      ]
     },
     "metadata": {},
     "output_type": "display_data"
    },
    {
     "data": {
      "text/html": [
       "<script>\n",
       "require([\"d3\"], function(d3) {\n",
       "    d3.select(\".usersvg #pixel_crossoHG\").attr(\"transform\", \"translate(3 16)\");\n",
       "});\n",
       "</script>\n"
      ]
     },
     "metadata": {},
     "output_type": "display_data"
    },
    {
     "data": {
      "text/html": [
       "<script>\n",
       "require([\"d3\"], function(d3) {\n",
       "    d3.select(\".usersvg #pixel_crossoHG\").attr(\"transform\", \"translate(4 16)\");\n",
       "});\n",
       "</script>\n"
      ]
     },
     "metadata": {},
     "output_type": "display_data"
    },
    {
     "data": {
      "text/html": [
       "<script>\n",
       "require([\"d3\"], function(d3) {\n",
       "    d3.select(\".usersvg #pixel_crossoHG\").attr(\"transform\", \"translate(5 16)\");\n",
       "});\n",
       "</script>\n"
      ]
     },
     "metadata": {},
     "output_type": "display_data"
    },
    {
     "data": {
      "text/html": [
       "<script>\n",
       "require([\"d3\"], function(d3) {\n",
       "    d3.select(\".usersvg #pixel_crossoHG\").attr(\"transform\", \"translate(5 17)\");\n",
       "});\n",
       "</script>\n"
      ]
     },
     "metadata": {},
     "output_type": "display_data"
    },
    {
     "data": {
      "text/html": [
       "<script>\n",
       "require([\"d3\"], function(d3) {\n",
       "    d3.select(\".usersvg #pixel_crossoHG\").attr(\"transform\", \"translate(5 17)\");\n",
       "});\n",
       "</script>\n"
      ]
     },
     "metadata": {},
     "output_type": "display_data"
    },
    {
     "data": {
      "text/html": [
       "<script>\n",
       "require([\"d3\"], function(d3) {\n",
       "    d3.select(\".usersvg #pixel_crossoHG\").attr(\"transform\", \"translate(6 17)\");\n",
       "});\n",
       "</script>\n"
      ]
     },
     "metadata": {},
     "output_type": "display_data"
    },
    {
     "data": {
      "text/html": [
       "<script>\n",
       "require([\"d3\"], function(d3) {\n",
       "    d3.select(\".usersvg #pixel_crossoHG\").attr(\"transform\", \"translate(6 17)\");\n",
       "});\n",
       "</script>\n"
      ]
     },
     "metadata": {},
     "output_type": "display_data"
    },
    {
     "data": {
      "text/html": [
       "<script>\n",
       "require([\"d3\"], function(d3) {\n",
       "    d3.select(\".usersvg #pixel_crossoHG\").attr(\"transform\", \"translate(6 16)\");\n",
       "});\n",
       "</script>\n"
      ]
     },
     "metadata": {},
     "output_type": "display_data"
    },
    {
     "data": {
      "text/html": [
       "<script>\n",
       "require([\"d3\"], function(d3) {\n",
       "    d3.select(\".usersvg #pixel_crossoHG\").attr(\"transform\", \"translate(6 15)\");\n",
       "});\n",
       "</script>\n"
      ]
     },
     "metadata": {},
     "output_type": "display_data"
    },
    {
     "data": {
      "text/html": [
       "<script>\n",
       "require([\"d3\"], function(d3) {\n",
       "    d3.select(\".usersvg #pixel_crossoHG\").attr(\"transform\", \"translate(5 15)\");\n",
       "});\n",
       "</script>\n"
      ]
     },
     "metadata": {},
     "output_type": "display_data"
    },
    {
     "data": {
      "text/html": [
       "<script>\n",
       "require([\"d3\"], function(d3) {\n",
       "    d3.select(\".usersvg #pixel_crossoHG\").attr(\"transform\", \"translate(5 14)\");\n",
       "});\n",
       "</script>\n"
      ]
     },
     "metadata": {},
     "output_type": "display_data"
    },
    {
     "data": {
      "text/html": [
       "<script>\n",
       "require([\"d3\"], function(d3) {\n",
       "    d3.select(\".usersvg #pixel_crossoHG\").attr(\"transform\", \"translate(6 14)\");\n",
       "});\n",
       "</script>\n"
      ]
     },
     "metadata": {},
     "output_type": "display_data"
    },
    {
     "data": {
      "text/html": [
       "<script>\n",
       "require([\"d3\"], function(d3) {\n",
       "    d3.select(\".usersvg #pixel_crossoHG\").attr(\"transform\", \"translate(6 15)\");\n",
       "});\n",
       "</script>\n"
      ]
     },
     "metadata": {},
     "output_type": "display_data"
    },
    {
     "data": {
      "text/html": [
       "<script>\n",
       "require([\"d3\"], function(d3) {\n",
       "    d3.select(\".usersvg #pixel_crossoHG\").attr(\"transform\", \"translate(6 16)\");\n",
       "});\n",
       "</script>\n"
      ]
     },
     "metadata": {},
     "output_type": "display_data"
    },
    {
     "data": {
      "text/html": [
       "<script>\n",
       "require([\"d3\"], function(d3) {\n",
       "    d3.select(\".usersvg #pixel_crossoHG\").attr(\"transform\", \"translate(6 17)\");\n",
       "});\n",
       "</script>\n"
      ]
     },
     "metadata": {},
     "output_type": "display_data"
    },
    {
     "data": {
      "text/html": [
       "<script>\n",
       "require([\"d3\"], function(d3) {\n",
       "    d3.select(\".usersvg #pixel_crossoHG\").attr(\"transform\", \"translate(7 17)\");\n",
       "});\n",
       "</script>\n"
      ]
     },
     "metadata": {},
     "output_type": "display_data"
    },
    {
     "data": {
      "text/html": [
       "<script>\n",
       "require([\"d3\"], function(d3) {\n",
       "    d3.select(\".usersvg #pixel_crossoHG\").attr(\"transform\", \"translate(8 17)\");\n",
       "});\n",
       "</script>\n"
      ]
     },
     "metadata": {},
     "output_type": "display_data"
    },
    {
     "data": {
      "text/html": [
       "<script>\n",
       "require([\"d3\"], function(d3) {\n",
       "    d3.select(\".usersvg #pixel_crossoHG\").attr(\"transform\", \"translate(8 16)\");\n",
       "});\n",
       "</script>\n"
      ]
     },
     "metadata": {},
     "output_type": "display_data"
    },
    {
     "data": {
      "text/html": [
       "<script>\n",
       "require([\"d3\"], function(d3) {\n",
       "    d3.select(\".usersvg #pixel_crossoHG\").attr(\"transform\", \"translate(7 16)\");\n",
       "});\n",
       "</script>\n"
      ]
     },
     "metadata": {},
     "output_type": "display_data"
    },
    {
     "data": {
      "text/html": [
       "<script>\n",
       "require([\"d3\"], function(d3) {\n",
       "    d3.select(\".usersvg #pixel_crossoHG\").attr(\"transform\", \"translate(8 16)\");\n",
       "});\n",
       "</script>\n"
      ]
     },
     "metadata": {},
     "output_type": "display_data"
    },
    {
     "data": {
      "text/html": [
       "<script>\n",
       "require([\"d3\"], function(d3) {\n",
       "    d3.select(\".usersvg #pixel_crossoHG\").attr(\"transform\", \"translate(7 16)\");\n",
       "});\n",
       "</script>\n"
      ]
     },
     "metadata": {},
     "output_type": "display_data"
    },
    {
     "data": {
      "text/html": [
       "<script>\n",
       "require([\"d3\"], function(d3) {\n",
       "    d3.select(\".usersvg #pixel_crossoHG\").attr(\"transform\", \"translate(7 17)\");\n",
       "});\n",
       "</script>\n"
      ]
     },
     "metadata": {},
     "output_type": "display_data"
    },
    {
     "data": {
      "text/html": [
       "<script>\n",
       "require([\"d3\"], function(d3) {\n",
       "    d3.select(\".usersvg #pixel_crossoHG\").attr(\"transform\", \"translate(7 16)\");\n",
       "});\n",
       "</script>\n"
      ]
     },
     "metadata": {},
     "output_type": "display_data"
    },
    {
     "data": {
      "text/html": [
       "<script>\n",
       "require([\"d3\"], function(d3) {\n",
       "    d3.select(\".usersvg #pixel_crossoHG\").attr(\"transform\", \"translate(7 17)\");\n",
       "});\n",
       "</script>\n"
      ]
     },
     "metadata": {},
     "output_type": "display_data"
    },
    {
     "data": {
      "text/html": [
       "<script>\n",
       "require([\"d3\"], function(d3) {\n",
       "    d3.select(\".usersvg #pixel_crossoHG\").attr(\"transform\", \"translate(7 16)\");\n",
       "});\n",
       "</script>\n"
      ]
     },
     "metadata": {},
     "output_type": "display_data"
    },
    {
     "data": {
      "text/html": [
       "<script>\n",
       "require([\"d3\"], function(d3) {\n",
       "    d3.select(\".usersvg #pixel_crossoHG\").attr(\"transform\", \"translate(7 17)\");\n",
       "});\n",
       "</script>\n"
      ]
     },
     "metadata": {},
     "output_type": "display_data"
    },
    {
     "data": {
      "text/html": [
       "<script>\n",
       "require([\"d3\"], function(d3) {\n",
       "    d3.select(\".usersvg #pixel_crossoHG\").attr(\"transform\", \"translate(8 17)\");\n",
       "});\n",
       "</script>\n"
      ]
     },
     "metadata": {},
     "output_type": "display_data"
    },
    {
     "data": {
      "text/html": [
       "<script>\n",
       "require([\"d3\"], function(d3) {\n",
       "    d3.select(\".usersvg #pixel_crossoHG\").attr(\"transform\", \"translate(9 17)\");\n",
       "});\n",
       "</script>\n"
      ]
     },
     "metadata": {},
     "output_type": "display_data"
    },
    {
     "data": {
      "text/html": [
       "<script>\n",
       "require([\"d3\"], function(d3) {\n",
       "    d3.select(\".usersvg #pixel_crossoHG\").attr(\"transform\", \"translate(8 17)\");\n",
       "});\n",
       "</script>\n"
      ]
     },
     "metadata": {},
     "output_type": "display_data"
    },
    {
     "data": {
      "text/html": [
       "<script>\n",
       "require([\"d3\"], function(d3) {\n",
       "    d3.select(\".usersvg #pixel_crossoHG\").attr(\"transform\", \"translate(9 17)\");\n",
       "});\n",
       "</script>\n"
      ]
     },
     "metadata": {},
     "output_type": "display_data"
    },
    {
     "data": {
      "text/html": [
       "<script>\n",
       "require([\"d3\"], function(d3) {\n",
       "    d3.select(\".usersvg #pixel_crossoHG\").attr(\"transform\", \"translate(10 17)\");\n",
       "});\n",
       "</script>\n"
      ]
     },
     "metadata": {},
     "output_type": "display_data"
    },
    {
     "data": {
      "text/html": [
       "<script>\n",
       "require([\"d3\"], function(d3) {\n",
       "    d3.select(\".usersvg #pixel_crossoHG\").attr(\"transform\", \"translate(9 17)\");\n",
       "});\n",
       "</script>\n"
      ]
     },
     "metadata": {},
     "output_type": "display_data"
    },
    {
     "data": {
      "text/html": [
       "<script>\n",
       "require([\"d3\"], function(d3) {\n",
       "    d3.select(\".usersvg #pixel_crossoHG\").attr(\"transform\", \"translate(9 16)\");\n",
       "});\n",
       "</script>\n"
      ]
     },
     "metadata": {},
     "output_type": "display_data"
    },
    {
     "data": {
      "text/html": [
       "<script>\n",
       "require([\"d3\"], function(d3) {\n",
       "    d3.select(\".usersvg #pixel_crossoHG\").attr(\"transform\", \"translate(10 16)\");\n",
       "});\n",
       "</script>\n"
      ]
     },
     "metadata": {},
     "output_type": "display_data"
    },
    {
     "data": {
      "text/html": [
       "<script>\n",
       "require([\"d3\"], function(d3) {\n",
       "    d3.select(\".usersvg #pixel_crossoHG\").attr(\"transform\", \"translate(9 16)\");\n",
       "});\n",
       "</script>\n"
      ]
     },
     "metadata": {},
     "output_type": "display_data"
    },
    {
     "data": {
      "text/html": [
       "<script>\n",
       "require([\"d3\"], function(d3) {\n",
       "    d3.select(\".usersvg #pixel_crossoHG\").attr(\"transform\", \"translate(8 16)\");\n",
       "});\n",
       "</script>\n"
      ]
     },
     "metadata": {},
     "output_type": "display_data"
    },
    {
     "data": {
      "text/html": [
       "<script>\n",
       "require([\"d3\"], function(d3) {\n",
       "    d3.select(\".usersvg #pixel_crossoHG\").attr(\"transform\", \"translate(8 17)\");\n",
       "});\n",
       "</script>\n"
      ]
     },
     "metadata": {},
     "output_type": "display_data"
    },
    {
     "data": {
      "text/html": [
       "<script>\n",
       "require([\"d3\"], function(d3) {\n",
       "    d3.select(\".usersvg #pixel_crossoHG\").attr(\"transform\", \"translate(8 16)\");\n",
       "});\n",
       "</script>\n"
      ]
     },
     "metadata": {},
     "output_type": "display_data"
    },
    {
     "data": {
      "text/html": [
       "<script>\n",
       "require([\"d3\"], function(d3) {\n",
       "    d3.select(\".usersvg #pixel_crossoHG\").attr(\"transform\", \"translate(9 16)\");\n",
       "});\n",
       "</script>\n"
      ]
     },
     "metadata": {},
     "output_type": "display_data"
    },
    {
     "data": {
      "text/html": [
       "<script>\n",
       "require([\"d3\"], function(d3) {\n",
       "    d3.select(\".usersvg #pixel_crossoHG\").attr(\"transform\", \"translate(8 16)\");\n",
       "});\n",
       "</script>\n"
      ]
     },
     "metadata": {},
     "output_type": "display_data"
    },
    {
     "data": {
      "text/html": [
       "<script>\n",
       "require([\"d3\"], function(d3) {\n",
       "    d3.select(\".usersvg #pixel_crossoHG\").attr(\"transform\", \"translate(9 16)\");\n",
       "});\n",
       "</script>\n"
      ]
     },
     "metadata": {},
     "output_type": "display_data"
    },
    {
     "data": {
      "text/html": [
       "<script>\n",
       "require([\"d3\"], function(d3) {\n",
       "    d3.select(\".usersvg #pixel_crossoHG\").attr(\"transform\", \"translate(9 17)\");\n",
       "});\n",
       "</script>\n"
      ]
     },
     "metadata": {},
     "output_type": "display_data"
    },
    {
     "data": {
      "text/html": [
       "<script>\n",
       "require([\"d3\"], function(d3) {\n",
       "    d3.select(\".usersvg #pixel_crossoHG\").attr(\"transform\", \"translate(9 16)\");\n",
       "});\n",
       "</script>\n"
      ]
     },
     "metadata": {},
     "output_type": "display_data"
    },
    {
     "data": {
      "text/html": [
       "<script>\n",
       "require([\"d3\"], function(d3) {\n",
       "    d3.select(\".usersvg #pixel_crossoHG\").attr(\"transform\", \"translate(8 16)\");\n",
       "});\n",
       "</script>\n"
      ]
     },
     "metadata": {},
     "output_type": "display_data"
    },
    {
     "data": {
      "text/html": [
       "<script>\n",
       "require([\"d3\"], function(d3) {\n",
       "    d3.select(\".usersvg #pixel_crossoHG\").attr(\"transform\", \"translate(9 16)\");\n",
       "});\n",
       "</script>\n"
      ]
     },
     "metadata": {},
     "output_type": "display_data"
    },
    {
     "data": {
      "text/html": [
       "<script>\n",
       "require([\"d3\"], function(d3) {\n",
       "    d3.select(\".usersvg #pixel_crossoHG\").attr(\"transform\", \"translate(10 16)\");\n",
       "});\n",
       "</script>\n"
      ]
     },
     "metadata": {},
     "output_type": "display_data"
    },
    {
     "data": {
      "text/html": [
       "<script>\n",
       "require([\"d3\"], function(d3) {\n",
       "    d3.select(\".usersvg #pixel_crossoHG\").attr(\"transform\", \"translate(10 17)\");\n",
       "});\n",
       "</script>\n"
      ]
     },
     "metadata": {},
     "output_type": "display_data"
    },
    {
     "data": {
      "text/html": [
       "<script>\n",
       "require([\"d3\"], function(d3) {\n",
       "    d3.select(\".usersvg #pixel_crossoHG\").attr(\"transform\", \"translate(11 17)\");\n",
       "});\n",
       "</script>\n"
      ]
     },
     "metadata": {},
     "output_type": "display_data"
    },
    {
     "data": {
      "text/html": [
       "<script>\n",
       "require([\"d3\"], function(d3) {\n",
       "    d3.select(\".usersvg #pixel_crossoHG\").attr(\"transform\", \"translate(11 16)\");\n",
       "});\n",
       "</script>\n"
      ]
     },
     "metadata": {},
     "output_type": "display_data"
    },
    {
     "data": {
      "text/html": [
       "<script>\n",
       "require([\"d3\"], function(d3) {\n",
       "    d3.select(\".usersvg #pixel_crossoHG\").attr(\"transform\", \"translate(11 17)\");\n",
       "});\n",
       "</script>\n"
      ]
     },
     "metadata": {},
     "output_type": "display_data"
    },
    {
     "data": {
      "text/html": [
       "<script>\n",
       "require([\"d3\"], function(d3) {\n",
       "    d3.select(\".usersvg #pixel_crossoHG\").attr(\"transform\", \"translate(10 17)\");\n",
       "});\n",
       "</script>\n"
      ]
     },
     "metadata": {},
     "output_type": "display_data"
    },
    {
     "data": {
      "text/html": [
       "<script>\n",
       "require([\"d3\"], function(d3) {\n",
       "    d3.select(\".usersvg #pixel_crossoHG\").attr(\"transform\", \"translate(10 16)\");\n",
       "});\n",
       "</script>\n"
      ]
     },
     "metadata": {},
     "output_type": "display_data"
    },
    {
     "data": {
      "text/html": [
       "<script>\n",
       "require([\"d3\"], function(d3) {\n",
       "    d3.select(\".usersvg #pixel_crossoHG\").attr(\"transform\", \"translate(9 16)\");\n",
       "});\n",
       "</script>\n"
      ]
     },
     "metadata": {},
     "output_type": "display_data"
    },
    {
     "data": {
      "text/html": [
       "<script>\n",
       "require([\"d3\"], function(d3) {\n",
       "    d3.select(\".usersvg #pixel_crossoHG\").attr(\"transform\", \"translate(9 17)\");\n",
       "});\n",
       "</script>\n"
      ]
     },
     "metadata": {},
     "output_type": "display_data"
    },
    {
     "data": {
      "text/html": [
       "<script>\n",
       "require([\"d3\"], function(d3) {\n",
       "    d3.select(\".usersvg #pixel_crossoHG\").attr(\"transform\", \"translate(10 17)\");\n",
       "});\n",
       "</script>\n"
      ]
     },
     "metadata": {},
     "output_type": "display_data"
    },
    {
     "data": {
      "text/html": [
       "<script>\n",
       "require([\"d3\"], function(d3) {\n",
       "    d3.select(\".usersvg #pixel_crossoHG\").attr(\"transform\", \"translate(10 16)\");\n",
       "});\n",
       "</script>\n"
      ]
     },
     "metadata": {},
     "output_type": "display_data"
    },
    {
     "data": {
      "text/html": [
       "<script>\n",
       "require([\"d3\"], function(d3) {\n",
       "    d3.select(\".usersvg #pixel_crossoHG\").attr(\"transform\", \"translate(10 15)\");\n",
       "});\n",
       "</script>\n"
      ]
     },
     "metadata": {},
     "output_type": "display_data"
    },
    {
     "data": {
      "text/html": [
       "<script>\n",
       "require([\"d3\"], function(d3) {\n",
       "    d3.select(\".usersvg #pixel_crossoHG\").attr(\"transform\", \"translate(10 16)\");\n",
       "});\n",
       "</script>\n"
      ]
     },
     "metadata": {},
     "output_type": "display_data"
    },
    {
     "data": {
      "text/html": [
       "<script>\n",
       "require([\"d3\"], function(d3) {\n",
       "    d3.select(\".usersvg #pixel_crossoHG\").attr(\"transform\", \"translate(10 15)\");\n",
       "});\n",
       "</script>\n"
      ]
     },
     "metadata": {},
     "output_type": "display_data"
    },
    {
     "data": {
      "text/html": [
       "<script>\n",
       "require([\"d3\"], function(d3) {\n",
       "    d3.select(\".usersvg #pixel_crossoHG\").attr(\"transform\", \"translate(11 15)\");\n",
       "});\n",
       "</script>\n"
      ]
     },
     "metadata": {},
     "output_type": "display_data"
    },
    {
     "data": {
      "text/html": [
       "<script>\n",
       "require([\"d3\"], function(d3) {\n",
       "    d3.select(\".usersvg #pixel_crossoHG\").attr(\"transform\", \"translate(10 15)\");\n",
       "});\n",
       "</script>\n"
      ]
     },
     "metadata": {},
     "output_type": "display_data"
    },
    {
     "data": {
      "text/html": [
       "<script>\n",
       "require([\"d3\"], function(d3) {\n",
       "    d3.select(\".usersvg #pixel_crossoHG\").attr(\"transform\", \"translate(9 15)\");\n",
       "});\n",
       "</script>\n"
      ]
     },
     "metadata": {},
     "output_type": "display_data"
    },
    {
     "data": {
      "text/html": [
       "<script>\n",
       "require([\"d3\"], function(d3) {\n",
       "    d3.select(\".usersvg #pixel_crossoHG\").attr(\"transform\", \"translate(9 14)\");\n",
       "});\n",
       "</script>\n"
      ]
     },
     "metadata": {},
     "output_type": "display_data"
    },
    {
     "data": {
      "text/html": [
       "<script>\n",
       "require([\"d3\"], function(d3) {\n",
       "    d3.select(\".usersvg #pixel_crossoHG\").attr(\"transform\", \"translate(9 13)\");\n",
       "});\n",
       "</script>\n"
      ]
     },
     "metadata": {},
     "output_type": "display_data"
    },
    {
     "data": {
      "text/html": [
       "<script>\n",
       "require([\"d3\"], function(d3) {\n",
       "    d3.select(\".usersvg #pixel_crossoHG\").attr(\"transform\", \"translate(9 14)\");\n",
       "});\n",
       "</script>\n"
      ]
     },
     "metadata": {},
     "output_type": "display_data"
    },
    {
     "data": {
      "text/html": [
       "<script>\n",
       "require([\"d3\"], function(d3) {\n",
       "    d3.select(\".usersvg #pixel_crossoHG\").attr(\"transform\", \"translate(10 14)\");\n",
       "});\n",
       "</script>\n"
      ]
     },
     "metadata": {},
     "output_type": "display_data"
    },
    {
     "data": {
      "text/html": [
       "<script>\n",
       "require([\"d3\"], function(d3) {\n",
       "    d3.select(\".usersvg #pixel_crossoHG\").attr(\"transform\", \"translate(10 15)\");\n",
       "});\n",
       "</script>\n"
      ]
     },
     "metadata": {},
     "output_type": "display_data"
    },
    {
     "data": {
      "text/html": [
       "<script>\n",
       "require([\"d3\"], function(d3) {\n",
       "    d3.select(\".usersvg #pixel_crossoHG\").attr(\"transform\", \"translate(10 16)\");\n",
       "});\n",
       "</script>\n"
      ]
     },
     "metadata": {},
     "output_type": "display_data"
    },
    {
     "data": {
      "text/html": [
       "<script>\n",
       "require([\"d3\"], function(d3) {\n",
       "    d3.select(\".usersvg #pixel_crossoHG\").attr(\"transform\", \"translate(11 16)\");\n",
       "});\n",
       "</script>\n"
      ]
     },
     "metadata": {},
     "output_type": "display_data"
    },
    {
     "data": {
      "text/html": [
       "<script>\n",
       "require([\"d3\"], function(d3) {\n",
       "    d3.select(\".usersvg #pixel_crossoHG\").attr(\"transform\", \"translate(12 16)\");\n",
       "});\n",
       "</script>\n"
      ]
     },
     "metadata": {},
     "output_type": "display_data"
    },
    {
     "data": {
      "text/html": [
       "<script>\n",
       "require([\"d3\"], function(d3) {\n",
       "    d3.select(\".usersvg #pixel_crossoHG\").attr(\"transform\", \"translate(13 16)\");\n",
       "});\n",
       "</script>\n"
      ]
     },
     "metadata": {},
     "output_type": "display_data"
    },
    {
     "data": {
      "text/html": [
       "<script>\n",
       "require([\"d3\"], function(d3) {\n",
       "    d3.select(\".usersvg #pixel_crossoHG\").attr(\"transform\", \"translate(14 16)\");\n",
       "});\n",
       "</script>\n"
      ]
     },
     "metadata": {},
     "output_type": "display_data"
    },
    {
     "data": {
      "text/html": [
       "<script>\n",
       "require([\"d3\"], function(d3) {\n",
       "    d3.select(\".usersvg #pixel_crossoHG\").attr(\"transform\", \"translate(13 16)\");\n",
       "});\n",
       "</script>\n"
      ]
     },
     "metadata": {},
     "output_type": "display_data"
    },
    {
     "data": {
      "text/html": [
       "<script>\n",
       "require([\"d3\"], function(d3) {\n",
       "    d3.select(\".usersvg #pixel_crossoHG\").attr(\"transform\", \"translate(13 17)\");\n",
       "});\n",
       "</script>\n"
      ]
     },
     "metadata": {},
     "output_type": "display_data"
    },
    {
     "data": {
      "text/html": [
       "<script>\n",
       "require([\"d3\"], function(d3) {\n",
       "    d3.select(\".usersvg #pixel_crossoHG\").attr(\"transform\", \"translate(12 17)\");\n",
       "});\n",
       "</script>\n"
      ]
     },
     "metadata": {},
     "output_type": "display_data"
    },
    {
     "data": {
      "text/html": [
       "<script>\n",
       "require([\"d3\"], function(d3) {\n",
       "    d3.select(\".usersvg #pixel_crossoHG\").attr(\"transform\", \"translate(12 16)\");\n",
       "});\n",
       "</script>\n"
      ]
     },
     "metadata": {},
     "output_type": "display_data"
    },
    {
     "data": {
      "text/html": [
       "<script>\n",
       "require([\"d3\"], function(d3) {\n",
       "    d3.select(\".usersvg #pixel_crossoHG\").attr(\"transform\", \"translate(12 15)\");\n",
       "});\n",
       "</script>\n"
      ]
     },
     "metadata": {},
     "output_type": "display_data"
    },
    {
     "data": {
      "text/html": [
       "<script>\n",
       "require([\"d3\"], function(d3) {\n",
       "    d3.select(\".usersvg #pixel_crossoHG\").attr(\"transform\", \"translate(12 14)\");\n",
       "});\n",
       "</script>\n"
      ]
     },
     "metadata": {},
     "output_type": "display_data"
    },
    {
     "data": {
      "text/html": [
       "<script>\n",
       "require([\"d3\"], function(d3) {\n",
       "    d3.select(\".usersvg #pixel_crossoHG\").attr(\"transform\", \"translate(13 14)\");\n",
       "});\n",
       "</script>\n"
      ]
     },
     "metadata": {},
     "output_type": "display_data"
    },
    {
     "data": {
      "text/html": [
       "<script>\n",
       "require([\"d3\"], function(d3) {\n",
       "    d3.select(\".usersvg #pixel_crossoHG\").attr(\"transform\", \"translate(13 13)\");\n",
       "});\n",
       "</script>\n"
      ]
     },
     "metadata": {},
     "output_type": "display_data"
    },
    {
     "data": {
      "text/html": [
       "<script>\n",
       "require([\"d3\"], function(d3) {\n",
       "    d3.select(\".usersvg #pixel_crossoHG\").attr(\"transform\", \"translate(12 13)\");\n",
       "});\n",
       "</script>\n"
      ]
     },
     "metadata": {},
     "output_type": "display_data"
    },
    {
     "data": {
      "text/html": [
       "<script>\n",
       "require([\"d3\"], function(d3) {\n",
       "    d3.select(\".usersvg #pixel_crossoHG\").attr(\"transform\", \"translate(11 13)\");\n",
       "});\n",
       "</script>\n"
      ]
     },
     "metadata": {},
     "output_type": "display_data"
    },
    {
     "data": {
      "text/html": [
       "<script>\n",
       "require([\"d3\"], function(d3) {\n",
       "    d3.select(\".usersvg #pixel_crossoHG\").attr(\"transform\", \"translate(12 13)\");\n",
       "});\n",
       "</script>\n"
      ]
     },
     "metadata": {},
     "output_type": "display_data"
    },
    {
     "data": {
      "text/html": [
       "<script>\n",
       "require([\"d3\"], function(d3) {\n",
       "    d3.select(\".usersvg #pixel_crossoHG\").attr(\"transform\", \"translate(12 12)\");\n",
       "});\n",
       "</script>\n"
      ]
     },
     "metadata": {},
     "output_type": "display_data"
    },
    {
     "data": {
      "text/html": [
       "<script>\n",
       "require([\"d3\"], function(d3) {\n",
       "    d3.select(\".usersvg #pixel_crossoHG\").attr(\"transform\", \"translate(12 13)\");\n",
       "});\n",
       "</script>\n"
      ]
     },
     "metadata": {},
     "output_type": "display_data"
    },
    {
     "data": {
      "text/html": [
       "<script>\n",
       "require([\"d3\"], function(d3) {\n",
       "    d3.select(\".usersvg #pixel_crossoHG\").attr(\"transform\", \"translate(12 12)\");\n",
       "});\n",
       "</script>\n"
      ]
     },
     "metadata": {},
     "output_type": "display_data"
    },
    {
     "data": {
      "text/html": [
       "<script>\n",
       "require([\"d3\"], function(d3) {\n",
       "    d3.select(\".usersvg #pixel_crossoHG\").attr(\"transform\", \"translate(12 11)\");\n",
       "});\n",
       "</script>\n"
      ]
     },
     "metadata": {},
     "output_type": "display_data"
    },
    {
     "data": {
      "text/html": [
       "<script>\n",
       "require([\"d3\"], function(d3) {\n",
       "    d3.select(\".usersvg #pixel_crossoHG\").attr(\"transform\", \"translate(11 11)\");\n",
       "});\n",
       "</script>\n"
      ]
     },
     "metadata": {},
     "output_type": "display_data"
    },
    {
     "data": {
      "text/html": [
       "<script>\n",
       "require([\"d3\"], function(d3) {\n",
       "    d3.select(\".usersvg #pixel_crossoHG\").attr(\"transform\", \"translate(11 12)\");\n",
       "});\n",
       "</script>\n"
      ]
     },
     "metadata": {},
     "output_type": "display_data"
    },
    {
     "data": {
      "text/html": [
       "<script>\n",
       "require([\"d3\"], function(d3) {\n",
       "    d3.select(\".usersvg #pixel_crossoHG\").attr(\"transform\", \"translate(12 12)\");\n",
       "});\n",
       "</script>\n"
      ]
     },
     "metadata": {},
     "output_type": "display_data"
    },
    {
     "data": {
      "text/html": [
       "<script>\n",
       "require([\"d3\"], function(d3) {\n",
       "    d3.select(\".usersvg #pixel_crossoHG\").attr(\"transform\", \"translate(11 12)\");\n",
       "});\n",
       "</script>\n"
      ]
     },
     "metadata": {},
     "output_type": "display_data"
    },
    {
     "data": {
      "text/html": [
       "<script>\n",
       "require([\"d3\"], function(d3) {\n",
       "    d3.select(\".usersvg #pixel_crossoHG\").attr(\"transform\", \"translate(12 12)\");\n",
       "});\n",
       "</script>\n"
      ]
     },
     "metadata": {},
     "output_type": "display_data"
    },
    {
     "data": {
      "text/html": [
       "<script>\n",
       "require([\"d3\"], function(d3) {\n",
       "    d3.select(\".usersvg #pixel_crossoHG\").attr(\"transform\", \"translate(13 12)\");\n",
       "});\n",
       "</script>\n"
      ]
     },
     "metadata": {},
     "output_type": "display_data"
    },
    {
     "data": {
      "text/html": [
       "<script>\n",
       "require([\"d3\"], function(d3) {\n",
       "    d3.select(\".usersvg #pixel_crossoHG\").attr(\"transform\", \"translate(12 12)\");\n",
       "});\n",
       "</script>\n"
      ]
     },
     "metadata": {},
     "output_type": "display_data"
    },
    {
     "data": {
      "text/html": [
       "<script>\n",
       "require([\"d3\"], function(d3) {\n",
       "    d3.select(\".usersvg #pixel_crossoHG\").attr(\"transform\", \"translate(12 11)\");\n",
       "});\n",
       "</script>\n"
      ]
     },
     "metadata": {},
     "output_type": "display_data"
    },
    {
     "data": {
      "text/html": [
       "<script>\n",
       "require([\"d3\"], function(d3) {\n",
       "    d3.select(\".usersvg #pixel_crossoHG\").attr(\"transform\", \"translate(12 10)\");\n",
       "});\n",
       "</script>\n"
      ]
     },
     "metadata": {},
     "output_type": "display_data"
    },
    {
     "data": {
      "text/html": [
       "<script>\n",
       "require([\"d3\"], function(d3) {\n",
       "    d3.select(\".usersvg #pixel_crossoHG\").attr(\"transform\", \"translate(12 11)\");\n",
       "});\n",
       "</script>\n"
      ]
     },
     "metadata": {},
     "output_type": "display_data"
    },
    {
     "data": {
      "text/html": [
       "<script>\n",
       "require([\"d3\"], function(d3) {\n",
       "    d3.select(\".usersvg #pixel_crossoHG\").attr(\"transform\", \"translate(12 10)\");\n",
       "});\n",
       "</script>\n"
      ]
     },
     "metadata": {},
     "output_type": "display_data"
    },
    {
     "data": {
      "text/html": [
       "<script>\n",
       "require([\"d3\"], function(d3) {\n",
       "    d3.select(\".usersvg #pixel_crossoHG\").attr(\"transform\", \"translate(12 11)\");\n",
       "});\n",
       "</script>\n"
      ]
     },
     "metadata": {},
     "output_type": "display_data"
    },
    {
     "data": {
      "text/html": [
       "<script>\n",
       "require([\"d3\"], function(d3) {\n",
       "    d3.select(\".usersvg #pixel_crossoHG\").attr(\"transform\", \"translate(12 10)\");\n",
       "});\n",
       "</script>\n"
      ]
     },
     "metadata": {},
     "output_type": "display_data"
    },
    {
     "data": {
      "text/html": [
       "<script>\n",
       "require([\"d3\"], function(d3) {\n",
       "    d3.select(\".usersvg #pixel_crossoHG\").attr(\"transform\", \"translate(11 10)\");\n",
       "});\n",
       "</script>\n"
      ]
     },
     "metadata": {},
     "output_type": "display_data"
    },
    {
     "data": {
      "text/html": [
       "<script>\n",
       "require([\"d3\"], function(d3) {\n",
       "    d3.select(\".usersvg #pixel_crossoHG\").attr(\"transform\", \"translate(11 9)\");\n",
       "});\n",
       "</script>\n"
      ]
     },
     "metadata": {},
     "output_type": "display_data"
    },
    {
     "data": {
      "text/html": [
       "<script>\n",
       "require([\"d3\"], function(d3) {\n",
       "    d3.select(\".usersvg #pixel_crossoHG\").attr(\"transform\", \"translate(12 9)\");\n",
       "});\n",
       "</script>\n"
      ]
     },
     "metadata": {},
     "output_type": "display_data"
    },
    {
     "data": {
      "text/html": [
       "<script>\n",
       "require([\"d3\"], function(d3) {\n",
       "    d3.select(\".usersvg #pixel_crossoHG\").attr(\"transform\", \"translate(13 9)\");\n",
       "});\n",
       "</script>\n"
      ]
     },
     "metadata": {},
     "output_type": "display_data"
    },
    {
     "data": {
      "text/html": [
       "<script>\n",
       "require([\"d3\"], function(d3) {\n",
       "    d3.select(\".usersvg #pixel_crossoHG\").attr(\"transform\", \"translate(13 10)\");\n",
       "});\n",
       "</script>\n"
      ]
     },
     "metadata": {},
     "output_type": "display_data"
    },
    {
     "data": {
      "text/html": [
       "<script>\n",
       "require([\"d3\"], function(d3) {\n",
       "    d3.select(\".usersvg #pixel_crossoHG\").attr(\"transform\", \"translate(14 10)\");\n",
       "});\n",
       "</script>\n"
      ]
     },
     "metadata": {},
     "output_type": "display_data"
    },
    {
     "data": {
      "text/html": [
       "<script>\n",
       "require([\"d3\"], function(d3) {\n",
       "    d3.select(\".usersvg #pixel_crossoHG\").attr(\"transform\", \"translate(13 10)\");\n",
       "});\n",
       "</script>\n"
      ]
     },
     "metadata": {},
     "output_type": "display_data"
    },
    {
     "data": {
      "text/html": [
       "<script>\n",
       "require([\"d3\"], function(d3) {\n",
       "    d3.select(\".usersvg #pixel_crossoHG\").attr(\"transform\", \"translate(13 11)\");\n",
       "});\n",
       "</script>\n"
      ]
     },
     "metadata": {},
     "output_type": "display_data"
    },
    {
     "data": {
      "text/html": [
       "<script>\n",
       "require([\"d3\"], function(d3) {\n",
       "    d3.select(\".usersvg #pixel_crossoHG\").attr(\"transform\", \"translate(12 11)\");\n",
       "});\n",
       "</script>\n"
      ]
     },
     "metadata": {},
     "output_type": "display_data"
    },
    {
     "data": {
      "text/html": [
       "<script>\n",
       "require([\"d3\"], function(d3) {\n",
       "    d3.select(\".usersvg #pixel_crossoHG\").attr(\"transform\", \"translate(12 12)\");\n",
       "});\n",
       "</script>\n"
      ]
     },
     "metadata": {},
     "output_type": "display_data"
    },
    {
     "data": {
      "text/html": [
       "<script>\n",
       "require([\"d3\"], function(d3) {\n",
       "    d3.select(\".usersvg #pixel_crossoHG\").attr(\"transform\", \"translate(12 11)\");\n",
       "});\n",
       "</script>\n"
      ]
     },
     "metadata": {},
     "output_type": "display_data"
    },
    {
     "data": {
      "text/html": [
       "<script>\n",
       "require([\"d3\"], function(d3) {\n",
       "    d3.select(\".usersvg #pixel_crossoHG\").attr(\"transform\", \"translate(12 10)\");\n",
       "});\n",
       "</script>\n"
      ]
     },
     "metadata": {},
     "output_type": "display_data"
    },
    {
     "data": {
      "text/html": [
       "<script>\n",
       "require([\"d3\"], function(d3) {\n",
       "    d3.select(\".usersvg #pixel_crossoHG\").attr(\"transform\", \"translate(12 9)\");\n",
       "});\n",
       "</script>\n"
      ]
     },
     "metadata": {},
     "output_type": "display_data"
    },
    {
     "data": {
      "text/html": [
       "<script>\n",
       "require([\"d3\"], function(d3) {\n",
       "    d3.select(\".usersvg #pixel_crossoHG\").attr(\"transform\", \"translate(12 8)\");\n",
       "});\n",
       "</script>\n"
      ]
     },
     "metadata": {},
     "output_type": "display_data"
    },
    {
     "data": {
      "text/html": [
       "<script>\n",
       "require([\"d3\"], function(d3) {\n",
       "    d3.select(\".usersvg #pixel_crossoHG\").attr(\"transform\", \"translate(12 7)\");\n",
       "});\n",
       "</script>\n"
      ]
     },
     "metadata": {},
     "output_type": "display_data"
    },
    {
     "data": {
      "text/html": [
       "<script>\n",
       "require([\"d3\"], function(d3) {\n",
       "    d3.select(\".usersvg #pixel_crossoHG\").attr(\"transform\", \"translate(13 7)\");\n",
       "});\n",
       "</script>\n"
      ]
     },
     "metadata": {},
     "output_type": "display_data"
    },
    {
     "data": {
      "text/html": [
       "<script>\n",
       "require([\"d3\"], function(d3) {\n",
       "    d3.select(\".usersvg #pixel_crossoHG\").attr(\"transform\", \"translate(14 7)\");\n",
       "});\n",
       "</script>\n"
      ]
     },
     "metadata": {},
     "output_type": "display_data"
    },
    {
     "data": {
      "text/html": [
       "<script>\n",
       "require([\"d3\"], function(d3) {\n",
       "    d3.select(\".usersvg #pixel_crossoHG\").attr(\"transform\", \"translate(14 8)\");\n",
       "});\n",
       "</script>\n"
      ]
     },
     "metadata": {},
     "output_type": "display_data"
    },
    {
     "data": {
      "text/html": [
       "<script>\n",
       "require([\"d3\"], function(d3) {\n",
       "    d3.select(\".usersvg #pixel_crossoHG\").attr(\"transform\", \"translate(14 9)\");\n",
       "});\n",
       "</script>\n"
      ]
     },
     "metadata": {},
     "output_type": "display_data"
    },
    {
     "data": {
      "text/html": [
       "<script>\n",
       "require([\"d3\"], function(d3) {\n",
       "    d3.select(\".usersvg #pixel_crossoHG\").attr(\"transform\", \"translate(14 10)\");\n",
       "});\n",
       "</script>\n"
      ]
     },
     "metadata": {},
     "output_type": "display_data"
    },
    {
     "data": {
      "text/html": [
       "<script>\n",
       "require([\"d3\"], function(d3) {\n",
       "    d3.select(\".usersvg #pixel_crossoHG\").attr(\"transform\", \"translate(15 10)\");\n",
       "});\n",
       "</script>\n"
      ]
     },
     "metadata": {},
     "output_type": "display_data"
    },
    {
     "data": {
      "text/html": [
       "<script>\n",
       "require([\"d3\"], function(d3) {\n",
       "    d3.select(\".usersvg #pixel_crossoHG\").attr(\"transform\", \"translate(15 9)\");\n",
       "});\n",
       "</script>\n"
      ]
     },
     "metadata": {},
     "output_type": "display_data"
    },
    {
     "data": {
      "text/html": [
       "<script>\n",
       "require([\"d3\"], function(d3) {\n",
       "    d3.select(\".usersvg #pixel_crossoHG\").attr(\"transform\", \"translate(15 10)\");\n",
       "});\n",
       "</script>\n"
      ]
     },
     "metadata": {},
     "output_type": "display_data"
    },
    {
     "data": {
      "text/html": [
       "<script>\n",
       "require([\"d3\"], function(d3) {\n",
       "    d3.select(\".usersvg #pixel_crossoHG\").attr(\"transform\", \"translate(16 10)\");\n",
       "});\n",
       "</script>\n"
      ]
     },
     "metadata": {},
     "output_type": "display_data"
    },
    {
     "data": {
      "text/html": [
       "<script>\n",
       "require([\"d3\"], function(d3) {\n",
       "    d3.select(\".usersvg #pixel_crossoHG\").attr(\"transform\", \"translate(16 11)\");\n",
       "});\n",
       "</script>\n"
      ]
     },
     "metadata": {},
     "output_type": "display_data"
    },
    {
     "data": {
      "text/html": [
       "<script>\n",
       "require([\"d3\"], function(d3) {\n",
       "    d3.select(\".usersvg #pixel_crossoHG\").attr(\"transform\", \"translate(16 12)\");\n",
       "});\n",
       "</script>\n"
      ]
     },
     "metadata": {},
     "output_type": "display_data"
    },
    {
     "data": {
      "text/html": [
       "<script>\n",
       "require([\"d3\"], function(d3) {\n",
       "    d3.select(\".usersvg #pixel_crossoHG\").attr(\"transform\", \"translate(16 11)\");\n",
       "});\n",
       "</script>\n"
      ]
     },
     "metadata": {},
     "output_type": "display_data"
    },
    {
     "data": {
      "text/html": [
       "<script>\n",
       "require([\"d3\"], function(d3) {\n",
       "    d3.select(\".usersvg #pixel_crossoHG\").attr(\"transform\", \"translate(15 11)\");\n",
       "});\n",
       "</script>\n"
      ]
     },
     "metadata": {},
     "output_type": "display_data"
    },
    {
     "data": {
      "text/html": [
       "<script>\n",
       "require([\"d3\"], function(d3) {\n",
       "    d3.select(\".usersvg #pixel_crossoHG\").attr(\"transform\", \"translate(15 12)\");\n",
       "});\n",
       "</script>\n"
      ]
     },
     "metadata": {},
     "output_type": "display_data"
    },
    {
     "data": {
      "text/html": [
       "<script>\n",
       "require([\"d3\"], function(d3) {\n",
       "    d3.select(\".usersvg #pixel_crossoHG\").attr(\"transform\", \"translate(14 12)\");\n",
       "});\n",
       "</script>\n"
      ]
     },
     "metadata": {},
     "output_type": "display_data"
    },
    {
     "data": {
      "text/html": [
       "<script>\n",
       "require([\"d3\"], function(d3) {\n",
       "    d3.select(\".usersvg #pixel_crossoHG\").attr(\"transform\", \"translate(13 12)\");\n",
       "});\n",
       "</script>\n"
      ]
     },
     "metadata": {},
     "output_type": "display_data"
    },
    {
     "data": {
      "text/html": [
       "<script>\n",
       "require([\"d3\"], function(d3) {\n",
       "    d3.select(\".usersvg #pixel_crossoHG\").attr(\"transform\", \"translate(14 12)\");\n",
       "});\n",
       "</script>\n"
      ]
     },
     "metadata": {},
     "output_type": "display_data"
    },
    {
     "data": {
      "text/html": [
       "<script>\n",
       "require([\"d3\"], function(d3) {\n",
       "    d3.select(\".usersvg #pixel_crossoHG\").attr(\"transform\", \"translate(14 13)\");\n",
       "});\n",
       "</script>\n"
      ]
     },
     "metadata": {},
     "output_type": "display_data"
    },
    {
     "data": {
      "text/html": [
       "<script>\n",
       "require([\"d3\"], function(d3) {\n",
       "    d3.select(\".usersvg #pixel_crossoHG\").attr(\"transform\", \"translate(14 12)\");\n",
       "});\n",
       "</script>\n"
      ]
     },
     "metadata": {},
     "output_type": "display_data"
    },
    {
     "data": {
      "text/html": [
       "<script>\n",
       "require([\"d3\"], function(d3) {\n",
       "    d3.select(\".usersvg #pixel_crossoHG\").attr(\"transform\", \"translate(15 12)\");\n",
       "});\n",
       "</script>\n"
      ]
     },
     "metadata": {},
     "output_type": "display_data"
    },
    {
     "data": {
      "text/html": [
       "<script>\n",
       "require([\"d3\"], function(d3) {\n",
       "    d3.select(\".usersvg #pixel_crossoHG\").attr(\"transform\", \"translate(16 12)\");\n",
       "});\n",
       "</script>\n"
      ]
     },
     "metadata": {},
     "output_type": "display_data"
    },
    {
     "data": {
      "text/html": [
       "<script>\n",
       "require([\"d3\"], function(d3) {\n",
       "    d3.select(\".usersvg #pixel_crossoHG\").attr(\"transform\", \"translate(16 11)\");\n",
       "});\n",
       "</script>\n"
      ]
     },
     "metadata": {},
     "output_type": "display_data"
    },
    {
     "data": {
      "text/html": [
       "<script>\n",
       "require([\"d3\"], function(d3) {\n",
       "    d3.select(\".usersvg #pixel_crossoHG\").attr(\"transform\", \"translate(16 11)\");\n",
       "});\n",
       "</script>\n"
      ]
     },
     "metadata": {},
     "output_type": "display_data"
    },
    {
     "data": {
      "text/html": [
       "<script>\n",
       "require([\"d3\"], function(d3) {\n",
       "    d3.select(\".usersvg #pixel_crossoHG\").attr(\"transform\", \"translate(16 11)\");\n",
       "});\n",
       "</script>\n"
      ]
     },
     "metadata": {},
     "output_type": "display_data"
    },
    {
     "data": {
      "text/html": [
       "<script>\n",
       "require([\"d3\"], function(d3) {\n",
       "    d3.select(\".usersvg #pixel_crossoHG\").attr(\"transform\", \"translate(16 11)\");\n",
       "});\n",
       "</script>\n"
      ]
     },
     "metadata": {},
     "output_type": "display_data"
    },
    {
     "data": {
      "text/html": [
       "<script>\n",
       "require([\"d3\"], function(d3) {\n",
       "    d3.select(\".usersvg #pixel_crossoHG\").attr(\"transform\", \"translate(16 11)\");\n",
       "});\n",
       "</script>\n"
      ]
     },
     "metadata": {},
     "output_type": "display_data"
    },
    {
     "data": {
      "text/html": [
       "<script>\n",
       "require([\"d3\"], function(d3) {\n",
       "    d3.select(\".usersvg #pixel_crossoHG\").attr(\"transform\", \"translate(16 10)\");\n",
       "});\n",
       "</script>\n"
      ]
     },
     "metadata": {},
     "output_type": "display_data"
    },
    {
     "data": {
      "text/html": [
       "<script>\n",
       "require([\"d3\"], function(d3) {\n",
       "    d3.select(\".usersvg #pixel_crossoHG\").attr(\"transform\", \"translate(15 10)\");\n",
       "});\n",
       "</script>\n"
      ]
     },
     "metadata": {},
     "output_type": "display_data"
    },
    {
     "data": {
      "text/html": [
       "<script>\n",
       "require([\"d3\"], function(d3) {\n",
       "    d3.select(\".usersvg #pixel_crossoHG\").attr(\"transform\", \"translate(15 9)\");\n",
       "});\n",
       "</script>\n"
      ]
     },
     "metadata": {},
     "output_type": "display_data"
    },
    {
     "data": {
      "text/html": [
       "<script>\n",
       "require([\"d3\"], function(d3) {\n",
       "    d3.select(\".usersvg #pixel_crossoHG\").attr(\"transform\", \"translate(15 10)\");\n",
       "});\n",
       "</script>\n"
      ]
     },
     "metadata": {},
     "output_type": "display_data"
    },
    {
     "data": {
      "text/html": [
       "<script>\n",
       "require([\"d3\"], function(d3) {\n",
       "    d3.select(\".usersvg #pixel_crossoHG\").attr(\"transform\", \"translate(14 10)\");\n",
       "});\n",
       "</script>\n"
      ]
     },
     "metadata": {},
     "output_type": "display_data"
    },
    {
     "data": {
      "text/html": [
       "<script>\n",
       "require([\"d3\"], function(d3) {\n",
       "    d3.select(\".usersvg #pixel_crossoHG\").attr(\"transform\", \"translate(13 10)\");\n",
       "});\n",
       "</script>\n"
      ]
     },
     "metadata": {},
     "output_type": "display_data"
    },
    {
     "data": {
      "text/html": [
       "<script>\n",
       "require([\"d3\"], function(d3) {\n",
       "    d3.select(\".usersvg #pixel_crossoHG\").attr(\"transform\", \"translate(13 11)\");\n",
       "});\n",
       "</script>\n"
      ]
     },
     "metadata": {},
     "output_type": "display_data"
    },
    {
     "data": {
      "text/html": [
       "<script>\n",
       "require([\"d3\"], function(d3) {\n",
       "    d3.select(\".usersvg #pixel_crossoHG\").attr(\"transform\", \"translate(13 12)\");\n",
       "});\n",
       "</script>\n"
      ]
     },
     "metadata": {},
     "output_type": "display_data"
    },
    {
     "data": {
      "text/html": [
       "<script>\n",
       "require([\"d3\"], function(d3) {\n",
       "    d3.select(\".usersvg #pixel_crossoHG\").attr(\"transform\", \"translate(12 12)\");\n",
       "});\n",
       "</script>\n"
      ]
     },
     "metadata": {},
     "output_type": "display_data"
    },
    {
     "data": {
      "text/html": [
       "<script>\n",
       "require([\"d3\"], function(d3) {\n",
       "    d3.select(\".usersvg #pixel_crossoHG\").attr(\"transform\", \"translate(12 11)\");\n",
       "});\n",
       "</script>\n"
      ]
     },
     "metadata": {},
     "output_type": "display_data"
    },
    {
     "data": {
      "text/html": [
       "<script>\n",
       "require([\"d3\"], function(d3) {\n",
       "    d3.select(\".usersvg #pixel_crossoHG\").attr(\"transform\", \"translate(12 10)\");\n",
       "});\n",
       "</script>\n"
      ]
     },
     "metadata": {},
     "output_type": "display_data"
    },
    {
     "data": {
      "text/html": [
       "<script>\n",
       "require([\"d3\"], function(d3) {\n",
       "    d3.select(\".usersvg #pixel_crossoHG\").attr(\"transform\", \"translate(13 10)\");\n",
       "});\n",
       "</script>\n"
      ]
     },
     "metadata": {},
     "output_type": "display_data"
    },
    {
     "data": {
      "text/html": [
       "<script>\n",
       "require([\"d3\"], function(d3) {\n",
       "    d3.select(\".usersvg #pixel_crossoHG\").attr(\"transform\", \"translate(13 11)\");\n",
       "});\n",
       "</script>\n"
      ]
     },
     "metadata": {},
     "output_type": "display_data"
    },
    {
     "data": {
      "text/html": [
       "<script>\n",
       "require([\"d3\"], function(d3) {\n",
       "    d3.select(\".usersvg #pixel_crossoHG\").attr(\"transform\", \"translate(13 10)\");\n",
       "});\n",
       "</script>\n"
      ]
     },
     "metadata": {},
     "output_type": "display_data"
    },
    {
     "data": {
      "text/html": [
       "<script>\n",
       "require([\"d3\"], function(d3) {\n",
       "    d3.select(\".usersvg #pixel_crossoHG\").attr(\"transform\", \"translate(14 10)\");\n",
       "});\n",
       "</script>\n"
      ]
     },
     "metadata": {},
     "output_type": "display_data"
    },
    {
     "data": {
      "text/html": [
       "<script>\n",
       "require([\"d3\"], function(d3) {\n",
       "    d3.select(\".usersvg #pixel_crossoHG\").attr(\"transform\", \"translate(14 9)\");\n",
       "});\n",
       "</script>\n"
      ]
     },
     "metadata": {},
     "output_type": "display_data"
    },
    {
     "data": {
      "text/html": [
       "<script>\n",
       "require([\"d3\"], function(d3) {\n",
       "    d3.select(\".usersvg #pixel_crossoHG\").attr(\"transform\", \"translate(14 8)\");\n",
       "});\n",
       "</script>\n"
      ]
     },
     "metadata": {},
     "output_type": "display_data"
    },
    {
     "data": {
      "text/html": [
       "<script>\n",
       "require([\"d3\"], function(d3) {\n",
       "    d3.select(\".usersvg #pixel_crossoHG\").attr(\"transform\", \"translate(14 9)\");\n",
       "});\n",
       "</script>\n"
      ]
     },
     "metadata": {},
     "output_type": "display_data"
    },
    {
     "data": {
      "text/html": [
       "<script>\n",
       "require([\"d3\"], function(d3) {\n",
       "    d3.select(\".usersvg #pixel_crossoHG\").attr(\"transform\", \"translate(14 10)\");\n",
       "});\n",
       "</script>\n"
      ]
     },
     "metadata": {},
     "output_type": "display_data"
    },
    {
     "data": {
      "text/html": [
       "<script>\n",
       "require([\"d3\"], function(d3) {\n",
       "    d3.select(\".usersvg #pixel_crossoHG\").attr(\"transform\", \"translate(15 10)\");\n",
       "});\n",
       "</script>\n"
      ]
     },
     "metadata": {},
     "output_type": "display_data"
    },
    {
     "data": {
      "text/html": [
       "<script>\n",
       "require([\"d3\"], function(d3) {\n",
       "    d3.select(\".usersvg #pixel_crossoHG\").attr(\"transform\", \"translate(15 9)\");\n",
       "});\n",
       "</script>\n"
      ]
     },
     "metadata": {},
     "output_type": "display_data"
    },
    {
     "data": {
      "text/html": [
       "<script>\n",
       "require([\"d3\"], function(d3) {\n",
       "    d3.select(\".usersvg #pixel_crossoHG\").attr(\"transform\", \"translate(15 8)\");\n",
       "});\n",
       "</script>\n"
      ]
     },
     "metadata": {},
     "output_type": "display_data"
    },
    {
     "data": {
      "text/html": [
       "<script>\n",
       "require([\"d3\"], function(d3) {\n",
       "    d3.select(\".usersvg #pixel_crossoHG\").attr(\"transform\", \"translate(16 8)\");\n",
       "});\n",
       "</script>\n"
      ]
     },
     "metadata": {},
     "output_type": "display_data"
    },
    {
     "data": {
      "text/html": [
       "<script>\n",
       "require([\"d3\"], function(d3) {\n",
       "    d3.select(\".usersvg #pixel_crossoHG\").attr(\"transform\", \"translate(16 9)\");\n",
       "});\n",
       "</script>\n"
      ]
     },
     "metadata": {},
     "output_type": "display_data"
    },
    {
     "data": {
      "text/html": [
       "<script>\n",
       "require([\"d3\"], function(d3) {\n",
       "    d3.select(\".usersvg #pixel_crossoHG\").attr(\"transform\", \"translate(15 9)\");\n",
       "});\n",
       "</script>\n"
      ]
     },
     "metadata": {},
     "output_type": "display_data"
    },
    {
     "data": {
      "text/html": [
       "<script>\n",
       "require([\"d3\"], function(d3) {\n",
       "    d3.select(\".usersvg #pixel_crossoHG\").attr(\"transform\", \"translate(14 9)\");\n",
       "});\n",
       "</script>\n"
      ]
     },
     "metadata": {},
     "output_type": "display_data"
    },
    {
     "data": {
      "text/html": [
       "<script>\n",
       "require([\"d3\"], function(d3) {\n",
       "    d3.select(\".usersvg #pixel_crossoHG\").attr(\"transform\", \"translate(14 10)\");\n",
       "});\n",
       "</script>\n"
      ]
     },
     "metadata": {},
     "output_type": "display_data"
    },
    {
     "data": {
      "text/html": [
       "<script>\n",
       "require([\"d3\"], function(d3) {\n",
       "    d3.select(\".usersvg #pixel_crossoHG\").attr(\"transform\", \"translate(13 10)\");\n",
       "});\n",
       "</script>\n"
      ]
     },
     "metadata": {},
     "output_type": "display_data"
    },
    {
     "data": {
      "text/html": [
       "<script>\n",
       "require([\"d3\"], function(d3) {\n",
       "    d3.select(\".usersvg #pixel_crossoHG\").attr(\"transform\", \"translate(14 10)\");\n",
       "});\n",
       "</script>\n"
      ]
     },
     "metadata": {},
     "output_type": "display_data"
    },
    {
     "data": {
      "text/html": [
       "<script>\n",
       "require([\"d3\"], function(d3) {\n",
       "    d3.select(\".usersvg #pixel_crossoHG\").attr(\"transform\", \"translate(15 10)\");\n",
       "});\n",
       "</script>\n"
      ]
     },
     "metadata": {},
     "output_type": "display_data"
    },
    {
     "data": {
      "text/html": [
       "<script>\n",
       "require([\"d3\"], function(d3) {\n",
       "    d3.select(\".usersvg #pixel_crossoHG\").attr(\"transform\", \"translate(15 9)\");\n",
       "});\n",
       "</script>\n"
      ]
     },
     "metadata": {},
     "output_type": "display_data"
    },
    {
     "data": {
      "text/html": [
       "<script>\n",
       "require([\"d3\"], function(d3) {\n",
       "    d3.select(\".usersvg #pixel_crossoHG\").attr(\"transform\", \"translate(15 10)\");\n",
       "});\n",
       "</script>\n"
      ]
     },
     "metadata": {},
     "output_type": "display_data"
    },
    {
     "data": {
      "text/html": [
       "<script>\n",
       "require([\"d3\"], function(d3) {\n",
       "    d3.select(\".usersvg #pixel_crossoHG\").attr(\"transform\", \"translate(15 9)\");\n",
       "});\n",
       "</script>\n"
      ]
     },
     "metadata": {},
     "output_type": "display_data"
    },
    {
     "data": {
      "text/html": [
       "<script>\n",
       "require([\"d3\"], function(d3) {\n",
       "    d3.select(\".usersvg #pixel_crossoHG\").attr(\"transform\", \"translate(15 8)\");\n",
       "});\n",
       "</script>\n"
      ]
     },
     "metadata": {},
     "output_type": "display_data"
    },
    {
     "data": {
      "text/html": [
       "<script>\n",
       "require([\"d3\"], function(d3) {\n",
       "    d3.select(\".usersvg #pixel_crossoHG\").attr(\"transform\", \"translate(15 9)\");\n",
       "});\n",
       "</script>\n"
      ]
     },
     "metadata": {},
     "output_type": "display_data"
    },
    {
     "data": {
      "text/html": [
       "<script>\n",
       "require([\"d3\"], function(d3) {\n",
       "    d3.select(\".usersvg #pixel_crossoHG\").attr(\"transform\", \"translate(15 10)\");\n",
       "});\n",
       "</script>\n"
      ]
     },
     "metadata": {},
     "output_type": "display_data"
    },
    {
     "data": {
      "text/html": [
       "<script>\n",
       "require([\"d3\"], function(d3) {\n",
       "    d3.select(\".usersvg #pixel_crossoHG\").attr(\"transform\", \"translate(15 11)\");\n",
       "});\n",
       "</script>\n"
      ]
     },
     "metadata": {},
     "output_type": "display_data"
    },
    {
     "data": {
      "text/html": [
       "<script>\n",
       "require([\"d3\"], function(d3) {\n",
       "    d3.select(\".usersvg #pixel_crossoHG\").attr(\"transform\", \"translate(15 10)\");\n",
       "});\n",
       "</script>\n"
      ]
     },
     "metadata": {},
     "output_type": "display_data"
    },
    {
     "data": {
      "text/html": [
       "<script>\n",
       "require([\"d3\"], function(d3) {\n",
       "    d3.select(\".usersvg #pixel_crossoHG\").attr(\"transform\", \"translate(15 11)\");\n",
       "});\n",
       "</script>\n"
      ]
     },
     "metadata": {},
     "output_type": "display_data"
    },
    {
     "data": {
      "text/html": [
       "<script>\n",
       "require([\"d3\"], function(d3) {\n",
       "    d3.select(\".usersvg #pixel_crossoHG\").attr(\"transform\", \"translate(15 10)\");\n",
       "});\n",
       "</script>\n"
      ]
     },
     "metadata": {},
     "output_type": "display_data"
    },
    {
     "data": {
      "text/html": [
       "<script>\n",
       "require([\"d3\"], function(d3) {\n",
       "    d3.select(\".usersvg #pixel_crossoHG\").attr(\"transform\", \"translate(16 10)\");\n",
       "});\n",
       "</script>\n"
      ]
     },
     "metadata": {},
     "output_type": "display_data"
    },
    {
     "data": {
      "text/html": [
       "<script>\n",
       "require([\"d3\"], function(d3) {\n",
       "    d3.select(\".usersvg #pixel_crossoHG\").attr(\"transform\", \"translate(15 10)\");\n",
       "});\n",
       "</script>\n"
      ]
     },
     "metadata": {},
     "output_type": "display_data"
    },
    {
     "data": {
      "text/html": [
       "<script>\n",
       "require([\"d3\"], function(d3) {\n",
       "    d3.select(\".usersvg #pixel_crossoHG\").attr(\"transform\", \"translate(15 9)\");\n",
       "});\n",
       "</script>\n"
      ]
     },
     "metadata": {},
     "output_type": "display_data"
    },
    {
     "data": {
      "text/html": [
       "<script>\n",
       "require([\"d3\"], function(d3) {\n",
       "    d3.select(\".usersvg #pixel_crossoHG\").attr(\"transform\", \"translate(14 9)\");\n",
       "});\n",
       "</script>\n"
      ]
     },
     "metadata": {},
     "output_type": "display_data"
    },
    {
     "data": {
      "text/html": [
       "<script>\n",
       "require([\"d3\"], function(d3) {\n",
       "    d3.select(\".usersvg #pixel_crossoHG\").attr(\"transform\", \"translate(13 9)\");\n",
       "});\n",
       "</script>\n"
      ]
     },
     "metadata": {},
     "output_type": "display_data"
    },
    {
     "data": {
      "text/html": [
       "<script>\n",
       "require([\"d3\"], function(d3) {\n",
       "    d3.select(\".usersvg #pixel_crossoHG\").attr(\"transform\", \"translate(12 9)\");\n",
       "});\n",
       "</script>\n"
      ]
     },
     "metadata": {},
     "output_type": "display_data"
    },
    {
     "data": {
      "text/html": [
       "<script>\n",
       "require([\"d3\"], function(d3) {\n",
       "    d3.select(\".usersvg #pixel_crossoHG\").attr(\"transform\", \"translate(13 9)\");\n",
       "});\n",
       "</script>\n"
      ]
     },
     "metadata": {},
     "output_type": "display_data"
    },
    {
     "data": {
      "text/html": [
       "<script>\n",
       "require([\"d3\"], function(d3) {\n",
       "    d3.select(\".usersvg #pixel_crossoHG\").attr(\"transform\", \"translate(14 9)\");\n",
       "});\n",
       "</script>\n"
      ]
     },
     "metadata": {},
     "output_type": "display_data"
    },
    {
     "data": {
      "text/html": [
       "<script>\n",
       "require([\"d3\"], function(d3) {\n",
       "    d3.select(\".usersvg #pixel_crossoHG\").attr(\"transform\", \"translate(15 9)\");\n",
       "});\n",
       "</script>\n"
      ]
     },
     "metadata": {},
     "output_type": "display_data"
    },
    {
     "data": {
      "text/html": [
       "<script>\n",
       "require([\"d3\"], function(d3) {\n",
       "    d3.select(\".usersvg #pixel_crossoHG\").attr(\"transform\", \"translate(14 9)\");\n",
       "});\n",
       "</script>\n"
      ]
     },
     "metadata": {},
     "output_type": "display_data"
    },
    {
     "data": {
      "text/html": [
       "<script>\n",
       "require([\"d3\"], function(d3) {\n",
       "    d3.select(\".usersvg #pixel_crossoHG\").attr(\"transform\", \"translate(15 9)\");\n",
       "});\n",
       "</script>\n"
      ]
     },
     "metadata": {},
     "output_type": "display_data"
    },
    {
     "data": {
      "text/html": [
       "<script>\n",
       "require([\"d3\"], function(d3) {\n",
       "    d3.select(\".usersvg #pixel_crossoHG\").attr(\"transform\", \"translate(15 8)\");\n",
       "});\n",
       "</script>\n"
      ]
     },
     "metadata": {},
     "output_type": "display_data"
    },
    {
     "data": {
      "text/html": [
       "<script>\n",
       "require([\"d3\"], function(d3) {\n",
       "    d3.select(\".usersvg #pixel_crossoHG\").attr(\"transform\", \"translate(14 8)\");\n",
       "});\n",
       "</script>\n"
      ]
     },
     "metadata": {},
     "output_type": "display_data"
    },
    {
     "data": {
      "text/html": [
       "<script>\n",
       "require([\"d3\"], function(d3) {\n",
       "    d3.select(\".usersvg #pixel_crossoHG\").attr(\"transform\", \"translate(15 8)\");\n",
       "});\n",
       "</script>\n"
      ]
     },
     "metadata": {},
     "output_type": "display_data"
    },
    {
     "data": {
      "text/html": [
       "<script>\n",
       "require([\"d3\"], function(d3) {\n",
       "    d3.select(\".usersvg #pixel_crossoHG\").attr(\"transform\", \"translate(16 8)\");\n",
       "});\n",
       "</script>\n"
      ]
     },
     "metadata": {},
     "output_type": "display_data"
    },
    {
     "data": {
      "text/html": [
       "<script>\n",
       "require([\"d3\"], function(d3) {\n",
       "    d3.select(\".usersvg #pixel_crossoHG\").attr(\"transform\", \"translate(16 8)\");\n",
       "});\n",
       "</script>\n"
      ]
     },
     "metadata": {},
     "output_type": "display_data"
    },
    {
     "data": {
      "text/html": [
       "<script>\n",
       "require([\"d3\"], function(d3) {\n",
       "    d3.select(\".usersvg #pixel_crossoHG\").attr(\"transform\", \"translate(16 8)\");\n",
       "});\n",
       "</script>\n"
      ]
     },
     "metadata": {},
     "output_type": "display_data"
    },
    {
     "data": {
      "text/html": [
       "<script>\n",
       "require([\"d3\"], function(d3) {\n",
       "    d3.select(\".usersvg #pixel_crossoHG\").attr(\"transform\", \"translate(16 9)\");\n",
       "});\n",
       "</script>\n"
      ]
     },
     "metadata": {},
     "output_type": "display_data"
    },
    {
     "data": {
      "text/html": [
       "<script>\n",
       "require([\"d3\"], function(d3) {\n",
       "    d3.select(\".usersvg #pixel_crossoHG\").attr(\"transform\", \"translate(16 8)\");\n",
       "});\n",
       "</script>\n"
      ]
     },
     "metadata": {},
     "output_type": "display_data"
    },
    {
     "data": {
      "text/html": [
       "<script>\n",
       "require([\"d3\"], function(d3) {\n",
       "    d3.select(\".usersvg #pixel_crossoHG\").attr(\"transform\", \"translate(15 8)\");\n",
       "});\n",
       "</script>\n"
      ]
     },
     "metadata": {},
     "output_type": "display_data"
    },
    {
     "data": {
      "text/html": [
       "<script>\n",
       "require([\"d3\"], function(d3) {\n",
       "    d3.select(\".usersvg #pixel_crossoHG\").attr(\"transform\", \"translate(16 8)\");\n",
       "});\n",
       "</script>\n"
      ]
     },
     "metadata": {},
     "output_type": "display_data"
    },
    {
     "data": {
      "text/html": [
       "<script>\n",
       "require([\"d3\"], function(d3) {\n",
       "    d3.select(\".usersvg #pixel_crossoHG\").attr(\"transform\", \"translate(16 9)\");\n",
       "});\n",
       "</script>\n"
      ]
     },
     "metadata": {},
     "output_type": "display_data"
    },
    {
     "data": {
      "text/html": [
       "<script>\n",
       "require([\"d3\"], function(d3) {\n",
       "    d3.select(\".usersvg #pixel_crossoHG\").attr(\"transform\", \"translate(16 9)\");\n",
       "});\n",
       "</script>\n"
      ]
     },
     "metadata": {},
     "output_type": "display_data"
    },
    {
     "data": {
      "text/html": [
       "<script>\n",
       "require([\"d3\"], function(d3) {\n",
       "    d3.select(\".usersvg #pixel_crossoHG\").attr(\"transform\", \"translate(16 8)\");\n",
       "});\n",
       "</script>\n"
      ]
     },
     "metadata": {},
     "output_type": "display_data"
    },
    {
     "data": {
      "text/html": [
       "<script>\n",
       "require([\"d3\"], function(d3) {\n",
       "    d3.select(\".usersvg #pixel_crossoHG\").attr(\"transform\", \"translate(16 8)\");\n",
       "});\n",
       "</script>\n"
      ]
     },
     "metadata": {},
     "output_type": "display_data"
    },
    {
     "data": {
      "text/html": [
       "<script>\n",
       "require([\"d3\"], function(d3) {\n",
       "    d3.select(\".usersvg #pixel_crossoHG\").attr(\"transform\", \"translate(15 8)\");\n",
       "});\n",
       "</script>\n"
      ]
     },
     "metadata": {},
     "output_type": "display_data"
    },
    {
     "data": {
      "text/html": [
       "<script>\n",
       "require([\"d3\"], function(d3) {\n",
       "    d3.select(\".usersvg #pixel_crossoHG\").attr(\"transform\", \"translate(14 8)\");\n",
       "});\n",
       "</script>\n"
      ]
     },
     "metadata": {},
     "output_type": "display_data"
    },
    {
     "data": {
      "text/html": [
       "<script>\n",
       "require([\"d3\"], function(d3) {\n",
       "    d3.select(\".usersvg #pixel_crossoHG\").attr(\"transform\", \"translate(15 8)\");\n",
       "});\n",
       "</script>\n"
      ]
     },
     "metadata": {},
     "output_type": "display_data"
    },
    {
     "data": {
      "text/html": [
       "<script>\n",
       "require([\"d3\"], function(d3) {\n",
       "    d3.select(\".usersvg #pixel_crossoHG\").attr(\"transform\", \"translate(14 8)\");\n",
       "});\n",
       "</script>\n"
      ]
     },
     "metadata": {},
     "output_type": "display_data"
    },
    {
     "data": {
      "text/html": [
       "<script>\n",
       "require([\"d3\"], function(d3) {\n",
       "    d3.select(\".usersvg #pixel_crossoHG\").attr(\"transform\", \"translate(15 8)\");\n",
       "});\n",
       "</script>\n"
      ]
     },
     "metadata": {},
     "output_type": "display_data"
    },
    {
     "data": {
      "text/html": [
       "<script>\n",
       "require([\"d3\"], function(d3) {\n",
       "    d3.select(\".usersvg #pixel_crossoHG\").attr(\"transform\", \"translate(14 8)\");\n",
       "});\n",
       "</script>\n"
      ]
     },
     "metadata": {},
     "output_type": "display_data"
    },
    {
     "data": {
      "text/html": [
       "<script>\n",
       "require([\"d3\"], function(d3) {\n",
       "    d3.select(\".usersvg #pixel_crossoHG\").attr(\"transform\", \"translate(14 9)\");\n",
       "});\n",
       "</script>\n"
      ]
     },
     "metadata": {},
     "output_type": "display_data"
    },
    {
     "data": {
      "text/html": [
       "<script>\n",
       "require([\"d3\"], function(d3) {\n",
       "    d3.select(\".usersvg #pixel_crossoHG\").attr(\"transform\", \"translate(15 9)\");\n",
       "});\n",
       "</script>\n"
      ]
     },
     "metadata": {},
     "output_type": "display_data"
    },
    {
     "data": {
      "text/html": [
       "<script>\n",
       "require([\"d3\"], function(d3) {\n",
       "    d3.select(\".usersvg #pixel_crossoHG\").attr(\"transform\", \"translate(14 9)\");\n",
       "});\n",
       "</script>\n"
      ]
     },
     "metadata": {},
     "output_type": "display_data"
    },
    {
     "data": {
      "text/html": [
       "<script>\n",
       "require([\"d3\"], function(d3) {\n",
       "    d3.select(\".usersvg #pixel_crossoHG\").attr(\"transform\", \"translate(14 10)\");\n",
       "});\n",
       "</script>\n"
      ]
     },
     "metadata": {},
     "output_type": "display_data"
    },
    {
     "data": {
      "text/html": [
       "<script>\n",
       "require([\"d3\"], function(d3) {\n",
       "    d3.select(\".usersvg #pixel_crossoHG\").attr(\"transform\", \"translate(14 9)\");\n",
       "});\n",
       "</script>\n"
      ]
     },
     "metadata": {},
     "output_type": "display_data"
    },
    {
     "data": {
      "text/html": [
       "<script>\n",
       "require([\"d3\"], function(d3) {\n",
       "    d3.select(\".usersvg #pixel_crossoHG\").attr(\"transform\", \"translate(13 9)\");\n",
       "});\n",
       "</script>\n"
      ]
     },
     "metadata": {},
     "output_type": "display_data"
    },
    {
     "data": {
      "text/html": [
       "<script>\n",
       "require([\"d3\"], function(d3) {\n",
       "    d3.select(\".usersvg #pixel_crossoHG\").attr(\"transform\", \"translate(12 9)\");\n",
       "});\n",
       "</script>\n"
      ]
     },
     "metadata": {},
     "output_type": "display_data"
    },
    {
     "data": {
      "text/html": [
       "<script>\n",
       "require([\"d3\"], function(d3) {\n",
       "    d3.select(\".usersvg #pixel_crossoHG\").attr(\"transform\", \"translate(12 8)\");\n",
       "});\n",
       "</script>\n"
      ]
     },
     "metadata": {},
     "output_type": "display_data"
    },
    {
     "data": {
      "text/html": [
       "<script>\n",
       "require([\"d3\"], function(d3) {\n",
       "    d3.select(\".usersvg #pixel_crossoHG\").attr(\"transform\", \"translate(12 9)\");\n",
       "});\n",
       "</script>\n"
      ]
     },
     "metadata": {},
     "output_type": "display_data"
    },
    {
     "data": {
      "text/html": [
       "<script>\n",
       "require([\"d3\"], function(d3) {\n",
       "    d3.select(\".usersvg #pixel_crossoHG\").attr(\"transform\", \"translate(13 9)\");\n",
       "});\n",
       "</script>\n"
      ]
     },
     "metadata": {},
     "output_type": "display_data"
    },
    {
     "data": {
      "text/html": [
       "<script>\n",
       "require([\"d3\"], function(d3) {\n",
       "    d3.select(\".usersvg #pixel_crossoHG\").attr(\"transform\", \"translate(13 8)\");\n",
       "});\n",
       "</script>\n"
      ]
     },
     "metadata": {},
     "output_type": "display_data"
    },
    {
     "data": {
      "text/html": [
       "<script>\n",
       "require([\"d3\"], function(d3) {\n",
       "    d3.select(\".usersvg #pixel_crossoHG\").attr(\"transform\", \"translate(13 9)\");\n",
       "});\n",
       "</script>\n"
      ]
     },
     "metadata": {},
     "output_type": "display_data"
    },
    {
     "data": {
      "text/html": [
       "<script>\n",
       "require([\"d3\"], function(d3) {\n",
       "    d3.select(\".usersvg #pixel_crossoHG\").attr(\"transform\", \"translate(12 9)\");\n",
       "});\n",
       "</script>\n"
      ]
     },
     "metadata": {},
     "output_type": "display_data"
    },
    {
     "data": {
      "text/html": [
       "<script>\n",
       "require([\"d3\"], function(d3) {\n",
       "    d3.select(\".usersvg #pixel_crossoHG\").attr(\"transform\", \"translate(13 9)\");\n",
       "});\n",
       "</script>\n"
      ]
     },
     "metadata": {},
     "output_type": "display_data"
    },
    {
     "data": {
      "text/html": [
       "<script>\n",
       "require([\"d3\"], function(d3) {\n",
       "    d3.select(\".usersvg #pixel_crossoHG\").attr(\"transform\", \"translate(14 9)\");\n",
       "});\n",
       "</script>\n"
      ]
     },
     "metadata": {},
     "output_type": "display_data"
    },
    {
     "data": {
      "text/html": [
       "<script>\n",
       "require([\"d3\"], function(d3) {\n",
       "    d3.select(\".usersvg #pixel_crossoHG\").attr(\"transform\", \"translate(14 10)\");\n",
       "});\n",
       "</script>\n"
      ]
     },
     "metadata": {},
     "output_type": "display_data"
    },
    {
     "data": {
      "text/html": [
       "<script>\n",
       "require([\"d3\"], function(d3) {\n",
       "    d3.select(\".usersvg #pixel_crossoHG\").attr(\"transform\", \"translate(15 10)\");\n",
       "});\n",
       "</script>\n"
      ]
     },
     "metadata": {},
     "output_type": "display_data"
    },
    {
     "data": {
      "text/html": [
       "<script>\n",
       "require([\"d3\"], function(d3) {\n",
       "    d3.select(\".usersvg #pixel_crossoHG\").attr(\"transform\", \"translate(15 11)\");\n",
       "});\n",
       "</script>\n"
      ]
     },
     "metadata": {},
     "output_type": "display_data"
    },
    {
     "data": {
      "text/html": [
       "<script>\n",
       "require([\"d3\"], function(d3) {\n",
       "    d3.select(\".usersvg #pixel_crossoHG\").attr(\"transform\", \"translate(16 11)\");\n",
       "});\n",
       "</script>\n"
      ]
     },
     "metadata": {},
     "output_type": "display_data"
    },
    {
     "data": {
      "text/html": [
       "<script>\n",
       "require([\"d3\"], function(d3) {\n",
       "    d3.select(\".usersvg #pixel_crossoHG\").attr(\"transform\", \"translate(15 11)\");\n",
       "});\n",
       "</script>\n"
      ]
     },
     "metadata": {},
     "output_type": "display_data"
    },
    {
     "data": {
      "text/html": [
       "<script>\n",
       "require([\"d3\"], function(d3) {\n",
       "    d3.select(\".usersvg #pixel_crossoHG\").attr(\"transform\", \"translate(15 12)\");\n",
       "});\n",
       "</script>\n"
      ]
     },
     "metadata": {},
     "output_type": "display_data"
    },
    {
     "data": {
      "text/html": [
       "<script>\n",
       "require([\"d3\"], function(d3) {\n",
       "    d3.select(\".usersvg #pixel_crossoHG\").attr(\"transform\", \"translate(15 13)\");\n",
       "});\n",
       "</script>\n"
      ]
     },
     "metadata": {},
     "output_type": "display_data"
    },
    {
     "data": {
      "text/html": [
       "<script>\n",
       "require([\"d3\"], function(d3) {\n",
       "    d3.select(\".usersvg #pixel_crossoHG\").attr(\"transform\", \"translate(15 12)\");\n",
       "});\n",
       "</script>\n"
      ]
     },
     "metadata": {},
     "output_type": "display_data"
    },
    {
     "data": {
      "text/html": [
       "<script>\n",
       "require([\"d3\"], function(d3) {\n",
       "    d3.select(\".usersvg #pixel_crossoHG\").attr(\"transform\", \"translate(15 11)\");\n",
       "});\n",
       "</script>\n"
      ]
     },
     "metadata": {},
     "output_type": "display_data"
    },
    {
     "data": {
      "text/html": [
       "<script>\n",
       "require([\"d3\"], function(d3) {\n",
       "    d3.select(\".usersvg #pixel_crossoHG\").attr(\"transform\", \"translate(16 11)\");\n",
       "});\n",
       "</script>\n"
      ]
     },
     "metadata": {},
     "output_type": "display_data"
    },
    {
     "data": {
      "text/html": [
       "<script>\n",
       "require([\"d3\"], function(d3) {\n",
       "    d3.select(\".usersvg #pixel_crossoHG\").attr(\"transform\", \"translate(15 11)\");\n",
       "});\n",
       "</script>\n"
      ]
     },
     "metadata": {},
     "output_type": "display_data"
    },
    {
     "data": {
      "text/html": [
       "<script>\n",
       "require([\"d3\"], function(d3) {\n",
       "    d3.select(\".usersvg #pixel_crossoHG\").attr(\"transform\", \"translate(14 11)\");\n",
       "});\n",
       "</script>\n"
      ]
     },
     "metadata": {},
     "output_type": "display_data"
    },
    {
     "data": {
      "text/html": [
       "<script>\n",
       "require([\"d3\"], function(d3) {\n",
       "    d3.select(\".usersvg #pixel_crossoHG\").attr(\"transform\", \"translate(14 10)\");\n",
       "});\n",
       "</script>\n"
      ]
     },
     "metadata": {},
     "output_type": "display_data"
    },
    {
     "data": {
      "text/html": [
       "<script>\n",
       "require([\"d3\"], function(d3) {\n",
       "    d3.select(\".usersvg #pixel_crossoHG\").attr(\"transform\", \"translate(15 10)\");\n",
       "});\n",
       "</script>\n"
      ]
     },
     "metadata": {},
     "output_type": "display_data"
    },
    {
     "data": {
      "text/html": [
       "<script>\n",
       "require([\"d3\"], function(d3) {\n",
       "    d3.select(\".usersvg #pixel_crossoHG\").attr(\"transform\", \"translate(15 11)\");\n",
       "});\n",
       "</script>\n"
      ]
     },
     "metadata": {},
     "output_type": "display_data"
    },
    {
     "data": {
      "text/html": [
       "<script>\n",
       "require([\"d3\"], function(d3) {\n",
       "    d3.select(\".usersvg #pixel_crossoHG\").attr(\"transform\", \"translate(15 12)\");\n",
       "});\n",
       "</script>\n"
      ]
     },
     "metadata": {},
     "output_type": "display_data"
    },
    {
     "data": {
      "text/html": [
       "<script>\n",
       "require([\"d3\"], function(d3) {\n",
       "    d3.select(\".usersvg #pixel_crossoHG\").attr(\"transform\", \"translate(16 12)\");\n",
       "});\n",
       "</script>\n"
      ]
     },
     "metadata": {},
     "output_type": "display_data"
    },
    {
     "data": {
      "text/html": [
       "<script>\n",
       "require([\"d3\"], function(d3) {\n",
       "    d3.select(\".usersvg #pixel_crossoHG\").attr(\"transform\", \"translate(15 12)\");\n",
       "});\n",
       "</script>\n"
      ]
     },
     "metadata": {},
     "output_type": "display_data"
    },
    {
     "data": {
      "text/html": [
       "<script>\n",
       "require([\"d3\"], function(d3) {\n",
       "    d3.select(\".usersvg #pixel_crossoHG\").attr(\"transform\", \"translate(15 11)\");\n",
       "});\n",
       "</script>\n"
      ]
     },
     "metadata": {},
     "output_type": "display_data"
    },
    {
     "data": {
      "text/html": [
       "<script>\n",
       "require([\"d3\"], function(d3) {\n",
       "    d3.select(\".usersvg #pixel_crossoHG\").attr(\"transform\", \"translate(16 11)\");\n",
       "});\n",
       "</script>\n"
      ]
     },
     "metadata": {},
     "output_type": "display_data"
    },
    {
     "data": {
      "text/html": [
       "<script>\n",
       "require([\"d3\"], function(d3) {\n",
       "    d3.select(\".usersvg #pixel_crossoHG\").attr(\"transform\", \"translate(15 11)\");\n",
       "});\n",
       "</script>\n"
      ]
     },
     "metadata": {},
     "output_type": "display_data"
    },
    {
     "data": {
      "text/html": [
       "<script>\n",
       "require([\"d3\"], function(d3) {\n",
       "    d3.select(\".usersvg #pixel_crossoHG\").attr(\"transform\", \"translate(15 12)\");\n",
       "});\n",
       "</script>\n"
      ]
     },
     "metadata": {},
     "output_type": "display_data"
    },
    {
     "data": {
      "text/html": [
       "<script>\n",
       "require([\"d3\"], function(d3) {\n",
       "    d3.select(\".usersvg #pixel_crossoHG\").attr(\"transform\", \"translate(15 13)\");\n",
       "});\n",
       "</script>\n"
      ]
     },
     "metadata": {},
     "output_type": "display_data"
    },
    {
     "data": {
      "text/html": [
       "<script>\n",
       "require([\"d3\"], function(d3) {\n",
       "    d3.select(\".usersvg #pixel_crossoHG\").attr(\"transform\", \"translate(15 14)\");\n",
       "});\n",
       "</script>\n"
      ]
     },
     "metadata": {},
     "output_type": "display_data"
    },
    {
     "data": {
      "text/html": [
       "<script>\n",
       "require([\"d3\"], function(d3) {\n",
       "    d3.select(\".usersvg #pixel_crossoHG\").attr(\"transform\", \"translate(14 14)\");\n",
       "});\n",
       "</script>\n"
      ]
     },
     "metadata": {},
     "output_type": "display_data"
    },
    {
     "data": {
      "text/html": [
       "<script>\n",
       "require([\"d3\"], function(d3) {\n",
       "    d3.select(\".usersvg #pixel_crossoHG\").attr(\"transform\", \"translate(13 14)\");\n",
       "});\n",
       "</script>\n"
      ]
     },
     "metadata": {},
     "output_type": "display_data"
    },
    {
     "data": {
      "text/html": [
       "<script>\n",
       "require([\"d3\"], function(d3) {\n",
       "    d3.select(\".usersvg #pixel_crossoHG\").attr(\"transform\", \"translate(13 13)\");\n",
       "});\n",
       "</script>\n"
      ]
     },
     "metadata": {},
     "output_type": "display_data"
    },
    {
     "data": {
      "text/html": [
       "<script>\n",
       "require([\"d3\"], function(d3) {\n",
       "    d3.select(\".usersvg #pixel_crossoHG\").attr(\"transform\", \"translate(12 13)\");\n",
       "});\n",
       "</script>\n"
      ]
     },
     "metadata": {},
     "output_type": "display_data"
    },
    {
     "data": {
      "text/html": [
       "<script>\n",
       "require([\"d3\"], function(d3) {\n",
       "    d3.select(\".usersvg #pixel_crossoHG\").attr(\"transform\", \"translate(11 13)\");\n",
       "});\n",
       "</script>\n"
      ]
     },
     "metadata": {},
     "output_type": "display_data"
    },
    {
     "data": {
      "text/html": [
       "<script>\n",
       "require([\"d3\"], function(d3) {\n",
       "    d3.select(\".usersvg #pixel_crossoHG\").attr(\"transform\", \"translate(10 13)\");\n",
       "});\n",
       "</script>\n"
      ]
     },
     "metadata": {},
     "output_type": "display_data"
    },
    {
     "data": {
      "text/html": [
       "<script>\n",
       "require([\"d3\"], function(d3) {\n",
       "    d3.select(\".usersvg #pixel_crossoHG\").attr(\"transform\", \"translate(10 12)\");\n",
       "});\n",
       "</script>\n"
      ]
     },
     "metadata": {},
     "output_type": "display_data"
    },
    {
     "data": {
      "text/html": [
       "<script>\n",
       "require([\"d3\"], function(d3) {\n",
       "    d3.select(\".usersvg #pixel_crossoHG\").attr(\"transform\", \"translate(11 12)\");\n",
       "});\n",
       "</script>\n"
      ]
     },
     "metadata": {},
     "output_type": "display_data"
    },
    {
     "data": {
      "text/html": [
       "<script>\n",
       "require([\"d3\"], function(d3) {\n",
       "    d3.select(\".usersvg #pixel_crossoHG\").attr(\"transform\", \"translate(10 12)\");\n",
       "});\n",
       "</script>\n"
      ]
     },
     "metadata": {},
     "output_type": "display_data"
    },
    {
     "data": {
      "text/html": [
       "<script>\n",
       "require([\"d3\"], function(d3) {\n",
       "    d3.select(\".usersvg #pixel_crossoHG\").attr(\"transform\", \"translate(9 12)\");\n",
       "});\n",
       "</script>\n"
      ]
     },
     "metadata": {},
     "output_type": "display_data"
    },
    {
     "data": {
      "text/html": [
       "<script>\n",
       "require([\"d3\"], function(d3) {\n",
       "    d3.select(\".usersvg #pixel_crossoHG\").attr(\"transform\", \"translate(8 12)\");\n",
       "});\n",
       "</script>\n"
      ]
     },
     "metadata": {},
     "output_type": "display_data"
    },
    {
     "data": {
      "text/html": [
       "<script>\n",
       "require([\"d3\"], function(d3) {\n",
       "    d3.select(\".usersvg #pixel_crossoHG\").attr(\"transform\", \"translate(8 13)\");\n",
       "});\n",
       "</script>\n"
      ]
     },
     "metadata": {},
     "output_type": "display_data"
    },
    {
     "data": {
      "text/html": [
       "<script>\n",
       "require([\"d3\"], function(d3) {\n",
       "    d3.select(\".usersvg #pixel_crossoHG\").attr(\"transform\", \"translate(8 12)\");\n",
       "});\n",
       "</script>\n"
      ]
     },
     "metadata": {},
     "output_type": "display_data"
    },
    {
     "data": {
      "text/html": [
       "<script>\n",
       "require([\"d3\"], function(d3) {\n",
       "    d3.select(\".usersvg #pixel_crossoHG\").attr(\"transform\", \"translate(8 13)\");\n",
       "});\n",
       "</script>\n"
      ]
     },
     "metadata": {},
     "output_type": "display_data"
    },
    {
     "data": {
      "text/html": [
       "<script>\n",
       "require([\"d3\"], function(d3) {\n",
       "    d3.select(\".usersvg #pixel_crossoHG\").attr(\"transform\", \"translate(8 14)\");\n",
       "});\n",
       "</script>\n"
      ]
     },
     "metadata": {},
     "output_type": "display_data"
    },
    {
     "data": {
      "text/html": [
       "<script>\n",
       "require([\"d3\"], function(d3) {\n",
       "    d3.select(\".usersvg #pixel_crossoHG\").attr(\"transform\", \"translate(8 13)\");\n",
       "});\n",
       "</script>\n"
      ]
     },
     "metadata": {},
     "output_type": "display_data"
    },
    {
     "data": {
      "text/html": [
       "<script>\n",
       "require([\"d3\"], function(d3) {\n",
       "    d3.select(\".usersvg #pixel_crossoHG\").attr(\"transform\", \"translate(7 13)\");\n",
       "});\n",
       "</script>\n"
      ]
     },
     "metadata": {},
     "output_type": "display_data"
    },
    {
     "data": {
      "text/html": [
       "<script>\n",
       "require([\"d3\"], function(d3) {\n",
       "    d3.select(\".usersvg #pixel_crossoHG\").attr(\"transform\", \"translate(7 12)\");\n",
       "});\n",
       "</script>\n"
      ]
     },
     "metadata": {},
     "output_type": "display_data"
    },
    {
     "data": {
      "text/html": [
       "<script>\n",
       "require([\"d3\"], function(d3) {\n",
       "    d3.select(\".usersvg #pixel_crossoHG\").attr(\"transform\", \"translate(7 13)\");\n",
       "});\n",
       "</script>\n"
      ]
     },
     "metadata": {},
     "output_type": "display_data"
    },
    {
     "data": {
      "text/html": [
       "<script>\n",
       "require([\"d3\"], function(d3) {\n",
       "    d3.select(\".usersvg #pixel_crossoHG\").attr(\"transform\", \"translate(8 13)\");\n",
       "});\n",
       "</script>\n"
      ]
     },
     "metadata": {},
     "output_type": "display_data"
    },
    {
     "data": {
      "text/html": [
       "<script>\n",
       "require([\"d3\"], function(d3) {\n",
       "    d3.select(\".usersvg #pixel_crossoHG\").attr(\"transform\", \"translate(8 12)\");\n",
       "});\n",
       "</script>\n"
      ]
     },
     "metadata": {},
     "output_type": "display_data"
    },
    {
     "data": {
      "text/html": [
       "<script>\n",
       "require([\"d3\"], function(d3) {\n",
       "    d3.select(\".usersvg #pixel_crossoHG\").attr(\"transform\", \"translate(8 13)\");\n",
       "});\n",
       "</script>\n"
      ]
     },
     "metadata": {},
     "output_type": "display_data"
    },
    {
     "data": {
      "text/html": [
       "<script>\n",
       "require([\"d3\"], function(d3) {\n",
       "    d3.select(\".usersvg #pixel_crossoHG\").attr(\"transform\", \"translate(8 12)\");\n",
       "});\n",
       "</script>\n"
      ]
     },
     "metadata": {},
     "output_type": "display_data"
    },
    {
     "data": {
      "text/html": [
       "<script>\n",
       "require([\"d3\"], function(d3) {\n",
       "    d3.select(\".usersvg #pixel_crossoHG\").attr(\"transform\", \"translate(7 12)\");\n",
       "});\n",
       "</script>\n"
      ]
     },
     "metadata": {},
     "output_type": "display_data"
    },
    {
     "data": {
      "text/html": [
       "<script>\n",
       "require([\"d3\"], function(d3) {\n",
       "    d3.select(\".usersvg #pixel_crossoHG\").attr(\"transform\", \"translate(7 11)\");\n",
       "});\n",
       "</script>\n"
      ]
     },
     "metadata": {},
     "output_type": "display_data"
    },
    {
     "data": {
      "text/html": [
       "<script>\n",
       "require([\"d3\"], function(d3) {\n",
       "    d3.select(\".usersvg #pixel_crossoHG\").attr(\"transform\", \"translate(8 11)\");\n",
       "});\n",
       "</script>\n"
      ]
     },
     "metadata": {},
     "output_type": "display_data"
    },
    {
     "data": {
      "text/html": [
       "<script>\n",
       "require([\"d3\"], function(d3) {\n",
       "    d3.select(\".usersvg #pixel_crossoHG\").attr(\"transform\", \"translate(8 12)\");\n",
       "});\n",
       "</script>\n"
      ]
     },
     "metadata": {},
     "output_type": "display_data"
    },
    {
     "data": {
      "text/html": [
       "<script>\n",
       "require([\"d3\"], function(d3) {\n",
       "    d3.select(\".usersvg #pixel_crossoHG\").attr(\"transform\", \"translate(8 13)\");\n",
       "});\n",
       "</script>\n"
      ]
     },
     "metadata": {},
     "output_type": "display_data"
    },
    {
     "data": {
      "text/html": [
       "<script>\n",
       "require([\"d3\"], function(d3) {\n",
       "    d3.select(\".usersvg #pixel_crossoHG\").attr(\"transform\", \"translate(9 13)\");\n",
       "});\n",
       "</script>\n"
      ]
     },
     "metadata": {},
     "output_type": "display_data"
    },
    {
     "data": {
      "text/html": [
       "<script>\n",
       "require([\"d3\"], function(d3) {\n",
       "    d3.select(\".usersvg #pixel_crossoHG\").attr(\"transform\", \"translate(10 13)\");\n",
       "});\n",
       "</script>\n"
      ]
     },
     "metadata": {},
     "output_type": "display_data"
    },
    {
     "data": {
      "text/html": [
       "<script>\n",
       "require([\"d3\"], function(d3) {\n",
       "    d3.select(\".usersvg #pixel_crossoHG\").attr(\"transform\", \"translate(10 12)\");\n",
       "});\n",
       "</script>\n"
      ]
     },
     "metadata": {},
     "output_type": "display_data"
    },
    {
     "data": {
      "text/html": [
       "<script>\n",
       "require([\"d3\"], function(d3) {\n",
       "    d3.select(\".usersvg #pixel_crossoHG\").attr(\"transform\", \"translate(10 13)\");\n",
       "});\n",
       "</script>\n"
      ]
     },
     "metadata": {},
     "output_type": "display_data"
    },
    {
     "data": {
      "text/html": [
       "<script>\n",
       "require([\"d3\"], function(d3) {\n",
       "    d3.select(\".usersvg #pixel_crossoHG\").attr(\"transform\", \"translate(10 12)\");\n",
       "});\n",
       "</script>\n"
      ]
     },
     "metadata": {},
     "output_type": "display_data"
    },
    {
     "data": {
      "text/html": [
       "<script>\n",
       "require([\"d3\"], function(d3) {\n",
       "    d3.select(\".usersvg #pixel_crossoHG\").attr(\"transform\", \"translate(9 12)\");\n",
       "});\n",
       "</script>\n"
      ]
     },
     "metadata": {},
     "output_type": "display_data"
    },
    {
     "data": {
      "text/html": [
       "<script>\n",
       "require([\"d3\"], function(d3) {\n",
       "    d3.select(\".usersvg #pixel_crossoHG\").attr(\"transform\", \"translate(10 12)\");\n",
       "});\n",
       "</script>\n"
      ]
     },
     "metadata": {},
     "output_type": "display_data"
    },
    {
     "data": {
      "text/html": [
       "<script>\n",
       "require([\"d3\"], function(d3) {\n",
       "    d3.select(\".usersvg #pixel_crossoHG\").attr(\"transform\", \"translate(11 12)\");\n",
       "});\n",
       "</script>\n"
      ]
     },
     "metadata": {},
     "output_type": "display_data"
    },
    {
     "data": {
      "text/html": [
       "<script>\n",
       "require([\"d3\"], function(d3) {\n",
       "    d3.select(\".usersvg #pixel_crossoHG\").attr(\"transform\", \"translate(10 12)\");\n",
       "});\n",
       "</script>\n"
      ]
     },
     "metadata": {},
     "output_type": "display_data"
    },
    {
     "data": {
      "text/html": [
       "<script>\n",
       "require([\"d3\"], function(d3) {\n",
       "    d3.select(\".usersvg #pixel_crossoHG\").attr(\"transform\", \"translate(10 13)\");\n",
       "});\n",
       "</script>\n"
      ]
     },
     "metadata": {},
     "output_type": "display_data"
    },
    {
     "data": {
      "text/html": [
       "<script>\n",
       "require([\"d3\"], function(d3) {\n",
       "    d3.select(\".usersvg #pixel_crossoHG\").attr(\"transform\", \"translate(10 14)\");\n",
       "});\n",
       "</script>\n"
      ]
     },
     "metadata": {},
     "output_type": "display_data"
    },
    {
     "data": {
      "text/html": [
       "<script>\n",
       "require([\"d3\"], function(d3) {\n",
       "    d3.select(\".usersvg #pixel_crossoHG\").attr(\"transform\", \"translate(11 14)\");\n",
       "});\n",
       "</script>\n"
      ]
     },
     "metadata": {},
     "output_type": "display_data"
    },
    {
     "data": {
      "text/html": [
       "<script>\n",
       "require([\"d3\"], function(d3) {\n",
       "    d3.select(\".usersvg #pixel_crossoHG\").attr(\"transform\", \"translate(10 14)\");\n",
       "});\n",
       "</script>\n"
      ]
     },
     "metadata": {},
     "output_type": "display_data"
    },
    {
     "data": {
      "text/html": [
       "<script>\n",
       "require([\"d3\"], function(d3) {\n",
       "    d3.select(\".usersvg #pixel_crossoHG\").attr(\"transform\", \"translate(10 15)\");\n",
       "});\n",
       "</script>\n"
      ]
     },
     "metadata": {},
     "output_type": "display_data"
    },
    {
     "data": {
      "text/html": [
       "<script>\n",
       "require([\"d3\"], function(d3) {\n",
       "    d3.select(\".usersvg #pixel_crossoHG\").attr(\"transform\", \"translate(11 15)\");\n",
       "});\n",
       "</script>\n"
      ]
     },
     "metadata": {},
     "output_type": "display_data"
    },
    {
     "data": {
      "text/html": [
       "<script>\n",
       "require([\"d3\"], function(d3) {\n",
       "    d3.select(\".usersvg #pixel_crossoHG\").attr(\"transform\", \"translate(11 16)\");\n",
       "});\n",
       "</script>\n"
      ]
     },
     "metadata": {},
     "output_type": "display_data"
    },
    {
     "data": {
      "text/html": [
       "<script>\n",
       "require([\"d3\"], function(d3) {\n",
       "    d3.select(\".usersvg #pixel_crossoHG\").attr(\"transform\", \"translate(10 16)\");\n",
       "});\n",
       "</script>\n"
      ]
     },
     "metadata": {},
     "output_type": "display_data"
    },
    {
     "data": {
      "text/html": [
       "<script>\n",
       "require([\"d3\"], function(d3) {\n",
       "    d3.select(\".usersvg #pixel_crossoHG\").attr(\"transform\", \"translate(10 17)\");\n",
       "});\n",
       "</script>\n"
      ]
     },
     "metadata": {},
     "output_type": "display_data"
    },
    {
     "data": {
      "text/html": [
       "<script>\n",
       "require([\"d3\"], function(d3) {\n",
       "    d3.select(\".usersvg #pixel_crossoHG\").attr(\"transform\", \"translate(9 17)\");\n",
       "});\n",
       "</script>\n"
      ]
     },
     "metadata": {},
     "output_type": "display_data"
    },
    {
     "data": {
      "text/html": [
       "<script>\n",
       "require([\"d3\"], function(d3) {\n",
       "    d3.select(\".usersvg #pixel_crossoHG\").attr(\"transform\", \"translate(9 16)\");\n",
       "});\n",
       "</script>\n"
      ]
     },
     "metadata": {},
     "output_type": "display_data"
    },
    {
     "data": {
      "text/html": [
       "<script>\n",
       "require([\"d3\"], function(d3) {\n",
       "    d3.select(\".usersvg #pixel_crossoHG\").attr(\"transform\", \"translate(8 16)\");\n",
       "});\n",
       "</script>\n"
      ]
     },
     "metadata": {},
     "output_type": "display_data"
    },
    {
     "data": {
      "text/html": [
       "<script>\n",
       "require([\"d3\"], function(d3) {\n",
       "    d3.select(\".usersvg #pixel_crossoHG\").attr(\"transform\", \"translate(8 15)\");\n",
       "});\n",
       "</script>\n"
      ]
     },
     "metadata": {},
     "output_type": "display_data"
    },
    {
     "data": {
      "text/html": [
       "<script>\n",
       "require([\"d3\"], function(d3) {\n",
       "    d3.select(\".usersvg #pixel_crossoHG\").attr(\"transform\", \"translate(7 15)\");\n",
       "});\n",
       "</script>\n"
      ]
     },
     "metadata": {},
     "output_type": "display_data"
    },
    {
     "data": {
      "text/html": [
       "<script>\n",
       "require([\"d3\"], function(d3) {\n",
       "    d3.select(\".usersvg #pixel_crossoHG\").attr(\"transform\", \"translate(8 15)\");\n",
       "});\n",
       "</script>\n"
      ]
     },
     "metadata": {},
     "output_type": "display_data"
    },
    {
     "data": {
      "text/html": [
       "<script>\n",
       "require([\"d3\"], function(d3) {\n",
       "    d3.select(\".usersvg #pixel_crossoHG\").attr(\"transform\", \"translate(7 15)\");\n",
       "});\n",
       "</script>\n"
      ]
     },
     "metadata": {},
     "output_type": "display_data"
    },
    {
     "data": {
      "text/html": [
       "<script>\n",
       "require([\"d3\"], function(d3) {\n",
       "    d3.select(\".usersvg #pixel_crossoHG\").attr(\"transform\", \"translate(7 14)\");\n",
       "});\n",
       "</script>\n"
      ]
     },
     "metadata": {},
     "output_type": "display_data"
    },
    {
     "data": {
      "text/html": [
       "<script>\n",
       "require([\"d3\"], function(d3) {\n",
       "    d3.select(\".usersvg #pixel_crossoHG\").attr(\"transform\", \"translate(8 14)\");\n",
       "});\n",
       "</script>\n"
      ]
     },
     "metadata": {},
     "output_type": "display_data"
    },
    {
     "data": {
      "text/html": [
       "<script>\n",
       "require([\"d3\"], function(d3) {\n",
       "    d3.select(\".usersvg #pixel_crossoHG\").attr(\"transform\", \"translate(9 14)\");\n",
       "});\n",
       "</script>\n"
      ]
     },
     "metadata": {},
     "output_type": "display_data"
    },
    {
     "data": {
      "text/html": [
       "<script>\n",
       "require([\"d3\"], function(d3) {\n",
       "    d3.select(\".usersvg #pixel_crossoHG\").attr(\"transform\", \"translate(8 14)\");\n",
       "});\n",
       "</script>\n"
      ]
     },
     "metadata": {},
     "output_type": "display_data"
    },
    {
     "data": {
      "text/html": [
       "<script>\n",
       "require([\"d3\"], function(d3) {\n",
       "    d3.select(\".usersvg #pixel_crossoHG\").attr(\"transform\", \"translate(7 14)\");\n",
       "});\n",
       "</script>\n"
      ]
     },
     "metadata": {},
     "output_type": "display_data"
    },
    {
     "data": {
      "text/html": [
       "<script>\n",
       "require([\"d3\"], function(d3) {\n",
       "    d3.select(\".usersvg #pixel_crossoHG\").attr(\"transform\", \"translate(7 13)\");\n",
       "});\n",
       "</script>\n"
      ]
     },
     "metadata": {},
     "output_type": "display_data"
    },
    {
     "data": {
      "text/html": [
       "<script>\n",
       "require([\"d3\"], function(d3) {\n",
       "    d3.select(\".usersvg #pixel_crossoHG\").attr(\"transform\", \"translate(7 12)\");\n",
       "});\n",
       "</script>\n"
      ]
     },
     "metadata": {},
     "output_type": "display_data"
    },
    {
     "data": {
      "text/html": [
       "<script>\n",
       "require([\"d3\"], function(d3) {\n",
       "    d3.select(\".usersvg #pixel_crossoHG\").attr(\"transform\", \"translate(6 12)\");\n",
       "});\n",
       "</script>\n"
      ]
     },
     "metadata": {},
     "output_type": "display_data"
    },
    {
     "data": {
      "text/html": [
       "<script>\n",
       "require([\"d3\"], function(d3) {\n",
       "    d3.select(\".usersvg #pixel_crossoHG\").attr(\"transform\", \"translate(6 11)\");\n",
       "});\n",
       "</script>\n"
      ]
     },
     "metadata": {},
     "output_type": "display_data"
    },
    {
     "data": {
      "text/html": [
       "<script>\n",
       "require([\"d3\"], function(d3) {\n",
       "    d3.select(\".usersvg #pixel_crossoHG\").attr(\"transform\", \"translate(5 11)\");\n",
       "});\n",
       "</script>\n"
      ]
     },
     "metadata": {},
     "output_type": "display_data"
    },
    {
     "data": {
      "text/html": [
       "<script>\n",
       "require([\"d3\"], function(d3) {\n",
       "    d3.select(\".usersvg #pixel_crossoHG\").attr(\"transform\", \"translate(5 10)\");\n",
       "});\n",
       "</script>\n"
      ]
     },
     "metadata": {},
     "output_type": "display_data"
    },
    {
     "data": {
      "text/html": [
       "<script>\n",
       "require([\"d3\"], function(d3) {\n",
       "    d3.select(\".usersvg #pixel_crossoHG\").attr(\"transform\", \"translate(5 11)\");\n",
       "});\n",
       "</script>\n"
      ]
     },
     "metadata": {},
     "output_type": "display_data"
    },
    {
     "data": {
      "text/html": [
       "<script>\n",
       "require([\"d3\"], function(d3) {\n",
       "    d3.select(\".usersvg #pixel_crossoHG\").attr(\"transform\", \"translate(5 10)\");\n",
       "});\n",
       "</script>\n"
      ]
     },
     "metadata": {},
     "output_type": "display_data"
    },
    {
     "data": {
      "text/html": [
       "<script>\n",
       "require([\"d3\"], function(d3) {\n",
       "    d3.select(\".usersvg #pixel_crossoHG\").attr(\"transform\", \"translate(4 10)\");\n",
       "});\n",
       "</script>\n"
      ]
     },
     "metadata": {},
     "output_type": "display_data"
    },
    {
     "data": {
      "text/html": [
       "<script>\n",
       "require([\"d3\"], function(d3) {\n",
       "    d3.select(\".usersvg #pixel_crossoHG\").attr(\"transform\", \"translate(4 9)\");\n",
       "});\n",
       "</script>\n"
      ]
     },
     "metadata": {},
     "output_type": "display_data"
    },
    {
     "data": {
      "text/html": [
       "<script>\n",
       "require([\"d3\"], function(d3) {\n",
       "    d3.select(\".usersvg #pixel_crossoHG\").attr(\"transform\", \"translate(5 9)\");\n",
       "});\n",
       "</script>\n"
      ]
     },
     "metadata": {},
     "output_type": "display_data"
    },
    {
     "data": {
      "text/html": [
       "<script>\n",
       "require([\"d3\"], function(d3) {\n",
       "    d3.select(\".usersvg #pixel_crossoHG\").attr(\"transform\", \"translate(5 8)\");\n",
       "});\n",
       "</script>\n"
      ]
     },
     "metadata": {},
     "output_type": "display_data"
    },
    {
     "data": {
      "text/html": [
       "<script>\n",
       "require([\"d3\"], function(d3) {\n",
       "    d3.select(\".usersvg #pixel_crossoHG\").attr(\"transform\", \"translate(4 8)\");\n",
       "});\n",
       "</script>\n"
      ]
     },
     "metadata": {},
     "output_type": "display_data"
    },
    {
     "data": {
      "text/html": [
       "<script>\n",
       "require([\"d3\"], function(d3) {\n",
       "    d3.select(\".usersvg #pixel_crossoHG\").attr(\"transform\", \"translate(4 9)\");\n",
       "});\n",
       "</script>\n"
      ]
     },
     "metadata": {},
     "output_type": "display_data"
    },
    {
     "data": {
      "text/html": [
       "<script>\n",
       "require([\"d3\"], function(d3) {\n",
       "    d3.select(\".usersvg #pixel_crossoHG\").attr(\"transform\", \"translate(4 10)\");\n",
       "});\n",
       "</script>\n"
      ]
     },
     "metadata": {},
     "output_type": "display_data"
    },
    {
     "data": {
      "text/html": [
       "<script>\n",
       "require([\"d3\"], function(d3) {\n",
       "    d3.select(\".usersvg #pixel_crossoHG\").attr(\"transform\", \"translate(4 11)\");\n",
       "});\n",
       "</script>\n"
      ]
     },
     "metadata": {},
     "output_type": "display_data"
    },
    {
     "data": {
      "text/html": [
       "<script>\n",
       "require([\"d3\"], function(d3) {\n",
       "    d3.select(\".usersvg #pixel_crossoHG\").attr(\"transform\", \"translate(3 11)\");\n",
       "});\n",
       "</script>\n"
      ]
     },
     "metadata": {},
     "output_type": "display_data"
    },
    {
     "data": {
      "text/html": [
       "<script>\n",
       "require([\"d3\"], function(d3) {\n",
       "    d3.select(\".usersvg #pixel_crossoHG\").attr(\"transform\", \"translate(3 12)\");\n",
       "});\n",
       "</script>\n"
      ]
     },
     "metadata": {},
     "output_type": "display_data"
    },
    {
     "data": {
      "text/html": [
       "<script>\n",
       "require([\"d3\"], function(d3) {\n",
       "    d3.select(\".usersvg #pixel_crossoHG\").attr(\"transform\", \"translate(3 13)\");\n",
       "});\n",
       "</script>\n"
      ]
     },
     "metadata": {},
     "output_type": "display_data"
    },
    {
     "data": {
      "text/html": [
       "<script>\n",
       "require([\"d3\"], function(d3) {\n",
       "    d3.select(\".usersvg #pixel_crossoHG\").attr(\"transform\", \"translate(4 13)\");\n",
       "});\n",
       "</script>\n"
      ]
     },
     "metadata": {},
     "output_type": "display_data"
    },
    {
     "data": {
      "text/html": [
       "<script>\n",
       "require([\"d3\"], function(d3) {\n",
       "    d3.select(\".usersvg #pixel_crossoHG\").attr(\"transform\", \"translate(5 13)\");\n",
       "});\n",
       "</script>\n"
      ]
     },
     "metadata": {},
     "output_type": "display_data"
    },
    {
     "data": {
      "text/html": [
       "<script>\n",
       "require([\"d3\"], function(d3) {\n",
       "    d3.select(\".usersvg #pixel_crossoHG\").attr(\"transform\", \"translate(5 14)\");\n",
       "});\n",
       "</script>\n"
      ]
     },
     "metadata": {},
     "output_type": "display_data"
    },
    {
     "data": {
      "text/html": [
       "<script>\n",
       "require([\"d3\"], function(d3) {\n",
       "    d3.select(\".usersvg #pixel_crossoHG\").attr(\"transform\", \"translate(5 15)\");\n",
       "});\n",
       "</script>\n"
      ]
     },
     "metadata": {},
     "output_type": "display_data"
    },
    {
     "data": {
      "text/html": [
       "<script>\n",
       "require([\"d3\"], function(d3) {\n",
       "    d3.select(\".usersvg #pixel_crossoHG\").attr(\"transform\", \"translate(4 15)\");\n",
       "});\n",
       "</script>\n"
      ]
     },
     "metadata": {},
     "output_type": "display_data"
    },
    {
     "data": {
      "text/html": [
       "<script>\n",
       "require([\"d3\"], function(d3) {\n",
       "    d3.select(\".usersvg #pixel_crossoHG\").attr(\"transform\", \"translate(4 14)\");\n",
       "});\n",
       "</script>\n"
      ]
     },
     "metadata": {},
     "output_type": "display_data"
    },
    {
     "data": {
      "text/html": [
       "<script>\n",
       "require([\"d3\"], function(d3) {\n",
       "    d3.select(\".usersvg #pixel_crossoHG\").attr(\"transform\", \"translate(4 13)\");\n",
       "});\n",
       "</script>\n"
      ]
     },
     "metadata": {},
     "output_type": "display_data"
    },
    {
     "data": {
      "text/html": [
       "<script>\n",
       "require([\"d3\"], function(d3) {\n",
       "    d3.select(\".usersvg #pixel_crossoHG\").attr(\"transform\", \"translate(4 12)\");\n",
       "});\n",
       "</script>\n"
      ]
     },
     "metadata": {},
     "output_type": "display_data"
    },
    {
     "data": {
      "text/html": [
       "<script>\n",
       "require([\"d3\"], function(d3) {\n",
       "    d3.select(\".usersvg #pixel_crossoHG\").attr(\"transform\", \"translate(5 12)\");\n",
       "});\n",
       "</script>\n"
      ]
     },
     "metadata": {},
     "output_type": "display_data"
    },
    {
     "data": {
      "text/html": [
       "<script>\n",
       "require([\"d3\"], function(d3) {\n",
       "    d3.select(\".usersvg #pixel_crossoHG\").attr(\"transform\", \"translate(5 11)\");\n",
       "});\n",
       "</script>\n"
      ]
     },
     "metadata": {},
     "output_type": "display_data"
    },
    {
     "data": {
      "text/html": [
       "<script>\n",
       "require([\"d3\"], function(d3) {\n",
       "    d3.select(\".usersvg #pixel_crossoHG\").attr(\"transform\", \"translate(5 10)\");\n",
       "});\n",
       "</script>\n"
      ]
     },
     "metadata": {},
     "output_type": "display_data"
    },
    {
     "data": {
      "text/html": [
       "<script>\n",
       "require([\"d3\"], function(d3) {\n",
       "    d3.select(\".usersvg #pixel_crossoHG\").attr(\"transform\", \"translate(5 9)\");\n",
       "});\n",
       "</script>\n"
      ]
     },
     "metadata": {},
     "output_type": "display_data"
    },
    {
     "data": {
      "text/html": [
       "<script>\n",
       "require([\"d3\"], function(d3) {\n",
       "    d3.select(\".usersvg #pixel_crossoHG\").attr(\"transform\", \"translate(5 8)\");\n",
       "});\n",
       "</script>\n"
      ]
     },
     "metadata": {},
     "output_type": "display_data"
    },
    {
     "data": {
      "text/html": [
       "<script>\n",
       "require([\"d3\"], function(d3) {\n",
       "    d3.select(\".usersvg #pixel_crossoHG\").attr(\"transform\", \"translate(6 8)\");\n",
       "});\n",
       "</script>\n"
      ]
     },
     "metadata": {},
     "output_type": "display_data"
    },
    {
     "data": {
      "text/html": [
       "<script>\n",
       "require([\"d3\"], function(d3) {\n",
       "    d3.select(\".usersvg #pixel_crossoHG\").attr(\"transform\", \"translate(6 9)\");\n",
       "});\n",
       "</script>\n"
      ]
     },
     "metadata": {},
     "output_type": "display_data"
    },
    {
     "data": {
      "text/html": [
       "<script>\n",
       "require([\"d3\"], function(d3) {\n",
       "    d3.select(\".usersvg #pixel_crossoHG\").attr(\"transform\", \"translate(6 10)\");\n",
       "});\n",
       "</script>\n"
      ]
     },
     "metadata": {},
     "output_type": "display_data"
    },
    {
     "data": {
      "text/html": [
       "<script>\n",
       "require([\"d3\"], function(d3) {\n",
       "    d3.select(\".usersvg #pixel_crossoHG\").attr(\"transform\", \"translate(6 11)\");\n",
       "});\n",
       "</script>\n"
      ]
     },
     "metadata": {},
     "output_type": "display_data"
    },
    {
     "data": {
      "text/html": [
       "<script>\n",
       "require([\"d3\"], function(d3) {\n",
       "    d3.select(\".usersvg #pixel_crossoHG\").attr(\"transform\", \"translate(6 10)\");\n",
       "});\n",
       "</script>\n"
      ]
     },
     "metadata": {},
     "output_type": "display_data"
    },
    {
     "data": {
      "text/html": [
       "<script>\n",
       "require([\"d3\"], function(d3) {\n",
       "    d3.select(\".usersvg #pixel_crossoHG\").attr(\"transform\", \"translate(6 11)\");\n",
       "});\n",
       "</script>\n"
      ]
     },
     "metadata": {},
     "output_type": "display_data"
    },
    {
     "data": {
      "text/html": [
       "<script>\n",
       "require([\"d3\"], function(d3) {\n",
       "    d3.select(\".usersvg #pixel_crossoHG\").attr(\"transform\", \"translate(6 10)\");\n",
       "});\n",
       "</script>\n"
      ]
     },
     "metadata": {},
     "output_type": "display_data"
    },
    {
     "data": {
      "text/html": [
       "<script>\n",
       "require([\"d3\"], function(d3) {\n",
       "    d3.select(\".usersvg #pixel_crossoHG\").attr(\"transform\", \"translate(7 10)\");\n",
       "});\n",
       "</script>\n"
      ]
     },
     "metadata": {},
     "output_type": "display_data"
    },
    {
     "data": {
      "text/html": [
       "<script>\n",
       "require([\"d3\"], function(d3) {\n",
       "    d3.select(\".usersvg #pixel_crossoHG\").attr(\"transform\", \"translate(7 9)\");\n",
       "});\n",
       "</script>\n"
      ]
     },
     "metadata": {},
     "output_type": "display_data"
    },
    {
     "data": {
      "text/html": [
       "<script>\n",
       "require([\"d3\"], function(d3) {\n",
       "    d3.select(\".usersvg #pixel_crossoHG\").attr(\"transform\", \"translate(7 10)\");\n",
       "});\n",
       "</script>\n"
      ]
     },
     "metadata": {},
     "output_type": "display_data"
    },
    {
     "data": {
      "text/html": [
       "<script>\n",
       "require([\"d3\"], function(d3) {\n",
       "    d3.select(\".usersvg #pixel_crossoHG\").attr(\"transform\", \"translate(8 10)\");\n",
       "});\n",
       "</script>\n"
      ]
     },
     "metadata": {},
     "output_type": "display_data"
    },
    {
     "data": {
      "text/html": [
       "<script>\n",
       "require([\"d3\"], function(d3) {\n",
       "    d3.select(\".usersvg #pixel_crossoHG\").attr(\"transform\", \"translate(8 9)\");\n",
       "});\n",
       "</script>\n"
      ]
     },
     "metadata": {},
     "output_type": "display_data"
    },
    {
     "data": {
      "text/html": [
       "<script>\n",
       "require([\"d3\"], function(d3) {\n",
       "    d3.select(\".usersvg #pixel_crossoHG\").attr(\"transform\", \"translate(8 10)\");\n",
       "});\n",
       "</script>\n"
      ]
     },
     "metadata": {},
     "output_type": "display_data"
    },
    {
     "data": {
      "text/html": [
       "<script>\n",
       "require([\"d3\"], function(d3) {\n",
       "    d3.select(\".usersvg #pixel_crossoHG\").attr(\"transform\", \"translate(9 10)\");\n",
       "});\n",
       "</script>\n"
      ]
     },
     "metadata": {},
     "output_type": "display_data"
    },
    {
     "data": {
      "text/html": [
       "<script>\n",
       "require([\"d3\"], function(d3) {\n",
       "    d3.select(\".usersvg #pixel_crossoHG\").attr(\"transform\", \"translate(10 10)\");\n",
       "});\n",
       "</script>\n"
      ]
     },
     "metadata": {},
     "output_type": "display_data"
    },
    {
     "data": {
      "text/html": [
       "<script>\n",
       "require([\"d3\"], function(d3) {\n",
       "    d3.select(\".usersvg #pixel_crossoHG\").attr(\"transform\", \"translate(10 9)\");\n",
       "});\n",
       "</script>\n"
      ]
     },
     "metadata": {},
     "output_type": "display_data"
    },
    {
     "data": {
      "text/html": [
       "<script>\n",
       "require([\"d3\"], function(d3) {\n",
       "    d3.select(\".usersvg #pixel_crossoHG\").attr(\"transform\", \"translate(9 9)\");\n",
       "});\n",
       "</script>\n"
      ]
     },
     "metadata": {},
     "output_type": "display_data"
    },
    {
     "data": {
      "text/html": [
       "<script>\n",
       "require([\"d3\"], function(d3) {\n",
       "    d3.select(\".usersvg #pixel_crossoHG\").attr(\"transform\", \"translate(9 10)\");\n",
       "});\n",
       "</script>\n"
      ]
     },
     "metadata": {},
     "output_type": "display_data"
    },
    {
     "data": {
      "text/html": [
       "<script>\n",
       "require([\"d3\"], function(d3) {\n",
       "    d3.select(\".usersvg #pixel_crossoHG\").attr(\"transform\", \"translate(9 11)\");\n",
       "});\n",
       "</script>\n"
      ]
     },
     "metadata": {},
     "output_type": "display_data"
    },
    {
     "data": {
      "text/html": [
       "<script>\n",
       "require([\"d3\"], function(d3) {\n",
       "    d3.select(\".usersvg #pixel_crossoHG\").attr(\"transform\", \"translate(8 11)\");\n",
       "});\n",
       "</script>\n"
      ]
     },
     "metadata": {},
     "output_type": "display_data"
    },
    {
     "data": {
      "text/html": [
       "<script>\n",
       "require([\"d3\"], function(d3) {\n",
       "    d3.select(\".usersvg #pixel_crossoHG\").attr(\"transform\", \"translate(8 10)\");\n",
       "});\n",
       "</script>\n"
      ]
     },
     "metadata": {},
     "output_type": "display_data"
    },
    {
     "data": {
      "text/html": [
       "<script>\n",
       "require([\"d3\"], function(d3) {\n",
       "    d3.select(\".usersvg #pixel_crossoHG\").attr(\"transform\", \"translate(7 10)\");\n",
       "});\n",
       "</script>\n"
      ]
     },
     "metadata": {},
     "output_type": "display_data"
    },
    {
     "data": {
      "text/html": [
       "<script>\n",
       "require([\"d3\"], function(d3) {\n",
       "    d3.select(\".usersvg #pixel_crossoHG\").attr(\"transform\", \"translate(7 11)\");\n",
       "});\n",
       "</script>\n"
      ]
     },
     "metadata": {},
     "output_type": "display_data"
    },
    {
     "data": {
      "text/html": [
       "<script>\n",
       "require([\"d3\"], function(d3) {\n",
       "    d3.select(\".usersvg #pixel_crossoHG\").attr(\"transform\", \"translate(7 12)\");\n",
       "});\n",
       "</script>\n"
      ]
     },
     "metadata": {},
     "output_type": "display_data"
    },
    {
     "data": {
      "text/html": [
       "<script>\n",
       "require([\"d3\"], function(d3) {\n",
       "    d3.select(\".usersvg #pixel_crossoHG\").attr(\"transform\", \"translate(6 12)\");\n",
       "});\n",
       "</script>\n"
      ]
     },
     "metadata": {},
     "output_type": "display_data"
    },
    {
     "data": {
      "text/html": [
       "<script>\n",
       "require([\"d3\"], function(d3) {\n",
       "    d3.select(\".usersvg #pixel_crossoHG\").attr(\"transform\", \"translate(6 11)\");\n",
       "});\n",
       "</script>\n"
      ]
     },
     "metadata": {},
     "output_type": "display_data"
    },
    {
     "data": {
      "text/html": [
       "<script>\n",
       "require([\"d3\"], function(d3) {\n",
       "    d3.select(\".usersvg #pixel_crossoHG\").attr(\"transform\", \"translate(5 11)\");\n",
       "});\n",
       "</script>\n"
      ]
     },
     "metadata": {},
     "output_type": "display_data"
    },
    {
     "data": {
      "text/html": [
       "<script>\n",
       "require([\"d3\"], function(d3) {\n",
       "    d3.select(\".usersvg #pixel_crossoHG\").attr(\"transform\", \"translate(4 11)\");\n",
       "});\n",
       "</script>\n"
      ]
     },
     "metadata": {},
     "output_type": "display_data"
    },
    {
     "data": {
      "text/html": [
       "<script>\n",
       "require([\"d3\"], function(d3) {\n",
       "    d3.select(\".usersvg #pixel_crossoHG\").attr(\"transform\", \"translate(4 10)\");\n",
       "});\n",
       "</script>\n"
      ]
     },
     "metadata": {},
     "output_type": "display_data"
    },
    {
     "data": {
      "text/html": [
       "<script>\n",
       "require([\"d3\"], function(d3) {\n",
       "    d3.select(\".usersvg #pixel_crossoHG\").attr(\"transform\", \"translate(5 10)\");\n",
       "});\n",
       "</script>\n"
      ]
     },
     "metadata": {},
     "output_type": "display_data"
    },
    {
     "data": {
      "text/html": [
       "<script>\n",
       "require([\"d3\"], function(d3) {\n",
       "    d3.select(\".usersvg #pixel_crossoHG\").attr(\"transform\", \"translate(5 9)\");\n",
       "});\n",
       "</script>\n"
      ]
     },
     "metadata": {},
     "output_type": "display_data"
    },
    {
     "data": {
      "text/html": [
       "<script>\n",
       "require([\"d3\"], function(d3) {\n",
       "    d3.select(\".usersvg #pixel_crossoHG\").attr(\"transform\", \"translate(5 8)\");\n",
       "});\n",
       "</script>\n"
      ]
     },
     "metadata": {},
     "output_type": "display_data"
    },
    {
     "data": {
      "text/html": [
       "<script>\n",
       "require([\"d3\"], function(d3) {\n",
       "    d3.select(\".usersvg #pixel_crossoHG\").attr(\"transform\", \"translate(5 7)\");\n",
       "});\n",
       "</script>\n"
      ]
     },
     "metadata": {},
     "output_type": "display_data"
    },
    {
     "data": {
      "text/html": [
       "<script>\n",
       "require([\"d3\"], function(d3) {\n",
       "    d3.select(\".usersvg #pixel_crossoHG\").attr(\"transform\", \"translate(5 6)\");\n",
       "});\n",
       "</script>\n"
      ]
     },
     "metadata": {},
     "output_type": "display_data"
    },
    {
     "data": {
      "text/html": [
       "<script>\n",
       "require([\"d3\"], function(d3) {\n",
       "    d3.select(\".usersvg #pixel_crossoHG\").attr(\"transform\", \"translate(4 6)\");\n",
       "});\n",
       "</script>\n"
      ]
     },
     "metadata": {},
     "output_type": "display_data"
    },
    {
     "data": {
      "text/html": [
       "<script>\n",
       "require([\"d3\"], function(d3) {\n",
       "    d3.select(\".usersvg #pixel_crossoHG\").attr(\"transform\", \"translate(4 5)\");\n",
       "});\n",
       "</script>\n"
      ]
     },
     "metadata": {},
     "output_type": "display_data"
    },
    {
     "data": {
      "text/html": [
       "<script>\n",
       "require([\"d3\"], function(d3) {\n",
       "    d3.select(\".usersvg #pixel_crossoHG\").attr(\"transform\", \"translate(4 6)\");\n",
       "});\n",
       "</script>\n"
      ]
     },
     "metadata": {},
     "output_type": "display_data"
    },
    {
     "data": {
      "text/html": [
       "<script>\n",
       "require([\"d3\"], function(d3) {\n",
       "    d3.select(\".usersvg #pixel_crossoHG\").attr(\"transform\", \"translate(4 5)\");\n",
       "});\n",
       "</script>\n"
      ]
     },
     "metadata": {},
     "output_type": "display_data"
    },
    {
     "data": {
      "text/html": [
       "<script>\n",
       "require([\"d3\"], function(d3) {\n",
       "    d3.select(\".usersvg #pixel_crossoHG\").attr(\"transform\", \"translate(5 5)\");\n",
       "});\n",
       "</script>\n"
      ]
     },
     "metadata": {},
     "output_type": "display_data"
    },
    {
     "data": {
      "text/html": [
       "<script>\n",
       "require([\"d3\"], function(d3) {\n",
       "    d3.select(\".usersvg #pixel_crossoHG\").attr(\"transform\", \"translate(6 5)\");\n",
       "});\n",
       "</script>\n"
      ]
     },
     "metadata": {},
     "output_type": "display_data"
    },
    {
     "data": {
      "text/html": [
       "<script>\n",
       "require([\"d3\"], function(d3) {\n",
       "    d3.select(\".usersvg #pixel_crossoHG\").attr(\"transform\", \"translate(6 6)\");\n",
       "});\n",
       "</script>\n"
      ]
     },
     "metadata": {},
     "output_type": "display_data"
    },
    {
     "data": {
      "text/html": [
       "<script>\n",
       "require([\"d3\"], function(d3) {\n",
       "    d3.select(\".usersvg #pixel_crossoHG\").attr(\"transform\", \"translate(7 6)\");\n",
       "});\n",
       "</script>\n"
      ]
     },
     "metadata": {},
     "output_type": "display_data"
    },
    {
     "data": {
      "text/html": [
       "<script>\n",
       "require([\"d3\"], function(d3) {\n",
       "    d3.select(\".usersvg #pixel_crossoHG\").attr(\"transform\", \"translate(7 7)\");\n",
       "});\n",
       "</script>\n"
      ]
     },
     "metadata": {},
     "output_type": "display_data"
    },
    {
     "data": {
      "text/html": [
       "<script>\n",
       "require([\"d3\"], function(d3) {\n",
       "    d3.select(\".usersvg #pixel_crossoHG\").attr(\"transform\", \"translate(6 7)\");\n",
       "});\n",
       "</script>\n"
      ]
     },
     "metadata": {},
     "output_type": "display_data"
    },
    {
     "data": {
      "text/html": [
       "<script>\n",
       "require([\"d3\"], function(d3) {\n",
       "    d3.select(\".usersvg #pixel_crossoHG\").attr(\"transform\", \"translate(6 8)\");\n",
       "});\n",
       "</script>\n"
      ]
     },
     "metadata": {},
     "output_type": "display_data"
    },
    {
     "data": {
      "text/html": [
       "<script>\n",
       "require([\"d3\"], function(d3) {\n",
       "    d3.select(\".usersvg #pixel_crossoHG\").attr(\"transform\", \"translate(5 8)\");\n",
       "});\n",
       "</script>\n"
      ]
     },
     "metadata": {},
     "output_type": "display_data"
    },
    {
     "data": {
      "text/html": [
       "<script>\n",
       "require([\"d3\"], function(d3) {\n",
       "    d3.select(\".usersvg #pixel_crossoHG\").attr(\"transform\", \"translate(4 8)\");\n",
       "});\n",
       "</script>\n"
      ]
     },
     "metadata": {},
     "output_type": "display_data"
    },
    {
     "data": {
      "text/html": [
       "<script>\n",
       "require([\"d3\"], function(d3) {\n",
       "    d3.select(\".usersvg #pixel_crossoHG\").attr(\"transform\", \"translate(3 8)\");\n",
       "});\n",
       "</script>\n"
      ]
     },
     "metadata": {},
     "output_type": "display_data"
    },
    {
     "data": {
      "text/html": [
       "<script>\n",
       "require([\"d3\"], function(d3) {\n",
       "    d3.select(\".usersvg #pixel_crossoHG\").attr(\"transform\", \"translate(4 8)\");\n",
       "});\n",
       "</script>\n"
      ]
     },
     "metadata": {},
     "output_type": "display_data"
    },
    {
     "data": {
      "text/html": [
       "<script>\n",
       "require([\"d3\"], function(d3) {\n",
       "    d3.select(\".usersvg #pixel_crossoHG\").attr(\"transform\", \"translate(4 7)\");\n",
       "});\n",
       "</script>\n"
      ]
     },
     "metadata": {},
     "output_type": "display_data"
    },
    {
     "data": {
      "text/html": [
       "<script>\n",
       "require([\"d3\"], function(d3) {\n",
       "    d3.select(\".usersvg #pixel_crossoHG\").attr(\"transform\", \"translate(4 8)\");\n",
       "});\n",
       "</script>\n"
      ]
     },
     "metadata": {},
     "output_type": "display_data"
    },
    {
     "data": {
      "text/html": [
       "<script>\n",
       "require([\"d3\"], function(d3) {\n",
       "    d3.select(\".usersvg #pixel_crossoHG\").attr(\"transform\", \"translate(5 8)\");\n",
       "});\n",
       "</script>\n"
      ]
     },
     "metadata": {},
     "output_type": "display_data"
    },
    {
     "data": {
      "text/html": [
       "<script>\n",
       "require([\"d3\"], function(d3) {\n",
       "    d3.select(\".usersvg #pixel_crossoHG\").attr(\"transform\", \"translate(4 8)\");\n",
       "});\n",
       "</script>\n"
      ]
     },
     "metadata": {},
     "output_type": "display_data"
    },
    {
     "data": {
      "text/html": [
       "<script>\n",
       "require([\"d3\"], function(d3) {\n",
       "    d3.select(\".usersvg #pixel_crossoHG\").attr(\"transform\", \"translate(5 8)\");\n",
       "});\n",
       "</script>\n"
      ]
     },
     "metadata": {},
     "output_type": "display_data"
    },
    {
     "data": {
      "text/html": [
       "<script>\n",
       "require([\"d3\"], function(d3) {\n",
       "    d3.select(\".usersvg #pixel_crossoHG\").attr(\"transform\", \"translate(6 8)\");\n",
       "});\n",
       "</script>\n"
      ]
     },
     "metadata": {},
     "output_type": "display_data"
    },
    {
     "data": {
      "text/html": [
       "<script>\n",
       "require([\"d3\"], function(d3) {\n",
       "    d3.select(\".usersvg #pixel_crossoHG\").attr(\"transform\", \"translate(6 9)\");\n",
       "});\n",
       "</script>\n"
      ]
     },
     "metadata": {},
     "output_type": "display_data"
    },
    {
     "data": {
      "text/html": [
       "<script>\n",
       "require([\"d3\"], function(d3) {\n",
       "    d3.select(\".usersvg #pixel_crossoHG\").attr(\"transform\", \"translate(5 9)\");\n",
       "});\n",
       "</script>\n"
      ]
     },
     "metadata": {},
     "output_type": "display_data"
    },
    {
     "data": {
      "text/html": [
       "<script>\n",
       "require([\"d3\"], function(d3) {\n",
       "    d3.select(\".usersvg #pixel_crossoHG\").attr(\"transform\", \"translate(5 8)\");\n",
       "});\n",
       "</script>\n"
      ]
     },
     "metadata": {},
     "output_type": "display_data"
    },
    {
     "data": {
      "text/html": [
       "<script>\n",
       "require([\"d3\"], function(d3) {\n",
       "    d3.select(\".usersvg #pixel_crossoHG\").attr(\"transform\", \"translate(5 9)\");\n",
       "});\n",
       "</script>\n"
      ]
     },
     "metadata": {},
     "output_type": "display_data"
    },
    {
     "data": {
      "text/html": [
       "<script>\n",
       "require([\"d3\"], function(d3) {\n",
       "    d3.select(\".usersvg #pixel_crossoHG\").attr(\"transform\", \"translate(4 9)\");\n",
       "});\n",
       "</script>\n"
      ]
     },
     "metadata": {},
     "output_type": "display_data"
    },
    {
     "data": {
      "text/html": [
       "<script>\n",
       "require([\"d3\"], function(d3) {\n",
       "    d3.select(\".usersvg #pixel_crossoHG\").attr(\"transform\", \"translate(5 9)\");\n",
       "});\n",
       "</script>\n"
      ]
     },
     "metadata": {},
     "output_type": "display_data"
    },
    {
     "data": {
      "text/html": [
       "<script>\n",
       "require([\"d3\"], function(d3) {\n",
       "    d3.select(\".usersvg #pixel_crossoHG\").attr(\"transform\", \"translate(5 10)\");\n",
       "});\n",
       "</script>\n"
      ]
     },
     "metadata": {},
     "output_type": "display_data"
    },
    {
     "data": {
      "text/html": [
       "<script>\n",
       "require([\"d3\"], function(d3) {\n",
       "    d3.select(\".usersvg #pixel_crossoHG\").attr(\"transform\", \"translate(6 10)\");\n",
       "});\n",
       "</script>\n"
      ]
     },
     "metadata": {},
     "output_type": "display_data"
    },
    {
     "data": {
      "text/html": [
       "<script>\n",
       "require([\"d3\"], function(d3) {\n",
       "    d3.select(\".usersvg #pixel_crossoHG\").attr(\"transform\", \"translate(6 11)\");\n",
       "});\n",
       "</script>\n"
      ]
     },
     "metadata": {},
     "output_type": "display_data"
    },
    {
     "data": {
      "text/html": [
       "<script>\n",
       "require([\"d3\"], function(d3) {\n",
       "    d3.select(\".usersvg #pixel_crossoHG\").attr(\"transform\", \"translate(6 10)\");\n",
       "});\n",
       "</script>\n"
      ]
     },
     "metadata": {},
     "output_type": "display_data"
    },
    {
     "data": {
      "text/html": [
       "<script>\n",
       "require([\"d3\"], function(d3) {\n",
       "    d3.select(\".usersvg #pixel_crossoHG\").attr(\"transform\", \"translate(7 10)\");\n",
       "});\n",
       "</script>\n"
      ]
     },
     "metadata": {},
     "output_type": "display_data"
    },
    {
     "data": {
      "text/html": [
       "<script>\n",
       "require([\"d3\"], function(d3) {\n",
       "    d3.select(\".usersvg #pixel_crossoHG\").attr(\"transform\", \"translate(7 9)\");\n",
       "});\n",
       "</script>\n"
      ]
     },
     "metadata": {},
     "output_type": "display_data"
    },
    {
     "data": {
      "text/html": [
       "<script>\n",
       "require([\"d3\"], function(d3) {\n",
       "    d3.select(\".usersvg #pixel_crossoHG\").attr(\"transform\", \"translate(7 10)\");\n",
       "});\n",
       "</script>\n"
      ]
     },
     "metadata": {},
     "output_type": "display_data"
    },
    {
     "data": {
      "text/html": [
       "<script>\n",
       "require([\"d3\"], function(d3) {\n",
       "    d3.select(\".usersvg #pixel_crossoHG\").attr(\"transform\", \"translate(7 11)\");\n",
       "});\n",
       "</script>\n"
      ]
     },
     "metadata": {},
     "output_type": "display_data"
    },
    {
     "data": {
      "text/html": [
       "<script>\n",
       "require([\"d3\"], function(d3) {\n",
       "    d3.select(\".usersvg #pixel_crossoHG\").attr(\"transform\", \"translate(7 12)\");\n",
       "});\n",
       "</script>\n"
      ]
     },
     "metadata": {},
     "output_type": "display_data"
    },
    {
     "data": {
      "text/html": [
       "<script>\n",
       "require([\"d3\"], function(d3) {\n",
       "    d3.select(\".usersvg #pixel_crossoHG\").attr(\"transform\", \"translate(7 13)\");\n",
       "});\n",
       "</script>\n"
      ]
     },
     "metadata": {},
     "output_type": "display_data"
    },
    {
     "data": {
      "text/html": [
       "<script>\n",
       "require([\"d3\"], function(d3) {\n",
       "    d3.select(\".usersvg #pixel_crossoHG\").attr(\"transform\", \"translate(8 13)\");\n",
       "});\n",
       "</script>\n"
      ]
     },
     "metadata": {},
     "output_type": "display_data"
    },
    {
     "data": {
      "text/html": [
       "<script>\n",
       "require([\"d3\"], function(d3) {\n",
       "    d3.select(\".usersvg #pixel_crossoHG\").attr(\"transform\", \"translate(8 12)\");\n",
       "});\n",
       "</script>\n"
      ]
     },
     "metadata": {},
     "output_type": "display_data"
    },
    {
     "data": {
      "text/html": [
       "<script>\n",
       "require([\"d3\"], function(d3) {\n",
       "    d3.select(\".usersvg #pixel_crossoHG\").attr(\"transform\", \"translate(7 12)\");\n",
       "});\n",
       "</script>\n"
      ]
     },
     "metadata": {},
     "output_type": "display_data"
    },
    {
     "data": {
      "text/html": [
       "<script>\n",
       "require([\"d3\"], function(d3) {\n",
       "    d3.select(\".usersvg #pixel_crossoHG\").attr(\"transform\", \"translate(7 11)\");\n",
       "});\n",
       "</script>\n"
      ]
     },
     "metadata": {},
     "output_type": "display_data"
    },
    {
     "data": {
      "text/html": [
       "<script>\n",
       "require([\"d3\"], function(d3) {\n",
       "    d3.select(\".usersvg #pixel_crossoHG\").attr(\"transform\", \"translate(7 10)\");\n",
       "});\n",
       "</script>\n"
      ]
     },
     "metadata": {},
     "output_type": "display_data"
    },
    {
     "data": {
      "text/html": [
       "<script>\n",
       "require([\"d3\"], function(d3) {\n",
       "    d3.select(\".usersvg #pixel_crossoHG\").attr(\"transform\", \"translate(7 11)\");\n",
       "});\n",
       "</script>\n"
      ]
     },
     "metadata": {},
     "output_type": "display_data"
    },
    {
     "data": {
      "text/html": [
       "<script>\n",
       "require([\"d3\"], function(d3) {\n",
       "    d3.select(\".usersvg #pixel_crossoHG\").attr(\"transform\", \"translate(7 10)\");\n",
       "});\n",
       "</script>\n"
      ]
     },
     "metadata": {},
     "output_type": "display_data"
    },
    {
     "data": {
      "text/html": [
       "<script>\n",
       "require([\"d3\"], function(d3) {\n",
       "    d3.select(\".usersvg #pixel_crossoHG\").attr(\"transform\", \"translate(6 10)\");\n",
       "});\n",
       "</script>\n"
      ]
     },
     "metadata": {},
     "output_type": "display_data"
    },
    {
     "data": {
      "text/html": [
       "<script>\n",
       "require([\"d3\"], function(d3) {\n",
       "    d3.select(\".usersvg #pixel_crossoHG\").attr(\"transform\", \"translate(6 9)\");\n",
       "});\n",
       "</script>\n"
      ]
     },
     "metadata": {},
     "output_type": "display_data"
    },
    {
     "data": {
      "text/html": [
       "<script>\n",
       "require([\"d3\"], function(d3) {\n",
       "    d3.select(\".usersvg #pixel_crossoHG\").attr(\"transform\", \"translate(5 9)\");\n",
       "});\n",
       "</script>\n"
      ]
     },
     "metadata": {},
     "output_type": "display_data"
    },
    {
     "data": {
      "text/html": [
       "<script>\n",
       "require([\"d3\"], function(d3) {\n",
       "    d3.select(\".usersvg #pixel_crossoHG\").attr(\"transform\", \"translate(6 9)\");\n",
       "});\n",
       "</script>\n"
      ]
     },
     "metadata": {},
     "output_type": "display_data"
    },
    {
     "data": {
      "text/html": [
       "<script>\n",
       "require([\"d3\"], function(d3) {\n",
       "    d3.select(\".usersvg #pixel_crossoHG\").attr(\"transform\", \"translate(5 9)\");\n",
       "});\n",
       "</script>\n"
      ]
     },
     "metadata": {},
     "output_type": "display_data"
    },
    {
     "data": {
      "text/html": [
       "<script>\n",
       "require([\"d3\"], function(d3) {\n",
       "    d3.select(\".usersvg #pixel_crossoHG\").attr(\"transform\", \"translate(5 10)\");\n",
       "});\n",
       "</script>\n"
      ]
     },
     "metadata": {},
     "output_type": "display_data"
    },
    {
     "data": {
      "text/html": [
       "<script>\n",
       "require([\"d3\"], function(d3) {\n",
       "    d3.select(\".usersvg #pixel_crossoHG\").attr(\"transform\", \"translate(5 11)\");\n",
       "});\n",
       "</script>\n"
      ]
     },
     "metadata": {},
     "output_type": "display_data"
    },
    {
     "data": {
      "text/html": [
       "<script>\n",
       "require([\"d3\"], function(d3) {\n",
       "    d3.select(\".usersvg #pixel_crossoHG\").attr(\"transform\", \"translate(5 12)\");\n",
       "});\n",
       "</script>\n"
      ]
     },
     "metadata": {},
     "output_type": "display_data"
    },
    {
     "data": {
      "text/html": [
       "<script>\n",
       "require([\"d3\"], function(d3) {\n",
       "    d3.select(\".usersvg #pixel_crossoHG\").attr(\"transform\", \"translate(6 12)\");\n",
       "});\n",
       "</script>\n"
      ]
     },
     "metadata": {},
     "output_type": "display_data"
    },
    {
     "data": {
      "text/html": [
       "<script>\n",
       "require([\"d3\"], function(d3) {\n",
       "    d3.select(\".usersvg #pixel_crossoHG\").attr(\"transform\", \"translate(6 13)\");\n",
       "});\n",
       "</script>\n"
      ]
     },
     "metadata": {},
     "output_type": "display_data"
    },
    {
     "data": {
      "text/html": [
       "<script>\n",
       "require([\"d3\"], function(d3) {\n",
       "    d3.select(\".usersvg #pixel_crossoHG\").attr(\"transform\", \"translate(5 13)\");\n",
       "});\n",
       "</script>\n"
      ]
     },
     "metadata": {},
     "output_type": "display_data"
    },
    {
     "data": {
      "text/html": [
       "<script>\n",
       "require([\"d3\"], function(d3) {\n",
       "    d3.select(\".usersvg #pixel_crossoHG\").attr(\"transform\", \"translate(5 14)\");\n",
       "});\n",
       "</script>\n"
      ]
     },
     "metadata": {},
     "output_type": "display_data"
    },
    {
     "data": {
      "text/html": [
       "<script>\n",
       "require([\"d3\"], function(d3) {\n",
       "    d3.select(\".usersvg #pixel_crossoHG\").attr(\"transform\", \"translate(6 14)\");\n",
       "});\n",
       "</script>\n"
      ]
     },
     "metadata": {},
     "output_type": "display_data"
    },
    {
     "data": {
      "text/html": [
       "<script>\n",
       "require([\"d3\"], function(d3) {\n",
       "    d3.select(\".usersvg #pixel_crossoHG\").attr(\"transform\", \"translate(6 15)\");\n",
       "});\n",
       "</script>\n"
      ]
     },
     "metadata": {},
     "output_type": "display_data"
    },
    {
     "data": {
      "text/html": [
       "<script>\n",
       "require([\"d3\"], function(d3) {\n",
       "    d3.select(\".usersvg #pixel_crossoHG\").attr(\"transform\", \"translate(6 16)\");\n",
       "});\n",
       "</script>\n"
      ]
     },
     "metadata": {},
     "output_type": "display_data"
    },
    {
     "data": {
      "text/html": [
       "<script>\n",
       "require([\"d3\"], function(d3) {\n",
       "    d3.select(\".usersvg #pixel_crossoHG\").attr(\"transform\", \"translate(6 17)\");\n",
       "});\n",
       "</script>\n"
      ]
     },
     "metadata": {},
     "output_type": "display_data"
    },
    {
     "data": {
      "text/html": [
       "<script>\n",
       "require([\"d3\"], function(d3) {\n",
       "    d3.select(\".usersvg #pixel_crossoHG\").attr(\"transform\", \"translate(6 17)\");\n",
       "});\n",
       "</script>\n"
      ]
     },
     "metadata": {},
     "output_type": "display_data"
    },
    {
     "data": {
      "text/html": [
       "<script>\n",
       "require([\"d3\"], function(d3) {\n",
       "    d3.select(\".usersvg #pixel_crossoHG\").attr(\"transform\", \"translate(6 17)\");\n",
       "});\n",
       "</script>\n"
      ]
     },
     "metadata": {},
     "output_type": "display_data"
    },
    {
     "data": {
      "text/html": [
       "<script>\n",
       "require([\"d3\"], function(d3) {\n",
       "    d3.select(\".usersvg #pixel_crossoHG\").attr(\"transform\", \"translate(6 16)\");\n",
       "});\n",
       "</script>\n"
      ]
     },
     "metadata": {},
     "output_type": "display_data"
    },
    {
     "data": {
      "text/html": [
       "<script>\n",
       "require([\"d3\"], function(d3) {\n",
       "    d3.select(\".usersvg #pixel_crossoHG\").attr(\"transform\", \"translate(6 17)\");\n",
       "});\n",
       "</script>\n"
      ]
     },
     "metadata": {},
     "output_type": "display_data"
    },
    {
     "data": {
      "text/html": [
       "<script>\n",
       "require([\"d3\"], function(d3) {\n",
       "    d3.select(\".usersvg #pixel_crossoHG\").attr(\"transform\", \"translate(7 17)\");\n",
       "});\n",
       "</script>\n"
      ]
     },
     "metadata": {},
     "output_type": "display_data"
    },
    {
     "data": {
      "text/html": [
       "<script>\n",
       "require([\"d3\"], function(d3) {\n",
       "    d3.select(\".usersvg #pixel_crossoHG\").attr(\"transform\", \"translate(8 17)\");\n",
       "});\n",
       "</script>\n"
      ]
     },
     "metadata": {},
     "output_type": "display_data"
    },
    {
     "data": {
      "text/html": [
       "<script>\n",
       "require([\"d3\"], function(d3) {\n",
       "    d3.select(\".usersvg #pixel_crossoHG\").attr(\"transform\", \"translate(7 17)\");\n",
       "});\n",
       "</script>\n"
      ]
     },
     "metadata": {},
     "output_type": "display_data"
    },
    {
     "data": {
      "text/html": [
       "<script>\n",
       "require([\"d3\"], function(d3) {\n",
       "    d3.select(\".usersvg #pixel_crossoHG\").attr(\"transform\", \"translate(8 17)\");\n",
       "});\n",
       "</script>\n"
      ]
     },
     "metadata": {},
     "output_type": "display_data"
    },
    {
     "data": {
      "text/html": [
       "<script>\n",
       "require([\"d3\"], function(d3) {\n",
       "    d3.select(\".usersvg #pixel_crossoHG\").attr(\"transform\", \"translate(7 17)\");\n",
       "});\n",
       "</script>\n"
      ]
     },
     "metadata": {},
     "output_type": "display_data"
    },
    {
     "data": {
      "text/html": [
       "<script>\n",
       "require([\"d3\"], function(d3) {\n",
       "    d3.select(\".usersvg #pixel_crossoHG\").attr(\"transform\", \"translate(7 17)\");\n",
       "});\n",
       "</script>\n"
      ]
     },
     "metadata": {},
     "output_type": "display_data"
    },
    {
     "data": {
      "text/html": [
       "<script>\n",
       "require([\"d3\"], function(d3) {\n",
       "    d3.select(\".usersvg #pixel_crossoHG\").attr(\"transform\", \"translate(6 17)\");\n",
       "});\n",
       "</script>\n"
      ]
     },
     "metadata": {},
     "output_type": "display_data"
    },
    {
     "data": {
      "text/html": [
       "<script>\n",
       "require([\"d3\"], function(d3) {\n",
       "    d3.select(\".usersvg #pixel_crossoHG\").attr(\"transform\", \"translate(7 17)\");\n",
       "});\n",
       "</script>\n"
      ]
     },
     "metadata": {},
     "output_type": "display_data"
    },
    {
     "data": {
      "text/html": [
       "<script>\n",
       "require([\"d3\"], function(d3) {\n",
       "    d3.select(\".usersvg #pixel_crossoHG\").attr(\"transform\", \"translate(7 17)\");\n",
       "});\n",
       "</script>\n"
      ]
     },
     "metadata": {},
     "output_type": "display_data"
    },
    {
     "data": {
      "text/html": [
       "<script>\n",
       "require([\"d3\"], function(d3) {\n",
       "    d3.select(\".usersvg #pixel_crossoHG\").attr(\"transform\", \"translate(7 16)\");\n",
       "});\n",
       "</script>\n"
      ]
     },
     "metadata": {},
     "output_type": "display_data"
    },
    {
     "data": {
      "text/html": [
       "<script>\n",
       "require([\"d3\"], function(d3) {\n",
       "    d3.select(\".usersvg #pixel_crossoHG\").attr(\"transform\", \"translate(6 16)\");\n",
       "});\n",
       "</script>\n"
      ]
     },
     "metadata": {},
     "output_type": "display_data"
    },
    {
     "data": {
      "text/html": [
       "<script>\n",
       "require([\"d3\"], function(d3) {\n",
       "    d3.select(\".usersvg #pixel_crossoHG\").attr(\"transform\", \"translate(6 15)\");\n",
       "});\n",
       "</script>\n"
      ]
     },
     "metadata": {},
     "output_type": "display_data"
    },
    {
     "data": {
      "text/html": [
       "<script>\n",
       "require([\"d3\"], function(d3) {\n",
       "    d3.select(\".usersvg #pixel_crossoHG\").attr(\"transform\", \"translate(6 16)\");\n",
       "});\n",
       "</script>\n"
      ]
     },
     "metadata": {},
     "output_type": "display_data"
    },
    {
     "data": {
      "text/html": [
       "<script>\n",
       "require([\"d3\"], function(d3) {\n",
       "    d3.select(\".usersvg #pixel_crossoHG\").attr(\"transform\", \"translate(5 16)\");\n",
       "});\n",
       "</script>\n"
      ]
     },
     "metadata": {},
     "output_type": "display_data"
    },
    {
     "data": {
      "text/html": [
       "<script>\n",
       "require([\"d3\"], function(d3) {\n",
       "    d3.select(\".usersvg #pixel_crossoHG\").attr(\"transform\", \"translate(5 17)\");\n",
       "});\n",
       "</script>\n"
      ]
     },
     "metadata": {},
     "output_type": "display_data"
    },
    {
     "data": {
      "text/html": [
       "<script>\n",
       "require([\"d3\"], function(d3) {\n",
       "    d3.select(\".usersvg #pixel_crossoHG\").attr(\"transform\", \"translate(6 17)\");\n",
       "});\n",
       "</script>\n"
      ]
     },
     "metadata": {},
     "output_type": "display_data"
    },
    {
     "data": {
      "text/html": [
       "<script>\n",
       "require([\"d3\"], function(d3) {\n",
       "    d3.select(\".usersvg #pixel_crossoHG\").attr(\"transform\", \"translate(6 16)\");\n",
       "});\n",
       "</script>\n"
      ]
     },
     "metadata": {},
     "output_type": "display_data"
    },
    {
     "data": {
      "text/html": [
       "<script>\n",
       "require([\"d3\"], function(d3) {\n",
       "    d3.select(\".usersvg #pixel_crossoHG\").attr(\"transform\", \"translate(7 16)\");\n",
       "});\n",
       "</script>\n"
      ]
     },
     "metadata": {},
     "output_type": "display_data"
    },
    {
     "data": {
      "text/html": [
       "<script>\n",
       "require([\"d3\"], function(d3) {\n",
       "    d3.select(\".usersvg #pixel_crossoHG\").attr(\"transform\", \"translate(7 17)\");\n",
       "});\n",
       "</script>\n"
      ]
     },
     "metadata": {},
     "output_type": "display_data"
    },
    {
     "data": {
      "text/html": [
       "<script>\n",
       "require([\"d3\"], function(d3) {\n",
       "    d3.select(\".usersvg #pixel_crossoHG\").attr(\"transform\", \"translate(6 17)\");\n",
       "});\n",
       "</script>\n"
      ]
     },
     "metadata": {},
     "output_type": "display_data"
    },
    {
     "data": {
      "text/html": [
       "<script>\n",
       "require([\"d3\"], function(d3) {\n",
       "    d3.select(\".usersvg #pixel_crossoHG\").attr(\"transform\", \"translate(6 17)\");\n",
       "});\n",
       "</script>\n"
      ]
     },
     "metadata": {},
     "output_type": "display_data"
    },
    {
     "data": {
      "text/html": [
       "<script>\n",
       "require([\"d3\"], function(d3) {\n",
       "    d3.select(\".usersvg #pixel_crossoHG\").attr(\"transform\", \"translate(6 16)\");\n",
       "});\n",
       "</script>\n"
      ]
     },
     "metadata": {},
     "output_type": "display_data"
    },
    {
     "data": {
      "text/html": [
       "<script>\n",
       "require([\"d3\"], function(d3) {\n",
       "    d3.select(\".usersvg #pixel_crossoHG\").attr(\"transform\", \"translate(6 15)\");\n",
       "});\n",
       "</script>\n"
      ]
     },
     "metadata": {},
     "output_type": "display_data"
    },
    {
     "data": {
      "text/html": [
       "<script>\n",
       "require([\"d3\"], function(d3) {\n",
       "    d3.select(\".usersvg #pixel_crossoHG\").attr(\"transform\", \"translate(7 15)\");\n",
       "});\n",
       "</script>\n"
      ]
     },
     "metadata": {},
     "output_type": "display_data"
    },
    {
     "data": {
      "text/html": [
       "<script>\n",
       "require([\"d3\"], function(d3) {\n",
       "    d3.select(\".usersvg #pixel_crossoHG\").attr(\"transform\", \"translate(6 15)\");\n",
       "});\n",
       "</script>\n"
      ]
     },
     "metadata": {},
     "output_type": "display_data"
    },
    {
     "data": {
      "text/html": [
       "<script>\n",
       "require([\"d3\"], function(d3) {\n",
       "    d3.select(\".usersvg #pixel_crossoHG\").attr(\"transform\", \"translate(6 16)\");\n",
       "});\n",
       "</script>\n"
      ]
     },
     "metadata": {},
     "output_type": "display_data"
    },
    {
     "data": {
      "text/html": [
       "<script>\n",
       "require([\"d3\"], function(d3) {\n",
       "    d3.select(\".usersvg #pixel_crossoHG\").attr(\"transform\", \"translate(7 16)\");\n",
       "});\n",
       "</script>\n"
      ]
     },
     "metadata": {},
     "output_type": "display_data"
    },
    {
     "data": {
      "text/html": [
       "<script>\n",
       "require([\"d3\"], function(d3) {\n",
       "    d3.select(\".usersvg #pixel_crossoHG\").attr(\"transform\", \"translate(7 15)\");\n",
       "});\n",
       "</script>\n"
      ]
     },
     "metadata": {},
     "output_type": "display_data"
    },
    {
     "data": {
      "text/html": [
       "<script>\n",
       "require([\"d3\"], function(d3) {\n",
       "    d3.select(\".usersvg #pixel_crossoHG\").attr(\"transform\", \"translate(7 14)\");\n",
       "});\n",
       "</script>\n"
      ]
     },
     "metadata": {},
     "output_type": "display_data"
    },
    {
     "data": {
      "text/html": [
       "<script>\n",
       "require([\"d3\"], function(d3) {\n",
       "    d3.select(\".usersvg #pixel_crossoHG\").attr(\"transform\", \"translate(7 15)\");\n",
       "});\n",
       "</script>\n"
      ]
     },
     "metadata": {},
     "output_type": "display_data"
    },
    {
     "data": {
      "text/html": [
       "<script>\n",
       "require([\"d3\"], function(d3) {\n",
       "    d3.select(\".usersvg #pixel_crossoHG\").attr(\"transform\", \"translate(7 16)\");\n",
       "});\n",
       "</script>\n"
      ]
     },
     "metadata": {},
     "output_type": "display_data"
    },
    {
     "data": {
      "text/html": [
       "<script>\n",
       "require([\"d3\"], function(d3) {\n",
       "    d3.select(\".usersvg #pixel_crossoHG\").attr(\"transform\", \"translate(8 16)\");\n",
       "});\n",
       "</script>\n"
      ]
     },
     "metadata": {},
     "output_type": "display_data"
    },
    {
     "data": {
      "text/html": [
       "<script>\n",
       "require([\"d3\"], function(d3) {\n",
       "    d3.select(\".usersvg #pixel_crossoHG\").attr(\"transform\", \"translate(9 16)\");\n",
       "});\n",
       "</script>\n"
      ]
     },
     "metadata": {},
     "output_type": "display_data"
    },
    {
     "data": {
      "text/html": [
       "<script>\n",
       "require([\"d3\"], function(d3) {\n",
       "    d3.select(\".usersvg #pixel_crossoHG\").attr(\"transform\", \"translate(8 16)\");\n",
       "});\n",
       "</script>\n"
      ]
     },
     "metadata": {},
     "output_type": "display_data"
    },
    {
     "data": {
      "text/html": [
       "<script>\n",
       "require([\"d3\"], function(d3) {\n",
       "    d3.select(\".usersvg #pixel_crossoHG\").attr(\"transform\", \"translate(8 17)\");\n",
       "});\n",
       "</script>\n"
      ]
     },
     "metadata": {},
     "output_type": "display_data"
    },
    {
     "data": {
      "text/html": [
       "<script>\n",
       "require([\"d3\"], function(d3) {\n",
       "    d3.select(\".usersvg #pixel_crossoHG\").attr(\"transform\", \"translate(8 17)\");\n",
       "});\n",
       "</script>\n"
      ]
     },
     "metadata": {},
     "output_type": "display_data"
    },
    {
     "data": {
      "text/html": [
       "<script>\n",
       "require([\"d3\"], function(d3) {\n",
       "    d3.select(\".usersvg #pixel_crossoHG\").attr(\"transform\", \"translate(7 17)\");\n",
       "});\n",
       "</script>\n"
      ]
     },
     "metadata": {},
     "output_type": "display_data"
    },
    {
     "data": {
      "text/html": [
       "<script>\n",
       "require([\"d3\"], function(d3) {\n",
       "    d3.select(\".usersvg #pixel_crossoHG\").attr(\"transform\", \"translate(7 16)\");\n",
       "});\n",
       "</script>\n"
      ]
     },
     "metadata": {},
     "output_type": "display_data"
    },
    {
     "data": {
      "text/html": [
       "<script>\n",
       "require([\"d3\"], function(d3) {\n",
       "    d3.select(\".usersvg #pixel_crossoHG\").attr(\"transform\", \"translate(6 16)\");\n",
       "});\n",
       "</script>\n"
      ]
     },
     "metadata": {},
     "output_type": "display_data"
    },
    {
     "data": {
      "text/html": [
       "<script>\n",
       "require([\"d3\"], function(d3) {\n",
       "    d3.select(\".usersvg #pixel_crossoHG\").attr(\"transform\", \"translate(6 17)\");\n",
       "});\n",
       "</script>\n"
      ]
     },
     "metadata": {},
     "output_type": "display_data"
    },
    {
     "data": {
      "text/html": [
       "<script>\n",
       "require([\"d3\"], function(d3) {\n",
       "    d3.select(\".usersvg #pixel_crossoHG\").attr(\"transform\", \"translate(6 16)\");\n",
       "});\n",
       "</script>\n"
      ]
     },
     "metadata": {},
     "output_type": "display_data"
    },
    {
     "data": {
      "text/html": [
       "<script>\n",
       "require([\"d3\"], function(d3) {\n",
       "    d3.select(\".usersvg #pixel_crossoHG\").attr(\"transform\", \"translate(7 16)\");\n",
       "});\n",
       "</script>\n"
      ]
     },
     "metadata": {},
     "output_type": "display_data"
    },
    {
     "data": {
      "text/html": [
       "<script>\n",
       "require([\"d3\"], function(d3) {\n",
       "    d3.select(\".usersvg #pixel_crossoHG\").attr(\"transform\", \"translate(7 17)\");\n",
       "});\n",
       "</script>\n"
      ]
     },
     "metadata": {},
     "output_type": "display_data"
    },
    {
     "data": {
      "text/html": [
       "<script>\n",
       "require([\"d3\"], function(d3) {\n",
       "    d3.select(\".usersvg #pixel_crossoHG\").attr(\"transform\", \"translate(7 17)\");\n",
       "});\n",
       "</script>\n"
      ]
     },
     "metadata": {},
     "output_type": "display_data"
    },
    {
     "data": {
      "text/html": [
       "<script>\n",
       "require([\"d3\"], function(d3) {\n",
       "    d3.select(\".usersvg #pixel_crossoHG\").attr(\"transform\", \"translate(7 17)\");\n",
       "});\n",
       "</script>\n"
      ]
     },
     "metadata": {},
     "output_type": "display_data"
    },
    {
     "data": {
      "text/html": [
       "<script>\n",
       "require([\"d3\"], function(d3) {\n",
       "    d3.select(\".usersvg #pixel_crossoHG\").attr(\"transform\", \"translate(6 17)\");\n",
       "});\n",
       "</script>\n"
      ]
     },
     "metadata": {},
     "output_type": "display_data"
    },
    {
     "data": {
      "text/html": [
       "<script>\n",
       "require([\"d3\"], function(d3) {\n",
       "    d3.select(\".usersvg #pixel_crossoHG\").attr(\"transform\", \"translate(7 17)\");\n",
       "});\n",
       "</script>\n"
      ]
     },
     "metadata": {},
     "output_type": "display_data"
    },
    {
     "data": {
      "text/html": [
       "<script>\n",
       "require([\"d3\"], function(d3) {\n",
       "    d3.select(\".usersvg #pixel_crossoHG\").attr(\"transform\", \"translate(6 17)\");\n",
       "});\n",
       "</script>\n"
      ]
     },
     "metadata": {},
     "output_type": "display_data"
    },
    {
     "data": {
      "text/html": [
       "<script>\n",
       "require([\"d3\"], function(d3) {\n",
       "    d3.select(\".usersvg #pixel_crossoHG\").attr(\"transform\", \"translate(5 17)\");\n",
       "});\n",
       "</script>\n"
      ]
     },
     "metadata": {},
     "output_type": "display_data"
    },
    {
     "data": {
      "text/html": [
       "<script>\n",
       "require([\"d3\"], function(d3) {\n",
       "    d3.select(\".usersvg #pixel_crossoHG\").attr(\"transform\", \"translate(6 17)\");\n",
       "});\n",
       "</script>\n"
      ]
     },
     "metadata": {},
     "output_type": "display_data"
    },
    {
     "data": {
      "text/html": [
       "<script>\n",
       "require([\"d3\"], function(d3) {\n",
       "    d3.select(\".usersvg #pixel_crossoHG\").attr(\"transform\", \"translate(7 17)\");\n",
       "});\n",
       "</script>\n"
      ]
     },
     "metadata": {},
     "output_type": "display_data"
    },
    {
     "data": {
      "text/html": [
       "<script>\n",
       "require([\"d3\"], function(d3) {\n",
       "    d3.select(\".usersvg #pixel_crossoHG\").attr(\"transform\", \"translate(6 17)\");\n",
       "});\n",
       "</script>\n"
      ]
     },
     "metadata": {},
     "output_type": "display_data"
    },
    {
     "data": {
      "text/html": [
       "<script>\n",
       "require([\"d3\"], function(d3) {\n",
       "    d3.select(\".usersvg #pixel_crossoHG\").attr(\"transform\", \"translate(5 17)\");\n",
       "});\n",
       "</script>\n"
      ]
     },
     "metadata": {},
     "output_type": "display_data"
    },
    {
     "data": {
      "text/html": [
       "<script>\n",
       "require([\"d3\"], function(d3) {\n",
       "    d3.select(\".usersvg #pixel_crossoHG\").attr(\"transform\", \"translate(4 17)\");\n",
       "});\n",
       "</script>\n"
      ]
     },
     "metadata": {},
     "output_type": "display_data"
    },
    {
     "data": {
      "text/html": [
       "<script>\n",
       "require([\"d3\"], function(d3) {\n",
       "    d3.select(\".usersvg #pixel_crossoHG\").attr(\"transform\", \"translate(4 17)\");\n",
       "});\n",
       "</script>\n"
      ]
     },
     "metadata": {},
     "output_type": "display_data"
    },
    {
     "data": {
      "text/html": [
       "<script>\n",
       "require([\"d3\"], function(d3) {\n",
       "    d3.select(\".usersvg #pixel_crossoHG\").attr(\"transform\", \"translate(3 17)\");\n",
       "});\n",
       "</script>\n"
      ]
     },
     "metadata": {},
     "output_type": "display_data"
    },
    {
     "data": {
      "text/html": [
       "<script>\n",
       "require([\"d3\"], function(d3) {\n",
       "    d3.select(\".usersvg #pixel_crossoHG\").attr(\"transform\", \"translate(3 17)\");\n",
       "});\n",
       "</script>\n"
      ]
     },
     "metadata": {},
     "output_type": "display_data"
    },
    {
     "data": {
      "text/html": [
       "<script>\n",
       "require([\"d3\"], function(d3) {\n",
       "    d3.select(\".usersvg #pixel_crossoHG\").attr(\"transform\", \"translate(2 17)\");\n",
       "});\n",
       "</script>\n"
      ]
     },
     "metadata": {},
     "output_type": "display_data"
    },
    {
     "data": {
      "text/html": [
       "<script>\n",
       "require([\"d3\"], function(d3) {\n",
       "    d3.select(\".usersvg #pixel_crossoHG\").attr(\"transform\", \"translate(2 17)\");\n",
       "});\n",
       "</script>\n"
      ]
     },
     "metadata": {},
     "output_type": "display_data"
    },
    {
     "data": {
      "text/html": [
       "<script>\n",
       "require([\"d3\"], function(d3) {\n",
       "    d3.select(\".usersvg #pixel_crossoHG\").attr(\"transform\", \"translate(3 17)\");\n",
       "});\n",
       "</script>\n"
      ]
     },
     "metadata": {},
     "output_type": "display_data"
    },
    {
     "data": {
      "text/html": [
       "<script>\n",
       "require([\"d3\"], function(d3) {\n",
       "    d3.select(\".usersvg #pixel_crossoHG\").attr(\"transform\", \"translate(3 17)\");\n",
       "});\n",
       "</script>\n"
      ]
     },
     "metadata": {},
     "output_type": "display_data"
    },
    {
     "data": {
      "text/html": [
       "<script>\n",
       "require([\"d3\"], function(d3) {\n",
       "    d3.select(\".usersvg #pixel_crossoHG\").attr(\"transform\", \"translate(3 16)\");\n",
       "});\n",
       "</script>\n"
      ]
     },
     "metadata": {},
     "output_type": "display_data"
    },
    {
     "data": {
      "text/html": [
       "<script>\n",
       "require([\"d3\"], function(d3) {\n",
       "    d3.select(\".usersvg #pixel_crossoHG\").attr(\"transform\", \"translate(3 17)\");\n",
       "});\n",
       "</script>\n"
      ]
     },
     "metadata": {},
     "output_type": "display_data"
    },
    {
     "data": {
      "text/html": [
       "<script>\n",
       "require([\"d3\"], function(d3) {\n",
       "    d3.select(\".usersvg #pixel_crossoHG\").attr(\"transform\", \"translate(2 17)\");\n",
       "});\n",
       "</script>\n"
      ]
     },
     "metadata": {},
     "output_type": "display_data"
    },
    {
     "data": {
      "text/html": [
       "<script>\n",
       "require([\"d3\"], function(d3) {\n",
       "    d3.select(\".usersvg #pixel_crossoHG\").attr(\"transform\", \"translate(2 16)\");\n",
       "});\n",
       "</script>\n"
      ]
     },
     "metadata": {},
     "output_type": "display_data"
    },
    {
     "data": {
      "text/html": [
       "<script>\n",
       "require([\"d3\"], function(d3) {\n",
       "    d3.select(\".usersvg #pixel_crossoHG\").attr(\"transform\", \"translate(2 17)\");\n",
       "});\n",
       "</script>\n"
      ]
     },
     "metadata": {},
     "output_type": "display_data"
    },
    {
     "data": {
      "text/html": [
       "<script>\n",
       "require([\"d3\"], function(d3) {\n",
       "    d3.select(\".usersvg #pixel_crossoHG\").attr(\"transform\", \"translate(3 17)\");\n",
       "});\n",
       "</script>\n"
      ]
     },
     "metadata": {},
     "output_type": "display_data"
    },
    {
     "data": {
      "text/html": [
       "<script>\n",
       "require([\"d3\"], function(d3) {\n",
       "    d3.select(\".usersvg #pixel_crossoHG\").attr(\"transform\", \"translate(4 17)\");\n",
       "});\n",
       "</script>\n"
      ]
     },
     "metadata": {},
     "output_type": "display_data"
    },
    {
     "data": {
      "text/html": [
       "<script>\n",
       "require([\"d3\"], function(d3) {\n",
       "    d3.select(\".usersvg #pixel_crossoHG\").attr(\"transform\", \"translate(4 16)\");\n",
       "});\n",
       "</script>\n"
      ]
     },
     "metadata": {},
     "output_type": "display_data"
    },
    {
     "data": {
      "text/html": [
       "<script>\n",
       "require([\"d3\"], function(d3) {\n",
       "    d3.select(\".usersvg #pixel_crossoHG\").attr(\"transform\", \"translate(3 16)\");\n",
       "});\n",
       "</script>\n"
      ]
     },
     "metadata": {},
     "output_type": "display_data"
    },
    {
     "data": {
      "text/html": [
       "<script>\n",
       "require([\"d3\"], function(d3) {\n",
       "    d3.select(\".usersvg #pixel_crossoHG\").attr(\"transform\", \"translate(2 16)\");\n",
       "});\n",
       "</script>\n"
      ]
     },
     "metadata": {},
     "output_type": "display_data"
    },
    {
     "data": {
      "text/html": [
       "<script>\n",
       "require([\"d3\"], function(d3) {\n",
       "    d3.select(\".usersvg #pixel_crossoHG\").attr(\"transform\", \"translate(1 16)\");\n",
       "});\n",
       "</script>\n"
      ]
     },
     "metadata": {},
     "output_type": "display_data"
    },
    {
     "data": {
      "text/html": [
       "<script>\n",
       "require([\"d3\"], function(d3) {\n",
       "    d3.select(\".usersvg #pixel_crossoHG\").attr(\"transform\", \"translate(2 16)\");\n",
       "});\n",
       "</script>\n"
      ]
     },
     "metadata": {},
     "output_type": "display_data"
    },
    {
     "data": {
      "text/html": [
       "<script>\n",
       "require([\"d3\"], function(d3) {\n",
       "    d3.select(\".usersvg #pixel_crossoHG\").attr(\"transform\", \"translate(1 16)\");\n",
       "});\n",
       "</script>\n"
      ]
     },
     "metadata": {},
     "output_type": "display_data"
    },
    {
     "data": {
      "text/html": [
       "<script>\n",
       "require([\"d3\"], function(d3) {\n",
       "    d3.select(\".usersvg #pixel_crossoHG\").attr(\"transform\", \"translate(1 17)\");\n",
       "});\n",
       "</script>\n"
      ]
     },
     "metadata": {},
     "output_type": "display_data"
    },
    {
     "data": {
      "text/html": [
       "<script>\n",
       "require([\"d3\"], function(d3) {\n",
       "    d3.select(\".usersvg #pixel_crossoHG\").attr(\"transform\", \"translate(1 16)\");\n",
       "});\n",
       "</script>\n"
      ]
     },
     "metadata": {},
     "output_type": "display_data"
    },
    {
     "data": {
      "text/html": [
       "<script>\n",
       "require([\"d3\"], function(d3) {\n",
       "    d3.select(\".usersvg #pixel_crossoHG\").attr(\"transform\", \"translate(1 15)\");\n",
       "});\n",
       "</script>\n"
      ]
     },
     "metadata": {},
     "output_type": "display_data"
    },
    {
     "data": {
      "text/html": [
       "<script>\n",
       "require([\"d3\"], function(d3) {\n",
       "    d3.select(\".usersvg #pixel_crossoHG\").attr(\"transform\", \"translate(2 15)\");\n",
       "});\n",
       "</script>\n"
      ]
     },
     "metadata": {},
     "output_type": "display_data"
    },
    {
     "data": {
      "text/html": [
       "<script>\n",
       "require([\"d3\"], function(d3) {\n",
       "    d3.select(\".usersvg #pixel_crossoHG\").attr(\"transform\", \"translate(1 15)\");\n",
       "});\n",
       "</script>\n"
      ]
     },
     "metadata": {},
     "output_type": "display_data"
    },
    {
     "data": {
      "text/html": [
       "<script>\n",
       "require([\"d3\"], function(d3) {\n",
       "    d3.select(\".usersvg #pixel_crossoHG\").attr(\"transform\", \"translate(1 14)\");\n",
       "});\n",
       "</script>\n"
      ]
     },
     "metadata": {},
     "output_type": "display_data"
    },
    {
     "data": {
      "text/html": [
       "<script>\n",
       "require([\"d3\"], function(d3) {\n",
       "    d3.select(\".usersvg #pixel_crossoHG\").attr(\"transform\", \"translate(1 13)\");\n",
       "});\n",
       "</script>\n"
      ]
     },
     "metadata": {},
     "output_type": "display_data"
    },
    {
     "data": {
      "text/html": [
       "<script>\n",
       "require([\"d3\"], function(d3) {\n",
       "    d3.select(\".usersvg #pixel_crossoHG\").attr(\"transform\", \"translate(1 12)\");\n",
       "});\n",
       "</script>\n"
      ]
     },
     "metadata": {},
     "output_type": "display_data"
    },
    {
     "data": {
      "text/html": [
       "<script>\n",
       "require([\"d3\"], function(d3) {\n",
       "    d3.select(\".usersvg #pixel_crossoHG\").attr(\"transform\", \"translate(1 11)\");\n",
       "});\n",
       "</script>\n"
      ]
     },
     "metadata": {},
     "output_type": "display_data"
    },
    {
     "data": {
      "text/html": [
       "<script>\n",
       "require([\"d3\"], function(d3) {\n",
       "    d3.select(\".usersvg #pixel_crossoHG\").attr(\"transform\", \"translate(2 11)\");\n",
       "});\n",
       "</script>\n"
      ]
     },
     "metadata": {},
     "output_type": "display_data"
    },
    {
     "data": {
      "text/html": [
       "<script>\n",
       "require([\"d3\"], function(d3) {\n",
       "    d3.select(\".usersvg #pixel_crossoHG\").attr(\"transform\", \"translate(1 11)\");\n",
       "});\n",
       "</script>\n"
      ]
     },
     "metadata": {},
     "output_type": "display_data"
    },
    {
     "data": {
      "text/html": [
       "<script>\n",
       "require([\"d3\"], function(d3) {\n",
       "    d3.select(\".usersvg #pixel_crossoHG\").attr(\"transform\", \"translate(1 12)\");\n",
       "});\n",
       "</script>\n"
      ]
     },
     "metadata": {},
     "output_type": "display_data"
    },
    {
     "data": {
      "text/html": [
       "<script>\n",
       "require([\"d3\"], function(d3) {\n",
       "    d3.select(\".usersvg #pixel_crossoHG\").attr(\"transform\", \"translate(1 11)\");\n",
       "});\n",
       "</script>\n"
      ]
     },
     "metadata": {},
     "output_type": "display_data"
    },
    {
     "data": {
      "text/html": [
       "<script>\n",
       "require([\"d3\"], function(d3) {\n",
       "    d3.select(\".usersvg #pixel_crossoHG\").attr(\"transform\", \"translate(1 10)\");\n",
       "});\n",
       "</script>\n"
      ]
     },
     "metadata": {},
     "output_type": "display_data"
    },
    {
     "data": {
      "text/html": [
       "<script>\n",
       "require([\"d3\"], function(d3) {\n",
       "    d3.select(\".usersvg #pixel_crossoHG\").attr(\"transform\", \"translate(1 11)\");\n",
       "});\n",
       "</script>\n"
      ]
     },
     "metadata": {},
     "output_type": "display_data"
    },
    {
     "data": {
      "text/html": [
       "<script>\n",
       "require([\"d3\"], function(d3) {\n",
       "    d3.select(\".usersvg #pixel_crossoHG\").attr(\"transform\", \"translate(2 11)\");\n",
       "});\n",
       "</script>\n"
      ]
     },
     "metadata": {},
     "output_type": "display_data"
    },
    {
     "data": {
      "text/html": [
       "<script>\n",
       "require([\"d3\"], function(d3) {\n",
       "    d3.select(\".usersvg #pixel_crossoHG\").attr(\"transform\", \"translate(3 11)\");\n",
       "});\n",
       "</script>\n"
      ]
     },
     "metadata": {},
     "output_type": "display_data"
    },
    {
     "data": {
      "text/html": [
       "<script>\n",
       "require([\"d3\"], function(d3) {\n",
       "    d3.select(\".usersvg #pixel_crossoHG\").attr(\"transform\", \"translate(3 12)\");\n",
       "});\n",
       "</script>\n"
      ]
     },
     "metadata": {},
     "output_type": "display_data"
    },
    {
     "data": {
      "text/html": [
       "<script>\n",
       "require([\"d3\"], function(d3) {\n",
       "    d3.select(\".usersvg #pixel_crossoHG\").attr(\"transform\", \"translate(4 12)\");\n",
       "});\n",
       "</script>\n"
      ]
     },
     "metadata": {},
     "output_type": "display_data"
    },
    {
     "data": {
      "text/html": [
       "<script>\n",
       "require([\"d3\"], function(d3) {\n",
       "    d3.select(\".usersvg #pixel_crossoHG\").attr(\"transform\", \"translate(3 12)\");\n",
       "});\n",
       "</script>\n"
      ]
     },
     "metadata": {},
     "output_type": "display_data"
    },
    {
     "data": {
      "text/html": [
       "<script>\n",
       "require([\"d3\"], function(d3) {\n",
       "    d3.select(\".usersvg #pixel_crossoHG\").attr(\"transform\", \"translate(3 13)\");\n",
       "});\n",
       "</script>\n"
      ]
     },
     "metadata": {},
     "output_type": "display_data"
    },
    {
     "data": {
      "text/html": [
       "<script>\n",
       "require([\"d3\"], function(d3) {\n",
       "    d3.select(\".usersvg #pixel_crossoHG\").attr(\"transform\", \"translate(3 12)\");\n",
       "});\n",
       "</script>\n"
      ]
     },
     "metadata": {},
     "output_type": "display_data"
    },
    {
     "data": {
      "text/html": [
       "<script>\n",
       "require([\"d3\"], function(d3) {\n",
       "    d3.select(\".usersvg #pixel_crossoHG\").attr(\"transform\", \"translate(3 11)\");\n",
       "});\n",
       "</script>\n"
      ]
     },
     "metadata": {},
     "output_type": "display_data"
    },
    {
     "data": {
      "text/html": [
       "<script>\n",
       "require([\"d3\"], function(d3) {\n",
       "    d3.select(\".usersvg #pixel_crossoHG\").attr(\"transform\", \"translate(4 11)\");\n",
       "});\n",
       "</script>\n"
      ]
     },
     "metadata": {},
     "output_type": "display_data"
    },
    {
     "data": {
      "text/html": [
       "<script>\n",
       "require([\"d3\"], function(d3) {\n",
       "    d3.select(\".usersvg #pixel_crossoHG\").attr(\"transform\", \"translate(4 10)\");\n",
       "});\n",
       "</script>\n"
      ]
     },
     "metadata": {},
     "output_type": "display_data"
    },
    {
     "data": {
      "text/html": [
       "<script>\n",
       "require([\"d3\"], function(d3) {\n",
       "    d3.select(\".usersvg #pixel_crossoHG\").attr(\"transform\", \"translate(4 9)\");\n",
       "});\n",
       "</script>\n"
      ]
     },
     "metadata": {},
     "output_type": "display_data"
    },
    {
     "data": {
      "text/html": [
       "<script>\n",
       "require([\"d3\"], function(d3) {\n",
       "    d3.select(\".usersvg #pixel_crossoHG\").attr(\"transform\", \"translate(5 9)\");\n",
       "});\n",
       "</script>\n"
      ]
     },
     "metadata": {},
     "output_type": "display_data"
    },
    {
     "data": {
      "text/html": [
       "<script>\n",
       "require([\"d3\"], function(d3) {\n",
       "    d3.select(\".usersvg #pixel_crossoHG\").attr(\"transform\", \"translate(6 9)\");\n",
       "});\n",
       "</script>\n"
      ]
     },
     "metadata": {},
     "output_type": "display_data"
    },
    {
     "data": {
      "text/html": [
       "<script>\n",
       "require([\"d3\"], function(d3) {\n",
       "    d3.select(\".usersvg #pixel_crossoHG\").attr(\"transform\", \"translate(6 8)\");\n",
       "});\n",
       "</script>\n"
      ]
     },
     "metadata": {},
     "output_type": "display_data"
    },
    {
     "data": {
      "text/html": [
       "<script>\n",
       "require([\"d3\"], function(d3) {\n",
       "    d3.select(\".usersvg #pixel_crossoHG\").attr(\"transform\", \"translate(5 8)\");\n",
       "});\n",
       "</script>\n"
      ]
     },
     "metadata": {},
     "output_type": "display_data"
    },
    {
     "data": {
      "text/html": [
       "<script>\n",
       "require([\"d3\"], function(d3) {\n",
       "    d3.select(\".usersvg #pixel_crossoHG\").attr(\"transform\", \"translate(4 8)\");\n",
       "});\n",
       "</script>\n"
      ]
     },
     "metadata": {},
     "output_type": "display_data"
    },
    {
     "data": {
      "text/html": [
       "<script>\n",
       "require([\"d3\"], function(d3) {\n",
       "    d3.select(\".usersvg #pixel_crossoHG\").attr(\"transform\", \"translate(4 7)\");\n",
       "});\n",
       "</script>\n"
      ]
     },
     "metadata": {},
     "output_type": "display_data"
    },
    {
     "data": {
      "text/html": [
       "<script>\n",
       "require([\"d3\"], function(d3) {\n",
       "    d3.select(\".usersvg #pixel_crossoHG\").attr(\"transform\", \"translate(4 6)\");\n",
       "});\n",
       "</script>\n"
      ]
     },
     "metadata": {},
     "output_type": "display_data"
    },
    {
     "data": {
      "text/html": [
       "<script>\n",
       "require([\"d3\"], function(d3) {\n",
       "    d3.select(\".usersvg #pixel_crossoHG\").attr(\"transform\", \"translate(3 6)\");\n",
       "});\n",
       "</script>\n"
      ]
     },
     "metadata": {},
     "output_type": "display_data"
    },
    {
     "data": {
      "text/html": [
       "<script>\n",
       "require([\"d3\"], function(d3) {\n",
       "    d3.select(\".usersvg #pixel_crossoHG\").attr(\"transform\", \"translate(4 6)\");\n",
       "});\n",
       "</script>\n"
      ]
     },
     "metadata": {},
     "output_type": "display_data"
    },
    {
     "data": {
      "text/html": [
       "<script>\n",
       "require([\"d3\"], function(d3) {\n",
       "    d3.select(\".usersvg #pixel_crossoHG\").attr(\"transform\", \"translate(4 5)\");\n",
       "});\n",
       "</script>\n"
      ]
     },
     "metadata": {},
     "output_type": "display_data"
    },
    {
     "data": {
      "text/html": [
       "<script>\n",
       "require([\"d3\"], function(d3) {\n",
       "    d3.select(\".usersvg #pixel_crossoHG\").attr(\"transform\", \"translate(4 6)\");\n",
       "});\n",
       "</script>\n"
      ]
     },
     "metadata": {},
     "output_type": "display_data"
    },
    {
     "data": {
      "text/html": [
       "<script>\n",
       "require([\"d3\"], function(d3) {\n",
       "    d3.select(\".usersvg #pixel_crossoHG\").attr(\"transform\", \"translate(4 7)\");\n",
       "});\n",
       "</script>\n"
      ]
     },
     "metadata": {},
     "output_type": "display_data"
    },
    {
     "data": {
      "text/html": [
       "<script>\n",
       "require([\"d3\"], function(d3) {\n",
       "    d3.select(\".usersvg #pixel_crossoHG\").attr(\"transform\", \"translate(4 8)\");\n",
       "});\n",
       "</script>\n"
      ]
     },
     "metadata": {},
     "output_type": "display_data"
    },
    {
     "data": {
      "text/html": [
       "<script>\n",
       "require([\"d3\"], function(d3) {\n",
       "    d3.select(\".usersvg #pixel_crossoHG\").attr(\"transform\", \"translate(5 8)\");\n",
       "});\n",
       "</script>\n"
      ]
     },
     "metadata": {},
     "output_type": "display_data"
    },
    {
     "data": {
      "text/html": [
       "<script>\n",
       "require([\"d3\"], function(d3) {\n",
       "    d3.select(\".usersvg #pixel_crossoHG\").attr(\"transform\", \"translate(6 8)\");\n",
       "});\n",
       "</script>\n"
      ]
     },
     "metadata": {},
     "output_type": "display_data"
    },
    {
     "data": {
      "text/html": [
       "<script>\n",
       "require([\"d3\"], function(d3) {\n",
       "    d3.select(\".usersvg #pixel_crossoHG\").attr(\"transform\", \"translate(6 7)\");\n",
       "});\n",
       "</script>\n"
      ]
     },
     "metadata": {},
     "output_type": "display_data"
    },
    {
     "data": {
      "text/html": [
       "<script>\n",
       "require([\"d3\"], function(d3) {\n",
       "    d3.select(\".usersvg #pixel_crossoHG\").attr(\"transform\", \"translate(6 6)\");\n",
       "});\n",
       "</script>\n"
      ]
     },
     "metadata": {},
     "output_type": "display_data"
    },
    {
     "data": {
      "text/html": [
       "<script>\n",
       "require([\"d3\"], function(d3) {\n",
       "    d3.select(\".usersvg #pixel_crossoHG\").attr(\"transform\", \"translate(5 6)\");\n",
       "});\n",
       "</script>\n"
      ]
     },
     "metadata": {},
     "output_type": "display_data"
    },
    {
     "data": {
      "text/html": [
       "<script>\n",
       "require([\"d3\"], function(d3) {\n",
       "    d3.select(\".usersvg #pixel_crossoHG\").attr(\"transform\", \"translate(5 7)\");\n",
       "});\n",
       "</script>\n"
      ]
     },
     "metadata": {},
     "output_type": "display_data"
    },
    {
     "data": {
      "text/html": [
       "<script>\n",
       "require([\"d3\"], function(d3) {\n",
       "    d3.select(\".usersvg #pixel_crossoHG\").attr(\"transform\", \"translate(4 7)\");\n",
       "});\n",
       "</script>\n"
      ]
     },
     "metadata": {},
     "output_type": "display_data"
    },
    {
     "data": {
      "text/html": [
       "<script>\n",
       "require([\"d3\"], function(d3) {\n",
       "    d3.select(\".usersvg #pixel_crossoHG\").attr(\"transform\", \"translate(3 7)\");\n",
       "});\n",
       "</script>\n"
      ]
     },
     "metadata": {},
     "output_type": "display_data"
    },
    {
     "data": {
      "text/html": [
       "<script>\n",
       "require([\"d3\"], function(d3) {\n",
       "    d3.select(\".usersvg #pixel_crossoHG\").attr(\"transform\", \"translate(3 6)\");\n",
       "});\n",
       "</script>\n"
      ]
     },
     "metadata": {},
     "output_type": "display_data"
    },
    {
     "data": {
      "text/html": [
       "<script>\n",
       "require([\"d3\"], function(d3) {\n",
       "    d3.select(\".usersvg #pixel_crossoHG\").attr(\"transform\", \"translate(2 6)\");\n",
       "});\n",
       "</script>\n"
      ]
     },
     "metadata": {},
     "output_type": "display_data"
    },
    {
     "data": {
      "text/html": [
       "<script>\n",
       "require([\"d3\"], function(d3) {\n",
       "    d3.select(\".usersvg #pixel_crossoHG\").attr(\"transform\", \"translate(3 6)\");\n",
       "});\n",
       "</script>\n"
      ]
     },
     "metadata": {},
     "output_type": "display_data"
    },
    {
     "data": {
      "text/html": [
       "<script>\n",
       "require([\"d3\"], function(d3) {\n",
       "    d3.select(\".usersvg #pixel_crossoHG\").attr(\"transform\", \"translate(2 6)\");\n",
       "});\n",
       "</script>\n"
      ]
     },
     "metadata": {},
     "output_type": "display_data"
    },
    {
     "data": {
      "text/html": [
       "<script>\n",
       "require([\"d3\"], function(d3) {\n",
       "    d3.select(\".usersvg #pixel_crossoHG\").attr(\"transform\", \"translate(2 7)\");\n",
       "});\n",
       "</script>\n"
      ]
     },
     "metadata": {},
     "output_type": "display_data"
    },
    {
     "data": {
      "text/html": [
       "<script>\n",
       "require([\"d3\"], function(d3) {\n",
       "    d3.select(\".usersvg #pixel_crossoHG\").attr(\"transform\", \"translate(3 7)\");\n",
       "});\n",
       "</script>\n"
      ]
     },
     "metadata": {},
     "output_type": "display_data"
    },
    {
     "data": {
      "text/html": [
       "<script>\n",
       "require([\"d3\"], function(d3) {\n",
       "    d3.select(\".usersvg #pixel_crossoHG\").attr(\"transform\", \"translate(3 8)\");\n",
       "});\n",
       "</script>\n"
      ]
     },
     "metadata": {},
     "output_type": "display_data"
    },
    {
     "data": {
      "text/html": [
       "<script>\n",
       "require([\"d3\"], function(d3) {\n",
       "    d3.select(\".usersvg #pixel_crossoHG\").attr(\"transform\", \"translate(4 8)\");\n",
       "});\n",
       "</script>\n"
      ]
     },
     "metadata": {},
     "output_type": "display_data"
    },
    {
     "data": {
      "text/html": [
       "<script>\n",
       "require([\"d3\"], function(d3) {\n",
       "    d3.select(\".usersvg #pixel_crossoHG\").attr(\"transform\", \"translate(4 7)\");\n",
       "});\n",
       "</script>\n"
      ]
     },
     "metadata": {},
     "output_type": "display_data"
    },
    {
     "data": {
      "text/html": [
       "<script>\n",
       "require([\"d3\"], function(d3) {\n",
       "    d3.select(\".usersvg #pixel_crossoHG\").attr(\"transform\", \"translate(4 6)\");\n",
       "});\n",
       "</script>\n"
      ]
     },
     "metadata": {},
     "output_type": "display_data"
    },
    {
     "data": {
      "text/html": [
       "<script>\n",
       "require([\"d3\"], function(d3) {\n",
       "    d3.select(\".usersvg #pixel_crossoHG\").attr(\"transform\", \"translate(4 5)\");\n",
       "});\n",
       "</script>\n"
      ]
     },
     "metadata": {},
     "output_type": "display_data"
    },
    {
     "data": {
      "text/html": [
       "<script>\n",
       "require([\"d3\"], function(d3) {\n",
       "    d3.select(\".usersvg #pixel_crossoHG\").attr(\"transform\", \"translate(5 5)\");\n",
       "});\n",
       "</script>\n"
      ]
     },
     "metadata": {},
     "output_type": "display_data"
    },
    {
     "data": {
      "text/html": [
       "<script>\n",
       "require([\"d3\"], function(d3) {\n",
       "    d3.select(\".usersvg #pixel_crossoHG\").attr(\"transform\", \"translate(4 5)\");\n",
       "});\n",
       "</script>\n"
      ]
     },
     "metadata": {},
     "output_type": "display_data"
    },
    {
     "data": {
      "text/html": [
       "<script>\n",
       "require([\"d3\"], function(d3) {\n",
       "    d3.select(\".usersvg #pixel_crossoHG\").attr(\"transform\", \"translate(4 6)\");\n",
       "});\n",
       "</script>\n"
      ]
     },
     "metadata": {},
     "output_type": "display_data"
    },
    {
     "data": {
      "text/html": [
       "<script>\n",
       "require([\"d3\"], function(d3) {\n",
       "    d3.select(\".usersvg #pixel_crossoHG\").attr(\"transform\", \"translate(5 6)\");\n",
       "});\n",
       "</script>\n"
      ]
     },
     "metadata": {},
     "output_type": "display_data"
    },
    {
     "data": {
      "text/html": [
       "<script>\n",
       "require([\"d3\"], function(d3) {\n",
       "    d3.select(\".usersvg #pixel_crossoHG\").attr(\"transform\", \"translate(4 6)\");\n",
       "});\n",
       "</script>\n"
      ]
     },
     "metadata": {},
     "output_type": "display_data"
    },
    {
     "data": {
      "text/html": [
       "<script>\n",
       "require([\"d3\"], function(d3) {\n",
       "    d3.select(\".usersvg #pixel_crossoHG\").attr(\"transform\", \"translate(4 5)\");\n",
       "});\n",
       "</script>\n"
      ]
     },
     "metadata": {},
     "output_type": "display_data"
    },
    {
     "data": {
      "text/html": [
       "<script>\n",
       "require([\"d3\"], function(d3) {\n",
       "    d3.select(\".usersvg #pixel_crossoHG\").attr(\"transform\", \"translate(4 4)\");\n",
       "});\n",
       "</script>\n"
      ]
     },
     "metadata": {},
     "output_type": "display_data"
    },
    {
     "data": {
      "text/html": [
       "<script>\n",
       "require([\"d3\"], function(d3) {\n",
       "    d3.select(\".usersvg #pixel_crossoHG\").attr(\"transform\", \"translate(4 3)\");\n",
       "});\n",
       "</script>\n"
      ]
     },
     "metadata": {},
     "output_type": "display_data"
    },
    {
     "data": {
      "text/html": [
       "<script>\n",
       "require([\"d3\"], function(d3) {\n",
       "    d3.select(\".usersvg #pixel_crossoHG\").attr(\"transform\", \"translate(4 2)\");\n",
       "});\n",
       "</script>\n"
      ]
     },
     "metadata": {},
     "output_type": "display_data"
    },
    {
     "data": {
      "text/html": [
       "<script>\n",
       "require([\"d3\"], function(d3) {\n",
       "    d3.select(\".usersvg #pixel_crossoHG\").attr(\"transform\", \"translate(4 1)\");\n",
       "});\n",
       "</script>\n"
      ]
     },
     "metadata": {},
     "output_type": "display_data"
    },
    {
     "data": {
      "text/html": [
       "<script>\n",
       "require([\"d3\"], function(d3) {\n",
       "    d3.select(\".usersvg #pixel_crossoHG\").attr(\"transform\", \"translate(4 2)\");\n",
       "});\n",
       "</script>\n"
      ]
     },
     "metadata": {},
     "output_type": "display_data"
    },
    {
     "data": {
      "text/html": [
       "<script>\n",
       "require([\"d3\"], function(d3) {\n",
       "    d3.select(\".usersvg #pixel_crossoHG\").attr(\"transform\", \"translate(3 2)\");\n",
       "});\n",
       "</script>\n"
      ]
     },
     "metadata": {},
     "output_type": "display_data"
    },
    {
     "data": {
      "text/html": [
       "<script>\n",
       "require([\"d3\"], function(d3) {\n",
       "    d3.select(\".usersvg #pixel_crossoHG\").attr(\"transform\", \"translate(3 1)\");\n",
       "});\n",
       "</script>\n"
      ]
     },
     "metadata": {},
     "output_type": "display_data"
    },
    {
     "data": {
      "text/html": [
       "<script>\n",
       "require([\"d3\"], function(d3) {\n",
       "    d3.select(\".usersvg #pixel_crossoHG\").attr(\"transform\", \"translate(3 0)\");\n",
       "});\n",
       "</script>\n"
      ]
     },
     "metadata": {},
     "output_type": "display_data"
    },
    {
     "data": {
      "text/html": [
       "<script>\n",
       "require([\"d3\"], function(d3) {\n",
       "    d3.select(\".usersvg #pixel_crossoHG\").attr(\"transform\", \"translate(4 0)\");\n",
       "});\n",
       "</script>\n"
      ]
     },
     "metadata": {},
     "output_type": "display_data"
    },
    {
     "data": {
      "text/html": [
       "<script>\n",
       "require([\"d3\"], function(d3) {\n",
       "    d3.select(\".usersvg #pixel_crossoHG\").attr(\"transform\", \"translate(5 0)\");\n",
       "});\n",
       "</script>\n"
      ]
     },
     "metadata": {},
     "output_type": "display_data"
    },
    {
     "data": {
      "text/html": [
       "<script>\n",
       "require([\"d3\"], function(d3) {\n",
       "    d3.select(\".usersvg #pixel_crossoHG\").attr(\"transform\", \"translate(4 0)\");\n",
       "});\n",
       "</script>\n"
      ]
     },
     "metadata": {},
     "output_type": "display_data"
    },
    {
     "data": {
      "text/html": [
       "<script>\n",
       "require([\"d3\"], function(d3) {\n",
       "    d3.select(\".usersvg #pixel_crossoHG\").attr(\"transform\", \"translate(4 0)\");\n",
       "});\n",
       "</script>\n"
      ]
     },
     "metadata": {},
     "output_type": "display_data"
    },
    {
     "data": {
      "text/html": [
       "<script>\n",
       "require([\"d3\"], function(d3) {\n",
       "    d3.select(\".usersvg #pixel_crossoHG\").attr(\"transform\", \"translate(5 0)\");\n",
       "});\n",
       "</script>\n"
      ]
     },
     "metadata": {},
     "output_type": "display_data"
    },
    {
     "data": {
      "text/html": [
       "<script>\n",
       "require([\"d3\"], function(d3) {\n",
       "    d3.select(\".usersvg #pixel_crossoHG\").attr(\"transform\", \"translate(6 0)\");\n",
       "});\n",
       "</script>\n"
      ]
     },
     "metadata": {},
     "output_type": "display_data"
    },
    {
     "data": {
      "text/html": [
       "<script>\n",
       "require([\"d3\"], function(d3) {\n",
       "    d3.select(\".usersvg #pixel_crossoHG\").attr(\"transform\", \"translate(6 1)\");\n",
       "});\n",
       "</script>\n"
      ]
     },
     "metadata": {},
     "output_type": "display_data"
    },
    {
     "data": {
      "text/html": [
       "<script>\n",
       "require([\"d3\"], function(d3) {\n",
       "    d3.select(\".usersvg #pixel_crossoHG\").attr(\"transform\", \"translate(6 2)\");\n",
       "});\n",
       "</script>\n"
      ]
     },
     "metadata": {},
     "output_type": "display_data"
    },
    {
     "data": {
      "text/html": [
       "<script>\n",
       "require([\"d3\"], function(d3) {\n",
       "    d3.select(\".usersvg #pixel_crossoHG\").attr(\"transform\", \"translate(6 3)\");\n",
       "});\n",
       "</script>\n"
      ]
     },
     "metadata": {},
     "output_type": "display_data"
    },
    {
     "data": {
      "text/html": [
       "<script>\n",
       "require([\"d3\"], function(d3) {\n",
       "    d3.select(\".usersvg #pixel_crossoHG\").attr(\"transform\", \"translate(6 2)\");\n",
       "});\n",
       "</script>\n"
      ]
     },
     "metadata": {},
     "output_type": "display_data"
    },
    {
     "data": {
      "text/html": [
       "<script>\n",
       "require([\"d3\"], function(d3) {\n",
       "    d3.select(\".usersvg #pixel_crossoHG\").attr(\"transform\", \"translate(6 1)\");\n",
       "});\n",
       "</script>\n"
      ]
     },
     "metadata": {},
     "output_type": "display_data"
    },
    {
     "data": {
      "text/html": [
       "<script>\n",
       "require([\"d3\"], function(d3) {\n",
       "    d3.select(\".usersvg #pixel_crossoHG\").attr(\"transform\", \"translate(6 2)\");\n",
       "});\n",
       "</script>\n"
      ]
     },
     "metadata": {},
     "output_type": "display_data"
    },
    {
     "data": {
      "text/html": [
       "<script>\n",
       "require([\"d3\"], function(d3) {\n",
       "    d3.select(\".usersvg #pixel_crossoHG\").attr(\"transform\", \"translate(5 2)\");\n",
       "});\n",
       "</script>\n"
      ]
     },
     "metadata": {},
     "output_type": "display_data"
    },
    {
     "data": {
      "text/html": [
       "<script>\n",
       "require([\"d3\"], function(d3) {\n",
       "    d3.select(\".usersvg #pixel_crossoHG\").attr(\"transform\", \"translate(5 1)\");\n",
       "});\n",
       "</script>\n"
      ]
     },
     "metadata": {},
     "output_type": "display_data"
    },
    {
     "data": {
      "text/html": [
       "<script>\n",
       "require([\"d3\"], function(d3) {\n",
       "    d3.select(\".usersvg #pixel_crossoHG\").attr(\"transform\", \"translate(5 2)\");\n",
       "});\n",
       "</script>\n"
      ]
     },
     "metadata": {},
     "output_type": "display_data"
    },
    {
     "data": {
      "text/html": [
       "<script>\n",
       "require([\"d3\"], function(d3) {\n",
       "    d3.select(\".usersvg #pixel_crossoHG\").attr(\"transform\", \"translate(4 2)\");\n",
       "});\n",
       "</script>\n"
      ]
     },
     "metadata": {},
     "output_type": "display_data"
    },
    {
     "data": {
      "text/html": [
       "<script>\n",
       "require([\"d3\"], function(d3) {\n",
       "    d3.select(\".usersvg #pixel_crossoHG\").attr(\"transform\", \"translate(3 2)\");\n",
       "});\n",
       "</script>\n"
      ]
     },
     "metadata": {},
     "output_type": "display_data"
    },
    {
     "data": {
      "text/html": [
       "<script>\n",
       "require([\"d3\"], function(d3) {\n",
       "    d3.select(\".usersvg #pixel_crossoHG\").attr(\"transform\", \"translate(2 2)\");\n",
       "});\n",
       "</script>\n"
      ]
     },
     "metadata": {},
     "output_type": "display_data"
    },
    {
     "data": {
      "text/html": [
       "<script>\n",
       "require([\"d3\"], function(d3) {\n",
       "    d3.select(\".usersvg #pixel_crossoHG\").attr(\"transform\", \"translate(2 1)\");\n",
       "});\n",
       "</script>\n"
      ]
     },
     "metadata": {},
     "output_type": "display_data"
    },
    {
     "data": {
      "text/html": [
       "<script>\n",
       "require([\"d3\"], function(d3) {\n",
       "    d3.select(\".usersvg #pixel_crossoHG\").attr(\"transform\", \"translate(2 2)\");\n",
       "});\n",
       "</script>\n"
      ]
     },
     "metadata": {},
     "output_type": "display_data"
    },
    {
     "data": {
      "text/html": [
       "<script>\n",
       "require([\"d3\"], function(d3) {\n",
       "    d3.select(\".usersvg #pixel_crossoHG\").attr(\"transform\", \"translate(2 1)\");\n",
       "});\n",
       "</script>\n"
      ]
     },
     "metadata": {},
     "output_type": "display_data"
    },
    {
     "data": {
      "text/html": [
       "<script>\n",
       "require([\"d3\"], function(d3) {\n",
       "    d3.select(\".usersvg #pixel_crossoHG\").attr(\"transform\", \"translate(2 2)\");\n",
       "});\n",
       "</script>\n"
      ]
     },
     "metadata": {},
     "output_type": "display_data"
    },
    {
     "data": {
      "text/html": [
       "<script>\n",
       "require([\"d3\"], function(d3) {\n",
       "    d3.select(\".usersvg #pixel_crossoHG\").attr(\"transform\", \"translate(2 3)\");\n",
       "});\n",
       "</script>\n"
      ]
     },
     "metadata": {},
     "output_type": "display_data"
    },
    {
     "data": {
      "text/html": [
       "<script>\n",
       "require([\"d3\"], function(d3) {\n",
       "    d3.select(\".usersvg #pixel_crossoHG\").attr(\"transform\", \"translate(2 2)\");\n",
       "});\n",
       "</script>\n"
      ]
     },
     "metadata": {},
     "output_type": "display_data"
    },
    {
     "data": {
      "text/html": [
       "<script>\n",
       "require([\"d3\"], function(d3) {\n",
       "    d3.select(\".usersvg #pixel_crossoHG\").attr(\"transform\", \"translate(3 2)\");\n",
       "});\n",
       "</script>\n"
      ]
     },
     "metadata": {},
     "output_type": "display_data"
    },
    {
     "data": {
      "text/html": [
       "<script>\n",
       "require([\"d3\"], function(d3) {\n",
       "    d3.select(\".usersvg #pixel_crossoHG\").attr(\"transform\", \"translate(3 1)\");\n",
       "});\n",
       "</script>\n"
      ]
     },
     "metadata": {},
     "output_type": "display_data"
    },
    {
     "data": {
      "text/html": [
       "<script>\n",
       "require([\"d3\"], function(d3) {\n",
       "    d3.select(\".usersvg #pixel_crossoHG\").attr(\"transform\", \"translate(3 2)\");\n",
       "});\n",
       "</script>\n"
      ]
     },
     "metadata": {},
     "output_type": "display_data"
    },
    {
     "data": {
      "text/html": [
       "<script>\n",
       "require([\"d3\"], function(d3) {\n",
       "    d3.select(\".usersvg #pixel_crossoHG\").attr(\"transform\", \"translate(2 2)\");\n",
       "});\n",
       "</script>\n"
      ]
     },
     "metadata": {},
     "output_type": "display_data"
    },
    {
     "data": {
      "text/html": [
       "<script>\n",
       "require([\"d3\"], function(d3) {\n",
       "    d3.select(\".usersvg #pixel_crossoHG\").attr(\"transform\", \"translate(1 2)\");\n",
       "});\n",
       "</script>\n"
      ]
     },
     "metadata": {},
     "output_type": "display_data"
    },
    {
     "data": {
      "text/html": [
       "<script>\n",
       "require([\"d3\"], function(d3) {\n",
       "    d3.select(\".usersvg #pixel_crossoHG\").attr(\"transform\", \"translate(2 2)\");\n",
       "});\n",
       "</script>\n"
      ]
     },
     "metadata": {},
     "output_type": "display_data"
    },
    {
     "data": {
      "text/html": [
       "<script>\n",
       "require([\"d3\"], function(d3) {\n",
       "    d3.select(\".usersvg #pixel_crossoHG\").attr(\"transform\", \"translate(3 2)\");\n",
       "});\n",
       "</script>\n"
      ]
     },
     "metadata": {},
     "output_type": "display_data"
    },
    {
     "data": {
      "text/html": [
       "<script>\n",
       "require([\"d3\"], function(d3) {\n",
       "    d3.select(\".usersvg #pixel_crossoHG\").attr(\"transform\", \"translate(4 2)\");\n",
       "});\n",
       "</script>\n"
      ]
     },
     "metadata": {},
     "output_type": "display_data"
    },
    {
     "data": {
      "text/html": [
       "<script>\n",
       "require([\"d3\"], function(d3) {\n",
       "    d3.select(\".usersvg #pixel_crossoHG\").attr(\"transform\", \"translate(4 3)\");\n",
       "});\n",
       "</script>\n"
      ]
     },
     "metadata": {},
     "output_type": "display_data"
    },
    {
     "data": {
      "text/html": [
       "<script>\n",
       "require([\"d3\"], function(d3) {\n",
       "    d3.select(\".usersvg #pixel_crossoHG\").attr(\"transform\", \"translate(4 2)\");\n",
       "});\n",
       "</script>\n"
      ]
     },
     "metadata": {},
     "output_type": "display_data"
    },
    {
     "data": {
      "text/html": [
       "<script>\n",
       "require([\"d3\"], function(d3) {\n",
       "    d3.select(\".usersvg #pixel_crossoHG\").attr(\"transform\", \"translate(4 1)\");\n",
       "});\n",
       "</script>\n"
      ]
     },
     "metadata": {},
     "output_type": "display_data"
    },
    {
     "data": {
      "text/html": [
       "<script>\n",
       "require([\"d3\"], function(d3) {\n",
       "    d3.select(\".usersvg #pixel_crossoHG\").attr(\"transform\", \"translate(4 2)\");\n",
       "});\n",
       "</script>\n"
      ]
     },
     "metadata": {},
     "output_type": "display_data"
    },
    {
     "data": {
      "text/html": [
       "<script>\n",
       "require([\"d3\"], function(d3) {\n",
       "    d3.select(\".usersvg #pixel_crossoHG\").attr(\"transform\", \"translate(3 2)\");\n",
       "});\n",
       "</script>\n"
      ]
     },
     "metadata": {},
     "output_type": "display_data"
    },
    {
     "data": {
      "text/html": [
       "<script>\n",
       "require([\"d3\"], function(d3) {\n",
       "    d3.select(\".usersvg #pixel_crossoHG\").attr(\"transform\", \"translate(3 1)\");\n",
       "});\n",
       "</script>\n"
      ]
     },
     "metadata": {},
     "output_type": "display_data"
    },
    {
     "data": {
      "text/html": [
       "<script>\n",
       "require([\"d3\"], function(d3) {\n",
       "    d3.select(\".usersvg #pixel_crossoHG\").attr(\"transform\", \"translate(3 2)\");\n",
       "});\n",
       "</script>\n"
      ]
     },
     "metadata": {},
     "output_type": "display_data"
    },
    {
     "data": {
      "text/html": [
       "<script>\n",
       "require([\"d3\"], function(d3) {\n",
       "    d3.select(\".usersvg #pixel_crossoHG\").attr(\"transform\", \"translate(3 3)\");\n",
       "});\n",
       "</script>\n"
      ]
     },
     "metadata": {},
     "output_type": "display_data"
    },
    {
     "data": {
      "text/html": [
       "<script>\n",
       "require([\"d3\"], function(d3) {\n",
       "    d3.select(\".usersvg #pixel_crossoHG\").attr(\"transform\", \"translate(4 3)\");\n",
       "});\n",
       "</script>\n"
      ]
     },
     "metadata": {},
     "output_type": "display_data"
    },
    {
     "data": {
      "text/html": [
       "<script>\n",
       "require([\"d3\"], function(d3) {\n",
       "    d3.select(\".usersvg #pixel_crossoHG\").attr(\"transform\", \"translate(4 4)\");\n",
       "});\n",
       "</script>\n"
      ]
     },
     "metadata": {},
     "output_type": "display_data"
    },
    {
     "data": {
      "text/html": [
       "<script>\n",
       "require([\"d3\"], function(d3) {\n",
       "    d3.select(\".usersvg #pixel_crossoHG\").attr(\"transform\", \"translate(4 5)\");\n",
       "});\n",
       "</script>\n"
      ]
     },
     "metadata": {},
     "output_type": "display_data"
    },
    {
     "data": {
      "text/html": [
       "<script>\n",
       "require([\"d3\"], function(d3) {\n",
       "    d3.select(\".usersvg #pixel_crossoHG\").attr(\"transform\", \"translate(5 5)\");\n",
       "});\n",
       "</script>\n"
      ]
     },
     "metadata": {},
     "output_type": "display_data"
    },
    {
     "data": {
      "text/html": [
       "<script>\n",
       "require([\"d3\"], function(d3) {\n",
       "    d3.select(\".usersvg #pixel_crossoHG\").attr(\"transform\", \"translate(4 5)\");\n",
       "});\n",
       "</script>\n"
      ]
     },
     "metadata": {},
     "output_type": "display_data"
    },
    {
     "data": {
      "text/html": [
       "<script>\n",
       "require([\"d3\"], function(d3) {\n",
       "    d3.select(\".usersvg #pixel_crossoHG\").attr(\"transform\", \"translate(4 4)\");\n",
       "});\n",
       "</script>\n"
      ]
     },
     "metadata": {},
     "output_type": "display_data"
    },
    {
     "data": {
      "text/html": [
       "<script>\n",
       "require([\"d3\"], function(d3) {\n",
       "    d3.select(\".usersvg #pixel_crossoHG\").attr(\"transform\", \"translate(5 4)\");\n",
       "});\n",
       "</script>\n"
      ]
     },
     "metadata": {},
     "output_type": "display_data"
    },
    {
     "data": {
      "text/html": [
       "<script>\n",
       "require([\"d3\"], function(d3) {\n",
       "    d3.select(\".usersvg #pixel_crossoHG\").attr(\"transform\", \"translate(5 3)\");\n",
       "});\n",
       "</script>\n"
      ]
     },
     "metadata": {},
     "output_type": "display_data"
    },
    {
     "data": {
      "text/html": [
       "<script>\n",
       "require([\"d3\"], function(d3) {\n",
       "    d3.select(\".usersvg #pixel_crossoHG\").attr(\"transform\", \"translate(5 2)\");\n",
       "});\n",
       "</script>\n"
      ]
     },
     "metadata": {},
     "output_type": "display_data"
    },
    {
     "data": {
      "text/html": [
       "<script>\n",
       "require([\"d3\"], function(d3) {\n",
       "    d3.select(\".usersvg #pixel_crossoHG\").attr(\"transform\", \"translate(5 1)\");\n",
       "});\n",
       "</script>\n"
      ]
     },
     "metadata": {},
     "output_type": "display_data"
    },
    {
     "data": {
      "text/html": [
       "<script>\n",
       "require([\"d3\"], function(d3) {\n",
       "    d3.select(\".usersvg #pixel_crossoHG\").attr(\"transform\", \"translate(5 0)\");\n",
       "});\n",
       "</script>\n"
      ]
     },
     "metadata": {},
     "output_type": "display_data"
    },
    {
     "data": {
      "text/html": [
       "<script>\n",
       "require([\"d3\"], function(d3) {\n",
       "    d3.select(\".usersvg #pixel_crossoHG\").attr(\"transform\", \"translate(5 1)\");\n",
       "});\n",
       "</script>\n"
      ]
     },
     "metadata": {},
     "output_type": "display_data"
    },
    {
     "data": {
      "text/html": [
       "<script>\n",
       "require([\"d3\"], function(d3) {\n",
       "    d3.select(\".usersvg #pixel_crossoHG\").attr(\"transform\", \"translate(4 1)\");\n",
       "});\n",
       "</script>\n"
      ]
     },
     "metadata": {},
     "output_type": "display_data"
    },
    {
     "data": {
      "text/html": [
       "<script>\n",
       "require([\"d3\"], function(d3) {\n",
       "    d3.select(\".usersvg #pixel_crossoHG\").attr(\"transform\", \"translate(3 1)\");\n",
       "});\n",
       "</script>\n"
      ]
     },
     "metadata": {},
     "output_type": "display_data"
    },
    {
     "data": {
      "text/html": [
       "<script>\n",
       "require([\"d3\"], function(d3) {\n",
       "    d3.select(\".usersvg #pixel_crossoHG\").attr(\"transform\", \"translate(3 0)\");\n",
       "});\n",
       "</script>\n"
      ]
     },
     "metadata": {},
     "output_type": "display_data"
    },
    {
     "data": {
      "text/html": [
       "<script>\n",
       "require([\"d3\"], function(d3) {\n",
       "    d3.select(\".usersvg #pixel_crossoHG\").attr(\"transform\", \"translate(3 1)\");\n",
       "});\n",
       "</script>\n"
      ]
     },
     "metadata": {},
     "output_type": "display_data"
    },
    {
     "data": {
      "text/html": [
       "<script>\n",
       "require([\"d3\"], function(d3) {\n",
       "    d3.select(\".usersvg #pixel_crossoHG\").attr(\"transform\", \"translate(2 1)\");\n",
       "});\n",
       "</script>\n"
      ]
     },
     "metadata": {},
     "output_type": "display_data"
    },
    {
     "data": {
      "text/html": [
       "<script>\n",
       "require([\"d3\"], function(d3) {\n",
       "    d3.select(\".usersvg #pixel_crossoHG\").attr(\"transform\", \"translate(3 1)\");\n",
       "});\n",
       "</script>\n"
      ]
     },
     "metadata": {},
     "output_type": "display_data"
    },
    {
     "data": {
      "text/html": [
       "<script>\n",
       "require([\"d3\"], function(d3) {\n",
       "    d3.select(\".usersvg #pixel_crossoHG\").attr(\"transform\", \"translate(3 2)\");\n",
       "});\n",
       "</script>\n"
      ]
     },
     "metadata": {},
     "output_type": "display_data"
    },
    {
     "data": {
      "text/html": [
       "<script>\n",
       "require([\"d3\"], function(d3) {\n",
       "    d3.select(\".usersvg #pixel_crossoHG\").attr(\"transform\", \"translate(3 1)\");\n",
       "});\n",
       "</script>\n"
      ]
     },
     "metadata": {},
     "output_type": "display_data"
    },
    {
     "data": {
      "text/html": [
       "<script>\n",
       "require([\"d3\"], function(d3) {\n",
       "    d3.select(\".usersvg #pixel_crossoHG\").attr(\"transform\", \"translate(4 1)\");\n",
       "});\n",
       "</script>\n"
      ]
     },
     "metadata": {},
     "output_type": "display_data"
    },
    {
     "data": {
      "text/html": [
       "<script>\n",
       "require([\"d3\"], function(d3) {\n",
       "    d3.select(\".usersvg #pixel_crossoHG\").attr(\"transform\", \"translate(5 1)\");\n",
       "});\n",
       "</script>\n"
      ]
     },
     "metadata": {},
     "output_type": "display_data"
    },
    {
     "data": {
      "text/html": [
       "<script>\n",
       "require([\"d3\"], function(d3) {\n",
       "    d3.select(\".usersvg #pixel_crossoHG\").attr(\"transform\", \"translate(5 2)\");\n",
       "});\n",
       "</script>\n"
      ]
     },
     "metadata": {},
     "output_type": "display_data"
    },
    {
     "data": {
      "text/html": [
       "<script>\n",
       "require([\"d3\"], function(d3) {\n",
       "    d3.select(\".usersvg #pixel_crossoHG\").attr(\"transform\", \"translate(5 1)\");\n",
       "});\n",
       "</script>\n"
      ]
     },
     "metadata": {},
     "output_type": "display_data"
    },
    {
     "data": {
      "text/html": [
       "<script>\n",
       "require([\"d3\"], function(d3) {\n",
       "    d3.select(\".usersvg #pixel_crossoHG\").attr(\"transform\", \"translate(5 0)\");\n",
       "});\n",
       "</script>\n"
      ]
     },
     "metadata": {},
     "output_type": "display_data"
    },
    {
     "data": {
      "text/html": [
       "<script>\n",
       "require([\"d3\"], function(d3) {\n",
       "    d3.select(\".usersvg #pixel_crossoHG\").attr(\"transform\", \"translate(5 0)\");\n",
       "});\n",
       "</script>\n"
      ]
     },
     "metadata": {},
     "output_type": "display_data"
    },
    {
     "data": {
      "text/html": [
       "<script>\n",
       "require([\"d3\"], function(d3) {\n",
       "    d3.select(\".usersvg #pixel_crossoHG\").attr(\"transform\", \"translate(4 0)\");\n",
       "});\n",
       "</script>\n"
      ]
     },
     "metadata": {},
     "output_type": "display_data"
    },
    {
     "data": {
      "text/html": [
       "<script>\n",
       "require([\"d3\"], function(d3) {\n",
       "    d3.select(\".usersvg #pixel_crossoHG\").attr(\"transform\", \"translate(3 0)\");\n",
       "});\n",
       "</script>\n"
      ]
     },
     "metadata": {},
     "output_type": "display_data"
    },
    {
     "data": {
      "text/html": [
       "<script>\n",
       "require([\"d3\"], function(d3) {\n",
       "    d3.select(\".usersvg #pixel_crossoHG\").attr(\"transform\", \"translate(2 0)\");\n",
       "});\n",
       "</script>\n"
      ]
     },
     "metadata": {},
     "output_type": "display_data"
    },
    {
     "data": {
      "text/html": [
       "<script>\n",
       "require([\"d3\"], function(d3) {\n",
       "    d3.select(\".usersvg #pixel_crossoHG\").attr(\"transform\", \"translate(2 0)\");\n",
       "});\n",
       "</script>\n"
      ]
     },
     "metadata": {},
     "output_type": "display_data"
    },
    {
     "data": {
      "text/html": [
       "<script>\n",
       "require([\"d3\"], function(d3) {\n",
       "    d3.select(\".usersvg #pixel_crossoHG\").attr(\"transform\", \"translate(1 0)\");\n",
       "});\n",
       "</script>\n"
      ]
     },
     "metadata": {},
     "output_type": "display_data"
    },
    {
     "data": {
      "text/html": [
       "<script>\n",
       "require([\"d3\"], function(d3) {\n",
       "    d3.select(\".usersvg #pixel_crossoHG\").attr(\"transform\", \"translate(1 0)\");\n",
       "});\n",
       "</script>\n"
      ]
     },
     "metadata": {},
     "output_type": "display_data"
    },
    {
     "data": {
      "text/html": [
       "<script>\n",
       "require([\"d3\"], function(d3) {\n",
       "    d3.select(\".usersvg #pixel_crossoHG\").attr(\"transform\", \"translate(1 0)\");\n",
       "});\n",
       "</script>\n"
      ]
     },
     "metadata": {},
     "output_type": "display_data"
    },
    {
     "data": {
      "text/html": [
       "<script>\n",
       "require([\"d3\"], function(d3) {\n",
       "    d3.select(\".usersvg #pixel_crossoHG\").attr(\"transform\", \"translate(0 0)\");\n",
       "});\n",
       "</script>\n"
      ]
     },
     "metadata": {},
     "output_type": "display_data"
    },
    {
     "data": {
      "text/html": [
       "<script>\n",
       "require([\"d3\"], function(d3) {\n",
       "    d3.select(\".usersvg #pixel_crossoHG\").attr(\"transform\", \"translate(0 0)\");\n",
       "});\n",
       "</script>\n"
      ]
     },
     "metadata": {},
     "output_type": "display_data"
    },
    {
     "data": {
      "text/html": [
       "<script>\n",
       "require([\"d3\"], function(d3) {\n",
       "    d3.select(\".usersvg #pixel_crossoHG\").attr(\"transform\", \"translate(0 1)\");\n",
       "});\n",
       "</script>\n"
      ]
     },
     "metadata": {},
     "output_type": "display_data"
    },
    {
     "data": {
      "text/html": [
       "<script>\n",
       "require([\"d3\"], function(d3) {\n",
       "    d3.select(\".usersvg #pixel_crossoHG\").attr(\"transform\", \"translate(1 1)\");\n",
       "});\n",
       "</script>\n"
      ]
     },
     "metadata": {},
     "output_type": "display_data"
    },
    {
     "data": {
      "text/html": [
       "<script>\n",
       "require([\"d3\"], function(d3) {\n",
       "    d3.select(\".usersvg #pixel_crossoHG\").attr(\"transform\", \"translate(2 1)\");\n",
       "});\n",
       "</script>\n"
      ]
     },
     "metadata": {},
     "output_type": "display_data"
    },
    {
     "data": {
      "text/html": [
       "<script>\n",
       "require([\"d3\"], function(d3) {\n",
       "    d3.select(\".usersvg #pixel_crossoHG\").attr(\"transform\", \"translate(2 0)\");\n",
       "});\n",
       "</script>\n"
      ]
     },
     "metadata": {},
     "output_type": "display_data"
    },
    {
     "data": {
      "text/html": [
       "<script>\n",
       "require([\"d3\"], function(d3) {\n",
       "    d3.select(\".usersvg #pixel_crossoHG\").attr(\"transform\", \"translate(2 1)\");\n",
       "});\n",
       "</script>\n"
      ]
     },
     "metadata": {},
     "output_type": "display_data"
    },
    {
     "data": {
      "text/html": [
       "<script>\n",
       "require([\"d3\"], function(d3) {\n",
       "    d3.select(\".usersvg #pixel_crossoHG\").attr(\"transform\", \"translate(3 1)\");\n",
       "});\n",
       "</script>\n"
      ]
     },
     "metadata": {},
     "output_type": "display_data"
    },
    {
     "data": {
      "text/html": [
       "<script>\n",
       "require([\"d3\"], function(d3) {\n",
       "    d3.select(\".usersvg #pixel_crossoHG\").attr(\"transform\", \"translate(3 0)\");\n",
       "});\n",
       "</script>\n"
      ]
     },
     "metadata": {},
     "output_type": "display_data"
    },
    {
     "data": {
      "text/html": [
       "<script>\n",
       "require([\"d3\"], function(d3) {\n",
       "    d3.select(\".usersvg #pixel_crossoHG\").attr(\"transform\", \"translate(3 0)\");\n",
       "});\n",
       "</script>\n"
      ]
     },
     "metadata": {},
     "output_type": "display_data"
    },
    {
     "data": {
      "text/html": [
       "<script>\n",
       "require([\"d3\"], function(d3) {\n",
       "    d3.select(\".usersvg #pixel_crossoHG\").attr(\"transform\", \"translate(3 1)\");\n",
       "});\n",
       "</script>\n"
      ]
     },
     "metadata": {},
     "output_type": "display_data"
    },
    {
     "data": {
      "text/html": [
       "<script>\n",
       "require([\"d3\"], function(d3) {\n",
       "    d3.select(\".usersvg #pixel_crossoHG\").attr(\"transform\", \"translate(3 2)\");\n",
       "});\n",
       "</script>\n"
      ]
     },
     "metadata": {},
     "output_type": "display_data"
    },
    {
     "data": {
      "text/html": [
       "<script>\n",
       "require([\"d3\"], function(d3) {\n",
       "    d3.select(\".usersvg #pixel_crossoHG\").attr(\"transform\", \"translate(4 2)\");\n",
       "});\n",
       "</script>\n"
      ]
     },
     "metadata": {},
     "output_type": "display_data"
    },
    {
     "data": {
      "text/html": [
       "<script>\n",
       "require([\"d3\"], function(d3) {\n",
       "    d3.select(\".usersvg #pixel_crossoHG\").attr(\"transform\", \"translate(4 1)\");\n",
       "});\n",
       "</script>\n"
      ]
     },
     "metadata": {},
     "output_type": "display_data"
    },
    {
     "data": {
      "text/html": [
       "<script>\n",
       "require([\"d3\"], function(d3) {\n",
       "    d3.select(\".usersvg #pixel_crossoHG\").attr(\"transform\", \"translate(4 0)\");\n",
       "});\n",
       "</script>\n"
      ]
     },
     "metadata": {},
     "output_type": "display_data"
    },
    {
     "data": {
      "text/html": [
       "<script>\n",
       "require([\"d3\"], function(d3) {\n",
       "    d3.select(\".usersvg #pixel_crossoHG\").attr(\"transform\", \"translate(3 0)\");\n",
       "});\n",
       "</script>\n"
      ]
     },
     "metadata": {},
     "output_type": "display_data"
    },
    {
     "data": {
      "text/html": [
       "<script>\n",
       "require([\"d3\"], function(d3) {\n",
       "    d3.select(\".usersvg #pixel_crossoHG\").attr(\"transform\", \"translate(3 0)\");\n",
       "});\n",
       "</script>\n"
      ]
     },
     "metadata": {},
     "output_type": "display_data"
    },
    {
     "data": {
      "text/html": [
       "<script>\n",
       "require([\"d3\"], function(d3) {\n",
       "    d3.select(\".usersvg #pixel_crossoHG\").attr(\"transform\", \"translate(4 0)\");\n",
       "});\n",
       "</script>\n"
      ]
     },
     "metadata": {},
     "output_type": "display_data"
    },
    {
     "data": {
      "text/html": [
       "<script>\n",
       "require([\"d3\"], function(d3) {\n",
       "    d3.select(\".usersvg #pixel_crossoHG\").attr(\"transform\", \"translate(4 1)\");\n",
       "});\n",
       "</script>\n"
      ]
     },
     "metadata": {},
     "output_type": "display_data"
    },
    {
     "data": {
      "text/html": [
       "<script>\n",
       "require([\"d3\"], function(d3) {\n",
       "    d3.select(\".usersvg #pixel_crossoHG\").attr(\"transform\", \"translate(4 2)\");\n",
       "});\n",
       "</script>\n"
      ]
     },
     "metadata": {},
     "output_type": "display_data"
    },
    {
     "data": {
      "text/html": [
       "<script>\n",
       "require([\"d3\"], function(d3) {\n",
       "    d3.select(\".usersvg #pixel_crossoHG\").attr(\"transform\", \"translate(5 2)\");\n",
       "});\n",
       "</script>\n"
      ]
     },
     "metadata": {},
     "output_type": "display_data"
    },
    {
     "data": {
      "text/html": [
       "<script>\n",
       "require([\"d3\"], function(d3) {\n",
       "    d3.select(\".usersvg #pixel_crossoHG\").attr(\"transform\", \"translate(4 2)\");\n",
       "});\n",
       "</script>\n"
      ]
     },
     "metadata": {},
     "output_type": "display_data"
    },
    {
     "data": {
      "text/html": [
       "<script>\n",
       "require([\"d3\"], function(d3) {\n",
       "    d3.select(\".usersvg #pixel_crossoHG\").attr(\"transform\", \"translate(5 2)\");\n",
       "});\n",
       "</script>\n"
      ]
     },
     "metadata": {},
     "output_type": "display_data"
    },
    {
     "data": {
      "text/html": [
       "<script>\n",
       "require([\"d3\"], function(d3) {\n",
       "    d3.select(\".usersvg #pixel_crossoHG\").attr(\"transform\", \"translate(5 3)\");\n",
       "});\n",
       "</script>\n"
      ]
     },
     "metadata": {},
     "output_type": "display_data"
    },
    {
     "data": {
      "text/html": [
       "<script>\n",
       "require([\"d3\"], function(d3) {\n",
       "    d3.select(\".usersvg #pixel_crossoHG\").attr(\"transform\", \"translate(5 2)\");\n",
       "});\n",
       "</script>\n"
      ]
     },
     "metadata": {},
     "output_type": "display_data"
    },
    {
     "data": {
      "text/html": [
       "<script>\n",
       "require([\"d3\"], function(d3) {\n",
       "    d3.select(\".usersvg #pixel_crossoHG\").attr(\"transform\", \"translate(6 2)\");\n",
       "});\n",
       "</script>\n"
      ]
     },
     "metadata": {},
     "output_type": "display_data"
    },
    {
     "data": {
      "text/html": [
       "<script>\n",
       "require([\"d3\"], function(d3) {\n",
       "    d3.select(\".usersvg #pixel_crossoHG\").attr(\"transform\", \"translate(6 1)\");\n",
       "});\n",
       "</script>\n"
      ]
     },
     "metadata": {},
     "output_type": "display_data"
    },
    {
     "data": {
      "text/html": [
       "<script>\n",
       "require([\"d3\"], function(d3) {\n",
       "    d3.select(\".usersvg #pixel_crossoHG\").attr(\"transform\", \"translate(5 1)\");\n",
       "});\n",
       "</script>\n"
      ]
     },
     "metadata": {},
     "output_type": "display_data"
    },
    {
     "data": {
      "text/html": [
       "<script>\n",
       "require([\"d3\"], function(d3) {\n",
       "    d3.select(\".usersvg #pixel_crossoHG\").attr(\"transform\", \"translate(5 0)\");\n",
       "});\n",
       "</script>\n"
      ]
     },
     "metadata": {},
     "output_type": "display_data"
    },
    {
     "data": {
      "text/html": [
       "<script>\n",
       "require([\"d3\"], function(d3) {\n",
       "    d3.select(\".usersvg #pixel_crossoHG\").attr(\"transform\", \"translate(6 0)\");\n",
       "});\n",
       "</script>\n"
      ]
     },
     "metadata": {},
     "output_type": "display_data"
    },
    {
     "data": {
      "text/html": [
       "<script>\n",
       "require([\"d3\"], function(d3) {\n",
       "    d3.select(\".usersvg #pixel_crossoHG\").attr(\"transform\", \"translate(5 0)\");\n",
       "});\n",
       "</script>\n"
      ]
     },
     "metadata": {},
     "output_type": "display_data"
    },
    {
     "data": {
      "text/html": [
       "<script>\n",
       "require([\"d3\"], function(d3) {\n",
       "    d3.select(\".usersvg #pixel_crossoHG\").attr(\"transform\", \"translate(5 0)\");\n",
       "});\n",
       "</script>\n"
      ]
     },
     "metadata": {},
     "output_type": "display_data"
    },
    {
     "data": {
      "text/html": [
       "<script>\n",
       "require([\"d3\"], function(d3) {\n",
       "    d3.select(\".usersvg #pixel_crossoHG\").attr(\"transform\", \"translate(4 0)\");\n",
       "});\n",
       "</script>\n"
      ]
     },
     "metadata": {},
     "output_type": "display_data"
    },
    {
     "data": {
      "text/html": [
       "<script>\n",
       "require([\"d3\"], function(d3) {\n",
       "    d3.select(\".usersvg #pixel_crossoHG\").attr(\"transform\", \"translate(3 0)\");\n",
       "});\n",
       "</script>\n"
      ]
     },
     "metadata": {},
     "output_type": "display_data"
    },
    {
     "data": {
      "text/html": [
       "<script>\n",
       "require([\"d3\"], function(d3) {\n",
       "    d3.select(\".usersvg #pixel_crossoHG\").attr(\"transform\", \"translate(3 1)\");\n",
       "});\n",
       "</script>\n"
      ]
     },
     "metadata": {},
     "output_type": "display_data"
    },
    {
     "data": {
      "text/html": [
       "<script>\n",
       "require([\"d3\"], function(d3) {\n",
       "    d3.select(\".usersvg #pixel_crossoHG\").attr(\"transform\", \"translate(3 2)\");\n",
       "});\n",
       "</script>\n"
      ]
     },
     "metadata": {},
     "output_type": "display_data"
    },
    {
     "data": {
      "text/html": [
       "<script>\n",
       "require([\"d3\"], function(d3) {\n",
       "    d3.select(\".usersvg #pixel_crossoHG\").attr(\"transform\", \"translate(2 2)\");\n",
       "});\n",
       "</script>\n"
      ]
     },
     "metadata": {},
     "output_type": "display_data"
    },
    {
     "data": {
      "text/html": [
       "<script>\n",
       "require([\"d3\"], function(d3) {\n",
       "    d3.select(\".usersvg #pixel_crossoHG\").attr(\"transform\", \"translate(2 1)\");\n",
       "});\n",
       "</script>\n"
      ]
     },
     "metadata": {},
     "output_type": "display_data"
    },
    {
     "data": {
      "text/html": [
       "<script>\n",
       "require([\"d3\"], function(d3) {\n",
       "    d3.select(\".usersvg #pixel_crossoHG\").attr(\"transform\", \"translate(2 0)\");\n",
       "});\n",
       "</script>\n"
      ]
     },
     "metadata": {},
     "output_type": "display_data"
    },
    {
     "data": {
      "text/html": [
       "<script>\n",
       "require([\"d3\"], function(d3) {\n",
       "    d3.select(\".usersvg #pixel_crossoHG\").attr(\"transform\", \"translate(2 1)\");\n",
       "});\n",
       "</script>\n"
      ]
     },
     "metadata": {},
     "output_type": "display_data"
    },
    {
     "data": {
      "text/html": [
       "<script>\n",
       "require([\"d3\"], function(d3) {\n",
       "    d3.select(\".usersvg #pixel_crossoHG\").attr(\"transform\", \"translate(2 2)\");\n",
       "});\n",
       "</script>\n"
      ]
     },
     "metadata": {},
     "output_type": "display_data"
    },
    {
     "data": {
      "text/html": [
       "<script>\n",
       "require([\"d3\"], function(d3) {\n",
       "    d3.select(\".usersvg #pixel_crossoHG\").attr(\"transform\", \"translate(1 2)\");\n",
       "});\n",
       "</script>\n"
      ]
     },
     "metadata": {},
     "output_type": "display_data"
    },
    {
     "data": {
      "text/html": [
       "<script>\n",
       "require([\"d3\"], function(d3) {\n",
       "    d3.select(\".usersvg #pixel_crossoHG\").attr(\"transform\", \"translate(2 2)\");\n",
       "});\n",
       "</script>\n"
      ]
     },
     "metadata": {},
     "output_type": "display_data"
    },
    {
     "data": {
      "text/html": [
       "<script>\n",
       "require([\"d3\"], function(d3) {\n",
       "    d3.select(\".usersvg #pixel_crossoHG\").attr(\"transform\", \"translate(2 1)\");\n",
       "});\n",
       "</script>\n"
      ]
     },
     "metadata": {},
     "output_type": "display_data"
    },
    {
     "data": {
      "text/html": [
       "<script>\n",
       "require([\"d3\"], function(d3) {\n",
       "    d3.select(\".usersvg #pixel_crossoHG\").attr(\"transform\", \"translate(2 2)\");\n",
       "});\n",
       "</script>\n"
      ]
     },
     "metadata": {},
     "output_type": "display_data"
    },
    {
     "data": {
      "text/html": [
       "<script>\n",
       "require([\"d3\"], function(d3) {\n",
       "    d3.select(\".usersvg #pixel_crossoHG\").attr(\"transform\", \"translate(2 3)\");\n",
       "});\n",
       "</script>\n"
      ]
     },
     "metadata": {},
     "output_type": "display_data"
    },
    {
     "data": {
      "text/html": [
       "<script>\n",
       "require([\"d3\"], function(d3) {\n",
       "    d3.select(\".usersvg #pixel_crossoHG\").attr(\"transform\", \"translate(3 3)\");\n",
       "});\n",
       "</script>\n"
      ]
     },
     "metadata": {},
     "output_type": "display_data"
    },
    {
     "data": {
      "text/html": [
       "<script>\n",
       "require([\"d3\"], function(d3) {\n",
       "    d3.select(\".usersvg #pixel_crossoHG\").attr(\"transform\", \"translate(2 3)\");\n",
       "});\n",
       "</script>\n"
      ]
     },
     "metadata": {},
     "output_type": "display_data"
    },
    {
     "data": {
      "text/html": [
       "<script>\n",
       "require([\"d3\"], function(d3) {\n",
       "    d3.select(\".usersvg #pixel_crossoHG\").attr(\"transform\", \"translate(2 4)\");\n",
       "});\n",
       "</script>\n"
      ]
     },
     "metadata": {},
     "output_type": "display_data"
    },
    {
     "data": {
      "text/html": [
       "<script>\n",
       "require([\"d3\"], function(d3) {\n",
       "    d3.select(\".usersvg #pixel_crossoHG\").attr(\"transform\", \"translate(2 3)\");\n",
       "});\n",
       "</script>\n"
      ]
     },
     "metadata": {},
     "output_type": "display_data"
    },
    {
     "data": {
      "text/html": [
       "<script>\n",
       "require([\"d3\"], function(d3) {\n",
       "    d3.select(\".usersvg #pixel_crossoHG\").attr(\"transform\", \"translate(2 2)\");\n",
       "});\n",
       "</script>\n"
      ]
     },
     "metadata": {},
     "output_type": "display_data"
    },
    {
     "data": {
      "text/html": [
       "<script>\n",
       "require([\"d3\"], function(d3) {\n",
       "    d3.select(\".usersvg #pixel_crossoHG\").attr(\"transform\", \"translate(1 2)\");\n",
       "});\n",
       "</script>\n"
      ]
     },
     "metadata": {},
     "output_type": "display_data"
    },
    {
     "data": {
      "text/html": [
       "<script>\n",
       "require([\"d3\"], function(d3) {\n",
       "    d3.select(\".usersvg #pixel_crossoHG\").attr(\"transform\", \"translate(0 2)\");\n",
       "});\n",
       "</script>\n"
      ]
     },
     "metadata": {},
     "output_type": "display_data"
    },
    {
     "data": {
      "text/html": [
       "<script>\n",
       "require([\"d3\"], function(d3) {\n",
       "    d3.select(\".usersvg #pixel_crossoHG\").attr(\"transform\", \"translate(0 3)\");\n",
       "});\n",
       "</script>\n"
      ]
     },
     "metadata": {},
     "output_type": "display_data"
    },
    {
     "data": {
      "text/html": [
       "<script>\n",
       "require([\"d3\"], function(d3) {\n",
       "    d3.select(\".usersvg #pixel_crossoHG\").attr(\"transform\", \"translate(0 4)\");\n",
       "});\n",
       "</script>\n"
      ]
     },
     "metadata": {},
     "output_type": "display_data"
    },
    {
     "data": {
      "text/html": [
       "<script>\n",
       "require([\"d3\"], function(d3) {\n",
       "    d3.select(\".usersvg #pixel_crossoHG\").attr(\"transform\", \"translate(0 3)\");\n",
       "});\n",
       "</script>\n"
      ]
     },
     "metadata": {},
     "output_type": "display_data"
    },
    {
     "data": {
      "text/html": [
       "<script>\n",
       "require([\"d3\"], function(d3) {\n",
       "    d3.select(\".usersvg #pixel_crossoHG\").attr(\"transform\", \"translate(1 3)\");\n",
       "});\n",
       "</script>\n"
      ]
     },
     "metadata": {},
     "output_type": "display_data"
    },
    {
     "data": {
      "text/html": [
       "<script>\n",
       "require([\"d3\"], function(d3) {\n",
       "    d3.select(\".usersvg #pixel_crossoHG\").attr(\"transform\", \"translate(2 3)\");\n",
       "});\n",
       "</script>\n"
      ]
     },
     "metadata": {},
     "output_type": "display_data"
    },
    {
     "data": {
      "text/html": [
       "<script>\n",
       "require([\"d3\"], function(d3) {\n",
       "    d3.select(\".usersvg #pixel_crossoHG\").attr(\"transform\", \"translate(2 4)\");\n",
       "});\n",
       "</script>\n"
      ]
     },
     "metadata": {},
     "output_type": "display_data"
    },
    {
     "data": {
      "text/html": [
       "<script>\n",
       "require([\"d3\"], function(d3) {\n",
       "    d3.select(\".usersvg #pixel_crossoHG\").attr(\"transform\", \"translate(2 3)\");\n",
       "});\n",
       "</script>\n"
      ]
     },
     "metadata": {},
     "output_type": "display_data"
    },
    {
     "data": {
      "text/html": [
       "<script>\n",
       "require([\"d3\"], function(d3) {\n",
       "    d3.select(\".usersvg #pixel_crossoHG\").attr(\"transform\", \"translate(1 3)\");\n",
       "});\n",
       "</script>\n"
      ]
     },
     "metadata": {},
     "output_type": "display_data"
    },
    {
     "data": {
      "text/html": [
       "<script>\n",
       "require([\"d3\"], function(d3) {\n",
       "    d3.select(\".usersvg #pixel_crossoHG\").attr(\"transform\", \"translate(1 2)\");\n",
       "});\n",
       "</script>\n"
      ]
     },
     "metadata": {},
     "output_type": "display_data"
    },
    {
     "data": {
      "text/html": [
       "<script>\n",
       "require([\"d3\"], function(d3) {\n",
       "    d3.select(\".usersvg #pixel_crossoHG\").attr(\"transform\", \"translate(0 2)\");\n",
       "});\n",
       "</script>\n"
      ]
     },
     "metadata": {},
     "output_type": "display_data"
    },
    {
     "data": {
      "text/html": [
       "<script>\n",
       "require([\"d3\"], function(d3) {\n",
       "    d3.select(\".usersvg #pixel_crossoHG\").attr(\"transform\", \"translate(0 2)\");\n",
       "});\n",
       "</script>\n"
      ]
     },
     "metadata": {},
     "output_type": "display_data"
    },
    {
     "data": {
      "text/html": [
       "<script>\n",
       "require([\"d3\"], function(d3) {\n",
       "    d3.select(\".usersvg #pixel_crossoHG\").attr(\"transform\", \"translate(0 2)\");\n",
       "});\n",
       "</script>\n"
      ]
     },
     "metadata": {},
     "output_type": "display_data"
    },
    {
     "data": {
      "text/html": [
       "<script>\n",
       "require([\"d3\"], function(d3) {\n",
       "    d3.select(\".usersvg #pixel_crossoHG\").attr(\"transform\", \"translate(0 1)\");\n",
       "});\n",
       "</script>\n"
      ]
     },
     "metadata": {},
     "output_type": "display_data"
    },
    {
     "data": {
      "text/html": [
       "<script>\n",
       "require([\"d3\"], function(d3) {\n",
       "    d3.select(\".usersvg #pixel_crossoHG\").attr(\"transform\", \"translate(0 0)\");\n",
       "});\n",
       "</script>\n"
      ]
     },
     "metadata": {},
     "output_type": "display_data"
    },
    {
     "data": {
      "text/html": [
       "<script>\n",
       "require([\"d3\"], function(d3) {\n",
       "    d3.select(\".usersvg #pixel_crossoHG\").attr(\"transform\", \"translate(1 0)\");\n",
       "});\n",
       "</script>\n"
      ]
     },
     "metadata": {},
     "output_type": "display_data"
    },
    {
     "data": {
      "text/html": [
       "<script>\n",
       "require([\"d3\"], function(d3) {\n",
       "    d3.select(\".usersvg #pixel_crossoHG\").attr(\"transform\", \"translate(2 0)\");\n",
       "});\n",
       "</script>\n"
      ]
     },
     "metadata": {},
     "output_type": "display_data"
    },
    {
     "data": {
      "text/html": [
       "<script>\n",
       "require([\"d3\"], function(d3) {\n",
       "    d3.select(\".usersvg #pixel_crossoHG\").attr(\"transform\", \"translate(2 0)\");\n",
       "});\n",
       "</script>\n"
      ]
     },
     "metadata": {},
     "output_type": "display_data"
    },
    {
     "data": {
      "text/html": [
       "<script>\n",
       "require([\"d3\"], function(d3) {\n",
       "    d3.select(\".usersvg #pixel_crossoHG\").attr(\"transform\", \"translate(2 1)\");\n",
       "});\n",
       "</script>\n"
      ]
     },
     "metadata": {},
     "output_type": "display_data"
    },
    {
     "data": {
      "text/html": [
       "<script>\n",
       "require([\"d3\"], function(d3) {\n",
       "    d3.select(\".usersvg #pixel_crossoHG\").attr(\"transform\", \"translate(2 2)\");\n",
       "});\n",
       "</script>\n"
      ]
     },
     "metadata": {},
     "output_type": "display_data"
    },
    {
     "data": {
      "text/html": [
       "<script>\n",
       "require([\"d3\"], function(d3) {\n",
       "    d3.select(\".usersvg #pixel_crossoHG\").attr(\"transform\", \"translate(1 2)\");\n",
       "});\n",
       "</script>\n"
      ]
     },
     "metadata": {},
     "output_type": "display_data"
    },
    {
     "data": {
      "text/html": [
       "<script>\n",
       "require([\"d3\"], function(d3) {\n",
       "    d3.select(\".usersvg #pixel_crossoHG\").attr(\"transform\", \"translate(0 2)\");\n",
       "});\n",
       "</script>\n"
      ]
     },
     "metadata": {},
     "output_type": "display_data"
    },
    {
     "data": {
      "text/html": [
       "<script>\n",
       "require([\"d3\"], function(d3) {\n",
       "    d3.select(\".usersvg #pixel_crossoHG\").attr(\"transform\", \"translate(0 2)\");\n",
       "});\n",
       "</script>\n"
      ]
     },
     "metadata": {},
     "output_type": "display_data"
    },
    {
     "data": {
      "text/html": [
       "<script>\n",
       "require([\"d3\"], function(d3) {\n",
       "    d3.select(\".usersvg #pixel_crossoHG\").attr(\"transform\", \"translate(0 1)\");\n",
       "});\n",
       "</script>\n"
      ]
     },
     "metadata": {},
     "output_type": "display_data"
    },
    {
     "data": {
      "text/html": [
       "<script>\n",
       "require([\"d3\"], function(d3) {\n",
       "    d3.select(\".usersvg #pixel_crossoHG\").attr(\"transform\", \"translate(0 0)\");\n",
       "});\n",
       "</script>\n"
      ]
     },
     "metadata": {},
     "output_type": "display_data"
    },
    {
     "data": {
      "text/html": [
       "<script>\n",
       "require([\"d3\"], function(d3) {\n",
       "    d3.select(\".usersvg #pixel_crossoHG\").attr(\"transform\", \"translate(0 0)\");\n",
       "});\n",
       "</script>\n"
      ]
     },
     "metadata": {},
     "output_type": "display_data"
    },
    {
     "data": {
      "text/html": [
       "<script>\n",
       "require([\"d3\"], function(d3) {\n",
       "    d3.select(\".usersvg #pixel_crossoHG\").attr(\"transform\", \"translate(0 1)\");\n",
       "});\n",
       "</script>\n"
      ]
     },
     "metadata": {},
     "output_type": "display_data"
    },
    {
     "data": {
      "text/html": [
       "<script>\n",
       "require([\"d3\"], function(d3) {\n",
       "    d3.select(\".usersvg #pixel_crossoHG\").attr(\"transform\", \"translate(0 1)\");\n",
       "});\n",
       "</script>\n"
      ]
     },
     "metadata": {},
     "output_type": "display_data"
    },
    {
     "data": {
      "text/html": [
       "<script>\n",
       "require([\"d3\"], function(d3) {\n",
       "    d3.select(\".usersvg #pixel_crossoHG\").attr(\"transform\", \"translate(0 0)\");\n",
       "});\n",
       "</script>\n"
      ]
     },
     "metadata": {},
     "output_type": "display_data"
    },
    {
     "data": {
      "text/html": [
       "<script>\n",
       "require([\"d3\"], function(d3) {\n",
       "    d3.select(\".usersvg #pixel_crossoHG\").attr(\"transform\", \"translate(0 1)\");\n",
       "});\n",
       "</script>\n"
      ]
     },
     "metadata": {},
     "output_type": "display_data"
    },
    {
     "data": {
      "text/html": [
       "<script>\n",
       "require([\"d3\"], function(d3) {\n",
       "    d3.select(\".usersvg #pixel_crossoHG\").attr(\"transform\", \"translate(1 1)\");\n",
       "});\n",
       "</script>\n"
      ]
     },
     "metadata": {},
     "output_type": "display_data"
    },
    {
     "data": {
      "text/html": [
       "<script>\n",
       "require([\"d3\"], function(d3) {\n",
       "    d3.select(\".usersvg #pixel_crossoHG\").attr(\"transform\", \"translate(1 0)\");\n",
       "});\n",
       "</script>\n"
      ]
     },
     "metadata": {},
     "output_type": "display_data"
    },
    {
     "data": {
      "text/html": [
       "<script>\n",
       "require([\"d3\"], function(d3) {\n",
       "    d3.select(\".usersvg #pixel_crossoHG\").attr(\"transform\", \"translate(2 0)\");\n",
       "});\n",
       "</script>\n"
      ]
     },
     "metadata": {},
     "output_type": "display_data"
    },
    {
     "data": {
      "text/html": [
       "<script>\n",
       "require([\"d3\"], function(d3) {\n",
       "    d3.select(\".usersvg #pixel_crossoHG\").attr(\"transform\", \"translate(2 0)\");\n",
       "});\n",
       "</script>\n"
      ]
     },
     "metadata": {},
     "output_type": "display_data"
    },
    {
     "data": {
      "text/html": [
       "<script>\n",
       "require([\"d3\"], function(d3) {\n",
       "    d3.select(\".usersvg #pixel_crossoHG\").attr(\"transform\", \"translate(2 1)\");\n",
       "});\n",
       "</script>\n"
      ]
     },
     "metadata": {},
     "output_type": "display_data"
    },
    {
     "data": {
      "text/html": [
       "<script>\n",
       "require([\"d3\"], function(d3) {\n",
       "    d3.select(\".usersvg #pixel_crossoHG\").attr(\"transform\", \"translate(3 1)\");\n",
       "});\n",
       "</script>\n"
      ]
     },
     "metadata": {},
     "output_type": "display_data"
    },
    {
     "data": {
      "text/html": [
       "<script>\n",
       "require([\"d3\"], function(d3) {\n",
       "    d3.select(\".usersvg #pixel_crossoHG\").attr(\"transform\", \"translate(3 0)\");\n",
       "});\n",
       "</script>\n"
      ]
     },
     "metadata": {},
     "output_type": "display_data"
    },
    {
     "data": {
      "text/html": [
       "<script>\n",
       "require([\"d3\"], function(d3) {\n",
       "    d3.select(\".usersvg #pixel_crossoHG\").attr(\"transform\", \"translate(3 0)\");\n",
       "});\n",
       "</script>\n"
      ]
     },
     "metadata": {},
     "output_type": "display_data"
    },
    {
     "data": {
      "text/html": [
       "<script>\n",
       "require([\"d3\"], function(d3) {\n",
       "    d3.select(\".usersvg #pixel_crossoHG\").attr(\"transform\", \"translate(3 1)\");\n",
       "});\n",
       "</script>\n"
      ]
     },
     "metadata": {},
     "output_type": "display_data"
    },
    {
     "data": {
      "text/html": [
       "<script>\n",
       "require([\"d3\"], function(d3) {\n",
       "    d3.select(\".usersvg #pixel_crossoHG\").attr(\"transform\", \"translate(3 0)\");\n",
       "});\n",
       "</script>\n"
      ]
     },
     "metadata": {},
     "output_type": "display_data"
    },
    {
     "data": {
      "text/html": [
       "<script>\n",
       "require([\"d3\"], function(d3) {\n",
       "    d3.select(\".usersvg #pixel_crossoHG\").attr(\"transform\", \"translate(2 0)\");\n",
       "});\n",
       "</script>\n"
      ]
     },
     "metadata": {},
     "output_type": "display_data"
    },
    {
     "data": {
      "text/html": [
       "<script>\n",
       "require([\"d3\"], function(d3) {\n",
       "    d3.select(\".usersvg #pixel_crossoHG\").attr(\"transform\", \"translate(1 0)\");\n",
       "});\n",
       "</script>\n"
      ]
     },
     "metadata": {},
     "output_type": "display_data"
    },
    {
     "data": {
      "text/html": [
       "<script>\n",
       "require([\"d3\"], function(d3) {\n",
       "    d3.select(\".usersvg #pixel_crossoHG\").attr(\"transform\", \"translate(2 0)\");\n",
       "});\n",
       "</script>\n"
      ]
     },
     "metadata": {},
     "output_type": "display_data"
    },
    {
     "data": {
      "text/html": [
       "<script>\n",
       "require([\"d3\"], function(d3) {\n",
       "    d3.select(\".usersvg #pixel_crossoHG\").attr(\"transform\", \"translate(1 0)\");\n",
       "});\n",
       "</script>\n"
      ]
     },
     "metadata": {},
     "output_type": "display_data"
    },
    {
     "data": {
      "text/html": [
       "<script>\n",
       "require([\"d3\"], function(d3) {\n",
       "    d3.select(\".usersvg #pixel_crossoHG\").attr(\"transform\", \"translate(1 0)\");\n",
       "});\n",
       "</script>\n"
      ]
     },
     "metadata": {},
     "output_type": "display_data"
    },
    {
     "data": {
      "text/html": [
       "<script>\n",
       "require([\"d3\"], function(d3) {\n",
       "    d3.select(\".usersvg #pixel_crossoHG\").attr(\"transform\", \"translate(2 0)\");\n",
       "});\n",
       "</script>\n"
      ]
     },
     "metadata": {},
     "output_type": "display_data"
    },
    {
     "data": {
      "text/html": [
       "<script>\n",
       "require([\"d3\"], function(d3) {\n",
       "    d3.select(\".usersvg #pixel_crossoHG\").attr(\"transform\", \"translate(2 0)\");\n",
       "});\n",
       "</script>\n"
      ]
     },
     "metadata": {},
     "output_type": "display_data"
    },
    {
     "data": {
      "text/html": [
       "<script>\n",
       "require([\"d3\"], function(d3) {\n",
       "    d3.select(\".usersvg #pixel_crossoHG\").attr(\"transform\", \"translate(2 0)\");\n",
       "});\n",
       "</script>\n"
      ]
     },
     "metadata": {},
     "output_type": "display_data"
    },
    {
     "data": {
      "text/html": [
       "<script>\n",
       "require([\"d3\"], function(d3) {\n",
       "    d3.select(\".usersvg #pixel_crossoHG\").attr(\"transform\", \"translate(3 0)\");\n",
       "});\n",
       "</script>\n"
      ]
     },
     "metadata": {},
     "output_type": "display_data"
    },
    {
     "data": {
      "text/html": [
       "<script>\n",
       "require([\"d3\"], function(d3) {\n",
       "    d3.select(\".usersvg #pixel_crossoHG\").attr(\"transform\", \"translate(3 0)\");\n",
       "});\n",
       "</script>\n"
      ]
     },
     "metadata": {},
     "output_type": "display_data"
    },
    {
     "data": {
      "text/html": [
       "<script>\n",
       "require([\"d3\"], function(d3) {\n",
       "    d3.select(\".usersvg #pixel_crossoHG\").attr(\"transform\", \"translate(3 1)\");\n",
       "});\n",
       "</script>\n"
      ]
     },
     "metadata": {},
     "output_type": "display_data"
    },
    {
     "data": {
      "text/html": [
       "<script>\n",
       "require([\"d3\"], function(d3) {\n",
       "    d3.select(\".usersvg #pixel_crossoHG\").attr(\"transform\", \"translate(4 1)\");\n",
       "});\n",
       "</script>\n"
      ]
     },
     "metadata": {},
     "output_type": "display_data"
    },
    {
     "data": {
      "text/html": [
       "<script>\n",
       "require([\"d3\"], function(d3) {\n",
       "    d3.select(\".usersvg #pixel_crossoHG\").attr(\"transform\", \"translate(5 1)\");\n",
       "});\n",
       "</script>\n"
      ]
     },
     "metadata": {},
     "output_type": "display_data"
    },
    {
     "data": {
      "text/html": [
       "<script>\n",
       "require([\"d3\"], function(d3) {\n",
       "    d3.select(\".usersvg #pixel_crossoHG\").attr(\"transform\", \"translate(6 1)\");\n",
       "});\n",
       "</script>\n"
      ]
     },
     "metadata": {},
     "output_type": "display_data"
    },
    {
     "data": {
      "text/html": [
       "<script>\n",
       "require([\"d3\"], function(d3) {\n",
       "    d3.select(\".usersvg #pixel_crossoHG\").attr(\"transform\", \"translate(6 2)\");\n",
       "});\n",
       "</script>\n"
      ]
     },
     "metadata": {},
     "output_type": "display_data"
    },
    {
     "data": {
      "text/html": [
       "<script>\n",
       "require([\"d3\"], function(d3) {\n",
       "    d3.select(\".usersvg #pixel_crossoHG\").attr(\"transform\", \"translate(6 1)\");\n",
       "});\n",
       "</script>\n"
      ]
     },
     "metadata": {},
     "output_type": "display_data"
    },
    {
     "data": {
      "text/html": [
       "<script>\n",
       "require([\"d3\"], function(d3) {\n",
       "    d3.select(\".usersvg #pixel_crossoHG\").attr(\"transform\", \"translate(6 2)\");\n",
       "});\n",
       "</script>\n"
      ]
     },
     "metadata": {},
     "output_type": "display_data"
    },
    {
     "data": {
      "text/html": [
       "<script>\n",
       "require([\"d3\"], function(d3) {\n",
       "    d3.select(\".usersvg #pixel_crossoHG\").attr(\"transform\", \"translate(6 3)\");\n",
       "});\n",
       "</script>\n"
      ]
     },
     "metadata": {},
     "output_type": "display_data"
    },
    {
     "data": {
      "text/html": [
       "<script>\n",
       "require([\"d3\"], function(d3) {\n",
       "    d3.select(\".usersvg #pixel_crossoHG\").attr(\"transform\", \"translate(5 3)\");\n",
       "});\n",
       "</script>\n"
      ]
     },
     "metadata": {},
     "output_type": "display_data"
    },
    {
     "data": {
      "text/html": [
       "<script>\n",
       "require([\"d3\"], function(d3) {\n",
       "    d3.select(\".usersvg #pixel_crossoHG\").attr(\"transform\", \"translate(6 3)\");\n",
       "});\n",
       "</script>\n"
      ]
     },
     "metadata": {},
     "output_type": "display_data"
    },
    {
     "data": {
      "text/html": [
       "<script>\n",
       "require([\"d3\"], function(d3) {\n",
       "    d3.select(\".usersvg #pixel_crossoHG\").attr(\"transform\", \"translate(5 3)\");\n",
       "});\n",
       "</script>\n"
      ]
     },
     "metadata": {},
     "output_type": "display_data"
    },
    {
     "data": {
      "text/html": [
       "<script>\n",
       "require([\"d3\"], function(d3) {\n",
       "    d3.select(\".usersvg #pixel_crossoHG\").attr(\"transform\", \"translate(6 3)\");\n",
       "});\n",
       "</script>\n"
      ]
     },
     "metadata": {},
     "output_type": "display_data"
    },
    {
     "data": {
      "text/html": [
       "<script>\n",
       "require([\"d3\"], function(d3) {\n",
       "    d3.select(\".usersvg #pixel_crossoHG\").attr(\"transform\", \"translate(6 2)\");\n",
       "});\n",
       "</script>\n"
      ]
     },
     "metadata": {},
     "output_type": "display_data"
    },
    {
     "data": {
      "text/html": [
       "<script>\n",
       "require([\"d3\"], function(d3) {\n",
       "    d3.select(\".usersvg #pixel_crossoHG\").attr(\"transform\", \"translate(6 1)\");\n",
       "});\n",
       "</script>\n"
      ]
     },
     "metadata": {},
     "output_type": "display_data"
    },
    {
     "data": {
      "text/html": [
       "<script>\n",
       "require([\"d3\"], function(d3) {\n",
       "    d3.select(\".usersvg #pixel_crossoHG\").attr(\"transform\", \"translate(6 0)\");\n",
       "});\n",
       "</script>\n"
      ]
     },
     "metadata": {},
     "output_type": "display_data"
    },
    {
     "data": {
      "text/html": [
       "<script>\n",
       "require([\"d3\"], function(d3) {\n",
       "    d3.select(\".usersvg #pixel_crossoHG\").attr(\"transform\", \"translate(6 1)\");\n",
       "});\n",
       "</script>\n"
      ]
     },
     "metadata": {},
     "output_type": "display_data"
    },
    {
     "data": {
      "text/html": [
       "<script>\n",
       "require([\"d3\"], function(d3) {\n",
       "    d3.select(\".usersvg #pixel_crossoHG\").attr(\"transform\", \"translate(5 1)\");\n",
       "});\n",
       "</script>\n"
      ]
     },
     "metadata": {},
     "output_type": "display_data"
    },
    {
     "data": {
      "text/html": [
       "<script>\n",
       "require([\"d3\"], function(d3) {\n",
       "    d3.select(\".usersvg #pixel_crossoHG\").attr(\"transform\", \"translate(6 1)\");\n",
       "});\n",
       "</script>\n"
      ]
     },
     "metadata": {},
     "output_type": "display_data"
    },
    {
     "data": {
      "text/html": [
       "<script>\n",
       "require([\"d3\"], function(d3) {\n",
       "    d3.select(\".usersvg #pixel_crossoHG\").attr(\"transform\", \"translate(7 1)\");\n",
       "});\n",
       "</script>\n"
      ]
     },
     "metadata": {},
     "output_type": "display_data"
    },
    {
     "data": {
      "text/html": [
       "<script>\n",
       "require([\"d3\"], function(d3) {\n",
       "    d3.select(\".usersvg #pixel_crossoHG\").attr(\"transform\", \"translate(6 1)\");\n",
       "});\n",
       "</script>\n"
      ]
     },
     "metadata": {},
     "output_type": "display_data"
    },
    {
     "data": {
      "text/html": [
       "<script>\n",
       "require([\"d3\"], function(d3) {\n",
       "    d3.select(\".usersvg #pixel_crossoHG\").attr(\"transform\", \"translate(5 1)\");\n",
       "});\n",
       "</script>\n"
      ]
     },
     "metadata": {},
     "output_type": "display_data"
    },
    {
     "data": {
      "text/html": [
       "<script>\n",
       "require([\"d3\"], function(d3) {\n",
       "    d3.select(\".usersvg #pixel_crossoHG\").attr(\"transform\", \"translate(5 0)\");\n",
       "});\n",
       "</script>\n"
      ]
     },
     "metadata": {},
     "output_type": "display_data"
    },
    {
     "data": {
      "text/html": [
       "<script>\n",
       "require([\"d3\"], function(d3) {\n",
       "    d3.select(\".usersvg #pixel_crossoHG\").attr(\"transform\", \"translate(6 0)\");\n",
       "});\n",
       "</script>\n"
      ]
     },
     "metadata": {},
     "output_type": "display_data"
    },
    {
     "data": {
      "text/html": [
       "<script>\n",
       "require([\"d3\"], function(d3) {\n",
       "    d3.select(\".usersvg #pixel_crossoHG\").attr(\"transform\", \"translate(7 0)\");\n",
       "});\n",
       "</script>\n"
      ]
     },
     "metadata": {},
     "output_type": "display_data"
    },
    {
     "data": {
      "text/html": [
       "<script>\n",
       "require([\"d3\"], function(d3) {\n",
       "    d3.select(\".usersvg #pixel_crossoHG\").attr(\"transform\", \"translate(8 0)\");\n",
       "});\n",
       "</script>\n"
      ]
     },
     "metadata": {},
     "output_type": "display_data"
    },
    {
     "data": {
      "text/html": [
       "<script>\n",
       "require([\"d3\"], function(d3) {\n",
       "    d3.select(\".usersvg #pixel_crossoHG\").attr(\"transform\", \"translate(8 1)\");\n",
       "});\n",
       "</script>\n"
      ]
     },
     "metadata": {},
     "output_type": "display_data"
    },
    {
     "data": {
      "text/html": [
       "<script>\n",
       "require([\"d3\"], function(d3) {\n",
       "    d3.select(\".usersvg #pixel_crossoHG\").attr(\"transform\", \"translate(8 0)\");\n",
       "});\n",
       "</script>\n"
      ]
     },
     "metadata": {},
     "output_type": "display_data"
    },
    {
     "data": {
      "text/html": [
       "<script>\n",
       "require([\"d3\"], function(d3) {\n",
       "    d3.select(\".usersvg #pixel_crossoHG\").attr(\"transform\", \"translate(8 0)\");\n",
       "});\n",
       "</script>\n"
      ]
     },
     "metadata": {},
     "output_type": "display_data"
    },
    {
     "data": {
      "text/html": [
       "<script>\n",
       "require([\"d3\"], function(d3) {\n",
       "    d3.select(\".usersvg #pixel_crossoHG\").attr(\"transform\", \"translate(8 0)\");\n",
       "});\n",
       "</script>\n"
      ]
     },
     "metadata": {},
     "output_type": "display_data"
    },
    {
     "data": {
      "text/html": [
       "<script>\n",
       "require([\"d3\"], function(d3) {\n",
       "    d3.select(\".usersvg #pixel_crossoHG\").attr(\"transform\", \"translate(7 0)\");\n",
       "});\n",
       "</script>\n"
      ]
     },
     "metadata": {},
     "output_type": "display_data"
    },
    {
     "data": {
      "text/html": [
       "<script>\n",
       "require([\"d3\"], function(d3) {\n",
       "    d3.select(\".usersvg #pixel_crossoHG\").attr(\"transform\", \"translate(7 1)\");\n",
       "});\n",
       "</script>\n"
      ]
     },
     "metadata": {},
     "output_type": "display_data"
    },
    {
     "data": {
      "text/html": [
       "<script>\n",
       "require([\"d3\"], function(d3) {\n",
       "    d3.select(\".usersvg #pixel_crossoHG\").attr(\"transform\", \"translate(7 0)\");\n",
       "});\n",
       "</script>\n"
      ]
     },
     "metadata": {},
     "output_type": "display_data"
    },
    {
     "data": {
      "text/html": [
       "<script>\n",
       "require([\"d3\"], function(d3) {\n",
       "    d3.select(\".usersvg #pixel_crossoHG\").attr(\"transform\", \"translate(8 0)\");\n",
       "});\n",
       "</script>\n"
      ]
     },
     "metadata": {},
     "output_type": "display_data"
    },
    {
     "data": {
      "text/html": [
       "<script>\n",
       "require([\"d3\"], function(d3) {\n",
       "    d3.select(\".usersvg #pixel_crossoHG\").attr(\"transform\", \"translate(8 0)\");\n",
       "});\n",
       "</script>\n"
      ]
     },
     "metadata": {},
     "output_type": "display_data"
    },
    {
     "data": {
      "text/html": [
       "<script>\n",
       "require([\"d3\"], function(d3) {\n",
       "    d3.select(\".usersvg #pixel_crossoHG\").attr(\"transform\", \"translate(8 0)\");\n",
       "});\n",
       "</script>\n"
      ]
     },
     "metadata": {},
     "output_type": "display_data"
    },
    {
     "data": {
      "text/html": [
       "<script>\n",
       "require([\"d3\"], function(d3) {\n",
       "    d3.select(\".usersvg #pixel_crossoHG\").attr(\"transform\", \"translate(9 0)\");\n",
       "});\n",
       "</script>\n"
      ]
     },
     "metadata": {},
     "output_type": "display_data"
    },
    {
     "data": {
      "text/html": [
       "<script>\n",
       "require([\"d3\"], function(d3) {\n",
       "    d3.select(\".usersvg #pixel_crossoHG\").attr(\"transform\", \"translate(9 1)\");\n",
       "});\n",
       "</script>\n"
      ]
     },
     "metadata": {},
     "output_type": "display_data"
    },
    {
     "data": {
      "text/html": [
       "<script>\n",
       "require([\"d3\"], function(d3) {\n",
       "    d3.select(\".usersvg #pixel_crossoHG\").attr(\"transform\", \"translate(9 2)\");\n",
       "});\n",
       "</script>\n"
      ]
     },
     "metadata": {},
     "output_type": "display_data"
    },
    {
     "data": {
      "text/html": [
       "<script>\n",
       "require([\"d3\"], function(d3) {\n",
       "    d3.select(\".usersvg #pixel_crossoHG\").attr(\"transform\", \"translate(10 2)\");\n",
       "});\n",
       "</script>\n"
      ]
     },
     "metadata": {},
     "output_type": "display_data"
    },
    {
     "data": {
      "text/html": [
       "<script>\n",
       "require([\"d3\"], function(d3) {\n",
       "    d3.select(\".usersvg #pixel_crossoHG\").attr(\"transform\", \"translate(10 3)\");\n",
       "});\n",
       "</script>\n"
      ]
     },
     "metadata": {},
     "output_type": "display_data"
    },
    {
     "data": {
      "text/html": [
       "<script>\n",
       "require([\"d3\"], function(d3) {\n",
       "    d3.select(\".usersvg #pixel_crossoHG\").attr(\"transform\", \"translate(10 2)\");\n",
       "});\n",
       "</script>\n"
      ]
     },
     "metadata": {},
     "output_type": "display_data"
    },
    {
     "data": {
      "text/html": [
       "<script>\n",
       "require([\"d3\"], function(d3) {\n",
       "    d3.select(\".usersvg #pixel_crossoHG\").attr(\"transform\", \"translate(10 1)\");\n",
       "});\n",
       "</script>\n"
      ]
     },
     "metadata": {},
     "output_type": "display_data"
    },
    {
     "data": {
      "text/html": [
       "<script>\n",
       "require([\"d3\"], function(d3) {\n",
       "    d3.select(\".usersvg #pixel_crossoHG\").attr(\"transform\", \"translate(11 1)\");\n",
       "});\n",
       "</script>\n"
      ]
     },
     "metadata": {},
     "output_type": "display_data"
    },
    {
     "data": {
      "text/html": [
       "<script>\n",
       "require([\"d3\"], function(d3) {\n",
       "    d3.select(\".usersvg #pixel_crossoHG\").attr(\"transform\", \"translate(10 1)\");\n",
       "});\n",
       "</script>\n"
      ]
     },
     "metadata": {},
     "output_type": "display_data"
    },
    {
     "data": {
      "text/html": [
       "<script>\n",
       "require([\"d3\"], function(d3) {\n",
       "    d3.select(\".usersvg #pixel_crossoHG\").attr(\"transform\", \"translate(9 1)\");\n",
       "});\n",
       "</script>\n"
      ]
     },
     "metadata": {},
     "output_type": "display_data"
    },
    {
     "data": {
      "text/html": [
       "<script>\n",
       "require([\"d3\"], function(d3) {\n",
       "    d3.select(\".usersvg #pixel_crossoHG\").attr(\"transform\", \"translate(10 1)\");\n",
       "});\n",
       "</script>\n"
      ]
     },
     "metadata": {},
     "output_type": "display_data"
    },
    {
     "data": {
      "text/html": [
       "<script>\n",
       "require([\"d3\"], function(d3) {\n",
       "    d3.select(\".usersvg #pixel_crossoHG\").attr(\"transform\", \"translate(11 1)\");\n",
       "});\n",
       "</script>\n"
      ]
     },
     "metadata": {},
     "output_type": "display_data"
    },
    {
     "data": {
      "text/html": [
       "<script>\n",
       "require([\"d3\"], function(d3) {\n",
       "    d3.select(\".usersvg #pixel_crossoHG\").attr(\"transform\", \"translate(10 1)\");\n",
       "});\n",
       "</script>\n"
      ]
     },
     "metadata": {},
     "output_type": "display_data"
    },
    {
     "data": {
      "text/html": [
       "<script>\n",
       "require([\"d3\"], function(d3) {\n",
       "    d3.select(\".usersvg #pixel_crossoHG\").attr(\"transform\", \"translate(10 2)\");\n",
       "});\n",
       "</script>\n"
      ]
     },
     "metadata": {},
     "output_type": "display_data"
    },
    {
     "data": {
      "text/html": [
       "<script>\n",
       "require([\"d3\"], function(d3) {\n",
       "    d3.select(\".usersvg #pixel_crossoHG\").attr(\"transform\", \"translate(11 2)\");\n",
       "});\n",
       "</script>\n"
      ]
     },
     "metadata": {},
     "output_type": "display_data"
    },
    {
     "data": {
      "text/html": [
       "<script>\n",
       "require([\"d3\"], function(d3) {\n",
       "    d3.select(\".usersvg #pixel_crossoHG\").attr(\"transform\", \"translate(11 1)\");\n",
       "});\n",
       "</script>\n"
      ]
     },
     "metadata": {},
     "output_type": "display_data"
    },
    {
     "data": {
      "text/html": [
       "<script>\n",
       "require([\"d3\"], function(d3) {\n",
       "    d3.select(\".usersvg #pixel_crossoHG\").attr(\"transform\", \"translate(12 1)\");\n",
       "});\n",
       "</script>\n"
      ]
     },
     "metadata": {},
     "output_type": "display_data"
    },
    {
     "data": {
      "text/html": [
       "<script>\n",
       "require([\"d3\"], function(d3) {\n",
       "    d3.select(\".usersvg #pixel_crossoHG\").attr(\"transform\", \"translate(11 1)\");\n",
       "});\n",
       "</script>\n"
      ]
     },
     "metadata": {},
     "output_type": "display_data"
    },
    {
     "data": {
      "text/html": [
       "<script>\n",
       "require([\"d3\"], function(d3) {\n",
       "    d3.select(\".usersvg #pixel_crossoHG\").attr(\"transform\", \"translate(11 0)\");\n",
       "});\n",
       "</script>\n"
      ]
     },
     "metadata": {},
     "output_type": "display_data"
    }
   ],
   "source": [
    "racer = add_pixel_cross(rtcanvas, 17, 4, \"blue\")\n",
    "for x in s\n",
    "    translate_element(racer, x...)\n",
    "    sleep(0.1)\n",
    "end\n",
    "    "
   ]
  },
  {
   "cell_type": "code",
   "execution_count": 26,
   "metadata": {
    "collapsed": true
   },
   "outputs": [],
   "source": [
    "Q = zeros(size(right_turn.states, 1), 4)\n",
    "greedy = Dict()\n",
    "n = 3\n",
    "for (i, x) in enumerate(right_turn.states)\n",
    "    action_set = right_turn.actions(x)\n",
    "    for (j, action) in enumerate(action_set)\n",
    "        totalr = 0\n",
    "        for k in 1:n\n",
    "            s, r, a = episode(agent, right_turn, x, action)\n",
    "            totalr += (sum(r) - totalr) / k\n",
    "        end\n",
    "        Q[i, j] = totalr\n",
    "    end\n",
    "    val, k = findmax(Q[i,:])\n",
    "    greedy[x] = action_set[k]\n",
    "end"
   ]
  },
  {
   "cell_type": "code",
   "execution_count": 27,
   "metadata": {
    "collapsed": false
   },
   "outputs": [
    {
     "data": {
      "text/plain": [
       "306×4 Array{Float64,2}:\n",
       "  -5053.33    -1499.67   -6530.0     -4375.67  \n",
       " -10535.0    -11222.3   -11411.0    -13768.3   \n",
       " -13432.7     -3152.67  -10142.0     -6950.33  \n",
       " -11263.7     -7339.0   -12569.7     -7657.33  \n",
       "  -1320.0     -4208.33  -17038.3     -6484.0   \n",
       "  -4992.33    -5713.67   -8272.67    -1908.0   \n",
       "  -2335.33    -4682.33   -4311.67    -9156.0   \n",
       " -14083.7     -4171.67   -5529.0     -5414.33  \n",
       "  -4626.33    -1080.0    -7401.0       -23.3333\n",
       "  -3949.33    -1202.67   -8401.33    -2421.67  \n",
       "   -305.667   -1749.0     -861.333       0.0   \n",
       "      0.0     -2739.67   -2750.0         0.0   \n",
       "      0.0     -7479.33       0.0         0.0   \n",
       "      ⋮                                        \n",
       "  -4648.33    -5514.0    -9215.33   -10870.3   \n",
       " -16387.7     -2711.33   -3154.0     -5363.33  \n",
       "  -5629.0     -9983.33   -8317.33    -7536.33  \n",
       "  -4350.0     -4205.67   -4494.0     -8714.33  \n",
       "  -6406.33   -12465.7    -3291.33    -5083.0   \n",
       "  -6651.67    -7206.0    -6031.67    -6217.33  \n",
       " -16970.0     -4920.67   -8569.67   -11058.3   \n",
       "  -3246.67    -4124.0    -8260.67    -3586.67  \n",
       "  -5017.67   -14979.3    -7362.67   -10633.3   \n",
       "  -2388.67    -9980.67  -11449.0    -12995.3   \n",
       "  -7704.33    -8963.33   -3291.0     -2779.67  \n",
       "  -3719.67   -14082.0    -9225.67   -10697.3   "
      ]
     },
     "execution_count": 27,
     "metadata": {},
     "output_type": "execute_result"
    }
   ],
   "source": [
    "Q"
   ]
  },
  {
   "cell_type": "code",
   "execution_count": 29,
   "metadata": {
    "collapsed": false
   },
   "outputs": [
    {
     "data": {
      "text/plain": [
       "Dict{Any,Any} with 306 entries:\n",
       "  [5, 10]  => \"left\"\n",
       "  [6, 9]   => \"down\"\n",
       "  [17, 13] => \"left\"\n",
       "  [3, 2]   => \"left\"\n",
       "  [9, 8]   => \"down\"\n",
       "  [1, 7]   => \"up\"\n",
       "  [11, 12] => \"left\"\n",
       "  [5, 17]  => \"up\"\n",
       "  [8, 3]   => \"up\"\n",
       "  [1, 15]  => \"up\"\n",
       "  [12, 5]  => \"down\"\n",
       "  [14, 4]  => \"right\"\n",
       "  [1, 17]  => \"up\"\n",
       "  [3, 4]   => \"up\"\n",
       "  [16, 14] => \"down\"\n",
       "  [9, 17]  => \"left\"\n",
       "  [4, 14]  => \"left\"\n",
       "  [17, 4]  => \"down\"\n",
       "  [1, 3]   => \"down\"\n",
       "  [12, 17] => \"up\"\n",
       "  [13, 11] => \"down\"\n",
       "  [2, 1]   => \"right\"\n",
       "  [1, 4]   => \"down\"\n",
       "  [7, 17]  => \"up\"\n",
       "  [4, 2]   => \"down\"\n",
       "  ⋮        => ⋮"
      ]
     },
     "execution_count": 29,
     "metadata": {},
     "output_type": "execute_result"
    }
   ],
   "source": [
    "greedy"
   ]
  },
  {
   "cell_type": "code",
   "execution_count": null,
   "metadata": {
    "collapsed": false
   },
   "outputs": [],
   "source": [
    "rotation = Dict(\"up\" => 90, \"down\" => 270, \"right\" => 0, \"left\" => 180)\n",
    "for s in right_turn.states add_pixel_arrow(rtcanvas, s..., rotation[greedy[s]]) end"
   ]
  },
  {
   "cell_type": "code",
   "execution_count": 21,
   "metadata": {
    "collapsed": false
   },
   "outputs": [],
   "source": [
    "n = 10\n",
    "greedy = Dict()\n",
    "for outi in 1:25\n",
    "    Q = zeros(size(right_turn.states, 1), 4)\n",
    "    greedy = Dict()\n",
    "    for (i, x) in enumerate(right_turn.states)\n",
    "        action_set = right_turn.actions(x)\n",
    "        for (j, action) in enumerate(action_set)\n",
    "            totalr = 0\n",
    "            for k in 1:n\n",
    "                s, r, a = episode(agent, right_turn, x, action)\n",
    "                totalr += 0.25 * (sum(r) - totalr) \n",
    "            end\n",
    "            Q[i, j] = totalr\n",
    "        end\n",
    "        val, k = findmax(Q[i,:])\n",
    "        greedy[x] = action_set[k]\n",
    "    end\n",
    "    old_greedy = copy(greedy)\n",
    "    agent.policy(s) = (rand() < 0.1) ? rand(right_turn.actions(s)) : old_greedy[s]\n",
    "end"
   ]
  },
  {
   "cell_type": "code",
   "execution_count": 22,
   "metadata": {
    "collapsed": false
   },
   "outputs": [
    {
     "data": {
      "text/html": [
       "<div class=\"usersvg\">\n",
       "<svg id='canvasQt1' width='400' height='400' viewbox='0 0 17 18'></svg>\n",
       "</div>\n",
       "<script> \n",
       "requirejs.config({paths: {d3: \"https://d3js.org/d3.v3.min.js?noext\"}});  \n",
       "</script>\n"
      ]
     },
     "metadata": {},
     "output_type": "display_data"
    },
    {
     "data": {
      "application/javascript": [
       "var svg=document.getElementById('canvasQt1');var newElement;newElement = document.createElementNS(\"http://www.w3.org/2000/svg\", 'rect'); \n",
       "newElement.setAttribute('width','1'); \n",
       "newElement.setAttribute('height','1'); \n",
       "newElement.setAttribute('x','0'); \n",
       "newElement.setAttribute('y','0'); \n",
       "newElement.style.fill = 'green'; \n",
       "svg.appendChild(newElement);\n",
       "newElement = document.createElementNS(\"http://www.w3.org/2000/svg\", 'rect'); \n",
       "newElement.setAttribute('width','1'); \n",
       "newElement.setAttribute('height','1'); \n",
       "newElement.setAttribute('x','1'); \n",
       "newElement.setAttribute('y','0'); \n",
       "newElement.style.fill = 'green'; \n",
       "svg.appendChild(newElement);\n",
       "newElement = document.createElementNS(\"http://www.w3.org/2000/svg\", 'rect'); \n",
       "newElement.setAttribute('width','1'); \n",
       "newElement.setAttribute('height','1'); \n",
       "newElement.setAttribute('x','2'); \n",
       "newElement.setAttribute('y','0'); \n",
       "newElement.style.fill = 'green'; \n",
       "svg.appendChild(newElement);\n",
       "newElement = document.createElementNS(\"http://www.w3.org/2000/svg\", 'rect'); \n",
       "newElement.setAttribute('width','1'); \n",
       "newElement.setAttribute('height','1'); \n",
       "newElement.setAttribute('x','3'); \n",
       "newElement.setAttribute('y','0'); \n",
       "newElement.style.fill = 'green'; \n",
       "svg.appendChild(newElement);\n",
       "newElement = document.createElementNS(\"http://www.w3.org/2000/svg\", 'rect'); \n",
       "newElement.setAttribute('width','1'); \n",
       "newElement.setAttribute('height','1'); \n",
       "newElement.setAttribute('x','4'); \n",
       "newElement.setAttribute('y','0'); \n",
       "newElement.style.fill = 'green'; \n",
       "svg.appendChild(newElement);\n",
       "newElement = document.createElementNS(\"http://www.w3.org/2000/svg\", 'rect'); \n",
       "newElement.setAttribute('width','1'); \n",
       "newElement.setAttribute('height','1'); \n",
       "newElement.setAttribute('x','5'); \n",
       "newElement.setAttribute('y','0'); \n",
       "newElement.style.fill = 'green'; \n",
       "svg.appendChild(newElement);\n",
       "newElement = document.createElementNS(\"http://www.w3.org/2000/svg\", 'rect'); \n",
       "newElement.setAttribute('width','1'); \n",
       "newElement.setAttribute('height','1'); \n",
       "newElement.setAttribute('x','6'); \n",
       "newElement.setAttribute('y','0'); \n",
       "newElement.style.fill = 'green'; \n",
       "svg.appendChild(newElement);\n",
       "newElement = document.createElementNS(\"http://www.w3.org/2000/svg\", 'rect'); \n",
       "newElement.setAttribute('width','1'); \n",
       "newElement.setAttribute('height','1'); \n",
       "newElement.setAttribute('x','7'); \n",
       "newElement.setAttribute('y','0'); \n",
       "newElement.style.fill = 'green'; \n",
       "svg.appendChild(newElement);\n",
       "newElement = document.createElementNS(\"http://www.w3.org/2000/svg\", 'rect'); \n",
       "newElement.setAttribute('width','1'); \n",
       "newElement.setAttribute('height','1'); \n",
       "newElement.setAttribute('x','8'); \n",
       "newElement.setAttribute('y','0'); \n",
       "newElement.style.fill = 'green'; \n",
       "svg.appendChild(newElement);\n",
       "newElement = document.createElementNS(\"http://www.w3.org/2000/svg\", 'rect'); \n",
       "newElement.setAttribute('width','1'); \n",
       "newElement.setAttribute('height','1'); \n",
       "newElement.setAttribute('x','9'); \n",
       "newElement.setAttribute('y','0'); \n",
       "newElement.style.fill = 'green'; \n",
       "svg.appendChild(newElement);\n",
       "newElement = document.createElementNS(\"http://www.w3.org/2000/svg\", 'rect'); \n",
       "newElement.setAttribute('width','1'); \n",
       "newElement.setAttribute('height','1'); \n",
       "newElement.setAttribute('x','10'); \n",
       "newElement.setAttribute('y','0'); \n",
       "newElement.style.fill = 'green'; \n",
       "svg.appendChild(newElement);\n",
       "newElement = document.createElementNS(\"http://www.w3.org/2000/svg\", 'rect'); \n",
       "newElement.setAttribute('width','1'); \n",
       "newElement.setAttribute('height','1'); \n",
       "newElement.setAttribute('x','11'); \n",
       "newElement.setAttribute('y','0'); \n",
       "newElement.style.fill = 'red'; \n",
       "svg.appendChild(newElement);\n",
       "newElement = document.createElementNS(\"http://www.w3.org/2000/svg\", 'rect'); \n",
       "newElement.setAttribute('width','1'); \n",
       "newElement.setAttribute('height','1'); \n",
       "newElement.setAttribute('x','12'); \n",
       "newElement.setAttribute('y','0'); \n",
       "newElement.style.fill = 'red'; \n",
       "svg.appendChild(newElement);\n",
       "newElement = document.createElementNS(\"http://www.w3.org/2000/svg\", 'rect'); \n",
       "newElement.setAttribute('width','1'); \n",
       "newElement.setAttribute('height','1'); \n",
       "newElement.setAttribute('x','13'); \n",
       "newElement.setAttribute('y','0'); \n",
       "newElement.style.fill = 'red'; \n",
       "svg.appendChild(newElement);\n",
       "newElement = document.createElementNS(\"http://www.w3.org/2000/svg\", 'rect'); \n",
       "newElement.setAttribute('width','1'); \n",
       "newElement.setAttribute('height','1'); \n",
       "newElement.setAttribute('x','14'); \n",
       "newElement.setAttribute('y','0'); \n",
       "newElement.style.fill = 'red'; \n",
       "svg.appendChild(newElement);\n",
       "newElement = document.createElementNS(\"http://www.w3.org/2000/svg\", 'rect'); \n",
       "newElement.setAttribute('width','1'); \n",
       "newElement.setAttribute('height','1'); \n",
       "newElement.setAttribute('x','15'); \n",
       "newElement.setAttribute('y','0'); \n",
       "newElement.style.fill = 'green'; \n",
       "svg.appendChild(newElement);\n",
       "newElement = document.createElementNS(\"http://www.w3.org/2000/svg\", 'rect'); \n",
       "newElement.setAttribute('width','1'); \n",
       "newElement.setAttribute('height','1'); \n",
       "newElement.setAttribute('x','16'); \n",
       "newElement.setAttribute('y','0'); \n",
       "newElement.style.fill = 'green'; \n",
       "svg.appendChild(newElement);\n",
       "newElement = document.createElementNS(\"http://www.w3.org/2000/svg\", 'rect'); \n",
       "newElement.setAttribute('width','1'); \n",
       "newElement.setAttribute('height','1'); \n",
       "newElement.setAttribute('x','0'); \n",
       "newElement.setAttribute('y','1'); \n",
       "newElement.style.fill = 'green'; \n",
       "svg.appendChild(newElement);\n",
       "newElement = document.createElementNS(\"http://www.w3.org/2000/svg\", 'rect'); \n",
       "newElement.setAttribute('width','1'); \n",
       "newElement.setAttribute('height','1'); \n",
       "newElement.setAttribute('x','1'); \n",
       "newElement.setAttribute('y','1'); \n",
       "newElement.style.fill = 'green'; \n",
       "svg.appendChild(newElement);\n",
       "newElement = document.createElementNS(\"http://www.w3.org/2000/svg\", 'rect'); \n",
       "newElement.setAttribute('width','1'); \n",
       "newElement.setAttribute('height','1'); \n",
       "newElement.setAttribute('x','2'); \n",
       "newElement.setAttribute('y','1'); \n",
       "newElement.style.fill = 'green'; \n",
       "svg.appendChild(newElement);\n",
       "newElement = document.createElementNS(\"http://www.w3.org/2000/svg\", 'rect'); \n",
       "newElement.setAttribute('width','1'); \n",
       "newElement.setAttribute('height','1'); \n",
       "newElement.setAttribute('x','3'); \n",
       "newElement.setAttribute('y','1'); \n",
       "newElement.style.fill = 'green'; \n",
       "svg.appendChild(newElement);\n",
       "newElement = document.createElementNS(\"http://www.w3.org/2000/svg\", 'rect'); \n",
       "newElement.setAttribute('width','1'); \n",
       "newElement.setAttribute('height','1'); \n",
       "newElement.setAttribute('x','4'); \n",
       "newElement.setAttribute('y','1'); \n",
       "newElement.style.fill = 'green'; \n",
       "svg.appendChild(newElement);\n",
       "newElement = document.createElementNS(\"http://www.w3.org/2000/svg\", 'rect'); \n",
       "newElement.setAttribute('width','1'); \n",
       "newElement.setAttribute('height','1'); \n",
       "newElement.setAttribute('x','5'); \n",
       "newElement.setAttribute('y','1'); \n",
       "newElement.style.fill = 'green'; \n",
       "svg.appendChild(newElement);\n",
       "newElement = document.createElementNS(\"http://www.w3.org/2000/svg\", 'rect'); \n",
       "newElement.setAttribute('width','1'); \n",
       "newElement.setAttribute('height','1'); \n",
       "newElement.setAttribute('x','6'); \n",
       "newElement.setAttribute('y','1'); \n",
       "newElement.style.fill = 'green'; \n",
       "svg.appendChild(newElement);\n",
       "newElement = document.createElementNS(\"http://www.w3.org/2000/svg\", 'rect'); \n",
       "newElement.setAttribute('width','1'); \n",
       "newElement.setAttribute('height','1'); \n",
       "newElement.setAttribute('x','7'); \n",
       "newElement.setAttribute('y','1'); \n",
       "newElement.style.fill = 'green'; \n",
       "svg.appendChild(newElement);\n",
       "newElement = document.createElementNS(\"http://www.w3.org/2000/svg\", 'rect'); \n",
       "newElement.setAttribute('width','1'); \n",
       "newElement.setAttribute('height','1'); \n",
       "newElement.setAttribute('x','8'); \n",
       "newElement.setAttribute('y','1'); \n",
       "newElement.style.fill = 'green'; \n",
       "svg.appendChild(newElement);\n",
       "newElement = document.createElementNS(\"http://www.w3.org/2000/svg\", 'rect'); \n",
       "newElement.setAttribute('width','1'); \n",
       "newElement.setAttribute('height','1'); \n",
       "newElement.setAttribute('x','9'); \n",
       "newElement.setAttribute('y','1'); \n",
       "newElement.style.fill = 'green'; \n",
       "svg.appendChild(newElement);\n",
       "newElement = document.createElementNS(\"http://www.w3.org/2000/svg\", 'rect'); \n",
       "newElement.setAttribute('width','1'); \n",
       "newElement.setAttribute('height','1'); \n",
       "newElement.setAttribute('x','10'); \n",
       "newElement.setAttribute('y','1'); \n",
       "newElement.style.fill = 'brown'; \n",
       "svg.appendChild(newElement);\n",
       "newElement = document.createElementNS(\"http://www.w3.org/2000/svg\", 'rect'); \n",
       "newElement.setAttribute('width','1'); \n",
       "newElement.setAttribute('height','1'); \n",
       "newElement.setAttribute('x','11'); \n",
       "newElement.setAttribute('y','1'); \n",
       "newElement.style.fill = 'brown'; \n",
       "svg.appendChild(newElement);\n",
       "newElement = document.createElementNS(\"http://www.w3.org/2000/svg\", 'rect'); \n",
       "newElement.setAttribute('width','1'); \n",
       "newElement.setAttribute('height','1'); \n",
       "newElement.setAttribute('x','12'); \n",
       "newElement.setAttribute('y','1'); \n",
       "newElement.style.fill = 'brown'; \n",
       "svg.appendChild(newElement);\n",
       "newElement = document.createElementNS(\"http://www.w3.org/2000/svg\", 'rect'); \n",
       "newElement.setAttribute('width','1'); \n",
       "newElement.setAttribute('height','1'); \n",
       "newElement.setAttribute('x','13'); \n",
       "newElement.setAttribute('y','1'); \n",
       "newElement.style.fill = 'brown'; \n",
       "svg.appendChild(newElement);\n",
       "newElement = document.createElementNS(\"http://www.w3.org/2000/svg\", 'rect'); \n",
       "newElement.setAttribute('width','1'); \n",
       "newElement.setAttribute('height','1'); \n",
       "newElement.setAttribute('x','14'); \n",
       "newElement.setAttribute('y','1'); \n",
       "newElement.style.fill = 'brown'; \n",
       "svg.appendChild(newElement);\n",
       "newElement = document.createElementNS(\"http://www.w3.org/2000/svg\", 'rect'); \n",
       "newElement.setAttribute('width','1'); \n",
       "newElement.setAttribute('height','1'); \n",
       "newElement.setAttribute('x','15'); \n",
       "newElement.setAttribute('y','1'); \n",
       "newElement.style.fill = 'green'; \n",
       "svg.appendChild(newElement);\n",
       "newElement = document.createElementNS(\"http://www.w3.org/2000/svg\", 'rect'); \n",
       "newElement.setAttribute('width','1'); \n",
       "newElement.setAttribute('height','1'); \n",
       "newElement.setAttribute('x','16'); \n",
       "newElement.setAttribute('y','1'); \n",
       "newElement.style.fill = 'green'; \n",
       "svg.appendChild(newElement);\n",
       "newElement = document.createElementNS(\"http://www.w3.org/2000/svg\", 'rect'); \n",
       "newElement.setAttribute('width','1'); \n",
       "newElement.setAttribute('height','1'); \n",
       "newElement.setAttribute('x','0'); \n",
       "newElement.setAttribute('y','2'); \n",
       "newElement.style.fill = 'green'; \n",
       "svg.appendChild(newElement);\n",
       "newElement = document.createElementNS(\"http://www.w3.org/2000/svg\", 'rect'); \n",
       "newElement.setAttribute('width','1'); \n",
       "newElement.setAttribute('height','1'); \n",
       "newElement.setAttribute('x','1'); \n",
       "newElement.setAttribute('y','2'); \n",
       "newElement.style.fill = 'green'; \n",
       "svg.appendChild(newElement);\n",
       "newElement = document.createElementNS(\"http://www.w3.org/2000/svg\", 'rect'); \n",
       "newElement.setAttribute('width','1'); \n",
       "newElement.setAttribute('height','1'); \n",
       "newElement.setAttribute('x','2'); \n",
       "newElement.setAttribute('y','2'); \n",
       "newElement.style.fill = 'green'; \n",
       "svg.appendChild(newElement);\n",
       "newElement = document.createElementNS(\"http://www.w3.org/2000/svg\", 'rect'); \n",
       "newElement.setAttribute('width','1'); \n",
       "newElement.setAttribute('height','1'); \n",
       "newElement.setAttribute('x','3'); \n",
       "newElement.setAttribute('y','2'); \n",
       "newElement.style.fill = 'green'; \n",
       "svg.appendChild(newElement);\n",
       "newElement = document.createElementNS(\"http://www.w3.org/2000/svg\", 'rect'); \n",
       "newElement.setAttribute('width','1'); \n",
       "newElement.setAttribute('height','1'); \n",
       "newElement.setAttribute('x','4'); \n",
       "newElement.setAttribute('y','2'); \n",
       "newElement.style.fill = 'green'; \n",
       "svg.appendChild(newElement);\n",
       "newElement = document.createElementNS(\"http://www.w3.org/2000/svg\", 'rect'); \n",
       "newElement.setAttribute('width','1'); \n",
       "newElement.setAttribute('height','1'); \n",
       "newElement.setAttribute('x','5'); \n",
       "newElement.setAttribute('y','2'); \n",
       "newElement.style.fill = 'green'; \n",
       "svg.appendChild(newElement);\n",
       "newElement = document.createElementNS(\"http://www.w3.org/2000/svg\", 'rect'); \n",
       "newElement.setAttribute('width','1'); \n",
       "newElement.setAttribute('height','1'); \n",
       "newElement.setAttribute('x','6'); \n",
       "newElement.setAttribute('y','2'); \n",
       "newElement.style.fill = 'green'; \n",
       "svg.appendChild(newElement);\n",
       "newElement = document.createElementNS(\"http://www.w3.org/2000/svg\", 'rect'); \n",
       "newElement.setAttribute('width','1'); \n",
       "newElement.setAttribute('height','1'); \n",
       "newElement.setAttribute('x','7'); \n",
       "newElement.setAttribute('y','2'); \n",
       "newElement.style.fill = 'green'; \n",
       "svg.appendChild(newElement);\n",
       "newElement = document.createElementNS(\"http://www.w3.org/2000/svg\", 'rect'); \n",
       "newElement.setAttribute('width','1'); \n",
       "newElement.setAttribute('height','1'); \n",
       "newElement.setAttribute('x','8'); \n",
       "newElement.setAttribute('y','2'); \n",
       "newElement.style.fill = 'green'; \n",
       "svg.appendChild(newElement);\n",
       "newElement = document.createElementNS(\"http://www.w3.org/2000/svg\", 'rect'); \n",
       "newElement.setAttribute('width','1'); \n",
       "newElement.setAttribute('height','1'); \n",
       "newElement.setAttribute('x','9'); \n",
       "newElement.setAttribute('y','2'); \n",
       "newElement.style.fill = 'brown'; \n",
       "svg.appendChild(newElement);\n",
       "newElement = document.createElementNS(\"http://www.w3.org/2000/svg\", 'rect'); \n",
       "newElement.setAttribute('width','1'); \n",
       "newElement.setAttribute('height','1'); \n",
       "newElement.setAttribute('x','10'); \n",
       "newElement.setAttribute('y','2'); \n",
       "newElement.style.fill = 'brown'; \n",
       "svg.appendChild(newElement);\n",
       "newElement = document.createElementNS(\"http://www.w3.org/2000/svg\", 'rect'); \n",
       "newElement.setAttribute('width','1'); \n",
       "newElement.setAttribute('height','1'); \n",
       "newElement.setAttribute('x','11'); \n",
       "newElement.setAttribute('y','2'); \n",
       "newElement.style.fill = 'brown'; \n",
       "svg.appendChild(newElement);\n",
       "newElement = document.createElementNS(\"http://www.w3.org/2000/svg\", 'rect'); \n",
       "newElement.setAttribute('width','1'); \n",
       "newElement.setAttribute('height','1'); \n",
       "newElement.setAttribute('x','12'); \n",
       "newElement.setAttribute('y','2'); \n",
       "newElement.style.fill = 'brown'; \n",
       "svg.appendChild(newElement);\n",
       "newElement = document.createElementNS(\"http://www.w3.org/2000/svg\", 'rect'); \n",
       "newElement.setAttribute('width','1'); \n",
       "newElement.setAttribute('height','1'); \n",
       "newElement.setAttribute('x','13'); \n",
       "newElement.setAttribute('y','2'); \n",
       "newElement.style.fill = 'brown'; \n",
       "svg.appendChild(newElement);\n",
       "newElement = document.createElementNS(\"http://www.w3.org/2000/svg\", 'rect'); \n",
       "newElement.setAttribute('width','1'); \n",
       "newElement.setAttribute('height','1'); \n",
       "newElement.setAttribute('x','14'); \n",
       "newElement.setAttribute('y','2'); \n",
       "newElement.style.fill = 'green'; \n",
       "svg.appendChild(newElement);\n",
       "newElement = document.createElementNS(\"http://www.w3.org/2000/svg\", 'rect'); \n",
       "newElement.setAttribute('width','1'); \n",
       "newElement.setAttribute('height','1'); \n",
       "newElement.setAttribute('x','15'); \n",
       "newElement.setAttribute('y','2'); \n",
       "newElement.style.fill = 'green'; \n",
       "svg.appendChild(newElement);\n",
       "newElement = document.createElementNS(\"http://www.w3.org/2000/svg\", 'rect'); \n",
       "newElement.setAttribute('width','1'); \n",
       "newElement.setAttribute('height','1'); \n",
       "newElement.setAttribute('x','16'); \n",
       "newElement.setAttribute('y','2'); \n",
       "newElement.style.fill = 'green'; \n",
       "svg.appendChild(newElement);\n",
       "newElement = document.createElementNS(\"http://www.w3.org/2000/svg\", 'rect'); \n",
       "newElement.setAttribute('width','1'); \n",
       "newElement.setAttribute('height','1'); \n",
       "newElement.setAttribute('x','0'); \n",
       "newElement.setAttribute('y','3'); \n",
       "newElement.style.fill = 'green'; \n",
       "svg.appendChild(newElement);\n",
       "newElement = document.createElementNS(\"http://www.w3.org/2000/svg\", 'rect'); \n",
       "newElement.setAttribute('width','1'); \n",
       "newElement.setAttribute('height','1'); \n",
       "newElement.setAttribute('x','1'); \n",
       "newElement.setAttribute('y','3'); \n",
       "newElement.style.fill = 'green'; \n",
       "svg.appendChild(newElement);\n",
       "newElement = document.createElementNS(\"http://www.w3.org/2000/svg\", 'rect'); \n",
       "newElement.setAttribute('width','1'); \n",
       "newElement.setAttribute('height','1'); \n",
       "newElement.setAttribute('x','2'); \n",
       "newElement.setAttribute('y','3'); \n",
       "newElement.style.fill = 'green'; \n",
       "svg.appendChild(newElement);\n",
       "newElement = document.createElementNS(\"http://www.w3.org/2000/svg\", 'rect'); \n",
       "newElement.setAttribute('width','1'); \n",
       "newElement.setAttribute('height','1'); \n",
       "newElement.setAttribute('x','3'); \n",
       "newElement.setAttribute('y','3'); \n",
       "newElement.style.fill = 'green'; \n",
       "svg.appendChild(newElement);\n",
       "newElement = document.createElementNS(\"http://www.w3.org/2000/svg\", 'rect'); \n",
       "newElement.setAttribute('width','1'); \n",
       "newElement.setAttribute('height','1'); \n",
       "newElement.setAttribute('x','4'); \n",
       "newElement.setAttribute('y','3'); \n",
       "newElement.style.fill = 'green'; \n",
       "svg.appendChild(newElement);\n",
       "newElement = document.createElementNS(\"http://www.w3.org/2000/svg\", 'rect'); \n",
       "newElement.setAttribute('width','1'); \n",
       "newElement.setAttribute('height','1'); \n",
       "newElement.setAttribute('x','5'); \n",
       "newElement.setAttribute('y','3'); \n",
       "newElement.style.fill = 'green'; \n",
       "svg.appendChild(newElement);\n",
       "newElement = document.createElementNS(\"http://www.w3.org/2000/svg\", 'rect'); \n",
       "newElement.setAttribute('width','1'); \n",
       "newElement.setAttribute('height','1'); \n",
       "newElement.setAttribute('x','6'); \n",
       "newElement.setAttribute('y','3'); \n",
       "newElement.style.fill = 'green'; \n",
       "svg.appendChild(newElement);\n",
       "newElement = document.createElementNS(\"http://www.w3.org/2000/svg\", 'rect'); \n",
       "newElement.setAttribute('width','1'); \n",
       "newElement.setAttribute('height','1'); \n",
       "newElement.setAttribute('x','7'); \n",
       "newElement.setAttribute('y','3'); \n",
       "newElement.style.fill = 'brown'; \n",
       "svg.appendChild(newElement);\n",
       "newElement = document.createElementNS(\"http://www.w3.org/2000/svg\", 'rect'); \n",
       "newElement.setAttribute('width','1'); \n",
       "newElement.setAttribute('height','1'); \n",
       "newElement.setAttribute('x','8'); \n",
       "newElement.setAttribute('y','3'); \n",
       "newElement.style.fill = 'brown'; \n",
       "svg.appendChild(newElement);\n",
       "newElement = document.createElementNS(\"http://www.w3.org/2000/svg\", 'rect'); \n",
       "newElement.setAttribute('width','1'); \n",
       "newElement.setAttribute('height','1'); \n",
       "newElement.setAttribute('x','9'); \n",
       "newElement.setAttribute('y','3'); \n",
       "newElement.style.fill = 'brown'; \n",
       "svg.appendChild(newElement);\n",
       "newElement = document.createElementNS(\"http://www.w3.org/2000/svg\", 'rect'); \n",
       "newElement.setAttribute('width','1'); \n",
       "newElement.setAttribute('height','1'); \n",
       "newElement.setAttribute('x','10'); \n",
       "newElement.setAttribute('y','3'); \n",
       "newElement.style.fill = 'brown'; \n",
       "svg.appendChild(newElement);\n",
       "newElement = document.createElementNS(\"http://www.w3.org/2000/svg\", 'rect'); \n",
       "newElement.setAttribute('width','1'); \n",
       "newElement.setAttribute('height','1'); \n",
       "newElement.setAttribute('x','11'); \n",
       "newElement.setAttribute('y','3'); \n",
       "newElement.style.fill = 'brown'; \n",
       "svg.appendChild(newElement);\n",
       "newElement = document.createElementNS(\"http://www.w3.org/2000/svg\", 'rect'); \n",
       "newElement.setAttribute('width','1'); \n",
       "newElement.setAttribute('height','1'); \n",
       "newElement.setAttribute('x','12'); \n",
       "newElement.setAttribute('y','3'); \n",
       "newElement.style.fill = 'brown'; \n",
       "svg.appendChild(newElement);\n",
       "newElement = document.createElementNS(\"http://www.w3.org/2000/svg\", 'rect'); \n",
       "newElement.setAttribute('width','1'); \n",
       "newElement.setAttribute('height','1'); \n",
       "newElement.setAttribute('x','13'); \n",
       "newElement.setAttribute('y','3'); \n",
       "newElement.style.fill = 'green'; \n",
       "svg.appendChild(newElement);\n",
       "newElement = document.createElementNS(\"http://www.w3.org/2000/svg\", 'rect'); \n",
       "newElement.setAttribute('width','1'); \n",
       "newElement.setAttribute('height','1'); \n",
       "newElement.setAttribute('x','14'); \n",
       "newElement.setAttribute('y','3'); \n",
       "newElement.style.fill = 'green'; \n",
       "svg.appendChild(newElement);\n",
       "newElement = document.createElementNS(\"http://www.w3.org/2000/svg\", 'rect'); \n",
       "newElement.setAttribute('width','1'); \n",
       "newElement.setAttribute('height','1'); \n",
       "newElement.setAttribute('x','15'); \n",
       "newElement.setAttribute('y','3'); \n",
       "newElement.style.fill = 'green'; \n",
       "svg.appendChild(newElement);\n",
       "newElement = document.createElementNS(\"http://www.w3.org/2000/svg\", 'rect'); \n",
       "newElement.setAttribute('width','1'); \n",
       "newElement.setAttribute('height','1'); \n",
       "newElement.setAttribute('x','16'); \n",
       "newElement.setAttribute('y','3'); \n",
       "newElement.style.fill = 'green'; \n",
       "svg.appendChild(newElement);\n",
       "newElement = document.createElementNS(\"http://www.w3.org/2000/svg\", 'rect'); \n",
       "newElement.setAttribute('width','1'); \n",
       "newElement.setAttribute('height','1'); \n",
       "newElement.setAttribute('x','0'); \n",
       "newElement.setAttribute('y','4'); \n",
       "newElement.style.fill = 'green'; \n",
       "svg.appendChild(newElement);\n",
       "newElement = document.createElementNS(\"http://www.w3.org/2000/svg\", 'rect'); \n",
       "newElement.setAttribute('width','1'); \n",
       "newElement.setAttribute('height','1'); \n",
       "newElement.setAttribute('x','1'); \n",
       "newElement.setAttribute('y','4'); \n",
       "newElement.style.fill = 'green'; \n",
       "svg.appendChild(newElement);\n",
       "newElement = document.createElementNS(\"http://www.w3.org/2000/svg\", 'rect'); \n",
       "newElement.setAttribute('width','1'); \n",
       "newElement.setAttribute('height','1'); \n",
       "newElement.setAttribute('x','2'); \n",
       "newElement.setAttribute('y','4'); \n",
       "newElement.style.fill = 'green'; \n",
       "svg.appendChild(newElement);\n",
       "newElement = document.createElementNS(\"http://www.w3.org/2000/svg\", 'rect'); \n",
       "newElement.setAttribute('width','1'); \n",
       "newElement.setAttribute('height','1'); \n",
       "newElement.setAttribute('x','3'); \n",
       "newElement.setAttribute('y','4'); \n",
       "newElement.style.fill = 'green'; \n",
       "svg.appendChild(newElement);\n",
       "newElement = document.createElementNS(\"http://www.w3.org/2000/svg\", 'rect'); \n",
       "newElement.setAttribute('width','1'); \n",
       "newElement.setAttribute('height','1'); \n",
       "newElement.setAttribute('x','4'); \n",
       "newElement.setAttribute('y','4'); \n",
       "newElement.style.fill = 'green'; \n",
       "svg.appendChild(newElement);\n",
       "newElement = document.createElementNS(\"http://www.w3.org/2000/svg\", 'rect'); \n",
       "newElement.setAttribute('width','1'); \n",
       "newElement.setAttribute('height','1'); \n",
       "newElement.setAttribute('x','5'); \n",
       "newElement.setAttribute('y','4'); \n",
       "newElement.style.fill = 'green'; \n",
       "svg.appendChild(newElement);\n",
       "newElement = document.createElementNS(\"http://www.w3.org/2000/svg\", 'rect'); \n",
       "newElement.setAttribute('width','1'); \n",
       "newElement.setAttribute('height','1'); \n",
       "newElement.setAttribute('x','6'); \n",
       "newElement.setAttribute('y','4'); \n",
       "newElement.style.fill = 'brown'; \n",
       "svg.appendChild(newElement);\n",
       "newElement = document.createElementNS(\"http://www.w3.org/2000/svg\", 'rect'); \n",
       "newElement.setAttribute('width','1'); \n",
       "newElement.setAttribute('height','1'); \n",
       "newElement.setAttribute('x','7'); \n",
       "newElement.setAttribute('y','4'); \n",
       "newElement.style.fill = 'brown'; \n",
       "svg.appendChild(newElement);\n",
       "newElement = document.createElementNS(\"http://www.w3.org/2000/svg\", 'rect'); \n",
       "newElement.setAttribute('width','1'); \n",
       "newElement.setAttribute('height','1'); \n",
       "newElement.setAttribute('x','8'); \n",
       "newElement.setAttribute('y','4'); \n",
       "newElement.style.fill = 'brown'; \n",
       "svg.appendChild(newElement);\n",
       "newElement = document.createElementNS(\"http://www.w3.org/2000/svg\", 'rect'); \n",
       "newElement.setAttribute('width','1'); \n",
       "newElement.setAttribute('height','1'); \n",
       "newElement.setAttribute('x','9'); \n",
       "newElement.setAttribute('y','4'); \n",
       "newElement.style.fill = 'brown'; \n",
       "svg.appendChild(newElement);\n",
       "newElement = document.createElementNS(\"http://www.w3.org/2000/svg\", 'rect'); \n",
       "newElement.setAttribute('width','1'); \n",
       "newElement.setAttribute('height','1'); \n",
       "newElement.setAttribute('x','10'); \n",
       "newElement.setAttribute('y','4'); \n",
       "newElement.style.fill = 'brown'; \n",
       "svg.appendChild(newElement);\n",
       "newElement = document.createElementNS(\"http://www.w3.org/2000/svg\", 'rect'); \n",
       "newElement.setAttribute('width','1'); \n",
       "newElement.setAttribute('height','1'); \n",
       "newElement.setAttribute('x','11'); \n",
       "newElement.setAttribute('y','4'); \n",
       "newElement.style.fill = 'brown'; \n",
       "svg.appendChild(newElement);\n",
       "newElement = document.createElementNS(\"http://www.w3.org/2000/svg\", 'rect'); \n",
       "newElement.setAttribute('width','1'); \n",
       "newElement.setAttribute('height','1'); \n",
       "newElement.setAttribute('x','12'); \n",
       "newElement.setAttribute('y','4'); \n",
       "newElement.style.fill = 'green'; \n",
       "svg.appendChild(newElement);\n",
       "newElement = document.createElementNS(\"http://www.w3.org/2000/svg\", 'rect'); \n",
       "newElement.setAttribute('width','1'); \n",
       "newElement.setAttribute('height','1'); \n",
       "newElement.setAttribute('x','13'); \n",
       "newElement.setAttribute('y','4'); \n",
       "newElement.style.fill = 'green'; \n",
       "svg.appendChild(newElement);\n",
       "newElement = document.createElementNS(\"http://www.w3.org/2000/svg\", 'rect'); \n",
       "newElement.setAttribute('width','1'); \n",
       "newElement.setAttribute('height','1'); \n",
       "newElement.setAttribute('x','14'); \n",
       "newElement.setAttribute('y','4'); \n",
       "newElement.style.fill = 'green'; \n",
       "svg.appendChild(newElement);\n",
       "newElement = document.createElementNS(\"http://www.w3.org/2000/svg\", 'rect'); \n",
       "newElement.setAttribute('width','1'); \n",
       "newElement.setAttribute('height','1'); \n",
       "newElement.setAttribute('x','15'); \n",
       "newElement.setAttribute('y','4'); \n",
       "newElement.style.fill = 'green'; \n",
       "svg.appendChild(newElement);\n",
       "newElement = document.createElementNS(\"http://www.w3.org/2000/svg\", 'rect'); \n",
       "newElement.setAttribute('width','1'); \n",
       "newElement.setAttribute('height','1'); \n",
       "newElement.setAttribute('x','16'); \n",
       "newElement.setAttribute('y','4'); \n",
       "newElement.style.fill = 'green'; \n",
       "svg.appendChild(newElement);\n",
       "newElement = document.createElementNS(\"http://www.w3.org/2000/svg\", 'rect'); \n",
       "newElement.setAttribute('width','1'); \n",
       "newElement.setAttribute('height','1'); \n",
       "newElement.setAttribute('x','0'); \n",
       "newElement.setAttribute('y','5'); \n",
       "newElement.style.fill = 'green'; \n",
       "svg.appendChild(newElement);\n",
       "newElement = document.createElementNS(\"http://www.w3.org/2000/svg\", 'rect'); \n",
       "newElement.setAttribute('width','1'); \n",
       "newElement.setAttribute('height','1'); \n",
       "newElement.setAttribute('x','1'); \n",
       "newElement.setAttribute('y','5'); \n",
       "newElement.style.fill = 'green'; \n",
       "svg.appendChild(newElement);\n",
       "newElement = document.createElementNS(\"http://www.w3.org/2000/svg\", 'rect'); \n",
       "newElement.setAttribute('width','1'); \n",
       "newElement.setAttribute('height','1'); \n",
       "newElement.setAttribute('x','2'); \n",
       "newElement.setAttribute('y','5'); \n",
       "newElement.style.fill = 'green'; \n",
       "svg.appendChild(newElement);\n",
       "newElement = document.createElementNS(\"http://www.w3.org/2000/svg\", 'rect'); \n",
       "newElement.setAttribute('width','1'); \n",
       "newElement.setAttribute('height','1'); \n",
       "newElement.setAttribute('x','3'); \n",
       "newElement.setAttribute('y','5'); \n",
       "newElement.style.fill = 'green'; \n",
       "svg.appendChild(newElement);\n",
       "newElement = document.createElementNS(\"http://www.w3.org/2000/svg\", 'rect'); \n",
       "newElement.setAttribute('width','1'); \n",
       "newElement.setAttribute('height','1'); \n",
       "newElement.setAttribute('x','4'); \n",
       "newElement.setAttribute('y','5'); \n",
       "newElement.style.fill = 'green'; \n",
       "svg.appendChild(newElement);\n",
       "newElement = document.createElementNS(\"http://www.w3.org/2000/svg\", 'rect'); \n",
       "newElement.setAttribute('width','1'); \n",
       "newElement.setAttribute('height','1'); \n",
       "newElement.setAttribute('x','5'); \n",
       "newElement.setAttribute('y','5'); \n",
       "newElement.style.fill = 'brown'; \n",
       "svg.appendChild(newElement);\n",
       "newElement = document.createElementNS(\"http://www.w3.org/2000/svg\", 'rect'); \n",
       "newElement.setAttribute('width','1'); \n",
       "newElement.setAttribute('height','1'); \n",
       "newElement.setAttribute('x','6'); \n",
       "newElement.setAttribute('y','5'); \n",
       "newElement.style.fill = 'brown'; \n",
       "svg.appendChild(newElement);\n",
       "newElement = document.createElementNS(\"http://www.w3.org/2000/svg\", 'rect'); \n",
       "newElement.setAttribute('width','1'); \n",
       "newElement.setAttribute('height','1'); \n",
       "newElement.setAttribute('x','7'); \n",
       "newElement.setAttribute('y','5'); \n",
       "newElement.style.fill = 'brown'; \n",
       "svg.appendChild(newElement);\n",
       "newElement = document.createElementNS(\"http://www.w3.org/2000/svg\", 'rect'); \n",
       "newElement.setAttribute('width','1'); \n",
       "newElement.setAttribute('height','1'); \n",
       "newElement.setAttribute('x','8'); \n",
       "newElement.setAttribute('y','5'); \n",
       "newElement.style.fill = 'brown'; \n",
       "svg.appendChild(newElement);\n",
       "newElement = document.createElementNS(\"http://www.w3.org/2000/svg\", 'rect'); \n",
       "newElement.setAttribute('width','1'); \n",
       "newElement.setAttribute('height','1'); \n",
       "newElement.setAttribute('x','9'); \n",
       "newElement.setAttribute('y','5'); \n",
       "newElement.style.fill = 'brown'; \n",
       "svg.appendChild(newElement);\n",
       "newElement = document.createElementNS(\"http://www.w3.org/2000/svg\", 'rect'); \n",
       "newElement.setAttribute('width','1'); \n",
       "newElement.setAttribute('height','1'); \n",
       "newElement.setAttribute('x','10'); \n",
       "newElement.setAttribute('y','5'); \n",
       "newElement.style.fill = 'green'; \n",
       "svg.appendChild(newElement);\n",
       "newElement = document.createElementNS(\"http://www.w3.org/2000/svg\", 'rect'); \n",
       "newElement.setAttribute('width','1'); \n",
       "newElement.setAttribute('height','1'); \n",
       "newElement.setAttribute('x','11'); \n",
       "newElement.setAttribute('y','5'); \n",
       "newElement.style.fill = 'green'; \n",
       "svg.appendChild(newElement);\n",
       "newElement = document.createElementNS(\"http://www.w3.org/2000/svg\", 'rect'); \n",
       "newElement.setAttribute('width','1'); \n",
       "newElement.setAttribute('height','1'); \n",
       "newElement.setAttribute('x','12'); \n",
       "newElement.setAttribute('y','5'); \n",
       "newElement.style.fill = 'green'; \n",
       "svg.appendChild(newElement);\n",
       "newElement = document.createElementNS(\"http://www.w3.org/2000/svg\", 'rect'); \n",
       "newElement.setAttribute('width','1'); \n",
       "newElement.setAttribute('height','1'); \n",
       "newElement.setAttribute('x','13'); \n",
       "newElement.setAttribute('y','5'); \n",
       "newElement.style.fill = 'green'; \n",
       "svg.appendChild(newElement);\n",
       "newElement = document.createElementNS(\"http://www.w3.org/2000/svg\", 'rect'); \n",
       "newElement.setAttribute('width','1'); \n",
       "newElement.setAttribute('height','1'); \n",
       "newElement.setAttribute('x','14'); \n",
       "newElement.setAttribute('y','5'); \n",
       "newElement.style.fill = 'green'; \n",
       "svg.appendChild(newElement);\n",
       "newElement = document.createElementNS(\"http://www.w3.org/2000/svg\", 'rect'); \n",
       "newElement.setAttribute('width','1'); \n",
       "newElement.setAttribute('height','1'); \n",
       "newElement.setAttribute('x','15'); \n",
       "newElement.setAttribute('y','5'); \n",
       "newElement.style.fill = 'green'; \n",
       "svg.appendChild(newElement);\n",
       "newElement = document.createElementNS(\"http://www.w3.org/2000/svg\", 'rect'); \n",
       "newElement.setAttribute('width','1'); \n",
       "newElement.setAttribute('height','1'); \n",
       "newElement.setAttribute('x','16'); \n",
       "newElement.setAttribute('y','5'); \n",
       "newElement.style.fill = 'green'; \n",
       "svg.appendChild(newElement);\n",
       "newElement = document.createElementNS(\"http://www.w3.org/2000/svg\", 'rect'); \n",
       "newElement.setAttribute('width','1'); \n",
       "newElement.setAttribute('height','1'); \n",
       "newElement.setAttribute('x','0'); \n",
       "newElement.setAttribute('y','6'); \n",
       "newElement.style.fill = 'green'; \n",
       "svg.appendChild(newElement);\n",
       "newElement = document.createElementNS(\"http://www.w3.org/2000/svg\", 'rect'); \n",
       "newElement.setAttribute('width','1'); \n",
       "newElement.setAttribute('height','1'); \n",
       "newElement.setAttribute('x','1'); \n",
       "newElement.setAttribute('y','6'); \n",
       "newElement.style.fill = 'green'; \n",
       "svg.appendChild(newElement);\n",
       "newElement = document.createElementNS(\"http://www.w3.org/2000/svg\", 'rect'); \n",
       "newElement.setAttribute('width','1'); \n",
       "newElement.setAttribute('height','1'); \n",
       "newElement.setAttribute('x','2'); \n",
       "newElement.setAttribute('y','6'); \n",
       "newElement.style.fill = 'green'; \n",
       "svg.appendChild(newElement);\n",
       "newElement = document.createElementNS(\"http://www.w3.org/2000/svg\", 'rect'); \n",
       "newElement.setAttribute('width','1'); \n",
       "newElement.setAttribute('height','1'); \n",
       "newElement.setAttribute('x','3'); \n",
       "newElement.setAttribute('y','6'); \n",
       "newElement.style.fill = 'green'; \n",
       "svg.appendChild(newElement);\n",
       "newElement = document.createElementNS(\"http://www.w3.org/2000/svg\", 'rect'); \n",
       "newElement.setAttribute('width','1'); \n",
       "newElement.setAttribute('height','1'); \n",
       "newElement.setAttribute('x','4'); \n",
       "newElement.setAttribute('y','6'); \n",
       "newElement.style.fill = 'brown'; \n",
       "svg.appendChild(newElement);\n",
       "newElement = document.createElementNS(\"http://www.w3.org/2000/svg\", 'rect'); \n",
       "newElement.setAttribute('width','1'); \n",
       "newElement.setAttribute('height','1'); \n",
       "newElement.setAttribute('x','5'); \n",
       "newElement.setAttribute('y','6'); \n",
       "newElement.style.fill = 'brown'; \n",
       "svg.appendChild(newElement);\n",
       "newElement = document.createElementNS(\"http://www.w3.org/2000/svg\", 'rect'); \n",
       "newElement.setAttribute('width','1'); \n",
       "newElement.setAttribute('height','1'); \n",
       "newElement.setAttribute('x','6'); \n",
       "newElement.setAttribute('y','6'); \n",
       "newElement.style.fill = 'brown'; \n",
       "svg.appendChild(newElement);\n",
       "newElement = document.createElementNS(\"http://www.w3.org/2000/svg\", 'rect'); \n",
       "newElement.setAttribute('width','1'); \n",
       "newElement.setAttribute('height','1'); \n",
       "newElement.setAttribute('x','7'); \n",
       "newElement.setAttribute('y','6'); \n",
       "newElement.style.fill = 'brown'; \n",
       "svg.appendChild(newElement);\n",
       "newElement = document.createElementNS(\"http://www.w3.org/2000/svg\", 'rect'); \n",
       "newElement.setAttribute('width','1'); \n",
       "newElement.setAttribute('height','1'); \n",
       "newElement.setAttribute('x','8'); \n",
       "newElement.setAttribute('y','6'); \n",
       "newElement.style.fill = 'brown'; \n",
       "svg.appendChild(newElement);\n",
       "newElement = document.createElementNS(\"http://www.w3.org/2000/svg\", 'rect'); \n",
       "newElement.setAttribute('width','1'); \n",
       "newElement.setAttribute('height','1'); \n",
       "newElement.setAttribute('x','9'); \n",
       "newElement.setAttribute('y','6'); \n",
       "newElement.style.fill = 'green'; \n",
       "svg.appendChild(newElement);\n",
       "newElement = document.createElementNS(\"http://www.w3.org/2000/svg\", 'rect'); \n",
       "newElement.setAttribute('width','1'); \n",
       "newElement.setAttribute('height','1'); \n",
       "newElement.setAttribute('x','10'); \n",
       "newElement.setAttribute('y','6'); \n",
       "newElement.style.fill = 'green'; \n",
       "svg.appendChild(newElement);\n",
       "newElement = document.createElementNS(\"http://www.w3.org/2000/svg\", 'rect'); \n",
       "newElement.setAttribute('width','1'); \n",
       "newElement.setAttribute('height','1'); \n",
       "newElement.setAttribute('x','11'); \n",
       "newElement.setAttribute('y','6'); \n",
       "newElement.style.fill = 'green'; \n",
       "svg.appendChild(newElement);\n",
       "newElement = document.createElementNS(\"http://www.w3.org/2000/svg\", 'rect'); \n",
       "newElement.setAttribute('width','1'); \n",
       "newElement.setAttribute('height','1'); \n",
       "newElement.setAttribute('x','12'); \n",
       "newElement.setAttribute('y','6'); \n",
       "newElement.style.fill = 'green'; \n",
       "svg.appendChild(newElement);\n",
       "newElement = document.createElementNS(\"http://www.w3.org/2000/svg\", 'rect'); \n",
       "newElement.setAttribute('width','1'); \n",
       "newElement.setAttribute('height','1'); \n",
       "newElement.setAttribute('x','13'); \n",
       "newElement.setAttribute('y','6'); \n",
       "newElement.style.fill = 'green'; \n",
       "svg.appendChild(newElement);\n",
       "newElement = document.createElementNS(\"http://www.w3.org/2000/svg\", 'rect'); \n",
       "newElement.setAttribute('width','1'); \n",
       "newElement.setAttribute('height','1'); \n",
       "newElement.setAttribute('x','14'); \n",
       "newElement.setAttribute('y','6'); \n",
       "newElement.style.fill = 'green'; \n",
       "svg.appendChild(newElement);\n",
       "newElement = document.createElementNS(\"http://www.w3.org/2000/svg\", 'rect'); \n",
       "newElement.setAttribute('width','1'); \n",
       "newElement.setAttribute('height','1'); \n",
       "newElement.setAttribute('x','15'); \n",
       "newElement.setAttribute('y','6'); \n",
       "newElement.style.fill = 'green'; \n",
       "svg.appendChild(newElement);\n",
       "newElement = document.createElementNS(\"http://www.w3.org/2000/svg\", 'rect'); \n",
       "newElement.setAttribute('width','1'); \n",
       "newElement.setAttribute('height','1'); \n",
       "newElement.setAttribute('x','16'); \n",
       "newElement.setAttribute('y','6'); \n",
       "newElement.style.fill = 'green'; \n",
       "svg.appendChild(newElement);\n",
       "newElement = document.createElementNS(\"http://www.w3.org/2000/svg\", 'rect'); \n",
       "newElement.setAttribute('width','1'); \n",
       "newElement.setAttribute('height','1'); \n",
       "newElement.setAttribute('x','0'); \n",
       "newElement.setAttribute('y','7'); \n",
       "newElement.style.fill = 'green'; \n",
       "svg.appendChild(newElement);\n",
       "newElement = document.createElementNS(\"http://www.w3.org/2000/svg\", 'rect'); \n",
       "newElement.setAttribute('width','1'); \n",
       "newElement.setAttribute('height','1'); \n",
       "newElement.setAttribute('x','1'); \n",
       "newElement.setAttribute('y','7'); \n",
       "newElement.style.fill = 'green'; \n",
       "svg.appendChild(newElement);\n",
       "newElement = document.createElementNS(\"http://www.w3.org/2000/svg\", 'rect'); \n",
       "newElement.setAttribute('width','1'); \n",
       "newElement.setAttribute('height','1'); \n",
       "newElement.setAttribute('x','2'); \n",
       "newElement.setAttribute('y','7'); \n",
       "newElement.style.fill = 'green'; \n",
       "svg.appendChild(newElement);\n",
       "newElement = document.createElementNS(\"http://www.w3.org/2000/svg\", 'rect'); \n",
       "newElement.setAttribute('width','1'); \n",
       "newElement.setAttribute('height','1'); \n",
       "newElement.setAttribute('x','3'); \n",
       "newElement.setAttribute('y','7'); \n",
       "newElement.style.fill = 'brown'; \n",
       "svg.appendChild(newElement);\n",
       "newElement = document.createElementNS(\"http://www.w3.org/2000/svg\", 'rect'); \n",
       "newElement.setAttribute('width','1'); \n",
       "newElement.setAttribute('height','1'); \n",
       "newElement.setAttribute('x','4'); \n",
       "newElement.setAttribute('y','7'); \n",
       "newElement.style.fill = 'brown'; \n",
       "svg.appendChild(newElement);\n",
       "newElement = document.createElementNS(\"http://www.w3.org/2000/svg\", 'rect'); \n",
       "newElement.setAttribute('width','1'); \n",
       "newElement.setAttribute('height','1'); \n",
       "newElement.setAttribute('x','5'); \n",
       "newElement.setAttribute('y','7'); \n",
       "newElement.style.fill = 'brown'; \n",
       "svg.appendChild(newElement);\n",
       "newElement = document.createElementNS(\"http://www.w3.org/2000/svg\", 'rect'); \n",
       "newElement.setAttribute('width','1'); \n",
       "newElement.setAttribute('height','1'); \n",
       "newElement.setAttribute('x','6'); \n",
       "newElement.setAttribute('y','7'); \n",
       "newElement.style.fill = 'brown'; \n",
       "svg.appendChild(newElement);\n",
       "newElement = document.createElementNS(\"http://www.w3.org/2000/svg\", 'rect'); \n",
       "newElement.setAttribute('width','1'); \n",
       "newElement.setAttribute('height','1'); \n",
       "newElement.setAttribute('x','7'); \n",
       "newElement.setAttribute('y','7'); \n",
       "newElement.style.fill = 'brown'; \n",
       "svg.appendChild(newElement);\n",
       "newElement = document.createElementNS(\"http://www.w3.org/2000/svg\", 'rect'); \n",
       "newElement.setAttribute('width','1'); \n",
       "newElement.setAttribute('height','1'); \n",
       "newElement.setAttribute('x','8'); \n",
       "newElement.setAttribute('y','7'); \n",
       "newElement.style.fill = 'green'; \n",
       "svg.appendChild(newElement);\n",
       "newElement = document.createElementNS(\"http://www.w3.org/2000/svg\", 'rect'); \n",
       "newElement.setAttribute('width','1'); \n",
       "newElement.setAttribute('height','1'); \n",
       "newElement.setAttribute('x','9'); \n",
       "newElement.setAttribute('y','7'); \n",
       "newElement.style.fill = 'green'; \n",
       "svg.appendChild(newElement);\n",
       "newElement = document.createElementNS(\"http://www.w3.org/2000/svg\", 'rect'); \n",
       "newElement.setAttribute('width','1'); \n",
       "newElement.setAttribute('height','1'); \n",
       "newElement.setAttribute('x','10'); \n",
       "newElement.setAttribute('y','7'); \n",
       "newElement.style.fill = 'green'; \n",
       "svg.appendChild(newElement);\n",
       "newElement = document.createElementNS(\"http://www.w3.org/2000/svg\", 'rect'); \n",
       "newElement.setAttribute('width','1'); \n",
       "newElement.setAttribute('height','1'); \n",
       "newElement.setAttribute('x','11'); \n",
       "newElement.setAttribute('y','7'); \n",
       "newElement.style.fill = 'green'; \n",
       "svg.appendChild(newElement);\n",
       "newElement = document.createElementNS(\"http://www.w3.org/2000/svg\", 'rect'); \n",
       "newElement.setAttribute('width','1'); \n",
       "newElement.setAttribute('height','1'); \n",
       "newElement.setAttribute('x','12'); \n",
       "newElement.setAttribute('y','7'); \n",
       "newElement.style.fill = 'green'; \n",
       "svg.appendChild(newElement);\n",
       "newElement = document.createElementNS(\"http://www.w3.org/2000/svg\", 'rect'); \n",
       "newElement.setAttribute('width','1'); \n",
       "newElement.setAttribute('height','1'); \n",
       "newElement.setAttribute('x','13'); \n",
       "newElement.setAttribute('y','7'); \n",
       "newElement.style.fill = 'green'; \n",
       "svg.appendChild(newElement);\n",
       "newElement = document.createElementNS(\"http://www.w3.org/2000/svg\", 'rect'); \n",
       "newElement.setAttribute('width','1'); \n",
       "newElement.setAttribute('height','1'); \n",
       "newElement.setAttribute('x','14'); \n",
       "newElement.setAttribute('y','7'); \n",
       "newElement.style.fill = 'green'; \n",
       "svg.appendChild(newElement);\n",
       "newElement = document.createElementNS(\"http://www.w3.org/2000/svg\", 'rect'); \n",
       "newElement.setAttribute('width','1'); \n",
       "newElement.setAttribute('height','1'); \n",
       "newElement.setAttribute('x','15'); \n",
       "newElement.setAttribute('y','7'); \n",
       "newElement.style.fill = 'green'; \n",
       "svg.appendChild(newElement);\n",
       "newElement = document.createElementNS(\"http://www.w3.org/2000/svg\", 'rect'); \n",
       "newElement.setAttribute('width','1'); \n",
       "newElement.setAttribute('height','1'); \n",
       "newElement.setAttribute('x','16'); \n",
       "newElement.setAttribute('y','7'); \n",
       "newElement.style.fill = 'green'; \n",
       "svg.appendChild(newElement);\n",
       "newElement = document.createElementNS(\"http://www.w3.org/2000/svg\", 'rect'); \n",
       "newElement.setAttribute('width','1'); \n",
       "newElement.setAttribute('height','1'); \n",
       "newElement.setAttribute('x','0'); \n",
       "newElement.setAttribute('y','8'); \n",
       "newElement.style.fill = 'green'; \n",
       "svg.appendChild(newElement);\n",
       "newElement = document.createElementNS(\"http://www.w3.org/2000/svg\", 'rect'); \n",
       "newElement.setAttribute('width','1'); \n",
       "newElement.setAttribute('height','1'); \n",
       "newElement.setAttribute('x','1'); \n",
       "newElement.setAttribute('y','8'); \n",
       "newElement.style.fill = 'green'; \n",
       "svg.appendChild(newElement);\n",
       "newElement = document.createElementNS(\"http://www.w3.org/2000/svg\", 'rect'); \n",
       "newElement.setAttribute('width','1'); \n",
       "newElement.setAttribute('height','1'); \n",
       "newElement.setAttribute('x','2'); \n",
       "newElement.setAttribute('y','8'); \n",
       "newElement.style.fill = 'brown'; \n",
       "svg.appendChild(newElement);\n",
       "newElement = document.createElementNS(\"http://www.w3.org/2000/svg\", 'rect'); \n",
       "newElement.setAttribute('width','1'); \n",
       "newElement.setAttribute('height','1'); \n",
       "newElement.setAttribute('x','3'); \n",
       "newElement.setAttribute('y','8'); \n",
       "newElement.style.fill = 'brown'; \n",
       "svg.appendChild(newElement);\n",
       "newElement = document.createElementNS(\"http://www.w3.org/2000/svg\", 'rect'); \n",
       "newElement.setAttribute('width','1'); \n",
       "newElement.setAttribute('height','1'); \n",
       "newElement.setAttribute('x','4'); \n",
       "newElement.setAttribute('y','8'); \n",
       "newElement.style.fill = 'brown'; \n",
       "svg.appendChild(newElement);\n",
       "newElement = document.createElementNS(\"http://www.w3.org/2000/svg\", 'rect'); \n",
       "newElement.setAttribute('width','1'); \n",
       "newElement.setAttribute('height','1'); \n",
       "newElement.setAttribute('x','5'); \n",
       "newElement.setAttribute('y','8'); \n",
       "newElement.style.fill = 'brown'; \n",
       "svg.appendChild(newElement);\n",
       "newElement = document.createElementNS(\"http://www.w3.org/2000/svg\", 'rect'); \n",
       "newElement.setAttribute('width','1'); \n",
       "newElement.setAttribute('height','1'); \n",
       "newElement.setAttribute('x','6'); \n",
       "newElement.setAttribute('y','8'); \n",
       "newElement.style.fill = 'brown'; \n",
       "svg.appendChild(newElement);\n",
       "newElement = document.createElementNS(\"http://www.w3.org/2000/svg\", 'rect'); \n",
       "newElement.setAttribute('width','1'); \n",
       "newElement.setAttribute('height','1'); \n",
       "newElement.setAttribute('x','7'); \n",
       "newElement.setAttribute('y','8'); \n",
       "newElement.style.fill = 'green'; \n",
       "svg.appendChild(newElement);\n",
       "newElement = document.createElementNS(\"http://www.w3.org/2000/svg\", 'rect'); \n",
       "newElement.setAttribute('width','1'); \n",
       "newElement.setAttribute('height','1'); \n",
       "newElement.setAttribute('x','8'); \n",
       "newElement.setAttribute('y','8'); \n",
       "newElement.style.fill = 'green'; \n",
       "svg.appendChild(newElement);\n",
       "newElement = document.createElementNS(\"http://www.w3.org/2000/svg\", 'rect'); \n",
       "newElement.setAttribute('width','1'); \n",
       "newElement.setAttribute('height','1'); \n",
       "newElement.setAttribute('x','9'); \n",
       "newElement.setAttribute('y','8'); \n",
       "newElement.style.fill = 'green'; \n",
       "svg.appendChild(newElement);\n",
       "newElement = document.createElementNS(\"http://www.w3.org/2000/svg\", 'rect'); \n",
       "newElement.setAttribute('width','1'); \n",
       "newElement.setAttribute('height','1'); \n",
       "newElement.setAttribute('x','10'); \n",
       "newElement.setAttribute('y','8'); \n",
       "newElement.style.fill = 'green'; \n",
       "svg.appendChild(newElement);\n",
       "newElement = document.createElementNS(\"http://www.w3.org/2000/svg\", 'rect'); \n",
       "newElement.setAttribute('width','1'); \n",
       "newElement.setAttribute('height','1'); \n",
       "newElement.setAttribute('x','11'); \n",
       "newElement.setAttribute('y','8'); \n",
       "newElement.style.fill = 'green'; \n",
       "svg.appendChild(newElement);\n",
       "newElement = document.createElementNS(\"http://www.w3.org/2000/svg\", 'rect'); \n",
       "newElement.setAttribute('width','1'); \n",
       "newElement.setAttribute('height','1'); \n",
       "newElement.setAttribute('x','12'); \n",
       "newElement.setAttribute('y','8'); \n",
       "newElement.style.fill = 'green'; \n",
       "svg.appendChild(newElement);\n",
       "newElement = document.createElementNS(\"http://www.w3.org/2000/svg\", 'rect'); \n",
       "newElement.setAttribute('width','1'); \n",
       "newElement.setAttribute('height','1'); \n",
       "newElement.setAttribute('x','13'); \n",
       "newElement.setAttribute('y','8'); \n",
       "newElement.style.fill = 'green'; \n",
       "svg.appendChild(newElement);\n",
       "newElement = document.createElementNS(\"http://www.w3.org/2000/svg\", 'rect'); \n",
       "newElement.setAttribute('width','1'); \n",
       "newElement.setAttribute('height','1'); \n",
       "newElement.setAttribute('x','14'); \n",
       "newElement.setAttribute('y','8'); \n",
       "newElement.style.fill = 'green'; \n",
       "svg.appendChild(newElement);\n",
       "newElement = document.createElementNS(\"http://www.w3.org/2000/svg\", 'rect'); \n",
       "newElement.setAttribute('width','1'); \n",
       "newElement.setAttribute('height','1'); \n",
       "newElement.setAttribute('x','15'); \n",
       "newElement.setAttribute('y','8'); \n",
       "newElement.style.fill = 'green'; \n",
       "svg.appendChild(newElement);\n",
       "newElement = document.createElementNS(\"http://www.w3.org/2000/svg\", 'rect'); \n",
       "newElement.setAttribute('width','1'); \n",
       "newElement.setAttribute('height','1'); \n",
       "newElement.setAttribute('x','16'); \n",
       "newElement.setAttribute('y','8'); \n",
       "newElement.style.fill = 'green'; \n",
       "svg.appendChild(newElement);\n",
       "newElement = document.createElementNS(\"http://www.w3.org/2000/svg\", 'rect'); \n",
       "newElement.setAttribute('width','1'); \n",
       "newElement.setAttribute('height','1'); \n",
       "newElement.setAttribute('x','0'); \n",
       "newElement.setAttribute('y','9'); \n",
       "newElement.style.fill = 'green'; \n",
       "svg.appendChild(newElement);\n",
       "newElement = document.createElementNS(\"http://www.w3.org/2000/svg\", 'rect'); \n",
       "newElement.setAttribute('width','1'); \n",
       "newElement.setAttribute('height','1'); \n",
       "newElement.setAttribute('x','1'); \n",
       "newElement.setAttribute('y','9'); \n",
       "newElement.style.fill = 'green'; \n",
       "svg.appendChild(newElement);\n",
       "newElement = document.createElementNS(\"http://www.w3.org/2000/svg\", 'rect'); \n",
       "newElement.setAttribute('width','1'); \n",
       "newElement.setAttribute('height','1'); \n",
       "newElement.setAttribute('x','2'); \n",
       "newElement.setAttribute('y','9'); \n",
       "newElement.style.fill = 'brown'; \n",
       "svg.appendChild(newElement);\n",
       "newElement = document.createElementNS(\"http://www.w3.org/2000/svg\", 'rect'); \n",
       "newElement.setAttribute('width','1'); \n",
       "newElement.setAttribute('height','1'); \n",
       "newElement.setAttribute('x','3'); \n",
       "newElement.setAttribute('y','9'); \n",
       "newElement.style.fill = 'brown'; \n",
       "svg.appendChild(newElement);\n",
       "newElement = document.createElementNS(\"http://www.w3.org/2000/svg\", 'rect'); \n",
       "newElement.setAttribute('width','1'); \n",
       "newElement.setAttribute('height','1'); \n",
       "newElement.setAttribute('x','4'); \n",
       "newElement.setAttribute('y','9'); \n",
       "newElement.style.fill = 'brown'; \n",
       "svg.appendChild(newElement);\n",
       "newElement = document.createElementNS(\"http://www.w3.org/2000/svg\", 'rect'); \n",
       "newElement.setAttribute('width','1'); \n",
       "newElement.setAttribute('height','1'); \n",
       "newElement.setAttribute('x','5'); \n",
       "newElement.setAttribute('y','9'); \n",
       "newElement.style.fill = 'brown'; \n",
       "svg.appendChild(newElement);\n",
       "newElement = document.createElementNS(\"http://www.w3.org/2000/svg\", 'rect'); \n",
       "newElement.setAttribute('width','1'); \n",
       "newElement.setAttribute('height','1'); \n",
       "newElement.setAttribute('x','6'); \n",
       "newElement.setAttribute('y','9'); \n",
       "newElement.style.fill = 'brown'; \n",
       "svg.appendChild(newElement);\n",
       "newElement = document.createElementNS(\"http://www.w3.org/2000/svg\", 'rect'); \n",
       "newElement.setAttribute('width','1'); \n",
       "newElement.setAttribute('height','1'); \n",
       "newElement.setAttribute('x','7'); \n",
       "newElement.setAttribute('y','9'); \n",
       "newElement.style.fill = 'green'; \n",
       "svg.appendChild(newElement);\n",
       "newElement = document.createElementNS(\"http://www.w3.org/2000/svg\", 'rect'); \n",
       "newElement.setAttribute('width','1'); \n",
       "newElement.setAttribute('height','1'); \n",
       "newElement.setAttribute('x','8'); \n",
       "newElement.setAttribute('y','9'); \n",
       "newElement.style.fill = 'green'; \n",
       "svg.appendChild(newElement);\n",
       "newElement = document.createElementNS(\"http://www.w3.org/2000/svg\", 'rect'); \n",
       "newElement.setAttribute('width','1'); \n",
       "newElement.setAttribute('height','1'); \n",
       "newElement.setAttribute('x','9'); \n",
       "newElement.setAttribute('y','9'); \n",
       "newElement.style.fill = 'green'; \n",
       "svg.appendChild(newElement);\n",
       "newElement = document.createElementNS(\"http://www.w3.org/2000/svg\", 'rect'); \n",
       "newElement.setAttribute('width','1'); \n",
       "newElement.setAttribute('height','1'); \n",
       "newElement.setAttribute('x','10'); \n",
       "newElement.setAttribute('y','9'); \n",
       "newElement.style.fill = 'green'; \n",
       "svg.appendChild(newElement);\n",
       "newElement = document.createElementNS(\"http://www.w3.org/2000/svg\", 'rect'); \n",
       "newElement.setAttribute('width','1'); \n",
       "newElement.setAttribute('height','1'); \n",
       "newElement.setAttribute('x','11'); \n",
       "newElement.setAttribute('y','9'); \n",
       "newElement.style.fill = 'green'; \n",
       "svg.appendChild(newElement);\n",
       "newElement = document.createElementNS(\"http://www.w3.org/2000/svg\", 'rect'); \n",
       "newElement.setAttribute('width','1'); \n",
       "newElement.setAttribute('height','1'); \n",
       "newElement.setAttribute('x','12'); \n",
       "newElement.setAttribute('y','9'); \n",
       "newElement.style.fill = 'green'; \n",
       "svg.appendChild(newElement);\n",
       "newElement = document.createElementNS(\"http://www.w3.org/2000/svg\", 'rect'); \n",
       "newElement.setAttribute('width','1'); \n",
       "newElement.setAttribute('height','1'); \n",
       "newElement.setAttribute('x','13'); \n",
       "newElement.setAttribute('y','9'); \n",
       "newElement.style.fill = 'green'; \n",
       "svg.appendChild(newElement);\n",
       "newElement = document.createElementNS(\"http://www.w3.org/2000/svg\", 'rect'); \n",
       "newElement.setAttribute('width','1'); \n",
       "newElement.setAttribute('height','1'); \n",
       "newElement.setAttribute('x','14'); \n",
       "newElement.setAttribute('y','9'); \n",
       "newElement.style.fill = 'green'; \n",
       "svg.appendChild(newElement);\n",
       "newElement = document.createElementNS(\"http://www.w3.org/2000/svg\", 'rect'); \n",
       "newElement.setAttribute('width','1'); \n",
       "newElement.setAttribute('height','1'); \n",
       "newElement.setAttribute('x','15'); \n",
       "newElement.setAttribute('y','9'); \n",
       "newElement.style.fill = 'green'; \n",
       "svg.appendChild(newElement);\n",
       "newElement = document.createElementNS(\"http://www.w3.org/2000/svg\", 'rect'); \n",
       "newElement.setAttribute('width','1'); \n",
       "newElement.setAttribute('height','1'); \n",
       "newElement.setAttribute('x','16'); \n",
       "newElement.setAttribute('y','9'); \n",
       "newElement.style.fill = 'green'; \n",
       "svg.appendChild(newElement);\n",
       "newElement = document.createElementNS(\"http://www.w3.org/2000/svg\", 'rect'); \n",
       "newElement.setAttribute('width','1'); \n",
       "newElement.setAttribute('height','1'); \n",
       "newElement.setAttribute('x','0'); \n",
       "newElement.setAttribute('y','10'); \n",
       "newElement.style.fill = 'green'; \n",
       "svg.appendChild(newElement);\n",
       "newElement = document.createElementNS(\"http://www.w3.org/2000/svg\", 'rect'); \n",
       "newElement.setAttribute('width','1'); \n",
       "newElement.setAttribute('height','1'); \n",
       "newElement.setAttribute('x','1'); \n",
       "newElement.setAttribute('y','10'); \n",
       "newElement.style.fill = 'green'; \n",
       "svg.appendChild(newElement);\n",
       "newElement = document.createElementNS(\"http://www.w3.org/2000/svg\", 'rect'); \n",
       "newElement.setAttribute('width','1'); \n",
       "newElement.setAttribute('height','1'); \n",
       "newElement.setAttribute('x','2'); \n",
       "newElement.setAttribute('y','10'); \n",
       "newElement.style.fill = 'brown'; \n",
       "svg.appendChild(newElement);\n",
       "newElement = document.createElementNS(\"http://www.w3.org/2000/svg\", 'rect'); \n",
       "newElement.setAttribute('width','1'); \n",
       "newElement.setAttribute('height','1'); \n",
       "newElement.setAttribute('x','3'); \n",
       "newElement.setAttribute('y','10'); \n",
       "newElement.style.fill = 'brown'; \n",
       "svg.appendChild(newElement);\n",
       "newElement = document.createElementNS(\"http://www.w3.org/2000/svg\", 'rect'); \n",
       "newElement.setAttribute('width','1'); \n",
       "newElement.setAttribute('height','1'); \n",
       "newElement.setAttribute('x','4'); \n",
       "newElement.setAttribute('y','10'); \n",
       "newElement.style.fill = 'brown'; \n",
       "svg.appendChild(newElement);\n",
       "newElement = document.createElementNS(\"http://www.w3.org/2000/svg\", 'rect'); \n",
       "newElement.setAttribute('width','1'); \n",
       "newElement.setAttribute('height','1'); \n",
       "newElement.setAttribute('x','5'); \n",
       "newElement.setAttribute('y','10'); \n",
       "newElement.style.fill = 'brown'; \n",
       "svg.appendChild(newElement);\n",
       "newElement = document.createElementNS(\"http://www.w3.org/2000/svg\", 'rect'); \n",
       "newElement.setAttribute('width','1'); \n",
       "newElement.setAttribute('height','1'); \n",
       "newElement.setAttribute('x','6'); \n",
       "newElement.setAttribute('y','10'); \n",
       "newElement.style.fill = 'green'; \n",
       "svg.appendChild(newElement);\n",
       "newElement = document.createElementNS(\"http://www.w3.org/2000/svg\", 'rect'); \n",
       "newElement.setAttribute('width','1'); \n",
       "newElement.setAttribute('height','1'); \n",
       "newElement.setAttribute('x','7'); \n",
       "newElement.setAttribute('y','10'); \n",
       "newElement.style.fill = 'green'; \n",
       "svg.appendChild(newElement);\n",
       "newElement = document.createElementNS(\"http://www.w3.org/2000/svg\", 'rect'); \n",
       "newElement.setAttribute('width','1'); \n",
       "newElement.setAttribute('height','1'); \n",
       "newElement.setAttribute('x','8'); \n",
       "newElement.setAttribute('y','10'); \n",
       "newElement.style.fill = 'green'; \n",
       "svg.appendChild(newElement);\n",
       "newElement = document.createElementNS(\"http://www.w3.org/2000/svg\", 'rect'); \n",
       "newElement.setAttribute('width','1'); \n",
       "newElement.setAttribute('height','1'); \n",
       "newElement.setAttribute('x','9'); \n",
       "newElement.setAttribute('y','10'); \n",
       "newElement.style.fill = 'green'; \n",
       "svg.appendChild(newElement);\n",
       "newElement = document.createElementNS(\"http://www.w3.org/2000/svg\", 'rect'); \n",
       "newElement.setAttribute('width','1'); \n",
       "newElement.setAttribute('height','1'); \n",
       "newElement.setAttribute('x','10'); \n",
       "newElement.setAttribute('y','10'); \n",
       "newElement.style.fill = 'green'; \n",
       "svg.appendChild(newElement);\n",
       "newElement = document.createElementNS(\"http://www.w3.org/2000/svg\", 'rect'); \n",
       "newElement.setAttribute('width','1'); \n",
       "newElement.setAttribute('height','1'); \n",
       "newElement.setAttribute('x','11'); \n",
       "newElement.setAttribute('y','10'); \n",
       "newElement.style.fill = 'green'; \n",
       "svg.appendChild(newElement);\n",
       "newElement = document.createElementNS(\"http://www.w3.org/2000/svg\", 'rect'); \n",
       "newElement.setAttribute('width','1'); \n",
       "newElement.setAttribute('height','1'); \n",
       "newElement.setAttribute('x','12'); \n",
       "newElement.setAttribute('y','10'); \n",
       "newElement.style.fill = 'green'; \n",
       "svg.appendChild(newElement);\n",
       "newElement = document.createElementNS(\"http://www.w3.org/2000/svg\", 'rect'); \n",
       "newElement.setAttribute('width','1'); \n",
       "newElement.setAttribute('height','1'); \n",
       "newElement.setAttribute('x','13'); \n",
       "newElement.setAttribute('y','10'); \n",
       "newElement.style.fill = 'green'; \n",
       "svg.appendChild(newElement);\n",
       "newElement = document.createElementNS(\"http://www.w3.org/2000/svg\", 'rect'); \n",
       "newElement.setAttribute('width','1'); \n",
       "newElement.setAttribute('height','1'); \n",
       "newElement.setAttribute('x','14'); \n",
       "newElement.setAttribute('y','10'); \n",
       "newElement.style.fill = 'green'; \n",
       "svg.appendChild(newElement);\n",
       "newElement = document.createElementNS(\"http://www.w3.org/2000/svg\", 'rect'); \n",
       "newElement.setAttribute('width','1'); \n",
       "newElement.setAttribute('height','1'); \n",
       "newElement.setAttribute('x','15'); \n",
       "newElement.setAttribute('y','10'); \n",
       "newElement.style.fill = 'green'; \n",
       "svg.appendChild(newElement);\n",
       "newElement = document.createElementNS(\"http://www.w3.org/2000/svg\", 'rect'); \n",
       "newElement.setAttribute('width','1'); \n",
       "newElement.setAttribute('height','1'); \n",
       "newElement.setAttribute('x','16'); \n",
       "newElement.setAttribute('y','10'); \n",
       "newElement.style.fill = 'green'; \n",
       "svg.appendChild(newElement);\n",
       "newElement = document.createElementNS(\"http://www.w3.org/2000/svg\", 'rect'); \n",
       "newElement.setAttribute('width','1'); \n",
       "newElement.setAttribute('height','1'); \n",
       "newElement.setAttribute('x','0'); \n",
       "newElement.setAttribute('y','11'); \n",
       "newElement.style.fill = 'green'; \n",
       "svg.appendChild(newElement);\n",
       "newElement = document.createElementNS(\"http://www.w3.org/2000/svg\", 'rect'); \n",
       "newElement.setAttribute('width','1'); \n",
       "newElement.setAttribute('height','1'); \n",
       "newElement.setAttribute('x','1'); \n",
       "newElement.setAttribute('y','11'); \n",
       "newElement.style.fill = 'green'; \n",
       "svg.appendChild(newElement);\n",
       "newElement = document.createElementNS(\"http://www.w3.org/2000/svg\", 'rect'); \n",
       "newElement.setAttribute('width','1'); \n",
       "newElement.setAttribute('height','1'); \n",
       "newElement.setAttribute('x','2'); \n",
       "newElement.setAttribute('y','11'); \n",
       "newElement.style.fill = 'brown'; \n",
       "svg.appendChild(newElement);\n",
       "newElement = document.createElementNS(\"http://www.w3.org/2000/svg\", 'rect'); \n",
       "newElement.setAttribute('width','1'); \n",
       "newElement.setAttribute('height','1'); \n",
       "newElement.setAttribute('x','3'); \n",
       "newElement.setAttribute('y','11'); \n",
       "newElement.style.fill = 'brown'; \n",
       "svg.appendChild(newElement);\n",
       "newElement = document.createElementNS(\"http://www.w3.org/2000/svg\", 'rect'); \n",
       "newElement.setAttribute('width','1'); \n",
       "newElement.setAttribute('height','1'); \n",
       "newElement.setAttribute('x','4'); \n",
       "newElement.setAttribute('y','11'); \n",
       "newElement.style.fill = 'brown'; \n",
       "svg.appendChild(newElement);\n",
       "newElement = document.createElementNS(\"http://www.w3.org/2000/svg\", 'rect'); \n",
       "newElement.setAttribute('width','1'); \n",
       "newElement.setAttribute('height','1'); \n",
       "newElement.setAttribute('x','5'); \n",
       "newElement.setAttribute('y','11'); \n",
       "newElement.style.fill = 'brown'; \n",
       "svg.appendChild(newElement);\n",
       "newElement = document.createElementNS(\"http://www.w3.org/2000/svg\", 'rect'); \n",
       "newElement.setAttribute('width','1'); \n",
       "newElement.setAttribute('height','1'); \n",
       "newElement.setAttribute('x','6'); \n",
       "newElement.setAttribute('y','11'); \n",
       "newElement.style.fill = 'green'; \n",
       "svg.appendChild(newElement);\n",
       "newElement = document.createElementNS(\"http://www.w3.org/2000/svg\", 'rect'); \n",
       "newElement.setAttribute('width','1'); \n",
       "newElement.setAttribute('height','1'); \n",
       "newElement.setAttribute('x','7'); \n",
       "newElement.setAttribute('y','11'); \n",
       "newElement.style.fill = 'green'; \n",
       "svg.appendChild(newElement);\n",
       "newElement = document.createElementNS(\"http://www.w3.org/2000/svg\", 'rect'); \n",
       "newElement.setAttribute('width','1'); \n",
       "newElement.setAttribute('height','1'); \n",
       "newElement.setAttribute('x','8'); \n",
       "newElement.setAttribute('y','11'); \n",
       "newElement.style.fill = 'green'; \n",
       "svg.appendChild(newElement);\n",
       "newElement = document.createElementNS(\"http://www.w3.org/2000/svg\", 'rect'); \n",
       "newElement.setAttribute('width','1'); \n",
       "newElement.setAttribute('height','1'); \n",
       "newElement.setAttribute('x','9'); \n",
       "newElement.setAttribute('y','11'); \n",
       "newElement.style.fill = 'green'; \n",
       "svg.appendChild(newElement);\n",
       "newElement = document.createElementNS(\"http://www.w3.org/2000/svg\", 'rect'); \n",
       "newElement.setAttribute('width','1'); \n",
       "newElement.setAttribute('height','1'); \n",
       "newElement.setAttribute('x','10'); \n",
       "newElement.setAttribute('y','11'); \n",
       "newElement.style.fill = 'green'; \n",
       "svg.appendChild(newElement);\n",
       "newElement = document.createElementNS(\"http://www.w3.org/2000/svg\", 'rect'); \n",
       "newElement.setAttribute('width','1'); \n",
       "newElement.setAttribute('height','1'); \n",
       "newElement.setAttribute('x','11'); \n",
       "newElement.setAttribute('y','11'); \n",
       "newElement.style.fill = 'green'; \n",
       "svg.appendChild(newElement);\n",
       "newElement = document.createElementNS(\"http://www.w3.org/2000/svg\", 'rect'); \n",
       "newElement.setAttribute('width','1'); \n",
       "newElement.setAttribute('height','1'); \n",
       "newElement.setAttribute('x','12'); \n",
       "newElement.setAttribute('y','11'); \n",
       "newElement.style.fill = 'green'; \n",
       "svg.appendChild(newElement);\n",
       "newElement = document.createElementNS(\"http://www.w3.org/2000/svg\", 'rect'); \n",
       "newElement.setAttribute('width','1'); \n",
       "newElement.setAttribute('height','1'); \n",
       "newElement.setAttribute('x','13'); \n",
       "newElement.setAttribute('y','11'); \n",
       "newElement.style.fill = 'green'; \n",
       "svg.appendChild(newElement);\n",
       "newElement = document.createElementNS(\"http://www.w3.org/2000/svg\", 'rect'); \n",
       "newElement.setAttribute('width','1'); \n",
       "newElement.setAttribute('height','1'); \n",
       "newElement.setAttribute('x','14'); \n",
       "newElement.setAttribute('y','11'); \n",
       "newElement.style.fill = 'green'; \n",
       "svg.appendChild(newElement);\n",
       "newElement = document.createElementNS(\"http://www.w3.org/2000/svg\", 'rect'); \n",
       "newElement.setAttribute('width','1'); \n",
       "newElement.setAttribute('height','1'); \n",
       "newElement.setAttribute('x','15'); \n",
       "newElement.setAttribute('y','11'); \n",
       "newElement.style.fill = 'green'; \n",
       "svg.appendChild(newElement);\n",
       "newElement = document.createElementNS(\"http://www.w3.org/2000/svg\", 'rect'); \n",
       "newElement.setAttribute('width','1'); \n",
       "newElement.setAttribute('height','1'); \n",
       "newElement.setAttribute('x','16'); \n",
       "newElement.setAttribute('y','11'); \n",
       "newElement.style.fill = 'green'; \n",
       "svg.appendChild(newElement);\n",
       "newElement = document.createElementNS(\"http://www.w3.org/2000/svg\", 'rect'); \n",
       "newElement.setAttribute('width','1'); \n",
       "newElement.setAttribute('height','1'); \n",
       "newElement.setAttribute('x','0'); \n",
       "newElement.setAttribute('y','12'); \n",
       "newElement.style.fill = 'green'; \n",
       "svg.appendChild(newElement);\n",
       "newElement = document.createElementNS(\"http://www.w3.org/2000/svg\", 'rect'); \n",
       "newElement.setAttribute('width','1'); \n",
       "newElement.setAttribute('height','1'); \n",
       "newElement.setAttribute('x','1'); \n",
       "newElement.setAttribute('y','12'); \n",
       "newElement.style.fill = 'green'; \n",
       "svg.appendChild(newElement);\n",
       "newElement = document.createElementNS(\"http://www.w3.org/2000/svg\", 'rect'); \n",
       "newElement.setAttribute('width','1'); \n",
       "newElement.setAttribute('height','1'); \n",
       "newElement.setAttribute('x','2'); \n",
       "newElement.setAttribute('y','12'); \n",
       "newElement.style.fill = 'brown'; \n",
       "svg.appendChild(newElement);\n",
       "newElement = document.createElementNS(\"http://www.w3.org/2000/svg\", 'rect'); \n",
       "newElement.setAttribute('width','1'); \n",
       "newElement.setAttribute('height','1'); \n",
       "newElement.setAttribute('x','3'); \n",
       "newElement.setAttribute('y','12'); \n",
       "newElement.style.fill = 'brown'; \n",
       "svg.appendChild(newElement);\n",
       "newElement = document.createElementNS(\"http://www.w3.org/2000/svg\", 'rect'); \n",
       "newElement.setAttribute('width','1'); \n",
       "newElement.setAttribute('height','1'); \n",
       "newElement.setAttribute('x','4'); \n",
       "newElement.setAttribute('y','12'); \n",
       "newElement.style.fill = 'brown'; \n",
       "svg.appendChild(newElement);\n",
       "newElement = document.createElementNS(\"http://www.w3.org/2000/svg\", 'rect'); \n",
       "newElement.setAttribute('width','1'); \n",
       "newElement.setAttribute('height','1'); \n",
       "newElement.setAttribute('x','5'); \n",
       "newElement.setAttribute('y','12'); \n",
       "newElement.style.fill = 'brown'; \n",
       "svg.appendChild(newElement);\n",
       "newElement = document.createElementNS(\"http://www.w3.org/2000/svg\", 'rect'); \n",
       "newElement.setAttribute('width','1'); \n",
       "newElement.setAttribute('height','1'); \n",
       "newElement.setAttribute('x','6'); \n",
       "newElement.setAttribute('y','12'); \n",
       "newElement.style.fill = 'green'; \n",
       "svg.appendChild(newElement);\n",
       "newElement = document.createElementNS(\"http://www.w3.org/2000/svg\", 'rect'); \n",
       "newElement.setAttribute('width','1'); \n",
       "newElement.setAttribute('height','1'); \n",
       "newElement.setAttribute('x','7'); \n",
       "newElement.setAttribute('y','12'); \n",
       "newElement.style.fill = 'green'; \n",
       "svg.appendChild(newElement);\n",
       "newElement = document.createElementNS(\"http://www.w3.org/2000/svg\", 'rect'); \n",
       "newElement.setAttribute('width','1'); \n",
       "newElement.setAttribute('height','1'); \n",
       "newElement.setAttribute('x','8'); \n",
       "newElement.setAttribute('y','12'); \n",
       "newElement.style.fill = 'green'; \n",
       "svg.appendChild(newElement);\n",
       "newElement = document.createElementNS(\"http://www.w3.org/2000/svg\", 'rect'); \n",
       "newElement.setAttribute('width','1'); \n",
       "newElement.setAttribute('height','1'); \n",
       "newElement.setAttribute('x','9'); \n",
       "newElement.setAttribute('y','12'); \n",
       "newElement.style.fill = 'green'; \n",
       "svg.appendChild(newElement);\n",
       "newElement = document.createElementNS(\"http://www.w3.org/2000/svg\", 'rect'); \n",
       "newElement.setAttribute('width','1'); \n",
       "newElement.setAttribute('height','1'); \n",
       "newElement.setAttribute('x','10'); \n",
       "newElement.setAttribute('y','12'); \n",
       "newElement.style.fill = 'green'; \n",
       "svg.appendChild(newElement);\n",
       "newElement = document.createElementNS(\"http://www.w3.org/2000/svg\", 'rect'); \n",
       "newElement.setAttribute('width','1'); \n",
       "newElement.setAttribute('height','1'); \n",
       "newElement.setAttribute('x','11'); \n",
       "newElement.setAttribute('y','12'); \n",
       "newElement.style.fill = 'green'; \n",
       "svg.appendChild(newElement);\n",
       "newElement = document.createElementNS(\"http://www.w3.org/2000/svg\", 'rect'); \n",
       "newElement.setAttribute('width','1'); \n",
       "newElement.setAttribute('height','1'); \n",
       "newElement.setAttribute('x','12'); \n",
       "newElement.setAttribute('y','12'); \n",
       "newElement.style.fill = 'green'; \n",
       "svg.appendChild(newElement);\n",
       "newElement = document.createElementNS(\"http://www.w3.org/2000/svg\", 'rect'); \n",
       "newElement.setAttribute('width','1'); \n",
       "newElement.setAttribute('height','1'); \n",
       "newElement.setAttribute('x','13'); \n",
       "newElement.setAttribute('y','12'); \n",
       "newElement.style.fill = 'green'; \n",
       "svg.appendChild(newElement);\n",
       "newElement = document.createElementNS(\"http://www.w3.org/2000/svg\", 'rect'); \n",
       "newElement.setAttribute('width','1'); \n",
       "newElement.setAttribute('height','1'); \n",
       "newElement.setAttribute('x','14'); \n",
       "newElement.setAttribute('y','12'); \n",
       "newElement.style.fill = 'green'; \n",
       "svg.appendChild(newElement);\n",
       "newElement = document.createElementNS(\"http://www.w3.org/2000/svg\", 'rect'); \n",
       "newElement.setAttribute('width','1'); \n",
       "newElement.setAttribute('height','1'); \n",
       "newElement.setAttribute('x','15'); \n",
       "newElement.setAttribute('y','12'); \n",
       "newElement.style.fill = 'green'; \n",
       "svg.appendChild(newElement);\n",
       "newElement = document.createElementNS(\"http://www.w3.org/2000/svg\", 'rect'); \n",
       "newElement.setAttribute('width','1'); \n",
       "newElement.setAttribute('height','1'); \n",
       "newElement.setAttribute('x','16'); \n",
       "newElement.setAttribute('y','12'); \n",
       "newElement.style.fill = 'green'; \n",
       "svg.appendChild(newElement);\n",
       "newElement = document.createElementNS(\"http://www.w3.org/2000/svg\", 'rect'); \n",
       "newElement.setAttribute('width','1'); \n",
       "newElement.setAttribute('height','1'); \n",
       "newElement.setAttribute('x','0'); \n",
       "newElement.setAttribute('y','13'); \n",
       "newElement.style.fill = 'green'; \n",
       "svg.appendChild(newElement);\n",
       "newElement = document.createElementNS(\"http://www.w3.org/2000/svg\", 'rect'); \n",
       "newElement.setAttribute('width','1'); \n",
       "newElement.setAttribute('height','1'); \n",
       "newElement.setAttribute('x','1'); \n",
       "newElement.setAttribute('y','13'); \n",
       "newElement.style.fill = 'green'; \n",
       "svg.appendChild(newElement);\n",
       "newElement = document.createElementNS(\"http://www.w3.org/2000/svg\", 'rect'); \n",
       "newElement.setAttribute('width','1'); \n",
       "newElement.setAttribute('height','1'); \n",
       "newElement.setAttribute('x','2'); \n",
       "newElement.setAttribute('y','13'); \n",
       "newElement.style.fill = 'brown'; \n",
       "svg.appendChild(newElement);\n",
       "newElement = document.createElementNS(\"http://www.w3.org/2000/svg\", 'rect'); \n",
       "newElement.setAttribute('width','1'); \n",
       "newElement.setAttribute('height','1'); \n",
       "newElement.setAttribute('x','3'); \n",
       "newElement.setAttribute('y','13'); \n",
       "newElement.style.fill = 'brown'; \n",
       "svg.appendChild(newElement);\n",
       "newElement = document.createElementNS(\"http://www.w3.org/2000/svg\", 'rect'); \n",
       "newElement.setAttribute('width','1'); \n",
       "newElement.setAttribute('height','1'); \n",
       "newElement.setAttribute('x','4'); \n",
       "newElement.setAttribute('y','13'); \n",
       "newElement.style.fill = 'brown'; \n",
       "svg.appendChild(newElement);\n",
       "newElement = document.createElementNS(\"http://www.w3.org/2000/svg\", 'rect'); \n",
       "newElement.setAttribute('width','1'); \n",
       "newElement.setAttribute('height','1'); \n",
       "newElement.setAttribute('x','5'); \n",
       "newElement.setAttribute('y','13'); \n",
       "newElement.style.fill = 'brown'; \n",
       "svg.appendChild(newElement);\n",
       "newElement = document.createElementNS(\"http://www.w3.org/2000/svg\", 'rect'); \n",
       "newElement.setAttribute('width','1'); \n",
       "newElement.setAttribute('height','1'); \n",
       "newElement.setAttribute('x','6'); \n",
       "newElement.setAttribute('y','13'); \n",
       "newElement.style.fill = 'green'; \n",
       "svg.appendChild(newElement);\n",
       "newElement = document.createElementNS(\"http://www.w3.org/2000/svg\", 'rect'); \n",
       "newElement.setAttribute('width','1'); \n",
       "newElement.setAttribute('height','1'); \n",
       "newElement.setAttribute('x','7'); \n",
       "newElement.setAttribute('y','13'); \n",
       "newElement.style.fill = 'green'; \n",
       "svg.appendChild(newElement);\n",
       "newElement = document.createElementNS(\"http://www.w3.org/2000/svg\", 'rect'); \n",
       "newElement.setAttribute('width','1'); \n",
       "newElement.setAttribute('height','1'); \n",
       "newElement.setAttribute('x','8'); \n",
       "newElement.setAttribute('y','13'); \n",
       "newElement.style.fill = 'green'; \n",
       "svg.appendChild(newElement);\n",
       "newElement = document.createElementNS(\"http://www.w3.org/2000/svg\", 'rect'); \n",
       "newElement.setAttribute('width','1'); \n",
       "newElement.setAttribute('height','1'); \n",
       "newElement.setAttribute('x','9'); \n",
       "newElement.setAttribute('y','13'); \n",
       "newElement.style.fill = 'green'; \n",
       "svg.appendChild(newElement);\n",
       "newElement = document.createElementNS(\"http://www.w3.org/2000/svg\", 'rect'); \n",
       "newElement.setAttribute('width','1'); \n",
       "newElement.setAttribute('height','1'); \n",
       "newElement.setAttribute('x','10'); \n",
       "newElement.setAttribute('y','13'); \n",
       "newElement.style.fill = 'green'; \n",
       "svg.appendChild(newElement);\n",
       "newElement = document.createElementNS(\"http://www.w3.org/2000/svg\", 'rect'); \n",
       "newElement.setAttribute('width','1'); \n",
       "newElement.setAttribute('height','1'); \n",
       "newElement.setAttribute('x','11'); \n",
       "newElement.setAttribute('y','13'); \n",
       "newElement.style.fill = 'green'; \n",
       "svg.appendChild(newElement);\n",
       "newElement = document.createElementNS(\"http://www.w3.org/2000/svg\", 'rect'); \n",
       "newElement.setAttribute('width','1'); \n",
       "newElement.setAttribute('height','1'); \n",
       "newElement.setAttribute('x','12'); \n",
       "newElement.setAttribute('y','13'); \n",
       "newElement.style.fill = 'green'; \n",
       "svg.appendChild(newElement);\n",
       "newElement = document.createElementNS(\"http://www.w3.org/2000/svg\", 'rect'); \n",
       "newElement.setAttribute('width','1'); \n",
       "newElement.setAttribute('height','1'); \n",
       "newElement.setAttribute('x','13'); \n",
       "newElement.setAttribute('y','13'); \n",
       "newElement.style.fill = 'green'; \n",
       "svg.appendChild(newElement);\n",
       "newElement = document.createElementNS(\"http://www.w3.org/2000/svg\", 'rect'); \n",
       "newElement.setAttribute('width','1'); \n",
       "newElement.setAttribute('height','1'); \n",
       "newElement.setAttribute('x','14'); \n",
       "newElement.setAttribute('y','13'); \n",
       "newElement.style.fill = 'green'; \n",
       "svg.appendChild(newElement);\n",
       "newElement = document.createElementNS(\"http://www.w3.org/2000/svg\", 'rect'); \n",
       "newElement.setAttribute('width','1'); \n",
       "newElement.setAttribute('height','1'); \n",
       "newElement.setAttribute('x','15'); \n",
       "newElement.setAttribute('y','13'); \n",
       "newElement.style.fill = 'green'; \n",
       "svg.appendChild(newElement);\n",
       "newElement = document.createElementNS(\"http://www.w3.org/2000/svg\", 'rect'); \n",
       "newElement.setAttribute('width','1'); \n",
       "newElement.setAttribute('height','1'); \n",
       "newElement.setAttribute('x','16'); \n",
       "newElement.setAttribute('y','13'); \n",
       "newElement.style.fill = 'green'; \n",
       "svg.appendChild(newElement);\n",
       "newElement = document.createElementNS(\"http://www.w3.org/2000/svg\", 'rect'); \n",
       "newElement.setAttribute('width','1'); \n",
       "newElement.setAttribute('height','1'); \n",
       "newElement.setAttribute('x','0'); \n",
       "newElement.setAttribute('y','14'); \n",
       "newElement.style.fill = 'green'; \n",
       "svg.appendChild(newElement);\n",
       "newElement = document.createElementNS(\"http://www.w3.org/2000/svg\", 'rect'); \n",
       "newElement.setAttribute('width','1'); \n",
       "newElement.setAttribute('height','1'); \n",
       "newElement.setAttribute('x','1'); \n",
       "newElement.setAttribute('y','14'); \n",
       "newElement.style.fill = 'green'; \n",
       "svg.appendChild(newElement);\n",
       "newElement = document.createElementNS(\"http://www.w3.org/2000/svg\", 'rect'); \n",
       "newElement.setAttribute('width','1'); \n",
       "newElement.setAttribute('height','1'); \n",
       "newElement.setAttribute('x','2'); \n",
       "newElement.setAttribute('y','14'); \n",
       "newElement.style.fill = 'brown'; \n",
       "svg.appendChild(newElement);\n",
       "newElement = document.createElementNS(\"http://www.w3.org/2000/svg\", 'rect'); \n",
       "newElement.setAttribute('width','1'); \n",
       "newElement.setAttribute('height','1'); \n",
       "newElement.setAttribute('x','3'); \n",
       "newElement.setAttribute('y','14'); \n",
       "newElement.style.fill = 'brown'; \n",
       "svg.appendChild(newElement);\n",
       "newElement = document.createElementNS(\"http://www.w3.org/2000/svg\", 'rect'); \n",
       "newElement.setAttribute('width','1'); \n",
       "newElement.setAttribute('height','1'); \n",
       "newElement.setAttribute('x','4'); \n",
       "newElement.setAttribute('y','14'); \n",
       "newElement.style.fill = 'brown'; \n",
       "svg.appendChild(newElement);\n",
       "newElement = document.createElementNS(\"http://www.w3.org/2000/svg\", 'rect'); \n",
       "newElement.setAttribute('width','1'); \n",
       "newElement.setAttribute('height','1'); \n",
       "newElement.setAttribute('x','5'); \n",
       "newElement.setAttribute('y','14'); \n",
       "newElement.style.fill = 'brown'; \n",
       "svg.appendChild(newElement);\n",
       "newElement = document.createElementNS(\"http://www.w3.org/2000/svg\", 'rect'); \n",
       "newElement.setAttribute('width','1'); \n",
       "newElement.setAttribute('height','1'); \n",
       "newElement.setAttribute('x','6'); \n",
       "newElement.setAttribute('y','14'); \n",
       "newElement.style.fill = 'green'; \n",
       "svg.appendChild(newElement);\n",
       "newElement = document.createElementNS(\"http://www.w3.org/2000/svg\", 'rect'); \n",
       "newElement.setAttribute('width','1'); \n",
       "newElement.setAttribute('height','1'); \n",
       "newElement.setAttribute('x','7'); \n",
       "newElement.setAttribute('y','14'); \n",
       "newElement.style.fill = 'green'; \n",
       "svg.appendChild(newElement);\n",
       "newElement = document.createElementNS(\"http://www.w3.org/2000/svg\", 'rect'); \n",
       "newElement.setAttribute('width','1'); \n",
       "newElement.setAttribute('height','1'); \n",
       "newElement.setAttribute('x','8'); \n",
       "newElement.setAttribute('y','14'); \n",
       "newElement.style.fill = 'green'; \n",
       "svg.appendChild(newElement);\n",
       "newElement = document.createElementNS(\"http://www.w3.org/2000/svg\", 'rect'); \n",
       "newElement.setAttribute('width','1'); \n",
       "newElement.setAttribute('height','1'); \n",
       "newElement.setAttribute('x','9'); \n",
       "newElement.setAttribute('y','14'); \n",
       "newElement.style.fill = 'green'; \n",
       "svg.appendChild(newElement);\n",
       "newElement = document.createElementNS(\"http://www.w3.org/2000/svg\", 'rect'); \n",
       "newElement.setAttribute('width','1'); \n",
       "newElement.setAttribute('height','1'); \n",
       "newElement.setAttribute('x','10'); \n",
       "newElement.setAttribute('y','14'); \n",
       "newElement.style.fill = 'green'; \n",
       "svg.appendChild(newElement);\n",
       "newElement = document.createElementNS(\"http://www.w3.org/2000/svg\", 'rect'); \n",
       "newElement.setAttribute('width','1'); \n",
       "newElement.setAttribute('height','1'); \n",
       "newElement.setAttribute('x','11'); \n",
       "newElement.setAttribute('y','14'); \n",
       "newElement.style.fill = 'green'; \n",
       "svg.appendChild(newElement);\n",
       "newElement = document.createElementNS(\"http://www.w3.org/2000/svg\", 'rect'); \n",
       "newElement.setAttribute('width','1'); \n",
       "newElement.setAttribute('height','1'); \n",
       "newElement.setAttribute('x','12'); \n",
       "newElement.setAttribute('y','14'); \n",
       "newElement.style.fill = 'green'; \n",
       "svg.appendChild(newElement);\n",
       "newElement = document.createElementNS(\"http://www.w3.org/2000/svg\", 'rect'); \n",
       "newElement.setAttribute('width','1'); \n",
       "newElement.setAttribute('height','1'); \n",
       "newElement.setAttribute('x','13'); \n",
       "newElement.setAttribute('y','14'); \n",
       "newElement.style.fill = 'green'; \n",
       "svg.appendChild(newElement);\n",
       "newElement = document.createElementNS(\"http://www.w3.org/2000/svg\", 'rect'); \n",
       "newElement.setAttribute('width','1'); \n",
       "newElement.setAttribute('height','1'); \n",
       "newElement.setAttribute('x','14'); \n",
       "newElement.setAttribute('y','14'); \n",
       "newElement.style.fill = 'green'; \n",
       "svg.appendChild(newElement);\n",
       "newElement = document.createElementNS(\"http://www.w3.org/2000/svg\", 'rect'); \n",
       "newElement.setAttribute('width','1'); \n",
       "newElement.setAttribute('height','1'); \n",
       "newElement.setAttribute('x','15'); \n",
       "newElement.setAttribute('y','14'); \n",
       "newElement.style.fill = 'green'; \n",
       "svg.appendChild(newElement);\n",
       "newElement = document.createElementNS(\"http://www.w3.org/2000/svg\", 'rect'); \n",
       "newElement.setAttribute('width','1'); \n",
       "newElement.setAttribute('height','1'); \n",
       "newElement.setAttribute('x','16'); \n",
       "newElement.setAttribute('y','14'); \n",
       "newElement.style.fill = 'green'; \n",
       "svg.appendChild(newElement);\n",
       "newElement = document.createElementNS(\"http://www.w3.org/2000/svg\", 'rect'); \n",
       "newElement.setAttribute('width','1'); \n",
       "newElement.setAttribute('height','1'); \n",
       "newElement.setAttribute('x','0'); \n",
       "newElement.setAttribute('y','15'); \n",
       "newElement.style.fill = 'green'; \n",
       "svg.appendChild(newElement);\n",
       "newElement = document.createElementNS(\"http://www.w3.org/2000/svg\", 'rect'); \n",
       "newElement.setAttribute('width','1'); \n",
       "newElement.setAttribute('height','1'); \n",
       "newElement.setAttribute('x','1'); \n",
       "newElement.setAttribute('y','15'); \n",
       "newElement.style.fill = 'green'; \n",
       "svg.appendChild(newElement);\n",
       "newElement = document.createElementNS(\"http://www.w3.org/2000/svg\", 'rect'); \n",
       "newElement.setAttribute('width','1'); \n",
       "newElement.setAttribute('height','1'); \n",
       "newElement.setAttribute('x','2'); \n",
       "newElement.setAttribute('y','15'); \n",
       "newElement.style.fill = 'brown'; \n",
       "svg.appendChild(newElement);\n",
       "newElement = document.createElementNS(\"http://www.w3.org/2000/svg\", 'rect'); \n",
       "newElement.setAttribute('width','1'); \n",
       "newElement.setAttribute('height','1'); \n",
       "newElement.setAttribute('x','3'); \n",
       "newElement.setAttribute('y','15'); \n",
       "newElement.style.fill = 'brown'; \n",
       "svg.appendChild(newElement);\n",
       "newElement = document.createElementNS(\"http://www.w3.org/2000/svg\", 'rect'); \n",
       "newElement.setAttribute('width','1'); \n",
       "newElement.setAttribute('height','1'); \n",
       "newElement.setAttribute('x','4'); \n",
       "newElement.setAttribute('y','15'); \n",
       "newElement.style.fill = 'brown'; \n",
       "svg.appendChild(newElement);\n",
       "newElement = document.createElementNS(\"http://www.w3.org/2000/svg\", 'rect'); \n",
       "newElement.setAttribute('width','1'); \n",
       "newElement.setAttribute('height','1'); \n",
       "newElement.setAttribute('x','5'); \n",
       "newElement.setAttribute('y','15'); \n",
       "newElement.style.fill = 'brown'; \n",
       "svg.appendChild(newElement);\n",
       "newElement = document.createElementNS(\"http://www.w3.org/2000/svg\", 'rect'); \n",
       "newElement.setAttribute('width','1'); \n",
       "newElement.setAttribute('height','1'); \n",
       "newElement.setAttribute('x','6'); \n",
       "newElement.setAttribute('y','15'); \n",
       "newElement.style.fill = 'green'; \n",
       "svg.appendChild(newElement);\n",
       "newElement = document.createElementNS(\"http://www.w3.org/2000/svg\", 'rect'); \n",
       "newElement.setAttribute('width','1'); \n",
       "newElement.setAttribute('height','1'); \n",
       "newElement.setAttribute('x','7'); \n",
       "newElement.setAttribute('y','15'); \n",
       "newElement.style.fill = 'green'; \n",
       "svg.appendChild(newElement);\n",
       "newElement = document.createElementNS(\"http://www.w3.org/2000/svg\", 'rect'); \n",
       "newElement.setAttribute('width','1'); \n",
       "newElement.setAttribute('height','1'); \n",
       "newElement.setAttribute('x','8'); \n",
       "newElement.setAttribute('y','15'); \n",
       "newElement.style.fill = 'green'; \n",
       "svg.appendChild(newElement);\n",
       "newElement = document.createElementNS(\"http://www.w3.org/2000/svg\", 'rect'); \n",
       "newElement.setAttribute('width','1'); \n",
       "newElement.setAttribute('height','1'); \n",
       "newElement.setAttribute('x','9'); \n",
       "newElement.setAttribute('y','15'); \n",
       "newElement.style.fill = 'green'; \n",
       "svg.appendChild(newElement);\n",
       "newElement = document.createElementNS(\"http://www.w3.org/2000/svg\", 'rect'); \n",
       "newElement.setAttribute('width','1'); \n",
       "newElement.setAttribute('height','1'); \n",
       "newElement.setAttribute('x','10'); \n",
       "newElement.setAttribute('y','15'); \n",
       "newElement.style.fill = 'green'; \n",
       "svg.appendChild(newElement);\n",
       "newElement = document.createElementNS(\"http://www.w3.org/2000/svg\", 'rect'); \n",
       "newElement.setAttribute('width','1'); \n",
       "newElement.setAttribute('height','1'); \n",
       "newElement.setAttribute('x','11'); \n",
       "newElement.setAttribute('y','15'); \n",
       "newElement.style.fill = 'green'; \n",
       "svg.appendChild(newElement);\n",
       "newElement = document.createElementNS(\"http://www.w3.org/2000/svg\", 'rect'); \n",
       "newElement.setAttribute('width','1'); \n",
       "newElement.setAttribute('height','1'); \n",
       "newElement.setAttribute('x','12'); \n",
       "newElement.setAttribute('y','15'); \n",
       "newElement.style.fill = 'green'; \n",
       "svg.appendChild(newElement);\n",
       "newElement = document.createElementNS(\"http://www.w3.org/2000/svg\", 'rect'); \n",
       "newElement.setAttribute('width','1'); \n",
       "newElement.setAttribute('height','1'); \n",
       "newElement.setAttribute('x','13'); \n",
       "newElement.setAttribute('y','15'); \n",
       "newElement.style.fill = 'green'; \n",
       "svg.appendChild(newElement);\n",
       "newElement = document.createElementNS(\"http://www.w3.org/2000/svg\", 'rect'); \n",
       "newElement.setAttribute('width','1'); \n",
       "newElement.setAttribute('height','1'); \n",
       "newElement.setAttribute('x','14'); \n",
       "newElement.setAttribute('y','15'); \n",
       "newElement.style.fill = 'green'; \n",
       "svg.appendChild(newElement);\n",
       "newElement = document.createElementNS(\"http://www.w3.org/2000/svg\", 'rect'); \n",
       "newElement.setAttribute('width','1'); \n",
       "newElement.setAttribute('height','1'); \n",
       "newElement.setAttribute('x','15'); \n",
       "newElement.setAttribute('y','15'); \n",
       "newElement.style.fill = 'green'; \n",
       "svg.appendChild(newElement);\n",
       "newElement = document.createElementNS(\"http://www.w3.org/2000/svg\", 'rect'); \n",
       "newElement.setAttribute('width','1'); \n",
       "newElement.setAttribute('height','1'); \n",
       "newElement.setAttribute('x','16'); \n",
       "newElement.setAttribute('y','15'); \n",
       "newElement.style.fill = 'green'; \n",
       "svg.appendChild(newElement);\n",
       "newElement = document.createElementNS(\"http://www.w3.org/2000/svg\", 'rect'); \n",
       "newElement.setAttribute('width','1'); \n",
       "newElement.setAttribute('height','1'); \n",
       "newElement.setAttribute('x','0'); \n",
       "newElement.setAttribute('y','16'); \n",
       "newElement.style.fill = 'green'; \n",
       "svg.appendChild(newElement);\n",
       "newElement = document.createElementNS(\"http://www.w3.org/2000/svg\", 'rect'); \n",
       "newElement.setAttribute('width','1'); \n",
       "newElement.setAttribute('height','1'); \n",
       "newElement.setAttribute('x','1'); \n",
       "newElement.setAttribute('y','16'); \n",
       "newElement.style.fill = 'green'; \n",
       "svg.appendChild(newElement);\n",
       "newElement = document.createElementNS(\"http://www.w3.org/2000/svg\", 'rect'); \n",
       "newElement.setAttribute('width','1'); \n",
       "newElement.setAttribute('height','1'); \n",
       "newElement.setAttribute('x','2'); \n",
       "newElement.setAttribute('y','16'); \n",
       "newElement.style.fill = 'brown'; \n",
       "svg.appendChild(newElement);\n",
       "newElement = document.createElementNS(\"http://www.w3.org/2000/svg\", 'rect'); \n",
       "newElement.setAttribute('width','1'); \n",
       "newElement.setAttribute('height','1'); \n",
       "newElement.setAttribute('x','3'); \n",
       "newElement.setAttribute('y','16'); \n",
       "newElement.style.fill = 'brown'; \n",
       "svg.appendChild(newElement);\n",
       "newElement = document.createElementNS(\"http://www.w3.org/2000/svg\", 'rect'); \n",
       "newElement.setAttribute('width','1'); \n",
       "newElement.setAttribute('height','1'); \n",
       "newElement.setAttribute('x','4'); \n",
       "newElement.setAttribute('y','16'); \n",
       "newElement.style.fill = 'brown'; \n",
       "svg.appendChild(newElement);\n",
       "newElement = document.createElementNS(\"http://www.w3.org/2000/svg\", 'rect'); \n",
       "newElement.setAttribute('width','1'); \n",
       "newElement.setAttribute('height','1'); \n",
       "newElement.setAttribute('x','5'); \n",
       "newElement.setAttribute('y','16'); \n",
       "newElement.style.fill = 'brown'; \n",
       "svg.appendChild(newElement);\n",
       "newElement = document.createElementNS(\"http://www.w3.org/2000/svg\", 'rect'); \n",
       "newElement.setAttribute('width','1'); \n",
       "newElement.setAttribute('height','1'); \n",
       "newElement.setAttribute('x','6'); \n",
       "newElement.setAttribute('y','16'); \n",
       "newElement.style.fill = 'green'; \n",
       "svg.appendChild(newElement);\n",
       "newElement = document.createElementNS(\"http://www.w3.org/2000/svg\", 'rect'); \n",
       "newElement.setAttribute('width','1'); \n",
       "newElement.setAttribute('height','1'); \n",
       "newElement.setAttribute('x','7'); \n",
       "newElement.setAttribute('y','16'); \n",
       "newElement.style.fill = 'green'; \n",
       "svg.appendChild(newElement);\n",
       "newElement = document.createElementNS(\"http://www.w3.org/2000/svg\", 'rect'); \n",
       "newElement.setAttribute('width','1'); \n",
       "newElement.setAttribute('height','1'); \n",
       "newElement.setAttribute('x','8'); \n",
       "newElement.setAttribute('y','16'); \n",
       "newElement.style.fill = 'green'; \n",
       "svg.appendChild(newElement);\n",
       "newElement = document.createElementNS(\"http://www.w3.org/2000/svg\", 'rect'); \n",
       "newElement.setAttribute('width','1'); \n",
       "newElement.setAttribute('height','1'); \n",
       "newElement.setAttribute('x','9'); \n",
       "newElement.setAttribute('y','16'); \n",
       "newElement.style.fill = 'green'; \n",
       "svg.appendChild(newElement);\n",
       "newElement = document.createElementNS(\"http://www.w3.org/2000/svg\", 'rect'); \n",
       "newElement.setAttribute('width','1'); \n",
       "newElement.setAttribute('height','1'); \n",
       "newElement.setAttribute('x','10'); \n",
       "newElement.setAttribute('y','16'); \n",
       "newElement.style.fill = 'green'; \n",
       "svg.appendChild(newElement);\n",
       "newElement = document.createElementNS(\"http://www.w3.org/2000/svg\", 'rect'); \n",
       "newElement.setAttribute('width','1'); \n",
       "newElement.setAttribute('height','1'); \n",
       "newElement.setAttribute('x','11'); \n",
       "newElement.setAttribute('y','16'); \n",
       "newElement.style.fill = 'green'; \n",
       "svg.appendChild(newElement);\n",
       "newElement = document.createElementNS(\"http://www.w3.org/2000/svg\", 'rect'); \n",
       "newElement.setAttribute('width','1'); \n",
       "newElement.setAttribute('height','1'); \n",
       "newElement.setAttribute('x','12'); \n",
       "newElement.setAttribute('y','16'); \n",
       "newElement.style.fill = 'green'; \n",
       "svg.appendChild(newElement);\n",
       "newElement = document.createElementNS(\"http://www.w3.org/2000/svg\", 'rect'); \n",
       "newElement.setAttribute('width','1'); \n",
       "newElement.setAttribute('height','1'); \n",
       "newElement.setAttribute('x','13'); \n",
       "newElement.setAttribute('y','16'); \n",
       "newElement.style.fill = 'green'; \n",
       "svg.appendChild(newElement);\n",
       "newElement = document.createElementNS(\"http://www.w3.org/2000/svg\", 'rect'); \n",
       "newElement.setAttribute('width','1'); \n",
       "newElement.setAttribute('height','1'); \n",
       "newElement.setAttribute('x','14'); \n",
       "newElement.setAttribute('y','16'); \n",
       "newElement.style.fill = 'green'; \n",
       "svg.appendChild(newElement);\n",
       "newElement = document.createElementNS(\"http://www.w3.org/2000/svg\", 'rect'); \n",
       "newElement.setAttribute('width','1'); \n",
       "newElement.setAttribute('height','1'); \n",
       "newElement.setAttribute('x','15'); \n",
       "newElement.setAttribute('y','16'); \n",
       "newElement.style.fill = 'green'; \n",
       "svg.appendChild(newElement);\n",
       "newElement = document.createElementNS(\"http://www.w3.org/2000/svg\", 'rect'); \n",
       "newElement.setAttribute('width','1'); \n",
       "newElement.setAttribute('height','1'); \n",
       "newElement.setAttribute('x','16'); \n",
       "newElement.setAttribute('y','16'); \n",
       "newElement.style.fill = 'green'; \n",
       "svg.appendChild(newElement);\n",
       "newElement = document.createElementNS(\"http://www.w3.org/2000/svg\", 'rect'); \n",
       "newElement.setAttribute('width','1'); \n",
       "newElement.setAttribute('height','1'); \n",
       "newElement.setAttribute('x','0'); \n",
       "newElement.setAttribute('y','17'); \n",
       "newElement.style.fill = 'green'; \n",
       "svg.appendChild(newElement);\n",
       "newElement = document.createElementNS(\"http://www.w3.org/2000/svg\", 'rect'); \n",
       "newElement.setAttribute('width','1'); \n",
       "newElement.setAttribute('height','1'); \n",
       "newElement.setAttribute('x','1'); \n",
       "newElement.setAttribute('y','17'); \n",
       "newElement.style.fill = 'green'; \n",
       "svg.appendChild(newElement);\n",
       "newElement = document.createElementNS(\"http://www.w3.org/2000/svg\", 'rect'); \n",
       "newElement.setAttribute('width','1'); \n",
       "newElement.setAttribute('height','1'); \n",
       "newElement.setAttribute('x','2'); \n",
       "newElement.setAttribute('y','17'); \n",
       "newElement.style.fill = 'brown'; \n",
       "svg.appendChild(newElement);\n",
       "newElement = document.createElementNS(\"http://www.w3.org/2000/svg\", 'rect'); \n",
       "newElement.setAttribute('width','1'); \n",
       "newElement.setAttribute('height','1'); \n",
       "newElement.setAttribute('x','3'); \n",
       "newElement.setAttribute('y','17'); \n",
       "newElement.style.fill = 'brown'; \n",
       "svg.appendChild(newElement);\n",
       "newElement = document.createElementNS(\"http://www.w3.org/2000/svg\", 'rect'); \n",
       "newElement.setAttribute('width','1'); \n",
       "newElement.setAttribute('height','1'); \n",
       "newElement.setAttribute('x','4'); \n",
       "newElement.setAttribute('y','17'); \n",
       "newElement.style.fill = 'brown'; \n",
       "svg.appendChild(newElement);\n",
       "newElement = document.createElementNS(\"http://www.w3.org/2000/svg\", 'rect'); \n",
       "newElement.setAttribute('width','1'); \n",
       "newElement.setAttribute('height','1'); \n",
       "newElement.setAttribute('x','5'); \n",
       "newElement.setAttribute('y','17'); \n",
       "newElement.style.fill = 'brown'; \n",
       "svg.appendChild(newElement);\n",
       "newElement = document.createElementNS(\"http://www.w3.org/2000/svg\", 'rect'); \n",
       "newElement.setAttribute('width','1'); \n",
       "newElement.setAttribute('height','1'); \n",
       "newElement.setAttribute('x','6'); \n",
       "newElement.setAttribute('y','17'); \n",
       "newElement.style.fill = 'green'; \n",
       "svg.appendChild(newElement);\n",
       "newElement = document.createElementNS(\"http://www.w3.org/2000/svg\", 'rect'); \n",
       "newElement.setAttribute('width','1'); \n",
       "newElement.setAttribute('height','1'); \n",
       "newElement.setAttribute('x','7'); \n",
       "newElement.setAttribute('y','17'); \n",
       "newElement.style.fill = 'green'; \n",
       "svg.appendChild(newElement);\n",
       "newElement = document.createElementNS(\"http://www.w3.org/2000/svg\", 'rect'); \n",
       "newElement.setAttribute('width','1'); \n",
       "newElement.setAttribute('height','1'); \n",
       "newElement.setAttribute('x','8'); \n",
       "newElement.setAttribute('y','17'); \n",
       "newElement.style.fill = 'green'; \n",
       "svg.appendChild(newElement);\n",
       "newElement = document.createElementNS(\"http://www.w3.org/2000/svg\", 'rect'); \n",
       "newElement.setAttribute('width','1'); \n",
       "newElement.setAttribute('height','1'); \n",
       "newElement.setAttribute('x','9'); \n",
       "newElement.setAttribute('y','17'); \n",
       "newElement.style.fill = 'green'; \n",
       "svg.appendChild(newElement);\n",
       "newElement = document.createElementNS(\"http://www.w3.org/2000/svg\", 'rect'); \n",
       "newElement.setAttribute('width','1'); \n",
       "newElement.setAttribute('height','1'); \n",
       "newElement.setAttribute('x','10'); \n",
       "newElement.setAttribute('y','17'); \n",
       "newElement.style.fill = 'green'; \n",
       "svg.appendChild(newElement);\n",
       "newElement = document.createElementNS(\"http://www.w3.org/2000/svg\", 'rect'); \n",
       "newElement.setAttribute('width','1'); \n",
       "newElement.setAttribute('height','1'); \n",
       "newElement.setAttribute('x','11'); \n",
       "newElement.setAttribute('y','17'); \n",
       "newElement.style.fill = 'green'; \n",
       "svg.appendChild(newElement);\n",
       "newElement = document.createElementNS(\"http://www.w3.org/2000/svg\", 'rect'); \n",
       "newElement.setAttribute('width','1'); \n",
       "newElement.setAttribute('height','1'); \n",
       "newElement.setAttribute('x','12'); \n",
       "newElement.setAttribute('y','17'); \n",
       "newElement.style.fill = 'green'; \n",
       "svg.appendChild(newElement);\n",
       "newElement = document.createElementNS(\"http://www.w3.org/2000/svg\", 'rect'); \n",
       "newElement.setAttribute('width','1'); \n",
       "newElement.setAttribute('height','1'); \n",
       "newElement.setAttribute('x','13'); \n",
       "newElement.setAttribute('y','17'); \n",
       "newElement.style.fill = 'green'; \n",
       "svg.appendChild(newElement);\n",
       "newElement = document.createElementNS(\"http://www.w3.org/2000/svg\", 'rect'); \n",
       "newElement.setAttribute('width','1'); \n",
       "newElement.setAttribute('height','1'); \n",
       "newElement.setAttribute('x','14'); \n",
       "newElement.setAttribute('y','17'); \n",
       "newElement.style.fill = 'green'; \n",
       "svg.appendChild(newElement);\n",
       "newElement = document.createElementNS(\"http://www.w3.org/2000/svg\", 'rect'); \n",
       "newElement.setAttribute('width','1'); \n",
       "newElement.setAttribute('height','1'); \n",
       "newElement.setAttribute('x','15'); \n",
       "newElement.setAttribute('y','17'); \n",
       "newElement.style.fill = 'green'; \n",
       "svg.appendChild(newElement);\n",
       "newElement = document.createElementNS(\"http://www.w3.org/2000/svg\", 'rect'); \n",
       "newElement.setAttribute('width','1'); \n",
       "newElement.setAttribute('height','1'); \n",
       "newElement.setAttribute('x','16'); \n",
       "newElement.setAttribute('y','17'); \n",
       "newElement.style.fill = 'green'; \n",
       "svg.appendChild(newElement);\n"
      ]
     },
     "metadata": {},
     "output_type": "display_data"
    }
   ],
   "source": [
    "rtcanvas2 = create_canvas(size(colour_array)..., 400, 400)\n",
    "add_pixels(rtcanvas2, colour_array)"
   ]
  },
  {
   "cell_type": "code",
   "execution_count": 23,
   "metadata": {
    "collapsed": false
   },
   "outputs": [
    {
     "data": {
      "text/html": [
       "<script>require([\"d3\"], function(d3) {d3.select(\".usersvg #canvasQt1\").append(\"path\").attr(\"id\", \"pixel_arrow6yt\").attr(\"transform\", \"translate(0 0)\").attr(\"transform\", \"translate(0.5 0.5) rotate(-90)\").attr(\"d\", \"M0 0 L0 0.5 M -0.15 0.3 L0 0.5 L0.15 0.3\").attr(\"stroke-width\", \"0.1\").attr(\"stroke\", \"black\");});</script>"
      ]
     },
     "metadata": {},
     "output_type": "display_data"
    },
    {
     "data": {
      "text/html": [
       "<script>require([\"d3\"], function(d3) {d3.select(\".usersvg #canvasQt1\").append(\"path\").attr(\"id\", \"pixel_arrow7Nn\").attr(\"transform\", \"translate(0 1)\").attr(\"transform\", \"translate(1.5 0.5) rotate(-90)\").attr(\"d\", \"M0 0 L0 0.5 M -0.15 0.3 L0 0.5 L0.15 0.3\").attr(\"stroke-width\", \"0.1\").attr(\"stroke\", \"black\");});</script>"
      ]
     },
     "metadata": {},
     "output_type": "display_data"
    },
    {
     "data": {
      "text/html": [
       "<script>require([\"d3\"], function(d3) {d3.select(\".usersvg #canvasQt1\").append(\"path\").attr(\"id\", \"pixel_arrowniw\").attr(\"transform\", \"translate(0 2)\").attr(\"transform\", \"translate(2.5 0.5) rotate(-90)\").attr(\"d\", \"M0 0 L0 0.5 M -0.15 0.3 L0 0.5 L0.15 0.3\").attr(\"stroke-width\", \"0.1\").attr(\"stroke\", \"black\");});</script>"
      ]
     },
     "metadata": {},
     "output_type": "display_data"
    },
    {
     "data": {
      "text/html": [
       "<script>require([\"d3\"], function(d3) {d3.select(\".usersvg #canvasQt1\").append(\"path\").attr(\"id\", \"pixel_arrowRPC\").attr(\"transform\", \"translate(0 3)\").attr(\"transform\", \"translate(3.5 0.5) rotate(-90)\").attr(\"d\", \"M0 0 L0 0.5 M -0.15 0.3 L0 0.5 L0.15 0.3\").attr(\"stroke-width\", \"0.1\").attr(\"stroke\", \"black\");});</script>"
      ]
     },
     "metadata": {},
     "output_type": "display_data"
    },
    {
     "data": {
      "text/html": [
       "<script>require([\"d3\"], function(d3) {d3.select(\".usersvg #canvasQt1\").append(\"path\").attr(\"id\", \"pixel_arrowRpV\").attr(\"transform\", \"translate(0 4)\").attr(\"transform\", \"translate(4.5 0.5) rotate(-90)\").attr(\"d\", \"M0 0 L0 0.5 M -0.15 0.3 L0 0.5 L0.15 0.3\").attr(\"stroke-width\", \"0.1\").attr(\"stroke\", \"black\");});</script>"
      ]
     },
     "metadata": {},
     "output_type": "display_data"
    },
    {
     "data": {
      "text/html": [
       "<script>require([\"d3\"], function(d3) {d3.select(\".usersvg #canvasQt1\").append(\"path\").attr(\"id\", \"pixel_arrowPBy\").attr(\"transform\", \"translate(0 5)\").attr(\"transform\", \"translate(5.5 0.5) rotate(-360)\").attr(\"d\", \"M0 0 L0 0.5 M -0.15 0.3 L0 0.5 L0.15 0.3\").attr(\"stroke-width\", \"0.1\").attr(\"stroke\", \"black\");});</script>"
      ]
     },
     "metadata": {},
     "output_type": "display_data"
    },
    {
     "data": {
      "text/html": [
       "<script>require([\"d3\"], function(d3) {d3.select(\".usersvg #canvasQt1\").append(\"path\").attr(\"id\", \"pixel_arrowFb7\").attr(\"transform\", \"translate(0 6)\").attr(\"transform\", \"translate(6.5 0.5) rotate(-90)\").attr(\"d\", \"M0 0 L0 0.5 M -0.15 0.3 L0 0.5 L0.15 0.3\").attr(\"stroke-width\", \"0.1\").attr(\"stroke\", \"black\");});</script>"
      ]
     },
     "metadata": {},
     "output_type": "display_data"
    },
    {
     "data": {
      "text/html": [
       "<script>require([\"d3\"], function(d3) {d3.select(\".usersvg #canvasQt1\").append(\"path\").attr(\"id\", \"pixel_arrowHeb\").attr(\"transform\", \"translate(0 7)\").attr(\"transform\", \"translate(7.5 0.5) rotate(-360)\").attr(\"d\", \"M0 0 L0 0.5 M -0.15 0.3 L0 0.5 L0.15 0.3\").attr(\"stroke-width\", \"0.1\").attr(\"stroke\", \"black\");});</script>"
      ]
     },
     "metadata": {},
     "output_type": "display_data"
    },
    {
     "data": {
      "text/html": [
       "<script>require([\"d3\"], function(d3) {d3.select(\".usersvg #canvasQt1\").append(\"path\").attr(\"id\", \"pixel_arrow4KX\").attr(\"transform\", \"translate(0 8)\").attr(\"transform\", \"translate(8.5 0.5) rotate(-90)\").attr(\"d\", \"M0 0 L0 0.5 M -0.15 0.3 L0 0.5 L0.15 0.3\").attr(\"stroke-width\", \"0.1\").attr(\"stroke\", \"black\");});</script>"
      ]
     },
     "metadata": {},
     "output_type": "display_data"
    },
    {
     "data": {
      "text/html": [
       "<script>require([\"d3\"], function(d3) {d3.select(\".usersvg #canvasQt1\").append(\"path\").attr(\"id\", \"pixel_arrowGvk\").attr(\"transform\", \"translate(0 9)\").attr(\"transform\", \"translate(9.5 0.5) rotate(-90)\").attr(\"d\", \"M0 0 L0 0.5 M -0.15 0.3 L0 0.5 L0.15 0.3\").attr(\"stroke-width\", \"0.1\").attr(\"stroke\", \"black\");});</script>"
      ]
     },
     "metadata": {},
     "output_type": "display_data"
    },
    {
     "data": {
      "text/html": [
       "<script>require([\"d3\"], function(d3) {d3.select(\".usersvg #canvasQt1\").append(\"path\").attr(\"id\", \"pixel_arrowCEa\").attr(\"transform\", \"translate(0 10)\").attr(\"transform\", \"translate(10.5 0.5) rotate(-90)\").attr(\"d\", \"M0 0 L0 0.5 M -0.15 0.3 L0 0.5 L0.15 0.3\").attr(\"stroke-width\", \"0.1\").attr(\"stroke\", \"black\");});</script>"
      ]
     },
     "metadata": {},
     "output_type": "display_data"
    },
    {
     "data": {
      "text/html": [
       "<script>require([\"d3\"], function(d3) {d3.select(\".usersvg #canvasQt1\").append(\"path\").attr(\"id\", \"pixel_arrowa0R\").attr(\"transform\", \"translate(0 11)\").attr(\"transform\", \"translate(11.5 0.5) rotate(-180)\").attr(\"d\", \"M0 0 L0 0.5 M -0.15 0.3 L0 0.5 L0.15 0.3\").attr(\"stroke-width\", \"0.1\").attr(\"stroke\", \"black\");});</script>"
      ]
     },
     "metadata": {},
     "output_type": "display_data"
    },
    {
     "data": {
      "text/html": [
       "<script>require([\"d3\"], function(d3) {d3.select(\".usersvg #canvasQt1\").append(\"path\").attr(\"id\", \"pixel_arrowe4b\").attr(\"transform\", \"translate(0 12)\").attr(\"transform\", \"translate(12.5 0.5) rotate(-180)\").attr(\"d\", \"M0 0 L0 0.5 M -0.15 0.3 L0 0.5 L0.15 0.3\").attr(\"stroke-width\", \"0.1\").attr(\"stroke\", \"black\");});</script>"
      ]
     },
     "metadata": {},
     "output_type": "display_data"
    },
    {
     "data": {
      "text/html": [
       "<script>require([\"d3\"], function(d3) {d3.select(\".usersvg #canvasQt1\").append(\"path\").attr(\"id\", \"pixel_arrowLJh\").attr(\"transform\", \"translate(0 13)\").attr(\"transform\", \"translate(13.5 0.5) rotate(-180)\").attr(\"d\", \"M0 0 L0 0.5 M -0.15 0.3 L0 0.5 L0.15 0.3\").attr(\"stroke-width\", \"0.1\").attr(\"stroke\", \"black\");});</script>"
      ]
     },
     "metadata": {},
     "output_type": "display_data"
    },
    {
     "data": {
      "text/html": [
       "<script>require([\"d3\"], function(d3) {d3.select(\".usersvg #canvasQt1\").append(\"path\").attr(\"id\", \"pixel_arrowqjA\").attr(\"transform\", \"translate(0 14)\").attr(\"transform\", \"translate(14.5 0.5) rotate(-180)\").attr(\"d\", \"M0 0 L0 0.5 M -0.15 0.3 L0 0.5 L0.15 0.3\").attr(\"stroke-width\", \"0.1\").attr(\"stroke\", \"black\");});</script>"
      ]
     },
     "metadata": {},
     "output_type": "display_data"
    },
    {
     "data": {
      "text/html": [
       "<script>require([\"d3\"], function(d3) {d3.select(\".usersvg #canvasQt1\").append(\"path\").attr(\"id\", \"pixel_arrowG8Z\").attr(\"transform\", \"translate(0 15)\").attr(\"transform\", \"translate(15.5 0.5) rotate(-270)\").attr(\"d\", \"M0 0 L0 0.5 M -0.15 0.3 L0 0.5 L0.15 0.3\").attr(\"stroke-width\", \"0.1\").attr(\"stroke\", \"black\");});</script>"
      ]
     },
     "metadata": {},
     "output_type": "display_data"
    },
    {
     "data": {
      "text/html": [
       "<script>require([\"d3\"], function(d3) {d3.select(\".usersvg #canvasQt1\").append(\"path\").attr(\"id\", \"pixel_arrowfsB\").attr(\"transform\", \"translate(0 16)\").attr(\"transform\", \"translate(16.5 0.5) rotate(-270)\").attr(\"d\", \"M0 0 L0 0.5 M -0.15 0.3 L0 0.5 L0.15 0.3\").attr(\"stroke-width\", \"0.1\").attr(\"stroke\", \"black\");});</script>"
      ]
     },
     "metadata": {},
     "output_type": "display_data"
    },
    {
     "data": {
      "text/html": [
       "<script>require([\"d3\"], function(d3) {d3.select(\".usersvg #canvasQt1\").append(\"path\").attr(\"id\", \"pixel_arrowl2p\").attr(\"transform\", \"translate(1 0)\").attr(\"transform\", \"translate(0.5 1.5) rotate(-90)\").attr(\"d\", \"M0 0 L0 0.5 M -0.15 0.3 L0 0.5 L0.15 0.3\").attr(\"stroke-width\", \"0.1\").attr(\"stroke\", \"black\");});</script>"
      ]
     },
     "metadata": {},
     "output_type": "display_data"
    },
    {
     "data": {
      "text/html": [
       "<script>require([\"d3\"], function(d3) {d3.select(\".usersvg #canvasQt1\").append(\"path\").attr(\"id\", \"pixel_arrowYTB\").attr(\"transform\", \"translate(1 1)\").attr(\"transform\", \"translate(1.5 1.5) rotate(-90)\").attr(\"d\", \"M0 0 L0 0.5 M -0.15 0.3 L0 0.5 L0.15 0.3\").attr(\"stroke-width\", \"0.1\").attr(\"stroke\", \"black\");});</script>"
      ]
     },
     "metadata": {},
     "output_type": "display_data"
    },
    {
     "data": {
      "text/html": [
       "<script>require([\"d3\"], function(d3) {d3.select(\".usersvg #canvasQt1\").append(\"path\").attr(\"id\", \"pixel_arrowXk1\").attr(\"transform\", \"translate(1 2)\").attr(\"transform\", \"translate(2.5 1.5) rotate(-360)\").attr(\"d\", \"M0 0 L0 0.5 M -0.15 0.3 L0 0.5 L0.15 0.3\").attr(\"stroke-width\", \"0.1\").attr(\"stroke\", \"black\");});</script>"
      ]
     },
     "metadata": {},
     "output_type": "display_data"
    },
    {
     "data": {
      "text/html": [
       "<script>require([\"d3\"], function(d3) {d3.select(\".usersvg #canvasQt1\").append(\"path\").attr(\"id\", \"pixel_arrowTnU\").attr(\"transform\", \"translate(1 3)\").attr(\"transform\", \"translate(3.5 1.5) rotate(-360)\").attr(\"d\", \"M0 0 L0 0.5 M -0.15 0.3 L0 0.5 L0.15 0.3\").attr(\"stroke-width\", \"0.1\").attr(\"stroke\", \"black\");});</script>"
      ]
     },
     "metadata": {},
     "output_type": "display_data"
    },
    {
     "data": {
      "text/html": [
       "<script>require([\"d3\"], function(d3) {d3.select(\".usersvg #canvasQt1\").append(\"path\").attr(\"id\", \"pixel_arrowSGN\").attr(\"transform\", \"translate(1 4)\").attr(\"transform\", \"translate(4.5 1.5) rotate(-360)\").attr(\"d\", \"M0 0 L0 0.5 M -0.15 0.3 L0 0.5 L0.15 0.3\").attr(\"stroke-width\", \"0.1\").attr(\"stroke\", \"black\");});</script>"
      ]
     },
     "metadata": {},
     "output_type": "display_data"
    },
    {
     "data": {
      "text/html": [
       "<script>require([\"d3\"], function(d3) {d3.select(\".usersvg #canvasQt1\").append(\"path\").attr(\"id\", \"pixel_arrowUSN\").attr(\"transform\", \"translate(1 5)\").attr(\"transform\", \"translate(5.5 1.5) rotate(-360)\").attr(\"d\", \"M0 0 L0 0.5 M -0.15 0.3 L0 0.5 L0.15 0.3\").attr(\"stroke-width\", \"0.1\").attr(\"stroke\", \"black\");});</script>"
      ]
     },
     "metadata": {},
     "output_type": "display_data"
    },
    {
     "data": {
      "text/html": [
       "<script>require([\"d3\"], function(d3) {d3.select(\".usersvg #canvasQt1\").append(\"path\").attr(\"id\", \"pixel_arrowcj0\").attr(\"transform\", \"translate(1 6)\").attr(\"transform\", \"translate(6.5 1.5) rotate(-90)\").attr(\"d\", \"M0 0 L0 0.5 M -0.15 0.3 L0 0.5 L0.15 0.3\").attr(\"stroke-width\", \"0.1\").attr(\"stroke\", \"black\");});</script>"
      ]
     },
     "metadata": {},
     "output_type": "display_data"
    },
    {
     "data": {
      "text/html": [
       "<script>require([\"d3\"], function(d3) {d3.select(\".usersvg #canvasQt1\").append(\"path\").attr(\"id\", \"pixel_arrowtTW\").attr(\"transform\", \"translate(1 7)\").attr(\"transform\", \"translate(7.5 1.5) rotate(-360)\").attr(\"d\", \"M0 0 L0 0.5 M -0.15 0.3 L0 0.5 L0.15 0.3\").attr(\"stroke-width\", \"0.1\").attr(\"stroke\", \"black\");});</script>"
      ]
     },
     "metadata": {},
     "output_type": "display_data"
    },
    {
     "data": {
      "text/html": [
       "<script>require([\"d3\"], function(d3) {d3.select(\".usersvg #canvasQt1\").append(\"path\").attr(\"id\", \"pixel_arrowpi9\").attr(\"transform\", \"translate(1 8)\").attr(\"transform\", \"translate(8.5 1.5) rotate(-90)\").attr(\"d\", \"M0 0 L0 0.5 M -0.15 0.3 L0 0.5 L0.15 0.3\").attr(\"stroke-width\", \"0.1\").attr(\"stroke\", \"black\");});</script>"
      ]
     },
     "metadata": {},
     "output_type": "display_data"
    },
    {
     "data": {
      "text/html": [
       "<script>require([\"d3\"], function(d3) {d3.select(\".usersvg #canvasQt1\").append(\"path\").attr(\"id\", \"pixel_arrow2Ah\").attr(\"transform\", \"translate(1 9)\").attr(\"transform\", \"translate(9.5 1.5) rotate(-90)\").attr(\"d\", \"M0 0 L0 0.5 M -0.15 0.3 L0 0.5 L0.15 0.3\").attr(\"stroke-width\", \"0.1\").attr(\"stroke\", \"black\");});</script>"
      ]
     },
     "metadata": {},
     "output_type": "display_data"
    },
    {
     "data": {
      "text/html": [
       "<script>require([\"d3\"], function(d3) {d3.select(\".usersvg #canvasQt1\").append(\"path\").attr(\"id\", \"pixel_arrowWA0\").attr(\"transform\", \"translate(1 10)\").attr(\"transform\", \"translate(10.5 1.5) rotate(-90)\").attr(\"d\", \"M0 0 L0 0.5 M -0.15 0.3 L0 0.5 L0.15 0.3\").attr(\"stroke-width\", \"0.1\").attr(\"stroke\", \"black\");});</script>"
      ]
     },
     "metadata": {},
     "output_type": "display_data"
    },
    {
     "data": {
      "text/html": [
       "<script>require([\"d3\"], function(d3) {d3.select(\".usersvg #canvasQt1\").append(\"path\").attr(\"id\", \"pixel_arrowI36\").attr(\"transform\", \"translate(1 11)\").attr(\"transform\", \"translate(11.5 1.5) rotate(-180)\").attr(\"d\", \"M0 0 L0 0.5 M -0.15 0.3 L0 0.5 L0.15 0.3\").attr(\"stroke-width\", \"0.1\").attr(\"stroke\", \"black\");});</script>"
      ]
     },
     "metadata": {},
     "output_type": "display_data"
    },
    {
     "data": {
      "text/html": [
       "<script>require([\"d3\"], function(d3) {d3.select(\".usersvg #canvasQt1\").append(\"path\").attr(\"id\", \"pixel_arrowyJL\").attr(\"transform\", \"translate(1 12)\").attr(\"transform\", \"translate(12.5 1.5) rotate(-180)\").attr(\"d\", \"M0 0 L0 0.5 M -0.15 0.3 L0 0.5 L0.15 0.3\").attr(\"stroke-width\", \"0.1\").attr(\"stroke\", \"black\");});</script>"
      ]
     },
     "metadata": {},
     "output_type": "display_data"
    },
    {
     "data": {
      "text/html": [
       "<script>require([\"d3\"], function(d3) {d3.select(\".usersvg #canvasQt1\").append(\"path\").attr(\"id\", \"pixel_arrowhhe\").attr(\"transform\", \"translate(1 13)\").attr(\"transform\", \"translate(13.5 1.5) rotate(-180)\").attr(\"d\", \"M0 0 L0 0.5 M -0.15 0.3 L0 0.5 L0.15 0.3\").attr(\"stroke-width\", \"0.1\").attr(\"stroke\", \"black\");});</script>"
      ]
     },
     "metadata": {},
     "output_type": "display_data"
    },
    {
     "data": {
      "text/html": [
       "<script>require([\"d3\"], function(d3) {d3.select(\".usersvg #canvasQt1\").append(\"path\").attr(\"id\", \"pixel_arrowKRY\").attr(\"transform\", \"translate(1 14)\").attr(\"transform\", \"translate(14.5 1.5) rotate(-180)\").attr(\"d\", \"M0 0 L0 0.5 M -0.15 0.3 L0 0.5 L0.15 0.3\").attr(\"stroke-width\", \"0.1\").attr(\"stroke\", \"black\");});</script>"
      ]
     },
     "metadata": {},
     "output_type": "display_data"
    },
    {
     "data": {
      "text/html": [
       "<script>require([\"d3\"], function(d3) {d3.select(\".usersvg #canvasQt1\").append(\"path\").attr(\"id\", \"pixel_arrowgXS\").attr(\"transform\", \"translate(1 15)\").attr(\"transform\", \"translate(15.5 1.5) rotate(-270)\").attr(\"d\", \"M0 0 L0 0.5 M -0.15 0.3 L0 0.5 L0.15 0.3\").attr(\"stroke-width\", \"0.1\").attr(\"stroke\", \"black\");});</script>"
      ]
     },
     "metadata": {},
     "output_type": "display_data"
    },
    {
     "data": {
      "text/html": [
       "<script>require([\"d3\"], function(d3) {d3.select(\".usersvg #canvasQt1\").append(\"path\").attr(\"id\", \"pixel_arrowzMj\").attr(\"transform\", \"translate(1 16)\").attr(\"transform\", \"translate(16.5 1.5) rotate(-270)\").attr(\"d\", \"M0 0 L0 0.5 M -0.15 0.3 L0 0.5 L0.15 0.3\").attr(\"stroke-width\", \"0.1\").attr(\"stroke\", \"black\");});</script>"
      ]
     },
     "metadata": {},
     "output_type": "display_data"
    },
    {
     "data": {
      "text/html": [
       "<script>require([\"d3\"], function(d3) {d3.select(\".usersvg #canvasQt1\").append(\"path\").attr(\"id\", \"pixel_arrowvdN\").attr(\"transform\", \"translate(2 0)\").attr(\"transform\", \"translate(0.5 2.5) rotate(-360)\").attr(\"d\", \"M0 0 L0 0.5 M -0.15 0.3 L0 0.5 L0.15 0.3\").attr(\"stroke-width\", \"0.1\").attr(\"stroke\", \"black\");});</script>"
      ]
     },
     "metadata": {},
     "output_type": "display_data"
    },
    {
     "data": {
      "text/html": [
       "<script>require([\"d3\"], function(d3) {d3.select(\".usersvg #canvasQt1\").append(\"path\").attr(\"id\", \"pixel_arrow94G\").attr(\"transform\", \"translate(2 1)\").attr(\"transform\", \"translate(1.5 2.5) rotate(-360)\").attr(\"d\", \"M0 0 L0 0.5 M -0.15 0.3 L0 0.5 L0.15 0.3\").attr(\"stroke-width\", \"0.1\").attr(\"stroke\", \"black\");});</script>"
      ]
     },
     "metadata": {},
     "output_type": "display_data"
    },
    {
     "data": {
      "text/html": [
       "<script>require([\"d3\"], function(d3) {d3.select(\".usersvg #canvasQt1\").append(\"path\").attr(\"id\", \"pixel_arrowUEV\").attr(\"transform\", \"translate(2 2)\").attr(\"transform\", \"translate(2.5 2.5) rotate(-90)\").attr(\"d\", \"M0 0 L0 0.5 M -0.15 0.3 L0 0.5 L0.15 0.3\").attr(\"stroke-width\", \"0.1\").attr(\"stroke\", \"black\");});</script>"
      ]
     },
     "metadata": {},
     "output_type": "display_data"
    },
    {
     "data": {
      "text/html": [
       "<script>require([\"d3\"], function(d3) {d3.select(\".usersvg #canvasQt1\").append(\"path\").attr(\"id\", \"pixel_arrowzuZ\").attr(\"transform\", \"translate(2 3)\").attr(\"transform\", \"translate(3.5 2.5) rotate(-360)\").attr(\"d\", \"M0 0 L0 0.5 M -0.15 0.3 L0 0.5 L0.15 0.3\").attr(\"stroke-width\", \"0.1\").attr(\"stroke\", \"black\");});</script>"
      ]
     },
     "metadata": {},
     "output_type": "display_data"
    },
    {
     "data": {
      "text/html": [
       "<script>require([\"d3\"], function(d3) {d3.select(\".usersvg #canvasQt1\").append(\"path\").attr(\"id\", \"pixel_arrowKdk\").attr(\"transform\", \"translate(2 4)\").attr(\"transform\", \"translate(4.5 2.5) rotate(-360)\").attr(\"d\", \"M0 0 L0 0.5 M -0.15 0.3 L0 0.5 L0.15 0.3\").attr(\"stroke-width\", \"0.1\").attr(\"stroke\", \"black\");});</script>"
      ]
     },
     "metadata": {},
     "output_type": "display_data"
    },
    {
     "data": {
      "text/html": [
       "<script>require([\"d3\"], function(d3) {d3.select(\".usersvg #canvasQt1\").append(\"path\").attr(\"id\", \"pixel_arrowXJs\").attr(\"transform\", \"translate(2 5)\").attr(\"transform\", \"translate(5.5 2.5) rotate(-90)\").attr(\"d\", \"M0 0 L0 0.5 M -0.15 0.3 L0 0.5 L0.15 0.3\").attr(\"stroke-width\", \"0.1\").attr(\"stroke\", \"black\");});</script>"
      ]
     },
     "metadata": {},
     "output_type": "display_data"
    },
    {
     "data": {
      "text/html": [
       "<script>require([\"d3\"], function(d3) {d3.select(\".usersvg #canvasQt1\").append(\"path\").attr(\"id\", \"pixel_arrowO14\").attr(\"transform\", \"translate(2 6)\").attr(\"transform\", \"translate(6.5 2.5) rotate(-90)\").attr(\"d\", \"M0 0 L0 0.5 M -0.15 0.3 L0 0.5 L0.15 0.3\").attr(\"stroke-width\", \"0.1\").attr(\"stroke\", \"black\");});</script>"
      ]
     },
     "metadata": {},
     "output_type": "display_data"
    },
    {
     "data": {
      "text/html": [
       "<script>require([\"d3\"], function(d3) {d3.select(\".usersvg #canvasQt1\").append(\"path\").attr(\"id\", \"pixel_arrowOQV\").attr(\"transform\", \"translate(2 7)\").attr(\"transform\", \"translate(7.5 2.5) rotate(-360)\").attr(\"d\", \"M0 0 L0 0.5 M -0.15 0.3 L0 0.5 L0.15 0.3\").attr(\"stroke-width\", \"0.1\").attr(\"stroke\", \"black\");});</script>"
      ]
     },
     "metadata": {},
     "output_type": "display_data"
    },
    {
     "data": {
      "text/html": [
       "<script>require([\"d3\"], function(d3) {d3.select(\".usersvg #canvasQt1\").append(\"path\").attr(\"id\", \"pixel_arrowDp9\").attr(\"transform\", \"translate(2 8)\").attr(\"transform\", \"translate(8.5 2.5) rotate(-90)\").attr(\"d\", \"M0 0 L0 0.5 M -0.15 0.3 L0 0.5 L0.15 0.3\").attr(\"stroke-width\", \"0.1\").attr(\"stroke\", \"black\");});</script>"
      ]
     },
     "metadata": {},
     "output_type": "display_data"
    },
    {
     "data": {
      "text/html": [
       "<script>require([\"d3\"], function(d3) {d3.select(\".usersvg #canvasQt1\").append(\"path\").attr(\"id\", \"pixel_arrowUZb\").attr(\"transform\", \"translate(2 9)\").attr(\"transform\", \"translate(9.5 2.5) rotate(-90)\").attr(\"d\", \"M0 0 L0 0.5 M -0.15 0.3 L0 0.5 L0.15 0.3\").attr(\"stroke-width\", \"0.1\").attr(\"stroke\", \"black\");});</script>"
      ]
     },
     "metadata": {},
     "output_type": "display_data"
    },
    {
     "data": {
      "text/html": [
       "<script>require([\"d3\"], function(d3) {d3.select(\".usersvg #canvasQt1\").append(\"path\").attr(\"id\", \"pixel_arrowdKn\").attr(\"transform\", \"translate(2 10)\").attr(\"transform\", \"translate(10.5 2.5) rotate(-180)\").attr(\"d\", \"M0 0 L0 0.5 M -0.15 0.3 L0 0.5 L0.15 0.3\").attr(\"stroke-width\", \"0.1\").attr(\"stroke\", \"black\");});</script>"
      ]
     },
     "metadata": {},
     "output_type": "display_data"
    },
    {
     "data": {
      "text/html": [
       "<script>require([\"d3\"], function(d3) {d3.select(\".usersvg #canvasQt1\").append(\"path\").attr(\"id\", \"pixel_arrow5f7\").attr(\"transform\", \"translate(2 11)\").attr(\"transform\", \"translate(11.5 2.5) rotate(-180)\").attr(\"d\", \"M0 0 L0 0.5 M -0.15 0.3 L0 0.5 L0.15 0.3\").attr(\"stroke-width\", \"0.1\").attr(\"stroke\", \"black\");});</script>"
      ]
     },
     "metadata": {},
     "output_type": "display_data"
    },
    {
     "data": {
      "text/html": [
       "<script>require([\"d3\"], function(d3) {d3.select(\".usersvg #canvasQt1\").append(\"path\").attr(\"id\", \"pixel_arrowO06\").attr(\"transform\", \"translate(2 12)\").attr(\"transform\", \"translate(12.5 2.5) rotate(-180)\").attr(\"d\", \"M0 0 L0 0.5 M -0.15 0.3 L0 0.5 L0.15 0.3\").attr(\"stroke-width\", \"0.1\").attr(\"stroke\", \"black\");});</script>"
      ]
     },
     "metadata": {},
     "output_type": "display_data"
    },
    {
     "data": {
      "text/html": [
       "<script>require([\"d3\"], function(d3) {d3.select(\".usersvg #canvasQt1\").append(\"path\").attr(\"id\", \"pixel_arrowDra\").attr(\"transform\", \"translate(2 13)\").attr(\"transform\", \"translate(13.5 2.5) rotate(-180)\").attr(\"d\", \"M0 0 L0 0.5 M -0.15 0.3 L0 0.5 L0.15 0.3\").attr(\"stroke-width\", \"0.1\").attr(\"stroke\", \"black\");});</script>"
      ]
     },
     "metadata": {},
     "output_type": "display_data"
    },
    {
     "data": {
      "text/html": [
       "<script>require([\"d3\"], function(d3) {d3.select(\".usersvg #canvasQt1\").append(\"path\").attr(\"id\", \"pixel_arroww6u\").attr(\"transform\", \"translate(2 14)\").attr(\"transform\", \"translate(14.5 2.5) rotate(-180)\").attr(\"d\", \"M0 0 L0 0.5 M -0.15 0.3 L0 0.5 L0.15 0.3\").attr(\"stroke-width\", \"0.1\").attr(\"stroke\", \"black\");});</script>"
      ]
     },
     "metadata": {},
     "output_type": "display_data"
    },
    {
     "data": {
      "text/html": [
       "<script>require([\"d3\"], function(d3) {d3.select(\".usersvg #canvasQt1\").append(\"path\").attr(\"id\", \"pixel_arrowiI2\").attr(\"transform\", \"translate(2 15)\").attr(\"transform\", \"translate(15.5 2.5) rotate(-180)\").attr(\"d\", \"M0 0 L0 0.5 M -0.15 0.3 L0 0.5 L0.15 0.3\").attr(\"stroke-width\", \"0.1\").attr(\"stroke\", \"black\");});</script>"
      ]
     },
     "metadata": {},
     "output_type": "display_data"
    },
    {
     "data": {
      "text/html": [
       "<script>require([\"d3\"], function(d3) {d3.select(\".usersvg #canvasQt1\").append(\"path\").attr(\"id\", \"pixel_arrowSPg\").attr(\"transform\", \"translate(2 16)\").attr(\"transform\", \"translate(16.5 2.5) rotate(-270)\").attr(\"d\", \"M0 0 L0 0.5 M -0.15 0.3 L0 0.5 L0.15 0.3\").attr(\"stroke-width\", \"0.1\").attr(\"stroke\", \"black\");});</script>"
      ]
     },
     "metadata": {},
     "output_type": "display_data"
    },
    {
     "data": {
      "text/html": [
       "<script>require([\"d3\"], function(d3) {d3.select(\".usersvg #canvasQt1\").append(\"path\").attr(\"id\", \"pixel_arrowZ9P\").attr(\"transform\", \"translate(3 0)\").attr(\"transform\", \"translate(0.5 3.5) rotate(-360)\").attr(\"d\", \"M0 0 L0 0.5 M -0.15 0.3 L0 0.5 L0.15 0.3\").attr(\"stroke-width\", \"0.1\").attr(\"stroke\", \"black\");});</script>"
      ]
     },
     "metadata": {},
     "output_type": "display_data"
    },
    {
     "data": {
      "text/html": [
       "<script>require([\"d3\"], function(d3) {d3.select(\".usersvg #canvasQt1\").append(\"path\").attr(\"id\", \"pixel_arrowMTa\").attr(\"transform\", \"translate(3 1)\").attr(\"transform\", \"translate(1.5 3.5) rotate(-90)\").attr(\"d\", \"M0 0 L0 0.5 M -0.15 0.3 L0 0.5 L0.15 0.3\").attr(\"stroke-width\", \"0.1\").attr(\"stroke\", \"black\");});</script>"
      ]
     },
     "metadata": {},
     "output_type": "display_data"
    },
    {
     "data": {
      "text/html": [
       "<script>require([\"d3\"], function(d3) {d3.select(\".usersvg #canvasQt1\").append(\"path\").attr(\"id\", \"pixel_arrowCp6\").attr(\"transform\", \"translate(3 2)\").attr(\"transform\", \"translate(2.5 3.5) rotate(-90)\").attr(\"d\", \"M0 0 L0 0.5 M -0.15 0.3 L0 0.5 L0.15 0.3\").attr(\"stroke-width\", \"0.1\").attr(\"stroke\", \"black\");});</script>"
      ]
     },
     "metadata": {},
     "output_type": "display_data"
    },
    {
     "data": {
      "text/html": [
       "<script>require([\"d3\"], function(d3) {d3.select(\".usersvg #canvasQt1\").append(\"path\").attr(\"id\", \"pixel_arrowOFz\").attr(\"transform\", \"translate(3 3)\").attr(\"transform\", \"translate(3.5 3.5) rotate(-90)\").attr(\"d\", \"M0 0 L0 0.5 M -0.15 0.3 L0 0.5 L0.15 0.3\").attr(\"stroke-width\", \"0.1\").attr(\"stroke\", \"black\");});</script>"
      ]
     },
     "metadata": {},
     "output_type": "display_data"
    },
    {
     "data": {
      "text/html": [
       "<script>require([\"d3\"], function(d3) {d3.select(\".usersvg #canvasQt1\").append(\"path\").attr(\"id\", \"pixel_arrow2Jm\").attr(\"transform\", \"translate(3 4)\").attr(\"transform\", \"translate(4.5 3.5) rotate(-90)\").attr(\"d\", \"M0 0 L0 0.5 M -0.15 0.3 L0 0.5 L0.15 0.3\").attr(\"stroke-width\", \"0.1\").attr(\"stroke\", \"black\");});</script>"
      ]
     },
     "metadata": {},
     "output_type": "display_data"
    },
    {
     "data": {
      "text/html": [
       "<script>require([\"d3\"], function(d3) {d3.select(\".usersvg #canvasQt1\").append(\"path\").attr(\"id\", \"pixel_arrowsOY\").attr(\"transform\", \"translate(3 5)\").attr(\"transform\", \"translate(5.5 3.5) rotate(-90)\").attr(\"d\", \"M0 0 L0 0.5 M -0.15 0.3 L0 0.5 L0.15 0.3\").attr(\"stroke-width\", \"0.1\").attr(\"stroke\", \"black\");});</script>"
      ]
     },
     "metadata": {},
     "output_type": "display_data"
    },
    {
     "data": {
      "text/html": [
       "<script>require([\"d3\"], function(d3) {d3.select(\".usersvg #canvasQt1\").append(\"path\").attr(\"id\", \"pixel_arrowCIQ\").attr(\"transform\", \"translate(3 6)\").attr(\"transform\", \"translate(6.5 3.5) rotate(-90)\").attr(\"d\", \"M0 0 L0 0.5 M -0.15 0.3 L0 0.5 L0.15 0.3\").attr(\"stroke-width\", \"0.1\").attr(\"stroke\", \"black\");});</script>"
      ]
     },
     "metadata": {},
     "output_type": "display_data"
    },
    {
     "data": {
      "text/html": [
       "<script>require([\"d3\"], function(d3) {d3.select(\".usersvg #canvasQt1\").append(\"path\").attr(\"id\", \"pixel_arrowVEv\").attr(\"transform\", \"translate(3 7)\").attr(\"transform\", \"translate(7.5 3.5) rotate(-90)\").attr(\"d\", \"M0 0 L0 0.5 M -0.15 0.3 L0 0.5 L0.15 0.3\").attr(\"stroke-width\", \"0.1\").attr(\"stroke\", \"black\");});</script>"
      ]
     },
     "metadata": {},
     "output_type": "display_data"
    },
    {
     "data": {
      "text/html": [
       "<script>require([\"d3\"], function(d3) {d3.select(\".usersvg #canvasQt1\").append(\"path\").attr(\"id\", \"pixel_arrowoHN\").attr(\"transform\", \"translate(3 8)\").attr(\"transform\", \"translate(8.5 3.5) rotate(-270)\").attr(\"d\", \"M0 0 L0 0.5 M -0.15 0.3 L0 0.5 L0.15 0.3\").attr(\"stroke-width\", \"0.1\").attr(\"stroke\", \"black\");});</script>"
      ]
     },
     "metadata": {},
     "output_type": "display_data"
    },
    {
     "data": {
      "text/html": [
       "<script>require([\"d3\"], function(d3) {d3.select(\".usersvg #canvasQt1\").append(\"path\").attr(\"id\", \"pixel_arrowgaG\").attr(\"transform\", \"translate(3 9)\").attr(\"transform\", \"translate(9.5 3.5) rotate(-90)\").attr(\"d\", \"M0 0 L0 0.5 M -0.15 0.3 L0 0.5 L0.15 0.3\").attr(\"stroke-width\", \"0.1\").attr(\"stroke\", \"black\");});</script>"
      ]
     },
     "metadata": {},
     "output_type": "display_data"
    },
    {
     "data": {
      "text/html": [
       "<script>require([\"d3\"], function(d3) {d3.select(\".usersvg #canvasQt1\").append(\"path\").attr(\"id\", \"pixel_arrowIub\").attr(\"transform\", \"translate(3 10)\").attr(\"transform\", \"translate(10.5 3.5) rotate(-90)\").attr(\"d\", \"M0 0 L0 0.5 M -0.15 0.3 L0 0.5 L0.15 0.3\").attr(\"stroke-width\", \"0.1\").attr(\"stroke\", \"black\");});</script>"
      ]
     },
     "metadata": {},
     "output_type": "display_data"
    },
    {
     "data": {
      "text/html": [
       "<script>require([\"d3\"], function(d3) {d3.select(\".usersvg #canvasQt1\").append(\"path\").attr(\"id\", \"pixel_arrowPGv\").attr(\"transform\", \"translate(3 11)\").attr(\"transform\", \"translate(11.5 3.5) rotate(-180)\").attr(\"d\", \"M0 0 L0 0.5 M -0.15 0.3 L0 0.5 L0.15 0.3\").attr(\"stroke-width\", \"0.1\").attr(\"stroke\", \"black\");});</script>"
      ]
     },
     "metadata": {},
     "output_type": "display_data"
    },
    {
     "data": {
      "text/html": [
       "<script>require([\"d3\"], function(d3) {d3.select(\".usersvg #canvasQt1\").append(\"path\").attr(\"id\", \"pixel_arrow1r0\").attr(\"transform\", \"translate(3 12)\").attr(\"transform\", \"translate(12.5 3.5) rotate(-180)\").attr(\"d\", \"M0 0 L0 0.5 M -0.15 0.3 L0 0.5 L0.15 0.3\").attr(\"stroke-width\", \"0.1\").attr(\"stroke\", \"black\");});</script>"
      ]
     },
     "metadata": {},
     "output_type": "display_data"
    },
    {
     "data": {
      "text/html": [
       "<script>require([\"d3\"], function(d3) {d3.select(\".usersvg #canvasQt1\").append(\"path\").attr(\"id\", \"pixel_arrowIH5\").attr(\"transform\", \"translate(3 13)\").attr(\"transform\", \"translate(13.5 3.5) rotate(-180)\").attr(\"d\", \"M0 0 L0 0.5 M -0.15 0.3 L0 0.5 L0.15 0.3\").attr(\"stroke-width\", \"0.1\").attr(\"stroke\", \"black\");});</script>"
      ]
     },
     "metadata": {},
     "output_type": "display_data"
    },
    {
     "data": {
      "text/html": [
       "<script>require([\"d3\"], function(d3) {d3.select(\".usersvg #canvasQt1\").append(\"path\").attr(\"id\", \"pixel_arrowKOL\").attr(\"transform\", \"translate(3 14)\").attr(\"transform\", \"translate(14.5 3.5) rotate(-180)\").attr(\"d\", \"M0 0 L0 0.5 M -0.15 0.3 L0 0.5 L0.15 0.3\").attr(\"stroke-width\", \"0.1\").attr(\"stroke\", \"black\");});</script>"
      ]
     },
     "metadata": {},
     "output_type": "display_data"
    },
    {
     "data": {
      "text/html": [
       "<script>require([\"d3\"], function(d3) {d3.select(\".usersvg #canvasQt1\").append(\"path\").attr(\"id\", \"pixel_arrow368\").attr(\"transform\", \"translate(3 15)\").attr(\"transform\", \"translate(15.5 3.5) rotate(-180)\").attr(\"d\", \"M0 0 L0 0.5 M -0.15 0.3 L0 0.5 L0.15 0.3\").attr(\"stroke-width\", \"0.1\").attr(\"stroke\", \"black\");});</script>"
      ]
     },
     "metadata": {},
     "output_type": "display_data"
    },
    {
     "data": {
      "text/html": [
       "<script>require([\"d3\"], function(d3) {d3.select(\".usersvg #canvasQt1\").append(\"path\").attr(\"id\", \"pixel_arrow0HV\").attr(\"transform\", \"translate(3 16)\").attr(\"transform\", \"translate(16.5 3.5) rotate(-180)\").attr(\"d\", \"M0 0 L0 0.5 M -0.15 0.3 L0 0.5 L0.15 0.3\").attr(\"stroke-width\", \"0.1\").attr(\"stroke\", \"black\");});</script>"
      ]
     },
     "metadata": {},
     "output_type": "display_data"
    },
    {
     "data": {
      "text/html": [
       "<script>require([\"d3\"], function(d3) {d3.select(\".usersvg #canvasQt1\").append(\"path\").attr(\"id\", \"pixel_arrowKHC\").attr(\"transform\", \"translate(4 0)\").attr(\"transform\", \"translate(0.5 4.5) rotate(-90)\").attr(\"d\", \"M0 0 L0 0.5 M -0.15 0.3 L0 0.5 L0.15 0.3\").attr(\"stroke-width\", \"0.1\").attr(\"stroke\", \"black\");});</script>"
      ]
     },
     "metadata": {},
     "output_type": "display_data"
    },
    {
     "data": {
      "text/html": [
       "<script>require([\"d3\"], function(d3) {d3.select(\".usersvg #canvasQt1\").append(\"path\").attr(\"id\", \"pixel_arrowb12\").attr(\"transform\", \"translate(4 1)\").attr(\"transform\", \"translate(1.5 4.5) rotate(-90)\").attr(\"d\", \"M0 0 L0 0.5 M -0.15 0.3 L0 0.5 L0.15 0.3\").attr(\"stroke-width\", \"0.1\").attr(\"stroke\", \"black\");});</script>"
      ]
     },
     "metadata": {},
     "output_type": "display_data"
    },
    {
     "data": {
      "text/html": [
       "<script>require([\"d3\"], function(d3) {d3.select(\".usersvg #canvasQt1\").append(\"path\").attr(\"id\", \"pixel_arrowigQ\").attr(\"transform\", \"translate(4 2)\").attr(\"transform\", \"translate(2.5 4.5) rotate(-90)\").attr(\"d\", \"M0 0 L0 0.5 M -0.15 0.3 L0 0.5 L0.15 0.3\").attr(\"stroke-width\", \"0.1\").attr(\"stroke\", \"black\");});</script>"
      ]
     },
     "metadata": {},
     "output_type": "display_data"
    },
    {
     "data": {
      "text/html": [
       "<script>require([\"d3\"], function(d3) {d3.select(\".usersvg #canvasQt1\").append(\"path\").attr(\"id\", \"pixel_arrowTZ4\").attr(\"transform\", \"translate(4 3)\").attr(\"transform\", \"translate(3.5 4.5) rotate(-90)\").attr(\"d\", \"M0 0 L0 0.5 M -0.15 0.3 L0 0.5 L0.15 0.3\").attr(\"stroke-width\", \"0.1\").attr(\"stroke\", \"black\");});</script>"
      ]
     },
     "metadata": {},
     "output_type": "display_data"
    },
    {
     "data": {
      "text/html": [
       "<script>require([\"d3\"], function(d3) {d3.select(\".usersvg #canvasQt1\").append(\"path\").attr(\"id\", \"pixel_arrowK58\").attr(\"transform\", \"translate(4 4)\").attr(\"transform\", \"translate(4.5 4.5) rotate(-90)\").attr(\"d\", \"M0 0 L0 0.5 M -0.15 0.3 L0 0.5 L0.15 0.3\").attr(\"stroke-width\", \"0.1\").attr(\"stroke\", \"black\");});</script>"
      ]
     },
     "metadata": {},
     "output_type": "display_data"
    },
    {
     "data": {
      "text/html": [
       "<script>require([\"d3\"], function(d3) {d3.select(\".usersvg #canvasQt1\").append(\"path\").attr(\"id\", \"pixel_arrowibR\").attr(\"transform\", \"translate(4 5)\").attr(\"transform\", \"translate(5.5 4.5) rotate(-90)\").attr(\"d\", \"M0 0 L0 0.5 M -0.15 0.3 L0 0.5 L0.15 0.3\").attr(\"stroke-width\", \"0.1\").attr(\"stroke\", \"black\");});</script>"
      ]
     },
     "metadata": {},
     "output_type": "display_data"
    },
    {
     "data": {
      "text/html": [
       "<script>require([\"d3\"], function(d3) {d3.select(\".usersvg #canvasQt1\").append(\"path\").attr(\"id\", \"pixel_arrowH3o\").attr(\"transform\", \"translate(4 6)\").attr(\"transform\", \"translate(6.5 4.5) rotate(-90)\").attr(\"d\", \"M0 0 L0 0.5 M -0.15 0.3 L0 0.5 L0.15 0.3\").attr(\"stroke-width\", \"0.1\").attr(\"stroke\", \"black\");});</script>"
      ]
     },
     "metadata": {},
     "output_type": "display_data"
    },
    {
     "data": {
      "text/html": [
       "<script>require([\"d3\"], function(d3) {d3.select(\".usersvg #canvasQt1\").append(\"path\").attr(\"id\", \"pixel_arrow2qn\").attr(\"transform\", \"translate(4 7)\").attr(\"transform\", \"translate(7.5 4.5) rotate(-180)\").attr(\"d\", \"M0 0 L0 0.5 M -0.15 0.3 L0 0.5 L0.15 0.3\").attr(\"stroke-width\", \"0.1\").attr(\"stroke\", \"black\");});</script>"
      ]
     },
     "metadata": {},
     "output_type": "display_data"
    },
    {
     "data": {
      "text/html": [
       "<script>require([\"d3\"], function(d3) {d3.select(\".usersvg #canvasQt1\").append(\"path\").attr(\"id\", \"pixel_arrowy1x\").attr(\"transform\", \"translate(4 8)\").attr(\"transform\", \"translate(8.5 4.5) rotate(-90)\").attr(\"d\", \"M0 0 L0 0.5 M -0.15 0.3 L0 0.5 L0.15 0.3\").attr(\"stroke-width\", \"0.1\").attr(\"stroke\", \"black\");});</script>"
      ]
     },
     "metadata": {},
     "output_type": "display_data"
    },
    {
     "data": {
      "text/html": [
       "<script>require([\"d3\"], function(d3) {d3.select(\".usersvg #canvasQt1\").append(\"path\").attr(\"id\", \"pixel_arrowcX5\").attr(\"transform\", \"translate(4 9)\").attr(\"transform\", \"translate(9.5 4.5) rotate(-180)\").attr(\"d\", \"M0 0 L0 0.5 M -0.15 0.3 L0 0.5 L0.15 0.3\").attr(\"stroke-width\", \"0.1\").attr(\"stroke\", \"black\");});</script>"
      ]
     },
     "metadata": {},
     "output_type": "display_data"
    },
    {
     "data": {
      "text/html": [
       "<script>require([\"d3\"], function(d3) {d3.select(\".usersvg #canvasQt1\").append(\"path\").attr(\"id\", \"pixel_arrowjPc\").attr(\"transform\", \"translate(4 10)\").attr(\"transform\", \"translate(10.5 4.5) rotate(-90)\").attr(\"d\", \"M0 0 L0 0.5 M -0.15 0.3 L0 0.5 L0.15 0.3\").attr(\"stroke-width\", \"0.1\").attr(\"stroke\", \"black\");});</script>"
      ]
     },
     "metadata": {},
     "output_type": "display_data"
    },
    {
     "data": {
      "text/html": [
       "<script>require([\"d3\"], function(d3) {d3.select(\".usersvg #canvasQt1\").append(\"path\").attr(\"id\", \"pixel_arrowYDl\").attr(\"transform\", \"translate(4 11)\").attr(\"transform\", \"translate(11.5 4.5) rotate(-180)\").attr(\"d\", \"M0 0 L0 0.5 M -0.15 0.3 L0 0.5 L0.15 0.3\").attr(\"stroke-width\", \"0.1\").attr(\"stroke\", \"black\");});</script>"
      ]
     },
     "metadata": {},
     "output_type": "display_data"
    },
    {
     "data": {
      "text/html": [
       "<script>require([\"d3\"], function(d3) {d3.select(\".usersvg #canvasQt1\").append(\"path\").attr(\"id\", \"pixel_arrowE7r\").attr(\"transform\", \"translate(4 12)\").attr(\"transform\", \"translate(12.5 4.5) rotate(-180)\").attr(\"d\", \"M0 0 L0 0.5 M -0.15 0.3 L0 0.5 L0.15 0.3\").attr(\"stroke-width\", \"0.1\").attr(\"stroke\", \"black\");});</script>"
      ]
     },
     "metadata": {},
     "output_type": "display_data"
    },
    {
     "data": {
      "text/html": [
       "<script>require([\"d3\"], function(d3) {d3.select(\".usersvg #canvasQt1\").append(\"path\").attr(\"id\", \"pixel_arrowNq5\").attr(\"transform\", \"translate(4 13)\").attr(\"transform\", \"translate(13.5 4.5) rotate(-180)\").attr(\"d\", \"M0 0 L0 0.5 M -0.15 0.3 L0 0.5 L0.15 0.3\").attr(\"stroke-width\", \"0.1\").attr(\"stroke\", \"black\");});</script>"
      ]
     },
     "metadata": {},
     "output_type": "display_data"
    },
    {
     "data": {
      "text/html": [
       "<script>require([\"d3\"], function(d3) {d3.select(\".usersvg #canvasQt1\").append(\"path\").attr(\"id\", \"pixel_arrowrPt\").attr(\"transform\", \"translate(4 14)\").attr(\"transform\", \"translate(14.5 4.5) rotate(-270)\").attr(\"d\", \"M0 0 L0 0.5 M -0.15 0.3 L0 0.5 L0.15 0.3\").attr(\"stroke-width\", \"0.1\").attr(\"stroke\", \"black\");});</script>"
      ]
     },
     "metadata": {},
     "output_type": "display_data"
    },
    {
     "data": {
      "text/html": [
       "<script>require([\"d3\"], function(d3) {d3.select(\".usersvg #canvasQt1\").append(\"path\").attr(\"id\", \"pixel_arrowJ1A\").attr(\"transform\", \"translate(4 15)\").attr(\"transform\", \"translate(15.5 4.5) rotate(-270)\").attr(\"d\", \"M0 0 L0 0.5 M -0.15 0.3 L0 0.5 L0.15 0.3\").attr(\"stroke-width\", \"0.1\").attr(\"stroke\", \"black\");});</script>"
      ]
     },
     "metadata": {},
     "output_type": "display_data"
    },
    {
     "data": {
      "text/html": [
       "<script>require([\"d3\"], function(d3) {d3.select(\".usersvg #canvasQt1\").append(\"path\").attr(\"id\", \"pixel_arrowBeJ\").attr(\"transform\", \"translate(4 16)\").attr(\"transform\", \"translate(16.5 4.5) rotate(-180)\").attr(\"d\", \"M0 0 L0 0.5 M -0.15 0.3 L0 0.5 L0.15 0.3\").attr(\"stroke-width\", \"0.1\").attr(\"stroke\", \"black\");});</script>"
      ]
     },
     "metadata": {},
     "output_type": "display_data"
    },
    {
     "data": {
      "text/html": [
       "<script>require([\"d3\"], function(d3) {d3.select(\".usersvg #canvasQt1\").append(\"path\").attr(\"id\", \"pixel_arrowFlt\").attr(\"transform\", \"translate(5 0)\").attr(\"transform\", \"translate(0.5 5.5) rotate(-90)\").attr(\"d\", \"M0 0 L0 0.5 M -0.15 0.3 L0 0.5 L0.15 0.3\").attr(\"stroke-width\", \"0.1\").attr(\"stroke\", \"black\");});</script>"
      ]
     },
     "metadata": {},
     "output_type": "display_data"
    },
    {
     "data": {
      "text/html": [
       "<script>require([\"d3\"], function(d3) {d3.select(\".usersvg #canvasQt1\").append(\"path\").attr(\"id\", \"pixel_arrowutz\").attr(\"transform\", \"translate(5 1)\").attr(\"transform\", \"translate(1.5 5.5) rotate(-90)\").attr(\"d\", \"M0 0 L0 0.5 M -0.15 0.3 L0 0.5 L0.15 0.3\").attr(\"stroke-width\", \"0.1\").attr(\"stroke\", \"black\");});</script>"
      ]
     },
     "metadata": {},
     "output_type": "display_data"
    },
    {
     "data": {
      "text/html": [
       "<script>require([\"d3\"], function(d3) {d3.select(\".usersvg #canvasQt1\").append(\"path\").attr(\"id\", \"pixel_arrowsk5\").attr(\"transform\", \"translate(5 2)\").attr(\"transform\", \"translate(2.5 5.5) rotate(-90)\").attr(\"d\", \"M0 0 L0 0.5 M -0.15 0.3 L0 0.5 L0.15 0.3\").attr(\"stroke-width\", \"0.1\").attr(\"stroke\", \"black\");});</script>"
      ]
     },
     "metadata": {},
     "output_type": "display_data"
    },
    {
     "data": {
      "text/html": [
       "<script>require([\"d3\"], function(d3) {d3.select(\".usersvg #canvasQt1\").append(\"path\").attr(\"id\", \"pixel_arrowTmV\").attr(\"transform\", \"translate(5 3)\").attr(\"transform\", \"translate(3.5 5.5) rotate(-90)\").attr(\"d\", \"M0 0 L0 0.5 M -0.15 0.3 L0 0.5 L0.15 0.3\").attr(\"stroke-width\", \"0.1\").attr(\"stroke\", \"black\");});</script>"
      ]
     },
     "metadata": {},
     "output_type": "display_data"
    },
    {
     "data": {
      "text/html": [
       "<script>require([\"d3\"], function(d3) {d3.select(\".usersvg #canvasQt1\").append(\"path\").attr(\"id\", \"pixel_arrowcmO\").attr(\"transform\", \"translate(5 4)\").attr(\"transform\", \"translate(4.5 5.5) rotate(-90)\").attr(\"d\", \"M0 0 L0 0.5 M -0.15 0.3 L0 0.5 L0.15 0.3\").attr(\"stroke-width\", \"0.1\").attr(\"stroke\", \"black\");});</script>"
      ]
     },
     "metadata": {},
     "output_type": "display_data"
    },
    {
     "data": {
      "text/html": [
       "<script>require([\"d3\"], function(d3) {d3.select(\".usersvg #canvasQt1\").append(\"path\").attr(\"id\", \"pixel_arrowKDZ\").attr(\"transform\", \"translate(5 5)\").attr(\"transform\", \"translate(5.5 5.5) rotate(-90)\").attr(\"d\", \"M0 0 L0 0.5 M -0.15 0.3 L0 0.5 L0.15 0.3\").attr(\"stroke-width\", \"0.1\").attr(\"stroke\", \"black\");});</script>"
      ]
     },
     "metadata": {},
     "output_type": "display_data"
    },
    {
     "data": {
      "text/html": [
       "<script>require([\"d3\"], function(d3) {d3.select(\".usersvg #canvasQt1\").append(\"path\").attr(\"id\", \"pixel_arrowTd2\").attr(\"transform\", \"translate(5 6)\").attr(\"transform\", \"translate(6.5 5.5) rotate(-90)\").attr(\"d\", \"M0 0 L0 0.5 M -0.15 0.3 L0 0.5 L0.15 0.3\").attr(\"stroke-width\", \"0.1\").attr(\"stroke\", \"black\");});</script>"
      ]
     },
     "metadata": {},
     "output_type": "display_data"
    },
    {
     "data": {
      "text/html": [
       "<script>require([\"d3\"], function(d3) {d3.select(\".usersvg #canvasQt1\").append(\"path\").attr(\"id\", \"pixel_arrowxdL\").attr(\"transform\", \"translate(5 7)\").attr(\"transform\", \"translate(7.5 5.5) rotate(-90)\").attr(\"d\", \"M0 0 L0 0.5 M -0.15 0.3 L0 0.5 L0.15 0.3\").attr(\"stroke-width\", \"0.1\").attr(\"stroke\", \"black\");});</script>"
      ]
     },
     "metadata": {},
     "output_type": "display_data"
    },
    {
     "data": {
      "text/html": [
       "<script>require([\"d3\"], function(d3) {d3.select(\".usersvg #canvasQt1\").append(\"path\").attr(\"id\", \"pixel_arrow5zm\").attr(\"transform\", \"translate(5 8)\").attr(\"transform\", \"translate(8.5 5.5) rotate(-180)\").attr(\"d\", \"M0 0 L0 0.5 M -0.15 0.3 L0 0.5 L0.15 0.3\").attr(\"stroke-width\", \"0.1\").attr(\"stroke\", \"black\");});</script>"
      ]
     },
     "metadata": {},
     "output_type": "display_data"
    },
    {
     "data": {
      "text/html": [
       "<script>require([\"d3\"], function(d3) {d3.select(\".usersvg #canvasQt1\").append(\"path\").attr(\"id\", \"pixel_arrowWHo\").attr(\"transform\", \"translate(5 9)\").attr(\"transform\", \"translate(9.5 5.5) rotate(-180)\").attr(\"d\", \"M0 0 L0 0.5 M -0.15 0.3 L0 0.5 L0.15 0.3\").attr(\"stroke-width\", \"0.1\").attr(\"stroke\", \"black\");});</script>"
      ]
     },
     "metadata": {},
     "output_type": "display_data"
    },
    {
     "data": {
      "text/html": [
       "<script>require([\"d3\"], function(d3) {d3.select(\".usersvg #canvasQt1\").append(\"path\").attr(\"id\", \"pixel_arrow1d9\").attr(\"transform\", \"translate(5 10)\").attr(\"transform\", \"translate(10.5 5.5) rotate(-180)\").attr(\"d\", \"M0 0 L0 0.5 M -0.15 0.3 L0 0.5 L0.15 0.3\").attr(\"stroke-width\", \"0.1\").attr(\"stroke\", \"black\");});</script>"
      ]
     },
     "metadata": {},
     "output_type": "display_data"
    },
    {
     "data": {
      "text/html": [
       "<script>require([\"d3\"], function(d3) {d3.select(\".usersvg #canvasQt1\").append(\"path\").attr(\"id\", \"pixel_arrowTjm\").attr(\"transform\", \"translate(5 11)\").attr(\"transform\", \"translate(11.5 5.5) rotate(-180)\").attr(\"d\", \"M0 0 L0 0.5 M -0.15 0.3 L0 0.5 L0.15 0.3\").attr(\"stroke-width\", \"0.1\").attr(\"stroke\", \"black\");});</script>"
      ]
     },
     "metadata": {},
     "output_type": "display_data"
    },
    {
     "data": {
      "text/html": [
       "<script>require([\"d3\"], function(d3) {d3.select(\".usersvg #canvasQt1\").append(\"path\").attr(\"id\", \"pixel_arrow1zW\").attr(\"transform\", \"translate(5 12)\").attr(\"transform\", \"translate(12.5 5.5) rotate(-180)\").attr(\"d\", \"M0 0 L0 0.5 M -0.15 0.3 L0 0.5 L0.15 0.3\").attr(\"stroke-width\", \"0.1\").attr(\"stroke\", \"black\");});</script>"
      ]
     },
     "metadata": {},
     "output_type": "display_data"
    },
    {
     "data": {
      "text/html": [
       "<script>require([\"d3\"], function(d3) {d3.select(\".usersvg #canvasQt1\").append(\"path\").attr(\"id\", \"pixel_arrow4qk\").attr(\"transform\", \"translate(5 13)\").attr(\"transform\", \"translate(13.5 5.5) rotate(-270)\").attr(\"d\", \"M0 0 L0 0.5 M -0.15 0.3 L0 0.5 L0.15 0.3\").attr(\"stroke-width\", \"0.1\").attr(\"stroke\", \"black\");});</script>"
      ]
     },
     "metadata": {},
     "output_type": "display_data"
    },
    {
     "data": {
      "text/html": [
       "<script>require([\"d3\"], function(d3) {d3.select(\".usersvg #canvasQt1\").append(\"path\").attr(\"id\", \"pixel_arrowduw\").attr(\"transform\", \"translate(5 14)\").attr(\"transform\", \"translate(14.5 5.5) rotate(-270)\").attr(\"d\", \"M0 0 L0 0.5 M -0.15 0.3 L0 0.5 L0.15 0.3\").attr(\"stroke-width\", \"0.1\").attr(\"stroke\", \"black\");});</script>"
      ]
     },
     "metadata": {},
     "output_type": "display_data"
    },
    {
     "data": {
      "text/html": [
       "<script>require([\"d3\"], function(d3) {d3.select(\".usersvg #canvasQt1\").append(\"path\").attr(\"id\", \"pixel_arrow1GD\").attr(\"transform\", \"translate(5 15)\").attr(\"transform\", \"translate(15.5 5.5) rotate(-180)\").attr(\"d\", \"M0 0 L0 0.5 M -0.15 0.3 L0 0.5 L0.15 0.3\").attr(\"stroke-width\", \"0.1\").attr(\"stroke\", \"black\");});</script>"
      ]
     },
     "metadata": {},
     "output_type": "display_data"
    },
    {
     "data": {
      "text/html": [
       "<script>require([\"d3\"], function(d3) {d3.select(\".usersvg #canvasQt1\").append(\"path\").attr(\"id\", \"pixel_arrowTKg\").attr(\"transform\", \"translate(5 16)\").attr(\"transform\", \"translate(16.5 5.5) rotate(-270)\").attr(\"d\", \"M0 0 L0 0.5 M -0.15 0.3 L0 0.5 L0.15 0.3\").attr(\"stroke-width\", \"0.1\").attr(\"stroke\", \"black\");});</script>"
      ]
     },
     "metadata": {},
     "output_type": "display_data"
    },
    {
     "data": {
      "text/html": [
       "<script>require([\"d3\"], function(d3) {d3.select(\".usersvg #canvasQt1\").append(\"path\").attr(\"id\", \"pixel_arrowrv3\").attr(\"transform\", \"translate(6 0)\").attr(\"transform\", \"translate(0.5 6.5) rotate(-90)\").attr(\"d\", \"M0 0 L0 0.5 M -0.15 0.3 L0 0.5 L0.15 0.3\").attr(\"stroke-width\", \"0.1\").attr(\"stroke\", \"black\");});</script>"
      ]
     },
     "metadata": {},
     "output_type": "display_data"
    },
    {
     "data": {
      "text/html": [
       "<script>require([\"d3\"], function(d3) {d3.select(\".usersvg #canvasQt1\").append(\"path\").attr(\"id\", \"pixel_arrowAaM\").attr(\"transform\", \"translate(6 1)\").attr(\"transform\", \"translate(1.5 6.5) rotate(-90)\").attr(\"d\", \"M0 0 L0 0.5 M -0.15 0.3 L0 0.5 L0.15 0.3\").attr(\"stroke-width\", \"0.1\").attr(\"stroke\", \"black\");});</script>"
      ]
     },
     "metadata": {},
     "output_type": "display_data"
    },
    {
     "data": {
      "text/html": [
       "<script>require([\"d3\"], function(d3) {d3.select(\".usersvg #canvasQt1\").append(\"path\").attr(\"id\", \"pixel_arrowLvC\").attr(\"transform\", \"translate(6 2)\").attr(\"transform\", \"translate(2.5 6.5) rotate(-90)\").attr(\"d\", \"M0 0 L0 0.5 M -0.15 0.3 L0 0.5 L0.15 0.3\").attr(\"stroke-width\", \"0.1\").attr(\"stroke\", \"black\");});</script>"
      ]
     },
     "metadata": {},
     "output_type": "display_data"
    },
    {
     "data": {
      "text/html": [
       "<script>require([\"d3\"], function(d3) {d3.select(\".usersvg #canvasQt1\").append(\"path\").attr(\"id\", \"pixel_arrowGFH\").attr(\"transform\", \"translate(6 3)\").attr(\"transform\", \"translate(3.5 6.5) rotate(-90)\").attr(\"d\", \"M0 0 L0 0.5 M -0.15 0.3 L0 0.5 L0.15 0.3\").attr(\"stroke-width\", \"0.1\").attr(\"stroke\", \"black\");});</script>"
      ]
     },
     "metadata": {},
     "output_type": "display_data"
    },
    {
     "data": {
      "text/html": [
       "<script>require([\"d3\"], function(d3) {d3.select(\".usersvg #canvasQt1\").append(\"path\").attr(\"id\", \"pixel_arrowRpZ\").attr(\"transform\", \"translate(6 4)\").attr(\"transform\", \"translate(4.5 6.5) rotate(-90)\").attr(\"d\", \"M0 0 L0 0.5 M -0.15 0.3 L0 0.5 L0.15 0.3\").attr(\"stroke-width\", \"0.1\").attr(\"stroke\", \"black\");});</script>"
      ]
     },
     "metadata": {},
     "output_type": "display_data"
    },
    {
     "data": {
      "text/html": [
       "<script>require([\"d3\"], function(d3) {d3.select(\".usersvg #canvasQt1\").append(\"path\").attr(\"id\", \"pixel_arrowfXX\").attr(\"transform\", \"translate(6 5)\").attr(\"transform\", \"translate(5.5 6.5) rotate(-180)\").attr(\"d\", \"M0 0 L0 0.5 M -0.15 0.3 L0 0.5 L0.15 0.3\").attr(\"stroke-width\", \"0.1\").attr(\"stroke\", \"black\");});</script>"
      ]
     },
     "metadata": {},
     "output_type": "display_data"
    },
    {
     "data": {
      "text/html": [
       "<script>require([\"d3\"], function(d3) {d3.select(\".usersvg #canvasQt1\").append(\"path\").attr(\"id\", \"pixel_arrowXIv\").attr(\"transform\", \"translate(6 6)\").attr(\"transform\", \"translate(6.5 6.5) rotate(-90)\").attr(\"d\", \"M0 0 L0 0.5 M -0.15 0.3 L0 0.5 L0.15 0.3\").attr(\"stroke-width\", \"0.1\").attr(\"stroke\", \"black\");});</script>"
      ]
     },
     "metadata": {},
     "output_type": "display_data"
    },
    {
     "data": {
      "text/html": [
       "<script>require([\"d3\"], function(d3) {d3.select(\".usersvg #canvasQt1\").append(\"path\").attr(\"id\", \"pixel_arrowssv\").attr(\"transform\", \"translate(6 7)\").attr(\"transform\", \"translate(7.5 6.5) rotate(-90)\").attr(\"d\", \"M0 0 L0 0.5 M -0.15 0.3 L0 0.5 L0.15 0.3\").attr(\"stroke-width\", \"0.1\").attr(\"stroke\", \"black\");});</script>"
      ]
     },
     "metadata": {},
     "output_type": "display_data"
    },
    {
     "data": {
      "text/html": [
       "<script>require([\"d3\"], function(d3) {d3.select(\".usersvg #canvasQt1\").append(\"path\").attr(\"id\", \"pixel_arrow0O2\").attr(\"transform\", \"translate(6 8)\").attr(\"transform\", \"translate(8.5 6.5) rotate(-180)\").attr(\"d\", \"M0 0 L0 0.5 M -0.15 0.3 L0 0.5 L0.15 0.3\").attr(\"stroke-width\", \"0.1\").attr(\"stroke\", \"black\");});</script>"
      ]
     },
     "metadata": {},
     "output_type": "display_data"
    },
    {
     "data": {
      "text/html": [
       "<script>require([\"d3\"], function(d3) {d3.select(\".usersvg #canvasQt1\").append(\"path\").attr(\"id\", \"pixel_arrowzBg\").attr(\"transform\", \"translate(6 9)\").attr(\"transform\", \"translate(9.5 6.5) rotate(-180)\").attr(\"d\", \"M0 0 L0 0.5 M -0.15 0.3 L0 0.5 L0.15 0.3\").attr(\"stroke-width\", \"0.1\").attr(\"stroke\", \"black\");});</script>"
      ]
     },
     "metadata": {},
     "output_type": "display_data"
    },
    {
     "data": {
      "text/html": [
       "<script>require([\"d3\"], function(d3) {d3.select(\".usersvg #canvasQt1\").append(\"path\").attr(\"id\", \"pixel_arrowTJZ\").attr(\"transform\", \"translate(6 10)\").attr(\"transform\", \"translate(10.5 6.5) rotate(-180)\").attr(\"d\", \"M0 0 L0 0.5 M -0.15 0.3 L0 0.5 L0.15 0.3\").attr(\"stroke-width\", \"0.1\").attr(\"stroke\", \"black\");});</script>"
      ]
     },
     "metadata": {},
     "output_type": "display_data"
    },
    {
     "data": {
      "text/html": [
       "<script>require([\"d3\"], function(d3) {d3.select(\".usersvg #canvasQt1\").append(\"path\").attr(\"id\", \"pixel_arrowpZy\").attr(\"transform\", \"translate(6 11)\").attr(\"transform\", \"translate(11.5 6.5) rotate(-180)\").attr(\"d\", \"M0 0 L0 0.5 M -0.15 0.3 L0 0.5 L0.15 0.3\").attr(\"stroke-width\", \"0.1\").attr(\"stroke\", \"black\");});</script>"
      ]
     },
     "metadata": {},
     "output_type": "display_data"
    },
    {
     "data": {
      "text/html": [
       "<script>require([\"d3\"], function(d3) {d3.select(\".usersvg #canvasQt1\").append(\"path\").attr(\"id\", \"pixel_arrowgqT\").attr(\"transform\", \"translate(6 12)\").attr(\"transform\", \"translate(12.5 6.5) rotate(-270)\").attr(\"d\", \"M0 0 L0 0.5 M -0.15 0.3 L0 0.5 L0.15 0.3\").attr(\"stroke-width\", \"0.1\").attr(\"stroke\", \"black\");});</script>"
      ]
     },
     "metadata": {},
     "output_type": "display_data"
    },
    {
     "data": {
      "text/html": [
       "<script>require([\"d3\"], function(d3) {d3.select(\".usersvg #canvasQt1\").append(\"path\").attr(\"id\", \"pixel_arrowmhk\").attr(\"transform\", \"translate(6 13)\").attr(\"transform\", \"translate(13.5 6.5) rotate(-180)\").attr(\"d\", \"M0 0 L0 0.5 M -0.15 0.3 L0 0.5 L0.15 0.3\").attr(\"stroke-width\", \"0.1\").attr(\"stroke\", \"black\");});</script>"
      ]
     },
     "metadata": {},
     "output_type": "display_data"
    },
    {
     "data": {
      "text/html": [
       "<script>require([\"d3\"], function(d3) {d3.select(\".usersvg #canvasQt1\").append(\"path\").attr(\"id\", \"pixel_arrowu3A\").attr(\"transform\", \"translate(6 14)\").attr(\"transform\", \"translate(14.5 6.5) rotate(-180)\").attr(\"d\", \"M0 0 L0 0.5 M -0.15 0.3 L0 0.5 L0.15 0.3\").attr(\"stroke-width\", \"0.1\").attr(\"stroke\", \"black\");});</script>"
      ]
     },
     "metadata": {},
     "output_type": "display_data"
    },
    {
     "data": {
      "text/html": [
       "<script>require([\"d3\"], function(d3) {d3.select(\".usersvg #canvasQt1\").append(\"path\").attr(\"id\", \"pixel_arrowKbn\").attr(\"transform\", \"translate(6 15)\").attr(\"transform\", \"translate(15.5 6.5) rotate(-270)\").attr(\"d\", \"M0 0 L0 0.5 M -0.15 0.3 L0 0.5 L0.15 0.3\").attr(\"stroke-width\", \"0.1\").attr(\"stroke\", \"black\");});</script>"
      ]
     },
     "metadata": {},
     "output_type": "display_data"
    },
    {
     "data": {
      "text/html": [
       "<script>require([\"d3\"], function(d3) {d3.select(\".usersvg #canvasQt1\").append(\"path\").attr(\"id\", \"pixel_arrowHVk\").attr(\"transform\", \"translate(6 16)\").attr(\"transform\", \"translate(16.5 6.5) rotate(-180)\").attr(\"d\", \"M0 0 L0 0.5 M -0.15 0.3 L0 0.5 L0.15 0.3\").attr(\"stroke-width\", \"0.1\").attr(\"stroke\", \"black\");});</script>"
      ]
     },
     "metadata": {},
     "output_type": "display_data"
    },
    {
     "data": {
      "text/html": [
       "<script>require([\"d3\"], function(d3) {d3.select(\".usersvg #canvasQt1\").append(\"path\").attr(\"id\", \"pixel_arrowOvW\").attr(\"transform\", \"translate(7 0)\").attr(\"transform\", \"translate(0.5 7.5) rotate(-90)\").attr(\"d\", \"M0 0 L0 0.5 M -0.15 0.3 L0 0.5 L0.15 0.3\").attr(\"stroke-width\", \"0.1\").attr(\"stroke\", \"black\");});</script>"
      ]
     },
     "metadata": {},
     "output_type": "display_data"
    },
    {
     "data": {
      "text/html": [
       "<script>require([\"d3\"], function(d3) {d3.select(\".usersvg #canvasQt1\").append(\"path\").attr(\"id\", \"pixel_arrowzVh\").attr(\"transform\", \"translate(7 1)\").attr(\"transform\", \"translate(1.5 7.5) rotate(-90)\").attr(\"d\", \"M0 0 L0 0.5 M -0.15 0.3 L0 0.5 L0.15 0.3\").attr(\"stroke-width\", \"0.1\").attr(\"stroke\", \"black\");});</script>"
      ]
     },
     "metadata": {},
     "output_type": "display_data"
    },
    {
     "data": {
      "text/html": [
       "<script>require([\"d3\"], function(d3) {d3.select(\".usersvg #canvasQt1\").append(\"path\").attr(\"id\", \"pixel_arrowpU7\").attr(\"transform\", \"translate(7 2)\").attr(\"transform\", \"translate(2.5 7.5) rotate(-90)\").attr(\"d\", \"M0 0 L0 0.5 M -0.15 0.3 L0 0.5 L0.15 0.3\").attr(\"stroke-width\", \"0.1\").attr(\"stroke\", \"black\");});</script>"
      ]
     },
     "metadata": {},
     "output_type": "display_data"
    },
    {
     "data": {
      "text/html": [
       "<script>require([\"d3\"], function(d3) {d3.select(\".usersvg #canvasQt1\").append(\"path\").attr(\"id\", \"pixel_arrowjaR\").attr(\"transform\", \"translate(7 3)\").attr(\"transform\", \"translate(3.5 7.5) rotate(-90)\").attr(\"d\", \"M0 0 L0 0.5 M -0.15 0.3 L0 0.5 L0.15 0.3\").attr(\"stroke-width\", \"0.1\").attr(\"stroke\", \"black\");});</script>"
      ]
     },
     "metadata": {},
     "output_type": "display_data"
    },
    {
     "data": {
      "text/html": [
       "<script>require([\"d3\"], function(d3) {d3.select(\".usersvg #canvasQt1\").append(\"path\").attr(\"id\", \"pixel_arrowFyv\").attr(\"transform\", \"translate(7 4)\").attr(\"transform\", \"translate(4.5 7.5) rotate(-180)\").attr(\"d\", \"M0 0 L0 0.5 M -0.15 0.3 L0 0.5 L0.15 0.3\").attr(\"stroke-width\", \"0.1\").attr(\"stroke\", \"black\");});</script>"
      ]
     },
     "metadata": {},
     "output_type": "display_data"
    },
    {
     "data": {
      "text/html": [
       "<script>require([\"d3\"], function(d3) {d3.select(\".usersvg #canvasQt1\").append(\"path\").attr(\"id\", \"pixel_arrowYiK\").attr(\"transform\", \"translate(7 5)\").attr(\"transform\", \"translate(5.5 7.5) rotate(-90)\").attr(\"d\", \"M0 0 L0 0.5 M -0.15 0.3 L0 0.5 L0.15 0.3\").attr(\"stroke-width\", \"0.1\").attr(\"stroke\", \"black\");});</script>"
      ]
     },
     "metadata": {},
     "output_type": "display_data"
    },
    {
     "data": {
      "text/html": [
       "<script>require([\"d3\"], function(d3) {d3.select(\".usersvg #canvasQt1\").append(\"path\").attr(\"id\", \"pixel_arrowaaG\").attr(\"transform\", \"translate(7 6)\").attr(\"transform\", \"translate(6.5 7.5) rotate(-90)\").attr(\"d\", \"M0 0 L0 0.5 M -0.15 0.3 L0 0.5 L0.15 0.3\").attr(\"stroke-width\", \"0.1\").attr(\"stroke\", \"black\");});</script>"
      ]
     },
     "metadata": {},
     "output_type": "display_data"
    },
    {
     "data": {
      "text/html": [
       "<script>require([\"d3\"], function(d3) {d3.select(\".usersvg #canvasQt1\").append(\"path\").attr(\"id\", \"pixel_arrowcBQ\").attr(\"transform\", \"translate(7 7)\").attr(\"transform\", \"translate(7.5 7.5) rotate(-180)\").attr(\"d\", \"M0 0 L0 0.5 M -0.15 0.3 L0 0.5 L0.15 0.3\").attr(\"stroke-width\", \"0.1\").attr(\"stroke\", \"black\");});</script>"
      ]
     },
     "metadata": {},
     "output_type": "display_data"
    },
    {
     "data": {
      "text/html": [
       "<script>require([\"d3\"], function(d3) {d3.select(\".usersvg #canvasQt1\").append(\"path\").attr(\"id\", \"pixel_arrowa1r\").attr(\"transform\", \"translate(7 8)\").attr(\"transform\", \"translate(8.5 7.5) rotate(-180)\").attr(\"d\", \"M0 0 L0 0.5 M -0.15 0.3 L0 0.5 L0.15 0.3\").attr(\"stroke-width\", \"0.1\").attr(\"stroke\", \"black\");});</script>"
      ]
     },
     "metadata": {},
     "output_type": "display_data"
    },
    {
     "data": {
      "text/html": [
       "<script>require([\"d3\"], function(d3) {d3.select(\".usersvg #canvasQt1\").append(\"path\").attr(\"id\", \"pixel_arrowBL8\").attr(\"transform\", \"translate(7 9)\").attr(\"transform\", \"translate(9.5 7.5) rotate(-180)\").attr(\"d\", \"M0 0 L0 0.5 M -0.15 0.3 L0 0.5 L0.15 0.3\").attr(\"stroke-width\", \"0.1\").attr(\"stroke\", \"black\");});</script>"
      ]
     },
     "metadata": {},
     "output_type": "display_data"
    },
    {
     "data": {
      "text/html": [
       "<script>require([\"d3\"], function(d3) {d3.select(\".usersvg #canvasQt1\").append(\"path\").attr(\"id\", \"pixel_arrowWHb\").attr(\"transform\", \"translate(7 10)\").attr(\"transform\", \"translate(10.5 7.5) rotate(-180)\").attr(\"d\", \"M0 0 L0 0.5 M -0.15 0.3 L0 0.5 L0.15 0.3\").attr(\"stroke-width\", \"0.1\").attr(\"stroke\", \"black\");});</script>"
      ]
     },
     "metadata": {},
     "output_type": "display_data"
    },
    {
     "data": {
      "text/html": [
       "<script>require([\"d3\"], function(d3) {d3.select(\".usersvg #canvasQt1\").append(\"path\").attr(\"id\", \"pixel_arrowB4K\").attr(\"transform\", \"translate(7 11)\").attr(\"transform\", \"translate(11.5 7.5) rotate(-180)\").attr(\"d\", \"M0 0 L0 0.5 M -0.15 0.3 L0 0.5 L0.15 0.3\").attr(\"stroke-width\", \"0.1\").attr(\"stroke\", \"black\");});</script>"
      ]
     },
     "metadata": {},
     "output_type": "display_data"
    },
    {
     "data": {
      "text/html": [
       "<script>require([\"d3\"], function(d3) {d3.select(\".usersvg #canvasQt1\").append(\"path\").attr(\"id\", \"pixel_arrowy1D\").attr(\"transform\", \"translate(7 12)\").attr(\"transform\", \"translate(12.5 7.5) rotate(-270)\").attr(\"d\", \"M0 0 L0 0.5 M -0.15 0.3 L0 0.5 L0.15 0.3\").attr(\"stroke-width\", \"0.1\").attr(\"stroke\", \"black\");});</script>"
      ]
     },
     "metadata": {},
     "output_type": "display_data"
    },
    {
     "data": {
      "text/html": [
       "<script>require([\"d3\"], function(d3) {d3.select(\".usersvg #canvasQt1\").append(\"path\").attr(\"id\", \"pixel_arrowE7e\").attr(\"transform\", \"translate(7 13)\").attr(\"transform\", \"translate(13.5 7.5) rotate(-180)\").attr(\"d\", \"M0 0 L0 0.5 M -0.15 0.3 L0 0.5 L0.15 0.3\").attr(\"stroke-width\", \"0.1\").attr(\"stroke\", \"black\");});</script>"
      ]
     },
     "metadata": {},
     "output_type": "display_data"
    },
    {
     "data": {
      "text/html": [
       "<script>require([\"d3\"], function(d3) {d3.select(\".usersvg #canvasQt1\").append(\"path\").attr(\"id\", \"pixel_arrowZnE\").attr(\"transform\", \"translate(7 14)\").attr(\"transform\", \"translate(14.5 7.5) rotate(-270)\").attr(\"d\", \"M0 0 L0 0.5 M -0.15 0.3 L0 0.5 L0.15 0.3\").attr(\"stroke-width\", \"0.1\").attr(\"stroke\", \"black\");});</script>"
      ]
     },
     "metadata": {},
     "output_type": "display_data"
    },
    {
     "data": {
      "text/html": [
       "<script>require([\"d3\"], function(d3) {d3.select(\".usersvg #canvasQt1\").append(\"path\").attr(\"id\", \"pixel_arrowfVU\").attr(\"transform\", \"translate(7 15)\").attr(\"transform\", \"translate(15.5 7.5) rotate(-270)\").attr(\"d\", \"M0 0 L0 0.5 M -0.15 0.3 L0 0.5 L0.15 0.3\").attr(\"stroke-width\", \"0.1\").attr(\"stroke\", \"black\");});</script>"
      ]
     },
     "metadata": {},
     "output_type": "display_data"
    },
    {
     "data": {
      "text/html": [
       "<script>require([\"d3\"], function(d3) {d3.select(\".usersvg #canvasQt1\").append(\"path\").attr(\"id\", \"pixel_arrowl3G\").attr(\"transform\", \"translate(7 16)\").attr(\"transform\", \"translate(16.5 7.5) rotate(-270)\").attr(\"d\", \"M0 0 L0 0.5 M -0.15 0.3 L0 0.5 L0.15 0.3\").attr(\"stroke-width\", \"0.1\").attr(\"stroke\", \"black\");});</script>"
      ]
     },
     "metadata": {},
     "output_type": "display_data"
    },
    {
     "data": {
      "text/html": [
       "<script>require([\"d3\"], function(d3) {d3.select(\".usersvg #canvasQt1\").append(\"path\").attr(\"id\", \"pixel_arrowJf8\").attr(\"transform\", \"translate(8 0)\").attr(\"transform\", \"translate(0.5 8.5) rotate(-90)\").attr(\"d\", \"M0 0 L0 0.5 M -0.15 0.3 L0 0.5 L0.15 0.3\").attr(\"stroke-width\", \"0.1\").attr(\"stroke\", \"black\");});</script>"
      ]
     },
     "metadata": {},
     "output_type": "display_data"
    },
    {
     "data": {
      "text/html": [
       "<script>require([\"d3\"], function(d3) {d3.select(\".usersvg #canvasQt1\").append(\"path\").attr(\"id\", \"pixel_arrow4Jg\").attr(\"transform\", \"translate(8 1)\").attr(\"transform\", \"translate(1.5 8.5) rotate(-90)\").attr(\"d\", \"M0 0 L0 0.5 M -0.15 0.3 L0 0.5 L0.15 0.3\").attr(\"stroke-width\", \"0.1\").attr(\"stroke\", \"black\");});</script>"
      ]
     },
     "metadata": {},
     "output_type": "display_data"
    },
    {
     "data": {
      "text/html": [
       "<script>require([\"d3\"], function(d3) {d3.select(\".usersvg #canvasQt1\").append(\"path\").attr(\"id\", \"pixel_arrowo8v\").attr(\"transform\", \"translate(8 2)\").attr(\"transform\", \"translate(2.5 8.5) rotate(-90)\").attr(\"d\", \"M0 0 L0 0.5 M -0.15 0.3 L0 0.5 L0.15 0.3\").attr(\"stroke-width\", \"0.1\").attr(\"stroke\", \"black\");});</script>"
      ]
     },
     "metadata": {},
     "output_type": "display_data"
    },
    {
     "data": {
      "text/html": [
       "<script>require([\"d3\"], function(d3) {d3.select(\".usersvg #canvasQt1\").append(\"path\").attr(\"id\", \"pixel_arrowQ7c\").attr(\"transform\", \"translate(8 3)\").attr(\"transform\", \"translate(3.5 8.5) rotate(-360)\").attr(\"d\", \"M0 0 L0 0.5 M -0.15 0.3 L0 0.5 L0.15 0.3\").attr(\"stroke-width\", \"0.1\").attr(\"stroke\", \"black\");});</script>"
      ]
     },
     "metadata": {},
     "output_type": "display_data"
    },
    {
     "data": {
      "text/html": [
       "<script>require([\"d3\"], function(d3) {d3.select(\".usersvg #canvasQt1\").append(\"path\").attr(\"id\", \"pixel_arrowtyU\").attr(\"transform\", \"translate(8 4)\").attr(\"transform\", \"translate(4.5 8.5) rotate(-180)\").attr(\"d\", \"M0 0 L0 0.5 M -0.15 0.3 L0 0.5 L0.15 0.3\").attr(\"stroke-width\", \"0.1\").attr(\"stroke\", \"black\");});</script>"
      ]
     },
     "metadata": {},
     "output_type": "display_data"
    },
    {
     "data": {
      "text/html": [
       "<script>require([\"d3\"], function(d3) {d3.select(\".usersvg #canvasQt1\").append(\"path\").attr(\"id\", \"pixel_arrowbfA\").attr(\"transform\", \"translate(8 5)\").attr(\"transform\", \"translate(5.5 8.5) rotate(-90)\").attr(\"d\", \"M0 0 L0 0.5 M -0.15 0.3 L0 0.5 L0.15 0.3\").attr(\"stroke-width\", \"0.1\").attr(\"stroke\", \"black\");});</script>"
      ]
     },
     "metadata": {},
     "output_type": "display_data"
    },
    {
     "data": {
      "text/html": [
       "<script>require([\"d3\"], function(d3) {d3.select(\".usersvg #canvasQt1\").append(\"path\").attr(\"id\", \"pixel_arrow2tZ\").attr(\"transform\", \"translate(8 6)\").attr(\"transform\", \"translate(6.5 8.5) rotate(-180)\").attr(\"d\", \"M0 0 L0 0.5 M -0.15 0.3 L0 0.5 L0.15 0.3\").attr(\"stroke-width\", \"0.1\").attr(\"stroke\", \"black\");});</script>"
      ]
     },
     "metadata": {},
     "output_type": "display_data"
    },
    {
     "data": {
      "text/html": [
       "<script>require([\"d3\"], function(d3) {d3.select(\".usersvg #canvasQt1\").append(\"path\").attr(\"id\", \"pixel_arrowhfO\").attr(\"transform\", \"translate(8 7)\").attr(\"transform\", \"translate(7.5 8.5) rotate(-180)\").attr(\"d\", \"M0 0 L0 0.5 M -0.15 0.3 L0 0.5 L0.15 0.3\").attr(\"stroke-width\", \"0.1\").attr(\"stroke\", \"black\");});</script>"
      ]
     },
     "metadata": {},
     "output_type": "display_data"
    },
    {
     "data": {
      "text/html": [
       "<script>require([\"d3\"], function(d3) {d3.select(\".usersvg #canvasQt1\").append(\"path\").attr(\"id\", \"pixel_arrowk5f\").attr(\"transform\", \"translate(8 8)\").attr(\"transform\", \"translate(8.5 8.5) rotate(-270)\").attr(\"d\", \"M0 0 L0 0.5 M -0.15 0.3 L0 0.5 L0.15 0.3\").attr(\"stroke-width\", \"0.1\").attr(\"stroke\", \"black\");});</script>"
      ]
     },
     "metadata": {},
     "output_type": "display_data"
    },
    {
     "data": {
      "text/html": [
       "<script>require([\"d3\"], function(d3) {d3.select(\".usersvg #canvasQt1\").append(\"path\").attr(\"id\", \"pixel_arrowc9u\").attr(\"transform\", \"translate(8 9)\").attr(\"transform\", \"translate(9.5 8.5) rotate(-180)\").attr(\"d\", \"M0 0 L0 0.5 M -0.15 0.3 L0 0.5 L0.15 0.3\").attr(\"stroke-width\", \"0.1\").attr(\"stroke\", \"black\");});</script>"
      ]
     },
     "metadata": {},
     "output_type": "display_data"
    },
    {
     "data": {
      "text/html": [
       "<script>require([\"d3\"], function(d3) {d3.select(\".usersvg #canvasQt1\").append(\"path\").attr(\"id\", \"pixel_arrowOhY\").attr(\"transform\", \"translate(8 10)\").attr(\"transform\", \"translate(10.5 8.5) rotate(-270)\").attr(\"d\", \"M0 0 L0 0.5 M -0.15 0.3 L0 0.5 L0.15 0.3\").attr(\"stroke-width\", \"0.1\").attr(\"stroke\", \"black\");});</script>"
      ]
     },
     "metadata": {},
     "output_type": "display_data"
    },
    {
     "data": {
      "text/html": [
       "<script>require([\"d3\"], function(d3) {d3.select(\".usersvg #canvasQt1\").append(\"path\").attr(\"id\", \"pixel_arrowdAi\").attr(\"transform\", \"translate(8 11)\").attr(\"transform\", \"translate(11.5 8.5) rotate(-180)\").attr(\"d\", \"M0 0 L0 0.5 M -0.15 0.3 L0 0.5 L0.15 0.3\").attr(\"stroke-width\", \"0.1\").attr(\"stroke\", \"black\");});</script>"
      ]
     },
     "metadata": {},
     "output_type": "display_data"
    },
    {
     "data": {
      "text/html": [
       "<script>require([\"d3\"], function(d3) {d3.select(\".usersvg #canvasQt1\").append(\"path\").attr(\"id\", \"pixel_arrowPGM\").attr(\"transform\", \"translate(8 12)\").attr(\"transform\", \"translate(12.5 8.5) rotate(-180)\").attr(\"d\", \"M0 0 L0 0.5 M -0.15 0.3 L0 0.5 L0.15 0.3\").attr(\"stroke-width\", \"0.1\").attr(\"stroke\", \"black\");});</script>"
      ]
     },
     "metadata": {},
     "output_type": "display_data"
    },
    {
     "data": {
      "text/html": [
       "<script>require([\"d3\"], function(d3) {d3.select(\".usersvg #canvasQt1\").append(\"path\").attr(\"id\", \"pixel_arrow6id\").attr(\"transform\", \"translate(8 13)\").attr(\"transform\", \"translate(13.5 8.5) rotate(-180)\").attr(\"d\", \"M0 0 L0 0.5 M -0.15 0.3 L0 0.5 L0.15 0.3\").attr(\"stroke-width\", \"0.1\").attr(\"stroke\", \"black\");});</script>"
      ]
     },
     "metadata": {},
     "output_type": "display_data"
    },
    {
     "data": {
      "text/html": [
       "<script>require([\"d3\"], function(d3) {d3.select(\".usersvg #canvasQt1\").append(\"path\").attr(\"id\", \"pixel_arrowaK9\").attr(\"transform\", \"translate(8 14)\").attr(\"transform\", \"translate(14.5 8.5) rotate(-270)\").attr(\"d\", \"M0 0 L0 0.5 M -0.15 0.3 L0 0.5 L0.15 0.3\").attr(\"stroke-width\", \"0.1\").attr(\"stroke\", \"black\");});</script>"
      ]
     },
     "metadata": {},
     "output_type": "display_data"
    },
    {
     "data": {
      "text/html": [
       "<script>require([\"d3\"], function(d3) {d3.select(\".usersvg #canvasQt1\").append(\"path\").attr(\"id\", \"pixel_arrow4Zt\").attr(\"transform\", \"translate(8 15)\").attr(\"transform\", \"translate(15.5 8.5) rotate(-180)\").attr(\"d\", \"M0 0 L0 0.5 M -0.15 0.3 L0 0.5 L0.15 0.3\").attr(\"stroke-width\", \"0.1\").attr(\"stroke\", \"black\");});</script>"
      ]
     },
     "metadata": {},
     "output_type": "display_data"
    },
    {
     "data": {
      "text/html": [
       "<script>require([\"d3\"], function(d3) {d3.select(\".usersvg #canvasQt1\").append(\"path\").attr(\"id\", \"pixel_arrow8G4\").attr(\"transform\", \"translate(8 16)\").attr(\"transform\", \"translate(16.5 8.5) rotate(-180)\").attr(\"d\", \"M0 0 L0 0.5 M -0.15 0.3 L0 0.5 L0.15 0.3\").attr(\"stroke-width\", \"0.1\").attr(\"stroke\", \"black\");});</script>"
      ]
     },
     "metadata": {},
     "output_type": "display_data"
    },
    {
     "data": {
      "text/html": [
       "<script>require([\"d3\"], function(d3) {d3.select(\".usersvg #canvasQt1\").append(\"path\").attr(\"id\", \"pixel_arrow49q\").attr(\"transform\", \"translate(9 0)\").attr(\"transform\", \"translate(0.5 9.5) rotate(-90)\").attr(\"d\", \"M0 0 L0 0.5 M -0.15 0.3 L0 0.5 L0.15 0.3\").attr(\"stroke-width\", \"0.1\").attr(\"stroke\", \"black\");});</script>"
      ]
     },
     "metadata": {},
     "output_type": "display_data"
    },
    {
     "data": {
      "text/html": [
       "<script>require([\"d3\"], function(d3) {d3.select(\".usersvg #canvasQt1\").append(\"path\").attr(\"id\", \"pixel_arrowQUR\").attr(\"transform\", \"translate(9 1)\").attr(\"transform\", \"translate(1.5 9.5) rotate(-90)\").attr(\"d\", \"M0 0 L0 0.5 M -0.15 0.3 L0 0.5 L0.15 0.3\").attr(\"stroke-width\", \"0.1\").attr(\"stroke\", \"black\");});</script>"
      ]
     },
     "metadata": {},
     "output_type": "display_data"
    },
    {
     "data": {
      "text/html": [
       "<script>require([\"d3\"], function(d3) {d3.select(\".usersvg #canvasQt1\").append(\"path\").attr(\"id\", \"pixel_arrowHsn\").attr(\"transform\", \"translate(9 2)\").attr(\"transform\", \"translate(2.5 9.5) rotate(-90)\").attr(\"d\", \"M0 0 L0 0.5 M -0.15 0.3 L0 0.5 L0.15 0.3\").attr(\"stroke-width\", \"0.1\").attr(\"stroke\", \"black\");});</script>"
      ]
     },
     "metadata": {},
     "output_type": "display_data"
    },
    {
     "data": {
      "text/html": [
       "<script>require([\"d3\"], function(d3) {d3.select(\".usersvg #canvasQt1\").append(\"path\").attr(\"id\", \"pixel_arrowD8h\").attr(\"transform\", \"translate(9 3)\").attr(\"transform\", \"translate(3.5 9.5) rotate(-180)\").attr(\"d\", \"M0 0 L0 0.5 M -0.15 0.3 L0 0.5 L0.15 0.3\").attr(\"stroke-width\", \"0.1\").attr(\"stroke\", \"black\");});</script>"
      ]
     },
     "metadata": {},
     "output_type": "display_data"
    },
    {
     "data": {
      "text/html": [
       "<script>require([\"d3\"], function(d3) {d3.select(\".usersvg #canvasQt1\").append(\"path\").attr(\"id\", \"pixel_arrowivz\").attr(\"transform\", \"translate(9 4)\").attr(\"transform\", \"translate(4.5 9.5) rotate(-270)\").attr(\"d\", \"M0 0 L0 0.5 M -0.15 0.3 L0 0.5 L0.15 0.3\").attr(\"stroke-width\", \"0.1\").attr(\"stroke\", \"black\");});</script>"
      ]
     },
     "metadata": {},
     "output_type": "display_data"
    },
    {
     "data": {
      "text/html": [
       "<script>require([\"d3\"], function(d3) {d3.select(\".usersvg #canvasQt1\").append(\"path\").attr(\"id\", \"pixel_arrow9RO\").attr(\"transform\", \"translate(9 5)\").attr(\"transform\", \"translate(5.5 9.5) rotate(-180)\").attr(\"d\", \"M0 0 L0 0.5 M -0.15 0.3 L0 0.5 L0.15 0.3\").attr(\"stroke-width\", \"0.1\").attr(\"stroke\", \"black\");});</script>"
      ]
     },
     "metadata": {},
     "output_type": "display_data"
    },
    {
     "data": {
      "text/html": [
       "<script>require([\"d3\"], function(d3) {d3.select(\".usersvg #canvasQt1\").append(\"path\").attr(\"id\", \"pixel_arrowRFG\").attr(\"transform\", \"translate(9 6)\").attr(\"transform\", \"translate(6.5 9.5) rotate(-180)\").attr(\"d\", \"M0 0 L0 0.5 M -0.15 0.3 L0 0.5 L0.15 0.3\").attr(\"stroke-width\", \"0.1\").attr(\"stroke\", \"black\");});</script>"
      ]
     },
     "metadata": {},
     "output_type": "display_data"
    },
    {
     "data": {
      "text/html": [
       "<script>require([\"d3\"], function(d3) {d3.select(\".usersvg #canvasQt1\").append(\"path\").attr(\"id\", \"pixel_arrowuDw\").attr(\"transform\", \"translate(9 7)\").attr(\"transform\", \"translate(7.5 9.5) rotate(-270)\").attr(\"d\", \"M0 0 L0 0.5 M -0.15 0.3 L0 0.5 L0.15 0.3\").attr(\"stroke-width\", \"0.1\").attr(\"stroke\", \"black\");});</script>"
      ]
     },
     "metadata": {},
     "output_type": "display_data"
    },
    {
     "data": {
      "text/html": [
       "<script>require([\"d3\"], function(d3) {d3.select(\".usersvg #canvasQt1\").append(\"path\").attr(\"id\", \"pixel_arrowdqx\").attr(\"transform\", \"translate(9 8)\").attr(\"transform\", \"translate(8.5 9.5) rotate(-270)\").attr(\"d\", \"M0 0 L0 0.5 M -0.15 0.3 L0 0.5 L0.15 0.3\").attr(\"stroke-width\", \"0.1\").attr(\"stroke\", \"black\");});</script>"
      ]
     },
     "metadata": {},
     "output_type": "display_data"
    },
    {
     "data": {
      "text/html": [
       "<script>require([\"d3\"], function(d3) {d3.select(\".usersvg #canvasQt1\").append(\"path\").attr(\"id\", \"pixel_arrowZ0r\").attr(\"transform\", \"translate(9 9)\").attr(\"transform\", \"translate(9.5 9.5) rotate(-270)\").attr(\"d\", \"M0 0 L0 0.5 M -0.15 0.3 L0 0.5 L0.15 0.3\").attr(\"stroke-width\", \"0.1\").attr(\"stroke\", \"black\");});</script>"
      ]
     },
     "metadata": {},
     "output_type": "display_data"
    },
    {
     "data": {
      "text/html": [
       "<script>require([\"d3\"], function(d3) {d3.select(\".usersvg #canvasQt1\").append(\"path\").attr(\"id\", \"pixel_arrowpZb\").attr(\"transform\", \"translate(9 10)\").attr(\"transform\", \"translate(10.5 9.5) rotate(-180)\").attr(\"d\", \"M0 0 L0 0.5 M -0.15 0.3 L0 0.5 L0.15 0.3\").attr(\"stroke-width\", \"0.1\").attr(\"stroke\", \"black\");});</script>"
      ]
     },
     "metadata": {},
     "output_type": "display_data"
    },
    {
     "data": {
      "text/html": [
       "<script>require([\"d3\"], function(d3) {d3.select(\".usersvg #canvasQt1\").append(\"path\").attr(\"id\", \"pixel_arrow2f8\").attr(\"transform\", \"translate(9 11)\").attr(\"transform\", \"translate(11.5 9.5) rotate(-180)\").attr(\"d\", \"M0 0 L0 0.5 M -0.15 0.3 L0 0.5 L0.15 0.3\").attr(\"stroke-width\", \"0.1\").attr(\"stroke\", \"black\");});</script>"
      ]
     },
     "metadata": {},
     "output_type": "display_data"
    },
    {
     "data": {
      "text/html": [
       "<script>require([\"d3\"], function(d3) {d3.select(\".usersvg #canvasQt1\").append(\"path\").attr(\"id\", \"pixel_arroweY7\").attr(\"transform\", \"translate(9 12)\").attr(\"transform\", \"translate(12.5 9.5) rotate(-180)\").attr(\"d\", \"M0 0 L0 0.5 M -0.15 0.3 L0 0.5 L0.15 0.3\").attr(\"stroke-width\", \"0.1\").attr(\"stroke\", \"black\");});</script>"
      ]
     },
     "metadata": {},
     "output_type": "display_data"
    },
    {
     "data": {
      "text/html": [
       "<script>require([\"d3\"], function(d3) {d3.select(\".usersvg #canvasQt1\").append(\"path\").attr(\"id\", \"pixel_arrow0TZ\").attr(\"transform\", \"translate(9 13)\").attr(\"transform\", \"translate(13.5 9.5) rotate(-180)\").attr(\"d\", \"M0 0 L0 0.5 M -0.15 0.3 L0 0.5 L0.15 0.3\").attr(\"stroke-width\", \"0.1\").attr(\"stroke\", \"black\");});</script>"
      ]
     },
     "metadata": {},
     "output_type": "display_data"
    },
    {
     "data": {
      "text/html": [
       "<script>require([\"d3\"], function(d3) {d3.select(\".usersvg #canvasQt1\").append(\"path\").attr(\"id\", \"pixel_arrowktX\").attr(\"transform\", \"translate(9 14)\").attr(\"transform\", \"translate(14.5 9.5) rotate(-270)\").attr(\"d\", \"M0 0 L0 0.5 M -0.15 0.3 L0 0.5 L0.15 0.3\").attr(\"stroke-width\", \"0.1\").attr(\"stroke\", \"black\");});</script>"
      ]
     },
     "metadata": {},
     "output_type": "display_data"
    },
    {
     "data": {
      "text/html": [
       "<script>require([\"d3\"], function(d3) {d3.select(\".usersvg #canvasQt1\").append(\"path\").attr(\"id\", \"pixel_arrowBfF\").attr(\"transform\", \"translate(9 15)\").attr(\"transform\", \"translate(15.5 9.5) rotate(-270)\").attr(\"d\", \"M0 0 L0 0.5 M -0.15 0.3 L0 0.5 L0.15 0.3\").attr(\"stroke-width\", \"0.1\").attr(\"stroke\", \"black\");});</script>"
      ]
     },
     "metadata": {},
     "output_type": "display_data"
    },
    {
     "data": {
      "text/html": [
       "<script>require([\"d3\"], function(d3) {d3.select(\".usersvg #canvasQt1\").append(\"path\").attr(\"id\", \"pixel_arrowZxi\").attr(\"transform\", \"translate(9 16)\").attr(\"transform\", \"translate(16.5 9.5) rotate(-180)\").attr(\"d\", \"M0 0 L0 0.5 M -0.15 0.3 L0 0.5 L0.15 0.3\").attr(\"stroke-width\", \"0.1\").attr(\"stroke\", \"black\");});</script>"
      ]
     },
     "metadata": {},
     "output_type": "display_data"
    },
    {
     "data": {
      "text/html": [
       "<script>require([\"d3\"], function(d3) {d3.select(\".usersvg #canvasQt1\").append(\"path\").attr(\"id\", \"pixel_arrowO9v\").attr(\"transform\", \"translate(10 0)\").attr(\"transform\", \"translate(0.5 10.5) rotate(-180)\").attr(\"d\", \"M0 0 L0 0.5 M -0.15 0.3 L0 0.5 L0.15 0.3\").attr(\"stroke-width\", \"0.1\").attr(\"stroke\", \"black\");});</script>"
      ]
     },
     "metadata": {},
     "output_type": "display_data"
    },
    {
     "data": {
      "text/html": [
       "<script>require([\"d3\"], function(d3) {d3.select(\".usersvg #canvasQt1\").append(\"path\").attr(\"id\", \"pixel_arrowWvs\").attr(\"transform\", \"translate(10 1)\").attr(\"transform\", \"translate(1.5 10.5) rotate(-90)\").attr(\"d\", \"M0 0 L0 0.5 M -0.15 0.3 L0 0.5 L0.15 0.3\").attr(\"stroke-width\", \"0.1\").attr(\"stroke\", \"black\");});</script>"
      ]
     },
     "metadata": {},
     "output_type": "display_data"
    },
    {
     "data": {
      "text/html": [
       "<script>require([\"d3\"], function(d3) {d3.select(\".usersvg #canvasQt1\").append(\"path\").attr(\"id\", \"pixel_arrowMfg\").attr(\"transform\", \"translate(10 2)\").attr(\"transform\", \"translate(2.5 10.5) rotate(-180)\").attr(\"d\", \"M0 0 L0 0.5 M -0.15 0.3 L0 0.5 L0.15 0.3\").attr(\"stroke-width\", \"0.1\").attr(\"stroke\", \"black\");});</script>"
      ]
     },
     "metadata": {},
     "output_type": "display_data"
    },
    {
     "data": {
      "text/html": [
       "<script>require([\"d3\"], function(d3) {d3.select(\".usersvg #canvasQt1\").append(\"path\").attr(\"id\", \"pixel_arrownsN\").attr(\"transform\", \"translate(10 3)\").attr(\"transform\", \"translate(3.5 10.5) rotate(-180)\").attr(\"d\", \"M0 0 L0 0.5 M -0.15 0.3 L0 0.5 L0.15 0.3\").attr(\"stroke-width\", \"0.1\").attr(\"stroke\", \"black\");});</script>"
      ]
     },
     "metadata": {},
     "output_type": "display_data"
    },
    {
     "data": {
      "text/html": [
       "<script>require([\"d3\"], function(d3) {d3.select(\".usersvg #canvasQt1\").append(\"path\").attr(\"id\", \"pixel_arrowr4d\").attr(\"transform\", \"translate(10 4)\").attr(\"transform\", \"translate(4.5 10.5) rotate(-180)\").attr(\"d\", \"M0 0 L0 0.5 M -0.15 0.3 L0 0.5 L0.15 0.3\").attr(\"stroke-width\", \"0.1\").attr(\"stroke\", \"black\");});</script>"
      ]
     },
     "metadata": {},
     "output_type": "display_data"
    },
    {
     "data": {
      "text/html": [
       "<script>require([\"d3\"], function(d3) {d3.select(\".usersvg #canvasQt1\").append(\"path\").attr(\"id\", \"pixel_arrowNQz\").attr(\"transform\", \"translate(10 5)\").attr(\"transform\", \"translate(5.5 10.5) rotate(-180)\").attr(\"d\", \"M0 0 L0 0.5 M -0.15 0.3 L0 0.5 L0.15 0.3\").attr(\"stroke-width\", \"0.1\").attr(\"stroke\", \"black\");});</script>"
      ]
     },
     "metadata": {},
     "output_type": "display_data"
    },
    {
     "data": {
      "text/html": [
       "<script>require([\"d3\"], function(d3) {d3.select(\".usersvg #canvasQt1\").append(\"path\").attr(\"id\", \"pixel_arrowYMX\").attr(\"transform\", \"translate(10 6)\").attr(\"transform\", \"translate(6.5 10.5) rotate(-180)\").attr(\"d\", \"M0 0 L0 0.5 M -0.15 0.3 L0 0.5 L0.15 0.3\").attr(\"stroke-width\", \"0.1\").attr(\"stroke\", \"black\");});</script>"
      ]
     },
     "metadata": {},
     "output_type": "display_data"
    },
    {
     "data": {
      "text/html": [
       "<script>require([\"d3\"], function(d3) {d3.select(\".usersvg #canvasQt1\").append(\"path\").attr(\"id\", \"pixel_arrowhTf\").attr(\"transform\", \"translate(10 7)\").attr(\"transform\", \"translate(7.5 10.5) rotate(-180)\").attr(\"d\", \"M0 0 L0 0.5 M -0.15 0.3 L0 0.5 L0.15 0.3\").attr(\"stroke-width\", \"0.1\").attr(\"stroke\", \"black\");});</script>"
      ]
     },
     "metadata": {},
     "output_type": "display_data"
    },
    {
     "data": {
      "text/html": [
       "<script>require([\"d3\"], function(d3) {d3.select(\".usersvg #canvasQt1\").append(\"path\").attr(\"id\", \"pixel_arrowMqI\").attr(\"transform\", \"translate(10 8)\").attr(\"transform\", \"translate(8.5 10.5) rotate(-180)\").attr(\"d\", \"M0 0 L0 0.5 M -0.15 0.3 L0 0.5 L0.15 0.3\").attr(\"stroke-width\", \"0.1\").attr(\"stroke\", \"black\");});</script>"
      ]
     },
     "metadata": {},
     "output_type": "display_data"
    },
    {
     "data": {
      "text/html": [
       "<script>require([\"d3\"], function(d3) {d3.select(\".usersvg #canvasQt1\").append(\"path\").attr(\"id\", \"pixel_arrowI9K\").attr(\"transform\", \"translate(10 9)\").attr(\"transform\", \"translate(9.5 10.5) rotate(-180)\").attr(\"d\", \"M0 0 L0 0.5 M -0.15 0.3 L0 0.5 L0.15 0.3\").attr(\"stroke-width\", \"0.1\").attr(\"stroke\", \"black\");});</script>"
      ]
     },
     "metadata": {},
     "output_type": "display_data"
    },
    {
     "data": {
      "text/html": [
       "<script>require([\"d3\"], function(d3) {d3.select(\".usersvg #canvasQt1\").append(\"path\").attr(\"id\", \"pixel_arrowXQQ\").attr(\"transform\", \"translate(10 10)\").attr(\"transform\", \"translate(10.5 10.5) rotate(-180)\").attr(\"d\", \"M0 0 L0 0.5 M -0.15 0.3 L0 0.5 L0.15 0.3\").attr(\"stroke-width\", \"0.1\").attr(\"stroke\", \"black\");});</script>"
      ]
     },
     "metadata": {},
     "output_type": "display_data"
    },
    {
     "data": {
      "text/html": [
       "<script>require([\"d3\"], function(d3) {d3.select(\".usersvg #canvasQt1\").append(\"path\").attr(\"id\", \"pixel_arrow0qy\").attr(\"transform\", \"translate(10 11)\").attr(\"transform\", \"translate(11.5 10.5) rotate(-180)\").attr(\"d\", \"M0 0 L0 0.5 M -0.15 0.3 L0 0.5 L0.15 0.3\").attr(\"stroke-width\", \"0.1\").attr(\"stroke\", \"black\");});</script>"
      ]
     },
     "metadata": {},
     "output_type": "display_data"
    },
    {
     "data": {
      "text/html": [
       "<script>require([\"d3\"], function(d3) {d3.select(\".usersvg #canvasQt1\").append(\"path\").attr(\"id\", \"pixel_arrowx1G\").attr(\"transform\", \"translate(10 12)\").attr(\"transform\", \"translate(12.5 10.5) rotate(-180)\").attr(\"d\", \"M0 0 L0 0.5 M -0.15 0.3 L0 0.5 L0.15 0.3\").attr(\"stroke-width\", \"0.1\").attr(\"stroke\", \"black\");});</script>"
      ]
     },
     "metadata": {},
     "output_type": "display_data"
    },
    {
     "data": {
      "text/html": [
       "<script>require([\"d3\"], function(d3) {d3.select(\".usersvg #canvasQt1\").append(\"path\").attr(\"id\", \"pixel_arrowt50\").attr(\"transform\", \"translate(10 13)\").attr(\"transform\", \"translate(13.5 10.5) rotate(-180)\").attr(\"d\", \"M0 0 L0 0.5 M -0.15 0.3 L0 0.5 L0.15 0.3\").attr(\"stroke-width\", \"0.1\").attr(\"stroke\", \"black\");});</script>"
      ]
     },
     "metadata": {},
     "output_type": "display_data"
    },
    {
     "data": {
      "text/html": [
       "<script>require([\"d3\"], function(d3) {d3.select(\".usersvg #canvasQt1\").append(\"path\").attr(\"id\", \"pixel_arrowd2C\").attr(\"transform\", \"translate(10 14)\").attr(\"transform\", \"translate(14.5 10.5) rotate(-270)\").attr(\"d\", \"M0 0 L0 0.5 M -0.15 0.3 L0 0.5 L0.15 0.3\").attr(\"stroke-width\", \"0.1\").attr(\"stroke\", \"black\");});</script>"
      ]
     },
     "metadata": {},
     "output_type": "display_data"
    },
    {
     "data": {
      "text/html": [
       "<script>require([\"d3\"], function(d3) {d3.select(\".usersvg #canvasQt1\").append(\"path\").attr(\"id\", \"pixel_arrowrDt\").attr(\"transform\", \"translate(10 15)\").attr(\"transform\", \"translate(15.5 10.5) rotate(-180)\").attr(\"d\", \"M0 0 L0 0.5 M -0.15 0.3 L0 0.5 L0.15 0.3\").attr(\"stroke-width\", \"0.1\").attr(\"stroke\", \"black\");});</script>"
      ]
     },
     "metadata": {},
     "output_type": "display_data"
    },
    {
     "data": {
      "text/html": [
       "<script>require([\"d3\"], function(d3) {d3.select(\".usersvg #canvasQt1\").append(\"path\").attr(\"id\", \"pixel_arrowVqg\").attr(\"transform\", \"translate(10 16)\").attr(\"transform\", \"translate(16.5 10.5) rotate(-270)\").attr(\"d\", \"M0 0 L0 0.5 M -0.15 0.3 L0 0.5 L0.15 0.3\").attr(\"stroke-width\", \"0.1\").attr(\"stroke\", \"black\");});</script>"
      ]
     },
     "metadata": {},
     "output_type": "display_data"
    },
    {
     "data": {
      "text/html": [
       "<script>require([\"d3\"], function(d3) {d3.select(\".usersvg #canvasQt1\").append(\"path\").attr(\"id\", \"pixel_arrow2Qb\").attr(\"transform\", \"translate(11 0)\").attr(\"transform\", \"translate(0.5 11.5) rotate(-180)\").attr(\"d\", \"M0 0 L0 0.5 M -0.15 0.3 L0 0.5 L0.15 0.3\").attr(\"stroke-width\", \"0.1\").attr(\"stroke\", \"black\");});</script>"
      ]
     },
     "metadata": {},
     "output_type": "display_data"
    },
    {
     "data": {
      "text/html": [
       "<script>require([\"d3\"], function(d3) {d3.select(\".usersvg #canvasQt1\").append(\"path\").attr(\"id\", \"pixel_arrowERr\").attr(\"transform\", \"translate(11 1)\").attr(\"transform\", \"translate(1.5 11.5) rotate(-180)\").attr(\"d\", \"M0 0 L0 0.5 M -0.15 0.3 L0 0.5 L0.15 0.3\").attr(\"stroke-width\", \"0.1\").attr(\"stroke\", \"black\");});</script>"
      ]
     },
     "metadata": {},
     "output_type": "display_data"
    },
    {
     "data": {
      "text/html": [
       "<script>require([\"d3\"], function(d3) {d3.select(\".usersvg #canvasQt1\").append(\"path\").attr(\"id\", \"pixel_arrowZIT\").attr(\"transform\", \"translate(11 2)\").attr(\"transform\", \"translate(2.5 11.5) rotate(-180)\").attr(\"d\", \"M0 0 L0 0.5 M -0.15 0.3 L0 0.5 L0.15 0.3\").attr(\"stroke-width\", \"0.1\").attr(\"stroke\", \"black\");});</script>"
      ]
     },
     "metadata": {},
     "output_type": "display_data"
    },
    {
     "data": {
      "text/html": [
       "<script>require([\"d3\"], function(d3) {d3.select(\".usersvg #canvasQt1\").append(\"path\").attr(\"id\", \"pixel_arrowMrZ\").attr(\"transform\", \"translate(11 3)\").attr(\"transform\", \"translate(3.5 11.5) rotate(-180)\").attr(\"d\", \"M0 0 L0 0.5 M -0.15 0.3 L0 0.5 L0.15 0.3\").attr(\"stroke-width\", \"0.1\").attr(\"stroke\", \"black\");});</script>"
      ]
     },
     "metadata": {},
     "output_type": "display_data"
    },
    {
     "data": {
      "text/html": [
       "<script>require([\"d3\"], function(d3) {d3.select(\".usersvg #canvasQt1\").append(\"path\").attr(\"id\", \"pixel_arrownsa\").attr(\"transform\", \"translate(11 4)\").attr(\"transform\", \"translate(4.5 11.5) rotate(-180)\").attr(\"d\", \"M0 0 L0 0.5 M -0.15 0.3 L0 0.5 L0.15 0.3\").attr(\"stroke-width\", \"0.1\").attr(\"stroke\", \"black\");});</script>"
      ]
     },
     "metadata": {},
     "output_type": "display_data"
    },
    {
     "data": {
      "text/html": [
       "<script>require([\"d3\"], function(d3) {d3.select(\".usersvg #canvasQt1\").append(\"path\").attr(\"id\", \"pixel_arrowLnL\").attr(\"transform\", \"translate(11 5)\").attr(\"transform\", \"translate(5.5 11.5) rotate(-180)\").attr(\"d\", \"M0 0 L0 0.5 M -0.15 0.3 L0 0.5 L0.15 0.3\").attr(\"stroke-width\", \"0.1\").attr(\"stroke\", \"black\");});</script>"
      ]
     },
     "metadata": {},
     "output_type": "display_data"
    },
    {
     "data": {
      "text/html": [
       "<script>require([\"d3\"], function(d3) {d3.select(\".usersvg #canvasQt1\").append(\"path\").attr(\"id\", \"pixel_arrowP3u\").attr(\"transform\", \"translate(11 6)\").attr(\"transform\", \"translate(6.5 11.5) rotate(-90)\").attr(\"d\", \"M0 0 L0 0.5 M -0.15 0.3 L0 0.5 L0.15 0.3\").attr(\"stroke-width\", \"0.1\").attr(\"stroke\", \"black\");});</script>"
      ]
     },
     "metadata": {},
     "output_type": "display_data"
    },
    {
     "data": {
      "text/html": [
       "<script>require([\"d3\"], function(d3) {d3.select(\".usersvg #canvasQt1\").append(\"path\").attr(\"id\", \"pixel_arrowSIW\").attr(\"transform\", \"translate(11 7)\").attr(\"transform\", \"translate(7.5 11.5) rotate(-180)\").attr(\"d\", \"M0 0 L0 0.5 M -0.15 0.3 L0 0.5 L0.15 0.3\").attr(\"stroke-width\", \"0.1\").attr(\"stroke\", \"black\");});</script>"
      ]
     },
     "metadata": {},
     "output_type": "display_data"
    },
    {
     "data": {
      "text/html": [
       "<script>require([\"d3\"], function(d3) {d3.select(\".usersvg #canvasQt1\").append(\"path\").attr(\"id\", \"pixel_arrowcI6\").attr(\"transform\", \"translate(11 8)\").attr(\"transform\", \"translate(8.5 11.5) rotate(-180)\").attr(\"d\", \"M0 0 L0 0.5 M -0.15 0.3 L0 0.5 L0.15 0.3\").attr(\"stroke-width\", \"0.1\").attr(\"stroke\", \"black\");});</script>"
      ]
     },
     "metadata": {},
     "output_type": "display_data"
    },
    {
     "data": {
      "text/html": [
       "<script>require([\"d3\"], function(d3) {d3.select(\".usersvg #canvasQt1\").append(\"path\").attr(\"id\", \"pixel_arrowJND\").attr(\"transform\", \"translate(11 9)\").attr(\"transform\", \"translate(9.5 11.5) rotate(-270)\").attr(\"d\", \"M0 0 L0 0.5 M -0.15 0.3 L0 0.5 L0.15 0.3\").attr(\"stroke-width\", \"0.1\").attr(\"stroke\", \"black\");});</script>"
      ]
     },
     "metadata": {},
     "output_type": "display_data"
    },
    {
     "data": {
      "text/html": [
       "<script>require([\"d3\"], function(d3) {d3.select(\".usersvg #canvasQt1\").append(\"path\").attr(\"id\", \"pixel_arrowOO8\").attr(\"transform\", \"translate(11 10)\").attr(\"transform\", \"translate(10.5 11.5) rotate(-180)\").attr(\"d\", \"M0 0 L0 0.5 M -0.15 0.3 L0 0.5 L0.15 0.3\").attr(\"stroke-width\", \"0.1\").attr(\"stroke\", \"black\");});</script>"
      ]
     },
     "metadata": {},
     "output_type": "display_data"
    },
    {
     "data": {
      "text/html": [
       "<script>require([\"d3\"], function(d3) {d3.select(\".usersvg #canvasQt1\").append(\"path\").attr(\"id\", \"pixel_arrowhMJ\").attr(\"transform\", \"translate(11 11)\").attr(\"transform\", \"translate(11.5 11.5) rotate(-180)\").attr(\"d\", \"M0 0 L0 0.5 M -0.15 0.3 L0 0.5 L0.15 0.3\").attr(\"stroke-width\", \"0.1\").attr(\"stroke\", \"black\");});</script>"
      ]
     },
     "metadata": {},
     "output_type": "display_data"
    },
    {
     "data": {
      "text/html": [
       "<script>require([\"d3\"], function(d3) {d3.select(\".usersvg #canvasQt1\").append(\"path\").attr(\"id\", \"pixel_arrowSEI\").attr(\"transform\", \"translate(11 12)\").attr(\"transform\", \"translate(12.5 11.5) rotate(-180)\").attr(\"d\", \"M0 0 L0 0.5 M -0.15 0.3 L0 0.5 L0.15 0.3\").attr(\"stroke-width\", \"0.1\").attr(\"stroke\", \"black\");});</script>"
      ]
     },
     "metadata": {},
     "output_type": "display_data"
    },
    {
     "data": {
      "text/html": [
       "<script>require([\"d3\"], function(d3) {d3.select(\".usersvg #canvasQt1\").append(\"path\").attr(\"id\", \"pixel_arrowNPm\").attr(\"transform\", \"translate(11 13)\").attr(\"transform\", \"translate(13.5 11.5) rotate(-180)\").attr(\"d\", \"M0 0 L0 0.5 M -0.15 0.3 L0 0.5 L0.15 0.3\").attr(\"stroke-width\", \"0.1\").attr(\"stroke\", \"black\");});</script>"
      ]
     },
     "metadata": {},
     "output_type": "display_data"
    },
    {
     "data": {
      "text/html": [
       "<script>require([\"d3\"], function(d3) {d3.select(\".usersvg #canvasQt1\").append(\"path\").attr(\"id\", \"pixel_arrowFwb\").attr(\"transform\", \"translate(11 14)\").attr(\"transform\", \"translate(14.5 11.5) rotate(-180)\").attr(\"d\", \"M0 0 L0 0.5 M -0.15 0.3 L0 0.5 L0.15 0.3\").attr(\"stroke-width\", \"0.1\").attr(\"stroke\", \"black\");});</script>"
      ]
     },
     "metadata": {},
     "output_type": "display_data"
    },
    {
     "data": {
      "text/html": [
       "<script>require([\"d3\"], function(d3) {d3.select(\".usersvg #canvasQt1\").append(\"path\").attr(\"id\", \"pixel_arrowp66\").attr(\"transform\", \"translate(11 15)\").attr(\"transform\", \"translate(15.5 11.5) rotate(-180)\").attr(\"d\", \"M0 0 L0 0.5 M -0.15 0.3 L0 0.5 L0.15 0.3\").attr(\"stroke-width\", \"0.1\").attr(\"stroke\", \"black\");});</script>"
      ]
     },
     "metadata": {},
     "output_type": "display_data"
    },
    {
     "data": {
      "text/html": [
       "<script>require([\"d3\"], function(d3) {d3.select(\".usersvg #canvasQt1\").append(\"path\").attr(\"id\", \"pixel_arrowa73\").attr(\"transform\", \"translate(11 16)\").attr(\"transform\", \"translate(16.5 11.5) rotate(-270)\").attr(\"d\", \"M0 0 L0 0.5 M -0.15 0.3 L0 0.5 L0.15 0.3\").attr(\"stroke-width\", \"0.1\").attr(\"stroke\", \"black\");});</script>"
      ]
     },
     "metadata": {},
     "output_type": "display_data"
    },
    {
     "data": {
      "text/html": [
       "<script>require([\"d3\"], function(d3) {d3.select(\".usersvg #canvasQt1\").append(\"path\").attr(\"id\", \"pixel_arrowNCw\").attr(\"transform\", \"translate(12 0)\").attr(\"transform\", \"translate(0.5 12.5) rotate(-180)\").attr(\"d\", \"M0 0 L0 0.5 M -0.15 0.3 L0 0.5 L0.15 0.3\").attr(\"stroke-width\", \"0.1\").attr(\"stroke\", \"black\");});</script>"
      ]
     },
     "metadata": {},
     "output_type": "display_data"
    },
    {
     "data": {
      "text/html": [
       "<script>require([\"d3\"], function(d3) {d3.select(\".usersvg #canvasQt1\").append(\"path\").attr(\"id\", \"pixel_arrowIIH\").attr(\"transform\", \"translate(12 1)\").attr(\"transform\", \"translate(1.5 12.5) rotate(-180)\").attr(\"d\", \"M0 0 L0 0.5 M -0.15 0.3 L0 0.5 L0.15 0.3\").attr(\"stroke-width\", \"0.1\").attr(\"stroke\", \"black\");});</script>"
      ]
     },
     "metadata": {},
     "output_type": "display_data"
    },
    {
     "data": {
      "text/html": [
       "<script>require([\"d3\"], function(d3) {d3.select(\".usersvg #canvasQt1\").append(\"path\").attr(\"id\", \"pixel_arrowvyf\").attr(\"transform\", \"translate(12 2)\").attr(\"transform\", \"translate(2.5 12.5) rotate(-180)\").attr(\"d\", \"M0 0 L0 0.5 M -0.15 0.3 L0 0.5 L0.15 0.3\").attr(\"stroke-width\", \"0.1\").attr(\"stroke\", \"black\");});</script>"
      ]
     },
     "metadata": {},
     "output_type": "display_data"
    },
    {
     "data": {
      "text/html": [
       "<script>require([\"d3\"], function(d3) {d3.select(\".usersvg #canvasQt1\").append(\"path\").attr(\"id\", \"pixel_arrowzf2\").attr(\"transform\", \"translate(12 3)\").attr(\"transform\", \"translate(3.5 12.5) rotate(-180)\").attr(\"d\", \"M0 0 L0 0.5 M -0.15 0.3 L0 0.5 L0.15 0.3\").attr(\"stroke-width\", \"0.1\").attr(\"stroke\", \"black\");});</script>"
      ]
     },
     "metadata": {},
     "output_type": "display_data"
    },
    {
     "data": {
      "text/html": [
       "<script>require([\"d3\"], function(d3) {d3.select(\".usersvg #canvasQt1\").append(\"path\").attr(\"id\", \"pixel_arroweo7\").attr(\"transform\", \"translate(12 4)\").attr(\"transform\", \"translate(4.5 12.5) rotate(-180)\").attr(\"d\", \"M0 0 L0 0.5 M -0.15 0.3 L0 0.5 L0.15 0.3\").attr(\"stroke-width\", \"0.1\").attr(\"stroke\", \"black\");});</script>"
      ]
     },
     "metadata": {},
     "output_type": "display_data"
    },
    {
     "data": {
      "text/html": [
       "<script>require([\"d3\"], function(d3) {d3.select(\".usersvg #canvasQt1\").append(\"path\").attr(\"id\", \"pixel_arrowoIJ\").attr(\"transform\", \"translate(12 5)\").attr(\"transform\", \"translate(5.5 12.5) rotate(-180)\").attr(\"d\", \"M0 0 L0 0.5 M -0.15 0.3 L0 0.5 L0.15 0.3\").attr(\"stroke-width\", \"0.1\").attr(\"stroke\", \"black\");});</script>"
      ]
     },
     "metadata": {},
     "output_type": "display_data"
    },
    {
     "data": {
      "text/html": [
       "<script>require([\"d3\"], function(d3) {d3.select(\".usersvg #canvasQt1\").append(\"path\").attr(\"id\", \"pixel_arrowy9P\").attr(\"transform\", \"translate(12 6)\").attr(\"transform\", \"translate(6.5 12.5) rotate(-90)\").attr(\"d\", \"M0 0 L0 0.5 M -0.15 0.3 L0 0.5 L0.15 0.3\").attr(\"stroke-width\", \"0.1\").attr(\"stroke\", \"black\");});</script>"
      ]
     },
     "metadata": {},
     "output_type": "display_data"
    },
    {
     "data": {
      "text/html": [
       "<script>require([\"d3\"], function(d3) {d3.select(\".usersvg #canvasQt1\").append(\"path\").attr(\"id\", \"pixel_arrowZaO\").attr(\"transform\", \"translate(12 7)\").attr(\"transform\", \"translate(7.5 12.5) rotate(-180)\").attr(\"d\", \"M0 0 L0 0.5 M -0.15 0.3 L0 0.5 L0.15 0.3\").attr(\"stroke-width\", \"0.1\").attr(\"stroke\", \"black\");});</script>"
      ]
     },
     "metadata": {},
     "output_type": "display_data"
    },
    {
     "data": {
      "text/html": [
       "<script>require([\"d3\"], function(d3) {d3.select(\".usersvg #canvasQt1\").append(\"path\").attr(\"id\", \"pixel_arrowyFV\").attr(\"transform\", \"translate(12 8)\").attr(\"transform\", \"translate(8.5 12.5) rotate(-180)\").attr(\"d\", \"M0 0 L0 0.5 M -0.15 0.3 L0 0.5 L0.15 0.3\").attr(\"stroke-width\", \"0.1\").attr(\"stroke\", \"black\");});</script>"
      ]
     },
     "metadata": {},
     "output_type": "display_data"
    },
    {
     "data": {
      "text/html": [
       "<script>require([\"d3\"], function(d3) {d3.select(\".usersvg #canvasQt1\").append(\"path\").attr(\"id\", \"pixel_arrowoOw\").attr(\"transform\", \"translate(12 9)\").attr(\"transform\", \"translate(9.5 12.5) rotate(-180)\").attr(\"d\", \"M0 0 L0 0.5 M -0.15 0.3 L0 0.5 L0.15 0.3\").attr(\"stroke-width\", \"0.1\").attr(\"stroke\", \"black\");});</script>"
      ]
     },
     "metadata": {},
     "output_type": "display_data"
    },
    {
     "data": {
      "text/html": [
       "<script>require([\"d3\"], function(d3) {d3.select(\".usersvg #canvasQt1\").append(\"path\").attr(\"id\", \"pixel_arrow8U6\").attr(\"transform\", \"translate(12 10)\").attr(\"transform\", \"translate(10.5 12.5) rotate(-270)\").attr(\"d\", \"M0 0 L0 0.5 M -0.15 0.3 L0 0.5 L0.15 0.3\").attr(\"stroke-width\", \"0.1\").attr(\"stroke\", \"black\");});</script>"
      ]
     },
     "metadata": {},
     "output_type": "display_data"
    },
    {
     "data": {
      "text/html": [
       "<script>require([\"d3\"], function(d3) {d3.select(\".usersvg #canvasQt1\").append(\"path\").attr(\"id\", \"pixel_arrowgMQ\").attr(\"transform\", \"translate(12 11)\").attr(\"transform\", \"translate(11.5 12.5) rotate(-270)\").attr(\"d\", \"M0 0 L0 0.5 M -0.15 0.3 L0 0.5 L0.15 0.3\").attr(\"stroke-width\", \"0.1\").attr(\"stroke\", \"black\");});</script>"
      ]
     },
     "metadata": {},
     "output_type": "display_data"
    },
    {
     "data": {
      "text/html": [
       "<script>require([\"d3\"], function(d3) {d3.select(\".usersvg #canvasQt1\").append(\"path\").attr(\"id\", \"pixel_arrowsOg\").attr(\"transform\", \"translate(12 12)\").attr(\"transform\", \"translate(12.5 12.5) rotate(-270)\").attr(\"d\", \"M0 0 L0 0.5 M -0.15 0.3 L0 0.5 L0.15 0.3\").attr(\"stroke-width\", \"0.1\").attr(\"stroke\", \"black\");});</script>"
      ]
     },
     "metadata": {},
     "output_type": "display_data"
    },
    {
     "data": {
      "text/html": [
       "<script>require([\"d3\"], function(d3) {d3.select(\".usersvg #canvasQt1\").append(\"path\").attr(\"id\", \"pixel_arrowI5D\").attr(\"transform\", \"translate(12 13)\").attr(\"transform\", \"translate(13.5 12.5) rotate(-270)\").attr(\"d\", \"M0 0 L0 0.5 M -0.15 0.3 L0 0.5 L0.15 0.3\").attr(\"stroke-width\", \"0.1\").attr(\"stroke\", \"black\");});</script>"
      ]
     },
     "metadata": {},
     "output_type": "display_data"
    },
    {
     "data": {
      "text/html": [
       "<script>require([\"d3\"], function(d3) {d3.select(\".usersvg #canvasQt1\").append(\"path\").attr(\"id\", \"pixel_arrowxTg\").attr(\"transform\", \"translate(12 14)\").attr(\"transform\", \"translate(14.5 12.5) rotate(-270)\").attr(\"d\", \"M0 0 L0 0.5 M -0.15 0.3 L0 0.5 L0.15 0.3\").attr(\"stroke-width\", \"0.1\").attr(\"stroke\", \"black\");});</script>"
      ]
     },
     "metadata": {},
     "output_type": "display_data"
    },
    {
     "data": {
      "text/html": [
       "<script>require([\"d3\"], function(d3) {d3.select(\".usersvg #canvasQt1\").append(\"path\").attr(\"id\", \"pixel_arrowolD\").attr(\"transform\", \"translate(12 15)\").attr(\"transform\", \"translate(15.5 12.5) rotate(-180)\").attr(\"d\", \"M0 0 L0 0.5 M -0.15 0.3 L0 0.5 L0.15 0.3\").attr(\"stroke-width\", \"0.1\").attr(\"stroke\", \"black\");});</script>"
      ]
     },
     "metadata": {},
     "output_type": "display_data"
    },
    {
     "data": {
      "text/html": [
       "<script>require([\"d3\"], function(d3) {d3.select(\".usersvg #canvasQt1\").append(\"path\").attr(\"id\", \"pixel_arrow3Wt\").attr(\"transform\", \"translate(12 16)\").attr(\"transform\", \"translate(16.5 12.5) rotate(-180)\").attr(\"d\", \"M0 0 L0 0.5 M -0.15 0.3 L0 0.5 L0.15 0.3\").attr(\"stroke-width\", \"0.1\").attr(\"stroke\", \"black\");});</script>"
      ]
     },
     "metadata": {},
     "output_type": "display_data"
    },
    {
     "data": {
      "text/html": [
       "<script>require([\"d3\"], function(d3) {d3.select(\".usersvg #canvasQt1\").append(\"path\").attr(\"id\", \"pixel_arrowHEC\").attr(\"transform\", \"translate(13 0)\").attr(\"transform\", \"translate(0.5 13.5) rotate(-180)\").attr(\"d\", \"M0 0 L0 0.5 M -0.15 0.3 L0 0.5 L0.15 0.3\").attr(\"stroke-width\", \"0.1\").attr(\"stroke\", \"black\");});</script>"
      ]
     },
     "metadata": {},
     "output_type": "display_data"
    },
    {
     "data": {
      "text/html": [
       "<script>require([\"d3\"], function(d3) {d3.select(\".usersvg #canvasQt1\").append(\"path\").attr(\"id\", \"pixel_arrowOwy\").attr(\"transform\", \"translate(13 1)\").attr(\"transform\", \"translate(1.5 13.5) rotate(-90)\").attr(\"d\", \"M0 0 L0 0.5 M -0.15 0.3 L0 0.5 L0.15 0.3\").attr(\"stroke-width\", \"0.1\").attr(\"stroke\", \"black\");});</script>"
      ]
     },
     "metadata": {},
     "output_type": "display_data"
    },
    {
     "data": {
      "text/html": [
       "<script>require([\"d3\"], function(d3) {d3.select(\".usersvg #canvasQt1\").append(\"path\").attr(\"id\", \"pixel_arrowNJQ\").attr(\"transform\", \"translate(13 2)\").attr(\"transform\", \"translate(2.5 13.5) rotate(-180)\").attr(\"d\", \"M0 0 L0 0.5 M -0.15 0.3 L0 0.5 L0.15 0.3\").attr(\"stroke-width\", \"0.1\").attr(\"stroke\", \"black\");});</script>"
      ]
     },
     "metadata": {},
     "output_type": "display_data"
    },
    {
     "data": {
      "text/html": [
       "<script>require([\"d3\"], function(d3) {d3.select(\".usersvg #canvasQt1\").append(\"path\").attr(\"id\", \"pixel_arrow4zU\").attr(\"transform\", \"translate(13 3)\").attr(\"transform\", \"translate(3.5 13.5) rotate(-270)\").attr(\"d\", \"M0 0 L0 0.5 M -0.15 0.3 L0 0.5 L0.15 0.3\").attr(\"stroke-width\", \"0.1\").attr(\"stroke\", \"black\");});</script>"
      ]
     },
     "metadata": {},
     "output_type": "display_data"
    },
    {
     "data": {
      "text/html": [
       "<script>require([\"d3\"], function(d3) {d3.select(\".usersvg #canvasQt1\").append(\"path\").attr(\"id\", \"pixel_arrow0cL\").attr(\"transform\", \"translate(13 4)\").attr(\"transform\", \"translate(4.5 13.5) rotate(-180)\").attr(\"d\", \"M0 0 L0 0.5 M -0.15 0.3 L0 0.5 L0.15 0.3\").attr(\"stroke-width\", \"0.1\").attr(\"stroke\", \"black\");});</script>"
      ]
     },
     "metadata": {},
     "output_type": "display_data"
    },
    {
     "data": {
      "text/html": [
       "<script>require([\"d3\"], function(d3) {d3.select(\".usersvg #canvasQt1\").append(\"path\").attr(\"id\", \"pixel_arrowhkd\").attr(\"transform\", \"translate(13 5)\").attr(\"transform\", \"translate(5.5 13.5) rotate(-180)\").attr(\"d\", \"M0 0 L0 0.5 M -0.15 0.3 L0 0.5 L0.15 0.3\").attr(\"stroke-width\", \"0.1\").attr(\"stroke\", \"black\");});</script>"
      ]
     },
     "metadata": {},
     "output_type": "display_data"
    },
    {
     "data": {
      "text/html": [
       "<script>require([\"d3\"], function(d3) {d3.select(\".usersvg #canvasQt1\").append(\"path\").attr(\"id\", \"pixel_arrowLKr\").attr(\"transform\", \"translate(13 6)\").attr(\"transform\", \"translate(6.5 13.5) rotate(-90)\").attr(\"d\", \"M0 0 L0 0.5 M -0.15 0.3 L0 0.5 L0.15 0.3\").attr(\"stroke-width\", \"0.1\").attr(\"stroke\", \"black\");});</script>"
      ]
     },
     "metadata": {},
     "output_type": "display_data"
    },
    {
     "data": {
      "text/html": [
       "<script>require([\"d3\"], function(d3) {d3.select(\".usersvg #canvasQt1\").append(\"path\").attr(\"id\", \"pixel_arrow6fm\").attr(\"transform\", \"translate(13 7)\").attr(\"transform\", \"translate(7.5 13.5) rotate(-180)\").attr(\"d\", \"M0 0 L0 0.5 M -0.15 0.3 L0 0.5 L0.15 0.3\").attr(\"stroke-width\", \"0.1\").attr(\"stroke\", \"black\");});</script>"
      ]
     },
     "metadata": {},
     "output_type": "display_data"
    },
    {
     "data": {
      "text/html": [
       "<script>require([\"d3\"], function(d3) {d3.select(\".usersvg #canvasQt1\").append(\"path\").attr(\"id\", \"pixel_arrowoSP\").attr(\"transform\", \"translate(13 8)\").attr(\"transform\", \"translate(8.5 13.5) rotate(-180)\").attr(\"d\", \"M0 0 L0 0.5 M -0.15 0.3 L0 0.5 L0.15 0.3\").attr(\"stroke-width\", \"0.1\").attr(\"stroke\", \"black\");});</script>"
      ]
     },
     "metadata": {},
     "output_type": "display_data"
    },
    {
     "data": {
      "text/html": [
       "<script>require([\"d3\"], function(d3) {d3.select(\".usersvg #canvasQt1\").append(\"path\").attr(\"id\", \"pixel_arrow7b4\").attr(\"transform\", \"translate(13 9)\").attr(\"transform\", \"translate(9.5 13.5) rotate(-180)\").attr(\"d\", \"M0 0 L0 0.5 M -0.15 0.3 L0 0.5 L0.15 0.3\").attr(\"stroke-width\", \"0.1\").attr(\"stroke\", \"black\");});</script>"
      ]
     },
     "metadata": {},
     "output_type": "display_data"
    },
    {
     "data": {
      "text/html": [
       "<script>require([\"d3\"], function(d3) {d3.select(\".usersvg #canvasQt1\").append(\"path\").attr(\"id\", \"pixel_arrownUz\").attr(\"transform\", \"translate(13 10)\").attr(\"transform\", \"translate(10.5 13.5) rotate(-180)\").attr(\"d\", \"M0 0 L0 0.5 M -0.15 0.3 L0 0.5 L0.15 0.3\").attr(\"stroke-width\", \"0.1\").attr(\"stroke\", \"black\");});</script>"
      ]
     },
     "metadata": {},
     "output_type": "display_data"
    },
    {
     "data": {
      "text/html": [
       "<script>require([\"d3\"], function(d3) {d3.select(\".usersvg #canvasQt1\").append(\"path\").attr(\"id\", \"pixel_arrowWhs\").attr(\"transform\", \"translate(13 11)\").attr(\"transform\", \"translate(11.5 13.5) rotate(-180)\").attr(\"d\", \"M0 0 L0 0.5 M -0.15 0.3 L0 0.5 L0.15 0.3\").attr(\"stroke-width\", \"0.1\").attr(\"stroke\", \"black\");});</script>"
      ]
     },
     "metadata": {},
     "output_type": "display_data"
    },
    {
     "data": {
      "text/html": [
       "<script>require([\"d3\"], function(d3) {d3.select(\".usersvg #canvasQt1\").append(\"path\").attr(\"id\", \"pixel_arrowJkS\").attr(\"transform\", \"translate(13 12)\").attr(\"transform\", \"translate(12.5 13.5) rotate(-180)\").attr(\"d\", \"M0 0 L0 0.5 M -0.15 0.3 L0 0.5 L0.15 0.3\").attr(\"stroke-width\", \"0.1\").attr(\"stroke\", \"black\");});</script>"
      ]
     },
     "metadata": {},
     "output_type": "display_data"
    },
    {
     "data": {
      "text/html": [
       "<script>require([\"d3\"], function(d3) {d3.select(\".usersvg #canvasQt1\").append(\"path\").attr(\"id\", \"pixel_arrowZdr\").attr(\"transform\", \"translate(13 13)\").attr(\"transform\", \"translate(13.5 13.5) rotate(-270)\").attr(\"d\", \"M0 0 L0 0.5 M -0.15 0.3 L0 0.5 L0.15 0.3\").attr(\"stroke-width\", \"0.1\").attr(\"stroke\", \"black\");});</script>"
      ]
     },
     "metadata": {},
     "output_type": "display_data"
    },
    {
     "data": {
      "text/html": [
       "<script>require([\"d3\"], function(d3) {d3.select(\".usersvg #canvasQt1\").append(\"path\").attr(\"id\", \"pixel_arrowcZf\").attr(\"transform\", \"translate(13 14)\").attr(\"transform\", \"translate(14.5 13.5) rotate(-180)\").attr(\"d\", \"M0 0 L0 0.5 M -0.15 0.3 L0 0.5 L0.15 0.3\").attr(\"stroke-width\", \"0.1\").attr(\"stroke\", \"black\");});</script>"
      ]
     },
     "metadata": {},
     "output_type": "display_data"
    },
    {
     "data": {
      "text/html": [
       "<script>require([\"d3\"], function(d3) {d3.select(\".usersvg #canvasQt1\").append(\"path\").attr(\"id\", \"pixel_arrowFFU\").attr(\"transform\", \"translate(13 15)\").attr(\"transform\", \"translate(15.5 13.5) rotate(-180)\").attr(\"d\", \"M0 0 L0 0.5 M -0.15 0.3 L0 0.5 L0.15 0.3\").attr(\"stroke-width\", \"0.1\").attr(\"stroke\", \"black\");});</script>"
      ]
     },
     "metadata": {},
     "output_type": "display_data"
    },
    {
     "data": {
      "text/html": [
       "<script>require([\"d3\"], function(d3) {d3.select(\".usersvg #canvasQt1\").append(\"path\").attr(\"id\", \"pixel_arrowqNv\").attr(\"transform\", \"translate(13 16)\").attr(\"transform\", \"translate(16.5 13.5) rotate(-180)\").attr(\"d\", \"M0 0 L0 0.5 M -0.15 0.3 L0 0.5 L0.15 0.3\").attr(\"stroke-width\", \"0.1\").attr(\"stroke\", \"black\");});</script>"
      ]
     },
     "metadata": {},
     "output_type": "display_data"
    },
    {
     "data": {
      "text/html": [
       "<script>require([\"d3\"], function(d3) {d3.select(\".usersvg #canvasQt1\").append(\"path\").attr(\"id\", \"pixel_arrowKIl\").attr(\"transform\", \"translate(14 0)\").attr(\"transform\", \"translate(0.5 14.5) rotate(-180)\").attr(\"d\", \"M0 0 L0 0.5 M -0.15 0.3 L0 0.5 L0.15 0.3\").attr(\"stroke-width\", \"0.1\").attr(\"stroke\", \"black\");});</script>"
      ]
     },
     "metadata": {},
     "output_type": "display_data"
    },
    {
     "data": {
      "text/html": [
       "<script>require([\"d3\"], function(d3) {d3.select(\".usersvg #canvasQt1\").append(\"path\").attr(\"id\", \"pixel_arrowCZf\").attr(\"transform\", \"translate(14 1)\").attr(\"transform\", \"translate(1.5 14.5) rotate(-180)\").attr(\"d\", \"M0 0 L0 0.5 M -0.15 0.3 L0 0.5 L0.15 0.3\").attr(\"stroke-width\", \"0.1\").attr(\"stroke\", \"black\");});</script>"
      ]
     },
     "metadata": {},
     "output_type": "display_data"
    },
    {
     "data": {
      "text/html": [
       "<script>require([\"d3\"], function(d3) {d3.select(\".usersvg #canvasQt1\").append(\"path\").attr(\"id\", \"pixel_arrowzPk\").attr(\"transform\", \"translate(14 2)\").attr(\"transform\", \"translate(2.5 14.5) rotate(-180)\").attr(\"d\", \"M0 0 L0 0.5 M -0.15 0.3 L0 0.5 L0.15 0.3\").attr(\"stroke-width\", \"0.1\").attr(\"stroke\", \"black\");});</script>"
      ]
     },
     "metadata": {},
     "output_type": "display_data"
    },
    {
     "data": {
      "text/html": [
       "<script>require([\"d3\"], function(d3) {d3.select(\".usersvg #canvasQt1\").append(\"path\").attr(\"id\", \"pixel_arrow3Vu\").attr(\"transform\", \"translate(14 3)\").attr(\"transform\", \"translate(3.5 14.5) rotate(-90)\").attr(\"d\", \"M0 0 L0 0.5 M -0.15 0.3 L0 0.5 L0.15 0.3\").attr(\"stroke-width\", \"0.1\").attr(\"stroke\", \"black\");});</script>"
      ]
     },
     "metadata": {},
     "output_type": "display_data"
    },
    {
     "data": {
      "text/html": [
       "<script>require([\"d3\"], function(d3) {d3.select(\".usersvg #canvasQt1\").append(\"path\").attr(\"id\", \"pixel_arrowr0I\").attr(\"transform\", \"translate(14 4)\").attr(\"transform\", \"translate(4.5 14.5) rotate(-90)\").attr(\"d\", \"M0 0 L0 0.5 M -0.15 0.3 L0 0.5 L0.15 0.3\").attr(\"stroke-width\", \"0.1\").attr(\"stroke\", \"black\");});</script>"
      ]
     },
     "metadata": {},
     "output_type": "display_data"
    },
    {
     "data": {
      "text/html": [
       "<script>require([\"d3\"], function(d3) {d3.select(\".usersvg #canvasQt1\").append(\"path\").attr(\"id\", \"pixel_arrowZw2\").attr(\"transform\", \"translate(14 5)\").attr(\"transform\", \"translate(5.5 14.5) rotate(-360)\").attr(\"d\", \"M0 0 L0 0.5 M -0.15 0.3 L0 0.5 L0.15 0.3\").attr(\"stroke-width\", \"0.1\").attr(\"stroke\", \"black\");});</script>"
      ]
     },
     "metadata": {},
     "output_type": "display_data"
    },
    {
     "data": {
      "text/html": [
       "<script>require([\"d3\"], function(d3) {d3.select(\".usersvg #canvasQt1\").append(\"path\").attr(\"id\", \"pixel_arrownhY\").attr(\"transform\", \"translate(14 6)\").attr(\"transform\", \"translate(6.5 14.5) rotate(-90)\").attr(\"d\", \"M0 0 L0 0.5 M -0.15 0.3 L0 0.5 L0.15 0.3\").attr(\"stroke-width\", \"0.1\").attr(\"stroke\", \"black\");});</script>"
      ]
     },
     "metadata": {},
     "output_type": "display_data"
    },
    {
     "data": {
      "text/html": [
       "<script>require([\"d3\"], function(d3) {d3.select(\".usersvg #canvasQt1\").append(\"path\").attr(\"id\", \"pixel_arrowP5I\").attr(\"transform\", \"translate(14 7)\").attr(\"transform\", \"translate(7.5 14.5) rotate(-180)\").attr(\"d\", \"M0 0 L0 0.5 M -0.15 0.3 L0 0.5 L0.15 0.3\").attr(\"stroke-width\", \"0.1\").attr(\"stroke\", \"black\");});</script>"
      ]
     },
     "metadata": {},
     "output_type": "display_data"
    },
    {
     "data": {
      "text/html": [
       "<script>require([\"d3\"], function(d3) {d3.select(\".usersvg #canvasQt1\").append(\"path\").attr(\"id\", \"pixel_arrowjeV\").attr(\"transform\", \"translate(14 8)\").attr(\"transform\", \"translate(8.5 14.5) rotate(-180)\").attr(\"d\", \"M0 0 L0 0.5 M -0.15 0.3 L0 0.5 L0.15 0.3\").attr(\"stroke-width\", \"0.1\").attr(\"stroke\", \"black\");});</script>"
      ]
     },
     "metadata": {},
     "output_type": "display_data"
    },
    {
     "data": {
      "text/html": [
       "<script>require([\"d3\"], function(d3) {d3.select(\".usersvg #canvasQt1\").append(\"path\").attr(\"id\", \"pixel_arrowZlc\").attr(\"transform\", \"translate(14 9)\").attr(\"transform\", \"translate(9.5 14.5) rotate(-180)\").attr(\"d\", \"M0 0 L0 0.5 M -0.15 0.3 L0 0.5 L0.15 0.3\").attr(\"stroke-width\", \"0.1\").attr(\"stroke\", \"black\");});</script>"
      ]
     },
     "metadata": {},
     "output_type": "display_data"
    },
    {
     "data": {
      "text/html": [
       "<script>require([\"d3\"], function(d3) {d3.select(\".usersvg #canvasQt1\").append(\"path\").attr(\"id\", \"pixel_arrowAug\").attr(\"transform\", \"translate(14 10)\").attr(\"transform\", \"translate(10.5 14.5) rotate(-180)\").attr(\"d\", \"M0 0 L0 0.5 M -0.15 0.3 L0 0.5 L0.15 0.3\").attr(\"stroke-width\", \"0.1\").attr(\"stroke\", \"black\");});</script>"
      ]
     },
     "metadata": {},
     "output_type": "display_data"
    },
    {
     "data": {
      "text/html": [
       "<script>require([\"d3\"], function(d3) {d3.select(\".usersvg #canvasQt1\").append(\"path\").attr(\"id\", \"pixel_arrowLM5\").attr(\"transform\", \"translate(14 11)\").attr(\"transform\", \"translate(11.5 14.5) rotate(-180)\").attr(\"d\", \"M0 0 L0 0.5 M -0.15 0.3 L0 0.5 L0.15 0.3\").attr(\"stroke-width\", \"0.1\").attr(\"stroke\", \"black\");});</script>"
      ]
     },
     "metadata": {},
     "output_type": "display_data"
    },
    {
     "data": {
      "text/html": [
       "<script>require([\"d3\"], function(d3) {d3.select(\".usersvg #canvasQt1\").append(\"path\").attr(\"id\", \"pixel_arrowUXu\").attr(\"transform\", \"translate(14 12)\").attr(\"transform\", \"translate(12.5 14.5) rotate(-180)\").attr(\"d\", \"M0 0 L0 0.5 M -0.15 0.3 L0 0.5 L0.15 0.3\").attr(\"stroke-width\", \"0.1\").attr(\"stroke\", \"black\");});</script>"
      ]
     },
     "metadata": {},
     "output_type": "display_data"
    },
    {
     "data": {
      "text/html": [
       "<script>require([\"d3\"], function(d3) {d3.select(\".usersvg #canvasQt1\").append(\"path\").attr(\"id\", \"pixel_arrowWp0\").attr(\"transform\", \"translate(14 13)\").attr(\"transform\", \"translate(13.5 14.5) rotate(-270)\").attr(\"d\", \"M0 0 L0 0.5 M -0.15 0.3 L0 0.5 L0.15 0.3\").attr(\"stroke-width\", \"0.1\").attr(\"stroke\", \"black\");});</script>"
      ]
     },
     "metadata": {},
     "output_type": "display_data"
    },
    {
     "data": {
      "text/html": [
       "<script>require([\"d3\"], function(d3) {d3.select(\".usersvg #canvasQt1\").append(\"path\").attr(\"id\", \"pixel_arrowcWH\").attr(\"transform\", \"translate(14 14)\").attr(\"transform\", \"translate(14.5 14.5) rotate(-180)\").attr(\"d\", \"M0 0 L0 0.5 M -0.15 0.3 L0 0.5 L0.15 0.3\").attr(\"stroke-width\", \"0.1\").attr(\"stroke\", \"black\");});</script>"
      ]
     },
     "metadata": {},
     "output_type": "display_data"
    },
    {
     "data": {
      "text/html": [
       "<script>require([\"d3\"], function(d3) {d3.select(\".usersvg #canvasQt1\").append(\"path\").attr(\"id\", \"pixel_arrowGNG\").attr(\"transform\", \"translate(14 15)\").attr(\"transform\", \"translate(15.5 14.5) rotate(-270)\").attr(\"d\", \"M0 0 L0 0.5 M -0.15 0.3 L0 0.5 L0.15 0.3\").attr(\"stroke-width\", \"0.1\").attr(\"stroke\", \"black\");});</script>"
      ]
     },
     "metadata": {},
     "output_type": "display_data"
    },
    {
     "data": {
      "text/html": [
       "<script>require([\"d3\"], function(d3) {d3.select(\".usersvg #canvasQt1\").append(\"path\").attr(\"id\", \"pixel_arrowk5j\").attr(\"transform\", \"translate(14 16)\").attr(\"transform\", \"translate(16.5 14.5) rotate(-180)\").attr(\"d\", \"M0 0 L0 0.5 M -0.15 0.3 L0 0.5 L0.15 0.3\").attr(\"stroke-width\", \"0.1\").attr(\"stroke\", \"black\");});</script>"
      ]
     },
     "metadata": {},
     "output_type": "display_data"
    },
    {
     "data": {
      "text/html": [
       "<script>require([\"d3\"], function(d3) {d3.select(\".usersvg #canvasQt1\").append(\"path\").attr(\"id\", \"pixel_arrow3os\").attr(\"transform\", \"translate(15 0)\").attr(\"transform\", \"translate(0.5 15.5) rotate(-90)\").attr(\"d\", \"M0 0 L0 0.5 M -0.15 0.3 L0 0.5 L0.15 0.3\").attr(\"stroke-width\", \"0.1\").attr(\"stroke\", \"black\");});</script>"
      ]
     },
     "metadata": {},
     "output_type": "display_data"
    },
    {
     "data": {
      "text/html": [
       "<script>require([\"d3\"], function(d3) {d3.select(\".usersvg #canvasQt1\").append(\"path\").attr(\"id\", \"pixel_arrowN2e\").attr(\"transform\", \"translate(15 1)\").attr(\"transform\", \"translate(1.5 15.5) rotate(-180)\").attr(\"d\", \"M0 0 L0 0.5 M -0.15 0.3 L0 0.5 L0.15 0.3\").attr(\"stroke-width\", \"0.1\").attr(\"stroke\", \"black\");});</script>"
      ]
     },
     "metadata": {},
     "output_type": "display_data"
    },
    {
     "data": {
      "text/html": [
       "<script>require([\"d3\"], function(d3) {d3.select(\".usersvg #canvasQt1\").append(\"path\").attr(\"id\", \"pixel_arrowvzz\").attr(\"transform\", \"translate(15 2)\").attr(\"transform\", \"translate(2.5 15.5) rotate(-270)\").attr(\"d\", \"M0 0 L0 0.5 M -0.15 0.3 L0 0.5 L0.15 0.3\").attr(\"stroke-width\", \"0.1\").attr(\"stroke\", \"black\");});</script>"
      ]
     },
     "metadata": {},
     "output_type": "display_data"
    },
    {
     "data": {
      "text/html": [
       "<script>require([\"d3\"], function(d3) {d3.select(\".usersvg #canvasQt1\").append(\"path\").attr(\"id\", \"pixel_arrow9M4\").attr(\"transform\", \"translate(15 3)\").attr(\"transform\", \"translate(3.5 15.5) rotate(-270)\").attr(\"d\", \"M0 0 L0 0.5 M -0.15 0.3 L0 0.5 L0.15 0.3\").attr(\"stroke-width\", \"0.1\").attr(\"stroke\", \"black\");});</script>"
      ]
     },
     "metadata": {},
     "output_type": "display_data"
    },
    {
     "data": {
      "text/html": [
       "<script>require([\"d3\"], function(d3) {d3.select(\".usersvg #canvasQt1\").append(\"path\").attr(\"id\", \"pixel_arrowjHT\").attr(\"transform\", \"translate(15 4)\").attr(\"transform\", \"translate(4.5 15.5) rotate(-90)\").attr(\"d\", \"M0 0 L0 0.5 M -0.15 0.3 L0 0.5 L0.15 0.3\").attr(\"stroke-width\", \"0.1\").attr(\"stroke\", \"black\");});</script>"
      ]
     },
     "metadata": {},
     "output_type": "display_data"
    },
    {
     "data": {
      "text/html": [
       "<script>require([\"d3\"], function(d3) {d3.select(\".usersvg #canvasQt1\").append(\"path\").attr(\"id\", \"pixel_arrownOK\").attr(\"transform\", \"translate(15 5)\").attr(\"transform\", \"translate(5.5 15.5) rotate(-180)\").attr(\"d\", \"M0 0 L0 0.5 M -0.15 0.3 L0 0.5 L0.15 0.3\").attr(\"stroke-width\", \"0.1\").attr(\"stroke\", \"black\");});</script>"
      ]
     },
     "metadata": {},
     "output_type": "display_data"
    },
    {
     "data": {
      "text/html": [
       "<script>require([\"d3\"], function(d3) {d3.select(\".usersvg #canvasQt1\").append(\"path\").attr(\"id\", \"pixel_arrowNa8\").attr(\"transform\", \"translate(15 6)\").attr(\"transform\", \"translate(6.5 15.5) rotate(-90)\").attr(\"d\", \"M0 0 L0 0.5 M -0.15 0.3 L0 0.5 L0.15 0.3\").attr(\"stroke-width\", \"0.1\").attr(\"stroke\", \"black\");});</script>"
      ]
     },
     "metadata": {},
     "output_type": "display_data"
    },
    {
     "data": {
      "text/html": [
       "<script>require([\"d3\"], function(d3) {d3.select(\".usersvg #canvasQt1\").append(\"path\").attr(\"id\", \"pixel_arrowDs9\").attr(\"transform\", \"translate(15 7)\").attr(\"transform\", \"translate(7.5 15.5) rotate(-180)\").attr(\"d\", \"M0 0 L0 0.5 M -0.15 0.3 L0 0.5 L0.15 0.3\").attr(\"stroke-width\", \"0.1\").attr(\"stroke\", \"black\");});</script>"
      ]
     },
     "metadata": {},
     "output_type": "display_data"
    },
    {
     "data": {
      "text/html": [
       "<script>require([\"d3\"], function(d3) {d3.select(\".usersvg #canvasQt1\").append(\"path\").attr(\"id\", \"pixel_arrowz8l\").attr(\"transform\", \"translate(15 8)\").attr(\"transform\", \"translate(8.5 15.5) rotate(-180)\").attr(\"d\", \"M0 0 L0 0.5 M -0.15 0.3 L0 0.5 L0.15 0.3\").attr(\"stroke-width\", \"0.1\").attr(\"stroke\", \"black\");});</script>"
      ]
     },
     "metadata": {},
     "output_type": "display_data"
    },
    {
     "data": {
      "text/html": [
       "<script>require([\"d3\"], function(d3) {d3.select(\".usersvg #canvasQt1\").append(\"path\").attr(\"id\", \"pixel_arrowdb9\").attr(\"transform\", \"translate(15 9)\").attr(\"transform\", \"translate(9.5 15.5) rotate(-180)\").attr(\"d\", \"M0 0 L0 0.5 M -0.15 0.3 L0 0.5 L0.15 0.3\").attr(\"stroke-width\", \"0.1\").attr(\"stroke\", \"black\");});</script>"
      ]
     },
     "metadata": {},
     "output_type": "display_data"
    },
    {
     "data": {
      "text/html": [
       "<script>require([\"d3\"], function(d3) {d3.select(\".usersvg #canvasQt1\").append(\"path\").attr(\"id\", \"pixel_arrowZJF\").attr(\"transform\", \"translate(15 10)\").attr(\"transform\", \"translate(10.5 15.5) rotate(-180)\").attr(\"d\", \"M0 0 L0 0.5 M -0.15 0.3 L0 0.5 L0.15 0.3\").attr(\"stroke-width\", \"0.1\").attr(\"stroke\", \"black\");});</script>"
      ]
     },
     "metadata": {},
     "output_type": "display_data"
    },
    {
     "data": {
      "text/html": [
       "<script>require([\"d3\"], function(d3) {d3.select(\".usersvg #canvasQt1\").append(\"path\").attr(\"id\", \"pixel_arrowW6q\").attr(\"transform\", \"translate(15 11)\").attr(\"transform\", \"translate(11.5 15.5) rotate(-180)\").attr(\"d\", \"M0 0 L0 0.5 M -0.15 0.3 L0 0.5 L0.15 0.3\").attr(\"stroke-width\", \"0.1\").attr(\"stroke\", \"black\");});</script>"
      ]
     },
     "metadata": {},
     "output_type": "display_data"
    },
    {
     "data": {
      "text/html": [
       "<script>require([\"d3\"], function(d3) {d3.select(\".usersvg #canvasQt1\").append(\"path\").attr(\"id\", \"pixel_arrowAgn\").attr(\"transform\", \"translate(15 12)\").attr(\"transform\", \"translate(12.5 15.5) rotate(-180)\").attr(\"d\", \"M0 0 L0 0.5 M -0.15 0.3 L0 0.5 L0.15 0.3\").attr(\"stroke-width\", \"0.1\").attr(\"stroke\", \"black\");});</script>"
      ]
     },
     "metadata": {},
     "output_type": "display_data"
    },
    {
     "data": {
      "text/html": [
       "<script>require([\"d3\"], function(d3) {d3.select(\".usersvg #canvasQt1\").append(\"path\").attr(\"id\", \"pixel_arrowmB2\").attr(\"transform\", \"translate(15 13)\").attr(\"transform\", \"translate(13.5 15.5) rotate(-180)\").attr(\"d\", \"M0 0 L0 0.5 M -0.15 0.3 L0 0.5 L0.15 0.3\").attr(\"stroke-width\", \"0.1\").attr(\"stroke\", \"black\");});</script>"
      ]
     },
     "metadata": {},
     "output_type": "display_data"
    },
    {
     "data": {
      "text/html": [
       "<script>require([\"d3\"], function(d3) {d3.select(\".usersvg #canvasQt1\").append(\"path\").attr(\"id\", \"pixel_arrowV0t\").attr(\"transform\", \"translate(15 14)\").attr(\"transform\", \"translate(14.5 15.5) rotate(-180)\").attr(\"d\", \"M0 0 L0 0.5 M -0.15 0.3 L0 0.5 L0.15 0.3\").attr(\"stroke-width\", \"0.1\").attr(\"stroke\", \"black\");});</script>"
      ]
     },
     "metadata": {},
     "output_type": "display_data"
    },
    {
     "data": {
      "text/html": [
       "<script>require([\"d3\"], function(d3) {d3.select(\".usersvg #canvasQt1\").append(\"path\").attr(\"id\", \"pixel_arrow1Yp\").attr(\"transform\", \"translate(15 15)\").attr(\"transform\", \"translate(15.5 15.5) rotate(-270)\").attr(\"d\", \"M0 0 L0 0.5 M -0.15 0.3 L0 0.5 L0.15 0.3\").attr(\"stroke-width\", \"0.1\").attr(\"stroke\", \"black\");});</script>"
      ]
     },
     "metadata": {},
     "output_type": "display_data"
    },
    {
     "data": {
      "text/html": [
       "<script>require([\"d3\"], function(d3) {d3.select(\".usersvg #canvasQt1\").append(\"path\").attr(\"id\", \"pixel_arrowdze\").attr(\"transform\", \"translate(15 16)\").attr(\"transform\", \"translate(16.5 15.5) rotate(-180)\").attr(\"d\", \"M0 0 L0 0.5 M -0.15 0.3 L0 0.5 L0.15 0.3\").attr(\"stroke-width\", \"0.1\").attr(\"stroke\", \"black\");});</script>"
      ]
     },
     "metadata": {},
     "output_type": "display_data"
    },
    {
     "data": {
      "text/html": [
       "<script>require([\"d3\"], function(d3) {d3.select(\".usersvg #canvasQt1\").append(\"path\").attr(\"id\", \"pixel_arrowcJm\").attr(\"transform\", \"translate(16 0)\").attr(\"transform\", \"translate(0.5 16.5) rotate(-90)\").attr(\"d\", \"M0 0 L0 0.5 M -0.15 0.3 L0 0.5 L0.15 0.3\").attr(\"stroke-width\", \"0.1\").attr(\"stroke\", \"black\");});</script>"
      ]
     },
     "metadata": {},
     "output_type": "display_data"
    },
    {
     "data": {
      "text/html": [
       "<script>require([\"d3\"], function(d3) {d3.select(\".usersvg #canvasQt1\").append(\"path\").attr(\"id\", \"pixel_arrow9Sb\").attr(\"transform\", \"translate(16 1)\").attr(\"transform\", \"translate(1.5 16.5) rotate(-180)\").attr(\"d\", \"M0 0 L0 0.5 M -0.15 0.3 L0 0.5 L0.15 0.3\").attr(\"stroke-width\", \"0.1\").attr(\"stroke\", \"black\");});</script>"
      ]
     },
     "metadata": {},
     "output_type": "display_data"
    },
    {
     "data": {
      "text/html": [
       "<script>require([\"d3\"], function(d3) {d3.select(\".usersvg #canvasQt1\").append(\"path\").attr(\"id\", \"pixel_arrowMyV\").attr(\"transform\", \"translate(16 2)\").attr(\"transform\", \"translate(2.5 16.5) rotate(-180)\").attr(\"d\", \"M0 0 L0 0.5 M -0.15 0.3 L0 0.5 L0.15 0.3\").attr(\"stroke-width\", \"0.1\").attr(\"stroke\", \"black\");});</script>"
      ]
     },
     "metadata": {},
     "output_type": "display_data"
    },
    {
     "data": {
      "text/html": [
       "<script>require([\"d3\"], function(d3) {d3.select(\".usersvg #canvasQt1\").append(\"path\").attr(\"id\", \"pixel_arrowSw5\").attr(\"transform\", \"translate(16 3)\").attr(\"transform\", \"translate(3.5 16.5) rotate(-90)\").attr(\"d\", \"M0 0 L0 0.5 M -0.15 0.3 L0 0.5 L0.15 0.3\").attr(\"stroke-width\", \"0.1\").attr(\"stroke\", \"black\");});</script>"
      ]
     },
     "metadata": {},
     "output_type": "display_data"
    },
    {
     "data": {
      "text/html": [
       "<script>require([\"d3\"], function(d3) {d3.select(\".usersvg #canvasQt1\").append(\"path\").attr(\"id\", \"pixel_arrow4CZ\").attr(\"transform\", \"translate(16 4)\").attr(\"transform\", \"translate(4.5 16.5) rotate(-180)\").attr(\"d\", \"M0 0 L0 0.5 M -0.15 0.3 L0 0.5 L0.15 0.3\").attr(\"stroke-width\", \"0.1\").attr(\"stroke\", \"black\");});</script>"
      ]
     },
     "metadata": {},
     "output_type": "display_data"
    },
    {
     "data": {
      "text/html": [
       "<script>require([\"d3\"], function(d3) {d3.select(\".usersvg #canvasQt1\").append(\"path\").attr(\"id\", \"pixel_arrowD1j\").attr(\"transform\", \"translate(16 5)\").attr(\"transform\", \"translate(5.5 16.5) rotate(-180)\").attr(\"d\", \"M0 0 L0 0.5 M -0.15 0.3 L0 0.5 L0.15 0.3\").attr(\"stroke-width\", \"0.1\").attr(\"stroke\", \"black\");});</script>"
      ]
     },
     "metadata": {},
     "output_type": "display_data"
    },
    {
     "data": {
      "text/html": [
       "<script>require([\"d3\"], function(d3) {d3.select(\".usersvg #canvasQt1\").append(\"path\").attr(\"id\", \"pixel_arrowvBW\").attr(\"transform\", \"translate(16 6)\").attr(\"transform\", \"translate(6.5 16.5) rotate(-90)\").attr(\"d\", \"M0 0 L0 0.5 M -0.15 0.3 L0 0.5 L0.15 0.3\").attr(\"stroke-width\", \"0.1\").attr(\"stroke\", \"black\");});</script>"
      ]
     },
     "metadata": {},
     "output_type": "display_data"
    },
    {
     "data": {
      "text/html": [
       "<script>require([\"d3\"], function(d3) {d3.select(\".usersvg #canvasQt1\").append(\"path\").attr(\"id\", \"pixel_arrow22V\").attr(\"transform\", \"translate(16 7)\").attr(\"transform\", \"translate(7.5 16.5) rotate(-90)\").attr(\"d\", \"M0 0 L0 0.5 M -0.15 0.3 L0 0.5 L0.15 0.3\").attr(\"stroke-width\", \"0.1\").attr(\"stroke\", \"black\");});</script>"
      ]
     },
     "metadata": {},
     "output_type": "display_data"
    },
    {
     "data": {
      "text/html": [
       "<script>require([\"d3\"], function(d3) {d3.select(\".usersvg #canvasQt1\").append(\"path\").attr(\"id\", \"pixel_arrowHTf\").attr(\"transform\", \"translate(16 8)\").attr(\"transform\", \"translate(8.5 16.5) rotate(-90)\").attr(\"d\", \"M0 0 L0 0.5 M -0.15 0.3 L0 0.5 L0.15 0.3\").attr(\"stroke-width\", \"0.1\").attr(\"stroke\", \"black\");});</script>"
      ]
     },
     "metadata": {},
     "output_type": "display_data"
    },
    {
     "data": {
      "text/html": [
       "<script>require([\"d3\"], function(d3) {d3.select(\".usersvg #canvasQt1\").append(\"path\").attr(\"id\", \"pixel_arrowhm6\").attr(\"transform\", \"translate(16 9)\").attr(\"transform\", \"translate(9.5 16.5) rotate(-180)\").attr(\"d\", \"M0 0 L0 0.5 M -0.15 0.3 L0 0.5 L0.15 0.3\").attr(\"stroke-width\", \"0.1\").attr(\"stroke\", \"black\");});</script>"
      ]
     },
     "metadata": {},
     "output_type": "display_data"
    },
    {
     "data": {
      "text/html": [
       "<script>require([\"d3\"], function(d3) {d3.select(\".usersvg #canvasQt1\").append(\"path\").attr(\"id\", \"pixel_arrowSnX\").attr(\"transform\", \"translate(16 10)\").attr(\"transform\", \"translate(10.5 16.5) rotate(-90)\").attr(\"d\", \"M0 0 L0 0.5 M -0.15 0.3 L0 0.5 L0.15 0.3\").attr(\"stroke-width\", \"0.1\").attr(\"stroke\", \"black\");});</script>"
      ]
     },
     "metadata": {},
     "output_type": "display_data"
    },
    {
     "data": {
      "text/html": [
       "<script>require([\"d3\"], function(d3) {d3.select(\".usersvg #canvasQt1\").append(\"path\").attr(\"id\", \"pixel_arrowYEF\").attr(\"transform\", \"translate(16 11)\").attr(\"transform\", \"translate(11.5 16.5) rotate(-180)\").attr(\"d\", \"M0 0 L0 0.5 M -0.15 0.3 L0 0.5 L0.15 0.3\").attr(\"stroke-width\", \"0.1\").attr(\"stroke\", \"black\");});</script>"
      ]
     },
     "metadata": {},
     "output_type": "display_data"
    },
    {
     "data": {
      "text/html": [
       "<script>require([\"d3\"], function(d3) {d3.select(\".usersvg #canvasQt1\").append(\"path\").attr(\"id\", \"pixel_arrowzj0\").attr(\"transform\", \"translate(16 12)\").attr(\"transform\", \"translate(12.5 16.5) rotate(-270)\").attr(\"d\", \"M0 0 L0 0.5 M -0.15 0.3 L0 0.5 L0.15 0.3\").attr(\"stroke-width\", \"0.1\").attr(\"stroke\", \"black\");});</script>"
      ]
     },
     "metadata": {},
     "output_type": "display_data"
    },
    {
     "data": {
      "text/html": [
       "<script>require([\"d3\"], function(d3) {d3.select(\".usersvg #canvasQt1\").append(\"path\").attr(\"id\", \"pixel_arrowuTs\").attr(\"transform\", \"translate(16 13)\").attr(\"transform\", \"translate(13.5 16.5) rotate(-270)\").attr(\"d\", \"M0 0 L0 0.5 M -0.15 0.3 L0 0.5 L0.15 0.3\").attr(\"stroke-width\", \"0.1\").attr(\"stroke\", \"black\");});</script>"
      ]
     },
     "metadata": {},
     "output_type": "display_data"
    },
    {
     "data": {
      "text/html": [
       "<script>require([\"d3\"], function(d3) {d3.select(\".usersvg #canvasQt1\").append(\"path\").attr(\"id\", \"pixel_arrowUlF\").attr(\"transform\", \"translate(16 14)\").attr(\"transform\", \"translate(14.5 16.5) rotate(-180)\").attr(\"d\", \"M0 0 L0 0.5 M -0.15 0.3 L0 0.5 L0.15 0.3\").attr(\"stroke-width\", \"0.1\").attr(\"stroke\", \"black\");});</script>"
      ]
     },
     "metadata": {},
     "output_type": "display_data"
    },
    {
     "data": {
      "text/html": [
       "<script>require([\"d3\"], function(d3) {d3.select(\".usersvg #canvasQt1\").append(\"path\").attr(\"id\", \"pixel_arrowx5V\").attr(\"transform\", \"translate(16 15)\").attr(\"transform\", \"translate(15.5 16.5) rotate(-270)\").attr(\"d\", \"M0 0 L0 0.5 M -0.15 0.3 L0 0.5 L0.15 0.3\").attr(\"stroke-width\", \"0.1\").attr(\"stroke\", \"black\");});</script>"
      ]
     },
     "metadata": {},
     "output_type": "display_data"
    },
    {
     "data": {
      "text/html": [
       "<script>require([\"d3\"], function(d3) {d3.select(\".usersvg #canvasQt1\").append(\"path\").attr(\"id\", \"pixel_arrowgJT\").attr(\"transform\", \"translate(16 16)\").attr(\"transform\", \"translate(16.5 16.5) rotate(-180)\").attr(\"d\", \"M0 0 L0 0.5 M -0.15 0.3 L0 0.5 L0.15 0.3\").attr(\"stroke-width\", \"0.1\").attr(\"stroke\", \"black\");});</script>"
      ]
     },
     "metadata": {},
     "output_type": "display_data"
    },
    {
     "data": {
      "text/html": [
       "<script>require([\"d3\"], function(d3) {d3.select(\".usersvg #canvasQt1\").append(\"path\").attr(\"id\", \"pixel_arrow5Ab\").attr(\"transform\", \"translate(17 0)\").attr(\"transform\", \"translate(0.5 17.5) rotate(-180)\").attr(\"d\", \"M0 0 L0 0.5 M -0.15 0.3 L0 0.5 L0.15 0.3\").attr(\"stroke-width\", \"0.1\").attr(\"stroke\", \"black\");});</script>"
      ]
     },
     "metadata": {},
     "output_type": "display_data"
    },
    {
     "data": {
      "text/html": [
       "<script>require([\"d3\"], function(d3) {d3.select(\".usersvg #canvasQt1\").append(\"path\").attr(\"id\", \"pixel_arrowhkc\").attr(\"transform\", \"translate(17 1)\").attr(\"transform\", \"translate(1.5 17.5) rotate(-180)\").attr(\"d\", \"M0 0 L0 0.5 M -0.15 0.3 L0 0.5 L0.15 0.3\").attr(\"stroke-width\", \"0.1\").attr(\"stroke\", \"black\");});</script>"
      ]
     },
     "metadata": {},
     "output_type": "display_data"
    },
    {
     "data": {
      "text/html": [
       "<script>require([\"d3\"], function(d3) {d3.select(\".usersvg #canvasQt1\").append(\"path\").attr(\"id\", \"pixel_arrowMNN\").attr(\"transform\", \"translate(17 2)\").attr(\"transform\", \"translate(2.5 17.5) rotate(-90)\").attr(\"d\", \"M0 0 L0 0.5 M -0.15 0.3 L0 0.5 L0.15 0.3\").attr(\"stroke-width\", \"0.1\").attr(\"stroke\", \"black\");});</script>"
      ]
     },
     "metadata": {},
     "output_type": "display_data"
    },
    {
     "data": {
      "text/html": [
       "<script>require([\"d3\"], function(d3) {d3.select(\".usersvg #canvasQt1\").append(\"path\").attr(\"id\", \"pixel_arrowDMN\").attr(\"transform\", \"translate(17 3)\").attr(\"transform\", \"translate(3.5 17.5) rotate(-90)\").attr(\"d\", \"M0 0 L0 0.5 M -0.15 0.3 L0 0.5 L0.15 0.3\").attr(\"stroke-width\", \"0.1\").attr(\"stroke\", \"black\");});</script>"
      ]
     },
     "metadata": {},
     "output_type": "display_data"
    },
    {
     "data": {
      "text/html": [
       "<script>require([\"d3\"], function(d3) {d3.select(\".usersvg #canvasQt1\").append(\"path\").attr(\"id\", \"pixel_arrowiOJ\").attr(\"transform\", \"translate(17 4)\").attr(\"transform\", \"translate(4.5 17.5) rotate(-360)\").attr(\"d\", \"M0 0 L0 0.5 M -0.15 0.3 L0 0.5 L0.15 0.3\").attr(\"stroke-width\", \"0.1\").attr(\"stroke\", \"black\");});</script>"
      ]
     },
     "metadata": {},
     "output_type": "display_data"
    },
    {
     "data": {
      "text/html": [
       "<script>require([\"d3\"], function(d3) {d3.select(\".usersvg #canvasQt1\").append(\"path\").attr(\"id\", \"pixel_arrowOv8\").attr(\"transform\", \"translate(17 5)\").attr(\"transform\", \"translate(5.5 17.5) rotate(-360)\").attr(\"d\", \"M0 0 L0 0.5 M -0.15 0.3 L0 0.5 L0.15 0.3\").attr(\"stroke-width\", \"0.1\").attr(\"stroke\", \"black\");});</script>"
      ]
     },
     "metadata": {},
     "output_type": "display_data"
    },
    {
     "data": {
      "text/html": [
       "<script>require([\"d3\"], function(d3) {d3.select(\".usersvg #canvasQt1\").append(\"path\").attr(\"id\", \"pixel_arrowqxc\").attr(\"transform\", \"translate(17 6)\").attr(\"transform\", \"translate(6.5 17.5) rotate(-90)\").attr(\"d\", \"M0 0 L0 0.5 M -0.15 0.3 L0 0.5 L0.15 0.3\").attr(\"stroke-width\", \"0.1\").attr(\"stroke\", \"black\");});</script>"
      ]
     },
     "metadata": {},
     "output_type": "display_data"
    },
    {
     "data": {
      "text/html": [
       "<script>require([\"d3\"], function(d3) {d3.select(\".usersvg #canvasQt1\").append(\"path\").attr(\"id\", \"pixel_arrowz8M\").attr(\"transform\", \"translate(17 7)\").attr(\"transform\", \"translate(7.5 17.5) rotate(-180)\").attr(\"d\", \"M0 0 L0 0.5 M -0.15 0.3 L0 0.5 L0.15 0.3\").attr(\"stroke-width\", \"0.1\").attr(\"stroke\", \"black\");});</script>"
      ]
     },
     "metadata": {},
     "output_type": "display_data"
    },
    {
     "data": {
      "text/html": [
       "<script>require([\"d3\"], function(d3) {d3.select(\".usersvg #canvasQt1\").append(\"path\").attr(\"id\", \"pixel_arrowFtd\").attr(\"transform\", \"translate(17 8)\").attr(\"transform\", \"translate(8.5 17.5) rotate(-180)\").attr(\"d\", \"M0 0 L0 0.5 M -0.15 0.3 L0 0.5 L0.15 0.3\").attr(\"stroke-width\", \"0.1\").attr(\"stroke\", \"black\");});</script>"
      ]
     },
     "metadata": {},
     "output_type": "display_data"
    },
    {
     "data": {
      "text/html": [
       "<script>require([\"d3\"], function(d3) {d3.select(\".usersvg #canvasQt1\").append(\"path\").attr(\"id\", \"pixel_arrow0Dt\").attr(\"transform\", \"translate(17 9)\").attr(\"transform\", \"translate(9.5 17.5) rotate(-180)\").attr(\"d\", \"M0 0 L0 0.5 M -0.15 0.3 L0 0.5 L0.15 0.3\").attr(\"stroke-width\", \"0.1\").attr(\"stroke\", \"black\");});</script>"
      ]
     },
     "metadata": {},
     "output_type": "display_data"
    },
    {
     "data": {
      "text/html": [
       "<script>require([\"d3\"], function(d3) {d3.select(\".usersvg #canvasQt1\").append(\"path\").attr(\"id\", \"pixel_arrowxzS\").attr(\"transform\", \"translate(17 10)\").attr(\"transform\", \"translate(10.5 17.5) rotate(-90)\").attr(\"d\", \"M0 0 L0 0.5 M -0.15 0.3 L0 0.5 L0.15 0.3\").attr(\"stroke-width\", \"0.1\").attr(\"stroke\", \"black\");});</script>"
      ]
     },
     "metadata": {},
     "output_type": "display_data"
    },
    {
     "data": {
      "text/html": [
       "<script>require([\"d3\"], function(d3) {d3.select(\".usersvg #canvasQt1\").append(\"path\").attr(\"id\", \"pixel_arrowDLb\").attr(\"transform\", \"translate(17 11)\").attr(\"transform\", \"translate(11.5 17.5) rotate(-180)\").attr(\"d\", \"M0 0 L0 0.5 M -0.15 0.3 L0 0.5 L0.15 0.3\").attr(\"stroke-width\", \"0.1\").attr(\"stroke\", \"black\");});</script>"
      ]
     },
     "metadata": {},
     "output_type": "display_data"
    },
    {
     "data": {
      "text/html": [
       "<script>require([\"d3\"], function(d3) {d3.select(\".usersvg #canvasQt1\").append(\"path\").attr(\"id\", \"pixel_arrowvGg\").attr(\"transform\", \"translate(17 12)\").attr(\"transform\", \"translate(12.5 17.5) rotate(-180)\").attr(\"d\", \"M0 0 L0 0.5 M -0.15 0.3 L0 0.5 L0.15 0.3\").attr(\"stroke-width\", \"0.1\").attr(\"stroke\", \"black\");});</script>"
      ]
     },
     "metadata": {},
     "output_type": "display_data"
    },
    {
     "data": {
      "text/html": [
       "<script>require([\"d3\"], function(d3) {d3.select(\".usersvg #canvasQt1\").append(\"path\").attr(\"id\", \"pixel_arrowAEv\").attr(\"transform\", \"translate(17 13)\").attr(\"transform\", \"translate(13.5 17.5) rotate(-270)\").attr(\"d\", \"M0 0 L0 0.5 M -0.15 0.3 L0 0.5 L0.15 0.3\").attr(\"stroke-width\", \"0.1\").attr(\"stroke\", \"black\");});</script>"
      ]
     },
     "metadata": {},
     "output_type": "display_data"
    },
    {
     "data": {
      "text/html": [
       "<script>require([\"d3\"], function(d3) {d3.select(\".usersvg #canvasQt1\").append(\"path\").attr(\"id\", \"pixel_arrowrKv\").attr(\"transform\", \"translate(17 14)\").attr(\"transform\", \"translate(14.5 17.5) rotate(-180)\").attr(\"d\", \"M0 0 L0 0.5 M -0.15 0.3 L0 0.5 L0.15 0.3\").attr(\"stroke-width\", \"0.1\").attr(\"stroke\", \"black\");});</script>"
      ]
     },
     "metadata": {},
     "output_type": "display_data"
    },
    {
     "data": {
      "text/html": [
       "<script>require([\"d3\"], function(d3) {d3.select(\".usersvg #canvasQt1\").append(\"path\").attr(\"id\", \"pixel_arrowfY5\").attr(\"transform\", \"translate(17 15)\").attr(\"transform\", \"translate(15.5 17.5) rotate(-180)\").attr(\"d\", \"M0 0 L0 0.5 M -0.15 0.3 L0 0.5 L0.15 0.3\").attr(\"stroke-width\", \"0.1\").attr(\"stroke\", \"black\");});</script>"
      ]
     },
     "metadata": {},
     "output_type": "display_data"
    },
    {
     "data": {
      "text/html": [
       "<script>require([\"d3\"], function(d3) {d3.select(\".usersvg #canvasQt1\").append(\"path\").attr(\"id\", \"pixel_arrowL9y\").attr(\"transform\", \"translate(17 16)\").attr(\"transform\", \"translate(16.5 17.5) rotate(-180)\").attr(\"d\", \"M0 0 L0 0.5 M -0.15 0.3 L0 0.5 L0.15 0.3\").attr(\"stroke-width\", \"0.1\").attr(\"stroke\", \"black\");});</script>"
      ]
     },
     "metadata": {},
     "output_type": "display_data"
    }
   ],
   "source": [
    "rotation = Dict(\"up\" => 90, \"down\" => 270, \"right\" => 0, \"left\" => 180)\n",
    "for s in right_turn.states add_pixel_arrow(rtcanvas2, s..., rotation[greedy[s]]) end"
   ]
  },
  {
   "cell_type": "code",
   "execution_count": 24,
   "metadata": {
    "collapsed": false
   },
   "outputs": [
    {
     "data": {
      "text/html": [
       "<script>require([\"d3\"], function(d3) {d3.select(\".usersvg #canvasQt1\").append(\"path\").attr(\"id\", \"pixel_crossm9B\").attr(\"transform\", \"translate(16 3)\").attr(\"transform\", \"translate(3 16)\").attr(\"d\", \"M0.5 0 L0.5 1 M0 0.5 L1 0.5\").attr(\"stroke-width\", \"0.2\").attr(\"stroke\", \"blue\");});</script>"
      ]
     },
     "metadata": {},
     "output_type": "display_data"
    },
    {
     "data": {
      "text/html": [
       "<script>\n",
       "require([\"d3\"], function(d3) {\n",
       "    d3.select(\".usersvg #pixel_crossm9B\").attr(\"transform\", \"translate(2 12)\");\n",
       "});\n",
       "</script>\n"
      ]
     },
     "metadata": {},
     "output_type": "display_data"
    },
    {
     "data": {
      "text/html": [
       "<script>\n",
       "require([\"d3\"], function(d3) {\n",
       "    d3.select(\".usersvg #pixel_crossm9B\").attr(\"transform\", \"translate(2 13)\");\n",
       "});\n",
       "</script>\n"
      ]
     },
     "metadata": {},
     "output_type": "display_data"
    },
    {
     "data": {
      "text/html": [
       "<script>\n",
       "require([\"d3\"], function(d3) {\n",
       "    d3.select(\".usersvg #pixel_crossm9B\").attr(\"transform\", \"translate(2 12)\");\n",
       "});\n",
       "</script>\n"
      ]
     },
     "metadata": {},
     "output_type": "display_data"
    },
    {
     "data": {
      "text/html": [
       "<script>\n",
       "require([\"d3\"], function(d3) {\n",
       "    d3.select(\".usersvg #pixel_crossm9B\").attr(\"transform\", \"translate(2 11)\");\n",
       "});\n",
       "</script>\n"
      ]
     },
     "metadata": {},
     "output_type": "display_data"
    },
    {
     "data": {
      "text/html": [
       "<script>\n",
       "require([\"d3\"], function(d3) {\n",
       "    d3.select(\".usersvg #pixel_crossm9B\").attr(\"transform\", \"translate(2 10)\");\n",
       "});\n",
       "</script>\n"
      ]
     },
     "metadata": {},
     "output_type": "display_data"
    },
    {
     "data": {
      "text/html": [
       "<script>\n",
       "require([\"d3\"], function(d3) {\n",
       "    d3.select(\".usersvg #pixel_crossm9B\").attr(\"transform\", \"translate(2 9)\");\n",
       "});\n",
       "</script>\n"
      ]
     },
     "metadata": {},
     "output_type": "display_data"
    },
    {
     "data": {
      "text/html": [
       "<script>\n",
       "require([\"d3\"], function(d3) {\n",
       "    d3.select(\".usersvg #pixel_crossm9B\").attr(\"transform\", \"translate(3 9)\");\n",
       "});\n",
       "</script>\n"
      ]
     },
     "metadata": {},
     "output_type": "display_data"
    },
    {
     "data": {
      "text/html": [
       "<script>\n",
       "require([\"d3\"], function(d3) {\n",
       "    d3.select(\".usersvg #pixel_crossm9B\").attr(\"transform\", \"translate(2 9)\");\n",
       "});\n",
       "</script>\n"
      ]
     },
     "metadata": {},
     "output_type": "display_data"
    },
    {
     "data": {
      "text/html": [
       "<script>\n",
       "require([\"d3\"], function(d3) {\n",
       "    d3.select(\".usersvg #pixel_crossm9B\").attr(\"transform\", \"translate(3 9)\");\n",
       "});\n",
       "</script>\n"
      ]
     },
     "metadata": {},
     "output_type": "display_data"
    },
    {
     "data": {
      "text/html": [
       "<script>\n",
       "require([\"d3\"], function(d3) {\n",
       "    d3.select(\".usersvg #pixel_crossm9B\").attr(\"transform\", \"translate(3 8)\");\n",
       "});\n",
       "</script>\n"
      ]
     },
     "metadata": {},
     "output_type": "display_data"
    },
    {
     "data": {
      "text/html": [
       "<script>\n",
       "require([\"d3\"], function(d3) {\n",
       "    d3.select(\".usersvg #pixel_crossm9B\").attr(\"transform\", \"translate(3 9)\");\n",
       "});\n",
       "</script>\n"
      ]
     },
     "metadata": {},
     "output_type": "display_data"
    },
    {
     "data": {
      "text/html": [
       "<script>\n",
       "require([\"d3\"], function(d3) {\n",
       "    d3.select(\".usersvg #pixel_crossm9B\").attr(\"transform\", \"translate(3 8)\");\n",
       "});\n",
       "</script>\n"
      ]
     },
     "metadata": {},
     "output_type": "display_data"
    },
    {
     "data": {
      "text/html": [
       "<script>\n",
       "require([\"d3\"], function(d3) {\n",
       "    d3.select(\".usersvg #pixel_crossm9B\").attr(\"transform\", \"translate(3 9)\");\n",
       "});\n",
       "</script>\n"
      ]
     },
     "metadata": {},
     "output_type": "display_data"
    },
    {
     "data": {
      "text/html": [
       "<script>\n",
       "require([\"d3\"], function(d3) {\n",
       "    d3.select(\".usersvg #pixel_crossm9B\").attr(\"transform\", \"translate(3 8)\");\n",
       "});\n",
       "</script>\n"
      ]
     },
     "metadata": {},
     "output_type": "display_data"
    },
    {
     "data": {
      "text/html": [
       "<script>\n",
       "require([\"d3\"], function(d3) {\n",
       "    d3.select(\".usersvg #pixel_crossm9B\").attr(\"transform\", \"translate(3 9)\");\n",
       "});\n",
       "</script>\n"
      ]
     },
     "metadata": {},
     "output_type": "display_data"
    },
    {
     "data": {
      "text/html": [
       "<script>\n",
       "require([\"d3\"], function(d3) {\n",
       "    d3.select(\".usersvg #pixel_crossm9B\").attr(\"transform\", \"translate(3 8)\");\n",
       "});\n",
       "</script>\n"
      ]
     },
     "metadata": {},
     "output_type": "display_data"
    },
    {
     "data": {
      "text/html": [
       "<script>\n",
       "require([\"d3\"], function(d3) {\n",
       "    d3.select(\".usersvg #pixel_crossm9B\").attr(\"transform\", \"translate(3 9)\");\n",
       "});\n",
       "</script>\n"
      ]
     },
     "metadata": {},
     "output_type": "display_data"
    },
    {
     "data": {
      "text/html": [
       "<script>\n",
       "require([\"d3\"], function(d3) {\n",
       "    d3.select(\".usersvg #pixel_crossm9B\").attr(\"transform\", \"translate(4 9)\");\n",
       "});\n",
       "</script>\n"
      ]
     },
     "metadata": {},
     "output_type": "display_data"
    },
    {
     "data": {
      "text/html": [
       "<script>\n",
       "require([\"d3\"], function(d3) {\n",
       "    d3.select(\".usersvg #pixel_crossm9B\").attr(\"transform\", \"translate(3 9)\");\n",
       "});\n",
       "</script>\n"
      ]
     },
     "metadata": {},
     "output_type": "display_data"
    },
    {
     "data": {
      "text/html": [
       "<script>\n",
       "require([\"d3\"], function(d3) {\n",
       "    d3.select(\".usersvg #pixel_crossm9B\").attr(\"transform\", \"translate(3 8)\");\n",
       "});\n",
       "</script>\n"
      ]
     },
     "metadata": {},
     "output_type": "display_data"
    },
    {
     "data": {
      "text/html": [
       "<script>\n",
       "require([\"d3\"], function(d3) {\n",
       "    d3.select(\".usersvg #pixel_crossm9B\").attr(\"transform\", \"translate(3 9)\");\n",
       "});\n",
       "</script>\n"
      ]
     },
     "metadata": {},
     "output_type": "display_data"
    },
    {
     "data": {
      "text/html": [
       "<script>\n",
       "require([\"d3\"], function(d3) {\n",
       "    d3.select(\".usersvg #pixel_crossm9B\").attr(\"transform\", \"translate(3 8)\");\n",
       "});\n",
       "</script>\n"
      ]
     },
     "metadata": {},
     "output_type": "display_data"
    },
    {
     "data": {
      "text/html": [
       "<script>\n",
       "require([\"d3\"], function(d3) {\n",
       "    d3.select(\".usersvg #pixel_crossm9B\").attr(\"transform\", \"translate(3 9)\");\n",
       "});\n",
       "</script>\n"
      ]
     },
     "metadata": {},
     "output_type": "display_data"
    },
    {
     "data": {
      "text/html": [
       "<script>\n",
       "require([\"d3\"], function(d3) {\n",
       "    d3.select(\".usersvg #pixel_crossm9B\").attr(\"transform\", \"translate(3 8)\");\n",
       "});\n",
       "</script>\n"
      ]
     },
     "metadata": {},
     "output_type": "display_data"
    },
    {
     "data": {
      "text/html": [
       "<script>\n",
       "require([\"d3\"], function(d3) {\n",
       "    d3.select(\".usersvg #pixel_crossm9B\").attr(\"transform\", \"translate(3 9)\");\n",
       "});\n",
       "</script>\n"
      ]
     },
     "metadata": {},
     "output_type": "display_data"
    },
    {
     "data": {
      "text/html": [
       "<script>\n",
       "require([\"d3\"], function(d3) {\n",
       "    d3.select(\".usersvg #pixel_crossm9B\").attr(\"transform\", \"translate(3 8)\");\n",
       "});\n",
       "</script>\n"
      ]
     },
     "metadata": {},
     "output_type": "display_data"
    },
    {
     "data": {
      "text/html": [
       "<script>\n",
       "require([\"d3\"], function(d3) {\n",
       "    d3.select(\".usersvg #pixel_crossm9B\").attr(\"transform\", \"translate(3 9)\");\n",
       "});\n",
       "</script>\n"
      ]
     },
     "metadata": {},
     "output_type": "display_data"
    },
    {
     "data": {
      "text/html": [
       "<script>\n",
       "require([\"d3\"], function(d3) {\n",
       "    d3.select(\".usersvg #pixel_crossm9B\").attr(\"transform\", \"translate(3 8)\");\n",
       "});\n",
       "</script>\n"
      ]
     },
     "metadata": {},
     "output_type": "display_data"
    },
    {
     "data": {
      "text/html": [
       "<script>\n",
       "require([\"d3\"], function(d3) {\n",
       "    d3.select(\".usersvg #pixel_crossm9B\").attr(\"transform\", \"translate(3 9)\");\n",
       "});\n",
       "</script>\n"
      ]
     },
     "metadata": {},
     "output_type": "display_data"
    },
    {
     "data": {
      "text/html": [
       "<script>\n",
       "require([\"d3\"], function(d3) {\n",
       "    d3.select(\".usersvg #pixel_crossm9B\").attr(\"transform\", \"translate(3 8)\");\n",
       "});\n",
       "</script>\n"
      ]
     },
     "metadata": {},
     "output_type": "display_data"
    },
    {
     "data": {
      "text/html": [
       "<script>\n",
       "require([\"d3\"], function(d3) {\n",
       "    d3.select(\".usersvg #pixel_crossm9B\").attr(\"transform\", \"translate(3 9)\");\n",
       "});\n",
       "</script>\n"
      ]
     },
     "metadata": {},
     "output_type": "display_data"
    },
    {
     "data": {
      "text/html": [
       "<script>\n",
       "require([\"d3\"], function(d3) {\n",
       "    d3.select(\".usersvg #pixel_crossm9B\").attr(\"transform\", \"translate(3 8)\");\n",
       "});\n",
       "</script>\n"
      ]
     },
     "metadata": {},
     "output_type": "display_data"
    },
    {
     "data": {
      "text/html": [
       "<script>\n",
       "require([\"d3\"], function(d3) {\n",
       "    d3.select(\".usersvg #pixel_crossm9B\").attr(\"transform\", \"translate(3 9)\");\n",
       "});\n",
       "</script>\n"
      ]
     },
     "metadata": {},
     "output_type": "display_data"
    },
    {
     "data": {
      "text/html": [
       "<script>\n",
       "require([\"d3\"], function(d3) {\n",
       "    d3.select(\".usersvg #pixel_crossm9B\").attr(\"transform\", \"translate(2 9)\");\n",
       "});\n",
       "</script>\n"
      ]
     },
     "metadata": {},
     "output_type": "display_data"
    },
    {
     "data": {
      "text/html": [
       "<script>\n",
       "require([\"d3\"], function(d3) {\n",
       "    d3.select(\".usersvg #pixel_crossm9B\").attr(\"transform\", \"translate(3 9)\");\n",
       "});\n",
       "</script>\n"
      ]
     },
     "metadata": {},
     "output_type": "display_data"
    },
    {
     "data": {
      "text/html": [
       "<script>\n",
       "require([\"d3\"], function(d3) {\n",
       "    d3.select(\".usersvg #pixel_crossm9B\").attr(\"transform\", \"translate(3 8)\");\n",
       "});\n",
       "</script>\n"
      ]
     },
     "metadata": {},
     "output_type": "display_data"
    },
    {
     "data": {
      "text/html": [
       "<script>\n",
       "require([\"d3\"], function(d3) {\n",
       "    d3.select(\".usersvg #pixel_crossm9B\").attr(\"transform\", \"translate(3 9)\");\n",
       "});\n",
       "</script>\n"
      ]
     },
     "metadata": {},
     "output_type": "display_data"
    },
    {
     "data": {
      "text/html": [
       "<script>\n",
       "require([\"d3\"], function(d3) {\n",
       "    d3.select(\".usersvg #pixel_crossm9B\").attr(\"transform\", \"translate(3 8)\");\n",
       "});\n",
       "</script>\n"
      ]
     },
     "metadata": {},
     "output_type": "display_data"
    },
    {
     "data": {
      "text/html": [
       "<script>\n",
       "require([\"d3\"], function(d3) {\n",
       "    d3.select(\".usersvg #pixel_crossm9B\").attr(\"transform\", \"translate(3 9)\");\n",
       "});\n",
       "</script>\n"
      ]
     },
     "metadata": {},
     "output_type": "display_data"
    },
    {
     "data": {
      "text/html": [
       "<script>\n",
       "require([\"d3\"], function(d3) {\n",
       "    d3.select(\".usersvg #pixel_crossm9B\").attr(\"transform\", \"translate(3 8)\");\n",
       "});\n",
       "</script>\n"
      ]
     },
     "metadata": {},
     "output_type": "display_data"
    },
    {
     "data": {
      "text/html": [
       "<script>\n",
       "require([\"d3\"], function(d3) {\n",
       "    d3.select(\".usersvg #pixel_crossm9B\").attr(\"transform\", \"translate(3 9)\");\n",
       "});\n",
       "</script>\n"
      ]
     },
     "metadata": {},
     "output_type": "display_data"
    },
    {
     "data": {
      "text/html": [
       "<script>\n",
       "require([\"d3\"], function(d3) {\n",
       "    d3.select(\".usersvg #pixel_crossm9B\").attr(\"transform\", \"translate(3 8)\");\n",
       "});\n",
       "</script>\n"
      ]
     },
     "metadata": {},
     "output_type": "display_data"
    },
    {
     "data": {
      "text/html": [
       "<script>\n",
       "require([\"d3\"], function(d3) {\n",
       "    d3.select(\".usersvg #pixel_crossm9B\").attr(\"transform\", \"translate(3 9)\");\n",
       "});\n",
       "</script>\n"
      ]
     },
     "metadata": {},
     "output_type": "display_data"
    },
    {
     "data": {
      "text/html": [
       "<script>\n",
       "require([\"d3\"], function(d3) {\n",
       "    d3.select(\".usersvg #pixel_crossm9B\").attr(\"transform\", \"translate(3 8)\");\n",
       "});\n",
       "</script>\n"
      ]
     },
     "metadata": {},
     "output_type": "display_data"
    },
    {
     "data": {
      "text/html": [
       "<script>\n",
       "require([\"d3\"], function(d3) {\n",
       "    d3.select(\".usersvg #pixel_crossm9B\").attr(\"transform\", \"translate(3 9)\");\n",
       "});\n",
       "</script>\n"
      ]
     },
     "metadata": {},
     "output_type": "display_data"
    },
    {
     "data": {
      "text/html": [
       "<script>\n",
       "require([\"d3\"], function(d3) {\n",
       "    d3.select(\".usersvg #pixel_crossm9B\").attr(\"transform\", \"translate(4 9)\");\n",
       "});\n",
       "</script>\n"
      ]
     },
     "metadata": {},
     "output_type": "display_data"
    },
    {
     "data": {
      "text/html": [
       "<script>\n",
       "require([\"d3\"], function(d3) {\n",
       "    d3.select(\".usersvg #pixel_crossm9B\").attr(\"transform\", \"translate(3 9)\");\n",
       "});\n",
       "</script>\n"
      ]
     },
     "metadata": {},
     "output_type": "display_data"
    },
    {
     "data": {
      "text/html": [
       "<script>\n",
       "require([\"d3\"], function(d3) {\n",
       "    d3.select(\".usersvg #pixel_crossm9B\").attr(\"transform\", \"translate(3 8)\");\n",
       "});\n",
       "</script>\n"
      ]
     },
     "metadata": {},
     "output_type": "display_data"
    },
    {
     "data": {
      "text/html": [
       "<script>\n",
       "require([\"d3\"], function(d3) {\n",
       "    d3.select(\".usersvg #pixel_crossm9B\").attr(\"transform\", \"translate(3 9)\");\n",
       "});\n",
       "</script>\n"
      ]
     },
     "metadata": {},
     "output_type": "display_data"
    },
    {
     "data": {
      "text/html": [
       "<script>\n",
       "require([\"d3\"], function(d3) {\n",
       "    d3.select(\".usersvg #pixel_crossm9B\").attr(\"transform\", \"translate(3 8)\");\n",
       "});\n",
       "</script>\n"
      ]
     },
     "metadata": {},
     "output_type": "display_data"
    },
    {
     "data": {
      "text/html": [
       "<script>\n",
       "require([\"d3\"], function(d3) {\n",
       "    d3.select(\".usersvg #pixel_crossm9B\").attr(\"transform\", \"translate(3 9)\");\n",
       "});\n",
       "</script>\n"
      ]
     },
     "metadata": {},
     "output_type": "display_data"
    },
    {
     "data": {
      "text/html": [
       "<script>\n",
       "require([\"d3\"], function(d3) {\n",
       "    d3.select(\".usersvg #pixel_crossm9B\").attr(\"transform\", \"translate(3 8)\");\n",
       "});\n",
       "</script>\n"
      ]
     },
     "metadata": {},
     "output_type": "display_data"
    },
    {
     "data": {
      "text/html": [
       "<script>\n",
       "require([\"d3\"], function(d3) {\n",
       "    d3.select(\".usersvg #pixel_crossm9B\").attr(\"transform\", \"translate(3 9)\");\n",
       "});\n",
       "</script>\n"
      ]
     },
     "metadata": {},
     "output_type": "display_data"
    },
    {
     "data": {
      "text/html": [
       "<script>\n",
       "require([\"d3\"], function(d3) {\n",
       "    d3.select(\".usersvg #pixel_crossm9B\").attr(\"transform\", \"translate(3 8)\");\n",
       "});\n",
       "</script>\n"
      ]
     },
     "metadata": {},
     "output_type": "display_data"
    },
    {
     "data": {
      "text/html": [
       "<script>\n",
       "require([\"d3\"], function(d3) {\n",
       "    d3.select(\".usersvg #pixel_crossm9B\").attr(\"transform\", \"translate(3 9)\");\n",
       "});\n",
       "</script>\n"
      ]
     },
     "metadata": {},
     "output_type": "display_data"
    },
    {
     "data": {
      "text/html": [
       "<script>\n",
       "require([\"d3\"], function(d3) {\n",
       "    d3.select(\".usersvg #pixel_crossm9B\").attr(\"transform\", \"translate(4 9)\");\n",
       "});\n",
       "</script>\n"
      ]
     },
     "metadata": {},
     "output_type": "display_data"
    },
    {
     "data": {
      "text/html": [
       "<script>\n",
       "require([\"d3\"], function(d3) {\n",
       "    d3.select(\".usersvg #pixel_crossm9B\").attr(\"transform\", \"translate(3 9)\");\n",
       "});\n",
       "</script>\n"
      ]
     },
     "metadata": {},
     "output_type": "display_data"
    },
    {
     "data": {
      "text/html": [
       "<script>\n",
       "require([\"d3\"], function(d3) {\n",
       "    d3.select(\".usersvg #pixel_crossm9B\").attr(\"transform\", \"translate(2 9)\");\n",
       "});\n",
       "</script>\n"
      ]
     },
     "metadata": {},
     "output_type": "display_data"
    },
    {
     "data": {
      "text/html": [
       "<script>\n",
       "require([\"d3\"], function(d3) {\n",
       "    d3.select(\".usersvg #pixel_crossm9B\").attr(\"transform\", \"translate(3 9)\");\n",
       "});\n",
       "</script>\n"
      ]
     },
     "metadata": {},
     "output_type": "display_data"
    },
    {
     "data": {
      "text/html": [
       "<script>\n",
       "require([\"d3\"], function(d3) {\n",
       "    d3.select(\".usersvg #pixel_crossm9B\").attr(\"transform\", \"translate(3 8)\");\n",
       "});\n",
       "</script>\n"
      ]
     },
     "metadata": {},
     "output_type": "display_data"
    },
    {
     "data": {
      "text/html": [
       "<script>\n",
       "require([\"d3\"], function(d3) {\n",
       "    d3.select(\".usersvg #pixel_crossm9B\").attr(\"transform\", \"translate(3 9)\");\n",
       "});\n",
       "</script>\n"
      ]
     },
     "metadata": {},
     "output_type": "display_data"
    },
    {
     "data": {
      "text/html": [
       "<script>\n",
       "require([\"d3\"], function(d3) {\n",
       "    d3.select(\".usersvg #pixel_crossm9B\").attr(\"transform\", \"translate(3 8)\");\n",
       "});\n",
       "</script>\n"
      ]
     },
     "metadata": {},
     "output_type": "display_data"
    },
    {
     "data": {
      "text/html": [
       "<script>\n",
       "require([\"d3\"], function(d3) {\n",
       "    d3.select(\".usersvg #pixel_crossm9B\").attr(\"transform\", \"translate(3 9)\");\n",
       "});\n",
       "</script>\n"
      ]
     },
     "metadata": {},
     "output_type": "display_data"
    },
    {
     "data": {
      "text/html": [
       "<script>\n",
       "require([\"d3\"], function(d3) {\n",
       "    d3.select(\".usersvg #pixel_crossm9B\").attr(\"transform\", \"translate(3 8)\");\n",
       "});\n",
       "</script>\n"
      ]
     },
     "metadata": {},
     "output_type": "display_data"
    },
    {
     "data": {
      "text/html": [
       "<script>\n",
       "require([\"d3\"], function(d3) {\n",
       "    d3.select(\".usersvg #pixel_crossm9B\").attr(\"transform\", \"translate(3 9)\");\n",
       "});\n",
       "</script>\n"
      ]
     },
     "metadata": {},
     "output_type": "display_data"
    },
    {
     "data": {
      "text/html": [
       "<script>\n",
       "require([\"d3\"], function(d3) {\n",
       "    d3.select(\".usersvg #pixel_crossm9B\").attr(\"transform\", \"translate(3 8)\");\n",
       "});\n",
       "</script>\n"
      ]
     },
     "metadata": {},
     "output_type": "display_data"
    },
    {
     "data": {
      "text/html": [
       "<script>\n",
       "require([\"d3\"], function(d3) {\n",
       "    d3.select(\".usersvg #pixel_crossm9B\").attr(\"transform\", \"translate(3 9)\");\n",
       "});\n",
       "</script>\n"
      ]
     },
     "metadata": {},
     "output_type": "display_data"
    },
    {
     "data": {
      "text/html": [
       "<script>\n",
       "require([\"d3\"], function(d3) {\n",
       "    d3.select(\".usersvg #pixel_crossm9B\").attr(\"transform\", \"translate(3 8)\");\n",
       "});\n",
       "</script>\n"
      ]
     },
     "metadata": {},
     "output_type": "display_data"
    },
    {
     "data": {
      "text/html": [
       "<script>\n",
       "require([\"d3\"], function(d3) {\n",
       "    d3.select(\".usersvg #pixel_crossm9B\").attr(\"transform\", \"translate(3 9)\");\n",
       "});\n",
       "</script>\n"
      ]
     },
     "metadata": {},
     "output_type": "display_data"
    },
    {
     "data": {
      "text/html": [
       "<script>\n",
       "require([\"d3\"], function(d3) {\n",
       "    d3.select(\".usersvg #pixel_crossm9B\").attr(\"transform\", \"translate(3 8)\");\n",
       "});\n",
       "</script>\n"
      ]
     },
     "metadata": {},
     "output_type": "display_data"
    },
    {
     "data": {
      "text/html": [
       "<script>\n",
       "require([\"d3\"], function(d3) {\n",
       "    d3.select(\".usersvg #pixel_crossm9B\").attr(\"transform\", \"translate(3 9)\");\n",
       "});\n",
       "</script>\n"
      ]
     },
     "metadata": {},
     "output_type": "display_data"
    },
    {
     "data": {
      "text/html": [
       "<script>\n",
       "require([\"d3\"], function(d3) {\n",
       "    d3.select(\".usersvg #pixel_crossm9B\").attr(\"transform\", \"translate(3 10)\");\n",
       "});\n",
       "</script>\n"
      ]
     },
     "metadata": {},
     "output_type": "display_data"
    },
    {
     "data": {
      "text/html": [
       "<script>\n",
       "require([\"d3\"], function(d3) {\n",
       "    d3.select(\".usersvg #pixel_crossm9B\").attr(\"transform\", \"translate(3 9)\");\n",
       "});\n",
       "</script>\n"
      ]
     },
     "metadata": {},
     "output_type": "display_data"
    },
    {
     "data": {
      "text/html": [
       "<script>\n",
       "require([\"d3\"], function(d3) {\n",
       "    d3.select(\".usersvg #pixel_crossm9B\").attr(\"transform\", \"translate(3 8)\");\n",
       "});\n",
       "</script>\n"
      ]
     },
     "metadata": {},
     "output_type": "display_data"
    },
    {
     "data": {
      "text/html": [
       "<script>\n",
       "require([\"d3\"], function(d3) {\n",
       "    d3.select(\".usersvg #pixel_crossm9B\").attr(\"transform\", \"translate(3 9)\");\n",
       "});\n",
       "</script>\n"
      ]
     },
     "metadata": {},
     "output_type": "display_data"
    },
    {
     "data": {
      "text/html": [
       "<script>\n",
       "require([\"d3\"], function(d3) {\n",
       "    d3.select(\".usersvg #pixel_crossm9B\").attr(\"transform\", \"translate(3 8)\");\n",
       "});\n",
       "</script>\n"
      ]
     },
     "metadata": {},
     "output_type": "display_data"
    },
    {
     "data": {
      "text/html": [
       "<script>\n",
       "require([\"d3\"], function(d3) {\n",
       "    d3.select(\".usersvg #pixel_crossm9B\").attr(\"transform\", \"translate(3 9)\");\n",
       "});\n",
       "</script>\n"
      ]
     },
     "metadata": {},
     "output_type": "display_data"
    },
    {
     "data": {
      "text/html": [
       "<script>\n",
       "require([\"d3\"], function(d3) {\n",
       "    d3.select(\".usersvg #pixel_crossm9B\").attr(\"transform\", \"translate(2 9)\");\n",
       "});\n",
       "</script>\n"
      ]
     },
     "metadata": {},
     "output_type": "display_data"
    },
    {
     "data": {
      "text/html": [
       "<script>\n",
       "require([\"d3\"], function(d3) {\n",
       "    d3.select(\".usersvg #pixel_crossm9B\").attr(\"transform\", \"translate(3 9)\");\n",
       "});\n",
       "</script>\n"
      ]
     },
     "metadata": {},
     "output_type": "display_data"
    },
    {
     "data": {
      "text/html": [
       "<script>\n",
       "require([\"d3\"], function(d3) {\n",
       "    d3.select(\".usersvg #pixel_crossm9B\").attr(\"transform\", \"translate(3 8)\");\n",
       "});\n",
       "</script>\n"
      ]
     },
     "metadata": {},
     "output_type": "display_data"
    },
    {
     "data": {
      "text/html": [
       "<script>\n",
       "require([\"d3\"], function(d3) {\n",
       "    d3.select(\".usersvg #pixel_crossm9B\").attr(\"transform\", \"translate(3 9)\");\n",
       "});\n",
       "</script>\n"
      ]
     },
     "metadata": {},
     "output_type": "display_data"
    },
    {
     "data": {
      "text/html": [
       "<script>\n",
       "require([\"d3\"], function(d3) {\n",
       "    d3.select(\".usersvg #pixel_crossm9B\").attr(\"transform\", \"translate(3 8)\");\n",
       "});\n",
       "</script>\n"
      ]
     },
     "metadata": {},
     "output_type": "display_data"
    },
    {
     "data": {
      "text/html": [
       "<script>\n",
       "require([\"d3\"], function(d3) {\n",
       "    d3.select(\".usersvg #pixel_crossm9B\").attr(\"transform\", \"translate(4 8)\");\n",
       "});\n",
       "</script>\n"
      ]
     },
     "metadata": {},
     "output_type": "display_data"
    },
    {
     "data": {
      "text/html": [
       "<script>\n",
       "require([\"d3\"], function(d3) {\n",
       "    d3.select(\".usersvg #pixel_crossm9B\").attr(\"transform\", \"translate(4 7)\");\n",
       "});\n",
       "</script>\n"
      ]
     },
     "metadata": {},
     "output_type": "display_data"
    },
    {
     "data": {
      "text/html": [
       "<script>\n",
       "require([\"d3\"], function(d3) {\n",
       "    d3.select(\".usersvg #pixel_crossm9B\").attr(\"transform\", \"translate(4 6)\");\n",
       "});\n",
       "</script>\n"
      ]
     },
     "metadata": {},
     "output_type": "display_data"
    },
    {
     "data": {
      "text/html": [
       "<script>\n",
       "require([\"d3\"], function(d3) {\n",
       "    d3.select(\".usersvg #pixel_crossm9B\").attr(\"transform\", \"translate(5 6)\");\n",
       "});\n",
       "</script>\n"
      ]
     },
     "metadata": {},
     "output_type": "display_data"
    },
    {
     "data": {
      "text/html": [
       "<script>\n",
       "require([\"d3\"], function(d3) {\n",
       "    d3.select(\".usersvg #pixel_crossm9B\").attr(\"transform\", \"translate(5 5)\");\n",
       "});\n",
       "</script>\n"
      ]
     },
     "metadata": {},
     "output_type": "display_data"
    },
    {
     "data": {
      "text/html": [
       "<script>\n",
       "require([\"d3\"], function(d3) {\n",
       "    d3.select(\".usersvg #pixel_crossm9B\").attr(\"transform\", \"translate(6 5)\");\n",
       "});\n",
       "</script>\n"
      ]
     },
     "metadata": {},
     "output_type": "display_data"
    },
    {
     "data": {
      "text/html": [
       "<script>\n",
       "require([\"d3\"], function(d3) {\n",
       "    d3.select(\".usersvg #pixel_crossm9B\").attr(\"transform\", \"translate(7 5)\");\n",
       "});\n",
       "</script>\n"
      ]
     },
     "metadata": {},
     "output_type": "display_data"
    },
    {
     "data": {
      "text/html": [
       "<script>\n",
       "require([\"d3\"], function(d3) {\n",
       "    d3.select(\".usersvg #pixel_crossm9B\").attr(\"transform\", \"translate(8 5)\");\n",
       "});\n",
       "</script>\n"
      ]
     },
     "metadata": {},
     "output_type": "display_data"
    },
    {
     "data": {
      "text/html": [
       "<script>\n",
       "require([\"d3\"], function(d3) {\n",
       "    d3.select(\".usersvg #pixel_crossm9B\").attr(\"transform\", \"translate(8 4)\");\n",
       "});\n",
       "</script>\n"
      ]
     },
     "metadata": {},
     "output_type": "display_data"
    },
    {
     "data": {
      "text/html": [
       "<script>\n",
       "require([\"d3\"], function(d3) {\n",
       "    d3.select(\".usersvg #pixel_crossm9B\").attr(\"transform\", \"translate(9 4)\");\n",
       "});\n",
       "</script>\n"
      ]
     },
     "metadata": {},
     "output_type": "display_data"
    },
    {
     "data": {
      "text/html": [
       "<script>\n",
       "require([\"d3\"], function(d3) {\n",
       "    d3.select(\".usersvg #pixel_crossm9B\").attr(\"transform\", \"translate(9 3)\");\n",
       "});\n",
       "</script>\n"
      ]
     },
     "metadata": {},
     "output_type": "display_data"
    },
    {
     "data": {
      "text/html": [
       "<script>\n",
       "require([\"d3\"], function(d3) {\n",
       "    d3.select(\".usersvg #pixel_crossm9B\").attr(\"transform\", \"translate(10 3)\");\n",
       "});\n",
       "</script>\n"
      ]
     },
     "metadata": {},
     "output_type": "display_data"
    },
    {
     "data": {
      "text/html": [
       "<script>\n",
       "require([\"d3\"], function(d3) {\n",
       "    d3.select(\".usersvg #pixel_crossm9B\").attr(\"transform\", \"translate(11 3)\");\n",
       "});\n",
       "</script>\n"
      ]
     },
     "metadata": {},
     "output_type": "display_data"
    },
    {
     "data": {
      "text/html": [
       "<script>\n",
       "require([\"d3\"], function(d3) {\n",
       "    d3.select(\".usersvg #pixel_crossm9B\").attr(\"transform\", \"translate(11 2)\");\n",
       "});\n",
       "</script>\n"
      ]
     },
     "metadata": {},
     "output_type": "display_data"
    },
    {
     "data": {
      "text/html": [
       "<script>\n",
       "require([\"d3\"], function(d3) {\n",
       "    d3.select(\".usersvg #pixel_crossm9B\").attr(\"transform\", \"translate(11 3)\");\n",
       "});\n",
       "</script>\n"
      ]
     },
     "metadata": {},
     "output_type": "display_data"
    },
    {
     "data": {
      "text/html": [
       "<script>\n",
       "require([\"d3\"], function(d3) {\n",
       "    d3.select(\".usersvg #pixel_crossm9B\").attr(\"transform\", \"translate(11 2)\");\n",
       "});\n",
       "</script>\n"
      ]
     },
     "metadata": {},
     "output_type": "display_data"
    },
    {
     "data": {
      "text/html": [
       "<script>\n",
       "require([\"d3\"], function(d3) {\n",
       "    d3.select(\".usersvg #pixel_crossm9B\").attr(\"transform\", \"translate(11 1)\");\n",
       "});\n",
       "</script>\n"
      ]
     },
     "metadata": {},
     "output_type": "display_data"
    },
    {
     "data": {
      "text/html": [
       "<script>\n",
       "require([\"d3\"], function(d3) {\n",
       "    d3.select(\".usersvg #pixel_crossm9B\").attr(\"transform\", \"translate(11 0)\");\n",
       "});\n",
       "</script>\n"
      ]
     },
     "metadata": {},
     "output_type": "display_data"
    }
   ],
   "source": [
    "racer = add_pixel_cross(rtcanvas2, 17, 4, \"blue\")\n",
    "s, r, a = episode(agent, right_turn, [13, 3])\n",
    "for x in s\n",
    "    translate_element(racer, x...)\n",
    "    sleep(0.1)\n",
    "end"
   ]
  },
  {
   "cell_type": "code",
   "execution_count": 12,
   "metadata": {
    "collapsed": false
   },
   "outputs": [
    {
     "ename": "LoadError",
     "evalue": "\u001b[91mUndefVarError: Q not defined\u001b[39m",
     "output_type": "error",
     "traceback": [
      "\u001b[91mUndefVarError: Q not defined\u001b[39m",
      ""
     ]
    }
   ],
   "source": [
    "Q"
   ]
  },
  {
   "cell_type": "code",
   "execution_count": null,
   "metadata": {
    "collapsed": false
   },
   "outputs": [],
   "source": [
    "rtcanvas2 = create_canvas(size(colour_array)..., 400, 400)\n",
    "add_pixels(rtcanvas2, colour_array)"
   ]
  },
  {
   "cell_type": "code",
   "execution_count": null,
   "metadata": {
    "collapsed": true
   },
   "outputs": [],
   "source": []
  }
 ],
 "metadata": {
  "kernelspec": {
   "display_name": "Julia 0.6.0-pre.alpha",
   "language": "julia",
   "name": "julia-0.6"
  },
  "language_info": {
   "file_extension": ".jl",
   "mimetype": "application/julia",
   "name": "julia",
   "version": "0.6.0"
  }
 },
 "nbformat": 4,
 "nbformat_minor": 1
}
